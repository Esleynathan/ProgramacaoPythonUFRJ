{
  "cells": [
    {
      "cell_type": "markdown",
      "source": [
        "# Aula 4: Operadores e Estruturas Condicionais\n",
        "\n",
        "Nesta aula, vamos explorar os seguintes tópicos em Python:\n",
        "\n",
        "- Operadores de comparação\n",
        "- Operadores lógicos\n",
        "- Estruturas condicionais: If, Else, Elif\n",
        "\n",
        "Esses conceitos são fundamentais para a programação e permitem que você escreva códigos baseados em condições específicas capazes de tomar decisões."
      ],
      "metadata": {
        "noteable": {
          "cell_type": "markdown"
        },
        "id": "9f124773-71b2-4b1b-b9ce-546e9c260e7c"
      },
      "id": "9f124773-71b2-4b1b-b9ce-546e9c260e7c"
    },
    {
      "cell_type": "markdown",
      "source": [
        "## Operadores de Comparação\n",
        "\n",
        "Os operadores de comparação são usados para comparar dois valores. Aqui estão os operadores de comparação em Python:\n",
        "\n",
        "- `==`: Igual a\n",
        "- `!=`: Diferente de\n",
        "- `<`: Menor que\n",
        "- `>`: Maior que\n",
        "- `<=`: Menor ou igual a\n",
        "- `>=`: Maior ou igual a\n",
        "\n",
        "Vamos ver alguns exemplos:"
      ],
      "metadata": {
        "noteable": {
          "cell_type": "markdown"
        },
        "id": "a26f4583-adca-4912-896f-8f63483606b9"
      },
      "id": "a26f4583-adca-4912-896f-8f63483606b9"
    },
    {
      "cell_type": "code",
      "source": [
        "# Exemplos de operadores de comparação\n",
        "\n",
        "print('14 == 14:', 14 == 14)  # Igual a"
      ],
      "outputs": [],
      "execution_count": null,
      "metadata": {
        "noteable": {
          "cell_type": "code"
        },
        "id": "b8f40d14-15f6-4de2-9a68-6f0c9bf6ed31"
      },
      "id": "b8f40d14-15f6-4de2-9a68-6f0c9bf6ed31"
    },
    {
      "cell_type": "code",
      "source": [
        "print('5 != 5:', 5 != 5)  # Diferente de"
      ],
      "metadata": {
        "id": "-6wfm4YCIJnU"
      },
      "id": "-6wfm4YCIJnU",
      "execution_count": null,
      "outputs": []
    },
    {
      "cell_type": "code",
      "source": [
        "print('1.5 < 5:', 1.5 < 5)    # Menor que"
      ],
      "metadata": {
        "id": "a8nY2L7nILit"
      },
      "id": "a8nY2L7nILit",
      "execution_count": null,
      "outputs": []
    },
    {
      "cell_type": "code",
      "source": [
        "print('10 > 3:', 10 > 3)    # Maior que"
      ],
      "metadata": {
        "id": "FCvfr2V_INUL"
      },
      "id": "FCvfr2V_INUL",
      "execution_count": null,
      "outputs": []
    },
    {
      "cell_type": "code",
      "source": [
        "print('3 <= 3:', 3 <= 3)  # Menor ou igual a"
      ],
      "metadata": {
        "id": "3_Nk40sLIO2F"
      },
      "id": "3_Nk40sLIO2F",
      "execution_count": null,
      "outputs": []
    },
    {
      "cell_type": "code",
      "source": [
        "print('5 >= 6:', 5 >= 6)  # Maior ou igual a"
      ],
      "metadata": {
        "id": "j1_cDWf7IQeM"
      },
      "id": "j1_cDWf7IQeM",
      "execution_count": null,
      "outputs": []
    },
    {
      "cell_type": "markdown",
      "source": [
        "#### Exercícios sobre Operadores de Comparação\n",
        "Agora que aprendemos sobre operadores de comparação, vamos praticar com alguns exercícios. Os exercícios estão organizados em ordem crescente de dificuldade."
      ],
      "metadata": {
        "id": "ISoepi8HKHHy"
      },
      "id": "ISoepi8HKHHy"
    },
    {
      "cell_type": "markdown",
      "source": [
        "1. Verifique se 5 é maior que 3."
      ],
      "metadata": {
        "id": "evNzyVmxKPMz"
      },
      "id": "evNzyVmxKPMz"
    },
    {
      "cell_type": "code",
      "source": [
        "# @title Resolução 1\n",
        "5>=3"
      ],
      "metadata": {
        "id": "O8iNNAuiMOUp",
        "cellView": "form"
      },
      "id": "O8iNNAuiMOUp",
      "execution_count": null,
      "outputs": []
    },
    {
      "cell_type": "markdown",
      "source": [
        "2.\n",
        "Verifique se 10 é igual a 10."
      ],
      "metadata": {
        "id": "mr1Yda88KUOa"
      },
      "id": "mr1Yda88KUOa"
    },
    {
      "cell_type": "code",
      "source": [
        "# @title Resolução 2\n",
        "\n",
        "10==10"
      ],
      "metadata": {
        "id": "wHOqZiTUMeTI",
        "cellView": "form"
      },
      "id": "wHOqZiTUMeTI",
      "execution_count": null,
      "outputs": []
    },
    {
      "cell_type": "markdown",
      "source": [
        "3. Dado duas variáveis a = 10 e b = 20, verifique se a é menor que b."
      ],
      "metadata": {
        "id": "zIytJNDxKC5U"
      },
      "id": "zIytJNDxKC5U"
    },
    {
      "cell_type": "code",
      "source": [
        "# @title Resolução 3\n",
        "\n",
        "a,b = 10,20\n",
        "a<b"
      ],
      "metadata": {
        "id": "TOJssn9BMgCo",
        "cellView": "form"
      },
      "id": "TOJssn9BMgCo",
      "execution_count": null,
      "outputs": []
    },
    {
      "cell_type": "markdown",
      "source": [
        "4.\n",
        "Dado duas variáveis x = 25 e y = 30, verifique se x não é igual a y."
      ],
      "metadata": {
        "id": "KwzLTROoKr05"
      },
      "id": "KwzLTROoKr05"
    },
    {
      "cell_type": "code",
      "source": [
        "# @title Resolução 4\n",
        "\n",
        "x, y = 25,30\n",
        "x!=30"
      ],
      "metadata": {
        "id": "xZj5iiAAMn3R",
        "cellView": "form"
      },
      "id": "xZj5iiAAMn3R",
      "execution_count": null,
      "outputs": []
    },
    {
      "cell_type": "markdown",
      "source": [
        "5. Dado três variáveis a = 5, b = 10 e c = 15, verifique se a é menor que b e b é menor que c."
      ],
      "metadata": {
        "id": "mMsfw-9mKxMS"
      },
      "id": "mMsfw-9mKxMS"
    },
    {
      "cell_type": "code",
      "source": [
        "# @title Resolução 5\n",
        "\n",
        "a=5\n",
        "b=10\n",
        "c=15\n",
        "print(a<b)\n",
        "print(b<c)"
      ],
      "metadata": {
        "id": "OxkMppvFMvgP",
        "cellView": "form"
      },
      "id": "OxkMppvFMvgP",
      "execution_count": null,
      "outputs": []
    },
    {
      "cell_type": "markdown",
      "source": [
        "6. Dado três variáveis x = 10, y = 10 e z = 20, verifique se x é igual a y e y é diferente de z."
      ],
      "metadata": {
        "id": "6tmZWwaAK196"
      },
      "id": "6tmZWwaAK196"
    },
    {
      "cell_type": "code",
      "source": [
        "# @title Resolução 6\n",
        "\n",
        "x,y,z=10,10,20\n",
        "print(x==y)\n",
        "print(y!=z)"
      ],
      "metadata": {
        "id": "cAOUoj2BNCwI",
        "cellView": "form"
      },
      "id": "cAOUoj2BNCwI",
      "execution_count": null,
      "outputs": []
    },
    {
      "cell_type": "markdown",
      "source": [
        "7. Dado uma variável num = 50, escreva uma condição que verifica se num está no intervalo de 0 a 100."
      ],
      "metadata": {
        "id": "hQSInu5oK5NT"
      },
      "id": "hQSInu5oK5NT"
    },
    {
      "cell_type": "code",
      "source": [
        "# @title Resolução 7\n",
        "\n",
        "num=50\n",
        "0<num<100"
      ],
      "metadata": {
        "id": "QDwgyuUhNRtf",
        "cellView": "form"
      },
      "id": "QDwgyuUhNRtf",
      "execution_count": null,
      "outputs": []
    },
    {
      "cell_type": "markdown",
      "source": [
        "## Operadores Lógicos\n",
        "\n",
        "Os operadores lógicos são usados para combinar declarações condicionais:\n",
        "\n",
        "- `and`: Retorna True se ambas as declarações forem verdadeiras\n",
        "- `or`: Retorna True se uma das declarações for verdadeira\n",
        "- `not`: Inverte o resultado, retorna False se o resultado for verdadeiro\n",
        "\n",
        "Vamos ver alguns exemplos:"
      ],
      "metadata": {
        "noteable": {
          "cell_type": "markdown"
        },
        "id": "794b789d-39e4-4c06-829b-c46c3fd52766"
      },
      "id": "794b789d-39e4-4c06-829b-c46c3fd52766"
    },
    {
      "cell_type": "code",
      "source": [
        "# Exemplos de operadores lógicos\n",
        "\n",
        "print('True and True:', True and True)   # and"
      ],
      "outputs": [],
      "execution_count": null,
      "metadata": {
        "noteable": {
          "cell_type": "code"
        },
        "id": "b50eaa45-377d-4fb2-bd0b-92bfe88fb360"
      },
      "id": "b50eaa45-377d-4fb2-bd0b-92bfe88fb360"
    },
    {
      "cell_type": "code",
      "source": [
        "print('True or False:', True or False)   # or"
      ],
      "metadata": {
        "id": "luTb-ZseNjl_"
      },
      "id": "luTb-ZseNjl_",
      "execution_count": null,
      "outputs": []
    },
    {
      "cell_type": "code",
      "source": [
        "print('not True:', not True)             # not"
      ],
      "metadata": {
        "id": "LSIFiWYWNlV_"
      },
      "id": "LSIFiWYWNlV_",
      "execution_count": null,
      "outputs": []
    },
    {
      "cell_type": "markdown",
      "source": [
        "Duas peculiaridades em Python:"
      ],
      "metadata": {
        "id": "5IOG7zbqjonQ"
      },
      "id": "5IOG7zbqjonQ"
    },
    {
      "cell_type": "code",
      "source": [
        "print(10 and 7)"
      ],
      "metadata": {
        "id": "Xjr0MlBVjJIE"
      },
      "id": "Xjr0MlBVjJIE",
      "execution_count": null,
      "outputs": []
    },
    {
      "cell_type": "code",
      "source": [
        "print(10 or 7)"
      ],
      "metadata": {
        "id": "zGvMQOqukPLr"
      },
      "id": "zGvMQOqukPLr",
      "execution_count": null,
      "outputs": []
    },
    {
      "cell_type": "markdown",
      "source": [
        "Em Python, **o operador `and` é um operador lógico que retorna o primeiro valor falso que encontra ou o último valor se todos forem verdadeiros**.\n",
        "\n",
        "Quando usamos o operador `and` com números inteiros, Python interpreta qualquer número diferente de zero como `True` e o zero como `False`.\n",
        "\n",
        "Vamos ver como funciona o `10 and 7`:\n",
        "\n",
        "- Python avalia o primeiro número, `10`. Como `10` é diferente de zero\n",
        "- Python avalia o segundo número, `7`. Novamente, `7` é diferente de zero, que também é interpretado como `True`.\n",
        "- Como não foi encontrado nenhum valor `False`, ele retorna o último valor avaliado, que é `7`.\n",
        "\n",
        "Portanto, `10 and 7` retorna `7`.\n",
        "\n",
        "Isso pode ser um pouco confuso, já que em muitas outras linguagens de programação, o operador `and` retornaria um valor booleano (`True` ou `False`). **No entanto, em Python, o operador `and` retorna um dos valores originais. **\n",
        "\n",
        "De maneira semelhante, **o operador `or` em Python retorna o primeiro valor verdadeiro que encontra ou o último valor se todos forem falsos**."
      ],
      "metadata": {
        "id": "KwJDMYnQj5a9"
      },
      "id": "KwJDMYnQj5a9"
    },
    {
      "cell_type": "markdown",
      "source": [
        "Além dos operadores lógicos tradicionais `(and, or, not)`, Python oferece outros meios para realizar operações lógicas.\n",
        "\n",
        "Um exemplo disso são as funções internas `all()` e `any()`, que podem ser úteis para operações lógicas em listas ou outros iteráveis.\n",
        "\n",
        "* `all(iterable)`: Retorna `True` se todos os elementos do iterável são verdadeiros (ou se o iterável está vazio). É equivalente a usar o operador `and` entre todos os elementos.\n",
        "* `any(iterable)`: Retorna `True` se algum elemento do iterável é verdadeiro. Se o iterável estiver vazio, retorna `False`. É equivalente a usar o operador `or` entre todos os elementos."
      ],
      "metadata": {
        "id": "xCeu0i0_a9Fy"
      },
      "id": "xCeu0i0_a9Fy"
    },
    {
      "cell_type": "code",
      "source": [
        "# Lista de booleanos\n",
        "bool_list = [True, True, False, True]\n",
        "\n",
        "# all() retorna True se todos os elementos são verdadeiros\n",
        "print(\"all(bool_list):\", all(bool_list))\n",
        "\n",
        "# any() retorna True se qualquer elemento é verdadeiro\n",
        "print(\"any(bool_list):\", any(bool_list))\n"
      ],
      "metadata": {
        "id": "Mfr2QZAca8lb"
      },
      "id": "Mfr2QZAca8lb",
      "execution_count": null,
      "outputs": []
    },
    {
      "cell_type": "markdown",
      "source": [
        "As operações lógicas também podem ser expressas por meio de `operações de bits`, usando os operadores `&` (AND) e `|` (OR). No entanto, estas operações são aplicadas bit a bit e são mais comumente usadas em aplicações que lidam com números inteiros a nível de bits."
      ],
      "metadata": {
        "id": "ep4xR9-ob3Oc"
      },
      "id": "ep4xR9-ob3Oc"
    },
    {
      "cell_type": "code",
      "source": [
        "print(\"\\n---- Operadores de bits ----\")\n",
        "\n",
        "# Bitwise AND: True se ambos forem verdadeiros\n",
        "print(\"True & False:\", True & False)\n",
        "\n",
        "# Bitwise OR: True se qualquer um for verdadeiro\n",
        "print(\"True | False:\", True | False)\n"
      ],
      "metadata": {
        "id": "N_BYehReb2bu"
      },
      "id": "N_BYehReb2bu",
      "execution_count": null,
      "outputs": []
    },
    {
      "cell_type": "markdown",
      "source": [
        "Os operadores bit a bit do Python são usados para realizar cálculos bit a bit em números inteiros. Os inteiros são convertidos para o formato binário e, em seguida, as operações são executadas bit a bit, o que gerou o termo **operadores bit a bit**. Os operadores bit a bit do Python funcionam apenas com números inteiros e a saída final é retornada no formato decimal. Os operadores bit a bit do Python também são chamados de **operadores binários**.\n",
        "\n",
        "Vamos dar uma olhada nos principais operadores de bits em Python:\n",
        "\n",
        "* AND bit a bit (`&`): Compara cada bit de dois números. Se ambos os bits forem 1, o bit correspondente no resultado é definido como 1. Caso contrário, o resultado é 0.\n",
        "\n",
        "**Exemplo**: 10 & 7 em binário é 1010 & 0111 que resulta em 0010 (ou 2 em decimal).\n",
        "\n",
        "* OR bit a bit (`|`): Compara cada bit de dois números. Se pelo menos um dos bits for 1, o bit correspondente no resultado é definido como 1. Caso contrário, o resultado é 0.\n",
        "\n",
        "**Exemplo**: 10 | 7 em binário é 1010 | 0111 que resulta em 1111 (ou 15 em decimal)."
      ],
      "metadata": {
        "id": "eHfBFE0zd2C1"
      },
      "id": "eHfBFE0zd2C1"
    },
    {
      "cell_type": "code",
      "source": [
        "print(10 & 7)\n",
        "print(bin(10 & 7))  #1010\n",
        "print(bin(10 & 7)[2:]) #1111"
      ],
      "metadata": {
        "id": "8dahaBeLePoB"
      },
      "id": "8dahaBeLePoB",
      "execution_count": null,
      "outputs": []
    },
    {
      "cell_type": "code",
      "source": [
        "print(0 | 1)\n",
        "print(0 & 1)\n",
        "print(0 | 0)\n",
        "print(1 | 1)"
      ],
      "metadata": {
        "id": "N41dQ6_Am1AB"
      },
      "id": "N41dQ6_Am1AB",
      "execution_count": null,
      "outputs": []
    },
    {
      "cell_type": "markdown",
      "source": [
        "Em geral, sempre que você precisar manipular a representação binária de dados em nível de bit, provavelmente usará operadores bit a bit. No entanto, para muitas aplicações de programação de alto nível, você provavelmente não precisará usá-los. Alguns usos: algoritmos de criptografia e codificação, gráficos de processamento de imagens, otimização de desempenho de código, permissões de acessos em banco de dados."
      ],
      "metadata": {
        "id": "VAQ6gWDJhHPs"
      },
      "id": "VAQ6gWDJhHPs"
    },
    {
      "cell_type": "markdown",
      "source": [
        " se você está trabalhando com valores booleanos e lógica booleana, use os operadores lógicos `and` e `or`. Se você está trabalhando com números inteiros e quer fazer operações bit a bit, use os operadores bitwise `&` e `|`."
      ],
      "metadata": {
        "id": "zvmiy2EmoVsC"
      },
      "id": "zvmiy2EmoVsC"
    },
    {
      "cell_type": "markdown",
      "source": [
        "## Estruturas Condicionais: If, Else, Elif\n",
        "\n",
        "As estruturas condicionais `if`, `else` e `elif` são usadas em Python para tomada de decisão.\n",
        "\n",
        "- `if`: Uma instrução `if` é uma instrução de controle de fluxo que permite que o código seja executado se uma determinada condição for verdadeira.\n",
        "- `else`: A instrução `else` pega um bloco de código que será executado se as condições das instruções `if` e `elif` anteriores não forem verdadeiras.\n",
        "- `elif`: `elif` é a maneira de Python dizer \"se as condições anteriores não foram verdadeiras, então tente esta condição\".\n",
        "\n",
        "Vamos ver alguns exemplos:"
      ],
      "metadata": {
        "noteable": {
          "cell_type": "markdown"
        },
        "id": "4fe40d63-b0e1-475f-af95-feb687a5a014"
      },
      "id": "4fe40d63-b0e1-475f-af95-feb687a5a014"
    },
    {
      "cell_type": "code",
      "source": [
        "x = 10"
      ],
      "metadata": {
        "id": "abySnBC8Je9c"
      },
      "id": "abySnBC8Je9c",
      "execution_count": null,
      "outputs": []
    },
    {
      "cell_type": "markdown",
      "source": [
        "**if**: if é usado para testar uma condição específica. Se a condição for verdadeira, o bloco de código sob o if será executado. Se a condição for falsa, o bloco de código sob o if será ignorado."
      ],
      "metadata": {
        "id": "uax4uZzkqlom"
      },
      "id": "uax4uZzkqlom"
    },
    {
      "cell_type": "code",
      "source": [
        "# if\n",
        "if x > 0:\n",
        "    print('x é positivo')"
      ],
      "metadata": {
        "id": "jVaWLo7qJYOV"
      },
      "id": "jVaWLo7qJYOV",
      "execution_count": null,
      "outputs": []
    },
    {
      "cell_type": "code",
      "source": [
        "if 5 > 3:\n",
        "    print(\"5 é maior que 3\")"
      ],
      "metadata": {
        "id": "Npzy-EpRqsh3"
      },
      "id": "Npzy-EpRqsh3",
      "execution_count": null,
      "outputs": []
    },
    {
      "cell_type": "markdown",
      "source": [
        "**elif: elif** é uma abreviação de \"else if\". É usado para verificar múltiplas condições, uma após a outra. Se a condição em um bloco if ou elif anterior for falsa, Python passará para a condição em elif e verificará se ela é verdadeira. Se for verdadeira, o bloco de código sob esse elif será executado."
      ],
      "metadata": {
        "id": "Q6-MR5Mnq11F"
      },
      "id": "Q6-MR5Mnq11F"
    },
    {
      "cell_type": "code",
      "source": [
        "# if-elif\n",
        "if x < 0:\n",
        "    print('x é negativo')\n",
        "elif x > 0:\n",
        "    print('x é positivo')"
      ],
      "outputs": [],
      "execution_count": null,
      "metadata": {
        "noteable": {
          "cell_type": "code"
        },
        "id": "ca0bf2c1-b867-42d2-a120-a277232c37c3"
      },
      "id": "ca0bf2c1-b867-42d2-a120-a277232c37c3"
    },
    {
      "cell_type": "code",
      "source": [
        "if 5 < 3:\n",
        "    print(\"5 é menor que 3\")\n",
        "elif 5 > 3:\n",
        "    print(\"5 é maior que 3\")"
      ],
      "metadata": {
        "id": "WTGADqpWq6FS"
      },
      "id": "WTGADqpWq6FS",
      "execution_count": null,
      "outputs": []
    },
    {
      "cell_type": "markdown",
      "source": [
        "**else**: else é usado para capturar qualquer caso que não tenha sido capturado pelas condições if e elif anteriores. Se nenhuma das condições if ou elif for verdadeira, o bloco de código sob else será executado."
      ],
      "metadata": {
        "id": "hHY3Ua_5rUsL"
      },
      "id": "hHY3Ua_5rUsL"
    },
    {
      "cell_type": "code",
      "source": [
        "# if-elif-else\n",
        "if x < 0:\n",
        "    print('x é negativo')\n",
        "elif x > 0:\n",
        "    print('x é positivo')\n",
        "else:\n",
        "    print('x é zero')"
      ],
      "metadata": {
        "id": "0sni8yJWrMQW"
      },
      "id": "0sni8yJWrMQW",
      "execution_count": null,
      "outputs": []
    },
    {
      "cell_type": "code",
      "source": [
        "# if-else\n",
        "if x % 2 == 0:\n",
        "    print('x é par')\n",
        "else:\n",
        "    print('x é ímpar')"
      ],
      "metadata": {
        "id": "YnwXpqMhJaWU"
      },
      "id": "YnwXpqMhJaWU",
      "execution_count": null,
      "outputs": []
    },
    {
      "cell_type": "markdown",
      "source": [
        "Vamos verificar se um número é par..."
      ],
      "metadata": {
        "id": "R8bdlRz9gYNl"
      },
      "id": "R8bdlRz9gYNl"
    },
    {
      "cell_type": "code",
      "source": [
        "x=2"
      ],
      "metadata": {
        "id": "HBUObSTkgs5a"
      },
      "id": "HBUObSTkgs5a",
      "execution_count": null,
      "outputs": []
    },
    {
      "cell_type": "code",
      "metadata": {
        "id": "IUpX09ZGlrRf"
      },
      "source": [
        "if x % 2 == 0: # resto da divisão por 2 é 0?\n",
        "  print(\"Par\")\n",
        "  print(\"Uhuu\")\n",
        "print(\"Acabou!\")"
      ],
      "execution_count": null,
      "outputs": [],
      "id": "IUpX09ZGlrRf"
    },
    {
      "cell_type": "code",
      "source": [
        "if x % 2 == 0:\n",
        "  print(\"Par\")\n",
        "else:\n",
        "  print(\"Ímpar\")\n",
        "print(\"Acabou!\")"
      ],
      "metadata": {
        "id": "qbKXZJyrqvDS"
      },
      "execution_count": null,
      "outputs": [],
      "id": "qbKXZJyrqvDS"
    },
    {
      "cell_type": "markdown",
      "source": [
        "Um exemplo de consulta a uma lista"
      ],
      "metadata": {
        "id": "EUsG9tM0hvjI"
      },
      "id": "EUsG9tM0hvjI"
    },
    {
      "cell_type": "code",
      "source": [
        "alunos = [\"Ana\", \"Filipe\", \"Alfredo\", 'Cristiane', 'Jorge', 'Davi']"
      ],
      "metadata": {
        "id": "X6YXtqGBTLT9"
      },
      "execution_count": null,
      "outputs": [],
      "id": "X6YXtqGBTLT9"
    },
    {
      "cell_type": "code",
      "source": [
        "nome = input(\"Informe o nome do aluno: \")"
      ],
      "metadata": {
        "id": "nB_QO_u7r3-3"
      },
      "execution_count": null,
      "outputs": [],
      "id": "nB_QO_u7r3-3"
    },
    {
      "cell_type": "code",
      "source": [
        "if nome in alunos:\n",
        "  print(nome, \"está matriculado/a\")\n",
        "\n",
        "if nome not in alunos:\n",
        "  print(nome, \"não está matriculado/a\")"
      ],
      "metadata": {
        "id": "hgRirV9-TRL-"
      },
      "execution_count": null,
      "outputs": [],
      "id": "hgRirV9-TRL-"
    },
    {
      "cell_type": "markdown",
      "metadata": {
        "id": "LQ--KmLDJbV1"
      },
      "source": [
        "Execução alternativa (e bem melhor)"
      ],
      "id": "LQ--KmLDJbV1"
    },
    {
      "cell_type": "code",
      "source": [
        "nome = \"Nina\"           #input(\"Informe o nome do aluno: \")"
      ],
      "metadata": {
        "id": "uPC6C9V1sDDZ"
      },
      "execution_count": null,
      "outputs": [],
      "id": "uPC6C9V1sDDZ"
    },
    {
      "cell_type": "code",
      "metadata": {
        "id": "SilQqvbyJbV1"
      },
      "source": [
        "if nome in alunos:\n",
        "  print(nome, \"está matriculado\")\n",
        "else:\n",
        "  print(nome, \"não está matriculado/a\")"
      ],
      "execution_count": null,
      "outputs": [],
      "id": "SilQqvbyJbV1"
    },
    {
      "cell_type": "markdown",
      "source": [
        "Um exemplo com intervalos"
      ],
      "metadata": {
        "id": "7RCelQceh5vo"
      },
      "id": "7RCelQceh5vo"
    },
    {
      "cell_type": "code",
      "source": [
        "x = 8\n",
        "\n",
        "if x < 20 or x > 40:\n",
        "  print('Outside')\n",
        "else:\n",
        "  print('Inside')"
      ],
      "metadata": {
        "id": "x8-44eb5NLyF"
      },
      "execution_count": null,
      "outputs": [],
      "id": "x8-44eb5NLyF"
    },
    {
      "cell_type": "code",
      "source": [
        "x=21\n",
        "\n",
        "'outside' if (x < 20 or x > 40) else 'inside'"
      ],
      "metadata": {
        "id": "KbruimZ4sxvQ"
      },
      "execution_count": null,
      "outputs": [],
      "id": "KbruimZ4sxvQ"
    },
    {
      "cell_type": "markdown",
      "source": [
        "Mais exemplos com if-elif-else"
      ],
      "metadata": {
        "id": "PBFieZMZs5Q9"
      },
      "id": "PBFieZMZs5Q9"
    },
    {
      "cell_type": "code",
      "source": [
        "mes = int(input(\"Informe um mês (1, 12): \"))"
      ],
      "metadata": {
        "id": "43VK4XSX7xNx"
      },
      "execution_count": null,
      "outputs": [],
      "id": "43VK4XSX7xNx"
    },
    {
      "cell_type": "code",
      "metadata": {
        "id": "vjEh5VBbJbV2"
      },
      "source": [
        "if mes == 1:\n",
        "  print(\"Janeiro\")\n",
        "elif mes == 2:\n",
        "  print(\"Fevereiro\")\n",
        "elif mes == 3:\n",
        "  print(\"Março\")\n",
        "elif mes == 4:\n",
        "  print(\"Abril\")\n",
        "elif mes == 5:\n",
        "  print(\"Maio\")\n",
        "elif mes == 12:\n",
        "  print(\"Dezembro\")\n",
        "else:\n",
        "  print(\"Mês inválido\")"
      ],
      "execution_count": null,
      "outputs": [],
      "id": "vjEh5VBbJbV2"
    },
    {
      "cell_type": "code",
      "source": [
        "x=4\n",
        "\n",
        "\n",
        "if x < 0:\n",
        "    print(\"x é negativo\")\n",
        "elif x % 2 == 1:     # %: operador de módulo ou operador de resto\n",
        "                     # para esta condição ser VERDADEIRA, o resultado de x % 2 precisa ser 1 (ou True),\n",
        "                     # ou seja, o resto da divisão é 1\n",
        "    print(\"x é positivo e ímpar\")\n",
        "else:\n",
        "    print(\"x é par e não-negativo\")"
      ],
      "metadata": {
        "id": "IvVnyzzKAalu"
      },
      "execution_count": null,
      "outputs": [],
      "id": "IvVnyzzKAalu"
    },
    {
      "cell_type": "markdown",
      "source": [
        "#### IF Ternário\n",
        "É possível testar valores em Python com apenas uma linha de código com os chamados **if-ternários**, ou **condições ternárias**, ou **operadores ternários**"
      ],
      "metadata": {
        "id": "J3dPxJjMaRuX"
      },
      "id": "J3dPxJjMaRuX"
    },
    {
      "cell_type": "markdown",
      "source": [
        "Sintaxe\n",
        "\n",
        "`valor_se_verdadeiro if condicao else valor_se_falso`\n"
      ],
      "metadata": {
        "id": "FfMxWhdArnGO"
      },
      "id": "FfMxWhdArnGO"
    },
    {
      "cell_type": "code",
      "source": [
        "x = 10\n",
        "y = 20\n",
        "\n",
        "maior = x if x > y else y\n",
        "print(maior)"
      ],
      "metadata": {
        "id": "Za6VpOx9ruyc"
      },
      "id": "Za6VpOx9ruyc",
      "execution_count": null,
      "outputs": []
    },
    {
      "cell_type": "markdown",
      "source": [
        "A expressão ternária `if` pode tornar seu código mais conciso, mas também pode torná-lo mais difícil de ler se usada excessivamente ou para condições complexas. Portanto, use-a com moderação."
      ],
      "metadata": {
        "id": "-T6OwNzWsELp"
      },
      "id": "-T6OwNzWsELp"
    },
    {
      "cell_type": "code",
      "source": [
        "nota = 3\n",
        "\n",
        "aprovacao = 'aprovado' if nota > 5 else 'reprovado'\n",
        "\n",
        "print(aprovacao)"
      ],
      "metadata": {
        "id": "6VV4TVMWr26h"
      },
      "execution_count": null,
      "outputs": [],
      "id": "6VV4TVMWr26h"
    },
    {
      "cell_type": "code",
      "source": [
        "temperatura = 36\n",
        "\n",
        "resultado = 'Estado Febril' if temperatura > 37.8 else 'sem febre'\n",
        "\n",
        "print(resultado)"
      ],
      "metadata": {
        "id": "vrBzHdtYa34v"
      },
      "execution_count": null,
      "outputs": [],
      "id": "vrBzHdtYa34v"
    },
    {
      "cell_type": "code",
      "source": [
        "valor = 2\n",
        "\n",
        "msg = \"Par\" if valor % 2 == 0 else \"Ímpar\" #lembrando -> % é o resto da divisão\n",
        "\n",
        "print(msg)"
      ],
      "metadata": {
        "id": "DargpNcvhH3v"
      },
      "execution_count": null,
      "outputs": [],
      "id": "DargpNcvhH3v"
    },
    {
      "cell_type": "code",
      "source": [
        "valor = 1\n",
        "\n",
        "msg = \"Ímpar\" if valor % 2 == 1 else \"Par\" #lembrando -> % é o resto da divisão\n",
        "\n",
        "print(msg)"
      ],
      "metadata": {
        "id": "uLOd9B7XuHgq"
      },
      "id": "uLOd9B7XuHgq",
      "execution_count": null,
      "outputs": []
    },
    {
      "cell_type": "markdown",
      "metadata": {
        "id": "V2amm_WAJbV2"
      },
      "source": [
        "#### Condicionais aninhados"
      ],
      "id": "V2amm_WAJbV2"
    },
    {
      "cell_type": "markdown",
      "source": [
        "As declarações condicionais aninhadas ocorrem quando você tem uma declaração `if`, `elif` ou `else` dentro de outra declaração `if`, `elif` ou `else`. Essa é uma maneira comum de testar várias condições e executar um bloco de código específico se elas forem atendidas."
      ],
      "metadata": {
        "id": "lNFs6F8UsfJB"
      },
      "id": "lNFs6F8UsfJB"
    },
    {
      "cell_type": "code",
      "source": [
        "print('1. Café expresso')\n",
        "print('2. Café Coado')\n",
        "\n",
        "resposta = int(input('Qual tipo de café você prefere? ') )\n",
        "\n",
        "if resposta == 1:\n",
        "    print('Você gosta de sabores fortes!')\n",
        "else:\n",
        "    if resposta == 2:\n",
        "        print('Você gosta de sabores mais suaves...')\n",
        "    else:\n",
        "        print('Certamente você não gosta de café ')\n"
      ],
      "metadata": {
        "id": "vRMrqCQCjEEZ"
      },
      "execution_count": null,
      "outputs": [],
      "id": "vRMrqCQCjEEZ"
    },
    {
      "cell_type": "markdown",
      "source": [
        "#### IF - ELIF - ELSE"
      ],
      "metadata": {
        "id": "cUyRaGx8lo4C"
      },
      "id": "cUyRaGx8lo4C"
    },
    {
      "cell_type": "markdown",
      "source": [
        "#### Exercícios"
      ],
      "metadata": {
        "id": "kF_7kED2RJJN"
      },
      "id": "kF_7kED2RJJN"
    },
    {
      "cell_type": "markdown",
      "source": [
        "1. Se a temperatura for maior que 30 graus, imprima \"Muito quente!\". Se a temperatura for menor que 10 graus, imprima \"Muito frio!\""
      ],
      "metadata": {
        "id": "9s2g4aP2RMnN"
      },
      "id": "9s2g4aP2RMnN"
    },
    {
      "cell_type": "code",
      "source": [
        "# @title Resolução 1\n",
        "\n",
        "temperatura = 35\n",
        "if temperatura > 30:\n",
        "    print(\"Muito quente!\")\n",
        "if temperatura < 10:\n",
        "    print(\"Muito frio!\")"
      ],
      "metadata": {
        "id": "0p4NrRSLRQaE",
        "cellView": "form"
      },
      "id": "0p4NrRSLRQaE",
      "execution_count": null,
      "outputs": []
    },
    {
      "cell_type": "markdown",
      "source": [
        "2. Se a velocidade de um carro for maior que 100 km/h, imprima \"Muito rápido!\". Se não, imprima \"Velocidade segura\"."
      ],
      "metadata": {
        "id": "jz1qw_hORSY2"
      },
      "id": "jz1qw_hORSY2"
    },
    {
      "cell_type": "code",
      "source": [
        "# @title Resolução 2\n",
        "velocidade_carro = 100\n",
        "if velocidade_carro > 100:\n",
        "  print(\"Muito rádido!\")\n",
        "else:\n",
        "  print(\"Velocidade segura.\")"
      ],
      "metadata": {
        "id": "X7rFDWCWRYbd",
        "cellView": "form"
      },
      "id": "X7rFDWCWRYbd",
      "execution_count": null,
      "outputs": []
    },
    {
      "cell_type": "markdown",
      "source": [
        "3. Se a umidade do solo for menor que 20%, imprima \"Necessário regar\". Se a umidade for maior que 80%, imprima \"Solo muito úmido\". Caso contrário, imprima \"Umidade do solo adequada\"."
      ],
      "metadata": {
        "id": "GHF_OwcDR0_k"
      },
      "id": "GHF_OwcDR0_k"
    },
    {
      "cell_type": "code",
      "source": [
        "# @title Resolução 3\n",
        "umidade = 90\n",
        "if umidade < 20:\n",
        "  print(\"necessário regar\")\n",
        "elif umidade > 80:\n",
        "  print(\"Solo muito úmido\")\n",
        "else:\n",
        "  print(\"Umidade adequada\")"
      ],
      "metadata": {
        "id": "wvfgWI22R0rt",
        "cellView": "form"
      },
      "id": "wvfgWI22R0rt",
      "execution_count": null,
      "outputs": []
    },
    {
      "cell_type": "markdown",
      "source": [
        " 4. Se a temperatura for maior que 30 graus, aumente o nível do ar-condicionado em 1 grau (variável ac_level). Se a temperatura for menor que 10 graus, diminua o o nível do ar-condicionado em 1 grau."
      ],
      "metadata": {
        "id": "p_PUqBrLTD1M"
      },
      "id": "p_PUqBrLTD1M"
    },
    {
      "cell_type": "code",
      "source": [
        "# @title Resolução 4\n",
        "t=20\n",
        "ac_level=20\n",
        "\n",
        "if t > 30:\n",
        "  ac_level = ac_level + 1\n",
        "elif t < 10:\n",
        "  ac_level = ac_level - 1\n",
        "print(ac_level)"
      ],
      "metadata": {
        "id": "sGOee4STTcjS",
        "cellView": "form"
      },
      "id": "sGOee4STTcjS",
      "execution_count": null,
      "outputs": []
    },
    {
      "cell_type": "markdown",
      "source": [
        "5. Se a velocidade de um carro for maior que 100 km/h, adicione a string \"Muito rápido!\" à lista alertas. Se a velocidade for menor que 30 km/h, adicione \"Muito lento!\" à lista alertas."
      ],
      "metadata": {
        "id": "4sDD0_lDUkUZ"
      },
      "id": "4sDD0_lDUkUZ"
    },
    {
      "cell_type": "code",
      "source": [
        "# @title Resolução 5\n",
        "alertas = []\n",
        "v=20\n",
        "\n",
        "if v > 100:\n",
        "  alertas.append(\"Muito rápido!\")\n",
        "elif v < 30:\n",
        "  alertas.append(\"Muito lento!\")\n",
        "\n",
        "print(alertas)"
      ],
      "metadata": {
        "id": "bEBBbM97Ur1q",
        "cellView": "form"
      },
      "id": "bEBBbM97Ur1q",
      "execution_count": null,
      "outputs": []
    },
    {
      "cell_type": "markdown",
      "source": [
        "6. Se um usuário estiver logado e o tipo de conta for \"Admin\", adicione a string \"Admin logado\" à lista system_logs (registros do sistema). Se um usuário estiver logado e o tipo de conta for \"User\", adicione \"Usuário logado\" à lista system_logs. Caso não seja um Admin ou User, adicione \"Visitante logado\" à lista."
      ],
      "metadata": {
        "id": "Nm5Zgb5fVm16"
      },
      "id": "Nm5Zgb5fVm16"
    },
    {
      "cell_type": "code",
      "source": [
        "# @title Resolução 6\n",
        "system_logs = []\n",
        "\n",
        "user = input(\"Qual o tipo de usuário logado? (digite 'Admin' ou 'User') \")\n",
        "\n",
        "\n",
        "if user == \"Admin\":\n",
        "  system_logs.append(\"Admin logado\")\n",
        "elif user == \"User\":\n",
        "  system_logs.append(\"User logado\")\n",
        "elif user != \"Admin\" or user!= \"User\":\n",
        "  system_logs.append(\"Visitante logado\")\n",
        "else:\n",
        "  print(\"nenhum usuário logado\")\n",
        "\n",
        "print(system_logs)"
      ],
      "metadata": {
        "cellView": "form",
        "id": "clftb7Mr0ef9"
      },
      "execution_count": null,
      "outputs": [],
      "id": "clftb7Mr0ef9"
    },
    {
      "cell_type": "markdown",
      "source": [
        "7. Temos duas variáveis, `m` e `n`, que representam dois números que queremos comparar. Determine a relação entre esses dois números:\n",
        " * Se o valor de `m` for maior do que o valor de `n`, o programa deve exibir a mensagem 'm é maior do que n'.\n",
        " * No caso de `m` e `n` serem iguais, o programa deve informar 'm é igual a n'. * Se nenhuma dessas condições for atendida, ou seja, se o valor de `m` for menor do que o valor de `n`, o programa deve exibir 'm é menor do que n'.\""
      ],
      "metadata": {
        "id": "ARSRl4qLcstQ"
      },
      "id": "ARSRl4qLcstQ"
    },
    {
      "cell_type": "code",
      "source": [
        "# @title Resolução 7\n",
        "m = 25\n",
        "n = 25\n",
        "\n",
        "if m > n:\n",
        "    print('m é maior do que n')\n",
        "elif m == n:\n",
        "    print('m é igual a n')\n",
        "else:\n",
        "    print('m é menor do que n')"
      ],
      "metadata": {
        "id": "FWt0WHSjYJTP",
        "cellView": "form"
      },
      "id": "FWt0WHSjYJTP",
      "execution_count": null,
      "outputs": []
    },
    {
      "cell_type": "markdown",
      "source": [
        "8. **If-else Aninhado**\n",
        "\n",
        "Considere uma variável z que representa um número que queremos analisar. Precisamos determinar a qual intervalo esse número pertence.\n",
        "* Se o valor de z for menor que 0, o programa deve exibir a mensagem 'z é menor do que 0'.\n",
        "* Se z for menor que 5, o programa deve exibir 'z é menor do que 5'.\n",
        "* Se z não for menor que 0 nem menor que 5, isso significa que z é maior ou igual a 5. Neste caso, o programa deve exibir 'z é maior do que 5'."
      ],
      "metadata": {
        "id": "--g2l1XXd3Ki"
      },
      "id": "--g2l1XXd3Ki"
    },
    {
      "cell_type": "code",
      "source": [
        "# @title Resolução 8\n",
        "z=10\n",
        "if z < 0:\n",
        "  print(\"z é menor do que 0\")\n",
        "else:\n",
        "  if z < 5:\n",
        "    print(\"z é menor do que 5\")\n",
        "  else:\n",
        "    print(\"z é maior do que 5\")"
      ],
      "metadata": {
        "id": "gxkJZkjGeOqS",
        "cellView": "form"
      },
      "id": "gxkJZkjGeOqS",
      "execution_count": null,
      "outputs": []
    }
  ],
  "metadata": {
    "noteable-chatgpt": {
      "create_notebook": {
        "openai_conversation_id": "c4c3e9dd-6ec4-57c4-92bb-8326d05dab43",
        "openai_ephemeral_user_id": "ccd002cd-9231-5f61-a851-67817b690736",
        "openai_subdivision1_iso_code": "BR-RJ"
      }
    },
    "kernel_info": {
      "name": "python3"
    },
    "noteable": {
      "last_transaction_id": "2c7ccf36-fe02-4544-95b9-69cbbb34b4fd",
      "last_delta_id": "ed6006ca-78f0-4263-a5e5-eaf9864a7575"
    },
    "kernelspec": {
      "display_name": "Python 3.9",
      "language": "python",
      "name": "python3"
    },
    "selected_hardware_size": "small",
    "nteract": {
      "version": "noteable@2.9.0"
    },
    "colab": {
      "provenance": []
    }
  },
  "nbformat": 4,
  "nbformat_minor": 5
}