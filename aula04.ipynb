{
  "cells": [
    {
      "cell_type": "markdown",
      "id": "9f124773-71b2-4b1b-b9ce-546e9c260e7c",
      "metadata": {
        "id": "9f124773-71b2-4b1b-b9ce-546e9c260e7c",
        "noteable": {
          "cell_type": "markdown"
        }
      },
      "source": [
        "# Aula 4: Operadores e Estruturas Condicionais\n",
        "\n",
        "Nesta aula, vamos explorar os seguintes tópicos em Python:\n",
        "\n",
        "- Operadores de comparação\n",
        "- Operadores lógicos\n",
        "- Estruturas condicionais: If, Else, Elif\n",
        "\n",
        "Esses conceitos são fundamentais para a programação e permitem que você escreva códigos baseados em condições específicas capazes de tomar decisões."
      ]
    },
    {
      "cell_type": "markdown",
      "id": "a26f4583-adca-4912-896f-8f63483606b9",
      "metadata": {
        "id": "a26f4583-adca-4912-896f-8f63483606b9",
        "noteable": {
          "cell_type": "markdown"
        }
      },
      "source": [
        "## Operadores de Comparação\n",
        "\n",
        "Os operadores de comparação são usados para comparar dois valores. Aqui estão os operadores de comparação em Python:\n",
        "\n",
        "- `==`: Igual a\n",
        "- `!=`: Diferente de\n",
        "- `<`: Menor que\n",
        "- `>`: Maior que\n",
        "- `<=`: Menor ou igual a\n",
        "- `>=`: Maior ou igual a\n",
        "\n",
        "Vamos ver alguns exemplos:"
      ]
    },
    {
      "cell_type": "code",
      "execution_count": 1,
      "id": "b8f40d14-15f6-4de2-9a68-6f0c9bf6ed31",
      "metadata": {
        "id": "b8f40d14-15f6-4de2-9a68-6f0c9bf6ed31",
        "noteable": {
          "cell_type": "code"
        }
      },
      "outputs": [
        {
          "name": "stdout",
          "output_type": "stream",
          "text": [
            "14 == 14: True\n"
          ]
        }
      ],
      "source": [
        "# Exemplos de operadores de comparação\n",
        "\n",
        "print('14 == 14:', 14 == 14)  # Igual a"
      ]
    },
    {
      "cell_type": "code",
      "execution_count": 2,
      "id": "-6wfm4YCIJnU",
      "metadata": {
        "id": "-6wfm4YCIJnU"
      },
      "outputs": [
        {
          "name": "stdout",
          "output_type": "stream",
          "text": [
            "5 != 5: False\n"
          ]
        }
      ],
      "source": [
        "print('5 != 5:', 5 != 5)  # Diferente de"
      ]
    },
    {
      "cell_type": "code",
      "execution_count": 3,
      "id": "a8nY2L7nILit",
      "metadata": {
        "id": "a8nY2L7nILit"
      },
      "outputs": [
        {
          "name": "stdout",
          "output_type": "stream",
          "text": [
            "1.5 < 5: True\n"
          ]
        }
      ],
      "source": [
        "print('1.5 < 5:', 1.5 < 5)    # Menor que"
      ]
    },
    {
      "cell_type": "code",
      "execution_count": 4,
      "id": "FCvfr2V_INUL",
      "metadata": {
        "id": "FCvfr2V_INUL"
      },
      "outputs": [
        {
          "name": "stdout",
          "output_type": "stream",
          "text": [
            "10 > 3: True\n"
          ]
        }
      ],
      "source": [
        "print('10 > 3:', 10 > 3)    # Maior que"
      ]
    },
    {
      "cell_type": "code",
      "execution_count": 5,
      "id": "3_Nk40sLIO2F",
      "metadata": {
        "id": "3_Nk40sLIO2F"
      },
      "outputs": [
        {
          "name": "stdout",
          "output_type": "stream",
          "text": [
            "3 <= 3: True\n"
          ]
        }
      ],
      "source": [
        "print('3 <= 3:', 3 <= 3 )  # Menor ou igual a"
      ]
    },
    {
      "cell_type": "code",
      "execution_count": 6,
      "id": "j1_cDWf7IQeM",
      "metadata": {
        "id": "j1_cDWf7IQeM"
      },
      "outputs": [
        {
          "name": "stdout",
          "output_type": "stream",
          "text": [
            "5 >= 6: False\n"
          ]
        }
      ],
      "source": [
        "print('5 >= 6:', 5 >= 6)  # Maior ou igual a"
      ]
    },
    {
      "cell_type": "markdown",
      "id": "ISoepi8HKHHy",
      "metadata": {
        "id": "ISoepi8HKHHy"
      },
      "source": [
        "#### Exercícios sobre Operadores de Comparação\n",
        "Agora que aprendemos sobre operadores de comparação, vamos praticar com alguns exercícios. Os exercícios estão organizados em ordem crescente de dificuldade."
      ]
    },
    {
      "cell_type": "markdown",
      "id": "evNzyVmxKPMz",
      "metadata": {
        "id": "evNzyVmxKPMz"
      },
      "source": [
        "1. Verifique se 5 é maior que 3."
      ]
    },
    {
      "cell_type": "code",
      "execution_count": 7,
      "id": "O8iNNAuiMOUp",
      "metadata": {
        "cellView": "form",
        "id": "O8iNNAuiMOUp"
      },
      "outputs": [
        {
          "data": {
            "text/plain": [
              "True"
            ]
          },
          "execution_count": 7,
          "metadata": {},
          "output_type": "execute_result"
        }
      ],
      "source": [
        "# @title Resolução 1\n",
        "5>=3"
      ]
    },
    {
      "cell_type": "markdown",
      "id": "mr1Yda88KUOa",
      "metadata": {
        "id": "mr1Yda88KUOa"
      },
      "source": [
        "2.\n",
        "Verifique se 10 é igual a 10."
      ]
    },
    {
      "cell_type": "code",
      "execution_count": null,
      "id": "wHOqZiTUMeTI",
      "metadata": {
        "cellView": "form",
        "id": "wHOqZiTUMeTI"
      },
      "outputs": [],
      "source": [
        "# @title Resolução 2\n",
        "\n",
        "10==10"
      ]
    },
    {
      "cell_type": "markdown",
      "id": "zIytJNDxKC5U",
      "metadata": {
        "id": "zIytJNDxKC5U"
      },
      "source": [
        "3. Dado duas variáveis a = 10 e b = 20, verifique se a é menor que b."
      ]
    },
    {
      "cell_type": "code",
      "execution_count": null,
      "id": "TOJssn9BMgCo",
      "metadata": {
        "cellView": "form",
        "id": "TOJssn9BMgCo"
      },
      "outputs": [],
      "source": [
        "# @title Resolução 3\n",
        "\n",
        "a,b = 10,20\n",
        "a<b"
      ]
    },
    {
      "cell_type": "markdown",
      "id": "KwzLTROoKr05",
      "metadata": {
        "id": "KwzLTROoKr05"
      },
      "source": [
        "4.\n",
        "Dado duas variáveis x = 25 e y = 30, verifique se x não é igual a y."
      ]
    },
    {
      "cell_type": "code",
      "execution_count": null,
      "id": "xZj5iiAAMn3R",
      "metadata": {
        "cellView": "form",
        "id": "xZj5iiAAMn3R"
      },
      "outputs": [],
      "source": [
        "# @title Resolução 4\n",
        "\n",
        "x, y = 25,30\n",
        "x!=30"
      ]
    },
    {
      "cell_type": "markdown",
      "id": "mMsfw-9mKxMS",
      "metadata": {
        "id": "mMsfw-9mKxMS"
      },
      "source": [
        "5. Dado três variáveis a = 5, b = 10 e c = 15, verifique se a é menor que b e b é menor que c."
      ]
    },
    {
      "cell_type": "code",
      "execution_count": null,
      "id": "OxkMppvFMvgP",
      "metadata": {
        "cellView": "form",
        "id": "OxkMppvFMvgP"
      },
      "outputs": [],
      "source": [
        "# @title Resolução 5\n",
        "\n",
        "a=5\n",
        "b=10\n",
        "c=15\n",
        "print(a<b)\n",
        "print(b<c)"
      ]
    },
    {
      "cell_type": "markdown",
      "id": "6tmZWwaAK196",
      "metadata": {
        "id": "6tmZWwaAK196"
      },
      "source": [
        "6. Dado três variáveis x = 10, y = 10 e z = 20, verifique se x é igual a y e y é diferente de z."
      ]
    },
    {
      "cell_type": "code",
      "execution_count": null,
      "id": "cAOUoj2BNCwI",
      "metadata": {
        "cellView": "form",
        "id": "cAOUoj2BNCwI"
      },
      "outputs": [],
      "source": [
        "# @title Resolução 6\n",
        "\n",
        "x,y,z=10,10,20\n",
        "print(x==y)\n",
        "print(y!=z)"
      ]
    },
    {
      "cell_type": "markdown",
      "id": "hQSInu5oK5NT",
      "metadata": {
        "id": "hQSInu5oK5NT"
      },
      "source": [
        "7. Dado uma variável num = 50, escreva uma condição que verifica se num está no intervalo de 0 a 100."
      ]
    },
    {
      "cell_type": "code",
      "execution_count": null,
      "id": "QDwgyuUhNRtf",
      "metadata": {
        "cellView": "form",
        "id": "QDwgyuUhNRtf"
      },
      "outputs": [],
      "source": [
        "# @title Resolução 7\n",
        "\n",
        "num=50\n",
        "0<num<100"
      ]
    },
    {
      "cell_type": "markdown",
      "id": "794b789d-39e4-4c06-829b-c46c3fd52766",
      "metadata": {
        "id": "794b789d-39e4-4c06-829b-c46c3fd52766",
        "noteable": {
          "cell_type": "markdown"
        }
      },
      "source": [
        "## Operadores Lógicos\n",
        "\n",
        "Os operadores lógicos são usados para combinar declarações condicionais:\n",
        "\n",
        "- `and`: Retorna True se ambas as declarações forem verdadeiras\n",
        "- `or`: Retorna True se uma das declarações for verdadeira\n",
        "- `not`: Inverte o resultado, retorna False se o resultado for verdadeiro\n",
        "\n",
        "Vamos ver alguns exemplos:"
      ]
    },
    {
      "cell_type": "code",
      "execution_count": null,
      "id": "b50eaa45-377d-4fb2-bd0b-92bfe88fb360",
      "metadata": {
        "id": "b50eaa45-377d-4fb2-bd0b-92bfe88fb360",
        "noteable": {
          "cell_type": "code"
        }
      },
      "outputs": [],
      "source": [
        "# Exemplos de operadores lógicos\n",
        "\n",
        "print('True and True:', True and True)   # and"
      ]
    },
    {
      "cell_type": "code",
      "execution_count": null,
      "id": "luTb-ZseNjl_",
      "metadata": {
        "id": "luTb-ZseNjl_"
      },
      "outputs": [],
      "source": [
        "print('True or False:', True or False)   # or"
      ]
    },
    {
      "cell_type": "code",
      "execution_count": null,
      "id": "LSIFiWYWNlV_",
      "metadata": {
        "id": "LSIFiWYWNlV_"
      },
      "outputs": [],
      "source": [
        "print('not True:', not True)             # not"
      ]
    },
    {
      "cell_type": "markdown",
      "id": "5IOG7zbqjonQ",
      "metadata": {
        "id": "5IOG7zbqjonQ"
      },
      "source": [
        "Duas peculiaridades em Python:"
      ]
    },
    {
      "cell_type": "code",
      "execution_count": null,
      "id": "Xjr0MlBVjJIE",
      "metadata": {
        "id": "Xjr0MlBVjJIE"
      },
      "outputs": [],
      "source": [
        "print(10 and 7)"
      ]
    },
    {
      "cell_type": "code",
      "execution_count": null,
      "id": "zGvMQOqukPLr",
      "metadata": {
        "id": "zGvMQOqukPLr"
      },
      "outputs": [],
      "source": [
        "print(10 or 7)"
      ]
    },
    {
      "cell_type": "markdown",
      "id": "KwJDMYnQj5a9",
      "metadata": {
        "id": "KwJDMYnQj5a9"
      },
      "source": [
        "Em Python, **o operador `and` é um operador lógico que retorna o primeiro valor falso que encontra ou o último valor se todos forem verdadeiros**.\n",
        "\n",
        "Quando usamos o operador `and` com números inteiros, Python interpreta qualquer número diferente de zero como `True` e o zero como `False`.\n",
        "\n",
        "Vamos ver como funciona o `10 and 7`:\n",
        "\n",
        "- Python avalia o primeiro número, `10`. Como `10` é diferente de zero\n",
        "- Python avalia o segundo número, `7`. Novamente, `7` é diferente de zero, que também é interpretado como `True`.\n",
        "- Como não foi encontrado nenhum valor `False`, ele retorna o último valor avaliado, que é `7`.\n",
        "\n",
        "Portanto, `10 and 7` retorna `7`.\n",
        "\n",
        "Isso pode ser um pouco confuso, já que em muitas outras linguagens de programação, o operador `and` retornaria um valor booleano (`True` ou `False`). **No entanto, em Python, o operador `and` retorna um dos valores originais. **\n",
        "\n",
        "De maneira semelhante, **o operador `or` em Python retorna o primeiro valor verdadeiro que encontra ou o último valor se todos forem falsos**."
      ]
    },
    {
      "cell_type": "markdown",
      "id": "xCeu0i0_a9Fy",
      "metadata": {
        "id": "xCeu0i0_a9Fy"
      },
      "source": [
        "Além dos operadores lógicos tradicionais `(and, or, not)`, Python oferece outros meios para realizar operações lógicas.\n",
        "\n",
        "Um exemplo disso são as funções internas `all()` e `any()`, que podem ser úteis para operações lógicas em listas ou outros iteráveis.\n",
        "\n",
        "* `all(iterable)`: Retorna `True` se todos os elementos do iterável são verdadeiros (ou se o iterável está vazio). É equivalente a usar o operador `and` entre todos os elementos.\n",
        "* `any(iterable)`: Retorna `True` se algum elemento do iterável é verdadeiro. Se o iterável estiver vazio, retorna `False`. É equivalente a usar o operador `or` entre todos os elementos."
      ]
    },
    {
      "cell_type": "code",
      "execution_count": null,
      "id": "Mfr2QZAca8lb",
      "metadata": {
        "id": "Mfr2QZAca8lb"
      },
      "outputs": [],
      "source": [
        "# Lista de booleanos\n",
        "bool_list = [True, True, False, True]\n",
        "\n",
        "# all() retorna True se todos os elementos são verdadeiros\n",
        "print(\"all(bool_list):\", all(bool_list))\n",
        "\n",
        "# any() retorna True se qualquer elemento é verdadeiro\n",
        "print(\"any(bool_list):\", any(bool_list))\n"
      ]
    },
    {
      "cell_type": "markdown",
      "id": "ep4xR9-ob3Oc",
      "metadata": {
        "id": "ep4xR9-ob3Oc"
      },
      "source": [
        "As operações lógicas também podem ser expressas por meio de `operações de bits`, usando os operadores `&` (AND) e `|` (OR). No entanto, estas operações são aplicadas bit a bit e são mais comumente usadas em aplicações que lidam com números inteiros a nível de bits."
      ]
    },
    {
      "cell_type": "code",
      "execution_count": null,
      "id": "N_BYehReb2bu",
      "metadata": {
        "id": "N_BYehReb2bu"
      },
      "outputs": [],
      "source": [
        "print(\"\\n---- Operadores de bits ----\")\n",
        "\n",
        "# Bitwise AND: True se ambos forem verdadeiros\n",
        "print(\"True & False:\", True & False)\n",
        "\n",
        "# Bitwise OR: True se qualquer um for verdadeiro\n",
        "print(\"True | False:\", True | False)\n"
      ]
    },
    {
      "cell_type": "markdown",
      "id": "eHfBFE0zd2C1",
      "metadata": {
        "id": "eHfBFE0zd2C1"
      },
      "source": [
        "Os operadores bit a bit do Python são usados para realizar cálculos bit a bit em números inteiros. Os inteiros são convertidos para o formato binário e, em seguida, as operações são executadas bit a bit, o que gerou o termo **operadores bit a bit**. Os operadores bit a bit do Python funcionam apenas com números inteiros e a saída final é retornada no formato decimal. Os operadores bit a bit do Python também são chamados de **operadores binários**.\n",
        "\n",
        "Vamos dar uma olhada nos principais operadores de bits em Python:\n",
        "\n",
        "* AND bit a bit (`&`): Compara cada bit de dois números. Se ambos os bits forem 1, o bit correspondente no resultado é definido como 1. Caso contrário, o resultado é 0.\n",
        "\n",
        "**Exemplo**: 10 & 7 em binário é 1010 & 0111 que resulta em 0010 (ou 2 em decimal).\n",
        "\n",
        "* OR bit a bit (`|`): Compara cada bit de dois números. Se pelo menos um dos bits for 1, o bit correspondente no resultado é definido como 1. Caso contrário, o resultado é 0.\n",
        "\n",
        "**Exemplo**: 10 | 7 em binário é 1010 | 0111 que resulta em 1111 (ou 15 em decimal)."
      ]
    },
    {
      "cell_type": "code",
      "execution_count": null,
      "id": "8dahaBeLePoB",
      "metadata": {
        "id": "8dahaBeLePoB"
      },
      "outputs": [],
      "source": [
        "print(10 & 7)\n",
        "print(bin(10 & 7))  #1010\n",
        "print(bin(10 & 7)[2:]) #1111"
      ]
    },
    {
      "cell_type": "code",
      "execution_count": null,
      "id": "N41dQ6_Am1AB",
      "metadata": {
        "id": "N41dQ6_Am1AB"
      },
      "outputs": [],
      "source": [
        "print(0 | 1)\n",
        "print(0 & 1)\n",
        "print(0 | 0)\n",
        "print(1 | 1)"
      ]
    },
    {
      "cell_type": "markdown",
      "id": "VAQ6gWDJhHPs",
      "metadata": {
        "id": "VAQ6gWDJhHPs"
      },
      "source": [
        "Em geral, sempre que você precisar manipular a representação binária de dados em nível de bit, provavelmente usará operadores bit a bit. No entanto, para muitas aplicações de programação de alto nível, você provavelmente não precisará usá-los. Alguns usos: algoritmos de criptografia e codificação, gráficos de processamento de imagens, otimização de desempenho de código, permissões de acessos em banco de dados."
      ]
    },
    {
      "cell_type": "markdown",
      "id": "zvmiy2EmoVsC",
      "metadata": {
        "id": "zvmiy2EmoVsC"
      },
      "source": [
        " se você está trabalhando com valores booleanos e lógica booleana, use os operadores lógicos `and` e `or`. Se você está trabalhando com números inteiros e quer fazer operações bit a bit, use os operadores bitwise `&` e `|`."
      ]
    },
    {
      "cell_type": "markdown",
      "id": "4fe40d63-b0e1-475f-af95-feb687a5a014",
      "metadata": {
        "id": "4fe40d63-b0e1-475f-af95-feb687a5a014",
        "noteable": {
          "cell_type": "markdown"
        }
      },
      "source": [
        "## Estruturas Condicionais: If, Else, Elif\n",
        "\n",
        "As estruturas condicionais `if`, `else` e `elif` são usadas em Python para tomada de decisão.\n",
        "\n",
        "- `if`: Uma instrução `if` é uma instrução de controle de fluxo que permite que o código seja executado se uma determinada condição for verdadeira.\n",
        "- `else`: A instrução `else` pega um bloco de código que será executado se as condições das instruções `if` e `elif` anteriores não forem verdadeiras.\n",
        "- `elif`: `elif` é a maneira de Python dizer \"se as condições anteriores não foram verdadeiras, então tente esta condição\".\n",
        "\n",
        "Vamos ver alguns exemplos:"
      ]
    },
    {
      "cell_type": "code",
      "execution_count": null,
      "id": "abySnBC8Je9c",
      "metadata": {
        "id": "abySnBC8Je9c"
      },
      "outputs": [],
      "source": [
        "x = 10"
      ]
    },
    {
      "cell_type": "markdown",
      "id": "uax4uZzkqlom",
      "metadata": {
        "id": "uax4uZzkqlom"
      },
      "source": [
        "**if**: if é usado para testar uma condição específica. Se a condição for verdadeira, o bloco de código sob o if será executado. Se a condição for falsa, o bloco de código sob o if será ignorado."
      ]
    },
    {
      "cell_type": "code",
      "execution_count": null,
      "id": "jVaWLo7qJYOV",
      "metadata": {
        "id": "jVaWLo7qJYOV"
      },
      "outputs": [],
      "source": [
        "# if\n",
        "if x > 0:\n",
        "    print('x é positivo')"
      ]
    },
    {
      "cell_type": "code",
      "execution_count": null,
      "id": "Npzy-EpRqsh3",
      "metadata": {
        "id": "Npzy-EpRqsh3"
      },
      "outputs": [],
      "source": [
        "if 5 > 3:\n",
        "    print(\"5 é maior que 3\")"
      ]
    },
    {
      "cell_type": "markdown",
      "id": "Q6-MR5Mnq11F",
      "metadata": {
        "id": "Q6-MR5Mnq11F"
      },
      "source": [
        "**elif: elif** é uma abreviação de \"else if\". É usado para verificar múltiplas condições, uma após a outra. Se a condição em um bloco if ou elif anterior for falsa, Python passará para a condição em elif e verificará se ela é verdadeira. Se for verdadeira, o bloco de código sob esse elif será executado."
      ]
    },
    {
      "cell_type": "code",
      "execution_count": null,
      "id": "ca0bf2c1-b867-42d2-a120-a277232c37c3",
      "metadata": {
        "id": "ca0bf2c1-b867-42d2-a120-a277232c37c3",
        "noteable": {
          "cell_type": "code"
        }
      },
      "outputs": [],
      "source": [
        "# if-elif\n",
        "if x < 0:\n",
        "    print('x é negativo')\n",
        "elif x > 0:\n",
        "    print('x é positivo')"
      ]
    },
    {
      "cell_type": "code",
      "execution_count": null,
      "id": "WTGADqpWq6FS",
      "metadata": {
        "id": "WTGADqpWq6FS"
      },
      "outputs": [],
      "source": [
        "if 5 < 3:\n",
        "    print(\"5 é menor que 3\")\n",
        "elif 5 > 3:\n",
        "    print(\"5 é maior que 3\")"
      ]
    },
    {
      "cell_type": "markdown",
      "id": "hHY3Ua_5rUsL",
      "metadata": {
        "id": "hHY3Ua_5rUsL"
      },
      "source": [
        "**else**: else é usado para capturar qualquer caso que não tenha sido capturado pelas condições if e elif anteriores. Se nenhuma das condições if ou elif for verdadeira, o bloco de código sob else será executado."
      ]
    },
    {
      "cell_type": "code",
      "execution_count": null,
      "id": "0sni8yJWrMQW",
      "metadata": {
        "id": "0sni8yJWrMQW"
      },
      "outputs": [],
      "source": [
        "# if-elif-else\n",
        "if x < 0:\n",
        "    print('x é negativo')\n",
        "elif x > 0:\n",
        "    print('x é positivo')\n",
        "else:\n",
        "    print('x é zero')"
      ]
    },
    {
      "cell_type": "code",
      "execution_count": null,
      "id": "YnwXpqMhJaWU",
      "metadata": {
        "id": "YnwXpqMhJaWU"
      },
      "outputs": [],
      "source": [
        "# if-else\n",
        "if x % 2 == 0:\n",
        "    print('x é par')\n",
        "else:\n",
        "    print('x é ímpar')"
      ]
    },
    {
      "cell_type": "markdown",
      "id": "R8bdlRz9gYNl",
      "metadata": {
        "id": "R8bdlRz9gYNl"
      },
      "source": [
        "Vamos verificar se um número é par..."
      ]
    },
    {
      "cell_type": "code",
      "execution_count": null,
      "id": "HBUObSTkgs5a",
      "metadata": {
        "id": "HBUObSTkgs5a"
      },
      "outputs": [],
      "source": [
        "x=2"
      ]
    },
    {
      "cell_type": "code",
      "execution_count": null,
      "id": "IUpX09ZGlrRf",
      "metadata": {
        "id": "IUpX09ZGlrRf"
      },
      "outputs": [],
      "source": [
        "if x % 2 == 0: # resto da divisão por 2 é 0?\n",
        "  print(\"Par\")\n",
        "  print(\"Uhuu\")\n",
        "print(\"Acabou!\")"
      ]
    },
    {
      "cell_type": "code",
      "execution_count": null,
      "id": "qbKXZJyrqvDS",
      "metadata": {
        "id": "qbKXZJyrqvDS"
      },
      "outputs": [],
      "source": [
        "if x % 2 == 0:\n",
        "  print(\"Par\")\n",
        "else:\n",
        "  print(\"Ímpar\")\n",
        "print(\"Acabou!\")"
      ]
    },
    {
      "cell_type": "markdown",
      "id": "EUsG9tM0hvjI",
      "metadata": {
        "id": "EUsG9tM0hvjI"
      },
      "source": [
        "Um exemplo de consulta a uma lista"
      ]
    },
    {
      "cell_type": "code",
      "execution_count": null,
      "id": "X6YXtqGBTLT9",
      "metadata": {
        "id": "X6YXtqGBTLT9"
      },
      "outputs": [],
      "source": [
        "alunos = [\"Ana\", \"Filipe\", \"Alfredo\", 'Cristiane', 'Jorge', 'Davi']"
      ]
    },
    {
      "cell_type": "code",
      "execution_count": null,
      "id": "nB_QO_u7r3-3",
      "metadata": {
        "id": "nB_QO_u7r3-3"
      },
      "outputs": [],
      "source": [
        "nome = input(\"Informe o nome do aluno: \")"
      ]
    },
    {
      "cell_type": "code",
      "execution_count": null,
      "id": "hgRirV9-TRL-",
      "metadata": {
        "id": "hgRirV9-TRL-"
      },
      "outputs": [],
      "source": [
        "if nome in alunos:\n",
        "  print(nome, \"está matriculado/a\")\n",
        "\n",
        "if nome not in alunos:\n",
        "  print(nome, \"não está matriculado/a\")"
      ]
    },
    {
      "cell_type": "markdown",
      "id": "LQ--KmLDJbV1",
      "metadata": {
        "id": "LQ--KmLDJbV1"
      },
      "source": [
        "Execução alternativa (e bem melhor)"
      ]
    },
    {
      "cell_type": "code",
      "execution_count": null,
      "id": "uPC6C9V1sDDZ",
      "metadata": {
        "id": "uPC6C9V1sDDZ"
      },
      "outputs": [],
      "source": [
        "nome = \"Nina\"           #input(\"Informe o nome do aluno: \")"
      ]
    },
    {
      "cell_type": "code",
      "execution_count": null,
      "id": "SilQqvbyJbV1",
      "metadata": {
        "id": "SilQqvbyJbV1"
      },
      "outputs": [],
      "source": [
        "if nome in alunos:\n",
        "  print(nome, \"está matriculado\")\n",
        "else:\n",
        "  print(nome, \"não está matriculado/a\")"
      ]
    },
    {
      "cell_type": "markdown",
      "id": "7RCelQceh5vo",
      "metadata": {
        "id": "7RCelQceh5vo"
      },
      "source": [
        "Um exemplo com intervalos"
      ]
    },
    {
      "cell_type": "code",
      "execution_count": null,
      "id": "x8-44eb5NLyF",
      "metadata": {
        "id": "x8-44eb5NLyF"
      },
      "outputs": [],
      "source": [
        "x = 8\n",
        "\n",
        "if x < 20 or x > 40:\n",
        "  print('Outside')\n",
        "else:\n",
        "  print('Inside')"
      ]
    },
    {
      "cell_type": "code",
      "execution_count": null,
      "id": "KbruimZ4sxvQ",
      "metadata": {
        "id": "KbruimZ4sxvQ"
      },
      "outputs": [],
      "source": [
        "x=21\n",
        "\n",
        "'outside' if (x < 20 or x > 40) else 'inside'"
      ]
    },
    {
      "cell_type": "markdown",
      "id": "PBFieZMZs5Q9",
      "metadata": {
        "id": "PBFieZMZs5Q9"
      },
      "source": [
        "Mais exemplos com if-elif-else"
      ]
    },
    {
      "cell_type": "code",
      "execution_count": null,
      "id": "43VK4XSX7xNx",
      "metadata": {
        "id": "43VK4XSX7xNx"
      },
      "outputs": [],
      "source": [
        "mes = int(input(\"Informe um mês (1, 12): \"))"
      ]
    },
    {
      "cell_type": "code",
      "execution_count": null,
      "id": "vjEh5VBbJbV2",
      "metadata": {
        "id": "vjEh5VBbJbV2"
      },
      "outputs": [],
      "source": [
        "if mes == 1:\n",
        "  print(\"Janeiro\")\n",
        "elif mes == 2:\n",
        "  print(\"Fevereiro\")\n",
        "elif mes == 3:\n",
        "  print(\"Março\")\n",
        "elif mes == 4:\n",
        "  print(\"Abril\")\n",
        "elif mes == 5:\n",
        "  print(\"Maio\")\n",
        "elif mes == 12:\n",
        "  print(\"Dezembro\")\n",
        "else:\n",
        "  print(\"Mês inválido\")"
      ]
    },
    {
      "cell_type": "code",
      "execution_count": null,
      "id": "IvVnyzzKAalu",
      "metadata": {
        "id": "IvVnyzzKAalu"
      },
      "outputs": [],
      "source": [
        "x=4\n",
        "\n",
        "\n",
        "if x < 0:\n",
        "    print(\"x é negativo\")\n",
        "elif x % 2 == 1:     # %: operador de módulo ou operador de resto\n",
        "                     # para esta condição ser VERDADEIRA, o resultado de x % 2 precisa ser 1 (ou True),\n",
        "                     # ou seja, o resto da divisão é 1\n",
        "    print(\"x é positivo e ímpar\")\n",
        "else:\n",
        "    print(\"x é par e não-negativo\")"
      ]
    },
    {
      "cell_type": "markdown",
      "id": "J3dPxJjMaRuX",
      "metadata": {
        "id": "J3dPxJjMaRuX"
      },
      "source": [
        "#### IF Ternário\n",
        "É possível testar valores em Python com apenas uma linha de código com os chamados **if-ternários**, ou **condições ternárias**, ou **operadores ternários**"
      ]
    },
    {
      "cell_type": "markdown",
      "id": "FfMxWhdArnGO",
      "metadata": {
        "id": "FfMxWhdArnGO"
      },
      "source": [
        "Sintaxe\n",
        "\n",
        "`valor_se_verdadeiro if condicao else valor_se_falso`\n"
      ]
    },
    {
      "cell_type": "code",
      "execution_count": null,
      "id": "Za6VpOx9ruyc",
      "metadata": {
        "id": "Za6VpOx9ruyc"
      },
      "outputs": [],
      "source": [
        "x = 10\n",
        "y = 20\n",
        "\n",
        "maior = x if x > y else y\n",
        "print(maior)"
      ]
    },
    {
      "cell_type": "markdown",
      "id": "-T6OwNzWsELp",
      "metadata": {
        "id": "-T6OwNzWsELp"
      },
      "source": [
        "A expressão ternária `if` pode tornar seu código mais conciso, mas também pode torná-lo mais difícil de ler se usada excessivamente ou para condições complexas. Portanto, use-a com moderação."
      ]
    },
    {
      "cell_type": "code",
      "execution_count": null,
      "id": "6VV4TVMWr26h",
      "metadata": {
        "id": "6VV4TVMWr26h"
      },
      "outputs": [],
      "source": [
        "nota = 3\n",
        "\n",
        "aprovacao = 'aprovado' if nota > 5 else 'reprovado'\n",
        "\n",
        "print(aprovacao)"
      ]
    },
    {
      "cell_type": "code",
      "execution_count": null,
      "id": "vrBzHdtYa34v",
      "metadata": {
        "id": "vrBzHdtYa34v"
      },
      "outputs": [],
      "source": [
        "temperatura = 36\n",
        "\n",
        "resultado = 'Estado Febril' if temperatura > 37.8 else 'sem febre'\n",
        "\n",
        "print(resultado)"
      ]
    },
    {
      "cell_type": "code",
      "execution_count": null,
      "id": "DargpNcvhH3v",
      "metadata": {
        "id": "DargpNcvhH3v"
      },
      "outputs": [],
      "source": [
        "valor = 2\n",
        "\n",
        "msg = \"Par\" if valor % 2 == 0 else \"Ímpar\" #lembrando -> % é o resto da divisão\n",
        "\n",
        "print(msg)"
      ]
    },
    {
      "cell_type": "code",
      "execution_count": null,
      "id": "uLOd9B7XuHgq",
      "metadata": {
        "id": "uLOd9B7XuHgq"
      },
      "outputs": [],
      "source": [
        "valor = 1\n",
        "\n",
        "msg = \"Ímpar\" if valor % 2 == 1 else \"Par\" #lembrando -> % é o resto da divisão\n",
        "\n",
        "print(msg)"
      ]
    },
    {
      "cell_type": "markdown",
      "id": "V2amm_WAJbV2",
      "metadata": {
        "id": "V2amm_WAJbV2"
      },
      "source": [
        "#### Condicionais aninhados"
      ]
    },
    {
      "cell_type": "markdown",
      "id": "lNFs6F8UsfJB",
      "metadata": {
        "id": "lNFs6F8UsfJB"
      },
      "source": [
        "As declarações condicionais aninhadas ocorrem quando você tem uma declaração `if`, `elif` ou `else` dentro de outra declaração `if`, `elif` ou `else`. Essa é uma maneira comum de testar várias condições e executar um bloco de código específico se elas forem atendidas."
      ]
    },
    {
      "cell_type": "code",
      "execution_count": null,
      "id": "vRMrqCQCjEEZ",
      "metadata": {
        "id": "vRMrqCQCjEEZ"
      },
      "outputs": [],
      "source": [
        "print('1. Café expresso')\n",
        "print('2. Café Coado')\n",
        "\n",
        "resposta = int(input('Qual tipo de café você prefere? ') )\n",
        "\n",
        "if resposta == 1:\n",
        "    print('Você gosta de sabores fortes!')\n",
        "else:\n",
        "    if resposta == 2:\n",
        "        print('Você gosta de sabores mais suaves...')\n",
        "    else:\n",
        "        print('Certamente você não gosta de café ')\n"
      ]
    },
    {
      "cell_type": "markdown",
      "id": "cUyRaGx8lo4C",
      "metadata": {
        "id": "cUyRaGx8lo4C"
      },
      "source": [
        "#### IF - ELIF - ELSE"
      ]
    },
    {
      "cell_type": "markdown",
      "id": "kF_7kED2RJJN",
      "metadata": {
        "id": "kF_7kED2RJJN"
      },
      "source": [
        "#### Exercícios"
      ]
    },
    {
      "cell_type": "markdown",
      "id": "9s2g4aP2RMnN",
      "metadata": {
        "id": "9s2g4aP2RMnN"
      },
      "source": [
        "1. Se a temperatura for maior que 30 graus, imprima \"Muito quente!\". Se a temperatura for menor que 10 graus, imprima \"Muito frio!\""
      ]
    },
    {
      "cell_type": "code",
      "execution_count": null,
      "id": "0p4NrRSLRQaE",
      "metadata": {
        "cellView": "form",
        "id": "0p4NrRSLRQaE"
      },
      "outputs": [],
      "source": [
        "# @title Resolução 1\n",
        "\n",
        "temperatura = 35\n",
        "if temperatura > 30:\n",
        "    print(\"Muito quente!\")\n",
        "if temperatura < 10:\n",
        "    print(\"Muito frio!\")"
      ]
    },
    {
      "cell_type": "markdown",
      "id": "jz1qw_hORSY2",
      "metadata": {
        "id": "jz1qw_hORSY2"
      },
      "source": [
        "2. Se a velocidade de um carro for maior que 100 km/h, imprima \"Muito rápido!\". Se não, imprima \"Velocidade segura\"."
      ]
    },
    {
      "cell_type": "code",
      "execution_count": null,
      "id": "X7rFDWCWRYbd",
      "metadata": {
        "cellView": "form",
        "id": "X7rFDWCWRYbd"
      },
      "outputs": [],
      "source": [
        "# @title Resolução 2\n",
        "velocidade_carro = 100\n",
        "if velocidade_carro > 100:\n",
        "  print(\"Muito rádido!\")\n",
        "else:\n",
        "  print(\"Velocidade segura.\")"
      ]
    },
    {
      "cell_type": "markdown",
      "id": "GHF_OwcDR0_k",
      "metadata": {
        "id": "GHF_OwcDR0_k"
      },
      "source": [
        "3. Se a umidade do solo for menor que 20%, imprima \"Necessário regar\". Se a umidade for maior que 80%, imprima \"Solo muito úmido\". Caso contrário, imprima \"Umidade do solo adequada\"."
      ]
    },
    {
      "cell_type": "code",
      "execution_count": null,
      "id": "wvfgWI22R0rt",
      "metadata": {
        "cellView": "form",
        "id": "wvfgWI22R0rt"
      },
      "outputs": [],
      "source": [
        "# @title Resolução 3\n",
        "umidade = 90\n",
        "if umidade < 20:\n",
        "  print(\"necessário regar\")\n",
        "elif umidade > 80:\n",
        "  print(\"Solo muito úmido\")\n",
        "else:\n",
        "  print(\"Umidade adequada\")"
      ]
    },
    {
      "cell_type": "markdown",
      "id": "p_PUqBrLTD1M",
      "metadata": {
        "id": "p_PUqBrLTD1M"
      },
      "source": [
        " 4. Se a temperatura for maior que 30 graus, aumente o nível do ar-condicionado em 1 grau (variável ac_level). Se a temperatura for menor que 10 graus, diminua o o nível do ar-condicionado em 1 grau."
      ]
    },
    {
      "cell_type": "code",
      "execution_count": null,
      "id": "sGOee4STTcjS",
      "metadata": {
        "cellView": "form",
        "id": "sGOee4STTcjS"
      },
      "outputs": [],
      "source": [
        "# @title Resolução 4\n",
        "t=20\n",
        "ac_level=20\n",
        "\n",
        "if t > 30:\n",
        "  ac_level = ac_level + 1\n",
        "elif t < 10:\n",
        "  ac_level = ac_level - 1\n",
        "print(ac_level)"
      ]
    },
    {
      "cell_type": "markdown",
      "id": "4sDD0_lDUkUZ",
      "metadata": {
        "id": "4sDD0_lDUkUZ"
      },
      "source": [
        "5. Se a velocidade de um carro for maior que 100 km/h, adicione a string \"Muito rápido!\" à lista alertas. Se a velocidade for menor que 30 km/h, adicione \"Muito lento!\" à lista alertas."
      ]
    },
    {
      "cell_type": "code",
      "execution_count": null,
      "id": "bEBBbM97Ur1q",
      "metadata": {
        "cellView": "form",
        "id": "bEBBbM97Ur1q"
      },
      "outputs": [],
      "source": [
        "# @title Resolução 5\n",
        "alertas = []\n",
        "v=20\n",
        "\n",
        "if v > 100:\n",
        "  alertas.append(\"Muito rápido!\")\n",
        "elif v < 30:\n",
        "  alertas.append(\"Muito lento!\")\n",
        "\n",
        "print(alertas)"
      ]
    },
    {
      "cell_type": "markdown",
      "id": "Nm5Zgb5fVm16",
      "metadata": {
        "id": "Nm5Zgb5fVm16"
      },
      "source": [
        "6. Se um usuário estiver logado e o tipo de conta for \"Admin\", adicione a string \"Admin logado\" à lista system_logs (registros do sistema). Se um usuário estiver logado e o tipo de conta for \"User\", adicione \"Usuário logado\" à lista system_logs. Caso não seja um Admin ou User, adicione \"Visitante logado\" à lista."
      ]
    },
    {
      "cell_type": "code",
      "execution_count": null,
      "id": "clftb7Mr0ef9",
      "metadata": {
        "cellView": "form",
        "id": "clftb7Mr0ef9"
      },
      "outputs": [],
      "source": [
        "# @title Resolução 6\n",
        "system_logs = []\n",
        "\n",
        "user = input(\"Qual o tipo de usuário logado? (digite 'Admin' ou 'User') \")\n",
        "\n",
        "\n",
        "if user == \"Admin\":\n",
        "  system_logs.append(\"Admin logado\")\n",
        "elif user == \"User\":\n",
        "  system_logs.append(\"User logado\")\n",
        "elif user != \"Admin\" or user!= \"User\":\n",
        "  system_logs.append(\"Visitante logado\")\n",
        "else:\n",
        "  print(\"nenhum usuário logado\")\n",
        "\n",
        "print(system_logs)"
      ]
    },
    {
      "cell_type": "markdown",
      "id": "ARSRl4qLcstQ",
      "metadata": {
        "id": "ARSRl4qLcstQ"
      },
      "source": [
        "7. Temos duas variáveis, `m` e `n`, que representam dois números que queremos comparar. Determine a relação entre esses dois números:\n",
        " * Se o valor de `m` for maior do que o valor de `n`, o programa deve exibir a mensagem 'm é maior do que n'.\n",
        " * No caso de `m` e `n` serem iguais, o programa deve informar 'm é igual a n'. * Se nenhuma dessas condições for atendida, ou seja, se o valor de `m` for menor do que o valor de `n`, o programa deve exibir 'm é menor do que n'.\""
      ]
    },
    {
      "cell_type": "code",
      "execution_count": null,
      "id": "FWt0WHSjYJTP",
      "metadata": {
        "cellView": "form",
        "id": "FWt0WHSjYJTP"
      },
      "outputs": [],
      "source": [
        "# @title Resolução 7\n",
        "m = 25\n",
        "n = 25\n",
        "\n",
        "if m > n:\n",
        "    print('m é maior do que n')\n",
        "elif m == n:\n",
        "    print('m é igual a n')\n",
        "else:\n",
        "    print('m é menor do que n')"
      ]
    },
    {
      "cell_type": "markdown",
      "id": "--g2l1XXd3Ki",
      "metadata": {
        "id": "--g2l1XXd3Ki"
      },
      "source": [
        "8. **If-else Aninhado**\n",
        "\n",
        "Considere uma variável z que representa um número que queremos analisar. Precisamos determinar a qual intervalo esse número pertence.\n",
        "* Se o valor de z for menor que 0, o programa deve exibir a mensagem 'z é menor do que 0'.\n",
        "* Se z for menor que 5, o programa deve exibir 'z é menor do que 5'.\n",
        "* Se z não for menor que 0 nem menor que 5, isso significa que z é maior ou igual a 5. Neste caso, o programa deve exibir 'z é maior do que 5'."
      ]
    },
    {
      "cell_type": "code",
      "execution_count": null,
      "id": "gxkJZkjGeOqS",
      "metadata": {
        "cellView": "form",
        "id": "gxkJZkjGeOqS"
      },
      "outputs": [],
      "source": [
        "# @title Resolução 8\n",
        "z=10\n",
        "if z < 0:\n",
        "  print(\"z é menor do que 0\")\n",
        "else:\n",
        "  if z < 5:\n",
        "    print(\"z é menor do que 5\")\n",
        "  else:\n",
        "    print(\"z é maior do que 5\")"
      ]
    }
  ],
  "metadata": {
    "colab": {
      "provenance": []
    },
    "kernel_info": {
      "name": "python3"
    },
    "kernelspec": {
      "display_name": "Python 3.9",
      "language": "python",
      "name": "python3"
    },
    "language_info": {
      "codemirror_mode": {
        "name": "ipython",
        "version": 3
      },
      "file_extension": ".py",
      "mimetype": "text/x-python",
      "name": "python",
      "nbconvert_exporter": "python",
      "pygments_lexer": "ipython3",
      "version": "3.11.4"
    },
    "noteable": {
      "last_delta_id": "ed6006ca-78f0-4263-a5e5-eaf9864a7575",
      "last_transaction_id": "2c7ccf36-fe02-4544-95b9-69cbbb34b4fd"
    },
    "noteable-chatgpt": {
      "create_notebook": {
        "openai_conversation_id": "c4c3e9dd-6ec4-57c4-92bb-8326d05dab43",
        "openai_ephemeral_user_id": "ccd002cd-9231-5f61-a851-67817b690736",
        "openai_subdivision1_iso_code": "BR-RJ"
      }
    },
    "nteract": {
      "version": "noteable@2.9.0"
    },
    "selected_hardware_size": "small"
  },
  "nbformat": 4,
  "nbformat_minor": 5
}
