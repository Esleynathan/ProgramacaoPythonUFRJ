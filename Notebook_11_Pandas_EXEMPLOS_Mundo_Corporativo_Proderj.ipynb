{
  "cells": [
    {
      "cell_type": "code",
      "source": [
        "#!pip install pandas\n",
        "import pandas as pd\n",
        "print('Pandas instalado e importado com sucesso! Versão:', pd.__version__)"
      ],
      "outputs": [],
      "execution_count": null,
      "metadata": {
        "noteable": {
          "cell_type": "code"
        },
        "id": "3a54df6f-a5df-485b-8128-2150f3b3ab0a"
      },
      "id": "3a54df6f-a5df-485b-8128-2150f3b3ab0a"
    },
    {
      "cell_type": "code",
      "source": [
        "# Criando um DataFrame de exemplo com dados de vendas\n",
        "sales_data = {\n",
        "    'Produto': ['Laptop', 'Mouse', 'Teclado', 'Monitor', 'Cadeira'],\n",
        "    'Quantidade': [100, 500, 300, 200, 150],\n",
        "    'Preço': [1500, 20, 50, 300, 100]\n",
        "}\n",
        "sales_df = pd.DataFrame(sales_data)\n",
        "\n",
        "# Visualizando as primeiras linhas do DataFrame\n",
        "sales_df.head()"
      ],
      "outputs": [],
      "execution_count": null,
      "metadata": {
        "noteable": {
          "cell_type": "code"
        },
        "id": "bbb47be3-c1f9-468a-982a-10dabc83e67d"
      },
      "id": "bbb47be3-c1f9-468a-982a-10dabc83e67d"
    },
    {
      "cell_type": "code",
      "source": [
        "# Obtendo informações sobre o DataFrame\n",
        "print('Informações sobre o DataFrame:')\n",
        "print(sales_df.info())\n",
        "\n",
        "# Obtendo estatísticas descritivas\n",
        "print('\\nEstatísticas Descritivas:')\n",
        "print(sales_df.describe())"
      ],
      "outputs": [],
      "execution_count": null,
      "metadata": {
        "noteable": {
          "cell_type": "code"
        },
        "id": "cf61816a-1a07-4b9a-8c15-c5fa86401102"
      },
      "id": "cf61816a-1a07-4b9a-8c15-c5fa86401102"
    },
    {
      "cell_type": "code",
      "source": [
        "import numpy as np\n",
        "\n",
        "# Criando um DataFrame com valores ausentes (NaN)\n",
        "nan_data = {\n",
        "    'A': [10, 20, np.nan],\n",
        "    'B': [5, np.nan, 15],\n",
        "    'C': [1, 2, 3]\n",
        "}\n",
        "nan_df = pd.DataFrame(nan_data)\n",
        "nan_df"
      ],
      "outputs": [],
      "execution_count": null,
      "metadata": {
        "noteable": {
          "cell_type": "code"
        },
        "id": "18dd48af-ca4c-4fe6-95a9-dc24c99caf98"
      },
      "id": "18dd48af-ca4c-4fe6-95a9-dc24c99caf98"
    },
    {
      "cell_type": "code",
      "source": [
        "# Identificando valores ausentes\n",
        "print('Valores Ausentes:')\n",
        "print(nan_df.isna())\n",
        "\n",
        "# Removendo linhas com valores ausentes\n",
        "print('\\nRemovendo Linhas com Valores Ausentes:')\n",
        "print(nan_df.dropna())\n",
        "\n",
        "# Preenchendo valores ausentes com 0\n",
        "print('\\nPreenchendo Valores Ausentes com 0:')\n",
        "print(nan_df.fillna(0))"
      ],
      "outputs": [],
      "execution_count": null,
      "metadata": {
        "noteable": {
          "cell_type": "code"
        },
        "id": "70ed6da8-730d-40a9-b4dc-dab0eb735b71"
      },
      "id": "70ed6da8-730d-40a9-b4dc-dab0eb735b71"
    },
    {
      "cell_type": "code",
      "source": [
        "# Criando um DataFrame com tipos de dados mistos\n",
        "data_mixed = {\n",
        "    'Id': ['1', '2', '3'],\n",
        "    'Nome': ['Alice', 'Roberto', 'Carlos'],\n",
        "    'Idade': [25, 30, 22]\n",
        "}\n",
        "mixed_df = pd.DataFrame(data_mixed)\n",
        "\n",
        "# Convertendo a coluna 'Id' para int\n",
        "mixed_df['Id'] = mixed_df['Id'].astype(int)\n",
        "\n",
        "# Renomeando colunas\n",
        "mixed_df.rename(columns={'Nome': 'Nome Completo', 'Idade': 'Idade (anos)'}, inplace=True)\n",
        "\n",
        "# Reorganizando colunas\n",
        "mixed_df = mixed_df[['Nome Completo', 'Idade (anos)', 'Id']]\n",
        "mixed_df"
      ],
      "outputs": [],
      "execution_count": null,
      "metadata": {
        "noteable": {
          "cell_type": "code"
        },
        "id": "2f6fba9e-3576-4fd0-aff7-745898c4fb54"
      },
      "id": "2f6fba9e-3576-4fd0-aff7-745898c4fb54"
    },
    {
      "cell_type": "code",
      "source": [
        "# Criando um DataFrame representando clientes\n",
        "customer_data = {\n",
        "    'Id': range(1, 11),\n",
        "    'Idade': [28, 35, 29, 40, 23, 45, 36, 30, 34, 26],\n",
        "    'Renda Anual (mil)': [50, 60, 40, 80, 30, 85, 55, 45, 70, 32],\n",
        "    'Pontuação de Gastos (1-100)': [40, 60, 50, 70, 20, 80, 55, 42, 75, 30]\n",
        "}\n",
        "customer_df = pd.DataFrame(customer_data)\n",
        "customer_df"
      ],
      "outputs": [],
      "execution_count": null,
      "metadata": {
        "noteable": {
          "cell_type": "code"
        },
        "id": "e0253892-8135-4d44-86c7-c679d1efe551"
      },
      "id": "e0253892-8135-4d44-86c7-c679d1efe551"
    },
    {
      "cell_type": "code",
      "source": [
        "# Função para segmentar clientes com base na pontuação de gastos\n",
        "def segment_customer(score):\n",
        "    if score <= 40:\n",
        "        return 'Baixa Pontuação'\n",
        "    elif score <= 70:\n",
        "        return 'Média Pontuação'\n",
        "    else:\n",
        "        return 'Alta Pontuação'\n",
        "\n",
        "# Aplicando a função de segmentação à coluna 'Pontuação de Gastos (1-100)'\n",
        "customer_df['Segmento'] = customer_df['Pontuação de Gastos (1-100)'].apply(segment_customer)\n",
        "customer_df"
      ],
      "outputs": [],
      "execution_count": null,
      "metadata": {
        "noteable": {
          "cell_type": "code"
        },
        "id": "9291e2ae-70de-496c-9be3-e2b05724ae95"
      },
      "id": "9291e2ae-70de-496c-9be3-e2b05724ae95"
    },
    {
      "cell_type": "code",
      "source": [
        "# Criando um DataFrame representando campanhas de marketing\n",
        "campaign_data = {\n",
        "    'Campanha': ['Email', 'Redes Sociais', 'Pesquisa Paga', 'Display', 'SEO'],\n",
        "    'Orçamento (mil)': [5, 10, 8, 3, 2],\n",
        "    'Cliques': [500, 800, 600, 300, 400],\n",
        "    'Conversões': [50, 100, 60, 20, 40],\n",
        "    'Receita (mil)': [10, 25, 15, 5, 8]\n",
        "}\n",
        "campaign_df = pd.DataFrame(campaign_data)\n",
        "campaign_df"
      ],
      "outputs": [],
      "execution_count": null,
      "metadata": {
        "noteable": {
          "cell_type": "code"
        },
        "id": "57e4056b-8769-466d-ac6a-664f1a0a1dd6"
      },
      "id": "57e4056b-8769-466d-ac6a-664f1a0a1dd6"
    },
    {
      "cell_type": "code",
      "source": [
        "# Calculando Custo por Clique (CPC)\n",
        "campaign_df['CPC (mil)'] = campaign_df['Orçamento (mil)'] / campaign_df['Cliques']\n",
        "\n",
        "# Calculando Taxa de Conversão\n",
        "campaign_df['Taxa de Conversão (%)'] = (campaign_df['Conversões'] / campaign_df['Cliques']) * 100\n",
        "\n",
        "# Calculando Retorno sobre o Investimento (ROI)\n",
        "campaign_df['ROI (%)'] = ((campaign_df['Receita (mil)'] - campaign_df['Orçamento (mil)']) / campaign_df['Orçamento (mil)']) * 100\n",
        "campaign_df"
      ],
      "outputs": [],
      "execution_count": null,
      "metadata": {
        "noteable": {
          "cell_type": "code"
        },
        "id": "dae65397-8d6f-464e-98c1-ab4390df6e59"
      },
      "id": "dae65397-8d6f-464e-98c1-ab4390df6e59"
    },
    {
      "cell_type": "code",
      "source": [
        "# Criando um DataFrame representando perfis de consumidores\n",
        "consumer_data = {\n",
        "    'Id': range(1, 11),\n",
        "    'Idade': [28, 35, 22, 40, 23, 45, 36, 30, 34, 26],\n",
        "    'Gênero': ['F', 'M', 'F', 'M', 'F', 'M', 'F', 'M', 'F', 'F'],\n",
        "    'Localização': ['Cidade A', 'Cidade B', 'Cidade A', 'Cidade B', 'Cidade A', 'Cidade B', 'Cidade A', 'Cidade B', 'Cidade A', 'Cidade A'],\n",
        "    'Categoria Preferida': ['Eletrônicos', 'Roupas', 'Roupas', 'Alimentos', 'Eletrônicos', 'Alimentos', 'Roupas', 'Eletrônicos', 'Alimentos', 'Roupas'],\n",
        "    'Frequência de Compra (meses)': [1, 2, 1, 3, 2, 1, 2, 3, 1, 2]\n",
        "}\n",
        "consumer_df = pd.DataFrame(consumer_data)\n",
        "consumer_df"
      ],
      "outputs": [],
      "execution_count": null,
      "metadata": {
        "noteable": {
          "cell_type": "code"
        },
        "id": "1a992221-6e0a-49b8-88c4-832f6f8456bf"
      },
      "id": "1a992221-6e0a-49b8-88c4-832f6f8456bf"
    },
    {
      "cell_type": "code",
      "source": [
        "# Segmentando consumidores por categoria de produto preferida\n",
        "segmented_by_category = consumer_df.groupby('Categoria Preferida') #.mean()#.describe()\n",
        "segmented_by_category"
      ],
      "outputs": [],
      "execution_count": null,
      "metadata": {
        "noteable": {
          "cell_type": "code"
        },
        "id": "fca1ed01-8e6c-47bc-a688-7032002ad5a0"
      },
      "id": "fca1ed01-8e6c-47bc-a688-7032002ad5a0"
    },
    {
      "cell_type": "code",
      "source": [
        "import matplotlib.pyplot as plt\n",
        "\n",
        "# Criando um histograma para a frequência de compra dos consumidores\n",
        "plt.hist(consumer_df['Frequência de Compra (meses)'], bins=[1, 2, 3, 4], edgecolor='black')\n",
        "plt.title('Distribuição da Frequência de Compra dos Consumidores')\n",
        "plt.xlabel('Frequência de Compra (meses)')\n",
        "plt.ylabel('Número de Consumidores')\n",
        "plt.xticks([1, 2, 3])\n",
        "plt.show()"
      ],
      "outputs": [],
      "execution_count": null,
      "metadata": {
        "noteable": {
          "cell_type": "code"
        },
        "id": "86fe3a5e-dc04-4086-94bb-4f0d6859715c"
      },
      "id": "86fe3a5e-dc04-4086-94bb-4f0d6859715c"
    },
    {
      "cell_type": "code",
      "source": [
        "# Criando um DataFrame representando vendas mensais\n",
        "sales_data = {\n",
        "    'Mês': ['Jan', 'Fev', 'Mar', 'Abr', 'Mai', 'Jun', 'Jul', 'Ago', 'Set', 'Out', 'Nov', 'Dez'],\n",
        "    'Produto A': [100, 150, 200, 150, 300, 400, 500, 450, 300, 200, 250, 300],\n",
        "    'Produto B': [200, 250, 300, 250, 200, 150, 100, 150, 200, 250, 300, 350],\n",
        "    'Produto C': [300, 350, 400, 350, 300, 250, 200, 250, 300, 350, 400, 450]\n",
        "}\n",
        "sales_df = pd.DataFrame(sales_data)\n",
        "sales_df"
      ],
      "outputs": [],
      "execution_count": null,
      "metadata": {
        "noteable": {
          "cell_type": "code"
        },
        "id": "1b9dae6e-674b-4c40-8226-0a5cf93c786e"
      },
      "id": "1b9dae6e-674b-4c40-8226-0a5cf93c786e"
    },
    {
      "cell_type": "code",
      "source": [
        "# Criando um gráfico de linhas para visualizar as tendências de vendas\n",
        "plt.figure(figsize=(10, 6))\n",
        "plt.plot(sales_df['Mês'], sales_df['Produto A'], label='Produto A')\n",
        "plt.plot(sales_df['Mês'], sales_df['Produto B'], label='Produto B')\n",
        "plt.plot(sales_df['Mês'], sales_df['Produto C'], label='Produto C')\n",
        "plt.title('Tendências de Vendas Mensais')\n",
        "plt.xlabel('Mês')\n",
        "plt.ylabel('Vendas')\n",
        "plt.legend()\n",
        "plt.show()"
      ],
      "outputs": [],
      "execution_count": null,
      "metadata": {
        "noteable": {
          "cell_type": "code"
        },
        "id": "d6834ba6-3f00-4a1e-a007-049eb75348d7"
      },
      "id": "d6834ba6-3f00-4a1e-a007-049eb75348d7"
    },
    {
      "cell_type": "code",
      "source": [
        "# Calculando a venda total de cada produto durante o ano\n",
        "total_sales = sales_df[['Produto A', 'Produto B', 'Produto C']].sum()\n",
        "total_sales"
      ],
      "outputs": [],
      "execution_count": null,
      "metadata": {
        "noteable": {
          "cell_type": "code"
        },
        "id": "e23d6b31-d40f-4e72-bec1-445a14163325"
      },
      "id": "e23d6b31-d40f-4e72-bec1-445a14163325"
    },
    {
      "cell_type": "code",
      "source": [
        "# Custos unitários para os produtos\n",
        "unit_costs = {'Produto A': 2, 'Produto B': 3, 'Produto C': 4}\n",
        "\n",
        "# Calculando o custo total para cada produto\n",
        "for product, cost in unit_costs.items():\n",
        "    sales_df[f'Custo {product}'] = sales_df[product] * cost\n",
        "\n",
        "# Calculando o lucro para cada produto\n",
        "for product in unit_costs.keys():\n",
        "    sales_df[f'Lucro {product}'] = sales_df[product] - sales_df[f'Custo {product}']\n",
        "\n",
        "sales_df"
      ],
      "outputs": [],
      "execution_count": null,
      "metadata": {
        "noteable": {
          "cell_type": "code"
        },
        "id": "3c008525-202d-45ae-b332-70cc83d99341"
      },
      "id": "3c008525-202d-45ae-b332-70cc83d99341"
    },
    {
      "cell_type": "code",
      "source": [
        "# Calculando a margem de lucro para cada produto\n",
        "profit_margin = {}\n",
        "for product in unit_costs.keys():\n",
        "    profit_margin[product] = (sales_df[f'Lucro {product}'].sum() / sales_df[product].sum()) * 100\n",
        "\n",
        "# Criando um gráfico de barras para visualizar a margem de lucro\n",
        "plt.bar(profit_margin.keys(), profit_margin.values(), color=['blue', 'green', 'orange'])\n",
        "plt.title('Margem de Lucro por Produto')\n",
        "plt.xlabel('Produto')\n",
        "plt.ylabel('Margem de Lucro (%)')\n",
        "plt.show()"
      ],
      "outputs": [],
      "execution_count": null,
      "metadata": {
        "noteable": {
          "cell_type": "code"
        },
        "id": "133e98cf-e9c5-4fca-ba96-ff02de230ac0"
      },
      "id": "133e98cf-e9c5-4fca-ba96-ff02de230ac0"
    }
  ],
  "metadata": {
    "noteable-chatgpt": {
      "create_notebook": {
        "openai_conversation_id": "4046d85a-b3f1-5492-8bca-20a5d5bbc518",
        "openai_ephemeral_user_id": "11839797-32a2-54c9-8faa-c9d17a9ea7f4",
        "openai_subdivision1_iso_code": "BR-RJ"
      }
    },
    "kernel_info": {
      "name": "python3"
    },
    "noteable": {
      "last_transaction_id": "5cccdf40-6f0d-40e9-8431-8586ff430bce",
      "last_delta_id": "72864c8b-0fcb-4473-9bc4-2d603f7f7d1d"
    },
    "kernelspec": {
      "display_name": "Python 3.9",
      "language": "python",
      "name": "python3"
    },
    "selected_hardware_size": "small",
    "nteract": {
      "version": "noteable@2.9.0"
    },
    "colab": {
      "provenance": []
    }
  },
  "nbformat": 4,
  "nbformat_minor": 5
}