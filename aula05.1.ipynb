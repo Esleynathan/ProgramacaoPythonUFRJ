{
  "cells": [
    {
      "cell_type": "markdown",
      "metadata": {
        "id": "X4r90lCFr3YJ"
      },
      "source": [
        "# NOTEBOOK 5"
      ]
    },
    {
      "cell_type": "markdown",
      "metadata": {
        "id": "h64ZeQXWw3Oa"
      },
      "source": [
        "## **Controle de Fluxo WHILE**"
      ]
    },
    {
      "cell_type": "markdown",
      "metadata": {
        "id": "sAAom1NwX8Cz"
      },
      "source": [
        "O controle de fluxo `while` em Python é uma estrutura de repetição que permite executar um bloco de código enquanto uma determinada condição for verdadeira. Na prática, a instrução contém uma expressão de teste (condição) após a palavra `while` que é avaliada a cada loop, e um bloco de códigos que é executado enquanto a condição for verdadeira"
      ]
    },
    {
      "cell_type": "markdown",
      "metadata": {
        "id": "0CaLzHQhYbzL"
      },
      "source": [
        "#### **Estrutura Básica de um loop `while`**\n"
      ]
    },
    {
      "cell_type": "markdown",
      "metadata": {
        "id": "zick6hEScGb4"
      },
      "source": [
        "    while (condição lógica):\n",
        "      # código a ser executado enquanto a condição for verdadeira"
      ]
    },
    {
      "cell_type": "markdown",
      "metadata": {
        "id": "T3BWkRNrZGZ0"
      },
      "source": [
        "As condições lógicas usadas com o loop `while` em Python (ou em qualquer linguagem de programação que suporte estruturas de controle de fluxo) são expressões que podem ser avaliadas como verdadeiras ou falsas. Essas condições determinam se o loop continuará a ser executado ou não."
      ]
    },
    {
      "cell_type": "markdown",
      "metadata": {
        "id": "3vvQQZYAZbkc"
      },
      "source": [
        "O loop `while` continuará a executar o bloco de código indentado enquanto a condição_lógica for avaliada como verdadeira. Assim que a condição se tornar falsa, o loop será encerrado e o programa continuará a executar o código após o loop."
      ]
    },
    {
      "cell_type": "markdown",
      "metadata": {
        "id": "Bh75zgKbjZlD"
      },
      "source": [
        "#### **Entendendo a sintaxe básica:**"
      ]
    },
    {
      "cell_type": "code",
      "execution_count": 1,
      "metadata": {
        "id": "IPETznbyYiKr"
      },
      "outputs": [
        {
          "name": "stdout",
          "output_type": "stream",
          "text": [
            "O valor do contador é 0\n",
            "O valor do contador é 1\n",
            "O valor do contador é 2\n"
          ]
        }
      ],
      "source": [
        "q = 0   # inicializador\n",
        "while q < 3:  # teste\n",
        "  print(\"O valor do contador é\", q)  # código a ser executado enquanto teste for verdadeiro\n",
        "  q = q + 1    # contador"
      ]
    },
    {
      "cell_type": "markdown",
      "metadata": {
        "id": "LC0yYUQVhwxr"
      },
      "source": [
        "#### **Contagem Progressiva e Contagem Regressiva**"
      ]
    },
    {
      "cell_type": "code",
      "execution_count": 2,
      "metadata": {
        "id": "pk5Yy_hPh4h6"
      },
      "outputs": [
        {
          "name": "stdout",
          "output_type": "stream",
          "text": [
            "1\n",
            "2\n",
            "3\n",
            "4\n",
            "5\n"
          ]
        }
      ],
      "source": [
        "#Contagem progressiva\n",
        "contador = 1\n",
        "while contador <= 5:\n",
        "    print(contador)\n",
        "    contador += 1\n"
      ]
    },
    {
      "cell_type": "code",
      "execution_count": 3,
      "metadata": {
        "id": "VgJsP-6kh7c0"
      },
      "outputs": [
        {
          "ename": "SyntaxError",
          "evalue": "invalid syntax (1515201746.py, line 3)",
          "output_type": "error",
          "traceback": [
            "\u001b[1;36m  Cell \u001b[1;32mIn[3], line 3\u001b[1;36m\u001b[0m\n\u001b[1;33m    while #...\u001b[0m\n\u001b[1;37m          ^\u001b[0m\n\u001b[1;31mSyntaxError\u001b[0m\u001b[1;31m:\u001b[0m invalid syntax\n"
          ]
        }
      ],
      "source": [
        "#Contagem regressiva\n",
        "contador = 5\n",
        "while #..."
      ]
    },
    {
      "cell_type": "markdown",
      "metadata": {
        "id": "bNSz_wD8auNd"
      },
      "source": [
        "### Calcular a média das notas de uma turma"
      ]
    },
    {
      "cell_type": "code",
      "execution_count": 4,
      "metadata": {
        "id": "EJw1pu1fdmQP"
      },
      "outputs": [
        {
          "ename": "ValueError",
          "evalue": "invalid literal for int() with base 10: ''",
          "output_type": "error",
          "traceback": [
            "\u001b[1;31m---------------------------------------------------------------------------\u001b[0m",
            "\u001b[1;31mValueError\u001b[0m                                Traceback (most recent call last)",
            "Cell \u001b[1;32mIn[4], line 1\u001b[0m\n\u001b[1;32m----> 1\u001b[0m alunos\u001b[39m=\u001b[39m\u001b[39mint\u001b[39;49m(\u001b[39minput\u001b[39;49m(\u001b[39m\"\u001b[39;49m\u001b[39mNumeros de alunos na turma: \u001b[39;49m\u001b[39m\"\u001b[39;49m))\n\u001b[0;32m      3\u001b[0m contador \u001b[39m=\u001b[39m \u001b[39m1\u001b[39m\n\u001b[0;32m      4\u001b[0m soma \u001b[39m=\u001b[39m \u001b[39m0.0\u001b[39m\n",
            "\u001b[1;31mValueError\u001b[0m: invalid literal for int() with base 10: ''"
          ]
        }
      ],
      "source": [
        "alunos=int(input(\"Numeros de alunos na turma: \"))\n",
        "\n",
        "contador = 1\n",
        "soma = 0.0\n",
        "\n",
        "while contador <= alunos:\n",
        "\n",
        "    print(f\"Nota do aluno {contador} :\")\n",
        "    nota = float(input())\n",
        "    soma = soma + nota\n",
        "    contador += 1\n",
        "\n",
        "print(\"Media notas: \", (soma/alunos) )"
      ]
    },
    {
      "cell_type": "markdown",
      "metadata": {
        "id": "dbov9_c_ddkF"
      },
      "source": [
        "#### **Validação de Entrada**"
      ]
    },
    {
      "cell_type": "markdown",
      "metadata": {
        "id": "sbtqf2rxfj-E"
      },
      "source": [
        "##### Exemplo 1"
      ]
    },
    {
      "cell_type": "code",
      "execution_count": null,
      "metadata": {
        "id": "A_fmWi1bdRlj"
      },
      "outputs": [],
      "source": []
    },
    {
      "cell_type": "code",
      "execution_count": 5,
      "metadata": {
        "id": "qhPUS8lmeNyn"
      },
      "outputs": [
        {
          "name": "stdout",
          "output_type": "stream",
          "text": [
            "Obrigado por aceitar os termos!\n",
            "Bem-vindo(a), esley! Vamos começar.\n"
          ]
        }
      ],
      "source": [
        "entrada = \"\"\n",
        "while entrada.lower() != \"sim\":\n",
        "    entrada = input(\"Você aceita os termos? (Sim/Não): \")\n",
        "\n",
        "# Uma vez que o usuário aceitou os termos, o código abaixo será executado\n",
        "print(\"Obrigado por aceitar os termos!\")\n",
        "\n",
        "# Registro do usuário, etc...\n",
        "nome = input(\"Por favor, digite seu nome: \")\n",
        "print(f\"Bem-vindo(a), {nome}! Vamos começar.\")\n"
      ]
    },
    {
      "cell_type": "markdown",
      "metadata": {
        "id": "Ow5igmixfm_s"
      },
      "source": [
        "##### Exemplo 2"
      ]
    },
    {
      "cell_type": "code",
      "execution_count": 6,
      "metadata": {
        "id": "NbPZ2RKje0C8"
      },
      "outputs": [
        {
          "ename": "KeyboardInterrupt",
          "evalue": "Interrupted by user",
          "output_type": "error",
          "traceback": [
            "\u001b[1;31m---------------------------------------------------------------------------\u001b[0m",
            "\u001b[1;31mKeyboardInterrupt\u001b[0m                         Traceback (most recent call last)",
            "Cell \u001b[1;32mIn[6], line 3\u001b[0m\n\u001b[0;32m      1\u001b[0m entrada \u001b[39m=\u001b[39m \u001b[39m\"\u001b[39m\u001b[39m\"\u001b[39m\n\u001b[0;32m      2\u001b[0m \u001b[39mwhile\u001b[39;00m \u001b[39mTrue\u001b[39;00m: \u001b[39m# Loop infinito que continuará até que seja interrompido por um 'break'\u001b[39;00m\n\u001b[1;32m----> 3\u001b[0m     entrada \u001b[39m=\u001b[39m \u001b[39minput\u001b[39;49m(\u001b[39m\"\u001b[39;49m\u001b[39mVocê aceita os termos? (Sim/Não): \u001b[39;49m\u001b[39m\"\u001b[39;49m)\n\u001b[0;32m      4\u001b[0m     \u001b[39mif\u001b[39;00m entrada\u001b[39m.\u001b[39mlower() \u001b[39m==\u001b[39m \u001b[39m\"\u001b[39m\u001b[39msim\u001b[39m\u001b[39m\"\u001b[39m:\n\u001b[0;32m      5\u001b[0m         \u001b[39mprint\u001b[39m(\u001b[39m\"\u001b[39m\u001b[39mObrigado por aceitar os termos!\u001b[39m\u001b[39m\"\u001b[39m)\n",
            "File \u001b[1;32m~\\AppData\\Local\\Packages\\PythonSoftwareFoundation.Python.3.11_qbz5n2kfra8p0\\LocalCache\\local-packages\\Python311\\site-packages\\ipykernel\\kernelbase.py:1202\u001b[0m, in \u001b[0;36mKernel.raw_input\u001b[1;34m(self, prompt)\u001b[0m\n\u001b[0;32m   1200\u001b[0m     msg \u001b[39m=\u001b[39m \u001b[39m\"\u001b[39m\u001b[39mraw_input was called, but this frontend does not support input requests.\u001b[39m\u001b[39m\"\u001b[39m\n\u001b[0;32m   1201\u001b[0m     \u001b[39mraise\u001b[39;00m StdinNotImplementedError(msg)\n\u001b[1;32m-> 1202\u001b[0m \u001b[39mreturn\u001b[39;00m \u001b[39mself\u001b[39;49m\u001b[39m.\u001b[39;49m_input_request(\n\u001b[0;32m   1203\u001b[0m     \u001b[39mstr\u001b[39;49m(prompt),\n\u001b[0;32m   1204\u001b[0m     \u001b[39mself\u001b[39;49m\u001b[39m.\u001b[39;49m_parent_ident[\u001b[39m\"\u001b[39;49m\u001b[39mshell\u001b[39;49m\u001b[39m\"\u001b[39;49m],\n\u001b[0;32m   1205\u001b[0m     \u001b[39mself\u001b[39;49m\u001b[39m.\u001b[39;49mget_parent(\u001b[39m\"\u001b[39;49m\u001b[39mshell\u001b[39;49m\u001b[39m\"\u001b[39;49m),\n\u001b[0;32m   1206\u001b[0m     password\u001b[39m=\u001b[39;49m\u001b[39mFalse\u001b[39;49;00m,\n\u001b[0;32m   1207\u001b[0m )\n",
            "File \u001b[1;32m~\\AppData\\Local\\Packages\\PythonSoftwareFoundation.Python.3.11_qbz5n2kfra8p0\\LocalCache\\local-packages\\Python311\\site-packages\\ipykernel\\kernelbase.py:1245\u001b[0m, in \u001b[0;36mKernel._input_request\u001b[1;34m(self, prompt, ident, parent, password)\u001b[0m\n\u001b[0;32m   1242\u001b[0m \u001b[39mexcept\u001b[39;00m \u001b[39mKeyboardInterrupt\u001b[39;00m:\n\u001b[0;32m   1243\u001b[0m     \u001b[39m# re-raise KeyboardInterrupt, to truncate traceback\u001b[39;00m\n\u001b[0;32m   1244\u001b[0m     msg \u001b[39m=\u001b[39m \u001b[39m\"\u001b[39m\u001b[39mInterrupted by user\u001b[39m\u001b[39m\"\u001b[39m\n\u001b[1;32m-> 1245\u001b[0m     \u001b[39mraise\u001b[39;00m \u001b[39mKeyboardInterrupt\u001b[39;00m(msg) \u001b[39mfrom\u001b[39;00m \u001b[39mNone\u001b[39;00m\n\u001b[0;32m   1246\u001b[0m \u001b[39mexcept\u001b[39;00m \u001b[39mException\u001b[39;00m:\n\u001b[0;32m   1247\u001b[0m     \u001b[39mself\u001b[39m\u001b[39m.\u001b[39mlog\u001b[39m.\u001b[39mwarning(\u001b[39m\"\u001b[39m\u001b[39mInvalid Message:\u001b[39m\u001b[39m\"\u001b[39m, exc_info\u001b[39m=\u001b[39m\u001b[39mTrue\u001b[39;00m)\n",
            "\u001b[1;31mKeyboardInterrupt\u001b[0m: Interrupted by user"
          ]
        }
      ],
      "source": [
        "entrada = \"\"\n",
        "while True: # Loop infinito que continuará até que seja interrompido por um 'break'\n",
        "    entrada = input(\"Você aceita os termos? (Sim/Não): \")\n",
        "    if entrada.lower() == \"sim\":\n",
        "        print(\"Obrigado por aceitar os termos!\")\n",
        "        # Continuar com o restante do programa\n",
        "        break\n",
        "    elif entrada.lower() == \"não\":\n",
        "        print(\"Você não aceitou os termos. O programa será encerrado.\")\n",
        "        # Encerrar o programa ou realizar outras ações necessárias\n",
        "        break # encerra o programa\n",
        "    else:\n",
        "        print(\"Entrada inválida. Por favor, responda com 'Sim' ou 'Não'.\")\n"
      ]
    },
    {
      "cell_type": "markdown",
      "metadata": {
        "id": "yuZGBMzYfI7k"
      },
      "source": [
        "O comando `break` é usado neste contexto para sair do loop `while` assim que uma condição desejada for atendida. Sem o `break`, o loop `while True:` continuaria indefinidamente, já que a condição `True` nunca se torna falsa. O raciocínio por trás do uso do `break` no código fornecido é o seguinte:\n",
        "\n",
        "1. **Quando o Usuário Aceita os Termos**: Se o usuário digitar \"Sim\", a mensagem de agradecimento será impressa, e o `break` irá interromper o loop, permitindo que o programa continue com o código subsequente (se houver).\n",
        "\n",
        "2. **Quando o Usuário Não Aceita os Termos**: Se o usuário digitar \"Não\", a mensagem informando que os termos não foram aceitos será impressa, e o loop será encerrado com break.\n",
        "\n",
        "3. **Para Outras Entradas**: Se o usuário inserir algo diferente de \"Sim\" ou \"Não\", ele receberá uma mensagem de erro, e o loop continuará, solicitando novamente a entrada. O `break` não é usado neste caso, pois o loop deve continuar.\n",
        "\n",
        "O uso do `break` permite um controle preciso sobre quando o loop deve ser interrompido e quando deve continuar. Ele proporciona uma maneira de lidar com múltiplas condições dentro de um loop e sair do loop no momento apropriado. Neste exemplo específico, o `break` é usado para sair do loop quando o usuário aceita os termos, permitindo que o programa continue com outras partes do código."
      ]
    },
    {
      "cell_type": "markdown",
      "metadata": {
        "id": "MjK8oYmrf_Xt"
      },
      "source": [
        "#### **Validação de Senha Correta**"
      ]
    },
    {
      "cell_type": "code",
      "execution_count": null,
      "metadata": {
        "id": "Z87kPcE7gDhL"
      },
      "outputs": [],
      "source": [
        "senha_correta = \"45xT5\"\n",
        "tentativa = \"\"\n",
        "\n",
        "while tentativa != senha_correta:\n",
        "    tentativa = input(\"Digite a senha: \")\n",
        "\n",
        "print(\"Acesso concedido!\")"
      ]
    },
    {
      "cell_type": "markdown",
      "metadata": {
        "id": "SjHcTuBVgiSl"
      },
      "source": [
        "#### **Validação de Senha com limite de tentativas**"
      ]
    },
    {
      "cell_type": "code",
      "execution_count": 1,
      "metadata": {
        "id": "nTxeM2pEghU0"
      },
      "outputs": [
        {
          "name": "stdout",
          "output_type": "stream",
          "text": [
            "Acesso concedido!\n"
          ]
        }
      ],
      "source": [
        "senha_correta = \"1234\"\n",
        "tentativa = \"\"\n",
        "contador_tentativas = 0\n",
        "max_tentativas = 3\n",
        "\n",
        "while tentativa != senha_correta and contador_tentativas < max_tentativas:\n",
        "    tentativa = input(\"Digite a senha: \")\n",
        "    if tentativa != senha_correta:\n",
        "        contador_tentativas += 1\n",
        "        if contador_tentativas < max_tentativas:\n",
        "            print(f\"Senha incorreta! Você tem {max_tentativas - contador_tentativas} tentativas restantes.\")\n",
        "        else:\n",
        "            print(\"Usuário bloqueado. Você excedeu o número máximo de tentativas.\")\n",
        "            exit() # Encerra o programa ou você pode adicionar outras ações\n",
        "\n",
        "if tentativa == senha_correta:\n",
        "    print(\"Acesso concedido!\")\n"
      ]
    },
    {
      "cell_type": "markdown",
      "metadata": {
        "id": "MkhDXZ2FvuU0"
      },
      "source": [
        "#### **Soma**"
      ]
    },
    {
      "cell_type": "code",
      "execution_count": 3,
      "metadata": {
        "id": "rKL1DSF8vxvG"
      },
      "outputs": [
        {
          "name": "stdout",
          "output_type": "stream",
          "text": [
            "4.0\n",
            "48.0\n",
            "52.0\n",
            "56.0\n",
            "61.0\n",
            "63.0\n",
            "64.0\n",
            "67.0\n",
            "70.0\n",
            "72.0\n",
            "74.0\n",
            "76.0\n",
            "84.0\n",
            "A soma dos números é 84.0\n"
          ]
        }
      ],
      "source": [
        "soma = 0\n",
        "entrada = \"\"\n",
        "while entrada != \"sair\":\n",
        "    entrada = input(\"Digite um número ou 'sair' para terminar: \")\n",
        "    if entrada != \"sair\":\n",
        "        soma += float(entrada)\n",
        "        print(soma)\n",
        "print(f\"A soma dos números é {soma}\")\n"
      ]
    },
    {
      "cell_type": "markdown",
      "metadata": {
        "id": "qdFDYNEZwaLq"
      },
      "source": [
        "#### **Adivinhar um número**"
      ]
    },
    {
      "cell_type": "code",
      "execution_count": null,
      "metadata": {
        "id": "utaen_Rvv_R_"
      },
      "outputs": [],
      "source": [
        "numero_secreto = 7\n",
        "chute = -1\n",
        "while chute != numero_secreto:\n",
        "    chute = int(input(\"Adivinhe o número secreto entre 1 e 10: \"))\n",
        "print(\"Parabéns! Você adivinhou o número!\")"
      ]
    },
    {
      "cell_type": "markdown",
      "metadata": {
        "id": "TZUEY8Acynhm"
      },
      "source": [
        "#### **Simulação de Jogos de Dados**"
      ]
    },
    {
      "cell_type": "code",
      "execution_count": null,
      "metadata": {
        "id": "OcB3Cpcfyqic"
      },
      "outputs": [],
      "source": [
        "import random\n",
        "\n",
        "pontos = 0\n",
        "while pontos < 19:\n",
        "    dado = random.randint(1, 6)\n",
        "    print(\"Você jogou:\", dado)\n",
        "    pontos += dado\n",
        "\n",
        "print(\"Você atingiu 19 pontos!\")"
      ]
    },
    {
      "cell_type": "markdown",
      "metadata": {
        "id": "IWq1idj9x3pg"
      },
      "source": [
        "#### **Iteração sobre listas**"
      ]
    },
    {
      "cell_type": "code",
      "execution_count": null,
      "metadata": {
        "id": "wSOPSIkQx8iV"
      },
      "outputs": [],
      "source": [
        "lista = [10, 20, 30, 40]\n",
        "indice = 0\n",
        "while indice < len(lista):\n",
        "    print(lista[indice])\n",
        "    indice += 1"
      ]
    },
    {
      "cell_type": "markdown",
      "metadata": {
        "id": "92gHH_3fyBAV"
      },
      "source": [
        "#### **Iteração sobre Strings**"
      ]
    },
    {
      "cell_type": "code",
      "execution_count": null,
      "metadata": {
        "id": "RxsnjtWvyEnt"
      },
      "outputs": [],
      "source": [
        "texto = \"Python\"\n",
        "indice = 0\n",
        "while indice < len(texto):\n",
        "    print(texto[indice])\n",
        "    indice += 1"
      ]
    },
    {
      "cell_type": "markdown",
      "metadata": {
        "id": "TFXjWQu_JbV3"
      },
      "source": [
        "## **Controle de Fluxo FOR**\n",
        "\n"
      ]
    },
    {
      "cell_type": "markdown",
      "metadata": {
        "id": "d43T6X8R0jDL"
      },
      "source": [
        "### O que é\n",
        "\n",
        "A instrução `for` em Python é usada para iterar sobre uma sequência (que pode ser uma lista, uma tupla, um dicionário, um conjunto ou uma string). A estrutura permite que você execute um bloco de código várias vezes, uma vez para cada item na sequência.\n",
        "\n",
        "### Para que serve\n",
        "\n",
        "O loop `for` é utilizado para repetir uma ou mais instruções de código para cada elemento em uma sequência. Isso é útil quando você deseja executar uma ação específica para cada item em uma coleção, como adicionar valores, modificar dados ou imprimir informações.\n",
        "\n"
      ]
    },
    {
      "cell_type": "markdown",
      "metadata": {
        "id": "zmgZpLC_l6vo"
      },
      "source": [
        "Enquanto loop **WHILE** faz um teste - se for verdadeiro executa um código, se for falso, termina o loop - o loop **FOR** - dito controlado - executa o código um determinado número de vezes, definido previamente."
      ]
    },
    {
      "cell_type": "code",
      "execution_count": null,
      "metadata": {
        "id": "YA5AY_5D1YfE"
      },
      "outputs": [],
      "source": [
        "for number in range(5):\n",
        "    print(number)"
      ]
    },
    {
      "cell_type": "markdown",
      "metadata": {
        "id": "ZcMXL6eS1l80"
      },
      "source": [
        "#### Em Python, muitas estruturas de dados podem ser iteradas, ou seja, percorridas um elemento de cada vez."
      ]
    },
    {
      "cell_type": "markdown",
      "metadata": {
        "id": "_2g84t2i1tyj"
      },
      "source": [
        "#####**Listas**: Uma lista é uma coleção ordenada e mutável de elementos. Você pode iterar sobre os elementos da lista usando um loop for."
      ]
    },
    {
      "cell_type": "code",
      "execution_count": null,
      "metadata": {
        "id": "NmMVFEhxXp4P"
      },
      "outputs": [],
      "source": [
        "# Percorrendo uma lista\n",
        "\n",
        "print(\"Numeros em uma lista:\")\n",
        "\n",
        "for num in [1, 20, 3.5, 8]:\n",
        "    print(num)"
      ]
    },
    {
      "cell_type": "code",
      "execution_count": null,
      "metadata": {
        "id": "2-gNv1BZdZLo"
      },
      "outputs": [],
      "source": [
        "#Nomes em uma lista\n",
        "\n",
        "alunos = ['Alfredo', 'Cristiane', 'Filipe', 'Davi', 'Cruiff', 'Joria']\n",
        "\n",
        "for elemento in alunos:\n",
        "  print(elemento)"
      ]
    },
    {
      "cell_type": "markdown",
      "metadata": {
        "id": "wfae9KNu2DKy"
      },
      "source": [
        "#####**Tuplas**: Uma tupla é semelhante a uma lista, mas é imutável. Você também pode iterar sobre os elementos de uma tupla."
      ]
    },
    {
      "cell_type": "code",
      "execution_count": null,
      "metadata": {
        "id": "O34PqG3R2KLx"
      },
      "outputs": [],
      "source": [
        "for item in (1, 2, 3, 4):\n",
        "    print(item)"
      ]
    },
    {
      "cell_type": "markdown",
      "metadata": {
        "id": "khJSFObE2PBq"
      },
      "source": [
        "##### **Conjuntos (Sets)**: Um conjunto é uma coleção não ordenada e sem elementos duplicados. Você pode iterar sobre os elementos."
      ]
    },
    {
      "cell_type": "code",
      "execution_count": null,
      "metadata": {
        "id": "aX6iTGFo2SqS"
      },
      "outputs": [],
      "source": [
        "for item in {4, 1, 3, 2}:\n",
        "    print(item)"
      ]
    },
    {
      "cell_type": "markdown",
      "metadata": {
        "id": "PBdA0HTi20IL"
      },
      "source": [
        "##### **Dicionários**: Um dicionário é uma coleção de pares chave-valor. Você pode iterar sobre as chaves, os valores, ou ambos."
      ]
    },
    {
      "cell_type": "code",
      "execution_count": null,
      "metadata": {
        "id": "2eAssexT22sq"
      },
      "outputs": [],
      "source": [
        "my_dict = {'a': 1, 'b': 2, 'c': 3}\n",
        "for key, value in my_dict.items():\n",
        "    print(key, value)"
      ]
    },
    {
      "cell_type": "code",
      "execution_count": null,
      "metadata": {
        "id": "_de5p4V428Ki"
      },
      "outputs": [],
      "source": [
        "for key in my_dict.keys():\n",
        "  print(key)"
      ]
    },
    {
      "cell_type": "code",
      "execution_count": null,
      "metadata": {
        "id": "nkGNV30C3FFZ"
      },
      "outputs": [],
      "source": [
        "for value in my_dict.values():\n",
        "  print(value)"
      ]
    },
    {
      "cell_type": "markdown",
      "metadata": {
        "id": "1ctadrT13OTr"
      },
      "source": [
        "##### **Strings**: Uma string é uma sequência de caracteres e também pode ser iterada.\n",
        "\n"
      ]
    },
    {
      "cell_type": "code",
      "execution_count": null,
      "metadata": {
        "id": "lfmOe4FZ3Rfr"
      },
      "outputs": [],
      "source": [
        "for char in \"quero café\":\n",
        "    print(char)"
      ]
    },
    {
      "cell_type": "markdown",
      "metadata": {
        "id": "7R_Jt-t83gHi"
      },
      "source": [
        "##### **Range**: A função range retorna uma sequência de números que você pode iterar.\n",
        "\n"
      ]
    },
    {
      "cell_type": "code",
      "execution_count": null,
      "metadata": {
        "id": "vL53iVC-3dYi"
      },
      "outputs": [],
      "source": [
        "for i in range(5):\n",
        "    print(i)"
      ]
    },
    {
      "cell_type": "markdown",
      "metadata": {
        "id": "dxubETBN4g-x"
      },
      "source": [
        "#### **Soma dos elementos em uma lista**"
      ]
    },
    {
      "cell_type": "code",
      "execution_count": null,
      "metadata": {
        "id": "Rwx-z6iY4k8h"
      },
      "outputs": [],
      "source": [
        "numbers = [10, 20, 30, 40, 50]\n",
        "total_sum = 0\n",
        "\n",
        "for number in numbers:\n",
        "    total_sum += number\n",
        "\n",
        "print(\"A soma dos números é:\", total_sum)"
      ]
    },
    {
      "cell_type": "markdown",
      "metadata": {
        "id": "2xlLFGEI4otj"
      },
      "source": [
        "#### **Maior elemento de uma lista**"
      ]
    },
    {
      "cell_type": "code",
      "execution_count": null,
      "metadata": {
        "id": "HvMWDdt84tET"
      },
      "outputs": [],
      "source": [
        "numbers = [5, 3, 9, 1, 6]\n",
        "max_number = numbers[0]\n",
        "\n",
        "for number in numbers:\n",
        "    if number > max_number:\n",
        "        max_number = number\n",
        "\n",
        "print(\"O maior número é:\", max_number)"
      ]
    },
    {
      "cell_type": "markdown",
      "metadata": {
        "id": "zzMlFgAv4y8D"
      },
      "source": [
        "#### **Quantas letras?**"
      ]
    },
    {
      "cell_type": "code",
      "execution_count": 5,
      "metadata": {
        "id": "WfabcJgn42Jo"
      },
      "outputs": [
        {
          "name": "stdout",
          "output_type": "stream",
          "text": [
            "A letra 'l' aparece 3 vezes.\n"
          ]
        }
      ],
      "source": [
        "text = \"Hello, World!\"\n",
        "letra_a_contar = 'l'\n",
        "count = 0\n",
        "\n",
        "for char in text:\n",
        "    if char == letra_a_contar:\n",
        "        count += 1\n",
        "\n",
        "print(f\"A letra '{letra_a_contar}' aparece {count} vezes.\")"
      ]
    },
    {
      "cell_type": "markdown",
      "metadata": {
        "id": "v6lST13Y5h0o"
      },
      "source": [
        "#### **Um histograma de *****"
      ]
    },
    {
      "cell_type": "code",
      "execution_count": 4,
      "metadata": {
        "id": "joBAMh8a5fPf"
      },
      "outputs": [
        {
          "name": "stdout",
          "output_type": "stream",
          "text": [
            "***\n",
            "******\n",
            "**\n",
            "****\n"
          ]
        }
      ],
      "source": [
        "values = [3, 6, 2, 4]\n",
        "for value in values:\n",
        "    print('*' * value)"
      ]
    },
    {
      "cell_type": "markdown",
      "metadata": {
        "id": "5cmkGjiQ5_WW"
      },
      "source": [
        "#### **Maior e menor nota em uma lista com elementos passados pelo usuário**"
      ]
    },
    {
      "cell_type": "code",
      "execution_count": 7,
      "metadata": {
        "id": "EhFftF6Xd1Be"
      },
      "outputs": [
        {
          "name": "stdout",
          "output_type": "stream",
          "text": [
            "Maior nota: 20\n",
            "Média notas: 15.0\n"
          ]
        }
      ],
      "source": [
        "notas = []\n",
        "\n",
        "qtde = int(input(\"Informe qtas notas: \"))\n",
        "\n",
        "for elemento in range(qtde):\n",
        "  x = int(input(f\"Informe um valor({elemento+1}/{qtde}): \"))\n",
        "  notas.append(x)\n",
        "\n",
        "print(f\"Maior nota: {max(notas)}\")\n",
        "print(f\"Média notas: {sum(notas)/len(notas)}\")"
      ]
    },
    {
      "cell_type": "markdown",
      "metadata": {
        "id": "3y8ZZJEYWVrC"
      },
      "source": [
        "## **Estruturas de Repetição com Estruturas Condicionais (FOR e IF/ELSE)**"
      ]
    },
    {
      "cell_type": "markdown",
      "metadata": {
        "id": "gSWezvSP7BRu"
      },
      "source": [
        "####Verificando Números Pares e Ímpares"
      ]
    },
    {
      "cell_type": "code",
      "execution_count": 10,
      "metadata": {
        "id": "y12ZHz6oWS6t"
      },
      "outputs": [
        {
          "name": "stdout",
          "output_type": "stream",
          "text": [
            "O número 0 é par\n",
            "O número 1 é impar\n",
            "O número 2 é par\n",
            "O número 3 é impar\n",
            "O número 4 é par\n",
            "O número 5 é impar\n",
            "O número 6 é par\n",
            "O número 7 é impar\n",
            "O número 8 é par\n",
            "O número 9 é impar\n"
          ]
        }
      ],
      "source": [
        "for numero in range(10):\n",
        "    if numero % 2 == 0:\n",
        "        print(f'O número {numero} é par')\n",
        "    else:\n",
        "        print(f'O número {numero} é impar')"
      ]
    },
    {
      "cell_type": "markdown",
      "metadata": {
        "id": "KXM2cCFM7TtY"
      },
      "source": [
        "#### Contando Números Positivos, Negativos e Zeros em uma Lista"
      ]
    },
    {
      "cell_type": "code",
      "execution_count": 14,
      "metadata": {
        "id": "TVzNaXvF7P_u"
      },
      "outputs": [
        {
          "name": "stdout",
          "output_type": "stream",
          "text": [
            "Positivos: 2, Negativos: 2, Zeros: 2\n"
          ]
        }
      ],
      "source": [
        "numeros = [5, -3, 0, 8, -2, 0]\n",
        "positivos = 0\n",
        "negativos = 0\n",
        "zeros = 0\n",
        "\n",
        "for numero in numeros:\n",
        "    if numero > 0:\n",
        "        positivos += 1\n",
        "    elif numero < 0:\n",
        "        negativos += 1\n",
        "    else:\n",
        "        zeros += 1\n",
        "\n",
        "print(f\"Positivos: {positivos}, Negativos: {negativos}, Zeros: {zeros}\")\n"
      ]
    },
    {
      "cell_type": "markdown",
      "metadata": {
        "id": "qdA-k-SR9EYp"
      },
      "source": [
        "####  Encontrar o Primeiro Número Divisível por 7 em um intervalo\n"
      ]
    },
    {
      "cell_type": "code",
      "execution_count": 15,
      "metadata": {
        "id": "HCOmkX-v8_8d"
      },
      "outputs": [
        {
          "name": "stdout",
          "output_type": "stream",
          "text": [
            "O primeiro número divisível por 7 é 7\n"
          ]
        }
      ],
      "source": [
        "for i in range(1, 100):\n",
        "    if i % 7 == 0:\n",
        "        print(f\"O primeiro número divisível por 7 é {i}\")\n",
        "        break\n",
        "else:\n",
        "    print(\"Nenhum número divisível por 7 encontrado\")\n"
      ]
    },
    {
      "cell_type": "markdown",
      "metadata": {
        "id": "qxvVYMvf9Sem"
      },
      "source": [
        "OBS: A cláusula `else` pode ser usada com um loop `FOR` em Python, mas o seu comportamento é um pouco diferente do que pode ser esperado. A cláusula `else` em um loop `FOR` é executada quando o loop termina normalmente (ou seja, sem ser interrompido por um `break`). Se um `break` for executado dentro do loop, a cláusula `else` será ignorada."
      ]
    },
    {
      "cell_type": "markdown",
      "metadata": {
        "id": "E2iym58X-yzB"
      },
      "source": [
        "#### **break e continue**"
      ]
    },
    {
      "cell_type": "markdown",
      "metadata": {
        "id": "F8i04Kvb-7Hc"
      },
      "source": [
        "As instruções `break` e continue são usadas em loops para alterar o fluxo normal de execução\n",
        "* A instrução `break` é usada para terminar o loop atual e continuar a execução na próxima instrução após o loop.\n",
        "* A instrução `continue` é usada para pular o restante do código dentro do loop atual e continuar com a próxima iteração do loop."
      ]
    },
    {
      "cell_type": "code",
      "execution_count": 16,
      "metadata": {
        "id": "Qp_jbLTw_MU_"
      },
      "outputs": [
        {
          "name": "stdout",
          "output_type": "stream",
          "text": [
            "O primeiro número divisível por 5 é 5\n"
          ]
        }
      ],
      "source": [
        "# break\n",
        "\n",
        "for i in range(1, 10):\n",
        "    if i % 5 == 0:\n",
        "        print(f\"O primeiro número divisível por 5 é {i}\")\n",
        "        break\n"
      ]
    },
    {
      "cell_type": "code",
      "execution_count": 8,
      "metadata": {
        "id": "BNLCGiVE_P6L"
      },
      "outputs": [
        {
          "name": "stdout",
          "output_type": "stream",
          "text": [
            "1\n",
            "3\n",
            "5\n",
            "7\n",
            "9\n"
          ]
        }
      ],
      "source": [
        "# continue\n",
        "\n",
        "for i in range(10):\n",
        "    if i % 2 == 0:\n",
        "        continue\n",
        "    print(i)"
      ]
    },
    {
      "cell_type": "code",
      "execution_count": null,
      "metadata": {
        "id": "MO047ZY4_Wqk"
      },
      "outputs": [],
      "source": [
        "#break e continue"
      ]
    },
    {
      "cell_type": "code",
      "execution_count": 17,
      "metadata": {
        "id": "0gWop4x4_Y08"
      },
      "outputs": [
        {
          "name": "stdout",
          "output_type": "stream",
          "text": [
            "Processando número: 3\n",
            "Processando número: 4\n",
            "Encontrado número negativo: -2\n"
          ]
        }
      ],
      "source": [
        "numeros = [3, 0, 4, -2, 5]\n",
        "\n",
        "for numero in numeros:\n",
        "    if numero == 0:\n",
        "        continue  # Ignora zeros\n",
        "    elif numero < 0:\n",
        "        print(f\"Encontrado número negativo: {numero}\")\n",
        "        break  # Sai do loop se encontrar um número negativo\n",
        "    print(f\"Processando número: {numero}\")"
      ]
    },
    {
      "cell_type": "markdown",
      "metadata": {
        "id": "_KupNhJ_N50d"
      },
      "source": [
        "## **Estruturas Condicionais com List Comprehension**\n",
        "\n",
        "---\n",
        "\n",
        "\n",
        "**List comprehensions** são uma forma de expressar loops e condicionais dentro de uma lista. Elas são usadas para transformar uma lista (ou outras estruturas iteráveis) em outra lista, modificando, filtrando ou aplicando uma expressão a seus elementos. A sintaxe geral é:"
      ]
    },
    {
      "cell_type": "markdown",
      "metadata": {
        "id": "adXJxvQSN50f"
      },
      "source": [
        "\n",
        "\n",
        "```\n",
        "[expressao for item in iteravel if condicao]\n",
        "\n",
        "```\n",
        "\n",
        "O que a estrutura acima quer dizer é *aplique a expressão **expr** em cada **item** do **iterável** se **condição**)*"
      ]
    },
    {
      "cell_type": "markdown",
      "metadata": {
        "id": "f2laO0YTBJsY"
      },
      "source": [
        "**Para Que Servem?**\n",
        "\n",
        "As list comprehensions têm vários propósitos e vantagens, incluindo:\n",
        "\n",
        "* **Sintaxe Sucinta**: Elas permitem que você escreva loops complexos de uma forma mais compacta e legível.\n",
        "\n",
        "* **Eficiência**: Geralmente, são mais rápidas do que usar um loop for tradicional, pois são otimizadas para trabalhar com listas.\n",
        "\n",
        "* **Filtragem**: Você pode incluir condições para filtrar elementos, criando uma nova lista que contenha apenas os elementos que satisfazem uma determinada condição.\n"
      ]
    },
    {
      "cell_type": "code",
      "execution_count": null,
      "metadata": {
        "id": "hBt1CiJxOIOn"
      },
      "outputs": [],
      "source": [
        "# Exemplo SEM LIST COMPREHENSION\n",
        "\n",
        "lista_1 = []\n",
        "\n",
        "for item in [0,1,2,3,4,5,6,7,8,9]:\n",
        "  lista_1.append(item**2)\n",
        "\n",
        "lista_1"
      ]
    },
    {
      "cell_type": "code",
      "execution_count": null,
      "metadata": {
        "id": "Eolikpu4OcHg"
      },
      "outputs": [],
      "source": [
        "# Exemplo 1 COM LIST COMPREHENSION\n",
        "\n",
        "lista_2 = list(range(10))\n",
        "\n",
        "lista_3 = [item**2 for item in lista_2]\n",
        "\n",
        "lista_3"
      ]
    },
    {
      "cell_type": "code",
      "execution_count": null,
      "metadata": {
        "id": "n8tyCznnPZe7"
      },
      "outputs": [],
      "source": [
        "# Exemplo 2 COM LIST COMPREHENSION\n",
        "\n",
        "lista_4 = [item**2 for item in range(0, 10)]\n",
        "print(lista_4)"
      ]
    },
    {
      "cell_type": "code",
      "execution_count": null,
      "metadata": {
        "id": "ih11Zlt9N50g"
      },
      "outputs": [],
      "source": [
        "# Exemplo 3 COM LIST COMPREHENSION\n",
        "\n",
        "lista_pares = [item for item in range(0, 21) if item % 2 == 0]\n",
        "lista_pares"
      ]
    },
    {
      "cell_type": "code",
      "execution_count": 20,
      "metadata": {
        "id": "dmBeZIMWQGYW"
      },
      "outputs": [
        {
          "data": {
            "text/plain": [
              "['PAUL', 'RINGO', 'GEORGE', 'JOHN']"
            ]
          },
          "execution_count": 20,
          "metadata": {},
          "output_type": "execute_result"
        }
      ],
      "source": [
        "# Exemplo 2 SEM LIST COMPREHENSION\n",
        "\n",
        "resultado=[]\n",
        "lista_nomes = ['paul', 'ringo', 'george', 'john']\n",
        "\n",
        "for item in lista_nomes:\n",
        "  resultado.append(item.upper())\n",
        "resultado"
      ]
    },
    {
      "cell_type": "code",
      "execution_count": 22,
      "metadata": {
        "id": "590w9k4fRoxK"
      },
      "outputs": [
        {
          "data": {
            "text/plain": [
              "['PAUL']"
            ]
          },
          "execution_count": 22,
          "metadata": {},
          "output_type": "execute_result"
        }
      ],
      "source": [
        "# Exemplo 4 COM LIST COMPREHENSION\n",
        "\n",
        "resultado = [item.upper() for item in lista_nomes if item == 'paul']\n",
        "resultado"
      ]
    },
    {
      "cell_type": "markdown",
      "metadata": {
        "id": "U3ZMjGm2SHPw"
      },
      "source": [
        "## **Enumerate()**"
      ]
    },
    {
      "cell_type": "markdown",
      "metadata": {
        "id": "jdcGSWuQySIP"
      },
      "source": [
        "Nos exemplos acima, ao percorrer os elementos de uma sequência, não usamos o índice do elemento (sua posição na sequência). Entretanto, há situações em que esta informação é útil. Python nos permite acessar tanto os índices dos elementos quanto os elementos propriamente ditos se usarmos a função enumerate."
      ]
    },
    {
      "cell_type": "markdown",
      "metadata": {
        "id": "D1RUazEYCjdc"
      },
      "source": [
        "A função **enumerate** pega um iterável (como uma lista ou uma string) e retorna um objeto iterável que produz tuplas contendo o índice e o valor do item original. Em outras palavras, a função retorna pares (índice, valor) para cada elemento do iterável, onde o índice representa a posição do item no iterável."
      ]
    },
    {
      "cell_type": "markdown",
      "metadata": {
        "id": "LfZIUaUXC6w5"
      },
      "source": [
        "O enumerate é particularmente útil quando você precisa ter acesso ao índice de cada elemento enquanto está iterando através de uma lista, tuple, string ou outro objeto iterável. Isso pode ser útil em várias situações, como quando você precisa saber a posição dos elementos, além de seus valores."
      ]
    },
    {
      "cell_type": "code",
      "execution_count": null,
      "metadata": {
        "id": "2qxjhihRDASs"
      },
      "outputs": [],
      "source": [
        "frutas = ['maçã', 'banana', 'cereja', 'abacaxi']\n",
        "for indice, valor in enumerate(frutas):\n",
        "    print(f'Índice: {indice}, Valor: {valor}')\n"
      ]
    },
    {
      "cell_type": "code",
      "execution_count": null,
      "metadata": {
        "id": "Jkqde_3xXh1H"
      },
      "outputs": [],
      "source": [
        "for indice, elemento in enumerate(range(10,20)):\n",
        "    print(indice, elemento)"
      ]
    },
    {
      "cell_type": "code",
      "execution_count": null,
      "metadata": {
        "id": "yHYYr3PwEfDv"
      },
      "outputs": [],
      "source": [
        "consultores = [\"Gabriel\", \"Andressa\", \"Marcelo\", \"Carolina\"]"
      ]
    },
    {
      "cell_type": "code",
      "execution_count": null,
      "metadata": {
        "id": "T5ihdRnI2wv6"
      },
      "outputs": [],
      "source": [
        "for indice, elemento in enumerate(consultores):\n",
        "  print(elemento, indice)"
      ]
    }
  ],
  "metadata": {
    "accelerator": "GPU",
    "colab": {
      "collapsed_sections": [
        "h64ZeQXWw3Oa",
        "TFXjWQu_JbV3",
        "3y8ZZJEYWVrC",
        "_KupNhJ_N50d",
        "U3ZMjGm2SHPw"
      ],
      "provenance": []
    },
    "gpuClass": "standard",
    "kernelspec": {
      "display_name": "Python 3",
      "language": "python",
      "name": "python3"
    },
    "language_info": {
      "codemirror_mode": {
        "name": "ipython",
        "version": 3
      },
      "file_extension": ".py",
      "mimetype": "text/x-python",
      "name": "python",
      "nbconvert_exporter": "python",
      "pygments_lexer": "ipython3",
      "version": "3.11.4"
    }
  },
  "nbformat": 4,
  "nbformat_minor": 0
}
