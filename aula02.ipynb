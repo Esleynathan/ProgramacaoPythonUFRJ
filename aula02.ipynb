{
  "cells": [
    {
      "cell_type": "markdown",
      "metadata": {
        "id": "JdswrB95Qvr1"
      },
      "source": [
        "# NOTEBOOK 2"
      ]
    },
    {
      "cell_type": "markdown",
      "metadata": {
        "id": "uEl5ppVBN9S1"
      },
      "source": [
        "* Listas\n",
        "* Tuplas\n",
        "* Range"
      ]
    },
    {
      "cell_type": "markdown",
      "metadata": {
        "id": "FmfGlTsPQvsB"
      },
      "source": [
        "### 1) Listas\n",
        "\n",
        "São um tipo de dado com uma sequência ordenada de valores. Também pode ser uma lista vazia. Os tipos podem ser diferentes."
      ]
    },
    {
      "cell_type": "markdown",
      "metadata": {
        "id": "GRxMnVecyuEu"
      },
      "source": [
        "**Python possui um conjunto de métodos que podem ser usados para manipular listas:**\n",
        "\n",
        "\n",
        "| Método | Descrição |\n",
        "| --- | --- |\n",
        "| `append()` | Adiciona um elemento no fim da lista. |\n",
        "| `clear()` | Remove todos os elementos da lista. |\n",
        "| `copy()` | Devolve uma cópia da lista. |\n",
        "| `count()` | Devolve o número de elementos com o valor especificado. |\n",
        "| `extend()` | Acrescenta os elementos de uma lista (ou qualquer iterável), ao fim da lista. |\n",
        "| `index()` | Retorna o índice do primeiro elemento com o valor especificado. |\n",
        "| `insert()` | Adiciona um elemento na posição especificada. |\n",
        "| `pop()` | Remove o elemento na posição especificada. |\n",
        "| `remove()` | Remove o primeiro item com o valor especificado. |\n",
        "| `reverse()` | Inverte a ordem da lista. |\n",
        "| `sort()` | Ordena a lista. |"
      ]
    },
    {
      "cell_type": "markdown",
      "metadata": {
        "id": "PlOWR6tXXNiw"
      },
      "source": [
        "| Método | Exemplo | Descrição |\n",
        "| --- | --- | --- |\n",
        "| append() | `frutas = ['laranja', 'cereja']`<br>`frutas.append('banana')`<br>`print(frutas)`<br>`# Saída: ['laranja', 'cereja', 'banana']` | Adiciona um item ao final da lista. |\n",
        "| extend() | `numeros = [1, 2, 3]`<br>`numeros.extend([4, 5])`<br>`print(numeros)`<br>`# Saída: [1, 2, 3, 4, 5]` | Adiciona todos os itens de uma lista (ou qualquer iterável) ao final da lista atual. |\n",
        "| insert() | `frutas = ['laranja', 'cereja']`<br>`frutas.insert(1, 'maçã')`<br>`print(frutas)`<br>`# Saída: ['laranja', 'maçã', 'cereja']` | Insere um item em uma posição especificada. |\n",
        "| remove() | `frutas = ['laranja', 'maçã', 'cereja']`<br>`frutas.remove('maçã')`<br>`print(frutas)`<br>`# Saída: ['laranja', 'cereja']` | Remove o primeiro item da lista cujo valor é igual ao valor fornecido. |\n",
        "| pop() | `frutas = ['laranja', 'maçã', 'cereja']`<br>`removido = frutas.pop(1)`<br>`print(frutas)`<br>`# Saída: ['laranja', 'cereja']`<br>`print(removido)`<br>`# Saída: maçã` | Remove o item em uma posição especificada e o retorna. |\n",
        "| clear() | `frutas = ['laranja', 'maçã', 'cereja']`<br>`frutas.clear()`<br>`print(frutas)`<br>`# Saída: []` | Remove todos os itens da lista. |\n",
        "| index() | `frutas = ['laranja', 'maçã', 'cereja']`<br>`idx = frutas.index('maçã')`<br>`print(idx)`<br>`# Saída: 1` | Retorna o índice do primeiro item cujo valor é igual ao valor fornecido. |\n",
        "| count() | `frutas = ['maçã', 'laranja', 'maçã', 'cereja']`<br>`cnt = frutas.count('maçã')`<br>`print(cnt)`<br>`# Saída: 2` | Retorna o número de vezes que o valor fornecido aparece na lista. |\n",
        "| sort() | `numeros = [3, 2, 1]`<br>`numeros.sort()`<br>`print(numeros)`<br>`# Saída: [1, 2, 3]` | Classifica os itens da lista em ordem crescente. |\n",
        "| reverse() | `frutas = ['laranja', 'maçã', 'cereja']`<br>`frutas.reverse()`<br>`print(frutas)`<br>`# Saída: ['cereja', 'maçã', 'laranja']` | Inverte a ordem dos itens na lista. |\n",
        "| copy() | `frutas = ['laranja', 'maçã', 'cereja']`<br>`frutas_copia = frutas.copy()`<br>`print(frutas_copia)`<br>`# Saída: ['laranja', 'maçã', 'cereja']` | Retorna uma cópia da lista. |\n",
        "\n"
      ]
    },
    {
      "cell_type": "markdown",
      "metadata": {
        "id": "tCxSfPPlaFlt"
      },
      "source": [
        "**Em Python, existem várias funções built-in que podem ser usadas com listas. No entanto, essas funções não são específicas para listas, mas funcionam com diferentes tipos de objetos.**"
      ]
    },
    {
      "cell_type": "markdown",
      "metadata": {
        "id": "IpRCFB46ZynE"
      },
      "source": [
        "| Função | Exemplo | Descrição |\n",
        "| --- | --- | --- |\n",
        "| len() | `lst = [1, 2, 3, 4, 5]`<br>`print(len(lst))`<br>`# Saída: 5` | Retorna o número de itens em uma lista. |\n",
        "| max() | `lst = [1, 2, 3, 4, 5]`<br>`print(max(lst))`<br>`# Saída: 5` | Retorna o maior item de uma lista. |\n",
        "| min() | `lst = [1, 2, 3, 4, 5]`<br>`print(min(lst))`<br>`# Saída: 1` | Retorna o menor item de uma lista. |\n",
        "| sum() | `lst = [1, 2, 3, 4, 5]`<br>`print(sum(lst))`<br>`# Saída: 15` | Retorna a soma de todos os itens de uma lista. |\n",
        "| sorted() | `lst = [2, 1, 5, 3, 4]`<br>`print(sorted(lst))`<br>`# Saída: [1, 2, 3, 4, 5]` | Retorna uma nova lista que contém todos os itens da lista original em ordem crescente. |\n",
        "| any() | `lst = [False, True, False]`<br>`print(any(lst))`<br>`# Saída: True` | Retorna `True` se qualquer item da lista é avaliado como `True`. Caso contrário, retorna `False`. |\n",
        "| all() | `lst = [True, True, True]`<br>`print(all(lst))`<br>`# Saída: True` | Retorna `True` se todos os itens da lista são avaliados como `True`. Caso contrário, retorna `False`. |"
      ]
    },
    {
      "cell_type": "markdown",
      "metadata": {
        "id": "H2mSygXkXnJM"
      },
      "source": [
        "#### Lista Vazia"
      ]
    },
    {
      "cell_type": "code",
      "execution_count": 1,
      "metadata": {
        "id": "eLyAgOPcQvsB"
      },
      "outputs": [],
      "source": [
        "# comandos para criar listas vazias\n",
        "\n",
        "lista_vazia = []\n",
        "lista_vazia = list()"
      ]
    },
    {
      "cell_type": "code",
      "execution_count": null,
      "metadata": {
        "id": "QjMvI5_hF4-N"
      },
      "outputs": [],
      "source": [
        "lista_vazia"
      ]
    },
    {
      "cell_type": "markdown",
      "metadata": {
        "id": "fX97kiXVQvsC"
      },
      "source": [
        "#### Listas de números"
      ]
    },
    {
      "cell_type": "code",
      "execution_count": null,
      "metadata": {
        "id": "v18gx5Gf2lrW"
      },
      "outputs": [],
      "source": [
        "list_idade = [1,2,5,6]"
      ]
    },
    {
      "cell_type": "code",
      "execution_count": null,
      "metadata": {
        "id": "fVjCcGUqtp2M"
      },
      "outputs": [],
      "source": [
        "type(list_idade)  # type() retorna o tipo da variável"
      ]
    },
    {
      "cell_type": "code",
      "execution_count": null,
      "metadata": {
        "id": "kmXanIzEv7v_"
      },
      "outputs": [],
      "source": [
        "numeros = [5, 8.3, 9, 4, 5000, 2]"
      ]
    },
    {
      "cell_type": "code",
      "execution_count": null,
      "metadata": {
        "id": "oGuQqltmuZDR"
      },
      "outputs": [],
      "source": [
        "type(numeros)"
      ]
    },
    {
      "cell_type": "code",
      "execution_count": 1,
      "metadata": {
        "colab": {
          "base_uri": "https://localhost:8080/"
        },
        "id": "9-swzmPZEsjW",
        "outputId": "1cb64bd1-a60e-4e36-b63e-375b16be4bc0"
      },
      "outputs": [
        {
          "data": {
            "text/plain": [
              "[1, 1, 1, 1, 1, 1, 1, 1, 1, 1]"
            ]
          },
          "execution_count": 1,
          "metadata": {},
          "output_type": "execute_result"
        }
      ],
      "source": [
        "lista_repetida = [1]*10\n",
        "lista_repetida"
      ]
    },
    {
      "cell_type": "markdown",
      "metadata": {
        "id": "xybDKoRmQvsC"
      },
      "source": [
        "#### Listas de strings"
      ]
    },
    {
      "cell_type": "code",
      "execution_count": null,
      "metadata": {
        "id": "ywLTAopCQvsD"
      },
      "outputs": [],
      "source": [
        "nomes = [\"Mia\", \"Fred\", \"Jorge\", \"Zelda\", \"Phoebe\"]"
      ]
    },
    {
      "cell_type": "code",
      "execution_count": null,
      "metadata": {
        "id": "IOGEL66Nuzo9"
      },
      "outputs": [],
      "source": [
        "type(nomes)"
      ]
    },
    {
      "cell_type": "code",
      "execution_count": null,
      "metadata": {
        "id": "F1u7gwkPvC5-"
      },
      "outputs": [],
      "source": [
        "alunos = [\"Mia\", \"Fred\", \"Zelda\", \"Mia\", \"Jorge\", \"José\", \"Davi\", \"Mia\"]"
      ]
    },
    {
      "cell_type": "code",
      "execution_count": null,
      "metadata": {
        "id": "sDqabm8KvGDt"
      },
      "outputs": [],
      "source": [
        "notas = [10, 7, 150, 6, 9, 8.5, 8]"
      ]
    },
    {
      "cell_type": "code",
      "execution_count": 1,
      "metadata": {
        "id": "1FSncoAsGkH9"
      },
      "outputs": [
        {
          "ename": "NameError",
          "evalue": "name 'notas' is not defined",
          "output_type": "error",
          "traceback": [
            "\u001b[1;31m---------------------------------------------------------------------------\u001b[0m",
            "\u001b[1;31mNameError\u001b[0m                                 Traceback (most recent call last)",
            "Cell \u001b[1;32mIn[1], line 1\u001b[0m\n\u001b[1;32m----> 1\u001b[0m notas[\u001b[39m0\u001b[39m] \u001b[39m=\u001b[39m \u001b[39m8\u001b[39m  \u001b[39m#atribuindo um novo valor a um item da lista\u001b[39;00m\n",
            "\u001b[1;31mNameError\u001b[0m: name 'notas' is not defined"
          ]
        }
      ],
      "source": [
        "notas[0] = 8  #atribuindo um novo valor a um item da lista"
      ]
    },
    {
      "cell_type": "code",
      "execution_count": null,
      "metadata": {
        "id": "cSAZ6zkgGmhp"
      },
      "outputs": [],
      "source": [
        "notas"
      ]
    },
    {
      "cell_type": "markdown",
      "metadata": {
        "id": "lW4w48ZrQvsD"
      },
      "source": [
        "#### Operação com Sequências\n"
      ]
    },
    {
      "cell_type": "markdown",
      "metadata": {
        "id": "fVjkLZeUJqPF"
      },
      "source": [
        "####  Verificar se um item está na lista - comando **in**"
      ]
    },
    {
      "cell_type": "code",
      "execution_count": null,
      "metadata": {
        "id": "KVc3R3Tf3kLu"
      },
      "outputs": [],
      "source": [
        "alunos"
      ]
    },
    {
      "cell_type": "code",
      "execution_count": null,
      "metadata": {
        "id": "cdRXbZoEwqSK"
      },
      "outputs": [],
      "source": [
        "\"Zelda\" in alunos"
      ]
    },
    {
      "cell_type": "code",
      "execution_count": null,
      "metadata": {
        "id": "YsUbNZDIwi12"
      },
      "outputs": [],
      "source": [
        "\"Rony\" in alunos"
      ]
    },
    {
      "cell_type": "code",
      "execution_count": null,
      "metadata": {
        "id": "wwKocD1_69Hd"
      },
      "outputs": [],
      "source": [
        "alunos"
      ]
    },
    {
      "cell_type": "code",
      "execution_count": null,
      "metadata": {
        "id": "sPWBSyujwnp9"
      },
      "outputs": [],
      "source": [
        "\"mia\" in alunos  # por quê?"
      ]
    },
    {
      "cell_type": "code",
      "execution_count": null,
      "metadata": {
        "id": "gK0oNPoAxBZj"
      },
      "outputs": [],
      "source": [
        "10 in notas"
      ]
    },
    {
      "cell_type": "markdown",
      "metadata": {
        "id": "oHxvbC0uQvsE"
      },
      "source": [
        "#### Verificar se um item não está na lista **not in**"
      ]
    },
    {
      "cell_type": "code",
      "execution_count": null,
      "metadata": {
        "id": "h2jvY2cYQvsE"
      },
      "outputs": [],
      "source": [
        "\"Rony\" not in alunos"
      ]
    },
    {
      "cell_type": "markdown",
      "metadata": {
        "id": "eYISWGXBGAEH"
      },
      "source": [
        "#### Acessar uma posição na lista\n"
      ]
    },
    {
      "cell_type": "code",
      "execution_count": null,
      "metadata": {
        "id": "4Z8jl1mDJcEO"
      },
      "outputs": [],
      "source": [
        "alunos"
      ]
    },
    {
      "cell_type": "code",
      "execution_count": null,
      "metadata": {
        "id": "mnWfBq_VF8s3"
      },
      "outputs": [],
      "source": [
        "alunos[0]  # Python é indexado do 0"
      ]
    },
    {
      "cell_type": "code",
      "execution_count": null,
      "metadata": {
        "id": "eOcgvAiX7UT3"
      },
      "outputs": [],
      "source": [
        "alunos[1] = 'Andre'"
      ]
    },
    {
      "cell_type": "code",
      "execution_count": null,
      "metadata": {
        "id": "Y7bOCiU0ILtb"
      },
      "outputs": [],
      "source": [
        "alunos[5]"
      ]
    },
    {
      "cell_type": "code",
      "execution_count": null,
      "metadata": {
        "id": "1APYq8ACIfY2"
      },
      "outputs": [],
      "source": [
        "len(alunos)"
      ]
    },
    {
      "cell_type": "markdown",
      "metadata": {
        "id": "WcbHJ-ZkGat8"
      },
      "source": [
        "#### Recuperar um fatia da lista (começando a entender o SLICING)"
      ]
    },
    {
      "cell_type": "code",
      "execution_count": null,
      "metadata": {
        "id": "GFLlwLUTyOdY"
      },
      "outputs": [],
      "source": [
        "alunos"
      ]
    },
    {
      "cell_type": "code",
      "execution_count": null,
      "metadata": {
        "id": "0xa0qi2pGzxB"
      },
      "outputs": [],
      "source": [
        "alunos[1:] # da posição 1 ao final"
      ]
    },
    {
      "cell_type": "code",
      "execution_count": null,
      "metadata": {
        "id": "jnecxm-1HGSX"
      },
      "outputs": [],
      "source": [
        "alunos[:5] # do início (posição 0) à posição 4 (5-1)"
      ]
    },
    {
      "cell_type": "markdown",
      "metadata": {
        "id": "WJSx2mP8G083"
      },
      "source": [
        "#### Replicar a lista dando um passo k"
      ]
    },
    {
      "cell_type": "code",
      "execution_count": null,
      "metadata": {
        "id": "uw6BT7SoHZh2"
      },
      "outputs": [],
      "source": [
        "print(alunos)"
      ]
    },
    {
      "cell_type": "code",
      "execution_count": null,
      "metadata": {
        "id": "EY48BbtKCFsG"
      },
      "outputs": [],
      "source": [
        "alunos[1:8:2] # passo = 2"
      ]
    },
    {
      "cell_type": "markdown",
      "metadata": {
        "id": "Er-YcymiKWbn"
      },
      "source": [
        "#### Tamanho da Lista\n",
        "len()"
      ]
    },
    {
      "cell_type": "markdown",
      "metadata": {
        "id": "kc_JthLH5LI_"
      },
      "source": [
        "lenght"
      ]
    },
    {
      "cell_type": "code",
      "execution_count": null,
      "metadata": {
        "id": "wk8yzVuaHkGH"
      },
      "outputs": [],
      "source": [
        "len(alunos) #retorna a quantidade de elementos na lista"
      ]
    },
    {
      "cell_type": "code",
      "execution_count": null,
      "metadata": {
        "id": "8qiBomOpG6JQ"
      },
      "outputs": [],
      "source": [
        "len(\"Oalmoçoestavabom\")"
      ]
    },
    {
      "cell_type": "markdown",
      "metadata": {
        "id": "DPxfU9SxQvsE"
      },
      "source": [
        "#### Concatenando uma lista"
      ]
    },
    {
      "cell_type": "code",
      "execution_count": null,
      "metadata": {
        "id": "YY72ULxIyeRX"
      },
      "outputs": [],
      "source": [
        "alunos"
      ]
    },
    {
      "cell_type": "code",
      "execution_count": null,
      "metadata": {
        "id": "olqwSsv3FfjI"
      },
      "outputs": [],
      "source": [
        "novos_alunos = alunos + [\"Andrea\", \"Marcela\"]  # Criamos uma nova lista a partir da concatenação de duas listas\n",
        "print(novos_alunos)"
      ]
    },
    {
      "cell_type": "code",
      "execution_count": null,
      "metadata": {
        "id": "j3voziIWQvsE"
      },
      "outputs": [],
      "source": [
        "frutas = ['banana', 'maça']\n",
        "legumes = ['jiló', 'chuchu']"
      ]
    },
    {
      "cell_type": "code",
      "execution_count": null,
      "metadata": {
        "id": "JQN_4cotzezn"
      },
      "outputs": [],
      "source": [
        "lista_compras = frutas + legumes  # Criamos uma nova lista a partir da concatenação de duas listas\n",
        "print(lista_compras)"
      ]
    },
    {
      "cell_type": "markdown",
      "metadata": {
        "id": "Ft3RJnLo0FVd"
      },
      "source": [
        "#### Modificando Listas"
      ]
    },
    {
      "cell_type": "markdown",
      "metadata": {
        "id": "Qnm9mGM9JHNw"
      },
      "source": [
        "##### APPEND()\n",
        "\n",
        "Adiciona qualquer valor completo, por exemplo, se enviarmos uma string, ele adiciona a string, se enviarmos uma lista, ele adiciona a lista inteira ao invés de seus itens um a um."
      ]
    },
    {
      "cell_type": "code",
      "execution_count": null,
      "metadata": {
        "id": "e5b_b50fz_4y"
      },
      "outputs": [],
      "source": [
        "# Cria uma lista vazia.\n",
        "lista = []\n",
        "\n",
        "# Adiciona elementos no final da lista.\n",
        "lista.append(\"P\")\n",
        "lista.append(\"Y\")\n",
        "lista.append(\"T\")\n",
        "lista.append(\"H\")\n",
        "lista.append(\"O\")\n",
        "lista.append(\"N\")\n",
        "\n",
        "print(lista)"
      ]
    },
    {
      "cell_type": "code",
      "execution_count": null,
      "metadata": {
        "id": "UHpjV5UHKMdR"
      },
      "outputs": [],
      "source": [
        "frutas"
      ]
    },
    {
      "cell_type": "code",
      "execution_count": null,
      "metadata": {
        "id": "sMueY6PI6Nnq"
      },
      "outputs": [],
      "source": [
        "frutas.append(\"melancia\")\n",
        "print(frutas)"
      ]
    },
    {
      "cell_type": "code",
      "execution_count": null,
      "metadata": {
        "id": "3td-TC1eKY1O"
      },
      "outputs": [],
      "source": [
        "frutas = frutas + [\"melancia\"]"
      ]
    },
    {
      "cell_type": "code",
      "execution_count": null,
      "metadata": {
        "id": "ZRoLPxK_Kebv"
      },
      "outputs": [],
      "source": [
        "frutas"
      ]
    },
    {
      "cell_type": "code",
      "execution_count": null,
      "metadata": {
        "id": "O5oFdRUq6USJ"
      },
      "outputs": [],
      "source": [
        "frutas.append(['uva', 'laranja'])\n"
      ]
    },
    {
      "cell_type": "code",
      "execution_count": null,
      "metadata": {
        "id": "eNYVvRkJPayh"
      },
      "outputs": [],
      "source": [
        "print(frutas)"
      ]
    },
    {
      "cell_type": "code",
      "execution_count": null,
      "metadata": {
        "id": "c24URVBjQvsH"
      },
      "outputs": [],
      "source": [
        "len(frutas)"
      ]
    },
    {
      "cell_type": "code",
      "execution_count": null,
      "metadata": {
        "id": "vZKOeLw20oIp"
      },
      "outputs": [],
      "source": [
        "bolo = ['farinha de trigo', 'ovo', 'leite', 'manteiga']\n",
        "bolo.append(['açucar', 'fermento'])\n",
        "print(bolo)"
      ]
    },
    {
      "cell_type": "markdown",
      "metadata": {
        "id": "BpJsAORg0sJC"
      },
      "source": [
        "Perceba que o append adicionou a lista ['açucar', 'fermento'] à lista bolo. Mas talvez desejássemos adicionar 'açucar' e 'fermento' como elementos da lista bolo, e não como uma lista dentro de uma lista. O extend nos permite fazer isso."
      ]
    },
    {
      "cell_type": "code",
      "execution_count": null,
      "metadata": {
        "id": "znbhAv6c0w_G"
      },
      "outputs": [],
      "source": [
        "bolo = ['farinha de trigo', 'ovo', 'leite', 'manteiga']\n",
        "bolo.extend(['açucar', 'fermento'])\n",
        "print(bolo)"
      ]
    },
    {
      "cell_type": "code",
      "execution_count": null,
      "metadata": {
        "id": "LtMM-n8dXLsK"
      },
      "outputs": [],
      "source": [
        "len(bolo)"
      ]
    },
    {
      "cell_type": "markdown",
      "metadata": {
        "id": "smNjrZ5fIx-5"
      },
      "source": [
        "##### EXTEND()\n",
        "\n",
        "Adiciona itens de uma estrutura iterável, por exemplo, se enviarmos um objeto puro, ele não sabe como adicionar, porém, se enviarmos esse mesmo objeto dentro de uma lista, ele varrerá a lista e adicionará os objetos dentro da lista, um a um."
      ]
    },
    {
      "cell_type": "code",
      "execution_count": 1,
      "metadata": {
        "id": "mNM5Us9r9uPN"
      },
      "outputs": [],
      "source": [
        "linguagens = [\"C\", \"Java\", \"Julia\"]"
      ]
    },
    {
      "cell_type": "code",
      "execution_count": 2,
      "metadata": {
        "id": "j_Mw0QqK44hD"
      },
      "outputs": [],
      "source": [
        "linguagens.extend([\"Python\", 'Scala'])"
      ]
    },
    {
      "cell_type": "code",
      "execution_count": 3,
      "metadata": {
        "colab": {
          "base_uri": "https://localhost:8080/"
        },
        "id": "dVFws-bUXTbh",
        "outputId": "6c5937a3-a9e9-4dc0-c457-94c5cb4a2179"
      },
      "outputs": [
        {
          "data": {
            "text/plain": [
              "['C', 'Java', 'Julia', 'Python', 'Scala']"
            ]
          },
          "execution_count": 3,
          "metadata": {},
          "output_type": "execute_result"
        }
      ],
      "source": [
        "linguagens"
      ]
    },
    {
      "cell_type": "markdown",
      "metadata": {
        "id": "7QPd0ZglDYuF"
      },
      "source": [
        "##### INSERT()"
      ]
    },
    {
      "cell_type": "markdown",
      "metadata": {
        "id": "--LUtNjN05gz"
      },
      "source": [
        "O método ```append()``` sempre insere elementos no final da lista. Isso é bom por questões de desempenho. É mais rápido inserir elementos no final de uma lista porque não precisamos percorrer a lista procurando a posição onde o elemento deve ser inserido. Mas também é possível inserir elementos em posições específicas da lista, usando o  método ```insert()```."
      ]
    },
    {
      "cell_type": "code",
      "execution_count": null,
      "metadata": {
        "id": "c2bucair1BQT"
      },
      "outputs": [],
      "source": [
        "lista = ['P', 'T', 'H', 'N']\n",
        "lista.insert(1, \"Y\")\n",
        "lista.insert(4, \"O\")\n",
        "\n",
        "\n",
        "print(lista)"
      ]
    },
    {
      "cell_type": "code",
      "execution_count": null,
      "metadata": {
        "id": "Q458JAsqLwV-"
      },
      "outputs": [],
      "source": [
        "lista.insert(-1, \"Q\")"
      ]
    },
    {
      "cell_type": "code",
      "execution_count": null,
      "metadata": {
        "id": "q-m5gl5WLzSZ"
      },
      "outputs": [],
      "source": [
        "lista"
      ]
    },
    {
      "cell_type": "markdown",
      "metadata": {
        "id": "9h6blTZXQvsF"
      },
      "source": [
        "##### Replicar a lista n vezes"
      ]
    },
    {
      "cell_type": "code",
      "execution_count": null,
      "metadata": {
        "id": "EdbERHVXMRPK"
      },
      "outputs": [],
      "source": [
        "notas"
      ]
    },
    {
      "cell_type": "code",
      "execution_count": null,
      "metadata": {
        "id": "g-KutYez2W12"
      },
      "outputs": [],
      "source": [
        "notas * 2"
      ]
    },
    {
      "cell_type": "markdown",
      "metadata": {
        "id": "mNbg0izsQvsI"
      },
      "source": [
        "##### Menor elemento da lista\n",
        "MIN()"
      ]
    },
    {
      "cell_type": "code",
      "execution_count": null,
      "metadata": {
        "id": "WjdEHy0W0grZ"
      },
      "outputs": [],
      "source": [
        "notas"
      ]
    },
    {
      "cell_type": "code",
      "execution_count": 2,
      "metadata": {
        "id": "UUN1_P9q_q35"
      },
      "outputs": [
        {
          "ename": "NameError",
          "evalue": "name 'notas' is not defined",
          "output_type": "error",
          "traceback": [
            "\u001b[1;31m---------------------------------------------------------------------------\u001b[0m",
            "\u001b[1;31mNameError\u001b[0m                                 Traceback (most recent call last)",
            "Cell \u001b[1;32mIn[2], line 1\u001b[0m\n\u001b[1;32m----> 1\u001b[0m \u001b[39mmin\u001b[39m(notas)\n",
            "\u001b[1;31mNameError\u001b[0m: name 'notas' is not defined"
          ]
        }
      ],
      "source": [
        "min(notas)"
      ]
    },
    {
      "cell_type": "code",
      "execution_count": null,
      "metadata": {
        "id": "Epap-DR__38B"
      },
      "outputs": [],
      "source": [
        "print(linguagens)"
      ]
    },
    {
      "cell_type": "code",
      "execution_count": null,
      "metadata": {
        "id": "tZSJl-4jAsZB"
      },
      "outputs": [],
      "source": [
        "min(linguagens)"
      ]
    },
    {
      "cell_type": "markdown",
      "metadata": {
        "id": "KpNGENQmEky0"
      },
      "source": [
        "##### Maior elemento da lista\n",
        "MAX()"
      ]
    },
    {
      "cell_type": "code",
      "execution_count": null,
      "metadata": {
        "id": "Q8oNg5-T53cX"
      },
      "outputs": [],
      "source": [
        "max(linguagens)"
      ]
    },
    {
      "cell_type": "code",
      "execution_count": null,
      "metadata": {
        "id": "Re64_4NXXqW7"
      },
      "outputs": [],
      "source": [
        "max(notas)"
      ]
    },
    {
      "cell_type": "markdown",
      "metadata": {
        "id": "pFF-D3OvQvsK"
      },
      "source": [
        "##### Número de ocorrências de um elemento na lista\n",
        " COUNT()"
      ]
    },
    {
      "cell_type": "code",
      "execution_count": null,
      "metadata": {
        "id": "1EMC_5iDQvsK",
        "scrolled": true
      },
      "outputs": [],
      "source": [
        "notas"
      ]
    },
    {
      "cell_type": "code",
      "execution_count": null,
      "metadata": {
        "id": "-FIZ86n5BIv0"
      },
      "outputs": [],
      "source": [
        "notas.count(9)"
      ]
    },
    {
      "cell_type": "markdown",
      "metadata": {
        "id": "Jc8OSnHOQvsN"
      },
      "source": [
        "##### Remover um item da lista\n",
        "DEL, REMOVE(), POP()\n",
        "\n"
      ]
    },
    {
      "cell_type": "markdown",
      "metadata": {
        "id": "MuawCLnzdQK6"
      },
      "source": [
        "|  | del | remove() | pop() |\n",
        "| --- | --- | --- | --- |\n",
        "| Descrição | A palavra-chave `del` em Python é usada para excluir variáveis, itens de lista ou partes de listas. | O método `remove()` é usado para remover o primeiro item da lista cujo valor é igual ao valor fornecido. | O método `pop()` é usado para remover um item em uma posição especificada e o retorna. |\n",
        "| Exemplo | `my_list = ['a', 'b', 'c', 'd', 'e']`<br>`del my_list[1]`<br>`print(my_list)`<br>`# Saída: ['a', 'c', 'd', 'e']` | `my_list = ['a', 'b', 'c', 'd', 'e']`<br>`my_list.remove('b')`<br>`print(my_list)`<br>`# Saída: ['a', 'c', 'd', 'e']` | `my_list = ['a', 'b', 'c', 'd', 'e']`<br>`item = my_list.pop(1)`<br>`print(my_list)`<br>`# Saída: ['a', 'c', 'd', 'e']`<br>`print(item)`<br>`# Saída: b` |\n",
        "| Retorna o item removido? | Não | Não | Sim |\n",
        "| Remove por índice ou valor? | Índice | Valor | Índice |\n",
        "| Remove múltiplos itens ou fatias? | Sim, pode remover uma fatia de uma lista. | Não, remove apenas o primeiro item que corresponde ao valor. | Não, remove apenas um item por vez. |\n",
        "| Lança um erro se o item não estiver presente? | Sim, lança um `IndexError` se o índice estiver fora do intervalo. | Sim, lança um `ValueError` se o valor não estiver presente. | Sim, lança um `IndexError` se o índice estiver fora do intervalo. |\n",
        "\n",
        "A escolha entre `del`, `remove()` e `pop()` depende do seu caso de uso específico."
      ]
    },
    {
      "cell_type": "markdown",
      "metadata": {
        "id": "83myj0N2TfWN"
      },
      "source": [
        "**```del list_name[index]```**    ->  para excluir um valor único de acordo com o índice apresentado\n",
        "\n",
        "**```del list_name```**      ->   para excluir a lista inteira"
      ]
    },
    {
      "cell_type": "code",
      "execution_count": 8,
      "metadata": {
        "id": "T0jzBQ9TS80U"
      },
      "outputs": [],
      "source": [
        "numbers = [1, 2, 3, 2, 3, 4, 5]"
      ]
    },
    {
      "cell_type": "code",
      "execution_count": 9,
      "metadata": {
        "colab": {
          "base_uri": "https://localhost:8080/"
        },
        "id": "ze9ZE7jFTBR-",
        "outputId": "fb449167-c34d-4115-a339-7b8a197cae7f"
      },
      "outputs": [
        {
          "name": "stdout",
          "output_type": "stream",
          "text": [
            "[1, 2, 2, 3, 4, 5]\n"
          ]
        }
      ],
      "source": [
        "del numbers[2]  # Excluir o item na posição 2 da lista\n",
        "print(numbers)"
      ]
    },
    {
      "cell_type": "markdown",
      "metadata": {
        "id": "A6va_E1EsqKa"
      },
      "source": [
        "As palavras-chave são algumas palavras predefinidas e reservadas em python"
      ]
    },
    {
      "cell_type": "code",
      "execution_count": null,
      "metadata": {
        "id": "rtgbufEHTDP0"
      },
      "outputs": [],
      "source": [
        "del numbers[-1]\n",
        "print(numbers)"
      ]
    },
    {
      "cell_type": "code",
      "execution_count": null,
      "metadata": {
        "id": "s0HeawdTTFOE"
      },
      "outputs": [],
      "source": [
        "del numbers"
      ]
    },
    {
      "cell_type": "code",
      "execution_count": null,
      "metadata": {
        "id": "8A6kuwchCLP8"
      },
      "outputs": [],
      "source": [
        "print(numbers)"
      ]
    },
    {
      "cell_type": "markdown",
      "metadata": {
        "id": "nfEC8NdFTuEM"
      },
      "source": [
        "**```list_name.remove(valor)```** UTILIZA O VALOR DO ELEMENTO PARA REMOVÊ-LO DA LISTA"
      ]
    },
    {
      "cell_type": "code",
      "execution_count": null,
      "metadata": {
        "id": "o2xR_Vw-Ta7U"
      },
      "outputs": [],
      "source": [
        "numbers = [\"João\", 2, 3, 2, 3, 4, 5]"
      ]
    },
    {
      "cell_type": "code",
      "execution_count": null,
      "metadata": {
        "id": "mQqtFZQeT2wA"
      },
      "outputs": [],
      "source": [
        "numbers.remove(\"João\")\n",
        "print(numbers)"
      ]
    },
    {
      "cell_type": "code",
      "execution_count": null,
      "metadata": {
        "id": "gdVtmSaTT1Nd"
      },
      "outputs": [],
      "source": [
        "numbers.remove(3) # remove a 1a ocorrência do valor 3\n",
        "print(numbers)"
      ]
    },
    {
      "cell_type": "code",
      "execution_count": null,
      "metadata": {
        "id": "8vv8YQb_Y1tP"
      },
      "outputs": [],
      "source": [
        "numbers"
      ]
    },
    {
      "cell_type": "code",
      "execution_count": null,
      "metadata": {
        "id": "1ce0gXI8ZE5u"
      },
      "outputs": [],
      "source": [
        "numbers[0] = 1"
      ]
    },
    {
      "cell_type": "code",
      "execution_count": null,
      "metadata": {
        "id": "h5tV7-udZJUr"
      },
      "outputs": [],
      "source": [
        "numbers"
      ]
    },
    {
      "cell_type": "markdown",
      "metadata": {
        "id": "cbbMx_FKUAvs"
      },
      "source": [
        "**```list_name.pop(índice)```**  UTILIZA O ÍNDICE PARA REMOVER O ELEMENTO DA LISTA"
      ]
    },
    {
      "cell_type": "markdown",
      "metadata": {
        "id": "GzwIive2DCJM"
      },
      "source": [
        "O método pop(), assim como del, apaga o valor que está armazenado no índice determinado. Mas o método pop() retorna o valor deletado da lista."
      ]
    },
    {
      "cell_type": "code",
      "execution_count": 73,
      "metadata": {
        "id": "wpIpyn3pUFoE"
      },
      "outputs": [],
      "source": [
        "numbers = [1, 2, 3, 2, 3, 4, 5]"
      ]
    },
    {
      "cell_type": "code",
      "execution_count": 74,
      "metadata": {
        "colab": {
          "base_uri": "https://localhost:8080/"
        },
        "id": "eSlp1uGeUK8M",
        "outputId": "7f9e61c4-aa99-41b9-894f-a015a0866a2d"
      },
      "outputs": [
        {
          "data": {
            "text/plain": [
              "2"
            ]
          },
          "execution_count": 74,
          "metadata": {},
          "output_type": "execute_result"
        }
      ],
      "source": [
        "removido = numbers.pop(3) # remove o objeto na posição indicada\n",
        "removido"
      ]
    },
    {
      "cell_type": "code",
      "execution_count": null,
      "metadata": {
        "id": "s3DbLXqXNwu3"
      },
      "outputs": [],
      "source": [
        "numbers"
      ]
    },
    {
      "cell_type": "code",
      "execution_count": null,
      "metadata": {
        "id": "3YlZARsNDMi7"
      },
      "outputs": [],
      "source": [
        "valor_removido = numbers.pop(-1)"
      ]
    },
    {
      "cell_type": "code",
      "execution_count": null,
      "metadata": {
        "id": "ALJjZ2NEDUH9"
      },
      "outputs": [],
      "source": [
        "print(numbers)\n",
        "print(valor_removido)"
      ]
    },
    {
      "cell_type": "code",
      "execution_count": null,
      "metadata": {
        "id": "XAfWKHEoz-zm"
      },
      "outputs": [],
      "source": [
        "print(frutas)"
      ]
    },
    {
      "cell_type": "code",
      "execution_count": null,
      "metadata": {
        "id": "byqit7QLQvsO"
      },
      "outputs": [],
      "source": [
        "removido = frutas.pop(3)\n",
        "removido"
      ]
    },
    {
      "cell_type": "code",
      "execution_count": null,
      "metadata": {
        "id": "wur1LAx8DyYV"
      },
      "outputs": [],
      "source": [
        "print(frutas)\n",
        "print(removido)"
      ]
    },
    {
      "cell_type": "markdown",
      "metadata": {
        "id": "tq9n65JkPB_L"
      },
      "source": [
        "#### **```lista.clear()```**"
      ]
    },
    {
      "cell_type": "markdown",
      "metadata": {
        "id": "O2vE4oRMiQUr"
      },
      "source": [
        "Remove todos os itens da lista e retorna a lista vazia"
      ]
    },
    {
      "cell_type": "code",
      "execution_count": 4,
      "metadata": {
        "id": "LboTBUU5OvTs"
      },
      "outputs": [],
      "source": [
        "lista_2 = [1,2,4,6]"
      ]
    },
    {
      "cell_type": "code",
      "execution_count": 5,
      "metadata": {
        "id": "ODtW7E0SO0YZ"
      },
      "outputs": [],
      "source": [
        "lista_2.clear()"
      ]
    },
    {
      "cell_type": "code",
      "execution_count": 6,
      "metadata": {
        "colab": {
          "base_uri": "https://localhost:8080/"
        },
        "id": "sV2olTz7SQ1x",
        "outputId": "00523315-f5db-4f4c-9434-f8ebe6c9c077"
      },
      "outputs": [
        {
          "data": {
            "text/plain": [
              "[]"
            ]
          },
          "execution_count": 6,
          "metadata": {},
          "output_type": "execute_result"
        }
      ],
      "source": [
        "lista_2"
      ]
    },
    {
      "cell_type": "markdown",
      "metadata": {
        "id": "uaxCkFWsaA9a"
      },
      "source": [
        "#### Ordenar\n",
        "**```sort()``` e ```sorted()```**"
      ]
    },
    {
      "cell_type": "markdown",
      "metadata": {
        "id": "i1q3CdFFai-7"
      },
      "source": [
        "```sort()``` é um método que modifica a lista original na qual é chamado e ordena os itens em ordem ascendente. Este método não retorna nada (ou seja, retorna ```None```), ele apenas altera a lista original. Por exemplo:"
      ]
    },
    {
      "cell_type": "code",
      "execution_count": 2,
      "metadata": {
        "colab": {
          "base_uri": "https://localhost:8080/"
        },
        "id": "-fa8CH8AaxG8",
        "outputId": "3ece0d62-cc33-4338-d1c5-44ba52426f06"
      },
      "outputs": [
        {
          "name": "stdout",
          "output_type": "stream",
          "text": [
            "[1, 1, 2, 3, 4, 5, 9]\n"
          ]
        }
      ],
      "source": [
        "lista = [3, 1, 4, 1, 5, 9, 2]\n",
        "lista.sort()\n",
        "print(lista)  # Saída: [1, 1, 2, 3, 4, 5, 9]"
      ]
    },
    {
      "cell_type": "markdown",
      "metadata": {
        "id": "Dj21HDnDa75S"
      },
      "source": [
        "```sorted()``` é uma função built-in que recebe um iterável (como uma lista, tupla, dicionário, conjunto etc.) e retorna uma nova lista de itens em ordem ascendente. **A sequência original não é alterada**. Por exemplo:"
      ]
    },
    {
      "cell_type": "code",
      "execution_count": 3,
      "metadata": {
        "colab": {
          "base_uri": "https://localhost:8080/"
        },
        "id": "qzv_PYH2bF9D",
        "outputId": "55eecba0-8ad2-4a14-978e-2ef5933c95c4"
      },
      "outputs": [
        {
          "name": "stdout",
          "output_type": "stream",
          "text": [
            "[1, 1, 2, 3, 4, 5, 9]\n",
            "[3, 1, 4, 1, 5, 9, 2]\n"
          ]
        }
      ],
      "source": [
        "lista = [3, 1, 4, 1, 5, 9, 2]\n",
        "sorted_lista = sorted(lista)\n",
        "print(sorted_lista)  # Saída: [1, 1, 2, 3, 4, 5, 9]\n",
        "print(lista)  # Saída: [3, 1, 4, 1, 5, 9, 2]"
      ]
    },
    {
      "cell_type": "markdown",
      "metadata": {
        "id": "IRkDAerCbqwc"
      },
      "source": [
        "A escolha entre ```sort()``` e ```sorted()``` depende principalmente de dois fatores: se você precisa ou não manter a lista original e o tipo de dados que você está ordenando."
      ]
    },
    {
      "cell_type": "code",
      "execution_count": null,
      "metadata": {
        "id": "63leXuVwXDD0"
      },
      "outputs": [],
      "source": [
        "numbers = [6, 9, 3, 1]"
      ]
    },
    {
      "cell_type": "code",
      "execution_count": null,
      "metadata": {
        "id": "iSxdROwwXErb"
      },
      "outputs": [],
      "source": [
        "numbers_sorted = sorted(numbers)  # cria uma nova lista ordenada\n",
        "numbers_sorted"
      ]
    },
    {
      "cell_type": "code",
      "execution_count": null,
      "metadata": {
        "id": "KnhuQbKXXMDz"
      },
      "outputs": [],
      "source": [
        "numbers  # lista original permanece a mesma"
      ]
    },
    {
      "cell_type": "code",
      "execution_count": 4,
      "metadata": {
        "id": "O3if-yvgXElr"
      },
      "outputs": [],
      "source": [
        "names = ['Harry', 'Simone', 'Allan', 'Marcos']"
      ]
    },
    {
      "cell_type": "code",
      "execution_count": null,
      "metadata": {
        "id": "r4aFJepeX-XD"
      },
      "outputs": [],
      "source": [
        "sorted(names)"
      ]
    },
    {
      "cell_type": "code",
      "execution_count": 5,
      "metadata": {
        "id": "PMyM5A0FYBfd"
      },
      "outputs": [
        {
          "data": {
            "text/plain": [
              "['Simone', 'Marcos', 'Harry', 'Allan']"
            ]
          },
          "execution_count": 5,
          "metadata": {},
          "output_type": "execute_result"
        }
      ],
      "source": [
        "sorted(names, reverse=True)"
      ]
    },
    {
      "cell_type": "code",
      "execution_count": 6,
      "metadata": {
        "id": "xhQDL9gaFDKe"
      },
      "outputs": [
        {
          "ename": "NameError",
          "evalue": "name 'frutas' is not defined",
          "output_type": "error",
          "traceback": [
            "\u001b[1;31m---------------------------------------------------------------------------\u001b[0m",
            "\u001b[1;31mNameError\u001b[0m                                 Traceback (most recent call last)",
            "Cell \u001b[1;32mIn[6], line 1\u001b[0m\n\u001b[1;32m----> 1\u001b[0m \u001b[39msorted\u001b[39m(frutas)\n",
            "\u001b[1;31mNameError\u001b[0m: name 'frutas' is not defined"
          ]
        }
      ],
      "source": [
        "sorted(frutas)"
      ]
    },
    {
      "cell_type": "markdown",
      "metadata": {
        "id": "ny82Gci9HNrF"
      },
      "source": [
        "#### **index()**\n",
        "\n",
        "Retorna o índice do primeiro valor especificado"
      ]
    },
    {
      "cell_type": "code",
      "execution_count": null,
      "metadata": {
        "id": "_ud5RUFz9p2k"
      },
      "outputs": [],
      "source": [
        "names"
      ]
    },
    {
      "cell_type": "code",
      "execution_count": 7,
      "metadata": {
        "id": "O5WJYQZoF2I4"
      },
      "outputs": [
        {
          "data": {
            "text/plain": [
              "2"
            ]
          },
          "execution_count": 7,
          "metadata": {},
          "output_type": "execute_result"
        }
      ],
      "source": [
        "names.index('Allan')"
      ]
    },
    {
      "cell_type": "markdown",
      "metadata": {
        "id": "lHnO-SB7KgMo"
      },
      "source": [
        "### Exercícios"
      ]
    },
    {
      "cell_type": "markdown",
      "metadata": {
        "id": "bXjit5wUIuU6"
      },
      "source": [
        "1) Crie uma lista vazia e adicione os elementos 1, 2, 3, 4, 5 usando o método append."
      ]
    },
    {
      "cell_type": "code",
      "execution_count": 13,
      "metadata": {},
      "outputs": [
        {
          "name": "stdout",
          "output_type": "stream",
          "text": [
            "[1, 2, 3, 4, 5]\n"
          ]
        }
      ],
      "source": [
        "lista = []\n",
        "\n",
        "lista.append(1)\n",
        "\n",
        "lista.append(2)\n",
        "\n",
        "lista.append(3)\n",
        "\n",
        "lista.append(4)\n",
        "\n",
        "lista.append(5)\n",
        "\n",
        "print (lista)"
      ]
    },
    {
      "cell_type": "markdown",
      "metadata": {
        "id": "d-cNqGSVIr3t"
      },
      "source": [
        "2) Dada a lista = [1, 10, 3, 8, 5], remova o elemento 3 da lista."
      ]
    },
    {
      "cell_type": "code",
      "execution_count": 15,
      "metadata": {
        "id": "rCVXuHf0V4rq"
      },
      "outputs": [
        {
          "name": "stdout",
          "output_type": "stream",
          "text": [
            "[1, 10, 8, 5]\n"
          ]
        }
      ],
      "source": [
        "lista = [1,10,3,8,5]\n",
        "\n",
        "lista.remove(3)\n",
        "\n",
        "print (lista)"
      ]
    },
    {
      "cell_type": "markdown",
      "metadata": {
        "id": "IfwaF9caIzCj"
      },
      "source": [
        "3) Dada a lista = [1, 2, 3, 4, 5], inverta a ordem dos elementos na lista."
      ]
    },
    {
      "cell_type": "code",
      "execution_count": 19,
      "metadata": {
        "id": "EMy61M5cZIKV"
      },
      "outputs": [
        {
          "name": "stdout",
          "output_type": "stream",
          "text": [
            "[5, 4, 3, 2, 1]\n"
          ]
        }
      ],
      "source": [
        "lista = [1,2,3,4,5]\n",
        "\n",
        "lista.reverse()\n",
        "\n",
        "print(lista)"
      ]
    },
    {
      "cell_type": "code",
      "execution_count": 20,
      "metadata": {},
      "outputs": [
        {
          "data": {
            "text/plain": [
              "[5, 4, 3, 2, 1]"
            ]
          },
          "execution_count": 20,
          "metadata": {},
          "output_type": "execute_result"
        }
      ],
      "source": [
        "sorted(lista, reverse=True)"
      ]
    },
    {
      "cell_type": "markdown",
      "metadata": {
        "id": "cdZYIQPgI4of"
      },
      "source": [
        "4) Dada a lista = [1,1,1,1,1,7,8,9], crie outra lista com os os três últimos elementos"
      ]
    },
    {
      "cell_type": "code",
      "execution_count": 23,
      "metadata": {
        "id": "RoZhpFq9XEuA"
      },
      "outputs": [
        {
          "name": "stdout",
          "output_type": "stream",
          "text": [
            "[7, 8, 9]\n"
          ]
        }
      ],
      "source": [
        "lista =  [1,1,1,1,1,7,8,9]\n",
        "lista_4 = lista[5:]\n",
        "\n",
        "print(lista_4)"
      ]
    },
    {
      "cell_type": "markdown",
      "metadata": {
        "id": "YJL5XQuIJFJi"
      },
      "source": [
        "5) Dada a lista = [-1, 2.5, 2.555, 4, 20], imprima o maior valor da lista."
      ]
    },
    {
      "cell_type": "code",
      "execution_count": 25,
      "metadata": {
        "id": "pQx52bzXZYCM"
      },
      "outputs": [
        {
          "data": {
            "text/plain": [
              "20"
            ]
          },
          "execution_count": 25,
          "metadata": {},
          "output_type": "execute_result"
        }
      ],
      "source": [
        "lista = [-1, 2.5, 2.555, 4, 20]\n",
        "max(lista)"
      ]
    },
    {
      "cell_type": "markdown",
      "metadata": {
        "id": "rTU8H6-ZJLTT"
      },
      "source": [
        "6) Dada a lista = [5, -5, 10, 6, 8, 45, 8, 14, 78], imprima o menor valor da lista."
      ]
    },
    {
      "cell_type": "code",
      "execution_count": 24,
      "metadata": {
        "id": "nZZE1b87ZW9t"
      },
      "outputs": [
        {
          "data": {
            "text/plain": [
              "78"
            ]
          },
          "execution_count": 24,
          "metadata": {},
          "output_type": "execute_result"
        }
      ],
      "source": [
        "lista = [5, -5, 10, 6, 8, 45, 8, 14, 78]\n",
        "min(lista)"
      ]
    },
    {
      "cell_type": "markdown",
      "metadata": {
        "id": "_F14G7U0JVVT"
      },
      "source": [
        " 7) Dada a lista = ['Ana', 'André', 'Joana', 'Miguel', 'Ana'], remova o elemento repetido e o salve em na variável ```nome_repetido```"
      ]
    },
    {
      "cell_type": "code",
      "execution_count": 81,
      "metadata": {
        "id": "jde8PWfDhOfe"
      },
      "outputs": [],
      "source": [
        "lista = ['Ana', 'André', 'Joana', 'Miguel', 'Ana']\n",
        "min(lista)"
      ]
    },
    {
      "cell_type": "code",
      "execution_count": 27,
      "metadata": {
        "colab": {
          "base_uri": "https://localhost:8080/",
          "height": 0
        },
        "id": "oVmrM86OhSY-",
        "outputId": "55ca7c59-90a7-4634-98ca-14c2e5ea0464"
      },
      "outputs": [
        {
          "data": {
            "text/plain": [
              "2.5"
            ]
          },
          "execution_count": 27,
          "metadata": {},
          "output_type": "execute_result"
        }
      ],
      "source": [
        "nome_repetido = lista.pop(0)\n",
        "nome_repetido"
      ]
    },
    {
      "cell_type": "code",
      "execution_count": 78,
      "metadata": {
        "id": "DAshNv4Uh1u9"
      },
      "outputs": [],
      "source": [
        "lista.remove(\"Joana\")"
      ]
    },
    {
      "cell_type": "code",
      "execution_count": 79,
      "metadata": {
        "colab": {
          "base_uri": "https://localhost:8080/"
        },
        "id": "t8mOOhsnh-Pd",
        "outputId": "03517a83-1614-4bd0-9a7d-9b494fecfe2e"
      },
      "outputs": [
        {
          "data": {
            "text/plain": [
              "['André', 'Miguel', 'Ana']"
            ]
          },
          "execution_count": 79,
          "metadata": {},
          "output_type": "execute_result"
        }
      ],
      "source": [
        "lista"
      ]
    },
    {
      "cell_type": "code",
      "execution_count": 80,
      "metadata": {
        "colab": {
          "base_uri": "https://localhost:8080/"
        },
        "id": "0xG1COt8h_5_",
        "outputId": "e8297db7-d6f7-4f93-e7e2-80e9568830fe"
      },
      "outputs": [
        {
          "data": {
            "text/plain": [
              "0"
            ]
          },
          "execution_count": 80,
          "metadata": {},
          "output_type": "execute_result"
        }
      ],
      "source": [
        "lista.index('André')"
      ]
    },
    {
      "cell_type": "markdown",
      "metadata": {
        "id": "PyS_wHFQJa2C"
      },
      "source": [
        " 8) Dada a lista = [9,7,5,8,1,3,2,4,10], crie uma nova lista ordenada crescentemente e outra, decrescentemente."
      ]
    },
    {
      "cell_type": "code",
      "execution_count": 20,
      "metadata": {
        "colab": {
          "base_uri": "https://localhost:8080/"
        },
        "id": "RzFED97xM4Ix",
        "outputId": "cd9760b8-91f7-44cd-a0eb-46cbe3054b62"
      },
      "outputs": [
        {
          "name": "stdout",
          "output_type": "stream",
          "text": [
            "[10, 4, 2, 3, 1, 8, 5, 7, 6, 9]\n"
          ]
        }
      ],
      "source": [
        "lista = [9,6,7,5,8,1,3,2,4,10]\n",
        "lista_1 = lista.copy()\n",
        "lista_1.reverse()\n",
        "print(lista_1)"
      ]
    },
    {
      "cell_type": "markdown",
      "metadata": {
        "id": "RefwchyhKUxR"
      },
      "source": [
        "10) Dada a lista = ['a', 'b', 'c', 'd', 'e'], insira os elementos \"um\", \"dois\" e \"três\" nas posições 0, 2 e 4\n"
      ]
    },
    {
      "cell_type": "code",
      "execution_count": 95,
      "metadata": {
        "id": "NqJNBt9qlO9k"
      },
      "outputs": [],
      "source": [
        "lista = ['a', 'b', 'c', 'd', 'e']"
      ]
    },
    {
      "cell_type": "code",
      "execution_count": 98,
      "metadata": {
        "id": "g_qPOb3LlRyi"
      },
      "outputs": [],
      "source": [
        "lista.insert(0, 'um')"
      ]
    },
    {
      "cell_type": "code",
      "execution_count": 99,
      "metadata": {
        "colab": {
          "base_uri": "https://localhost:8080/"
        },
        "id": "6VhxqVx3lXti",
        "outputId": "ab93a8ad-e290-4047-dfc3-a53d636d5b7a"
      },
      "outputs": [
        {
          "data": {
            "text/plain": [
              "['um', 'a', 0, 'b', 'c', 'd', 'e']"
            ]
          },
          "execution_count": 99,
          "metadata": {},
          "output_type": "execute_result"
        }
      ],
      "source": [
        "lista"
      ]
    },
    {
      "cell_type": "markdown",
      "metadata": {
        "id": "b_VcolVQQvsP"
      },
      "source": [
        "### 2) Tuplas - tuple"
      ]
    },
    {
      "cell_type": "markdown",
      "metadata": {
        "id": "KLPfFM9ki3CF"
      },
      "source": [
        "As tuplas em Python são semelhantes às listas, mas são imutáveis. Isso significa que, uma vez que uma tupla é criada, você não pode alterar seus elementos ou seu tamanho. Portanto, as tuplas têm menos métodos disponíveis em comparação com as listas. Aqui estão os dois métodos que as tuplas têm:\n",
        "\n",
        "| Método | Exemplo | Descrição |\n",
        "| --- | --- | --- |\n",
        "| count() | `tupla = (1, 2, 3, 2, 2, 4)`<br>`print(tupla.count(2))`<br>`# Saída: 3` | Retorna o número de vezes que um valor específico aparece na tupla. |\n",
        "| index() | `tupla = (1, 2, 3, 2, 2, 4)`<br>`print(tupla.index(2))`<br>`# Saída: 1` | Retorna o índice da primeira ocorrência do valor especificado na tupla. |\n",
        "\n",
        "Note que, ao contrário das listas, as tuplas não têm métodos para adicionar ou remover elementos, porque são imutáveis."
      ]
    },
    {
      "cell_type": "code",
      "execution_count": null,
      "metadata": {
        "id": "0vuOU3mBNNRG"
      },
      "outputs": [],
      "source": [
        "tupla_vazia = tuple()"
      ]
    },
    {
      "cell_type": "code",
      "execution_count": null,
      "metadata": {
        "id": "1jFgkV94NPZD"
      },
      "outputs": [],
      "source": [
        "type(tupla_vazia)"
      ]
    },
    {
      "cell_type": "code",
      "execution_count": null,
      "metadata": {
        "id": "XW3Oyd6me0So"
      },
      "outputs": [],
      "source": [
        "paciente = (\"Alfredo\", 53, 1.75)"
      ]
    },
    {
      "cell_type": "code",
      "execution_count": null,
      "metadata": {
        "id": "sdbR9LEXNJAv"
      },
      "outputs": [],
      "source": [
        "type(paciente)"
      ]
    },
    {
      "cell_type": "code",
      "execution_count": null,
      "metadata": {
        "id": "gTIex1lJN-I_"
      },
      "outputs": [],
      "source": [
        "paciente[2]"
      ]
    },
    {
      "cell_type": "code",
      "execution_count": null,
      "metadata": {
        "id": "RVGorP_uNdNC"
      },
      "outputs": [],
      "source": [
        "paciente.index(\"Alfredo\") # retorna o índice do objeto"
      ]
    },
    {
      "cell_type": "code",
      "execution_count": null,
      "metadata": {
        "id": "92zPQQkyOd4Q"
      },
      "outputs": [],
      "source": [
        "1.75 in paciente"
      ]
    },
    {
      "cell_type": "code",
      "execution_count": null,
      "metadata": {
        "id": "6Y5C8qeDbrAC"
      },
      "outputs": [],
      "source": [
        "t = (1, 2, 3) + (4, 5)  # é possível concatenar tuplas\n",
        "t"
      ]
    },
    {
      "cell_type": "code",
      "execution_count": null,
      "metadata": {
        "id": "gYpwfB8dIQ-9"
      },
      "outputs": [],
      "source": [
        "paciente.count(\"Alfredo\")  #retorna a contagem do valor indicado"
      ]
    },
    {
      "cell_type": "code",
      "execution_count": null,
      "metadata": {
        "id": "J1V0wFxhUvC7"
      },
      "outputs": [],
      "source": [
        "del paciente"
      ]
    },
    {
      "cell_type": "code",
      "execution_count": null,
      "metadata": {
        "id": "mrr3gfgOUyS3"
      },
      "outputs": [],
      "source": [
        "paciente"
      ]
    },
    {
      "cell_type": "markdown",
      "metadata": {
        "id": "UKcIVL00QvsQ"
      },
      "source": [
        "### 3) Range"
      ]
    },
    {
      "cell_type": "code",
      "execution_count": null,
      "metadata": {
        "id": "ycsI73lxhWwE"
      },
      "outputs": [],
      "source": [
        "list(range(0,11))  # de 0 a 10"
      ]
    },
    {
      "cell_type": "code",
      "execution_count": null,
      "metadata": {
        "id": "Ez7lh3gCWMPb"
      },
      "outputs": [],
      "source": [
        "list(range(0, 21, 3)) # pares de 0 a 20"
      ]
    },
    {
      "cell_type": "code",
      "execution_count": null,
      "metadata": {
        "id": "HCBSBwwOWVvq"
      },
      "outputs": [],
      "source": [
        "list(range(1, 20, 2)) # ímpares de 1 a 19"
      ]
    },
    {
      "cell_type": "markdown",
      "metadata": {
        "id": "cPKwZ7f6QvsR"
      },
      "source": [
        "#### Construir um intervalo de 1 à 100 só com os multiplos de 4"
      ]
    },
    {
      "cell_type": "code",
      "execution_count": null,
      "metadata": {
        "id": "QnzdD_Vruiv8"
      },
      "outputs": [],
      "source": [
        "alunos"
      ]
    },
    {
      "cell_type": "code",
      "execution_count": null,
      "metadata": {
        "id": "TI_dUu-mVyYn"
      },
      "outputs": [],
      "source": [
        "list(range(0, len(alunos)))"
      ]
    },
    {
      "cell_type": "code",
      "execution_count": null,
      "metadata": {
        "id": "JMpWiE0_QvsR"
      },
      "outputs": [],
      "source": [
        "print(list(range(4, 101, 4)))"
      ]
    },
    {
      "cell_type": "code",
      "execution_count": null,
      "metadata": {
        "id": "d4jYDsLgZONQ"
      },
      "outputs": [],
      "source": [
        "list(range(10, 0, -1)) # sequência de 1 a 10 invertida"
      ]
    },
    {
      "cell_type": "code",
      "execution_count": null,
      "metadata": {
        "id": "Y2l1eKShW5ku"
      },
      "outputs": [],
      "source": [
        "list(range(20, -1, -2)) # Sequência de 0 a 20 invertida"
      ]
    },
    {
      "cell_type": "markdown",
      "metadata": {
        "id": "4_XftRv6uuzI"
      },
      "source": [
        "### Material Extra"
      ]
    },
    {
      "cell_type": "markdown",
      "metadata": {
        "id": "ulQxFWlIPPGM"
      },
      "source": [
        "### Tabela"
      ]
    },
    {
      "cell_type": "code",
      "execution_count": null,
      "metadata": {
        "id": "lAumev4SPSHB"
      },
      "outputs": [],
      "source": [
        "\"\"\"\"\n",
        "cpf nome idade\n",
        "000 Alfredo 53\n",
        "111 Ícaro   35\n",
        "222 Davi    40\n",
        "333 Joria   53\n",
        "444 Cristine 30\n",
        "\"\"\""
      ]
    },
    {
      "cell_type": "code",
      "execution_count": null,
      "metadata": {
        "id": "Wkg2ppivPN6G"
      },
      "outputs": [],
      "source": [
        "tabela_alunos = [['000', 'Alfredo', 53],\n",
        "                 ['111', 'Ícaro',34],\n",
        "                 ['222', 'Davi', 40]]"
      ]
    },
    {
      "cell_type": "code",
      "execution_count": null,
      "metadata": {
        "id": "rF_ZssA4CCR2"
      },
      "outputs": [],
      "source": [
        "display(tabela_alunos)"
      ]
    },
    {
      "cell_type": "code",
      "execution_count": null,
      "metadata": {
        "id": "2Mv6HNxXPyZZ"
      },
      "outputs": [],
      "source": [
        "tabela_alunos[1][2] = 35   # Alterando o valor de um elemento da tabela (posição: linha 1 e coluna )\n",
        "tabela_alunos"
      ]
    },
    {
      "cell_type": "code",
      "execution_count": null,
      "metadata": {
        "id": "uXa9BxuxP-UU"
      },
      "outputs": [],
      "source": [
        "tabela_alunos.append([\"333\", \"Joria\", 53])  # Acrescentando uma linha à tabela\n",
        "tabela_alunos"
      ]
    },
    {
      "cell_type": "code",
      "execution_count": null,
      "metadata": {
        "id": "2tqOLYKnRALw"
      },
      "outputs": [],
      "source": [
        "tabela_alunos.extend([[\"444\", \"Cristine\", 30]]) # percebam que para usar extend() usamos [[]]\n",
        "tabela_alunos"
      ]
    },
    {
      "cell_type": "code",
      "execution_count": null,
      "metadata": {
        "id": "FoYaWW_VRoy1"
      },
      "outputs": [],
      "source": [
        "tabela_alunos = tabela_alunos + [[\"555\", \"Lucas\", 31]]"
      ]
    },
    {
      "cell_type": "code",
      "execution_count": null,
      "metadata": {
        "id": "DHcm9UbURYFF"
      },
      "outputs": [],
      "source": [
        "print(tabela_alunos)\n",
        "print(len(tabela_alunos))"
      ]
    },
    {
      "cell_type": "code",
      "execution_count": null,
      "metadata": {
        "id": "yAXNgJNFT274"
      },
      "outputs": [],
      "source": [
        "tabela_alunos.insert(1, [1,\"teste\"])"
      ]
    },
    {
      "cell_type": "code",
      "execution_count": null,
      "metadata": {
        "id": "RrJzdngJUDcw"
      },
      "outputs": [],
      "source": [
        "tabela_alunos"
      ]
    }
  ],
  "metadata": {
    "accelerator": "GPU",
    "colab": {
      "collapsed_sections": [
        "FmfGlTsPQvsB",
        "H2mSygXkXnJM",
        "fX97kiXVQvsC",
        "xybDKoRmQvsC",
        "lW4w48ZrQvsD",
        "ulQxFWlIPPGM",
        "b_VcolVQQvsP",
        "UKcIVL00QvsQ"
      ],
      "provenance": []
    },
    "gpuClass": "standard",
    "kernelspec": {
      "display_name": "Python 3",
      "language": "python",
      "name": "python3"
    },
    "language_info": {
      "codemirror_mode": {
        "name": "ipython",
        "version": 3
      },
      "file_extension": ".py",
      "mimetype": "text/x-python",
      "name": "python",
      "nbconvert_exporter": "python",
      "pygments_lexer": "ipython3",
      "version": "3.11.4"
    }
  },
  "nbformat": 4,
  "nbformat_minor": 0
}
