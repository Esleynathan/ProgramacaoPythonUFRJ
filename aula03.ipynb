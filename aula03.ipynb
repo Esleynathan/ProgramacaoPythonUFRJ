{
  "cells": [
    {
      "cell_type": "markdown",
      "metadata": {
        "id": "WEZkn56-rvjr"
      },
      "source": [
        "# NOTEBOOK 3 - Tuplas, Range, Dicionários e Conjuntos"
      ]
    },
    {
      "cell_type": "markdown",
      "metadata": {
        "id": "k3Fa0RZ43Z59"
      },
      "source": [
        "### Indexação com [-1]\n",
        "\n",
        " * Quando usamos -1 como índice em Python, isso é interpretado como o índice do último elemento da lista.\n",
        "\n",
        "* A função insert em Python insere o valor dado na posição antes do índice fornecido. Portanto, quando você faz lista.insert(-1, \"a\"), você está basicamente dizendo \"insira 'a' antes do último elemento\".\n",
        "\n",
        "* Se quisermos quiser inserir \"a\" no final da lista, podemos usar ```lista.append(\"a\")``` ou ```lista.insert(len(lista), \"a\")```. O método ```append``` adiciona o elemento no final da lista e o ```insert(len(lista), \"a\")``` insere \"a\" na posição após o último índice, ou seja, no final da lista."
      ]
    },
    {
      "cell_type": "code",
      "execution_count": 1,
      "metadata": {
        "id": "zO4Lg589W79T"
      },
      "outputs": [
        {
          "name": "stdout",
          "output_type": "stream",
          "text": [
            "alteramos a lista usando 'append' [1, 2, 3, 4, 'a']\n",
            "alteramos a lista usando 'insert' [1, 2, 3, 4, 'b', 'a']\n",
            "o tamanho da lista é:  6\n",
            "alteramos a lista usando 'len' e 'insert' [1, 2, 3, 4, 'b', 'a', 'c']\n"
          ]
        }
      ],
      "source": [
        "lista = [1,2,3,4]\n",
        "\n",
        "lista.append('a')\n",
        "print(\"alteramos a lista usando 'append'\", lista)\n",
        "\n",
        "lista.insert(-1,'b')\n",
        "print(\"alteramos a lista usando 'insert'\", lista)\n",
        "\n",
        "print('o tamanho da lista é: ', len(lista))\n",
        "\n",
        "lista.insert(len(lista), \"c\")\n",
        "print(\"alteramos a lista usando 'len' e 'insert'\", lista)"
      ]
    },
    {
      "cell_type": "markdown",
      "metadata": {
        "id": "b_VcolVQQvsP"
      },
      "source": [
        "### 1) Tuplas - tuple"
      ]
    },
    {
      "cell_type": "markdown",
      "metadata": {
        "id": "KLPfFM9ki3CF"
      },
      "source": [
        "As tuplas em Python são semelhantes às listas, mas são imutáveis. Isso significa que, uma vez que uma tupla é criada, você não pode alterar seus elementos ou seu tamanho. Portanto, as tuplas têm menos métodos disponíveis em comparação com as listas.\n",
        "\n",
        "| Método | Exemplo | Descrição |\n",
        "| --- | --- | --- |\n",
        "| count() | `tupla = (1, 2, 3, 2, 2, 4)`<br>`print(tupla.count(2))`<br>`# Saída: 3` | Retorna o número de vezes que um valor específico aparece na tupla. |\n",
        "| index() | `tupla = (1, 2, 3, 2, 2, 4)`<br>`print(tupla.index(2))`<br>`# Saída: 1` | Retorna o índice da primeira ocorrência do valor especificado na tupla. |\n",
        "\n",
        "Note que, ao contrário das listas, as tuplas não têm métodos para adicionar ou remover elementos, porque são imutáveis."
      ]
    },
    {
      "cell_type": "markdown",
      "metadata": {
        "id": "ZJiUmbYKYvry"
      },
      "source": [
        "Em Python, existem duas maneiras principais de criar uma tupla vazia:\n",
        "\n",
        "Usando parênteses vazios: ```()```\n",
        "Usando o construtor ```tuple()```"
      ]
    },
    {
      "cell_type": "code",
      "execution_count": 3,
      "metadata": {
        "id": "0vuOU3mBNNRG"
      },
      "outputs": [],
      "source": [
        "tupla_vazia_1 = tuple()"
      ]
    },
    {
      "cell_type": "code",
      "execution_count": 4,
      "metadata": {
        "id": "fLxppsq5Y2py"
      },
      "outputs": [],
      "source": [
        "tupla_vazia_2 = ()"
      ]
    },
    {
      "cell_type": "code",
      "execution_count": 5,
      "metadata": {
        "id": "1jFgkV94NPZD"
      },
      "outputs": [
        {
          "data": {
            "text/plain": [
              "tuple"
            ]
          },
          "execution_count": 5,
          "metadata": {},
          "output_type": "execute_result"
        }
      ],
      "source": [
        "type(tupla_vazia_1)"
      ]
    },
    {
      "cell_type": "code",
      "execution_count": 6,
      "metadata": {
        "id": "FcPtkiPvZUsh"
      },
      "outputs": [],
      "source": [
        "# Método 1: Parênteses e vírgulas\n",
        "tupla1 = (1, 2, 3)\n",
        "\n",
        "# Método 2: Construtor tuple\n",
        "tupla2 = tuple([1, 2, 3])\n"
      ]
    },
    {
      "cell_type": "markdown",
      "metadata": {
        "id": "O14p96gkaFfo"
      },
      "source": [
        "O construtor ```tuple()``` aceita apenas um único argumento. Esse argumento deve ser um objeto iterável, como uma lista, uma string, um conjunto, um dicionário.\n",
        "\n",
        "A tentativa de passar vários argumentos para o construtor ```tuple()```, como no exemplo ```tuple(1,2,3,1)```, resultará em um erro do tipo ```TypeError: tuple expected at most 1 argument, got 4```.\n",
        "\n",
        "A maneira correta de criar uma tupla com vários elementos é colocar os elementos em uma lista (ou algum outro objeto iterável) e passar essa lista para o construtor ```tuple()```, como fizemos acima."
      ]
    },
    {
      "cell_type": "markdown",
      "metadata": {
        "id": "SFQA5XUUbrbf"
      },
      "source": [
        "Acessando um elemento da tupla:"
      ]
    },
    {
      "cell_type": "code",
      "execution_count": 7,
      "metadata": {
        "id": "-ZfPw-t3bwof"
      },
      "outputs": [
        {
          "name": "stdout",
          "output_type": "stream",
          "text": [
            "1\n",
            "2\n",
            "5\n"
          ]
        }
      ],
      "source": [
        "# Criar uma tupla\n",
        "t = (1, 2, 3, 4, 5)\n",
        "\n",
        "# Acessar o primeiro elemento (índice 0)\n",
        "first = t[0]\n",
        "print(first)\n",
        "\n",
        "# Acessar o segundo elemento (índice 1)\n",
        "second = t[1]\n",
        "print(second)\n",
        "\n",
        "# Acessar o último elemento (índice -1)\n",
        "last = t[-1]\n",
        "print(last)\n"
      ]
    },
    {
      "cell_type": "code",
      "execution_count": 8,
      "metadata": {
        "id": "4GE9MgcWeMmi"
      },
      "outputs": [
        {
          "ename": "TypeError",
          "evalue": "'tuple' object doesn't support item deletion",
          "output_type": "error",
          "traceback": [
            "\u001b[1;31m---------------------------------------------------------------------------\u001b[0m",
            "\u001b[1;31mTypeError\u001b[0m                                 Traceback (most recent call last)",
            "Cell \u001b[1;32mIn[8], line 1\u001b[0m\n\u001b[1;32m----> 1\u001b[0m \u001b[39mdel\u001b[39;00m t[\u001b[39m0\u001b[39m] \u001b[39m# O que acontece se tentarmos usar o del para remover um item da tupla?\u001b[39;00m\n",
            "\u001b[1;31mTypeError\u001b[0m: 'tuple' object doesn't support item deletion"
          ]
        }
      ],
      "source": [
        "del t[0] # O que acontece se tentarmos usar o del para remover um item da tupla?"
      ]
    },
    {
      "cell_type": "code",
      "execution_count": 9,
      "metadata": {
        "id": "L8JD-xf0eVoP"
      },
      "outputs": [],
      "source": [
        "del t # E se tentarmos remover a tupla?"
      ]
    },
    {
      "cell_type": "code",
      "execution_count": 10,
      "metadata": {
        "id": "LCCXWT92ecHO"
      },
      "outputs": [
        {
          "ename": "NameError",
          "evalue": "name 't' is not defined",
          "output_type": "error",
          "traceback": [
            "\u001b[1;31m---------------------------------------------------------------------------\u001b[0m",
            "\u001b[1;31mNameError\u001b[0m                                 Traceback (most recent call last)",
            "Cell \u001b[1;32mIn[10], line 1\u001b[0m\n\u001b[1;32m----> 1\u001b[0m \u001b[39mprint\u001b[39m(t)\n",
            "\u001b[1;31mNameError\u001b[0m: name 't' is not defined"
          ]
        }
      ],
      "source": [
        "print(t)"
      ]
    },
    {
      "cell_type": "code",
      "execution_count": 11,
      "metadata": {
        "id": "XW3Oyd6me0So"
      },
      "outputs": [
        {
          "ename": "SyntaxError",
          "evalue": "invalid syntax (2523983903.py, line 1)",
          "output_type": "error",
          "traceback": [
            "\u001b[1;36m  Cell \u001b[1;32mIn[11], line 1\u001b[1;36m\u001b[0m\n\u001b[1;33m    paciente = # crie uma tupla com o nome, altura e idade do paciente\u001b[0m\n\u001b[1;37m               ^\u001b[0m\n\u001b[1;31mSyntaxError\u001b[0m\u001b[1;31m:\u001b[0m invalid syntax\n"
          ]
        }
      ],
      "source": [
        "paciente = # crie uma tupla com o nome, altura e idade do paciente"
      ]
    },
    {
      "cell_type": "code",
      "execution_count": 12,
      "metadata": {
        "id": "sdbR9LEXNJAv"
      },
      "outputs": [
        {
          "ename": "NameError",
          "evalue": "name 'paciente' is not defined",
          "output_type": "error",
          "traceback": [
            "\u001b[1;31m---------------------------------------------------------------------------\u001b[0m",
            "\u001b[1;31mNameError\u001b[0m                                 Traceback (most recent call last)",
            "Cell \u001b[1;32mIn[12], line 1\u001b[0m\n\u001b[1;32m----> 1\u001b[0m \u001b[39mtype\u001b[39m(paciente)\n",
            "\u001b[1;31mNameError\u001b[0m: name 'paciente' is not defined"
          ]
        }
      ],
      "source": [
        "type(paciente)"
      ]
    },
    {
      "cell_type": "code",
      "execution_count": 13,
      "metadata": {
        "id": "gTIex1lJN-I_"
      },
      "outputs": [
        {
          "ename": "SyntaxError",
          "evalue": "invalid syntax (1362203568.py, line 3)",
          "output_type": "error",
          "traceback": [
            "\u001b[1;36m  Cell \u001b[1;32mIn[13], line 3\u001b[1;36m\u001b[0m\n\u001b[1;33m    paciente[]\u001b[0m\n\u001b[1;37m             ^\u001b[0m\n\u001b[1;31mSyntaxError\u001b[0m\u001b[1;31m:\u001b[0m invalid syntax\n"
          ]
        }
      ],
      "source": [
        "# retorne o nome do paciente:\n",
        "\n",
        "paciente[]"
      ]
    },
    {
      "cell_type": "markdown",
      "metadata": {
        "id": "3vlkjvTqbOoI"
      },
      "source": [
        "####  O método ```tupla.index()```"
      ]
    },
    {
      "cell_type": "code",
      "execution_count": null,
      "metadata": {
        "id": "YEU7hIqOemGH"
      },
      "outputs": [],
      "source": [
        "t.index(1)"
      ]
    },
    {
      "cell_type": "code",
      "execution_count": null,
      "metadata": {
        "id": "RVGorP_uNdNC"
      },
      "outputs": [],
      "source": [
        "paciente.index(\"     \") # retorna o índice do objeto"
      ]
    },
    {
      "cell_type": "code",
      "execution_count": null,
      "metadata": {
        "id": "92zPQQkyOd4Q"
      },
      "outputs": [],
      "source": [
        "1.75 in paciente  # podemos usar in para descobrir se um elemento está na tupla"
      ]
    },
    {
      "cell_type": "code",
      "execution_count": null,
      "metadata": {
        "id": "6Y5C8qeDbrAC"
      },
      "outputs": [],
      "source": [
        "t = (1, 2, 3) + (4, 5)  # é possível concatenar tuplas\n",
        "t"
      ]
    },
    {
      "cell_type": "markdown",
      "metadata": {
        "id": "FDVo_KtleAeu"
      },
      "source": [
        "####  O método ```tupla.count()```"
      ]
    },
    {
      "cell_type": "code",
      "execution_count": null,
      "metadata": {
        "id": "gYpwfB8dIQ-9"
      },
      "outputs": [],
      "source": [
        "paciente.count(\"Alfredo\")  #retorna a contagem do valor indicado"
      ]
    },
    {
      "cell_type": "code",
      "execution_count": null,
      "metadata": {
        "id": "J1V0wFxhUvC7"
      },
      "outputs": [],
      "source": [
        "del paciente"
      ]
    },
    {
      "cell_type": "code",
      "execution_count": null,
      "metadata": {
        "id": "mrr3gfgOUyS3"
      },
      "outputs": [],
      "source": [
        "paciente"
      ]
    },
    {
      "cell_type": "markdown",
      "metadata": {
        "id": "n8a5zPNLFiOJ"
      },
      "source": [
        "EXERCÍCIOS"
      ]
    },
    {
      "cell_type": "markdown",
      "metadata": {
        "id": "rz0MEjZAFsAO"
      },
      "source": [
        "1) Converta uma lista em um tupla"
      ]
    },
    {
      "cell_type": "code",
      "execution_count": 117,
      "metadata": {
        "id": "4oe8wNzMFhVZ"
      },
      "outputs": [
        {
          "name": "stdout",
          "output_type": "stream",
          "text": [
            "('a', 'b', 'c', 'a', 'b')\n"
          ]
        }
      ],
      "source": [
        "lista = [\"a\", \"b\", \"c\", \"a\", \"b\"]\n",
        "tupla = tuple(lista)\n",
        "print(tupla)"
      ]
    },
    {
      "cell_type": "code",
      "execution_count": 118,
      "metadata": {},
      "outputs": [
        {
          "data": {
            "text/plain": [
              "tuple"
            ]
          },
          "execution_count": 118,
          "metadata": {},
          "output_type": "execute_result"
        }
      ],
      "source": [
        "type(tupla)"
      ]
    },
    {
      "cell_type": "markdown",
      "metadata": {
        "id": "2hReD5XHF79S"
      },
      "source": [
        "2) Desempacote uma tupla na quantidade equivalente de variáveis"
      ]
    },
    {
      "cell_type": "code",
      "execution_count": 121,
      "metadata": {
        "id": "XriHEwdTGEb5"
      },
      "outputs": [
        {
          "name": "stdout",
          "output_type": "stream",
          "text": [
            "1 2 3 4\n"
          ]
        }
      ],
      "source": [
        "tupla = (1, 2, 3, 4)\n",
        "a, b, c, d = tupla\n",
        "print(a, b, c, d)"
      ]
    },
    {
      "cell_type": "markdown",
      "metadata": {
        "id": "IZ30QinLGtw6"
      },
      "source": [
        "3) Acesse o terceiro elemento de uma tupla"
      ]
    },
    {
      "cell_type": "code",
      "execution_count": 123,
      "metadata": {
        "id": "F3yz5FOcGkPk"
      },
      "outputs": [
        {
          "name": "stdout",
          "output_type": "stream",
          "text": [
            "3\n"
          ]
        }
      ],
      "source": [
        "tupla = (1, 2, 3, 4, 5)\n",
        "terceiro_elemento = tupla[2]\n",
        "print(terceiro_elemento)"
      ]
    },
    {
      "cell_type": "markdown",
      "metadata": {
        "id": "AJisaDyvG5wK"
      },
      "source": [
        "4) Concatene as duas tuplas abaixo"
      ]
    },
    {
      "cell_type": "code",
      "execution_count": 124,
      "metadata": {
        "id": "_97V179NHB4i"
      },
      "outputs": [
        {
          "name": "stdout",
          "output_type": "stream",
          "text": [
            "('a', 'b', 'c', 1, 2, 3)\n"
          ]
        }
      ],
      "source": [
        "tupla1 = (\"a\", \"b\", \"c\")\n",
        "tupla2 = (1, 2, 3)\n",
        "tupla3 = tupla1 + tupla2\n",
        "print(tupla3)"
      ]
    },
    {
      "cell_type": "markdown",
      "metadata": {
        "id": "UKcIVL00QvsQ"
      },
      "source": [
        "### 2) Range"
      ]
    },
    {
      "cell_type": "markdown",
      "metadata": {
        "id": "YLyILfYRfSMc"
      },
      "source": [
        "A função `range()` em Python é usada para gerar uma sequência de números e possui a seguinte sintaxe:\n",
        "\n",
        "```python\n",
        "range(start, stop, step)\n",
        "```\n",
        "\n",
        "Onde:\n",
        "\n",
        "- `start`: Opcional - especifica a partir de qual número começar. O padrão é 0.\n",
        "- `stop`: Necessário - especifica em que número terminar.\n",
        "- `step`: Opcional - especifica o incremento."
      ]
    },
    {
      "cell_type": "code",
      "execution_count": 14,
      "metadata": {
        "id": "dcJGdiMtfzs3"
      },
      "outputs": [],
      "source": [
        "start = 1\n",
        "stop = 10"
      ]
    },
    {
      "cell_type": "code",
      "execution_count": 16,
      "metadata": {
        "id": "AOPGzOUJfu2R"
      },
      "outputs": [
        {
          "data": {
            "text/plain": [
              "range(1, 10)"
            ]
          },
          "execution_count": 16,
          "metadata": {},
          "output_type": "execute_result"
        }
      ],
      "source": [
        "range(start, stop)  # Gera uma sequência de números começando de `start` e terminando em `stop - 1`."
      ]
    },
    {
      "cell_type": "markdown",
      "metadata": {
        "id": "U_Gm_duagSH_"
      },
      "source": [
        "\n",
        "É importante notar que o `stop` não está incluído na sequência de números gerada pela função `range()`.\n",
        "\n",
        "* A função `range()` retorna um objeto de tipo `range`, não uma lista ou tupla. * Se precisarmos de uma lista para manipulação, podemos convertê-lo em uma lista usando a função `list()`."
      ]
    },
    {
      "cell_type": "code",
      "execution_count": 17,
      "metadata": {
        "id": "dIiSseBJf8F2"
      },
      "outputs": [
        {
          "name": "stdout",
          "output_type": "stream",
          "text": [
            "[0, 1, 2, 3, 4]\n"
          ]
        }
      ],
      "source": [
        "numbers = list(range(5))\n",
        "print(numbers)"
      ]
    },
    {
      "cell_type": "code",
      "execution_count": 18,
      "metadata": {
        "id": "ycsI73lxhWwE"
      },
      "outputs": [
        {
          "data": {
            "text/plain": [
              "[0, 1, 2, 3, 4, 5, 6, 7, 8, 9, 10]"
            ]
          },
          "execution_count": 18,
          "metadata": {},
          "output_type": "execute_result"
        }
      ],
      "source": [
        "list(range(0,11))  # de 0 a 10"
      ]
    },
    {
      "cell_type": "code",
      "execution_count": 19,
      "metadata": {
        "id": "Ez7lh3gCWMPb"
      },
      "outputs": [
        {
          "data": {
            "text/plain": [
              "[0, 3, 6, 9, 12, 15, 18]"
            ]
          },
          "execution_count": 19,
          "metadata": {},
          "output_type": "execute_result"
        }
      ],
      "source": [
        "list(range(0, 21, 3)) # pares de 0 a 20"
      ]
    },
    {
      "cell_type": "code",
      "execution_count": 21,
      "metadata": {
        "id": "HCBSBwwOWVvq"
      },
      "outputs": [
        {
          "data": {
            "text/plain": [
              "[1, 3, 5, 7, 9, 11, 13, 15, 17, 19]"
            ]
          },
          "execution_count": 21,
          "metadata": {},
          "output_type": "execute_result"
        }
      ],
      "source": [
        "list(range(1, 20, 2)) # ímpares de 1 a 19"
      ]
    },
    {
      "cell_type": "code",
      "execution_count": 22,
      "metadata": {
        "id": "rImLF0lXhIu4"
      },
      "outputs": [],
      "source": [
        "breeds = [\"Labrador\", \"Poodle\", \"Bulldog\", \"Beagle\", \"Pitbull\", \"Dachshund\"]"
      ]
    },
    {
      "cell_type": "code",
      "execution_count": 24,
      "metadata": {
        "id": "TI_dUu-mVyYn"
      },
      "outputs": [
        {
          "data": {
            "text/plain": [
              "[0, 1, 2, 3, 4, 5]"
            ]
          },
          "execution_count": 24,
          "metadata": {},
          "output_type": "execute_result"
        }
      ],
      "source": [
        "list(range(len(breeds)))"
      ]
    },
    {
      "cell_type": "code",
      "execution_count": 25,
      "metadata": {
        "id": "JMpWiE0_QvsR"
      },
      "outputs": [
        {
          "name": "stdout",
          "output_type": "stream",
          "text": [
            "[4, 8, 12, 16, 20, 24, 28, 32, 36, 40, 44, 48, 52, 56, 60, 64, 68, 72, 76, 80, 84, 88, 92, 96, 100]\n"
          ]
        }
      ],
      "source": [
        "print(list(range(4, 101, 4)))"
      ]
    },
    {
      "cell_type": "code",
      "execution_count": 28,
      "metadata": {
        "id": "d4jYDsLgZONQ"
      },
      "outputs": [
        {
          "data": {
            "text/plain": [
              "[10, 9, 8, 7, 6, 5, 4, 3, 2, 1]"
            ]
          },
          "execution_count": 28,
          "metadata": {},
          "output_type": "execute_result"
        }
      ],
      "source": [
        "list(range(10, 0, -1)) # sequência de 1 a 10 invertida"
      ]
    },
    {
      "cell_type": "code",
      "execution_count": 29,
      "metadata": {
        "id": "Y2l1eKShW5ku"
      },
      "outputs": [
        {
          "data": {
            "text/plain": [
              "[20, 18, 16, 14, 12, 10, 8, 6, 4, 2, 0]"
            ]
          },
          "execution_count": 29,
          "metadata": {},
          "output_type": "execute_result"
        }
      ],
      "source": [
        "list(range(20, -1, -2)) # Sequência de 0 a 20 invertida"
      ]
    },
    {
      "cell_type": "markdown",
      "metadata": {
        "id": "C5T1eZIyrUIw"
      },
      "source": [
        "### 3) Dicionários"
      ]
    },
    {
      "cell_type": "markdown",
      "metadata": {
        "id": "eo--xu4DiQPi"
      },
      "source": [
        "Um dicionário em Python é uma estrutura de dados que armazena pares de chave-valor. Cada chave em um dicionário é única e está associada a um valor. Os valores podem ser de qualquer tipo: números, strings, listas, e até outros dicionários. Os dicionários são úteis quando queremos recuperar valores com base em algumas chaves, em vez de indexá-los, como fazemos com listas ou tuplas."
      ]
    },
    {
      "cell_type": "code",
      "execution_count": 3,
      "metadata": {
        "id": "POwVgRUzjBRv"
      },
      "outputs": [],
      "source": [
        "meu_carro = {\n",
        "  \"marca\": \"Ford\",\n",
        "  \"modelo\": \"Mustang\",\n",
        "  \"ano\": 1964\n",
        "}\n"
      ]
    },
    {
      "cell_type": "markdown",
      "metadata": {
        "id": "cvaqx_PvjJHp"
      },
      "source": [
        "Neste exemplo, as chaves são \"marca\", \"modelo\" e \"ano\", e os valores são \"Ford\", \"Mustang\" e 1964, respectivamente.\n",
        "\n",
        "Podemos acessar os valores em um dicionário fornecendo a chave correspondente:"
      ]
    },
    {
      "cell_type": "code",
      "execution_count": 4,
      "metadata": {
        "id": "zyaAg1UqjRCz"
      },
      "outputs": [
        {
          "name": "stdout",
          "output_type": "stream",
          "text": [
            "Mustang\n",
            "1964\n"
          ]
        }
      ],
      "source": [
        "print(meu_carro[\"modelo\"])\n",
        "print(meu_carro[\"ano\"])\n"
      ]
    },
    {
      "cell_type": "markdown",
      "metadata": {
        "id": "cTax2je0jadI"
      },
      "source": [
        "Os dicionários em Python são mutáveis, o que significa que podemos adicionar, remover e alterar valores depois que o dicionário é criado:"
      ]
    },
    {
      "cell_type": "code",
      "execution_count": 33,
      "metadata": {
        "id": "r53V6isLjhxJ"
      },
      "outputs": [],
      "source": [
        "# Adicionar um par chave-valor\n",
        "meu_carro[\"cor\"] = \"vermelho\"\n",
        "\n",
        "# Remover um par chave-valor\n",
        "del meu_carro[\"ano\"]\n",
        "\n",
        "# Alterar um valor\n",
        "meu_carro[\"marca\"] = \"Chevrolet\""
      ]
    },
    {
      "cell_type": "code",
      "execution_count": 35,
      "metadata": {
        "id": "UBBlupZrjr6Z"
      },
      "outputs": [
        {
          "name": "stdout",
          "output_type": "stream",
          "text": [
            "{'marca': 'Chevrolet', 'modelo': 'Mustang', 'cor': 'vermelho'}\n"
          ]
        }
      ],
      "source": [
        "print(meu_carro)"
      ]
    },
    {
      "cell_type": "markdown",
      "metadata": {
        "id": "JYtFoXORnexA"
      },
      "source": [
        "Principais métodos de um dicionário em Python (Nos exemplos, o dicionário de entrada é `{'a': 1, 'b': 2}`):\n",
        "\n",
        "| Método | Exemplo de Uso | Descrição |\n",
        "| --- | --- | --- |\n",
        "| `clear()` | `d = {'a': 1, 'b': 2}`<br>`d.clear()`<br>`# d = {}` | Remove todos os itens do dicionário. |\n",
        "| `copy()` | `d = {'a': 1, 'b': 2}`<br>`d1 = d.copy()`<br>`# d1 = {'a': 1, 'b': 2}` | Retorna uma cópia do dicionário. |\n",
        "| `fromkeys(seq[, v])` | `d = dict.fromkeys(['a', 'b'], 0)`<br>`# d = {'a': 0, 'b': 0}` | Cria um novo dicionário com chaves de seq e valores definidos para v (padrão para None). |\n",
        "| `get(key[, default])` | `d = {'a': 1, 'b': 2}`<br>`value = d.get('a', 'default')`<br>`# value = 1` | Retorna o valor para a chave se a chave estiver no dicionário, senão o default. |\n",
        "| `items()` | `d = {'a': 1, 'b': 2}`<br>`items = d.items()`<br>`# items = [('a', 1), ('b', 2)]` | Retorna um objeto de visualização que exibe uma lista de pares de chave-valor do dicionário. |\n",
        "| `keys()` | `d = {'a': 1, 'b': 2}`<br>`keys = d.keys()`<br>`# keys = ['a', 'b']` | Retorna um objeto de visualização que exibe uma lista de todas as chaves no dicionário. |\n",
        "| `pop(key[, default])` | `d = {'a': 1, 'b': 2}`<br>`value = d.pop('a')`<br>`# value = 1` | Remove e retorna o valor do dicionário para a chave fornecida. Se a chave não existir, retorna o default. |\n",
        "| `popitem()` | `d = {'a': 1, 'b': 2}`<br>`key, value = d.popitem()`<br>`# key = 'b', value = 2` | Remove e retorna um par (chave, valor) do dicionário. Os pares são retornados em ordem LIFO (last in, first out). |\n",
        "| `setdefault(key[, default])` | `d = {'a': 1, 'b': 2}`<br>`value = d.setdefault('c', 3)`<br>`# value = 3` | Se a chave estiver no dicionário, retorna seu valor. Se não, insere a chave com um valor de default e retorna o default. |\n",
        "| `update([other])` | `d = {'a': 1, 'b': 2}`<br>`d.update({'d': 4})`<br>`# d = {'a': 1, 'b': 2, 'd': 4}` | Atualiza o dicionário com os pares de chave-valor de outro dicionário, sobrescrevendo as chaves existentes. |\n",
        "| `values()` | `d = {'a': 1, 'b': 2}`<br>`values = d.values()`<br>`# values = [1, 2]` | Retorna um objeto de visualização que exibe uma lista de todos os valores no dicionário. |"
      ]
    },
    {
      "cell_type": "markdown",
      "metadata": {
        "id": "NJLlTdtln9oP"
      },
      "source": [
        "* Criando um dicionário vazio"
      ]
    },
    {
      "cell_type": "code",
      "execution_count": 5,
      "metadata": {
        "id": "43hK9EYwrUIy"
      },
      "outputs": [],
      "source": [
        "dicionario_vazio_1 = {}\n",
        "dicionario_vazio_2 = dict()"
      ]
    },
    {
      "cell_type": "code",
      "execution_count": 6,
      "metadata": {
        "id": "3jXroUQdph7Z"
      },
      "outputs": [],
      "source": [
        "carros = {\n",
        "    \"Mustang\": [\"Ford\", 1966, \"vermelho\"],\n",
        "    \"Camaro\": [\"Chevrolet\", 1967, \"azul\"],\n",
        "    \"Charger\": [\"Dodge\", 1969, \"preto\"],\n",
        "    \"911\": [\"Porsche\", 1964, \"branco\"]\n",
        "}\n"
      ]
    },
    {
      "cell_type": "markdown",
      "metadata": {
        "id": "AXV9wrW_rP3h"
      },
      "source": [
        "* ```copy()```: Retorna uma cópia do dicionário."
      ]
    },
    {
      "cell_type": "code",
      "execution_count": 70,
      "metadata": {
        "id": "wOErDS_cpnoZ"
      },
      "outputs": [
        {
          "data": {
            "text/plain": [
              "{'Mustang': ['Ford', 1966, 'vermelho'],\n",
              " 'Camaro': ['Chevrolet', 1967, 'azul'],\n",
              " 'Charger': ['Dodge', 1969, 'preto'],\n",
              " '911': ['Porsche', 1964, 'branco']}"
            ]
          },
          "execution_count": 70,
          "metadata": {},
          "output_type": "execute_result"
        }
      ],
      "source": [
        "copy_carros = carros.copy()\n",
        "copy_carros"
      ]
    },
    {
      "cell_type": "markdown",
      "metadata": {
        "id": "jSdveigvroE4"
      },
      "source": [
        "* ```clear()```  Remove todos os itens do dicionário."
      ]
    },
    {
      "cell_type": "code",
      "execution_count": 39,
      "metadata": {
        "id": "IvizEoJqpniS"
      },
      "outputs": [
        {
          "data": {
            "text/plain": [
              "{}"
            ]
          },
          "execution_count": 39,
          "metadata": {},
          "output_type": "execute_result"
        }
      ],
      "source": [
        "copy_carros.clear()\n",
        "copy_carros"
      ]
    },
    {
      "cell_type": "markdown",
      "metadata": {
        "id": "KCjmr-xPr7XQ"
      },
      "source": [
        "* ```fromkeys(seq[, v])``` Cria um novo dicionário com chaves de ```seq``` e valores definidos para ```v``` (padrão para None)."
      ]
    },
    {
      "cell_type": "code",
      "execution_count": 40,
      "metadata": {
        "id": "lZyZtxB9pnZn"
      },
      "outputs": [
        {
          "data": {
            "text/plain": [
              "{'Mustang': ['vendido'], 'Camaro': ['vendido']}"
            ]
          },
          "execution_count": 40,
          "metadata": {},
          "output_type": "execute_result"
        }
      ],
      "source": [
        "carros_vendidos = carros.fromkeys(['Mustang', 'Camaro'], ['vendido'])\n",
        "carros_vendidos"
      ]
    },
    {
      "cell_type": "markdown",
      "metadata": {
        "id": "MU1Ln1BptzVz"
      },
      "source": [
        "* ```get(key[, default])```  Retorna o valor para a chave se a chave estiver no dicionário, senão o default."
      ]
    },
    {
      "cell_type": "code",
      "execution_count": 42,
      "metadata": {
        "id": "3_Fl4_AtufwG"
      },
      "outputs": [
        {
          "data": {
            "text/plain": [
              "['Ford', 1966, 'vermelho']"
            ]
          },
          "execution_count": 42,
          "metadata": {},
          "output_type": "execute_result"
        }
      ],
      "source": [
        "carros.get('Mustang', 'ausente')"
      ]
    },
    {
      "cell_type": "code",
      "execution_count": 43,
      "metadata": {
        "id": "ofGB3ToEuj7v"
      },
      "outputs": [
        {
          "data": {
            "text/plain": [
              "['Porsche', 1964, 'branco']"
            ]
          },
          "execution_count": 43,
          "metadata": {},
          "output_type": "execute_result"
        }
      ],
      "source": [
        "carros.get('911')"
      ]
    },
    {
      "cell_type": "code",
      "execution_count": 44,
      "metadata": {
        "id": "IG-_M3e5t-Y5"
      },
      "outputs": [
        {
          "data": {
            "text/plain": [
              "'ausente'"
            ]
          },
          "execution_count": 44,
          "metadata": {},
          "output_type": "execute_result"
        }
      ],
      "source": [
        "carros.get('Uno', 'ausente')"
      ]
    },
    {
      "cell_type": "markdown",
      "metadata": {
        "id": "K3UjawR2u2zn"
      },
      "source": [
        "* ```items()``` Retorna um objeto de visualização que exibe uma lista de pares de chave-valor do dicionário."
      ]
    },
    {
      "cell_type": "code",
      "execution_count": 45,
      "metadata": {
        "id": "A_X21kxnuwLQ"
      },
      "outputs": [
        {
          "data": {
            "text/plain": [
              "[('Mustang', ['Ford', 1966, 'vermelho']),\n",
              " ('Camaro', ['Chevrolet', 1967, 'azul']),\n",
              " ('Charger', ['Dodge', 1969, 'preto']),\n",
              " ('911', ['Porsche', 1964, 'branco'])]"
            ]
          },
          "execution_count": 45,
          "metadata": {},
          "output_type": "execute_result"
        }
      ],
      "source": [
        "list(carros.items())"
      ]
    },
    {
      "cell_type": "markdown",
      "metadata": {
        "id": "kWl8NdJ7vwQi"
      },
      "source": [
        "* ```keys()``` Retorna um objeto de visualização que exibe uma lista de todas as chaves no dicionário."
      ]
    },
    {
      "cell_type": "code",
      "execution_count": 46,
      "metadata": {
        "id": "gfR9Y8DSuwGI"
      },
      "outputs": [
        {
          "data": {
            "text/plain": [
              "['Mustang', 'Camaro', 'Charger', '911']"
            ]
          },
          "execution_count": 46,
          "metadata": {},
          "output_type": "execute_result"
        }
      ],
      "source": [
        "list(carros.keys())"
      ]
    },
    {
      "cell_type": "markdown",
      "metadata": {
        "id": "QFJiZpSiv_lN"
      },
      "source": [
        "* ```pop(key[, default])``` Remove e retorna o valor do dicionário para a chave fornecida. Se a chave não existir, retorna o default."
      ]
    },
    {
      "cell_type": "code",
      "execution_count": 49,
      "metadata": {
        "id": "_-TQRNP4uwED"
      },
      "outputs": [
        {
          "data": {
            "text/plain": [
              "['Chevrolet', 1967, 'azul']"
            ]
          },
          "execution_count": 49,
          "metadata": {},
          "output_type": "execute_result"
        }
      ],
      "source": [
        "pop_example = carros.copy()  # Estamos fazendo uma cópia para não alterarmos o dicionário original\n",
        "camaro = pop_example.pop('Camaro')\n",
        "camaro"
      ]
    },
    {
      "cell_type": "code",
      "execution_count": 50,
      "metadata": {
        "id": "H5tt7EvWwc4L"
      },
      "outputs": [
        {
          "data": {
            "text/plain": [
              "{'Mustang': ['Ford', 1966, 'vermelho'],\n",
              " 'Charger': ['Dodge', 1969, 'preto'],\n",
              " '911': ['Porsche', 1964, 'branco']}"
            ]
          },
          "execution_count": 50,
          "metadata": {},
          "output_type": "execute_result"
        }
      ],
      "source": [
        "pop_example"
      ]
    },
    {
      "cell_type": "markdown",
      "metadata": {
        "id": "lEymEBCQwlq3"
      },
      "source": [
        "* ```popitem()``` Remove e retorna um par (chave, valor) do dicionário. Os pares são retornados em ordem LIFO (last in, first out)."
      ]
    },
    {
      "cell_type": "code",
      "execution_count": null,
      "metadata": {
        "id": "Fx06bzzSuwB0"
      },
      "outputs": [],
      "source": [
        "popitem_example = carros.copy()\n",
        "popitem_example.popitem()"
      ]
    },
    {
      "cell_type": "code",
      "execution_count": null,
      "metadata": {
        "id": "G623-36vxBFY"
      },
      "outputs": [],
      "source": [
        "popitem_example"
      ]
    },
    {
      "cell_type": "markdown",
      "metadata": {
        "id": "YFDlpr72xPxT"
      },
      "source": [
        "* ```setdefault(key[, default])``` Se a chave estiver no dicionário, retorna seu valor. Se não, insere a chave com um valor de default e retorna o default.\n",
        "\n",
        "> Indented block\n",
        "\n"
      ]
    },
    {
      "cell_type": "code",
      "execution_count": null,
      "metadata": {
        "id": "obEOEXEbuv_y"
      },
      "outputs": [],
      "source": [
        "setdefault_example = carros.copy()\n",
        "setdefault_example.setdefault('Uno', ['Fiat', 1985, 'Preta'])"
      ]
    },
    {
      "cell_type": "markdown",
      "metadata": {
        "id": "wSPoi_2Q1glQ"
      },
      "source": [
        "* ```update([other])``` Atualiza o dicionário com os pares de chave-valor de outro dicionário, sobrescrevendo as chaves existentes. Caso não exista, adiciona o novo elemento ao dicionário"
      ]
    },
    {
      "cell_type": "code",
      "execution_count": 10,
      "metadata": {
        "id": "5xE_yyMpuv9V"
      },
      "outputs": [],
      "source": [
        "update_example = carros.copy()\n",
        "update_example.update({'Ferrari': ['Ferrari', 1962, 'vermelho']})"
      ]
    },
    {
      "cell_type": "code",
      "execution_count": 8,
      "metadata": {
        "id": "sEeMDjQ911K4"
      },
      "outputs": [
        {
          "data": {
            "text/plain": [
              "{'Mustang': ['Ford', 1966, 'vermelho'],\n",
              " 'Camaro': ['Chevrolet', 1967, 'azul'],\n",
              " 'Charger': ['Dodge', 1969, 'preto'],\n",
              " '911': ['Porsche', 1964, 'branco']}"
            ]
          },
          "execution_count": 8,
          "metadata": {},
          "output_type": "execute_result"
        }
      ],
      "source": [
        "carros"
      ]
    },
    {
      "cell_type": "code",
      "execution_count": 11,
      "metadata": {
        "id": "sdlKilsL1wOu"
      },
      "outputs": [
        {
          "data": {
            "text/plain": [
              "{'Mustang': ['Ford', 1966, 'vermelho'],\n",
              " 'Camaro': ['Chevrolet', 1967, 'azul'],\n",
              " 'Charger': ['Dodge', 1969, 'preto'],\n",
              " '911': ['Porsche', 1964, 'branco'],\n",
              " 'Ferrari': ['Ferrari', 1962, 'vermelho']}"
            ]
          },
          "execution_count": 11,
          "metadata": {},
          "output_type": "execute_result"
        }
      ],
      "source": [
        "update_example"
      ]
    },
    {
      "cell_type": "code",
      "execution_count": 54,
      "metadata": {
        "id": "9yP6KhKY16vv"
      },
      "outputs": [],
      "source": [
        "update_example.update({'Ferrari': ['Ferrari', 1968, 'vermelho']})"
      ]
    },
    {
      "cell_type": "code",
      "execution_count": 55,
      "metadata": {
        "id": "f-_bBfOSuv51"
      },
      "outputs": [
        {
          "data": {
            "text/plain": [
              "{'Mustang': ['Ford', 1966, 'vermelho'],\n",
              " 'Camaro': ['Chevrolet', 1967, 'azul'],\n",
              " 'Charger': ['Dodge', 1969, 'preto'],\n",
              " '911': ['Porsche', 1964, 'branco'],\n",
              " 'Ferrari': ['Ferrari', 1968, 'vermelho']}"
            ]
          },
          "execution_count": 55,
          "metadata": {},
          "output_type": "execute_result"
        }
      ],
      "source": [
        "update_example"
      ]
    },
    {
      "cell_type": "markdown",
      "metadata": {
        "id": "r_LMV5Jh6x0Z"
      },
      "source": [
        "Funções embutidas (built-in) do Python que podem ser usadas com dicionários:\n",
        "\n",
        "| Função | Exemplo de Uso | Descrição |\n",
        "| --- | --- | --- |\n",
        "| `len()` | `d = {'a': 1, 'b': 2}`<br>`len(d)`<br>`# Saída: 2` | Retorna o número de itens no dicionário. |\n",
        "| `type()` | `d = {'a': 1, 'b': 2}`<br>`type(d)`<br>`# Saída: <class 'dict'>` | Retorna o tipo do objeto (neste caso, um dicionário). |\n",
        "| `str()` | `d = {'a': 1, 'b': 2}`<br>`str(d)`<br>`# Saída: \"{'a': 1, 'b': 2}\"` | Converte o dicionário em uma string. |\n",
        "| `sorted()` | `d = {'a': 1, 'b': 2}`<br>`sorted(d)`<br>`# Saída: ['a', 'b']` | Retorna uma nova lista contendo todas as chaves no dicionário em ordem ascendente. |"
      ]
    },
    {
      "cell_type": "markdown",
      "metadata": {
        "id": "pHrr0MGhXIxJ"
      },
      "source": [
        "OBS> Desde a versão 3.7, Python garante que os dicionários mantenham a ordem de inserção dos itens. Isso significa que quando você itera sobre as chaves ou valores de um dicionário, os itens são retornados na ordem em que foram originalmente adicionados.\n",
        "\n",
        "Portanto, embora os dicionários em Python não sejam \"ordenados\" no sentido de que os itens são automaticamente organizados por chave ou valor, eles preservam a ordem em que os itens são adicionados, o que pode ser muito útil em determinadas situações."
      ]
    },
    {
      "cell_type": "code",
      "execution_count": 57,
      "metadata": {
        "id": "AUbNV5KxXR76"
      },
      "outputs": [
        {
          "name": "stdout",
          "output_type": "stream",
          "text": [
            "a\n",
            "b\n",
            "c\n"
          ]
        }
      ],
      "source": [
        "dicionario = {}\n",
        "dicionario['a'] = 1\n",
        "dicionario['b'] = 2\n",
        "dicionario['c'] = 3\n",
        "\n",
        "for chave in dicionario:\n",
        "    print(chave)\n"
      ]
    },
    {
      "cell_type": "markdown",
      "metadata": {
        "id": "aELucVPnSndH"
      },
      "source": [
        "**Exercícios**"
      ]
    },
    {
      "cell_type": "markdown",
      "metadata": {
        "id": "BzfqwE-VL8-s"
      },
      "source": [
        "1. **Inserir Elementos:**\n",
        "   Crie um dicionário vazio e insira as seguintes chaves e valores: \"nome\": \"John\", \"idade\": 25, \"cidade\": \"New York\". Mostre o dicionário resultante."
      ]
    },
    {
      "cell_type": "code",
      "execution_count": 67,
      "metadata": {
        "id": "rbj0G7pYNSyG"
      },
      "outputs": [],
      "source": [
        "dicionario = {}\n",
        "\n",
        "dicionario.update({'nome': 'John',\n",
        "                   'idade': 25,\n",
        "                   'cidade': 'Nova York',\n",
        "                   })\n",
        "\n"
      ]
    },
    {
      "cell_type": "code",
      "execution_count": 127,
      "metadata": {
        "id": "L89sHKP0O36y"
      },
      "outputs": [
        {
          "data": {
            "text/plain": [
              "{'nome': 'John', 'idade': 25, 'cidade': 'Nova York'}"
            ]
          },
          "execution_count": 127,
          "metadata": {},
          "output_type": "execute_result"
        }
      ],
      "source": [
        "dicionario"
      ]
    },
    {
      "cell_type": "markdown",
      "metadata": {
        "id": "YRPXislAL_4u"
      },
      "source": [
        "2. **Acessar Valores:**\n",
        "   Dado o dicionário `{'a': 100, 'b': 200, 'c': 300}`, escreva um programa para encontrar o valor associado à chave 'b'."
      ]
    },
    {
      "cell_type": "code",
      "execution_count": null,
      "metadata": {
        "id": "h-R1r5oQMrC2"
      },
      "outputs": [],
      "source": [
        "dicio = {'a': 100, 'b': 200, 'c': 300}"
      ]
    },
    {
      "cell_type": "markdown",
      "metadata": {
        "id": "Mn4Oh3JtMCsk"
      },
      "source": [
        "3. **Atualizar Valores:**\n",
        "   Dado o dicionário `{'Alice': 25, 'Bob': 30, 'Charlie': 35}`, atualize a idade de 'Alice' para 26 e mostre o dicionário atualizado.\n"
      ]
    },
    {
      "cell_type": "code",
      "execution_count": null,
      "metadata": {
        "id": "AMvkhBPVPQJk"
      },
      "outputs": [],
      "source": [
        "dicio = {'Alice': 25, 'Bob': 30, 'Charlie': 35}"
      ]
    },
    {
      "cell_type": "markdown",
      "metadata": {
        "id": "RG91GMRxMHAc"
      },
      "source": [
        "4. **Remover Elementos:**\n",
        "   Dado o dicionário `{'x': 10, 'y': 20, 'z': 30}`, remova a entrada com a chave 'y' e imprima o dicionário resultante."
      ]
    },
    {
      "cell_type": "code",
      "execution_count": null,
      "metadata": {
        "id": "uGc86eu7Pojk"
      },
      "outputs": [],
      "source": [
        "dicio = {'x': 10, 'y': 20, 'z': 30}"
      ]
    },
    {
      "cell_type": "markdown",
      "metadata": {
        "id": "rJcrGPrMMLRN"
      },
      "source": [
        "5. **Verificar Chave:**\n",
        "   Escreva um programa que verifique se uma chave fornecida pelo usuário existe em um dicionário. Utilize o dicionário `{'red': 1, 'green': 2, 'blue': 3}` para este exercício."
      ]
    },
    {
      "cell_type": "code",
      "execution_count": null,
      "metadata": {
        "id": "LY-lCmrVQHe6"
      },
      "outputs": [],
      "source": [
        "dicio = {'red': 1, 'green': 2, 'blue': 3}"
      ]
    },
    {
      "cell_type": "code",
      "execution_count": null,
      "metadata": {
        "id": "iod_jdL7Qqep"
      },
      "outputs": [],
      "source": [
        "chave = 'green'\n",
        "verifica_chave =\n",
        "print(verifica_chave)"
      ]
    },
    {
      "cell_type": "markdown",
      "metadata": {
        "id": "zYmcTFHGMNsc"
      },
      "source": [
        "6. **Chaves e valores como listas:**\n",
        "   Escreva um programa que imprima uma lista com as chaves e outra com os valores do dicionário `{'Nome': 'Maria', 'Idade': 28, 'Profissão': 'Engenheira'}`\n",
        "  "
      ]
    },
    {
      "cell_type": "code",
      "execution_count": 7,
      "metadata": {
        "id": "I02XdU31RFgb"
      },
      "outputs": [],
      "source": [
        "dicio = {'Nome': 'Maria', 'Idade': 28, 'Profissão': 'Engenheira'}"
      ]
    },
    {
      "cell_type": "code",
      "execution_count": null,
      "metadata": {
        "id": "ArxBRJ_aRHxp"
      },
      "outputs": [],
      "source": []
    },
    {
      "cell_type": "markdown",
      "metadata": {
        "id": "hg8pjVYmrUJb"
      },
      "source": [
        "### 4) Conjuntos - set"
      ]
    },
    {
      "cell_type": "markdown",
      "metadata": {
        "id": "5tAQZaPl8fDA"
      },
      "source": [
        "Um conjunto, ou \"set\", em Python é uma coleção não ordenada de itens únicos. Os conjuntos são usados principalmente para eliminar itens duplicados de uma lista. Também são úteis para realizar operações matemáticas comuns, como união, interseção e diferença.\n",
        "\n",
        "Características dos conjuntos em Python:\n",
        "\n",
        "* **Itens únicos**: Cada elemento em um conjunto é único (não duplicado) e deve ser imutável (não pode ser alterado).\n",
        "\n",
        "* **Não ordenados**: Os conjuntos são não ordenados. Você não pode esperar que seus itens sejam em uma determinada ordem.\n",
        "\n",
        "* **Inalteráveis**: Os conjuntos em si são mutáveis. Podemos adicionar ou remover itens deles.\n",
        "\n",
        "* **Não indexáveis**: Conjuntos não são indexáveis, ou seja, você não pode acessar os itens de um conjunto por um índice."
      ]
    },
    {
      "cell_type": "markdown",
      "metadata": {
        "id": "8rn2Itq6gC3J"
      },
      "source": [
        "Métodos de conjunto em Python\n",
        "\n",
        "| Método               | Exemplo                                                                                                                           | Descrição                                                                                                            |\n",
        "|----------------------|-----------------------------------------------------------------------------------------------------------------------------------|----------------------------------------------------------------------------------------------------------------------|\n",
        "| `add`                | `set1 = {1, 2, 3}`<br>`set1.add(4)`<br>`print(set1)  # Saída: {1, 2, 3, 4}`                                                   | Adiciona um elemento ao conjunto.                                                                                    |\n",
        "| `remove`             | `set1 = {1, 2, 3}`<br>`set1.remove(2)`<br>`print(set1)  # Saída: {1, 3}`                                                    | Remove um elemento do conjunto. Levanta um KeyError se o elemento não for encontrado.                                |\n",
        "| `discard`            | `set1 = {1, 2, 3}`<br>`set1.discard(2)`<br>`print(set1)  # Saída: {1, 3}`                                                    | Remove um elemento do conjunto se ele existir, e não faz nada se o elemento não existir.                             |\n",
        "| `pop`                | `set1 = {1, 2, 3}`<br>`element = set1.pop()`<br>`print(element)  # Saída: 1`<br>`print(set1)  # Saída: {2, 3}`                    | Remove e retorna um elemento arbitrário do conjunto. Levanta um KeyError se o conjunto estiver vazio.                |\n",
        "| `clear`              | `set1 = {1, 2, 3}`<br>`set1.clear()`<br>`print(set1)  # Saída: set()`                                                        | Remove todos os elementos do conjunto.                                                                               |\n",
        "| `union`              | `set1 = {1, 2, 3}`<br>`set2 = {3, 4, 5}`<br>`print(set1.union(set2))  # Saída: {1, 2, 3, 4, 5}`                               | Retorna um conjunto que é a união de dois conjuntos.                                                                 |\n",
        "| `intersection`       | `set1 = {1, 2, 3}`<br>`set2 = {2, 3, 4}`<br>`print(set1.intersection(set2))  # Saída: {2, 3}`                                | Retorna um conjunto que é a interseção de dois conjuntos.                                                            |\n",
        "| `difference`         | `set1 = {1, 2, 3}`<br>`set2 = {2, 3, 4}`<br>`print(set1.difference(set2))  # Saída: {1}`                                     | Retorna um conjunto que é a diferença entre dois conjuntos (itens que estão em set1, mas não em set2).               |\n",
        "| `symmetric_difference`| `set1 = {1, 2, 3}`<br>`set2 = {2, 3, 4}`<br>`print(set1.symmetric_difference(set2))  # Saída: {1, 4}`                      | Retorna um conjunto que é a diferença simétrica de dois conjuntos (itens que estão em um dos conjuntos, mas não em ambos).|\n",
        "| `update`             | `set1 = {1, 2, 3}`<br>`set1.update([4, 5, 6])`<br>`print(set1)  # Saída: {1, 2, 3, 4, 5, 6}`                                  | Adiciona vários elementos ao conjunto.|\n",
        "\n",
        "Lembre-se de que os conjuntos são mutáveis, portanto, métodos como `add`, `remove`, `discard`, `pop`, `clear`, `update` irão modificar o conjunto original. No entanto, métodos como `union`, `intersection`, `difference` e `symmetric_difference` irão retornar um novo conjunto e não modificarão os conjuntos originais."
      ]
    },
    {
      "cell_type": "markdown",
      "metadata": {
        "id": "uz7PTtHxQVRQ"
      },
      "source": [
        "**Como criar um conjunto vazio:**\n",
        "\n",
        "Usando o construtor ```set()```:\n",
        "A função ```set()``` sem nenhum argumento retorna um conjunto vazio."
      ]
    },
    {
      "cell_type": "code",
      "execution_count": 71,
      "metadata": {
        "id": "x91AAJp4rUJj",
        "scrolled": true
      },
      "outputs": [],
      "source": [
        "conjunto_vazio = set()  # cria um conjunto vazio"
      ]
    },
    {
      "cell_type": "code",
      "execution_count": 72,
      "metadata": {
        "id": "HGb3R8RFQcS0"
      },
      "outputs": [
        {
          "name": "stdout",
          "output_type": "stream",
          "text": [
            "<class 'set'>\n"
          ]
        }
      ],
      "source": [
        "print(type(conjunto_vazio))\n"
      ]
    },
    {
      "cell_type": "markdown",
      "metadata": {
        "id": "0cTvJPvYQ5VF"
      },
      "source": [
        " note que ```{}```cria um dicionário vazio, não um conjunto vazio, em Python."
      ]
    },
    {
      "cell_type": "code",
      "execution_count": 73,
      "metadata": {
        "id": "PNgghb1rRf50"
      },
      "outputs": [],
      "source": [
        "c_vazio = {}  # assim, criamos um dicionário, e não um set"
      ]
    },
    {
      "cell_type": "code",
      "execution_count": 74,
      "metadata": {
        "id": "jEQgm9O_ZqBh"
      },
      "outputs": [
        {
          "data": {
            "text/plain": [
              "dict"
            ]
          },
          "execution_count": 74,
          "metadata": {},
          "output_type": "execute_result"
        }
      ],
      "source": [
        "type(c_vazio)"
      ]
    },
    {
      "cell_type": "markdown",
      "metadata": {
        "id": "zNgI87wchXG3"
      },
      "source": [
        "**MAAAAAAAAS...**"
      ]
    },
    {
      "cell_type": "markdown",
      "metadata": {
        "id": "ux38eB1phuIk"
      },
      "source": [
        "Podemos criar um conjunto não vazio utilizando as `{}`"
      ]
    },
    {
      "cell_type": "code",
      "execution_count": 75,
      "metadata": {
        "id": "kt0hRn5uhbLP"
      },
      "outputs": [],
      "source": [
        "conjunto_com_chaves = {1,2,3,4,4,5,5,7}"
      ]
    },
    {
      "cell_type": "code",
      "execution_count": 76,
      "metadata": {
        "id": "ZI78EPchhmBd"
      },
      "outputs": [
        {
          "data": {
            "text/plain": [
              "set"
            ]
          },
          "execution_count": 76,
          "metadata": {},
          "output_type": "execute_result"
        }
      ],
      "source": [
        "type(conjunto_com_chaves)"
      ]
    },
    {
      "cell_type": "code",
      "execution_count": 77,
      "metadata": {
        "id": "6XOSUbM-hpUV"
      },
      "outputs": [
        {
          "data": {
            "text/plain": [
              "{1, 2, 3, 4, 5, 7}"
            ]
          },
          "execution_count": 77,
          "metadata": {},
          "output_type": "execute_result"
        }
      ],
      "source": [
        "conjunto_com_chaves"
      ]
    },
    {
      "cell_type": "markdown",
      "metadata": {
        "id": "rWScLegpTR46"
      },
      "source": [
        "Vamos ver alguns exemplos do uso dos métodos dos Conjuntos em Python:"
      ]
    },
    {
      "cell_type": "code",
      "execution_count": 83,
      "metadata": {
        "id": "-mBhgprTTZKa"
      },
      "outputs": [
        {
          "data": {
            "text/plain": [
              "{'Clarice Lispector', 'José Saramago', 'Miguel Torga'}"
            ]
          },
          "execution_count": 83,
          "metadata": {},
          "output_type": "execute_result"
        }
      ],
      "source": [
        "autores = set(['Clarice Lispector',  'José Saramago',  'Miguel Torga'])\n",
        "autores"
      ]
    },
    {
      "cell_type": "code",
      "execution_count": 79,
      "metadata": {
        "id": "T4MBSTAzTeVB"
      },
      "outputs": [],
      "source": [
        "brasil_Copas = set([1958, 1962, 1970, 1994, 2002])"
      ]
    },
    {
      "cell_type": "code",
      "execution_count": 84,
      "metadata": {
        "id": "gypq7OZrZ0mr"
      },
      "outputs": [],
      "source": [
        "países_Sede = set(['Suécia', 'Chile', 'México', 'Estados Unidos', 'Coréia do Sul e Japão'])"
      ]
    },
    {
      "cell_type": "markdown",
      "metadata": {
        "id": "av1VcqW-TDQC"
      },
      "source": [
        "* **```add()``` Adiciona um elemento ao conjunto**"
      ]
    },
    {
      "cell_type": "code",
      "execution_count": 85,
      "metadata": {
        "id": "OmpHVwfuTDBy"
      },
      "outputs": [
        {
          "data": {
            "text/plain": [
              "{'Carlos Drummond de Andrade',\n",
              " 'Clarice Lispector',\n",
              " 'José Saramago',\n",
              " 'Miguel Torga'}"
            ]
          },
          "execution_count": 85,
          "metadata": {},
          "output_type": "execute_result"
        }
      ],
      "source": [
        "autores.add('Carlos Drummond de Andrade')\n",
        "autores"
      ]
    },
    {
      "cell_type": "markdown",
      "metadata": {
        "id": "yv-Iv3y8T7CT"
      },
      "source": [
        "* **```remove()``` Remove um elemento do conjunto**"
      ]
    },
    {
      "cell_type": "code",
      "execution_count": null,
      "metadata": {
        "id": "kjqBk6xoTsNQ"
      },
      "outputs": [],
      "source": [
        "autores.remove('Miguel Torga')\n",
        "autores"
      ]
    },
    {
      "cell_type": "markdown",
      "metadata": {
        "id": "VsoHWRzQUHFS"
      },
      "source": [
        "* **```discard```\n",
        "Vamos descartar `Machado de Assis` do conjunto ```autores```**"
      ]
    },
    {
      "cell_type": "code",
      "execution_count": null,
      "metadata": {
        "id": "rfTKLvVuTC_O"
      },
      "outputs": [],
      "source": [
        "autores.discard('Machado de Assis')\n",
        "autores"
      ]
    },
    {
      "cell_type": "markdown",
      "metadata": {
        "id": "_rOhJ2SMURSr"
      },
      "source": [
        "Como 'Machado de Assis' não está no conjunto, nada aconteceu."
      ]
    },
    {
      "cell_type": "markdown",
      "metadata": {
        "id": "4RFjCJ4YUfoZ"
      },
      "source": [
        "* **```pop()```**\n",
        "\n",
        "Removemos e retonamos um elemento aleatório  do conjunto."
      ]
    },
    {
      "cell_type": "code",
      "execution_count": null,
      "metadata": {
        "id": "Y91fhIXtVDwP"
      },
      "outputs": [],
      "source": [
        "removido = autores.pop()\n",
        "removido"
      ]
    },
    {
      "cell_type": "markdown",
      "metadata": {
        "id": "WqYZLJJmWfx-"
      },
      "source": [
        "A utilidade do método ```pop()``` em um conjunto pode não ser imediatamente aparente, dado que ele remove um elemento arbitrário e os conjuntos são, por definição, não ordenados. No entanto, existem algumas situações em que o `pop()` pode ser útil em um conjunto:\n",
        "\n",
        "1. **Quando a ordem não importa**: Se você só precisa de um elemento do conjunto e não se importa com qual, ```pop()``` é uma maneira fácil de obter um. Por exemplo, você pode estar realizando uma tarefa que precisa ser feita em cada item, mas a ordem na qual a tarefa é feita não importa.\n",
        "\n",
        "2. **Quando você precisa de um item único**: Como os conjuntos garantem que todos os seus elementos são únicos, `pop()` é uma maneira fácil de obter um item único de uma coleção. Você não precisa se preocupar em verificar se o item já foi usado, pois uma vez que é removido com ```pop()```, ele não está mais no conjunto.\n",
        "\n",
        "3. **Quando você quer reduzir o conjunto**: Se você está tentando gradualmente reduzir o tamanho de um conjunto até que ele esteja vazio, ```pop()``` permite fazer isso sem precisar especificar um item.\n",
        "\n",
        "OBS: em listas, ```pop()``` remove o último item."
      ]
    },
    {
      "cell_type": "markdown",
      "metadata": {
        "id": "EeZpVcZGZJZf"
      },
      "source": [
        "* **```clear()```**\n",
        "\n",
        "**Remove todos os elementos do Conjunto**"
      ]
    },
    {
      "cell_type": "code",
      "execution_count": null,
      "metadata": {
        "id": "-R2VnzuXTC8Y"
      },
      "outputs": [],
      "source": [
        "autores_copy = autores.copy()\n",
        "autores_copy.clear()"
      ]
    },
    {
      "cell_type": "code",
      "execution_count": null,
      "metadata": {
        "id": "fgAXZejzTC5c"
      },
      "outputs": [],
      "source": [
        "autores_copy"
      ]
    },
    {
      "cell_type": "markdown",
      "metadata": {
        "id": "bCsJIUyBaJkj"
      },
      "source": [
        "* **```union()```**\n",
        "\n",
        "**Retorna um conjunto que é a união dos dois conjuntos indicados**"
      ]
    },
    {
      "cell_type": "code",
      "execution_count": null,
      "metadata": {
        "id": "yZoQGj8jTC2v"
      },
      "outputs": [],
      "source": [
        "conj_Uniao = países_Sede.union(brasil_Copas)"
      ]
    },
    {
      "cell_type": "code",
      "execution_count": null,
      "metadata": {
        "id": "pT0NNLhSTCvJ"
      },
      "outputs": [],
      "source": [
        "conj_Uniao"
      ]
    },
    {
      "cell_type": "code",
      "execution_count": null,
      "metadata": {
        "id": "ppUcmaZOmUi8"
      },
      "outputs": [],
      "source": [
        "alunos_python = {\"Ana\", \"Filipe\", \"Alfredo\", 'Cristiane', 'Jorge', 'Davi'}\n",
        "alunos_R = {'Augusto', \"Marcela\", 'Filipe', 'Alfredo'}"
      ]
    },
    {
      "cell_type": "code",
      "execution_count": null,
      "metadata": {
        "id": "sto-6SUqxWV3"
      },
      "outputs": [],
      "source": [
        "A = {0, 1, 3, 5, 7, 9}\n",
        "B = {0, 2, 4, 6, 8, 9}\n",
        "C = A.union(B)\n",
        "print(C)"
      ]
    },
    {
      "cell_type": "code",
      "execution_count": 1,
      "metadata": {
        "id": "pvM6WTMjxb4n"
      },
      "outputs": [
        {
          "name": "stdout",
          "output_type": "stream",
          "text": [
            "{0, 1, 2, 3, 4, 5, 6, 7, 8, 9}\n"
          ]
        }
      ],
      "source": [
        "A = {0, 1, 3, 5, 7, 9}\n",
        "B = {0, 2, 4, 6, 8}\n",
        "C = A | B   # pipe\n",
        "print(C)"
      ]
    },
    {
      "cell_type": "code",
      "execution_count": null,
      "metadata": {
        "id": "-Nww-uZDmQLP"
      },
      "outputs": [],
      "source": [
        "alunos_python.union(alunos_R)"
      ]
    },
    {
      "cell_type": "code",
      "execution_count": null,
      "metadata": {
        "id": "hS2sm4qKoeDE"
      },
      "outputs": [],
      "source": [
        "alunos_python | alunos_R   # está em A OU está em B"
      ]
    },
    {
      "cell_type": "markdown",
      "metadata": {
        "id": "aeBDMkVLbdak"
      },
      "source": [
        "* **```intersection()```**\n",
        "\n",
        "**Retorna um conjunto que é a interseção dos dois conjuntos indicados**"
      ]
    },
    {
      "cell_type": "code",
      "execution_count": 2,
      "metadata": {
        "id": "vLc33GQGTCsg"
      },
      "outputs": [
        {
          "ename": "NameError",
          "evalue": "name 'países_Sede' is not defined",
          "output_type": "error",
          "traceback": [
            "\u001b[1;31m---------------------------------------------------------------------------\u001b[0m",
            "\u001b[1;31mNameError\u001b[0m                                 Traceback (most recent call last)",
            "Cell \u001b[1;32mIn[2], line 1\u001b[0m\n\u001b[1;32m----> 1\u001b[0m conj_intersecao \u001b[39m=\u001b[39m países_Sede\u001b[39m.\u001b[39mintersection(brasil_Copas)\n",
            "\u001b[1;31mNameError\u001b[0m: name 'países_Sede' is not defined"
          ]
        }
      ],
      "source": [
        "conj_intersecao = países_Sede.intersection(brasil_Copas)"
      ]
    },
    {
      "cell_type": "code",
      "execution_count": null,
      "metadata": {
        "id": "JMpnLhrCTCpm"
      },
      "outputs": [],
      "source": [
        "conj_intersecao"
      ]
    },
    {
      "cell_type": "code",
      "execution_count": null,
      "metadata": {
        "id": "6lNk83Vjl7x2"
      },
      "outputs": [],
      "source": [
        "alunos_python = {\"Ana\", \"Filipe\", \"Alfredo\", 'Cristiane', 'Jorge', 'Davi'}\n",
        "alunos_R = {'Augusto', \"Marcela\", 'Filipe', 'Alfredo'}"
      ]
    },
    {
      "cell_type": "code",
      "execution_count": null,
      "metadata": {
        "id": "Zc2CDMTd7phY"
      },
      "outputs": [],
      "source": [
        "alunos_python & alunos_R  # está em A E está em B"
      ]
    },
    {
      "cell_type": "code",
      "execution_count": null,
      "metadata": {
        "id": "mUGU0atb7zBR"
      },
      "outputs": [],
      "source": [
        "alunos_python.intersection(alunos_R)"
      ]
    },
    {
      "cell_type": "markdown",
      "metadata": {
        "id": "deBgUbFdbrWa"
      },
      "source": [
        "* **```difference()```**\n",
        "\n",
        "**Retorna um conjunto que é a diferença dos dois conjuntos indicados**"
      ]
    },
    {
      "cell_type": "code",
      "execution_count": 86,
      "metadata": {
        "id": "H3hY-U-5TCmS"
      },
      "outputs": [],
      "source": [
        "set_a = set([1,2,3,4,5])\n",
        "set_b = set([3,4,5,6,7])"
      ]
    },
    {
      "cell_type": "code",
      "execution_count": 87,
      "metadata": {
        "id": "88Xw52O4b8ka"
      },
      "outputs": [],
      "source": [
        "set_c_ab = set_a.difference(set_b)"
      ]
    },
    {
      "cell_type": "code",
      "execution_count": 90,
      "metadata": {
        "id": "pcZORqO6dQRI"
      },
      "outputs": [],
      "source": [
        "set_c_ba = set_b.difference(set_a)"
      ]
    },
    {
      "cell_type": "code",
      "execution_count": 91,
      "metadata": {
        "id": "39INIrD1cCoy"
      },
      "outputs": [
        {
          "name": "stdout",
          "output_type": "stream",
          "text": [
            "{1, 2} \t {6, 7}\n"
          ]
        }
      ],
      "source": [
        "print(set_c_ab,'\\t',set_c_ba)"
      ]
    },
    {
      "cell_type": "code",
      "execution_count": 92,
      "metadata": {
        "id": "fLMbVpUwlvrE"
      },
      "outputs": [],
      "source": [
        "alunos_python = {\"Ana\", \"Filipe\", \"Alfredo\", 'Cristiane', 'Jorge', 'Davi'}\n",
        "alunos_R = {'Augusto', \"Marcela\", 'Filipe', 'Alfredo'}"
      ]
    },
    {
      "cell_type": "code",
      "execution_count": 93,
      "metadata": {
        "id": "9v3P7i_DlvrF"
      },
      "outputs": [
        {
          "data": {
            "text/plain": [
              "{'Ana', 'Cristiane', 'Davi', 'Jorge'}"
            ]
          },
          "execution_count": 93,
          "metadata": {},
          "output_type": "execute_result"
        }
      ],
      "source": [
        "alunos_python - alunos_R  # está em A, mas não está em B"
      ]
    },
    {
      "cell_type": "code",
      "execution_count": 99,
      "metadata": {
        "id": "u-ksc7pblvrF"
      },
      "outputs": [
        {
          "data": {
            "text/plain": [
              "{'Augusto', 'Marcela'}"
            ]
          },
          "execution_count": 99,
          "metadata": {},
          "output_type": "execute_result"
        }
      ],
      "source": [
        "alunos_R.difference(alunos_python)"
      ]
    },
    {
      "cell_type": "markdown",
      "metadata": {
        "id": "KAM4Epgcd_R5"
      },
      "source": [
        "* **```symmetric_difference```**"
      ]
    },
    {
      "cell_type": "code",
      "execution_count": 100,
      "metadata": {
        "id": "kW_uYRjmdCpr"
      },
      "outputs": [],
      "source": [
        "set_d = set_a.symmetric_difference(set_b)"
      ]
    },
    {
      "cell_type": "code",
      "execution_count": 101,
      "metadata": {
        "id": "sw7Qh8PidCmq"
      },
      "outputs": [
        {
          "data": {
            "text/plain": [
              "{1, 2, 6, 7}"
            ]
          },
          "execution_count": 101,
          "metadata": {},
          "output_type": "execute_result"
        }
      ],
      "source": [
        "set_d"
      ]
    },
    {
      "cell_type": "code",
      "execution_count": 102,
      "metadata": {
        "id": "vi0TleT-rUJ3"
      },
      "outputs": [
        {
          "data": {
            "text/plain": [
              "{'Ana', 'Augusto', 'Cristiane', 'Davi', 'Jorge', 'Marcela'}"
            ]
          },
          "execution_count": 102,
          "metadata": {},
          "output_type": "execute_result"
        }
      ],
      "source": [
        "alunos_python.symmetric_difference(alunos_R)  # elementos que estão em A OU B, mas não estão na interseção"
      ]
    },
    {
      "cell_type": "markdown",
      "metadata": {
        "id": "JBZC2aBwgviO"
      },
      "source": [
        " **```update()```**\n",
        "\n"
      ]
    },
    {
      "cell_type": "code",
      "execution_count": 103,
      "metadata": {
        "id": "2xTF1WXvg0UQ"
      },
      "outputs": [
        {
          "data": {
            "text/plain": [
              "{'Carlos Drummond de Andrade',\n",
              " 'Clarice Lispector',\n",
              " 'José Saramago',\n",
              " 'Miguel Torga'}"
            ]
          },
          "execution_count": 103,
          "metadata": {},
          "output_type": "execute_result"
        }
      ],
      "source": [
        "autores"
      ]
    },
    {
      "cell_type": "code",
      "execution_count": 104,
      "metadata": {
        "id": "qN71_NL5g09j"
      },
      "outputs": [],
      "source": [
        "autores.update([\"Dostoyevsky\", \"Tolstoi\"])"
      ]
    },
    {
      "cell_type": "code",
      "execution_count": 105,
      "metadata": {
        "id": "0AeMBJ-1dCah"
      },
      "outputs": [
        {
          "data": {
            "text/plain": [
              "{'Carlos Drummond de Andrade',\n",
              " 'Clarice Lispector',\n",
              " 'Dostoyevsky',\n",
              " 'José Saramago',\n",
              " 'Miguel Torga',\n",
              " 'Tolstoi'}"
            ]
          },
          "execution_count": 105,
          "metadata": {},
          "output_type": "execute_result"
        }
      ],
      "source": [
        "autores"
      ]
    },
    {
      "cell_type": "code",
      "execution_count": 106,
      "metadata": {
        "id": "vrfufL0DWL3D"
      },
      "outputs": [],
      "source": [
        "conjunto1 = set([10, 20, 30, 40, 50])\n",
        "conjunto2 = {15, 20, 25, 30, 35}"
      ]
    },
    {
      "cell_type": "code",
      "execution_count": null,
      "metadata": {
        "id": "hBN2pEOLWfKj"
      },
      "outputs": [],
      "source": [
        "conjunto1.update(conjunto2)"
      ]
    },
    {
      "cell_type": "code",
      "execution_count": 107,
      "metadata": {
        "id": "13fv9qOOWi_y"
      },
      "outputs": [
        {
          "name": "stdout",
          "output_type": "stream",
          "text": [
            "{40, 10, 50, 20, 30}   {35, 20, 25, 30, 15}\n"
          ]
        }
      ],
      "source": [
        "print(conjunto1,\" \", conjunto2) #lembre que conjuntos não são ordenados"
      ]
    },
    {
      "cell_type": "markdown",
      "metadata": {
        "id": "CTFN1zveiR1U"
      },
      "source": [
        "**Removendo elementos repetidos em uma lista**"
      ]
    },
    {
      "cell_type": "markdown",
      "metadata": {
        "id": "xC1uyeSKeZO3"
      },
      "source": [
        "* Para remover os elementos repetidos em uma lista, podemos converter a lista em um conjunto.\n",
        "* Lembrando que, em Python, os conjuntos (set) são coleções não ordenadas de elementos únicos.\n",
        "* Então, ao fazer essa conversão, os elementos repetidos são automaticamente removidos.\n"
      ]
    },
    {
      "cell_type": "code",
      "execution_count": 111,
      "metadata": {
        "id": "sxo5PBQddCjB"
      },
      "outputs": [],
      "source": [
        "lista = [1, 2, 2, 3, 4, 4, 4, 5, 5, 5, 5, 6, 6, 6, 6, 6]"
      ]
    },
    {
      "cell_type": "code",
      "execution_count": 112,
      "metadata": {
        "id": "pXfKK3_9exwv"
      },
      "outputs": [],
      "source": [
        "conjunto = set(lista)"
      ]
    },
    {
      "cell_type": "markdown",
      "metadata": {
        "id": "OEP1aCLBfHu4"
      },
      "source": [
        "* Como conjuntos não suportam indexação (e talvez possamos precisar da indexação), podemos converter o conjunto resultante novamente em uma lista."
      ]
    },
    {
      "cell_type": "code",
      "execution_count": 113,
      "metadata": {
        "id": "Pk7aA6U5fR32"
      },
      "outputs": [],
      "source": [
        "lista_sem_repetidos = list(conjunto)"
      ]
    },
    {
      "cell_type": "code",
      "execution_count": 114,
      "metadata": {
        "id": "KqVow5VAdCeh"
      },
      "outputs": [
        {
          "name": "stdout",
          "output_type": "stream",
          "text": [
            "[1, 2, 2, 3, 4, 4, 4, 5, 5, 5, 5, 6, 6, 6, 6, 6]\n",
            "[1, 2, 3, 4, 5, 6]\n"
          ]
        }
      ],
      "source": [
        "print(lista)\n",
        "print(lista_sem_repetidos)"
      ]
    },
    {
      "cell_type": "code",
      "execution_count": null,
      "metadata": {
        "id": "_fmMcczgsE-J"
      },
      "outputs": [],
      "source": [
        "# Outro exemplo de criação de sets a partir de uma lista\n",
        "\n",
        "candidatos = [\"Mia\", \"Ana\", \"Bruno\", \"Xavier\", \"Bruno\", \"Ana\"]\n",
        "\n",
        "nomes_distintos = set(candidatos)  # transformamos a lista em um set\n",
        "\n",
        "print(\"Candidatos: \", candidatos)\n",
        "print(\"nomes distintos: \", nomes_distintos)"
      ]
    },
    {
      "cell_type": "markdown",
      "metadata": {
        "id": "JJdIyLz7USLd"
      },
      "source": [
        "**EXERCÍCIOS de conjuntos**"
      ]
    },
    {
      "cell_type": "markdown",
      "metadata": {
        "id": "QETPSjoBUU4S"
      },
      "source": [
        "1.) Crie um conjunto com os elementos (1,2,3,4,5) e imprima"
      ]
    },
    {
      "cell_type": "code",
      "execution_count": null,
      "metadata": {
        "id": "qv9M383SUVXE"
      },
      "outputs": [],
      "source": [
        "set1 ="
      ]
    },
    {
      "cell_type": "markdown",
      "metadata": {
        "id": "jECXQBD3UkXe"
      },
      "source": [
        "2) Adicione o número 6 ao conjunto criado no exercício anterior."
      ]
    },
    {
      "cell_type": "markdown",
      "metadata": {
        "id": "goMRoQfGUsTE"
      },
      "source": [
        "3) Remova o elemento 2 do conjunto"
      ]
    },
    {
      "cell_type": "markdown",
      "metadata": {
        "id": "IZbfS9DDVHcU"
      },
      "source": [
        "4) Crie um segundo conjunto (set2) com os números 4, 5 e 6 e encontre a união dos dois conjuntos"
      ]
    },
    {
      "cell_type": "markdown",
      "metadata": {
        "id": "LSAfoT4uVL-N"
      },
      "source": [
        "5) Encontre a interseção dos dois conjuntos."
      ]
    },
    {
      "cell_type": "markdown",
      "metadata": {
        "id": "kXLemxgaVORb"
      },
      "source": [
        "6) Encontre a diferença entre os dois conjuntos (itens que estão no primeiro conjunto, mas não no segundo). Crie um novo conjunto com estes valores."
      ]
    }
  ],
  "metadata": {
    "colab": {
      "collapsed_sections": [
        "b_VcolVQQvsP",
        "UKcIVL00QvsQ"
      ],
      "provenance": []
    },
    "kernelspec": {
      "display_name": "Python 3 (ipykernel)",
      "language": "python",
      "name": "python3"
    },
    "language_info": {
      "codemirror_mode": {
        "name": "ipython",
        "version": 3
      },
      "file_extension": ".py",
      "mimetype": "text/x-python",
      "name": "python",
      "nbconvert_exporter": "python",
      "pygments_lexer": "ipython3",
      "version": "3.11.4"
    }
  },
  "nbformat": 4,
  "nbformat_minor": 0
}
