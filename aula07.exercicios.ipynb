{
  "cells": [
    {
      "cell_type": "markdown",
      "id": "t6zkuGIBBqFJ",
      "metadata": {
        "id": "t6zkuGIBBqFJ"
      },
      "source": [
        "## Escreva uma função para cada exercício a seguir:"
      ]
    },
    {
      "cell_type": "markdown",
      "id": "WrHZ_JwMBjqK",
      "metadata": {
        "id": "WrHZ_JwMBjqK"
      },
      "source": [
        "1. Retorne a + b"
      ]
    },
    {
      "cell_type": "code",
      "execution_count": null,
      "id": "f228e3b8-537d-4d3d-b09c-ae3de825c6f3",
      "metadata": {
        "cellView": "form",
        "id": "f228e3b8-537d-4d3d-b09c-ae3de825c6f3",
        "noteable": {
          "cell_type": "code"
        }
      },
      "outputs": [],
      "source": [
        "# @title Resolução 1\n",
        "def soma(a, b):\n",
        "    return a + b\n",
        "\n",
        "# Testando a função\n",
        "soma(5, 3)"
      ]
    },
    {
      "cell_type": "markdown",
      "id": "RQuvOofcB-to",
      "metadata": {
        "id": "RQuvOofcB-to"
      },
      "source": [
        "2. Retorne a média dos números de uma lista com qualquer tamanho"
      ]
    },
    {
      "cell_type": "code",
      "execution_count": null,
      "id": "7d579b76-de91-4ead-9a48-23f9809a657b",
      "metadata": {
        "cellView": "form",
        "id": "7d579b76-de91-4ead-9a48-23f9809a657b",
        "noteable": {
          "cell_type": "code"
        }
      },
      "outputs": [],
      "source": [
        "# @title Resolução 2\n",
        "def media(numeros):\n",
        "    return sum(numeros) / len(numeros)\n",
        "\n",
        "# Testando a função\n",
        "media([10, 20, 30, 40, 50])"
      ]
    },
    {
      "cell_type": "markdown",
      "id": "nKcqsAzjCJVO",
      "metadata": {
        "id": "nKcqsAzjCJVO"
      },
      "source": [
        "3. Retorne uma sequência em ordem invertida"
      ]
    },
    {
      "cell_type": "code",
      "execution_count": null,
      "id": "f58c0a5b-2315-42d8-aeeb-1a83ea4f7adb",
      "metadata": {
        "cellView": "form",
        "id": "f58c0a5b-2315-42d8-aeeb-1a83ea4f7adb",
        "noteable": {
          "cell_type": "code"
        }
      },
      "outputs": [],
      "source": [
        "# @title Resolução 3\n",
        "def inverter(s):\n",
        "    return s[::-1]\n",
        "\n",
        "# Testando a função\n",
        "inverter('Python')"
      ]
    },
    {
      "cell_type": "markdown",
      "id": "V5Vu3-IVCTQf",
      "metadata": {
        "id": "V5Vu3-IVCTQf"
      },
      "source": [
        "4. Retorne o maior elemento da lista"
      ]
    },
    {
      "cell_type": "code",
      "execution_count": 2,
      "id": "55ada2d8-564c-43aa-8050-cda276d64657",
      "metadata": {
        "cellView": "form",
        "id": "55ada2d8-564c-43aa-8050-cda276d64657",
        "noteable": {
          "cell_type": "code"
        }
      },
      "outputs": [
        {
          "data": {
            "text/plain": [
              "9"
            ]
          },
          "execution_count": 2,
          "metadata": {},
          "output_type": "execute_result"
        }
      ],
      "source": [
        "# @title Resolução 4\n",
        "def maior_elemento(lista):\n",
        "    return max(lista)\n",
        "\n",
        "# Testando a função\n",
        "maior_elemento(lista_A)"
      ]
    },
    {
      "cell_type": "markdown",
      "id": "XY2oPSJ2CdSf",
      "metadata": {
        "id": "XY2oPSJ2CdSf"
      },
      "source": [
        "5. Retorne o resultado da concatenação de duas listas"
      ]
    },
    {
      "cell_type": "code",
      "execution_count": null,
      "id": "bf220922-2199-43c0-a39e-a89ab4d6dd90",
      "metadata": {
        "cellView": "form",
        "id": "bf220922-2199-43c0-a39e-a89ab4d6dd90",
        "noteable": {
          "cell_type": "code"
        }
      },
      "outputs": [],
      "source": [
        "# @title Resolução 5\n",
        "def concatenar(lista1, lista2):\n",
        "    return lista1 + lista2\n",
        "\n",
        "# Testando a função\n",
        "concatenar([1, 2, 3], [4, 5, 6])"
      ]
    },
    {
      "cell_type": "markdown",
      "id": "lRhxoE-bDD0W",
      "metadata": {
        "id": "lRhxoE-bDD0W"
      },
      "source": [
        "6. Retorne um número elevado à e-nésima potência"
      ]
    },
    {
      "cell_type": "code",
      "execution_count": null,
      "id": "83211501-6a25-4acf-a0d6-84c40c7d3eff",
      "metadata": {
        "cellView": "form",
        "id": "83211501-6a25-4acf-a0d6-84c40c7d3eff",
        "noteable": {
          "cell_type": "code"
        }
      },
      "outputs": [],
      "source": [
        "# @title Resolução 6\n",
        "def potencia(base, expoente):\n",
        "    return base ** expoente\n",
        "\n",
        "# Testando a função\n",
        "potencia(2, 3)"
      ]
    },
    {
      "cell_type": "markdown",
      "id": "HdDO4CS2C_Bv",
      "metadata": {
        "id": "HdDO4CS2C_Bv"
      },
      "source": [
        "7. Retorne a quantidade de vogais em uma string"
      ]
    },
    {
      "cell_type": "code",
      "execution_count": null,
      "id": "e4c61836-333e-407a-a647-997c70b76255",
      "metadata": {
        "cellView": "form",
        "id": "e4c61836-333e-407a-a647-997c70b76255",
        "noteable": {
          "cell_type": "code"
        }
      },
      "outputs": [],
      "source": [
        "# @title Resolução 7\n",
        "def contar_vogais(s):\n",
        "    return sum(1 for char in s if char.lower() in 'aeiou')\n",
        "\n",
        "# Testando a função\n",
        "contar_vogais('Inteligência Artificial')"
      ]
    },
    {
      "cell_type": "markdown",
      "id": "z32xKSh2De6m",
      "metadata": {
        "id": "z32xKSh2De6m"
      },
      "source": [
        "8. Retorne os números pares de uma sequência começada em 0 e terminada pelo valor determinado por você"
      ]
    },
    {
      "cell_type": "code",
      "execution_count": 1,
      "id": "f9cb6a6a-bec6-4bbf-aecc-fb96a98225c9",
      "metadata": {
        "cellView": "form",
        "id": "f9cb6a6a-bec6-4bbf-aecc-fb96a98225c9",
        "noteable": {
          "cell_type": "code"
        }
      },
      "outputs": [
        {
          "data": {
            "text/plain": [
              "[0, 2, 4, 6, 8]"
            ]
          },
          "execution_count": 1,
          "metadata": {},
          "output_type": "execute_result"
        }
      ],
      "source": [
        "# @title Resolução 8\n",
        "def numeros_pares(n):\n",
        "    return [x * 2 for x in range(n)]\n",
        "\n",
        "# Testando a função\n",
        "numeros_pares(5)"
      ]
    },
    {
      "cell_type": "markdown",
      "id": "WALT4S1tD0uF",
      "metadata": {
        "id": "WALT4S1tD0uF"
      },
      "source": [
        "9. Retorne a soma de dois números utilizando LAMBDA"
      ]
    },
    {
      "cell_type": "code",
      "execution_count": null,
      "id": "1406baf6-f682-43c8-a64a-5df24005609f",
      "metadata": {
        "cellView": "form",
        "id": "1406baf6-f682-43c8-a64a-5df24005609f",
        "noteable": {
          "cell_type": "code"
        }
      },
      "outputs": [],
      "source": [
        "# @title Resolução 9\n",
        "soma_lambda = lambda a, b: a + b\n",
        "\n",
        "# Testando a expressão lambda\n",
        "soma_lambda(4, 6)"
      ]
    },
    {
      "cell_type": "markdown",
      "id": "4d1kwLm4D98N",
      "metadata": {
        "id": "4d1kwLm4D98N"
      },
      "source": [
        "10. Retorne um número elevado ao quadrado utilizando LAMBDA"
      ]
    },
    {
      "cell_type": "code",
      "execution_count": null,
      "id": "1cbeffda-3414-4442-b395-4912ab93fb51",
      "metadata": {
        "cellView": "form",
        "id": "1cbeffda-3414-4442-b395-4912ab93fb51",
        "noteable": {
          "cell_type": "code"
        }
      },
      "outputs": [],
      "source": [
        "# @title Resolução 10\n",
        "quadrado_lambda = lambda x: x ** 2\n",
        "\n",
        "# Testando a expressão lambda\n",
        "quadrado_lambda(5)"
      ]
    },
    {
      "cell_type": "markdown",
      "id": "L2LieM2MEHO1",
      "metadata": {
        "id": "L2LieM2MEHO1"
      },
      "source": [
        "11. Retorne uma função que testa se um número é par"
      ]
    },
    {
      "cell_type": "code",
      "execution_count": null,
      "id": "1b536367-759a-4876-9828-86e61be88c5c",
      "metadata": {
        "cellView": "form",
        "id": "1b536367-759a-4876-9828-86e61be88c5c",
        "noteable": {
          "cell_type": "code"
        }
      },
      "outputs": [],
      "source": [
        "# @title Resolução 11\n",
        "é_par_lambda = lambda x: x % 2 == 0\n",
        "\n",
        "# Testando a expressão lambda\n",
        "é_par_lambda(4), é_par_lambda(5)"
      ]
    },
    {
      "cell_type": "markdown",
      "id": "zhqJFes5E8uX",
      "metadata": {
        "id": "zhqJFes5E8uX"
      },
      "source": [
        "12. Dada uma lista de preços, aplique um desconto de 10% a cada preço.\n",
        "\n",
        "Lista de Preços: [100, 200, 300, 400]"
      ]
    },
    {
      "cell_type": "code",
      "execution_count": null,
      "id": "rZnjHaF6E_x9",
      "metadata": {
        "cellView": "form",
        "id": "rZnjHaF6E_x9"
      },
      "outputs": [],
      "source": [
        "# @title Resolução 12\n",
        "prices = [100, 200, 300, 400]\n",
        "discounted_prices = map(lambda price: price * 0.9, prices)\n",
        "print(list(discounted_prices))  # [90.0, 180.0, 270.0, 360.0]"
      ]
    },
    {
      "cell_type": "markdown",
      "id": "NwY4_9IuFLzF",
      "metadata": {
        "id": "NwY4_9IuFLzF"
      },
      "source": [
        "13. Dada uma lista de palavras, converta cada palavra em sua versão invertida.\n",
        "\n",
        "Lista de Palavras: [\"leao\", \"gato\", \"sapo\"]"
      ]
    },
    {
      "cell_type": "code",
      "execution_count": null,
      "id": "IWgjogimFNIc",
      "metadata": {
        "id": "IWgjogimFNIc"
      },
      "outputs": [],
      "source": [
        "# @title Resolução 13\n",
        "words = [\"leão\", \"gato\", \"sapo\"]\n",
        "reversed_words = map(lambda word: word[::-1], words)\n",
        "print(list(reversed_words))"
      ]
    },
    {
      "cell_type": "markdown",
      "id": "K3QYK2C8Gx3k",
      "metadata": {
        "id": "K3QYK2C8Gx3k"
      },
      "source": [
        "14. Dada uma lista de strings, filtre apenas as strings que têm mais de 6 caracteres.\n",
        "\n",
        "Lista de Strings: [\"maçã\", \"banana\", \"melancia\", \"morango\"]"
      ]
    },
    {
      "cell_type": "code",
      "execution_count": null,
      "id": "owbVlufHG89V",
      "metadata": {
        "cellView": "form",
        "id": "owbVlufHG89V"
      },
      "outputs": [],
      "source": [
        "# @title Resolução 14\n",
        "fruits = [\"maçã\", \"banana\", \"melancia\", \"morango\"]\n",
        "long_fruits = filter(lambda fruit: len(fruit) > 6, fruits)\n",
        "print(list(long_fruits))"
      ]
    },
    {
      "cell_type": "markdown",
      "id": "5v-qGkLDHSUb",
      "metadata": {
        "id": "5v-qGkLDHSUb"
      },
      "source": [
        "15. Dada uma lista de números, encontre todos os números pares na lista.\n",
        "\n",
        "Lista de Números: [**1, 2, 3, 4, 5, 6]**"
      ]
    },
    {
      "cell_type": "code",
      "execution_count": null,
      "id": "otJaZRR8HVk0",
      "metadata": {
        "cellView": "form",
        "id": "otJaZRR8HVk0"
      },
      "outputs": [],
      "source": [
        "# @title Resolução 15\n",
        "numbers = [1, 2, 3, 4, 5, 6]\n",
        "even_numbers = filter(lambda x: x % 2 == 0, numbers)\n",
        "print(list(even_numbers))  # [2, 4, 6]\n"
      ]
    }
  ],
  "metadata": {
    "colab": {
      "provenance": []
    },
    "kernel_info": {
      "name": "python3"
    },
    "kernelspec": {
      "display_name": "Python 3.9",
      "language": "python",
      "name": "python3"
    },
    "language_info": {
      "codemirror_mode": {
        "name": "ipython",
        "version": 3
      },
      "file_extension": ".py",
      "mimetype": "text/x-python",
      "name": "python",
      "nbconvert_exporter": "python",
      "pygments_lexer": "ipython3",
      "version": "3.11.4"
    },
    "noteable": {
      "last_delta_id": "6cd9942f-40de-48b9-9667-e774d5b9e3a2",
      "last_transaction_id": "89207126-c1e2-4222-9248-87d9ed314379"
    },
    "noteable-chatgpt": {
      "create_notebook": {
        "openai_conversation_id": "6f22cd4a-50a3-5d56-8581-c7ae7afb00d8",
        "openai_ephemeral_user_id": "933b04ad-b46a-5c98-b9f4-23d5ccdd6f68",
        "openai_subdivision1_iso_code": "BR-RJ"
      }
    },
    "nteract": {
      "version": "noteable@2.9.0"
    },
    "selected_hardware_size": "small"
  },
  "nbformat": 4,
  "nbformat_minor": 5
}
