{
  "cells": [
    {
      "cell_type": "markdown",
      "source": [
        "## Escreva uma função para cada exercício a seguir:"
      ],
      "metadata": {
        "id": "t6zkuGIBBqFJ"
      },
      "id": "t6zkuGIBBqFJ"
    },
    {
      "cell_type": "markdown",
      "source": [
        "1. Retorne a + b"
      ],
      "metadata": {
        "id": "WrHZ_JwMBjqK"
      },
      "id": "WrHZ_JwMBjqK"
    },
    {
      "cell_type": "code",
      "source": [
        "# @title Resolução 1\n",
        "def soma(a, b):\n",
        "    return a + b\n",
        "\n",
        "# Testando a função\n",
        "soma(5, 3)"
      ],
      "outputs": [],
      "execution_count": null,
      "metadata": {
        "noteable": {
          "cell_type": "code"
        },
        "cellView": "form",
        "id": "f228e3b8-537d-4d3d-b09c-ae3de825c6f3"
      },
      "id": "f228e3b8-537d-4d3d-b09c-ae3de825c6f3"
    },
    {
      "cell_type": "markdown",
      "source": [
        "2. Retorne a média dos números de uma lista com qualquer tamanho"
      ],
      "metadata": {
        "id": "RQuvOofcB-to"
      },
      "id": "RQuvOofcB-to"
    },
    {
      "cell_type": "code",
      "source": [
        "# @title Resolução 2\n",
        "def media(numeros):\n",
        "    return sum(numeros) / len(numeros)\n",
        "\n",
        "# Testando a função\n",
        "media([10, 20, 30, 40, 50])"
      ],
      "outputs": [],
      "execution_count": null,
      "metadata": {
        "noteable": {
          "cell_type": "code"
        },
        "cellView": "form",
        "id": "7d579b76-de91-4ead-9a48-23f9809a657b"
      },
      "id": "7d579b76-de91-4ead-9a48-23f9809a657b"
    },
    {
      "cell_type": "markdown",
      "source": [
        "3. Retorne uma sequência em ordem invertida"
      ],
      "metadata": {
        "id": "nKcqsAzjCJVO"
      },
      "id": "nKcqsAzjCJVO"
    },
    {
      "cell_type": "code",
      "source": [
        "# @title Resolução 3\n",
        "def inverter(s):\n",
        "    return s[::-1]\n",
        "\n",
        "# Testando a função\n",
        "inverter('Python')"
      ],
      "outputs": [],
      "execution_count": null,
      "metadata": {
        "noteable": {
          "cell_type": "code"
        },
        "cellView": "form",
        "id": "f58c0a5b-2315-42d8-aeeb-1a83ea4f7adb"
      },
      "id": "f58c0a5b-2315-42d8-aeeb-1a83ea4f7adb"
    },
    {
      "cell_type": "markdown",
      "source": [
        "4. Retorne o maior elemento da lista"
      ],
      "metadata": {
        "id": "V5Vu3-IVCTQf"
      },
      "id": "V5Vu3-IVCTQf"
    },
    {
      "cell_type": "code",
      "source": [
        "# @title Resolução 4\n",
        "def maior_elemento(lista):\n",
        "    return max(lista)\n",
        "\n",
        "# Testando a função\n",
        "maior_elemento([5, 3, 9, 1, 7])"
      ],
      "outputs": [],
      "execution_count": null,
      "metadata": {
        "noteable": {
          "cell_type": "code"
        },
        "cellView": "form",
        "id": "55ada2d8-564c-43aa-8050-cda276d64657"
      },
      "id": "55ada2d8-564c-43aa-8050-cda276d64657"
    },
    {
      "cell_type": "markdown",
      "source": [
        "5. Retorne o resultado da concatenação de duas listas"
      ],
      "metadata": {
        "id": "XY2oPSJ2CdSf"
      },
      "id": "XY2oPSJ2CdSf"
    },
    {
      "cell_type": "code",
      "source": [
        "# @title Resolução 5\n",
        "def concatenar(lista1, lista2):\n",
        "    return lista1 + lista2\n",
        "\n",
        "# Testando a função\n",
        "concatenar([1, 2, 3], [4, 5, 6])"
      ],
      "outputs": [],
      "execution_count": null,
      "metadata": {
        "noteable": {
          "cell_type": "code"
        },
        "cellView": "form",
        "id": "bf220922-2199-43c0-a39e-a89ab4d6dd90"
      },
      "id": "bf220922-2199-43c0-a39e-a89ab4d6dd90"
    },
    {
      "cell_type": "markdown",
      "source": [
        "6. Retorne um número elevado à e-nésima potência"
      ],
      "metadata": {
        "id": "lRhxoE-bDD0W"
      },
      "id": "lRhxoE-bDD0W"
    },
    {
      "cell_type": "code",
      "source": [
        "# @title Resolução 6\n",
        "def potencia(base, expoente):\n",
        "    return base ** expoente\n",
        "\n",
        "# Testando a função\n",
        "potencia(2, 3)"
      ],
      "outputs": [],
      "execution_count": null,
      "metadata": {
        "noteable": {
          "cell_type": "code"
        },
        "cellView": "form",
        "id": "83211501-6a25-4acf-a0d6-84c40c7d3eff"
      },
      "id": "83211501-6a25-4acf-a0d6-84c40c7d3eff"
    },
    {
      "cell_type": "markdown",
      "source": [
        "7. Retorne a quantidade de vogais em uma string"
      ],
      "metadata": {
        "id": "HdDO4CS2C_Bv"
      },
      "id": "HdDO4CS2C_Bv"
    },
    {
      "cell_type": "code",
      "source": [
        "# @title Resolução 7\n",
        "def contar_vogais(s):\n",
        "    return sum(1 for char in s if char.lower() in 'aeiou')\n",
        "\n",
        "# Testando a função\n",
        "contar_vogais('Inteligência Artificial')"
      ],
      "outputs": [],
      "execution_count": null,
      "metadata": {
        "noteable": {
          "cell_type": "code"
        },
        "cellView": "form",
        "id": "e4c61836-333e-407a-a647-997c70b76255"
      },
      "id": "e4c61836-333e-407a-a647-997c70b76255"
    },
    {
      "cell_type": "markdown",
      "source": [
        "8. Retorne os números pares de uma sequência começada em 0 e terminada pelo valor determinado por você"
      ],
      "metadata": {
        "id": "z32xKSh2De6m"
      },
      "id": "z32xKSh2De6m"
    },
    {
      "cell_type": "code",
      "source": [
        "# @title Resolução 8\n",
        "def numeros_pares(n):\n",
        "    return [x * 2 for x in range(n)]\n",
        "\n",
        "# Testando a função\n",
        "numeros_pares(5)"
      ],
      "outputs": [],
      "execution_count": null,
      "metadata": {
        "noteable": {
          "cell_type": "code"
        },
        "cellView": "form",
        "id": "f9cb6a6a-bec6-4bbf-aecc-fb96a98225c9"
      },
      "id": "f9cb6a6a-bec6-4bbf-aecc-fb96a98225c9"
    },
    {
      "cell_type": "markdown",
      "source": [
        "9. Retorne a soma de dois números utilizando LAMBDA"
      ],
      "metadata": {
        "id": "WALT4S1tD0uF"
      },
      "id": "WALT4S1tD0uF"
    },
    {
      "cell_type": "code",
      "source": [
        "# @title Resolução 9\n",
        "soma_lambda = lambda a, b: a + b\n",
        "\n",
        "# Testando a expressão lambda\n",
        "soma_lambda(4, 6)"
      ],
      "outputs": [],
      "execution_count": null,
      "metadata": {
        "noteable": {
          "cell_type": "code"
        },
        "cellView": "form",
        "id": "1406baf6-f682-43c8-a64a-5df24005609f"
      },
      "id": "1406baf6-f682-43c8-a64a-5df24005609f"
    },
    {
      "cell_type": "markdown",
      "source": [
        "10. Retorne um número elevado ao quadrado utilizando LAMBDA"
      ],
      "metadata": {
        "id": "4d1kwLm4D98N"
      },
      "id": "4d1kwLm4D98N"
    },
    {
      "cell_type": "code",
      "source": [
        "# @title Resolução 10\n",
        "quadrado_lambda = lambda x: x ** 2\n",
        "\n",
        "# Testando a expressão lambda\n",
        "quadrado_lambda(5)"
      ],
      "outputs": [],
      "execution_count": null,
      "metadata": {
        "noteable": {
          "cell_type": "code"
        },
        "cellView": "form",
        "id": "1cbeffda-3414-4442-b395-4912ab93fb51"
      },
      "id": "1cbeffda-3414-4442-b395-4912ab93fb51"
    },
    {
      "cell_type": "markdown",
      "source": [
        "11. Retorne uma função que testa se um número é par"
      ],
      "metadata": {
        "id": "L2LieM2MEHO1"
      },
      "id": "L2LieM2MEHO1"
    },
    {
      "cell_type": "code",
      "source": [
        "# @title Resolução 11\n",
        "é_par_lambda = lambda x: x % 2 == 0\n",
        "\n",
        "# Testando a expressão lambda\n",
        "é_par_lambda(4), é_par_lambda(5)"
      ],
      "outputs": [],
      "execution_count": null,
      "metadata": {
        "noteable": {
          "cell_type": "code"
        },
        "cellView": "form",
        "id": "1b536367-759a-4876-9828-86e61be88c5c"
      },
      "id": "1b536367-759a-4876-9828-86e61be88c5c"
    },
    {
      "cell_type": "markdown",
      "source": [
        "12. Dada uma lista de preços, aplique um desconto de 10% a cada preço.\n",
        "\n",
        "Lista de Preços: [100, 200, 300, 400]"
      ],
      "metadata": {
        "id": "zhqJFes5E8uX"
      },
      "id": "zhqJFes5E8uX"
    },
    {
      "cell_type": "code",
      "source": [
        "# @title Resolução 12\n",
        "prices = [100, 200, 300, 400]\n",
        "discounted_prices = map(lambda price: price * 0.9, prices)\n",
        "print(list(discounted_prices))  # [90.0, 180.0, 270.0, 360.0]"
      ],
      "metadata": {
        "cellView": "form",
        "id": "rZnjHaF6E_x9"
      },
      "id": "rZnjHaF6E_x9",
      "execution_count": null,
      "outputs": []
    },
    {
      "cell_type": "markdown",
      "source": [
        "13. Dada uma lista de palavras, converta cada palavra em sua versão invertida.\n",
        "\n",
        "Lista de Palavras: [\"leao\", \"gato\", \"sapo\"]"
      ],
      "metadata": {
        "id": "NwY4_9IuFLzF"
      },
      "id": "NwY4_9IuFLzF"
    },
    {
      "cell_type": "code",
      "source": [
        "# @title Resolução 13\n",
        "words = [\"leão\", \"gato\", \"sapo\"]\n",
        "reversed_words = map(lambda word: word[::-1], words)\n",
        "print(list(reversed_words))"
      ],
      "metadata": {
        "id": "IWgjogimFNIc"
      },
      "id": "IWgjogimFNIc",
      "execution_count": null,
      "outputs": []
    },
    {
      "cell_type": "markdown",
      "source": [
        "14. Dada uma lista de strings, filtre apenas as strings que têm mais de 6 caracteres.\n",
        "\n",
        "Lista de Strings: [\"maçã\", \"banana\", \"melancia\", \"morango\"]"
      ],
      "metadata": {
        "id": "K3QYK2C8Gx3k"
      },
      "id": "K3QYK2C8Gx3k"
    },
    {
      "cell_type": "code",
      "source": [
        "# @title Resolução 14\n",
        "fruits = [\"maçã\", \"banana\", \"melancia\", \"morango\"]\n",
        "long_fruits = filter(lambda fruit: len(fruit) > 6, fruits)\n",
        "print(list(long_fruits))"
      ],
      "metadata": {
        "cellView": "form",
        "id": "owbVlufHG89V"
      },
      "id": "owbVlufHG89V",
      "execution_count": null,
      "outputs": []
    },
    {
      "cell_type": "markdown",
      "source": [
        "15. Dada uma lista de números, encontre todos os números pares na lista.\n",
        "\n",
        "Lista de Números: [**1, 2, 3, 4, 5, 6]**"
      ],
      "metadata": {
        "id": "5v-qGkLDHSUb"
      },
      "id": "5v-qGkLDHSUb"
    },
    {
      "cell_type": "code",
      "source": [
        "# @title Resolução 15\n",
        "numbers = [1, 2, 3, 4, 5, 6]\n",
        "even_numbers = filter(lambda x: x % 2 == 0, numbers)\n",
        "print(list(even_numbers))  # [2, 4, 6]\n"
      ],
      "metadata": {
        "cellView": "form",
        "id": "otJaZRR8HVk0"
      },
      "id": "otJaZRR8HVk0",
      "execution_count": null,
      "outputs": []
    }
  ],
  "metadata": {
    "noteable-chatgpt": {
      "create_notebook": {
        "openai_conversation_id": "6f22cd4a-50a3-5d56-8581-c7ae7afb00d8",
        "openai_ephemeral_user_id": "933b04ad-b46a-5c98-b9f4-23d5ccdd6f68",
        "openai_subdivision1_iso_code": "BR-RJ"
      }
    },
    "kernel_info": {
      "name": "python3"
    },
    "noteable": {
      "last_transaction_id": "89207126-c1e2-4222-9248-87d9ed314379",
      "last_delta_id": "6cd9942f-40de-48b9-9667-e774d5b9e3a2"
    },
    "kernelspec": {
      "display_name": "Python 3.9",
      "language": "python",
      "name": "python3"
    },
    "selected_hardware_size": "small",
    "nteract": {
      "version": "noteable@2.9.0"
    },
    "colab": {
      "provenance": []
    }
  },
  "nbformat": 4,
  "nbformat_minor": 5
}