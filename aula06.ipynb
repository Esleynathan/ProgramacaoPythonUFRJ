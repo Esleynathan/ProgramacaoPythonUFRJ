{
  "cells": [
    {
      "cell_type": "markdown",
      "id": "143283cc-67f9-450c-8c16-d374e4ed4404",
      "metadata": {
        "id": "143283cc-67f9-450c-8c16-d374e4ed4404",
        "noteable": {
          "cell_type": "markdown"
        }
      },
      "source": [
        "# Introdução às Strings em Python\n",
        "Strings são sequências de caracteres e são usadas para representar texto em Python. Podemos criar strings usando aspas simples ou duplas. Vamos explorar como criar e acessar strings em Python."
      ]
    },
    {
      "cell_type": "code",
      "execution_count": null,
      "id": "7f5776cd-e57b-4961-9cb4-f4e6d5df16cc",
      "metadata": {
        "colab": {
          "base_uri": "https://localhost:8080/"
        },
        "id": "7f5776cd-e57b-4961-9cb4-f4e6d5df16cc",
        "noteable": {
          "cell_type": "code"
        },
        "outputId": "40e4cde8-50e7-460e-b73f-5d7bb1ef14c8"
      },
      "outputs": [
        {
          "data": {
            "text/plain": [
              "('Olá, Mundo!', 'Python é divertido!', 'O', '!')"
            ]
          },
          "execution_count": 1,
          "metadata": {},
          "output_type": "execute_result"
        }
      ],
      "source": [
        "# Criando Strings\n",
        "string1 = 'Olá, Mundo!'\n",
        "string2 = \"Python é divertido!\"\n",
        "\n",
        "# Acessando Caracteres\n",
        "primeiro_caractere = string1[0]\n",
        "ultimo_caractere = string2[-1]\n",
        "\n",
        "string1, string2, primeiro_caractere, ultimo_caractere"
      ]
    },
    {
      "cell_type": "markdown",
      "id": "94b67c90-06de-4447-8f20-aab8c6d9751c",
      "metadata": {
        "id": "94b67c90-06de-4447-8f20-aab8c6d9751c",
        "noteable": {
          "cell_type": "markdown"
        }
      },
      "source": [
        "## Operações Básicas com Strings\n",
        "Podemos realizar várias operações com strings, como concatenar duas strings, repetir uma string e verificar se uma substring está presente em outra string. Vamos ver alguns exemplos dessas operações."
      ]
    },
    {
      "cell_type": "code",
      "execution_count": null,
      "id": "6fca432b-a868-4b14-8cac-ea04fd1edac8",
      "metadata": {
        "colab": {
          "base_uri": "https://localhost:8080/"
        },
        "id": "6fca432b-a868-4b14-8cac-ea04fd1edac8",
        "noteable": {
          "cell_type": "code"
        },
        "outputId": "c6d30951-40be-40b0-c9da-50e2e7694238"
      },
      "outputs": [
        {
          "data": {
            "text/plain": [
              "('Olá, Mundo! Python é divertido!', 'Olá, Mundo!Olá, Mundo!Olá, Mundo!', True)"
            ]
          },
          "execution_count": 2,
          "metadata": {},
          "output_type": "execute_result"
        }
      ],
      "source": [
        "# Concatenação de Strings\n",
        "concatenada = string1 + ' ' + string2\n",
        "\n",
        "# Repetição de String\n",
        "repetida = string1 * 3\n",
        "\n",
        "# Verificação de Substring\n",
        "substring_presente = 'Mundo' in string1\n",
        "\n",
        "concatenada, repetida, substring_presente"
      ]
    },
    {
      "cell_type": "markdown",
      "id": "bdab7791-d954-49bf-be8f-a5146b14c15b",
      "metadata": {
        "id": "bdab7791-d954-49bf-be8f-a5146b14c15b",
        "noteable": {
          "cell_type": "markdown"
        }
      },
      "source": [
        "## Métodos de Strings\n",
        "As strings em Python vêm com vários métodos úteis que nos permitem realizar operações comuns de maneira fácil e eficiente. Vamos explorar alguns desses métodos."
      ]
    },
    {
      "cell_type": "markdown",
      "id": "wyXAnqJ6P_Xw",
      "metadata": {
        "id": "wyXAnqJ6P_Xw"
      },
      "source": [
        "| Método                     | Exemplo com Saída                                              | Descrição                                                                                          |\n",
        "|----------------------------|----------------------------------------------------------------|-----------------------------------------------------------------------------------------------------|\n",
        "| `str.capitalize()`         | `(\"a vida é bela.\").capitalize()` => \"A vida é bela.\"          | Converte a primeira letra da string em maiúscula.                                                   |\n",
        "| `str.lower()`              | `(\"A Vida é bela.\").lower()` => \"a vida é bela.\"               | Converte todos os caracteres da string em minúsculas.                                               |\n",
        "| `str.upper()`              | `(\"A vida é bela.\").upper()` => \"A VIDA É BELA.\"               | Converte todos os caracteres da string em maiúsculas.                                               |\n",
        "| `str.title()`              | `(\"A vida é bela.\").title()` => \"A Vida É Bela.\"               | Converte a primeira letra de cada palavra em maiúscula.                                              |\n",
        "| `str.strip()`              | `(\" A vida é bela. \").strip()` => \"A vida é bela.\"              | Remove espaços em branco no início e no fim da string.                                               |\n",
        "| `str.replace(a, b)`        | `(\"A vida é bela.\").replace('vida', 'arte')` => \"A arte é bela.\" | Substitui todas as ocorrências de `a` por `b` na string.                                              |\n",
        "| `str.find(x)`              | `(\"A vida é bela.\").find('vida')` => 2                         | Retorna o índice da primeira ocorrência de `x` na string, ou -1 se `x` não for encontrado.           |\n",
        "| `str.count(x)`             | `(\"A vida é bela.\").count('a')` => 3                           | Conta o número de ocorrências não sobrepostas de `x` na string.                                      |\n",
        "| `str.startswith(x)`        | `(\"A vida é bela.\").startswith('A')` => True                   | Retorna `True` se a string começar com o prefixo `x`.                                                |\n",
        "| `str.endswith(x)`          | `(\"A vida é bela.\").endswith('.')` => True                     | Retorna `True` se a string terminar com o sufixo `x`.                                                |\n",
        "| `str.split(x)`             | `(\"A vida é bela.\").split(' ')` => ['A', 'vida', 'é', 'bela.']  | Divide a string em uma lista onde cada palavra é uma string, usando o delimitador `x`.               |\n",
        "| `str.join(x)`              | `(\" \").join(['A', 'vida', 'é', 'bela.'])` => \"A vida é bela.\"   | Concatena qualquer número de strings, com uma string `x` entre elas.                                 |\n"
      ]
    },
    {
      "cell_type": "code",
      "execution_count": null,
      "id": "DJ-5Lir0R5Fv",
      "metadata": {
        "id": "DJ-5Lir0R5Fv"
      },
      "outputs": [],
      "source": [
        "s = \"A vida é bela.\""
      ]
    },
    {
      "cell_type": "markdown",
      "id": "8hHWQVgZRFFt",
      "metadata": {
        "id": "8hHWQVgZRFFt"
      },
      "source": [
        "1. **`capitalize()`:** Usado para capitalizar a primeira letra da string."
      ]
    },
    {
      "cell_type": "code",
      "execution_count": null,
      "id": "Z8Bqyf6DRVkV",
      "metadata": {
        "id": "Z8Bqyf6DRVkV"
      },
      "outputs": [],
      "source": [
        "print(s.capitalize())"
      ]
    },
    {
      "cell_type": "markdown",
      "id": "ifTRJreIRS2X",
      "metadata": {
        "id": "ifTRJreIRS2X"
      },
      "source": [
        "2. **`lower()`:** Usado para converter toda a string em letras minúsculas."
      ]
    },
    {
      "cell_type": "code",
      "execution_count": null,
      "id": "f8KNI-egRX7l",
      "metadata": {
        "id": "f8KNI-egRX7l"
      },
      "outputs": [],
      "source": [
        "print(s.lower())"
      ]
    },
    {
      "cell_type": "markdown",
      "id": "ZWZNup0jR8MU",
      "metadata": {
        "id": "ZWZNup0jR8MU"
      },
      "source": [
        "3. **`upper()`:** Usado para converter toda a string em letras maiúsculas."
      ]
    },
    {
      "cell_type": "code",
      "execution_count": null,
      "id": "ENiObnLPR-1V",
      "metadata": {
        "id": "ENiObnLPR-1V"
      },
      "outputs": [],
      "source": [
        "print(s.upper())"
      ]
    },
    {
      "cell_type": "markdown",
      "id": "xsAP8eypSC80",
      "metadata": {
        "id": "xsAP8eypSC80"
      },
      "source": [
        "4. **`title()`:** Usado para converter a primeira letra de cada palavra em maiúscula."
      ]
    },
    {
      "cell_type": "code",
      "execution_count": null,
      "id": "54j0G5pfSJq9",
      "metadata": {
        "id": "54j0G5pfSJq9"
      },
      "outputs": [],
      "source": [
        "print(s.title())"
      ]
    },
    {
      "cell_type": "markdown",
      "id": "NwlayFD5SNVs",
      "metadata": {
        "id": "NwlayFD5SNVs"
      },
      "source": [
        "5. **`strip()`:** Usado para remover espaços em branco no início e no fim da string."
      ]
    },
    {
      "cell_type": "code",
      "execution_count": null,
      "id": "NbCc9y-aSQIs",
      "metadata": {
        "colab": {
          "base_uri": "https://localhost:8080/"
        },
        "id": "NbCc9y-aSQIs",
        "outputId": "ddbe7283-4243-43da-d458-9595b9447c3e"
      },
      "outputs": [
        {
          "name": "stdout",
          "output_type": "stream",
          "text": [
            "A vida é bela.\n"
          ]
        }
      ],
      "source": [
        "s_com_espacos = \"  A vida é bela.  \"\n",
        "print(s_com_espacos.strip())"
      ]
    },
    {
      "cell_type": "markdown",
      "id": "lVA9A7SkSzsb",
      "metadata": {
        "id": "lVA9A7SkSzsb"
      },
      "source": [
        "6. **`replace(a, b)`:** Usado para substituir todas as ocorrências de `a` por `b`."
      ]
    },
    {
      "cell_type": "code",
      "execution_count": null,
      "id": "P0VdiDvHS3jT",
      "metadata": {
        "id": "P0VdiDvHS3jT"
      },
      "outputs": [],
      "source": [
        "print(s.replace('vida', 'arte'))"
      ]
    },
    {
      "cell_type": "markdown",
      "id": "OEf6EIjlS7TK",
      "metadata": {
        "id": "OEf6EIjlS7TK"
      },
      "source": [
        "7. **`find(x)`:** Usado para encontrar a primeira ocorrência de `x`."
      ]
    },
    {
      "cell_type": "code",
      "execution_count": null,
      "id": "Yb-cEio6S-wi",
      "metadata": {
        "id": "Yb-cEio6S-wi"
      },
      "outputs": [],
      "source": [
        "print(s.find('vida'))"
      ]
    },
    {
      "cell_type": "markdown",
      "id": "obp-TGBcTCPD",
      "metadata": {
        "id": "obp-TGBcTCPD"
      },
      "source": [
        "8. **`count(x)`:** Usado para contar o número de ocorrências de `x`."
      ]
    },
    {
      "cell_type": "code",
      "execution_count": null,
      "id": "WFxJhs-cTFCD",
      "metadata": {
        "id": "WFxJhs-cTFCD"
      },
      "outputs": [],
      "source": [
        "print(s.count('a'))"
      ]
    },
    {
      "cell_type": "markdown",
      "id": "T5X5uk56TJi0",
      "metadata": {
        "id": "T5X5uk56TJi0"
      },
      "source": [
        "9. **`startswith(x)`:** Usado para verificar se a string começa com `x`."
      ]
    },
    {
      "cell_type": "code",
      "execution_count": null,
      "id": "EwU4KS07TMe7",
      "metadata": {
        "id": "EwU4KS07TMe7"
      },
      "outputs": [],
      "source": [
        "print(s.startswith('A'))"
      ]
    },
    {
      "cell_type": "markdown",
      "id": "RPwkrMr3TQFO",
      "metadata": {
        "id": "RPwkrMr3TQFO"
      },
      "source": [
        "10. **`endswith(x)`:** Usado para verificar se a string termina com `x`."
      ]
    },
    {
      "cell_type": "code",
      "execution_count": null,
      "id": "tiHWpJZ7TS2M",
      "metadata": {
        "id": "tiHWpJZ7TS2M"
      },
      "outputs": [],
      "source": [
        "print(s.endswith('.'))"
      ]
    },
    {
      "cell_type": "markdown",
      "id": "dF15qxeHTVzD",
      "metadata": {
        "id": "dF15qxeHTVzD"
      },
      "source": [
        "11. **`split(x)`:** Usado para dividir a string em partes usando `x` como delimitador."
      ]
    },
    {
      "cell_type": "code",
      "execution_count": null,
      "id": "UGe_u6lWTYOk",
      "metadata": {
        "id": "UGe_u6lWTYOk"
      },
      "outputs": [],
      "source": [
        "print(s.split(' '))"
      ]
    },
    {
      "cell_type": "markdown",
      "id": "cjTuLByPTa6b",
      "metadata": {
        "id": "cjTuLByPTa6b"
      },
      "source": [
        "12. **`join(x)`:** Usado para juntar uma lista de strings usando `x` como conector."
      ]
    },
    {
      "cell_type": "code",
      "execution_count": null,
      "id": "ObIvk_yyQ7Bt",
      "metadata": {
        "id": "ObIvk_yyQ7Bt"
      },
      "outputs": [],
      "source": [
        "words = ['A', 'vida', 'é', 'bela.']\n",
        "print(\" \".join(words))  # Saída: \"A vida é bela.\""
      ]
    },
    {
      "cell_type": "code",
      "execution_count": null,
      "id": "52c2db34-0e6a-4445-8a4a-15b897d9a253",
      "metadata": {
        "id": "52c2db34-0e6a-4445-8a4a-15b897d9a253",
        "noteable": {
          "cell_type": "code"
        }
      },
      "outputs": [],
      "source": [
        "# Usando Métodos de Strings\n",
        "texto = '   Python é Poderoso!   '\n",
        "\n",
        "# Convertendo para Maiúsculas e Minúsculas\n",
        "maiusculas = texto.upper()\n",
        "minusculas = texto.lower()\n",
        "\n",
        "# Removendo Espaços em Branco\n",
        "sem_espacos = texto.strip()\n",
        "\n",
        "# Substituindo Texto\n",
        "substituido = texto.replace('Poderoso', 'Incrível')\n",
        "\n",
        "# Encontrando Substring\n",
        "posicao = texto.find('é')\n",
        "\n",
        "# Dividindo e Unindo Strings\n",
        "dividido = texto.split()\n",
        "unido = ' '.join(dividido)\n",
        "\n",
        "maiusculas, minusculas, sem_espacos, substituido, posicao, dividido, unido"
      ]
    },
    {
      "cell_type": "markdown",
      "id": "ca895ee4-9e71-4709-a73d-c065cf9c72bf",
      "metadata": {
        "id": "ca895ee4-9e71-4709-a73d-c065cf9c72bf",
        "noteable": {
          "cell_type": "markdown"
        }
      },
      "source": [
        "## Formatação de Strings\n",
        "A formatação de strings permite inserir valores dentro de uma string de maneira dinâmica. Em Python, podemos usar f-strings ou o método `format()`."
      ]
    },
    {
      "cell_type": "code",
      "execution_count": null,
      "id": "6c66e92f-a706-4642-8729-c45206f5b6b4",
      "metadata": {
        "id": "6c66e92f-a706-4642-8729-c45206f5b6b4",
        "noteable": {
          "cell_type": "code"
        }
      },
      "outputs": [],
      "source": [
        "# Usando f-strings\n",
        "nome = 'Maria'\n",
        "idade = 30\n",
        "f_string = f'{nome} tem {idade} anos.'\n",
        "\n",
        "# Usando o método format()\n",
        "format_string = '{} tem {} anos.'.format(nome, idade)\n",
        "\n",
        "f_string, format_string"
      ]
    },
    {
      "cell_type": "markdown",
      "id": "6G4_uFhYAmwb",
      "metadata": {
        "id": "6G4_uFhYAmwb"
      },
      "source": [
        "#### Formato de String: permite a inserção e formatação de variáveis dentro de uma string, útil para relatórios e visualizações."
      ]
    },
    {
      "cell_type": "markdown",
      "id": "V_fTFj0vF7Qx",
      "metadata": {
        "id": "V_fTFj0vF7Qx"
      },
      "source": [
        "##### Formatação de Ponto Flutuante"
      ]
    },
    {
      "cell_type": "code",
      "execution_count": 17,
      "id": "4R1bx1fpAyFv",
      "metadata": {
        "colab": {
          "base_uri": "https://localhost:8080/",
          "height": 35
        },
        "id": "4R1bx1fpAyFv",
        "outputId": "5be6d3ce-f6ae-44a0-f1b0-5b6bb4587241"
      },
      "outputs": [
        {
          "data": {
            "application/vnd.google.colaboratory.intrinsic+json": {
              "type": "string"
            },
            "text/plain": [
              "'O preço é 5.68'"
            ]
          },
          "execution_count": 17,
          "metadata": {},
          "output_type": "execute_result"
        }
      ],
      "source": [
        "\"O preço é {:.2f}\".format(5.678)"
      ]
    },
    {
      "cell_type": "markdown",
      "id": "MdvAmMwuE5eJ",
      "metadata": {
        "id": "MdvAmMwuE5eJ"
      },
      "source": [
        "O código `\"O preço é {:.2f}\".format(5.678)` está usando a formatação de strings em Python para formatar o valor de ponto flutuante `5.678` com duas casas decimais.\n",
        "\n",
        "1. **String Literal**:\n",
        "   ```python\n",
        "   \"O preço é {:.2f}\"\n",
        "   ```\n",
        "   - `\"O preço é \"`: Esta é a parte fixa da string que será impressa como está.\n",
        "   - `{}`: As chaves são usadas para inserir um valor na string. O valor a ser inserido é fornecido pelo método `format`.\n",
        "   - `:`: Inicia a especificação de formato dentro das chaves.\n",
        "   - `.2`: Define o número de casas decimais como 2.\n",
        "   - `f`: Especifica que o valor deve ser formatado como um número de ponto flutuante.\n",
        "\n",
        "2. **Método `format`**:\n",
        "   ```python\n",
        "   .format(5.678)\n",
        "   ```\n",
        "   O método `format` é chamado na string, e o valor `5.678` é passado como argumento. O valor é então formatado de acordo com a especificação dentro das chaves `{}`.\n",
        "\n",
        "3. **Resultado**:\n",
        "   O resultado é a seguinte string:\n",
        "   ```\n",
        "   'O preço é 5.68'\n",
        "   ```\n",
        "   O valor `5.678` foi arredondado para duas casas decimais, resultando em `5.68`.\n",
        "\n"
      ]
    },
    {
      "cell_type": "markdown",
      "id": "B7AbWTmGByHT",
      "metadata": {
        "id": "B7AbWTmGByHT"
      },
      "source": [
        "##### Formatação de Números Inteiros:\n",
        "Para imprimir um número de ordem com um número fixo de dígitos, preenchendo com zeros:"
      ]
    },
    {
      "cell_type": "code",
      "execution_count": 26,
      "id": "jR5m_JwDB1F5",
      "metadata": {
        "colab": {
          "base_uri": "https://localhost:8080/"
        },
        "id": "jR5m_JwDB1F5",
        "outputId": "05296276-d190-4879-a622-a012f0de8132"
      },
      "outputs": [
        {
          "name": "stdout",
          "output_type": "stream",
          "text": [
            "Ordem do pedido: 00042\n"
          ]
        }
      ],
      "source": [
        "ordem = 42\n",
        "print(\"Ordem do pedido: {:05d}\".format(ordem))"
      ]
    },
    {
      "cell_type": "markdown",
      "id": "Xt9vKeG8Fss-",
      "metadata": {
        "id": "Xt9vKeG8Fss-"
      },
      "source": [
        "1. **Atribuição de Valor**:\n",
        "   ```python\n",
        "   ordem = 42\n",
        "   ```\n",
        "   A variável `ordem` é atribuída o valor inteiro `42`, que representa o número de uma ordem específica em um contexto, como um pedido em um restaurante ou uma compra online.\n",
        "\n",
        "2. **String Literal com Formatação**:\n",
        "   ```python\n",
        "   \"Ordem do pedido: {:05d}\"\n",
        "   ```\n",
        "   - `\"Ordem do pedido: \"`: Essa é a parte fixa da string que será impressa como está.\n",
        "   - `{}`: As chaves são usadas para inserir um valor na string. O valor a ser inserido é fornecido pelo método `format`.\n",
        "   - `:`: Inicia a especificação de formato dentro das chaves.\n",
        "   - `0`: Indica que o preenchimento deve ser feito com zeros, se necessário.\n",
        "   - `5`: Define a largura mínima do campo como 5 caracteres.\n",
        "   - `d`: Especifica que o valor é um número inteiro decimal (dígito).\n",
        "\n",
        "3. **Método `format`**:\n",
        "   ```python\n",
        "   .format(ordem)\n",
        "   ```\n",
        "   O método `format` é chamado na string, e o valor da variável `ordem` é passado como argumento. O valor é então formatado de acordo com a especificação dentro das chaves `{}`.\n",
        "\n",
        "4. **Resultado**:\n",
        "   O resultado é a seguinte string:\n",
        "   ```\n",
        "   'Ordem do pedido: 00042'\n",
        "   ```\n",
        "   Como o especificador de formato é `05d`, o número `42` é formatado com cinco dígitos, preenchendo com zeros à esquerda para atingir esse tamanho.\n",
        "\n"
      ]
    },
    {
      "cell_type": "markdown",
      "id": "HI7SpFzZCpbK",
      "metadata": {
        "id": "HI7SpFzZCpbK"
      },
      "source": [
        "##### Formatação de Porcentagem"
      ]
    },
    {
      "cell_type": "code",
      "execution_count": 31,
      "id": "Kueyy_HRCshk",
      "metadata": {
        "colab": {
          "base_uri": "https://localhost:8080/"
        },
        "id": "Kueyy_HRCshk",
        "outputId": "698d70e9-0cd6-433c-da69-d298fbdd68bf"
      },
      "outputs": [
        {
          "name": "stdout",
          "output_type": "stream",
          "text": [
            "Progresso do projeto: 45.600%\n"
          ]
        }
      ],
      "source": [
        "progresso = 0.456\n",
        "print(\"Progresso do projeto: {:.3%}\".format(progresso))\n"
      ]
    },
    {
      "cell_type": "markdown",
      "id": "nLc5kmRCD10K",
      "metadata": {
        "id": "nLc5kmRCD10K"
      },
      "source": [
        "**Detalhamento do método:**\n",
        "\n",
        "1. **Atribuição de Valor**:\n",
        "   ```python\n",
        "   progresso = 0.456\n",
        "   ```\n",
        "   A variável `progresso` recebe o valor `0.456`, que representa 45.6% em termos de porcentagem.\n",
        "\n",
        "2. **Formatação da String**:\n",
        "   ```python\n",
        "   \"Progresso do projeto: {:.3%}\".format(progresso)\n",
        "   ```\n",
        "   - `\"Progresso do projeto: \"`: Esta é a parte fixa da string que será impressa como está.\n",
        "   - `{}`: As chaves são usadas para inserir um valor na string. O valor a ser inserido é fornecido pelo método `format`.\n",
        "   - `:`: Inicia a especificação de formato.\n",
        "   - `.3`: Define o número de casas decimais para 3.\n",
        "   - `%`: Especifica que o valor deve ser formatado como uma porcentagem. Isso multiplica o valor por 100 e adiciona o símbolo de porcentagem (`%`) após o número.\n",
        "\n",
        "3. **Método `format`**:\n",
        "   O método `format` é chamado na string, e o valor de `progresso` é passado como argumento. O valor é então formatado de acordo com a especificação dentro das chaves `{}`.\n",
        "\n",
        "4. **Resultado**:\n",
        "   O resultado é a seguinte string:\n",
        "   ```\n",
        "   'Progresso do projeto: 45.600%'\n",
        "   ```\n",
        "   Essa string é impressa no console pelo comando `print`.\n"
      ]
    },
    {
      "cell_type": "markdown",
      "id": "M2XFFyzJGJf9",
      "metadata": {
        "id": "M2XFFyzJGJf9"
      },
      "source": [
        "#####Combinação de Argumentos:\n"
      ]
    },
    {
      "cell_type": "code",
      "execution_count": 37,
      "id": "Ow4azTxhGQUp",
      "metadata": {
        "colab": {
          "base_uri": "https://localhost:8080/"
        },
        "id": "Ow4azTxhGQUp",
        "outputId": "f62aeb69-51cb-42c1-afca-47777ddc548a"
      },
      "outputs": [
        {
          "name": "stdout",
          "output_type": "stream",
          "text": [
            "Alice tem 25.00 anos e 75.00% de chance de ser aprovada para a vaga\n"
          ]
        }
      ],
      "source": [
        "print(\"{0} tem {1:.2f} anos e {2:.2%} de chance de ser aprovada para a vaga\".format(\"Alice\", 25, 0.75))\n"
      ]
    },
    {
      "cell_type": "markdown",
      "id": "jXZvl52DGpIt",
      "metadata": {
        "id": "jXZvl52DGpIt"
      },
      "source": [
        "##### Formatação de Dinheiro"
      ]
    },
    {
      "cell_type": "code",
      "execution_count": 40,
      "id": "IaUEBi_VGtsX",
      "metadata": {
        "colab": {
          "base_uri": "https://localhost:8080/"
        },
        "id": "IaUEBi_VGtsX",
        "outputId": "c2842649-da0f-4204-aabe-4f58d122833b"
      },
      "outputs": [
        {
          "name": "stdout",
          "output_type": "stream",
          "text": [
            "Preço: $12,345.68\n"
          ]
        }
      ],
      "source": [
        "preco = 12345.678\n",
        "print(\"Preço: ${:,.2f}\".format(preco))"
      ]
    },
    {
      "cell_type": "markdown",
      "id": "PtDkorw8HVhg",
      "metadata": {
        "id": "PtDkorw8HVhg"
      },
      "source": [
        "E o padrão brasileiro?"
      ]
    },
    {
      "cell_type": "code",
      "execution_count": 45,
      "id": "EU7M0GNCHYjX",
      "metadata": {
        "colab": {
          "base_uri": "https://localhost:8080/"
        },
        "id": "EU7M0GNCHYjX",
        "outputId": "fdee1c85-b5c9-4b17-87e0-5fba6d01eb98"
      },
      "outputs": [
        {
          "name": "stdout",
          "output_type": "stream",
          "text": [
            "Preço: R$12.345,68\n"
          ]
        }
      ],
      "source": [
        "preco = 12345.678\n",
        "\n",
        "# Utiliza o método format para arredondar para duas casas decimais\n",
        "preco_formatado = \"{:,.2f}\".format(preco)\n",
        "\n",
        "# Substitui o ponto por vírgula para o separador decimal e a vírgula por ponto para o separador de milhares\n",
        "preco_formatado = preco_formatado.replace(',', ' ').replace('.', ',').replace(' ', '.')\n",
        "\n",
        "print(\"Preço: R${}\".format(preco_formatado))"
      ]
    },
    {
      "cell_type": "markdown",
      "id": "cyP-oFHKXFbY",
      "metadata": {
        "id": "cyP-oFHKXFbY"
      },
      "source": [
        "## Manipulação de Strings com combinação de métodos"
      ]
    },
    {
      "cell_type": "markdown",
      "id": "wcQJ2aOTXJ4x",
      "metadata": {
        "id": "wcQJ2aOTXJ4x"
      },
      "source": [
        "### `capitalize()` e `title()`: Capitalizar cada frase em um parágrafo."
      ]
    },
    {
      "cell_type": "code",
      "execution_count": null,
      "id": "T263rTJbXWcQ",
      "metadata": {
        "id": "T263rTJbXWcQ"
      },
      "outputs": [],
      "source": [
        "paragrafo = \"a vida é bela. a arte é admirável. aprendemos todos os dias.\""
      ]
    },
    {
      "cell_type": "code",
      "execution_count": null,
      "id": "8Ch-rgggX5VI",
      "metadata": {
        "id": "8Ch-rgggX5VI"
      },
      "outputs": [],
      "source": [
        "sentences = paragrafo.split('. ')"
      ]
    },
    {
      "cell_type": "code",
      "execution_count": null,
      "id": "txbaDMtxX73G",
      "metadata": {
        "id": "txbaDMtxX73G"
      },
      "outputs": [],
      "source": [
        "capitalized_sentences = [sentence.capitalize() for sentence in sentences]"
      ]
    },
    {
      "cell_type": "code",
      "execution_count": null,
      "id": "-O5siuAbX9Rf",
      "metadata": {
        "id": "-O5siuAbX9Rf"
      },
      "outputs": [],
      "source": [
        "novo_paragrafo = \". \".join(capitalized_sentences)"
      ]
    },
    {
      "cell_type": "code",
      "execution_count": null,
      "id": "wdePnq-HXD0J",
      "metadata": {
        "colab": {
          "base_uri": "https://localhost:8080/"
        },
        "id": "wdePnq-HXD0J",
        "outputId": "995d8a8f-b37c-4fd2-d89a-b4c1073783a4"
      },
      "outputs": [
        {
          "name": "stdout",
          "output_type": "stream",
          "text": [
            "A vida é bela. A arte é admirável. Aprendemos todos os dias.\n"
          ]
        }
      ],
      "source": [
        "print(novo_paragrafo)"
      ]
    },
    {
      "cell_type": "markdown",
      "id": "aNbMSA-VYMbf",
      "metadata": {
        "id": "aNbMSA-VYMbf"
      },
      "source": [
        "### `lower()` e `count()`: Contar o número de ocorrências de uma palavra, independentemente do caso."
      ]
    },
    {
      "cell_type": "code",
      "execution_count": null,
      "id": "NbJUjgBHYY7X",
      "metadata": {
        "id": "NbJUjgBHYY7X"
      },
      "outputs": [],
      "source": [
        "word_to_count = \"vida\""
      ]
    },
    {
      "cell_type": "code",
      "execution_count": null,
      "id": "TUYC8gZNYb4X",
      "metadata": {
        "id": "TUYC8gZNYb4X"
      },
      "outputs": [],
      "source": [
        "count = s.lower().count(word_to_count.lower())"
      ]
    },
    {
      "cell_type": "code",
      "execution_count": null,
      "id": "Dpgx0M7nYWGv",
      "metadata": {
        "colab": {
          "base_uri": "https://localhost:8080/"
        },
        "id": "Dpgx0M7nYWGv",
        "outputId": "e993c69d-6cf9-455b-f361-33bdee6a5bd2"
      },
      "outputs": [
        {
          "name": "stdout",
          "output_type": "stream",
          "text": [
            "A palavra 'vida' aparece 1 vezes.\n"
          ]
        }
      ],
      "source": [
        "print(f\"A palavra '{word_to_count}' aparece {count} vezes.\")\n"
      ]
    },
    {
      "cell_type": "markdown",
      "id": "XlPNtEVRYwfH",
      "metadata": {
        "id": "XlPNtEVRYwfH"
      },
      "source": [
        "### `upper()` e `startswith()`: Transformar em maiúsculas as palavras que começam com uma letra específica."
      ]
    },
    {
      "cell_type": "code",
      "execution_count": null,
      "id": "1O9DpAYSZCtX",
      "metadata": {
        "colab": {
          "base_uri": "https://localhost:8080/"
        },
        "id": "1O9DpAYSZCtX",
        "outputId": "fe8bba27-cd2e-49de-e0ae-f20a308b02e8"
      },
      "outputs": [
        {
          "data": {
            "text/plain": [
              "['A', 'vida', 'é', 'bela.']"
            ]
          },
          "execution_count": 17,
          "metadata": {},
          "output_type": "execute_result"
        }
      ],
      "source": [
        "words = s.split(' ')\n",
        "words"
      ]
    },
    {
      "cell_type": "code",
      "execution_count": null,
      "id": "8WZq3qE5Y9bl",
      "metadata": {
        "colab": {
          "base_uri": "https://localhost:8080/"
        },
        "id": "8WZq3qE5Y9bl",
        "outputId": "4f5ade60-51a6-4041-fcca-8a2e0f202098"
      },
      "outputs": [
        {
          "name": "stdout",
          "output_type": "stream",
          "text": [
            "VIDA\n"
          ]
        }
      ],
      "source": [
        "for word in words:\n",
        "    if word.startswith('v'):\n",
        "        print(word.upper())"
      ]
    },
    {
      "cell_type": "markdown",
      "id": "_to8SU-hZPyH",
      "metadata": {
        "id": "_to8SU-hZPyH"
      },
      "source": [
        "### `replace(a, b)` com condicional: Substituir uma palavra somente se ela existir na string."
      ]
    },
    {
      "cell_type": "code",
      "execution_count": null,
      "id": "dLHAKzdIZZ1H",
      "metadata": {
        "id": "dLHAKzdIZZ1H"
      },
      "outputs": [],
      "source": [
        "old_word = \"vida\"\n",
        "new_word = \"arte\""
      ]
    },
    {
      "cell_type": "code",
      "execution_count": null,
      "id": "megbWBXYZVQW",
      "metadata": {
        "colab": {
          "base_uri": "https://localhost:8080/"
        },
        "id": "megbWBXYZVQW",
        "outputId": "ea3d57bd-775b-47a0-cefa-4750d927f015"
      },
      "outputs": [
        {
          "name": "stdout",
          "output_type": "stream",
          "text": [
            "A arte é bela.\n"
          ]
        }
      ],
      "source": [
        "if old_word in s:\n",
        "    print(s.replace(old_word, new_word))"
      ]
    },
    {
      "cell_type": "markdown",
      "id": "LPWukdBObcn1",
      "metadata": {
        "id": "LPWukdBObcn1"
      },
      "source": [
        "### `split(x)` e `join(x)` com loop: Dividir uma string em palavras e reverter a ordem das palavras."
      ]
    },
    {
      "cell_type": "code",
      "execution_count": null,
      "id": "tTa5EP7QadmN",
      "metadata": {
        "colab": {
          "base_uri": "https://localhost:8080/"
        },
        "id": "tTa5EP7QadmN",
        "outputId": "d841be36-514e-4fc5-9176-5a308b762932"
      },
      "outputs": [
        {
          "data": {
            "text/plain": [
              "['A', 'vida', 'é', 'bela.']"
            ]
          },
          "execution_count": 29,
          "metadata": {},
          "output_type": "execute_result"
        }
      ],
      "source": [
        "words = s.split(' ')\n",
        "words"
      ]
    },
    {
      "cell_type": "markdown",
      "id": "7OoVlikjbCmF",
      "metadata": {
        "id": "7OoVlikjbCmF"
      },
      "source": [
        "A função `reversed()` em Python é usada para inverter a ordem dos elementos de um objeto iterável, como uma lista ou string. Ela não modifica o objeto original, mas retorna um iterador que percorre os elementos na ordem invertida."
      ]
    },
    {
      "cell_type": "code",
      "execution_count": null,
      "id": "-yXC-HiDaffG",
      "metadata": {
        "colab": {
          "base_uri": "https://localhost:8080/"
        },
        "id": "-yXC-HiDaffG",
        "outputId": "40624d5e-b0f7-4a73-eb61-e9d958e571e6"
      },
      "outputs": [
        {
          "data": {
            "text/plain": [
              "['bela.', 'é', 'vida', 'A']"
            ]
          },
          "execution_count": 31,
          "metadata": {},
          "output_type": "execute_result"
        }
      ],
      "source": [
        "reversed_words = [word for word in reversed(words)]\n",
        "reversed_words"
      ]
    },
    {
      "cell_type": "code",
      "execution_count": null,
      "id": "V2D1QeP8ag2V",
      "metadata": {
        "id": "V2D1QeP8ag2V"
      },
      "outputs": [],
      "source": [
        "reversed_sentence = \" \".join(reversed_words)"
      ]
    },
    {
      "cell_type": "code",
      "execution_count": null,
      "id": "duh398bWaZtl",
      "metadata": {
        "colab": {
          "base_uri": "https://localhost:8080/"
        },
        "id": "duh398bWaZtl",
        "outputId": "5acca128-a28a-451a-cb65-f4b106f0e9cd"
      },
      "outputs": [
        {
          "name": "stdout",
          "output_type": "stream",
          "text": [
            "bela. é vida A\n"
          ]
        }
      ],
      "source": [
        "print(reversed_sentence)"
      ]
    },
    {
      "cell_type": "code",
      "execution_count": null,
      "id": "Vl_eWw7LcOE2",
      "metadata": {
        "id": "Vl_eWw7LcOE2"
      },
      "outputs": [],
      "source": [
        "strings = [\" a Vida é bela \", \" a Arte é admirável \", \" aprendemos todos os dias \"]\n",
        "for string in strings:\n",
        "    cleaned_string = string.strip().lower().replace('a', '@')\n",
        "    print(cleaned_string)\n"
      ]
    },
    {
      "cell_type": "markdown",
      "id": "rALUK4VWcx7b",
      "metadata": {
        "id": "rALUK4VWcx7b"
      },
      "source": [
        "### Pre-processamento de texto"
      ]
    },
    {
      "cell_type": "markdown",
      "id": "hRCPl88Y9coS",
      "metadata": {
        "id": "hRCPl88Y9coS"
      },
      "source": [
        "#### Extraindo o usuário  e o servidor do e_mail"
      ]
    },
    {
      "cell_type": "code",
      "execution_count": 1,
      "id": "SdZQjdyec4jM",
      "metadata": {
        "id": "SdZQjdyec4jM"
      },
      "outputs": [],
      "source": [
        "emails = [\n",
        "    \"alice@example.com\",\n",
        "    \"bob@provider.com\",\n",
        "    \"carol@domain.net\",\n",
        "    \"david@service.org\"\n",
        "]"
      ]
    },
    {
      "cell_type": "code",
      "execution_count": 3,
      "id": "uJVVTKNxc87M",
      "metadata": {
        "colab": {
          "base_uri": "https://localhost:8080/"
        },
        "id": "uJVVTKNxc87M",
        "outputId": "84de183a-baec-43f0-bb40-a61b690ba95c"
      },
      "outputs": [
        {
          "name": "stdout",
          "output_type": "stream",
          "text": [
            "['alice', 'bob', 'carol', 'david']\n"
          ]
        }
      ],
      "source": [
        "usuarios_email = [email.split('@')[0] for email in emails]\n",
        "print(usuarios_email)"
      ]
    },
    {
      "cell_type": "code",
      "execution_count": 5,
      "id": "vkQR5iYp-Bk3",
      "metadata": {
        "colab": {
          "base_uri": "https://localhost:8080/"
        },
        "id": "vkQR5iYp-Bk3",
        "outputId": "45d94561-3e86-4c35-9155-2bff8a4b995b"
      },
      "outputs": [
        {
          "name": "stdout",
          "output_type": "stream",
          "text": [
            "['example.com', 'provider.com', 'domain.net', 'service.org']\n"
          ]
        }
      ],
      "source": [
        "servidores_email = [email.split('@')[1] for email in emails]\n",
        "print(servidores_email)"
      ]
    },
    {
      "cell_type": "code",
      "execution_count": 9,
      "id": "niCtw7It-MIX",
      "metadata": {
        "colab": {
          "base_uri": "https://localhost:8080/"
        },
        "id": "niCtw7It-MIX",
        "outputId": "cc8cecc1-6889-489d-e96f-615c8c6f56ce"
      },
      "outputs": [
        {
          "data": {
            "text/plain": [
              "['example', 'provider', 'domain', 'service']"
            ]
          },
          "execution_count": 9,
          "metadata": {},
          "output_type": "execute_result"
        }
      ],
      "source": [
        "[servidores.split('.')[0] for servidores in servidores_email]"
      ]
    },
    {
      "cell_type": "code",
      "execution_count": 15,
      "id": "a-eF6-tJ_WnO",
      "metadata": {
        "id": "a-eF6-tJ_WnO"
      },
      "outputs": [],
      "source": [
        "palavra = 'saudade'"
      ]
    },
    {
      "cell_type": "code",
      "execution_count": 16,
      "id": "909TCBpW_Z44",
      "metadata": {
        "colab": {
          "base_uri": "https://localhost:8080/"
        },
        "id": "909TCBpW_Z44",
        "outputId": "a3a61bbf-bff6-4c90-8507-9b54d692ae5a"
      },
      "outputs": [
        {
          "data": {
            "text/plain": [
              "['s', 'a', 'u', 'd', 'a', 'd', 'e']"
            ]
          },
          "execution_count": 16,
          "metadata": {},
          "output_type": "execute_result"
        }
      ],
      "source": [
        "list(palavra)"
      ]
    },
    {
      "cell_type": "markdown",
      "id": "A_fl1W7gddI-",
      "metadata": {
        "id": "A_fl1W7gddI-"
      },
      "source": [
        "#### O pré-processamento de texto é uma etapa essencial em muitas tarefas de Processamento de Linguagem Natural (NLP). Ele envolve a limpeza e transformação do texto bruto em uma forma que pode ser analisada e modelada de maneira mais eficaz. Abaixo são apresentados exemplos comuns de pré-processamento em NLP:"
      ]
    }
  ],
  "metadata": {
    "colab": {
      "provenance": []
    },
    "kernel_info": {
      "name": "python3"
    },
    "kernelspec": {
      "display_name": "Python 3.9",
      "language": "python",
      "name": "python3"
    },
    "language_info": {
      "name": "python",
      "version": "3.11.4"
    },
    "noteable": {
      "last_delta_id": "8300d69a-c72b-45a8-b65f-aedbb09db74d",
      "last_transaction_id": "01a2cbb3-fde0-4f45-a49f-aacc83d4430d"
    },
    "noteable-chatgpt": {
      "create_notebook": {
        "openai_conversation_id": "2df6dab2-41b3-579c-b2ed-ee48e790ee4c",
        "openai_ephemeral_user_id": "ad426ad8-5d30-528e-a001-804275503b34",
        "openai_subdivision1_iso_code": "BR-RJ"
      }
    },
    "nteract": {
      "version": "noteable@2.9.0"
    },
    "selected_hardware_size": "small"
  },
  "nbformat": 4,
  "nbformat_minor": 5
}
