{
  "cells": [
    {
      "cell_type": "markdown",
      "source": [
        "# Introdução às Strings em Python\n",
        "Strings são sequências de caracteres e são usadas para representar texto em Python. Podemos criar strings usando aspas simples ou duplas. Vamos explorar como criar e acessar strings em Python."
      ],
      "metadata": {
        "noteable": {
          "cell_type": "markdown"
        },
        "id": "143283cc-67f9-450c-8c16-d374e4ed4404"
      },
      "id": "143283cc-67f9-450c-8c16-d374e4ed4404"
    },
    {
      "cell_type": "code",
      "source": [
        "# Criando Strings\n",
        "string1 = 'Olá, Mundo!'\n",
        "string2 = \"Python é divertido!\"\n",
        "\n",
        "# Acessando Caracteres\n",
        "primeiro_caractere = string1[0]\n",
        "ultimo_caractere = string2[-1]\n",
        "\n",
        "string1, string2, primeiro_caractere, ultimo_caractere"
      ],
      "outputs": [
        {
          "output_type": "execute_result",
          "data": {
            "text/plain": [
              "('Olá, Mundo!', 'Python é divertido!', 'O', '!')"
            ]
          },
          "metadata": {},
          "execution_count": 1
        }
      ],
      "execution_count": null,
      "metadata": {
        "noteable": {
          "cell_type": "code"
        },
        "colab": {
          "base_uri": "https://localhost:8080/"
        },
        "id": "7f5776cd-e57b-4961-9cb4-f4e6d5df16cc",
        "outputId": "40e4cde8-50e7-460e-b73f-5d7bb1ef14c8"
      },
      "id": "7f5776cd-e57b-4961-9cb4-f4e6d5df16cc"
    },
    {
      "cell_type": "markdown",
      "source": [
        "## Operações Básicas com Strings\n",
        "Podemos realizar várias operações com strings, como concatenar duas strings, repetir uma string e verificar se uma substring está presente em outra string. Vamos ver alguns exemplos dessas operações."
      ],
      "metadata": {
        "noteable": {
          "cell_type": "markdown"
        },
        "id": "94b67c90-06de-4447-8f20-aab8c6d9751c"
      },
      "id": "94b67c90-06de-4447-8f20-aab8c6d9751c"
    },
    {
      "cell_type": "code",
      "source": [
        "# Concatenação de Strings\n",
        "concatenada = string1 + ' ' + string2\n",
        "\n",
        "# Repetição de String\n",
        "repetida = string1 * 3\n",
        "\n",
        "# Verificação de Substring\n",
        "substring_presente = 'Mundo' in string1\n",
        "\n",
        "concatenada, repetida, substring_presente"
      ],
      "outputs": [
        {
          "output_type": "execute_result",
          "data": {
            "text/plain": [
              "('Olá, Mundo! Python é divertido!', 'Olá, Mundo!Olá, Mundo!Olá, Mundo!', True)"
            ]
          },
          "metadata": {},
          "execution_count": 2
        }
      ],
      "execution_count": null,
      "metadata": {
        "noteable": {
          "cell_type": "code"
        },
        "colab": {
          "base_uri": "https://localhost:8080/"
        },
        "id": "6fca432b-a868-4b14-8cac-ea04fd1edac8",
        "outputId": "c6d30951-40be-40b0-c9da-50e2e7694238"
      },
      "id": "6fca432b-a868-4b14-8cac-ea04fd1edac8"
    },
    {
      "cell_type": "markdown",
      "source": [
        "## Métodos de Strings\n",
        "As strings em Python vêm com vários métodos úteis que nos permitem realizar operações comuns de maneira fácil e eficiente. Vamos explorar alguns desses métodos."
      ],
      "metadata": {
        "noteable": {
          "cell_type": "markdown"
        },
        "id": "bdab7791-d954-49bf-be8f-a5146b14c15b"
      },
      "id": "bdab7791-d954-49bf-be8f-a5146b14c15b"
    },
    {
      "cell_type": "markdown",
      "source": [
        "| Método                     | Exemplo com Saída                                              | Descrição                                                                                          |\n",
        "|----------------------------|----------------------------------------------------------------|-----------------------------------------------------------------------------------------------------|\n",
        "| `str.capitalize()`         | `(\"a vida é bela.\").capitalize()` => \"A vida é bela.\"          | Converte a primeira letra da string em maiúscula.                                                   |\n",
        "| `str.lower()`              | `(\"A Vida é bela.\").lower()` => \"a vida é bela.\"               | Converte todos os caracteres da string em minúsculas.                                               |\n",
        "| `str.upper()`              | `(\"A vida é bela.\").upper()` => \"A VIDA É BELA.\"               | Converte todos os caracteres da string em maiúsculas.                                               |\n",
        "| `str.title()`              | `(\"A vida é bela.\").title()` => \"A Vida É Bela.\"               | Converte a primeira letra de cada palavra em maiúscula.                                              |\n",
        "| `str.strip()`              | `(\" A vida é bela. \").strip()` => \"A vida é bela.\"              | Remove espaços em branco no início e no fim da string.                                               |\n",
        "| `str.replace(a, b)`        | `(\"A vida é bela.\").replace('vida', 'arte')` => \"A arte é bela.\" | Substitui todas as ocorrências de `a` por `b` na string.                                              |\n",
        "| `str.find(x)`              | `(\"A vida é bela.\").find('vida')` => 2                         | Retorna o índice da primeira ocorrência de `x` na string, ou -1 se `x` não for encontrado.           |\n",
        "| `str.count(x)`             | `(\"A vida é bela.\").count('a')` => 3                           | Conta o número de ocorrências não sobrepostas de `x` na string.                                      |\n",
        "| `str.startswith(x)`        | `(\"A vida é bela.\").startswith('A')` => True                   | Retorna `True` se a string começar com o prefixo `x`.                                                |\n",
        "| `str.endswith(x)`          | `(\"A vida é bela.\").endswith('.')` => True                     | Retorna `True` se a string terminar com o sufixo `x`.                                                |\n",
        "| `str.split(x)`             | `(\"A vida é bela.\").split(' ')` => ['A', 'vida', 'é', 'bela.']  | Divide a string em uma lista onde cada palavra é uma string, usando o delimitador `x`.               |\n",
        "| `str.join(x)`              | `(\" \").join(['A', 'vida', 'é', 'bela.'])` => \"A vida é bela.\"   | Concatena qualquer número de strings, com uma string `x` entre elas.                                 |\n"
      ],
      "metadata": {
        "id": "wyXAnqJ6P_Xw"
      },
      "id": "wyXAnqJ6P_Xw"
    },
    {
      "cell_type": "code",
      "source": [
        "s = \"A vida é bela.\""
      ],
      "metadata": {
        "id": "DJ-5Lir0R5Fv"
      },
      "id": "DJ-5Lir0R5Fv",
      "execution_count": null,
      "outputs": []
    },
    {
      "cell_type": "markdown",
      "source": [
        "1. **`capitalize()`:** Usado para capitalizar a primeira letra da string."
      ],
      "metadata": {
        "id": "8hHWQVgZRFFt"
      },
      "id": "8hHWQVgZRFFt"
    },
    {
      "cell_type": "code",
      "source": [
        "print(s.capitalize())"
      ],
      "metadata": {
        "id": "Z8Bqyf6DRVkV"
      },
      "id": "Z8Bqyf6DRVkV",
      "execution_count": null,
      "outputs": []
    },
    {
      "cell_type": "markdown",
      "source": [
        "2. **`lower()`:** Usado para converter toda a string em letras minúsculas."
      ],
      "metadata": {
        "id": "ifTRJreIRS2X"
      },
      "id": "ifTRJreIRS2X"
    },
    {
      "cell_type": "code",
      "source": [
        "print(s.lower())"
      ],
      "metadata": {
        "id": "f8KNI-egRX7l"
      },
      "id": "f8KNI-egRX7l",
      "execution_count": null,
      "outputs": []
    },
    {
      "cell_type": "markdown",
      "source": [
        "3. **`upper()`:** Usado para converter toda a string em letras maiúsculas."
      ],
      "metadata": {
        "id": "ZWZNup0jR8MU"
      },
      "id": "ZWZNup0jR8MU"
    },
    {
      "cell_type": "code",
      "source": [
        "print(s.upper())"
      ],
      "metadata": {
        "id": "ENiObnLPR-1V"
      },
      "id": "ENiObnLPR-1V",
      "execution_count": null,
      "outputs": []
    },
    {
      "cell_type": "markdown",
      "source": [
        "4. **`title()`:** Usado para converter a primeira letra de cada palavra em maiúscula."
      ],
      "metadata": {
        "id": "xsAP8eypSC80"
      },
      "id": "xsAP8eypSC80"
    },
    {
      "cell_type": "code",
      "source": [
        "print(s.title())"
      ],
      "metadata": {
        "id": "54j0G5pfSJq9"
      },
      "id": "54j0G5pfSJq9",
      "execution_count": null,
      "outputs": []
    },
    {
      "cell_type": "markdown",
      "source": [
        "5. **`strip()`:** Usado para remover espaços em branco no início e no fim da string."
      ],
      "metadata": {
        "id": "NwlayFD5SNVs"
      },
      "id": "NwlayFD5SNVs"
    },
    {
      "cell_type": "code",
      "source": [
        "s_com_espacos = \"  A vida é bela.  \"\n",
        "print(s_com_espacos.strip())"
      ],
      "metadata": {
        "colab": {
          "base_uri": "https://localhost:8080/"
        },
        "id": "NbCc9y-aSQIs",
        "outputId": "ddbe7283-4243-43da-d458-9595b9447c3e"
      },
      "id": "NbCc9y-aSQIs",
      "execution_count": null,
      "outputs": [
        {
          "output_type": "stream",
          "name": "stdout",
          "text": [
            "A vida é bela.\n"
          ]
        }
      ]
    },
    {
      "cell_type": "markdown",
      "source": [
        "6. **`replace(a, b)`:** Usado para substituir todas as ocorrências de `a` por `b`."
      ],
      "metadata": {
        "id": "lVA9A7SkSzsb"
      },
      "id": "lVA9A7SkSzsb"
    },
    {
      "cell_type": "code",
      "source": [
        "print(s.replace('vida', 'arte'))"
      ],
      "metadata": {
        "id": "P0VdiDvHS3jT"
      },
      "id": "P0VdiDvHS3jT",
      "execution_count": null,
      "outputs": []
    },
    {
      "cell_type": "markdown",
      "source": [
        "7. **`find(x)`:** Usado para encontrar a primeira ocorrência de `x`."
      ],
      "metadata": {
        "id": "OEf6EIjlS7TK"
      },
      "id": "OEf6EIjlS7TK"
    },
    {
      "cell_type": "code",
      "source": [
        "print(s.find('vida'))"
      ],
      "metadata": {
        "id": "Yb-cEio6S-wi"
      },
      "id": "Yb-cEio6S-wi",
      "execution_count": null,
      "outputs": []
    },
    {
      "cell_type": "markdown",
      "source": [
        "8. **`count(x)`:** Usado para contar o número de ocorrências de `x`."
      ],
      "metadata": {
        "id": "obp-TGBcTCPD"
      },
      "id": "obp-TGBcTCPD"
    },
    {
      "cell_type": "code",
      "source": [
        "print(s.count('a'))"
      ],
      "metadata": {
        "id": "WFxJhs-cTFCD"
      },
      "id": "WFxJhs-cTFCD",
      "execution_count": null,
      "outputs": []
    },
    {
      "cell_type": "markdown",
      "source": [
        "9. **`startswith(x)`:** Usado para verificar se a string começa com `x`."
      ],
      "metadata": {
        "id": "T5X5uk56TJi0"
      },
      "id": "T5X5uk56TJi0"
    },
    {
      "cell_type": "code",
      "source": [
        "print(s.startswith('A'))"
      ],
      "metadata": {
        "id": "EwU4KS07TMe7"
      },
      "id": "EwU4KS07TMe7",
      "execution_count": null,
      "outputs": []
    },
    {
      "cell_type": "markdown",
      "source": [
        "10. **`endswith(x)`:** Usado para verificar se a string termina com `x`."
      ],
      "metadata": {
        "id": "RPwkrMr3TQFO"
      },
      "id": "RPwkrMr3TQFO"
    },
    {
      "cell_type": "code",
      "source": [
        "print(s.endswith('.'))"
      ],
      "metadata": {
        "id": "tiHWpJZ7TS2M"
      },
      "id": "tiHWpJZ7TS2M",
      "execution_count": null,
      "outputs": []
    },
    {
      "cell_type": "markdown",
      "source": [
        "11. **`split(x)`:** Usado para dividir a string em partes usando `x` como delimitador."
      ],
      "metadata": {
        "id": "dF15qxeHTVzD"
      },
      "id": "dF15qxeHTVzD"
    },
    {
      "cell_type": "code",
      "source": [
        "print(s.split(' '))"
      ],
      "metadata": {
        "id": "UGe_u6lWTYOk"
      },
      "id": "UGe_u6lWTYOk",
      "execution_count": null,
      "outputs": []
    },
    {
      "cell_type": "markdown",
      "source": [
        "12. **`join(x)`:** Usado para juntar uma lista de strings usando `x` como conector."
      ],
      "metadata": {
        "id": "cjTuLByPTa6b"
      },
      "id": "cjTuLByPTa6b"
    },
    {
      "cell_type": "code",
      "source": [
        "words = ['A', 'vida', 'é', 'bela.']\n",
        "print(\" \".join(words))  # Saída: \"A vida é bela.\""
      ],
      "metadata": {
        "id": "ObIvk_yyQ7Bt"
      },
      "id": "ObIvk_yyQ7Bt",
      "execution_count": null,
      "outputs": []
    },
    {
      "cell_type": "code",
      "source": [
        "# Usando Métodos de Strings\n",
        "texto = '   Python é Poderoso!   '\n",
        "\n",
        "# Convertendo para Maiúsculas e Minúsculas\n",
        "maiusculas = texto.upper()\n",
        "minusculas = texto.lower()\n",
        "\n",
        "# Removendo Espaços em Branco\n",
        "sem_espacos = texto.strip()\n",
        "\n",
        "# Substituindo Texto\n",
        "substituido = texto.replace('Poderoso', 'Incrível')\n",
        "\n",
        "# Encontrando Substring\n",
        "posicao = texto.find('é')\n",
        "\n",
        "# Dividindo e Unindo Strings\n",
        "dividido = texto.split()\n",
        "unido = ' '.join(dividido)\n",
        "\n",
        "maiusculas, minusculas, sem_espacos, substituido, posicao, dividido, unido"
      ],
      "outputs": [],
      "execution_count": null,
      "metadata": {
        "noteable": {
          "cell_type": "code"
        },
        "id": "52c2db34-0e6a-4445-8a4a-15b897d9a253"
      },
      "id": "52c2db34-0e6a-4445-8a4a-15b897d9a253"
    },
    {
      "cell_type": "markdown",
      "source": [
        "## Formatação de Strings\n",
        "A formatação de strings permite inserir valores dentro de uma string de maneira dinâmica. Em Python, podemos usar f-strings ou o método `format()`."
      ],
      "metadata": {
        "noteable": {
          "cell_type": "markdown"
        },
        "id": "ca895ee4-9e71-4709-a73d-c065cf9c72bf"
      },
      "id": "ca895ee4-9e71-4709-a73d-c065cf9c72bf"
    },
    {
      "cell_type": "code",
      "source": [
        "# Usando f-strings\n",
        "nome = 'Maria'\n",
        "idade = 30\n",
        "f_string = f'{nome} tem {idade} anos.'\n",
        "\n",
        "# Usando o método format()\n",
        "format_string = '{} tem {} anos.'.format(nome, idade)\n",
        "\n",
        "f_string, format_string"
      ],
      "outputs": [],
      "execution_count": null,
      "metadata": {
        "noteable": {
          "cell_type": "code"
        },
        "id": "6c66e92f-a706-4642-8729-c45206f5b6b4"
      },
      "id": "6c66e92f-a706-4642-8729-c45206f5b6b4"
    },
    {
      "cell_type": "markdown",
      "source": [
        "#### Formato de String: permite a inserção e formatação de variáveis dentro de uma string, útil para relatórios e visualizações."
      ],
      "metadata": {
        "id": "6G4_uFhYAmwb"
      },
      "id": "6G4_uFhYAmwb"
    },
    {
      "cell_type": "markdown",
      "source": [
        "##### Formatação de Ponto Flutuante"
      ],
      "metadata": {
        "id": "V_fTFj0vF7Qx"
      },
      "id": "V_fTFj0vF7Qx"
    },
    {
      "cell_type": "code",
      "source": [
        "\"O preço é {:.2f}\".format(5.678)"
      ],
      "metadata": {
        "colab": {
          "base_uri": "https://localhost:8080/",
          "height": 35
        },
        "id": "4R1bx1fpAyFv",
        "outputId": "5be6d3ce-f6ae-44a0-f1b0-5b6bb4587241"
      },
      "id": "4R1bx1fpAyFv",
      "execution_count": 17,
      "outputs": [
        {
          "output_type": "execute_result",
          "data": {
            "text/plain": [
              "'O preço é 5.68'"
            ],
            "application/vnd.google.colaboratory.intrinsic+json": {
              "type": "string"
            }
          },
          "metadata": {},
          "execution_count": 17
        }
      ]
    },
    {
      "cell_type": "markdown",
      "source": [
        "O código `\"O preço é {:.2f}\".format(5.678)` está usando a formatação de strings em Python para formatar o valor de ponto flutuante `5.678` com duas casas decimais.\n",
        "\n",
        "1. **String Literal**:\n",
        "   ```python\n",
        "   \"O preço é {:.2f}\"\n",
        "   ```\n",
        "   - `\"O preço é \"`: Esta é a parte fixa da string que será impressa como está.\n",
        "   - `{}`: As chaves são usadas para inserir um valor na string. O valor a ser inserido é fornecido pelo método `format`.\n",
        "   - `:`: Inicia a especificação de formato dentro das chaves.\n",
        "   - `.2`: Define o número de casas decimais como 2.\n",
        "   - `f`: Especifica que o valor deve ser formatado como um número de ponto flutuante.\n",
        "\n",
        "2. **Método `format`**:\n",
        "   ```python\n",
        "   .format(5.678)\n",
        "   ```\n",
        "   O método `format` é chamado na string, e o valor `5.678` é passado como argumento. O valor é então formatado de acordo com a especificação dentro das chaves `{}`.\n",
        "\n",
        "3. **Resultado**:\n",
        "   O resultado é a seguinte string:\n",
        "   ```\n",
        "   'O preço é 5.68'\n",
        "   ```\n",
        "   O valor `5.678` foi arredondado para duas casas decimais, resultando em `5.68`.\n",
        "\n"
      ],
      "metadata": {
        "id": "MdvAmMwuE5eJ"
      },
      "id": "MdvAmMwuE5eJ"
    },
    {
      "cell_type": "markdown",
      "source": [
        "##### Formatação de Números Inteiros:\n",
        "Para imprimir um número de ordem com um número fixo de dígitos, preenchendo com zeros:"
      ],
      "metadata": {
        "id": "B7AbWTmGByHT"
      },
      "id": "B7AbWTmGByHT"
    },
    {
      "cell_type": "code",
      "source": [
        "ordem = 42\n",
        "print(\"Ordem do pedido: {:05d}\".format(ordem))"
      ],
      "metadata": {
        "colab": {
          "base_uri": "https://localhost:8080/"
        },
        "id": "jR5m_JwDB1F5",
        "outputId": "05296276-d190-4879-a622-a012f0de8132"
      },
      "id": "jR5m_JwDB1F5",
      "execution_count": 26,
      "outputs": [
        {
          "output_type": "stream",
          "name": "stdout",
          "text": [
            "Ordem do pedido: 00042\n"
          ]
        }
      ]
    },
    {
      "cell_type": "markdown",
      "source": [
        "1. **Atribuição de Valor**:\n",
        "   ```python\n",
        "   ordem = 42\n",
        "   ```\n",
        "   A variável `ordem` é atribuída o valor inteiro `42`, que representa o número de uma ordem específica em um contexto, como um pedido em um restaurante ou uma compra online.\n",
        "\n",
        "2. **String Literal com Formatação**:\n",
        "   ```python\n",
        "   \"Ordem do pedido: {:05d}\"\n",
        "   ```\n",
        "   - `\"Ordem do pedido: \"`: Essa é a parte fixa da string que será impressa como está.\n",
        "   - `{}`: As chaves são usadas para inserir um valor na string. O valor a ser inserido é fornecido pelo método `format`.\n",
        "   - `:`: Inicia a especificação de formato dentro das chaves.\n",
        "   - `0`: Indica que o preenchimento deve ser feito com zeros, se necessário.\n",
        "   - `5`: Define a largura mínima do campo como 5 caracteres.\n",
        "   - `d`: Especifica que o valor é um número inteiro decimal (dígito).\n",
        "\n",
        "3. **Método `format`**:\n",
        "   ```python\n",
        "   .format(ordem)\n",
        "   ```\n",
        "   O método `format` é chamado na string, e o valor da variável `ordem` é passado como argumento. O valor é então formatado de acordo com a especificação dentro das chaves `{}`.\n",
        "\n",
        "4. **Resultado**:\n",
        "   O resultado é a seguinte string:\n",
        "   ```\n",
        "   'Ordem do pedido: 00042'\n",
        "   ```\n",
        "   Como o especificador de formato é `05d`, o número `42` é formatado com cinco dígitos, preenchendo com zeros à esquerda para atingir esse tamanho.\n",
        "\n"
      ],
      "metadata": {
        "id": "Xt9vKeG8Fss-"
      },
      "id": "Xt9vKeG8Fss-"
    },
    {
      "cell_type": "markdown",
      "source": [
        "##### Formatação de Porcentagem"
      ],
      "metadata": {
        "id": "HI7SpFzZCpbK"
      },
      "id": "HI7SpFzZCpbK"
    },
    {
      "cell_type": "code",
      "source": [
        "progresso = 0.456\n",
        "print(\"Progresso do projeto: {:.3%}\".format(progresso))\n"
      ],
      "metadata": {
        "colab": {
          "base_uri": "https://localhost:8080/"
        },
        "id": "Kueyy_HRCshk",
        "outputId": "698d70e9-0cd6-433c-da69-d298fbdd68bf"
      },
      "id": "Kueyy_HRCshk",
      "execution_count": 31,
      "outputs": [
        {
          "output_type": "stream",
          "name": "stdout",
          "text": [
            "Progresso do projeto: 45.600%\n"
          ]
        }
      ]
    },
    {
      "cell_type": "markdown",
      "source": [
        "**Detalhamento do método:**\n",
        "\n",
        "1. **Atribuição de Valor**:\n",
        "   ```python\n",
        "   progresso = 0.456\n",
        "   ```\n",
        "   A variável `progresso` recebe o valor `0.456`, que representa 45.6% em termos de porcentagem.\n",
        "\n",
        "2. **Formatação da String**:\n",
        "   ```python\n",
        "   \"Progresso do projeto: {:.3%}\".format(progresso)\n",
        "   ```\n",
        "   - `\"Progresso do projeto: \"`: Esta é a parte fixa da string que será impressa como está.\n",
        "   - `{}`: As chaves são usadas para inserir um valor na string. O valor a ser inserido é fornecido pelo método `format`.\n",
        "   - `:`: Inicia a especificação de formato.\n",
        "   - `.3`: Define o número de casas decimais para 3.\n",
        "   - `%`: Especifica que o valor deve ser formatado como uma porcentagem. Isso multiplica o valor por 100 e adiciona o símbolo de porcentagem (`%`) após o número.\n",
        "\n",
        "3. **Método `format`**:\n",
        "   O método `format` é chamado na string, e o valor de `progresso` é passado como argumento. O valor é então formatado de acordo com a especificação dentro das chaves `{}`.\n",
        "\n",
        "4. **Resultado**:\n",
        "   O resultado é a seguinte string:\n",
        "   ```\n",
        "   'Progresso do projeto: 45.600%'\n",
        "   ```\n",
        "   Essa string é impressa no console pelo comando `print`.\n"
      ],
      "metadata": {
        "id": "nLc5kmRCD10K"
      },
      "id": "nLc5kmRCD10K"
    },
    {
      "cell_type": "markdown",
      "source": [
        "#####Combinação de Argumentos:\n"
      ],
      "metadata": {
        "id": "M2XFFyzJGJf9"
      },
      "id": "M2XFFyzJGJf9"
    },
    {
      "cell_type": "code",
      "source": [
        "print(\"{0} tem {1:.2f} anos e {2:.2%} de chance de ser aprovada para a vaga\".format(\"Alice\", 25, 0.75))\n"
      ],
      "metadata": {
        "colab": {
          "base_uri": "https://localhost:8080/"
        },
        "id": "Ow4azTxhGQUp",
        "outputId": "f62aeb69-51cb-42c1-afca-47777ddc548a"
      },
      "id": "Ow4azTxhGQUp",
      "execution_count": 37,
      "outputs": [
        {
          "output_type": "stream",
          "name": "stdout",
          "text": [
            "Alice tem 25.00 anos e 75.00% de chance de ser aprovada para a vaga\n"
          ]
        }
      ]
    },
    {
      "cell_type": "markdown",
      "source": [
        "##### Formatação de Dinheiro"
      ],
      "metadata": {
        "id": "jXZvl52DGpIt"
      },
      "id": "jXZvl52DGpIt"
    },
    {
      "cell_type": "code",
      "source": [
        "preco = 12345.678\n",
        "print(\"Preço: ${:,.2f}\".format(preco))"
      ],
      "metadata": {
        "colab": {
          "base_uri": "https://localhost:8080/"
        },
        "id": "IaUEBi_VGtsX",
        "outputId": "c2842649-da0f-4204-aabe-4f58d122833b"
      },
      "id": "IaUEBi_VGtsX",
      "execution_count": 40,
      "outputs": [
        {
          "output_type": "stream",
          "name": "stdout",
          "text": [
            "Preço: $12,345.68\n"
          ]
        }
      ]
    },
    {
      "cell_type": "markdown",
      "source": [
        "E o padrão brasileiro?"
      ],
      "metadata": {
        "id": "PtDkorw8HVhg"
      },
      "id": "PtDkorw8HVhg"
    },
    {
      "cell_type": "code",
      "source": [
        "preco = 12345.678\n",
        "\n",
        "# Utiliza o método format para arredondar para duas casas decimais\n",
        "preco_formatado = \"{:,.2f}\".format(preco)\n",
        "\n",
        "# Substitui o ponto por vírgula para o separador decimal e a vírgula por ponto para o separador de milhares\n",
        "preco_formatado = preco_formatado.replace(',', ' ').replace('.', ',').replace(' ', '.')\n",
        "\n",
        "print(\"Preço: R${}\".format(preco_formatado))"
      ],
      "metadata": {
        "colab": {
          "base_uri": "https://localhost:8080/"
        },
        "id": "EU7M0GNCHYjX",
        "outputId": "fdee1c85-b5c9-4b17-87e0-5fba6d01eb98"
      },
      "id": "EU7M0GNCHYjX",
      "execution_count": 45,
      "outputs": [
        {
          "output_type": "stream",
          "name": "stdout",
          "text": [
            "Preço: R$12.345,68\n"
          ]
        }
      ]
    },
    {
      "cell_type": "markdown",
      "source": [
        "## Manipulação de Strings com combinação de métodos"
      ],
      "metadata": {
        "id": "cyP-oFHKXFbY"
      },
      "id": "cyP-oFHKXFbY"
    },
    {
      "cell_type": "markdown",
      "source": [
        "### `capitalize()` e `title()`: Capitalizar cada frase em um parágrafo."
      ],
      "metadata": {
        "id": "wcQJ2aOTXJ4x"
      },
      "id": "wcQJ2aOTXJ4x"
    },
    {
      "cell_type": "code",
      "source": [
        "paragrafo = \"a vida é bela. a arte é admirável. aprendemos todos os dias.\""
      ],
      "metadata": {
        "id": "T263rTJbXWcQ"
      },
      "id": "T263rTJbXWcQ",
      "execution_count": null,
      "outputs": []
    },
    {
      "cell_type": "code",
      "source": [
        "sentences = paragrafo.split('. ')"
      ],
      "metadata": {
        "id": "8Ch-rgggX5VI"
      },
      "id": "8Ch-rgggX5VI",
      "execution_count": null,
      "outputs": []
    },
    {
      "cell_type": "code",
      "source": [
        "capitalized_sentences = [sentence.capitalize() for sentence in sentences]"
      ],
      "metadata": {
        "id": "txbaDMtxX73G"
      },
      "id": "txbaDMtxX73G",
      "execution_count": null,
      "outputs": []
    },
    {
      "cell_type": "code",
      "source": [
        "novo_paragrafo = \". \".join(capitalized_sentences)"
      ],
      "metadata": {
        "id": "-O5siuAbX9Rf"
      },
      "id": "-O5siuAbX9Rf",
      "execution_count": null,
      "outputs": []
    },
    {
      "cell_type": "code",
      "source": [
        "print(novo_paragrafo)"
      ],
      "metadata": {
        "colab": {
          "base_uri": "https://localhost:8080/"
        },
        "id": "wdePnq-HXD0J",
        "outputId": "995d8a8f-b37c-4fd2-d89a-b4c1073783a4"
      },
      "id": "wdePnq-HXD0J",
      "execution_count": null,
      "outputs": [
        {
          "output_type": "stream",
          "name": "stdout",
          "text": [
            "A vida é bela. A arte é admirável. Aprendemos todos os dias.\n"
          ]
        }
      ]
    },
    {
      "cell_type": "markdown",
      "source": [
        "### `lower()` e `count()`: Contar o número de ocorrências de uma palavra, independentemente do caso."
      ],
      "metadata": {
        "id": "aNbMSA-VYMbf"
      },
      "id": "aNbMSA-VYMbf"
    },
    {
      "cell_type": "code",
      "source": [
        "word_to_count = \"vida\""
      ],
      "metadata": {
        "id": "NbJUjgBHYY7X"
      },
      "id": "NbJUjgBHYY7X",
      "execution_count": null,
      "outputs": []
    },
    {
      "cell_type": "code",
      "source": [
        "count = s.lower().count(word_to_count.lower())"
      ],
      "metadata": {
        "id": "TUYC8gZNYb4X"
      },
      "id": "TUYC8gZNYb4X",
      "execution_count": null,
      "outputs": []
    },
    {
      "cell_type": "code",
      "source": [
        "print(f\"A palavra '{word_to_count}' aparece {count} vezes.\")\n"
      ],
      "metadata": {
        "colab": {
          "base_uri": "https://localhost:8080/"
        },
        "id": "Dpgx0M7nYWGv",
        "outputId": "e993c69d-6cf9-455b-f361-33bdee6a5bd2"
      },
      "id": "Dpgx0M7nYWGv",
      "execution_count": null,
      "outputs": [
        {
          "output_type": "stream",
          "name": "stdout",
          "text": [
            "A palavra 'vida' aparece 1 vezes.\n"
          ]
        }
      ]
    },
    {
      "cell_type": "markdown",
      "source": [
        "### `upper()` e `startswith()`: Transformar em maiúsculas as palavras que começam com uma letra específica."
      ],
      "metadata": {
        "id": "XlPNtEVRYwfH"
      },
      "id": "XlPNtEVRYwfH"
    },
    {
      "cell_type": "code",
      "source": [
        "words = s.split(' ')\n",
        "words"
      ],
      "metadata": {
        "colab": {
          "base_uri": "https://localhost:8080/"
        },
        "id": "1O9DpAYSZCtX",
        "outputId": "fe8bba27-cd2e-49de-e0ae-f20a308b02e8"
      },
      "id": "1O9DpAYSZCtX",
      "execution_count": null,
      "outputs": [
        {
          "output_type": "execute_result",
          "data": {
            "text/plain": [
              "['A', 'vida', 'é', 'bela.']"
            ]
          },
          "metadata": {},
          "execution_count": 17
        }
      ]
    },
    {
      "cell_type": "code",
      "source": [
        "for word in words:\n",
        "    if word.startswith('v'):\n",
        "        print(word.upper())"
      ],
      "metadata": {
        "colab": {
          "base_uri": "https://localhost:8080/"
        },
        "id": "8WZq3qE5Y9bl",
        "outputId": "4f5ade60-51a6-4041-fcca-8a2e0f202098"
      },
      "id": "8WZq3qE5Y9bl",
      "execution_count": null,
      "outputs": [
        {
          "output_type": "stream",
          "name": "stdout",
          "text": [
            "VIDA\n"
          ]
        }
      ]
    },
    {
      "cell_type": "markdown",
      "source": [
        "### `replace(a, b)` com condicional: Substituir uma palavra somente se ela existir na string."
      ],
      "metadata": {
        "id": "_to8SU-hZPyH"
      },
      "id": "_to8SU-hZPyH"
    },
    {
      "cell_type": "code",
      "source": [
        "old_word = \"vida\"\n",
        "new_word = \"arte\""
      ],
      "metadata": {
        "id": "dLHAKzdIZZ1H"
      },
      "id": "dLHAKzdIZZ1H",
      "execution_count": null,
      "outputs": []
    },
    {
      "cell_type": "code",
      "source": [
        "if old_word in s:\n",
        "    print(s.replace(old_word, new_word))"
      ],
      "metadata": {
        "colab": {
          "base_uri": "https://localhost:8080/"
        },
        "id": "megbWBXYZVQW",
        "outputId": "ea3d57bd-775b-47a0-cefa-4750d927f015"
      },
      "id": "megbWBXYZVQW",
      "execution_count": null,
      "outputs": [
        {
          "output_type": "stream",
          "name": "stdout",
          "text": [
            "A arte é bela.\n"
          ]
        }
      ]
    },
    {
      "cell_type": "markdown",
      "source": [
        "### `split(x)` e `join(x)` com loop: Dividir uma string em palavras e reverter a ordem das palavras."
      ],
      "metadata": {
        "id": "LPWukdBObcn1"
      },
      "id": "LPWukdBObcn1"
    },
    {
      "cell_type": "code",
      "source": [
        "words = s.split(' ')\n",
        "words"
      ],
      "metadata": {
        "colab": {
          "base_uri": "https://localhost:8080/"
        },
        "id": "tTa5EP7QadmN",
        "outputId": "d841be36-514e-4fc5-9176-5a308b762932"
      },
      "id": "tTa5EP7QadmN",
      "execution_count": null,
      "outputs": [
        {
          "output_type": "execute_result",
          "data": {
            "text/plain": [
              "['A', 'vida', 'é', 'bela.']"
            ]
          },
          "metadata": {},
          "execution_count": 29
        }
      ]
    },
    {
      "cell_type": "markdown",
      "source": [
        "A função `reversed()` em Python é usada para inverter a ordem dos elementos de um objeto iterável, como uma lista ou string. Ela não modifica o objeto original, mas retorna um iterador que percorre os elementos na ordem invertida."
      ],
      "metadata": {
        "id": "7OoVlikjbCmF"
      },
      "id": "7OoVlikjbCmF"
    },
    {
      "cell_type": "code",
      "source": [
        "reversed_words = [word for word in reversed(words)]\n",
        "reversed_words"
      ],
      "metadata": {
        "colab": {
          "base_uri": "https://localhost:8080/"
        },
        "id": "-yXC-HiDaffG",
        "outputId": "40624d5e-b0f7-4a73-eb61-e9d958e571e6"
      },
      "id": "-yXC-HiDaffG",
      "execution_count": null,
      "outputs": [
        {
          "output_type": "execute_result",
          "data": {
            "text/plain": [
              "['bela.', 'é', 'vida', 'A']"
            ]
          },
          "metadata": {},
          "execution_count": 31
        }
      ]
    },
    {
      "cell_type": "code",
      "source": [
        "reversed_sentence = \" \".join(reversed_words)"
      ],
      "metadata": {
        "id": "V2D1QeP8ag2V"
      },
      "id": "V2D1QeP8ag2V",
      "execution_count": null,
      "outputs": []
    },
    {
      "cell_type": "code",
      "source": [
        "print(reversed_sentence)"
      ],
      "metadata": {
        "colab": {
          "base_uri": "https://localhost:8080/"
        },
        "id": "duh398bWaZtl",
        "outputId": "5acca128-a28a-451a-cb65-f4b106f0e9cd"
      },
      "id": "duh398bWaZtl",
      "execution_count": null,
      "outputs": [
        {
          "output_type": "stream",
          "name": "stdout",
          "text": [
            "bela. é vida A\n"
          ]
        }
      ]
    },
    {
      "cell_type": "code",
      "source": [
        "strings = [\" a Vida é bela \", \" a Arte é admirável \", \" aprendemos todos os dias \"]\n",
        "for string in strings:\n",
        "    cleaned_string = string.strip().lower().replace('a', '@')\n",
        "    print(cleaned_string)\n"
      ],
      "metadata": {
        "id": "Vl_eWw7LcOE2"
      },
      "id": "Vl_eWw7LcOE2",
      "execution_count": null,
      "outputs": []
    },
    {
      "cell_type": "markdown",
      "source": [
        "### Pre-processamento de texto"
      ],
      "metadata": {
        "id": "rALUK4VWcx7b"
      },
      "id": "rALUK4VWcx7b"
    },
    {
      "cell_type": "markdown",
      "source": [
        "#### Extraindo o usuário  e o servidor do e_mail"
      ],
      "metadata": {
        "id": "hRCPl88Y9coS"
      },
      "id": "hRCPl88Y9coS"
    },
    {
      "cell_type": "code",
      "source": [
        "emails = [\n",
        "    \"alice@example.com\",\n",
        "    \"bob@provider.com\",\n",
        "    \"carol@domain.net\",\n",
        "    \"david@service.org\"\n",
        "]"
      ],
      "metadata": {
        "id": "SdZQjdyec4jM"
      },
      "id": "SdZQjdyec4jM",
      "execution_count": 1,
      "outputs": []
    },
    {
      "cell_type": "code",
      "source": [
        "usuarios_email = [email.split('@')[0] for email in emails]\n",
        "print(usuarios_email)"
      ],
      "metadata": {
        "colab": {
          "base_uri": "https://localhost:8080/"
        },
        "id": "uJVVTKNxc87M",
        "outputId": "84de183a-baec-43f0-bb40-a61b690ba95c"
      },
      "id": "uJVVTKNxc87M",
      "execution_count": 3,
      "outputs": [
        {
          "output_type": "stream",
          "name": "stdout",
          "text": [
            "['alice', 'bob', 'carol', 'david']\n"
          ]
        }
      ]
    },
    {
      "cell_type": "code",
      "source": [
        "servidores_email = [email.split('@')[1] for email in emails]\n",
        "print(servidores_email)"
      ],
      "metadata": {
        "colab": {
          "base_uri": "https://localhost:8080/"
        },
        "id": "vkQR5iYp-Bk3",
        "outputId": "45d94561-3e86-4c35-9155-2bff8a4b995b"
      },
      "id": "vkQR5iYp-Bk3",
      "execution_count": 5,
      "outputs": [
        {
          "output_type": "stream",
          "name": "stdout",
          "text": [
            "['example.com', 'provider.com', 'domain.net', 'service.org']\n"
          ]
        }
      ]
    },
    {
      "cell_type": "code",
      "source": [
        "[servidores.split('.')[0] for servidores in servidores_email]"
      ],
      "metadata": {
        "colab": {
          "base_uri": "https://localhost:8080/"
        },
        "id": "niCtw7It-MIX",
        "outputId": "cc8cecc1-6889-489d-e96f-615c8c6f56ce"
      },
      "id": "niCtw7It-MIX",
      "execution_count": 9,
      "outputs": [
        {
          "output_type": "execute_result",
          "data": {
            "text/plain": [
              "['example', 'provider', 'domain', 'service']"
            ]
          },
          "metadata": {},
          "execution_count": 9
        }
      ]
    },
    {
      "cell_type": "code",
      "source": [
        "palavra = 'saudade'"
      ],
      "metadata": {
        "id": "a-eF6-tJ_WnO"
      },
      "id": "a-eF6-tJ_WnO",
      "execution_count": 15,
      "outputs": []
    },
    {
      "cell_type": "code",
      "source": [
        "list(palavra)"
      ],
      "metadata": {
        "colab": {
          "base_uri": "https://localhost:8080/"
        },
        "id": "909TCBpW_Z44",
        "outputId": "a3a61bbf-bff6-4c90-8507-9b54d692ae5a"
      },
      "id": "909TCBpW_Z44",
      "execution_count": 16,
      "outputs": [
        {
          "output_type": "execute_result",
          "data": {
            "text/plain": [
              "['s', 'a', 'u', 'd', 'a', 'd', 'e']"
            ]
          },
          "metadata": {},
          "execution_count": 16
        }
      ]
    },
    {
      "cell_type": "markdown",
      "source": [
        "#### O pré-processamento de texto é uma etapa essencial em muitas tarefas de Processamento de Linguagem Natural (NLP). Ele envolve a limpeza e transformação do texto bruto em uma forma que pode ser analisada e modelada de maneira mais eficaz. Abaixo são apresentados exemplos comuns de pré-processamento em NLP:"
      ],
      "metadata": {
        "id": "A_fl1W7gddI-"
      },
      "id": "A_fl1W7gddI-"
    }
  ],
  "metadata": {
    "noteable-chatgpt": {
      "create_notebook": {
        "openai_conversation_id": "2df6dab2-41b3-579c-b2ed-ee48e790ee4c",
        "openai_ephemeral_user_id": "ad426ad8-5d30-528e-a001-804275503b34",
        "openai_subdivision1_iso_code": "BR-RJ"
      }
    },
    "kernel_info": {
      "name": "python3"
    },
    "noteable": {
      "last_transaction_id": "01a2cbb3-fde0-4f45-a49f-aacc83d4430d",
      "last_delta_id": "8300d69a-c72b-45a8-b65f-aedbb09db74d"
    },
    "kernelspec": {
      "display_name": "Python 3.9",
      "language": "python",
      "name": "python3"
    },
    "selected_hardware_size": "small",
    "nteract": {
      "version": "noteable@2.9.0"
    },
    "colab": {
      "provenance": []
    }
  },
  "nbformat": 4,
  "nbformat_minor": 5
}