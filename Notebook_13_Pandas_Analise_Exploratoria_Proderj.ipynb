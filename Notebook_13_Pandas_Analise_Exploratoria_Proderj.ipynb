{
  "cells": [
    {
      "cell_type": "markdown",
      "source": [
        "# Aula de Análise Exploratória de Dados com Pandas\n",
        "\n",
        "## Objetivos da Aula\n",
        "\n",
        "- Entender o que é Análise Exploratória de Dados (EDA - Exploratory Data Analysis)\n",
        "- Aprender a manipular DataFrames com a biblioteca Pandas\n",
        "- Realizar análises básicas em um conjunto de dados\n",
        "- Visualizar dados usando gráficos básicos\n",
        "\n",
        "## Conteúdo\n",
        "\n",
        "1. Introdução à Análise Exploratória de Dados\n",
        "2. Instalação e Importação de Bibliotecas\n",
        "3. Carregamento de Dados\n",
        "4. Exploração Inicial dos Dados\n",
        "5. Limpeza e Transformação dos Dados\n",
        "6. Análise Estatística Básica\n",
        "7. Visualização de Dados\n",
        "8. Conclusão"
      ],
      "metadata": {
        "noteable": {
          "cell_type": "markdown"
        },
        "id": "8c631c15-b4f0-4e2c-8123-32b7bbedb663"
      },
      "id": "8c631c15-b4f0-4e2c-8123-32b7bbedb663"
    },
    {
      "cell_type": "markdown",
      "source": [
        "## 1. Introdução à Análise Exploratória de Dados\n",
        "\n",
        "A Análise Exploratória de Dados (EDA) é uma abordagem para analisar conjuntos de dados de forma a resumir suas características principais, frequentemente com métodos visuais. A EDA é uma prática fundamental em ciência de dados e estatística, pois fornece uma visão inicial e abrangente dos dados que você está trabalhando.\n",
        "\n",
        "### Por que é importante?\n",
        "\n",
        "- Identificar padrões, relações e anomalias nos dados\n",
        "- Formular hipóteses para análises mais aprofundadas\n",
        "- Tomar decisões informadas sobre modelagem de dados\n",
        "\n",
        "### O que vamos usar?\n",
        "\n",
        "- **Pandas**: Uma biblioteca Python para manipulação e análise de dados\n",
        "- **Matplotlib**: Uma biblioteca Python para criação de gráficos e visualizações"
      ],
      "metadata": {
        "noteable": {
          "cell_type": "markdown"
        },
        "id": "dca2c471-2126-4c39-9ba3-1bce2ff688d4"
      },
      "id": "dca2c471-2126-4c39-9ba3-1bce2ff688d4"
    },
    {
      "cell_type": "code",
      "source": [
        "# 2. Instalação e Importação de Bibliotecas\n",
        "\n",
        "!pip install pandas matplotlib"
      ],
      "outputs": [],
      "execution_count": null,
      "metadata": {
        "noteable": {
          "cell_type": "code"
        },
        "id": "23b2c7f1-b9af-4868-b367-7de23956252a"
      },
      "id": "23b2c7f1-b9af-4868-b367-7de23956252a"
    },
    {
      "cell_type": "code",
      "source": [
        "# Importando as bibliotecas necessárias\n",
        "import pandas as pd\n",
        "import matplotlib.pyplot as plt"
      ],
      "outputs": [],
      "execution_count": null,
      "metadata": {
        "noteable": {
          "cell_type": "code"
        },
        "id": "f2b0bc9a-f3b8-4e5e-8d8b-585d3651df9b"
      },
      "id": "f2b0bc9a-f3b8-4e5e-8d8b-585d3651df9b"
    },
    {
      "cell_type": "markdown",
      "source": [
        "## 3. Carregamento de Dados\n",
        "\n",
        "Vamos começar carregando um conjunto de dados para explorar. Utilizaremos um conjunto de dados sobre vinhos, que contém diversas características e avaliações.\n",
        "\n",
        "### Como carregar um conjunto de dados com Pandas\n",
        "\n",
        "- `pd.read_csv('caminho/para/o/arquivo.csv')`: Para ler arquivos CSV\n",
        "- `pd.read_excel('caminho/para/o/arquivo.xlsx')`: Para ler arquivos Excel\n",
        "- `pd.read_sql_query('SELECT * FROM tabela', conexao)`: Para ler de um banco de dados SQL"
      ],
      "metadata": {
        "noteable": {
          "cell_type": "markdown"
        },
        "id": "5774dba9-0b94-4d0e-a02e-34b748d5d2f9"
      },
      "id": "5774dba9-0b94-4d0e-a02e-34b748d5d2f9"
    },
    {
      "cell_type": "markdown",
      "source": [
        "Um pouquinho de conhecimento sobre pH e vinhos... (fonte:[winefun](https://winefun.com.br/acidez-no-vinho-entenda-melhor-como-ela-afeta-nossa-percepcao-e-como-pode-ser-medida/))\n",
        "\n",
        "Relembrando nossas aulas de química, **quanto menor o pH, mais ácida a solução**; inversamente, **quanto maior o pH, mais alcalina ela é**. A escala de pH, vamos relembrar, vai de 0 a 14, sendo as extremidades as mais intensas, tanto em termos de acidez como alcalinidade. Já o centro da escala (sete) é onde temos o pH neutro, representado pela água.\n",
        "\n",
        "O pH de grande parte dos vinhos fica entre 2,6 e 4,2, sendo, portanto, soluções ácidas. Curiosamente, os vinhos mais ácidos costumam ser os vinhos brancos doces, com pHs que dificilmente superam 3. Brancos leves ficam em torno de 3,1 a 3,2, com tintos e brancos de corpo médio ao redor de 3,5 e tintos mais encorpados e de menor acidez na faixa de 3,8 a 4. A diferença pode parecer pequena, mas vale lembrar que a escala do pH é exponencial. Isso significa que um pH 3 indica uma solução dez vezes mais ácida que uma de pH 4."
      ],
      "metadata": {
        "id": "VcJ3rPc7YWQj"
      },
      "id": "VcJ3rPc7YWQj"
    },
    {
      "cell_type": "code",
      "source": [
        "# 4. Exploração Inicial dos Dados\n",
        "\n",
        "# Carregando o conjunto de dados de vinhos\n",
        "df = pd.read_csv('https://archive.ics.uci.edu/ml/machine-learning-databases/wine-quality/winequality-red.csv', sep=';')"
      ],
      "outputs": [],
      "execution_count": null,
      "metadata": {
        "noteable": {
          "cell_type": "code"
        },
        "id": "c286cc40-f6b0-4432-9f2a-201af73a5ed3"
      },
      "id": "c286cc40-f6b0-4432-9f2a-201af73a5ed3"
    },
    {
      "cell_type": "code",
      "source": [
        "# Exibindo as primeiras 5 linhas do DataFrame\n",
        "df.head()"
      ],
      "metadata": {
        "id": "c5rroNXLWWB6"
      },
      "id": "c5rroNXLWWB6",
      "execution_count": null,
      "outputs": []
    },
    {
      "cell_type": "markdown",
      "source": [
        "## 5. Limpeza e Transformação dos Dados\n",
        "\n",
        "Antes de prosseguir com a análise, é crucial garantir que os dados estejam limpos e prontos para análise.\n",
        "\n",
        "### Tarefas comuns de limpeza de dados:\n",
        "\n",
        "- Remover ou tratar valores nulos\n",
        "- Renomear colunas\n",
        "- Converter tipos de dados\n",
        "- Filtrar dados"
      ],
      "metadata": {
        "noteable": {
          "cell_type": "markdown"
        },
        "id": "2276e910-5461-45af-b654-d69b6590d6a9"
      },
      "id": "2276e910-5461-45af-b654-d69b6590d6a9"
    },
    {
      "cell_type": "code",
      "source": [
        "# Verificando a presença de valores nulos\n",
        "df.isnull().sum()"
      ],
      "outputs": [],
      "execution_count": null,
      "metadata": {
        "noteable": {
          "cell_type": "code"
        },
        "id": "f9f6c0c2-a083-4019-9608-fd1262bae3a4"
      },
      "id": "f9f6c0c2-a083-4019-9608-fd1262bae3a4"
    },
    {
      "cell_type": "code",
      "source": [
        "# Exibindo as colunas do DataFrame\n",
        "df.columns"
      ],
      "metadata": {
        "id": "1iijodTWxigU"
      },
      "id": "1iijodTWxigU",
      "execution_count": null,
      "outputs": []
    },
    {
      "cell_type": "code",
      "source": [
        "# Renomeando as colunas do DataFrame\n",
        "\n",
        "df.rename(columns={'fixed acidity':'acidez fixada', 'volatile acidity':'acidez volátil', 'citric acid':'ácido cítrico', 'residual sugar':'açúcar residual',\n",
        "       'chlorides':'cloridos', 'free sulfur dioxide':'dióxido sulfúrico livre', 'total sulfur dioxide':'dióxido sulfúrico total', 'density':'densidade',\n",
        "       'sulphates':'sulfatos', 'alcohol':'álcool', 'quality':'qualidade'}, inplace=True)"
      ],
      "metadata": {
        "id": "H_kTzGY3xf79"
      },
      "id": "H_kTzGY3xf79",
      "execution_count": null,
      "outputs": []
    },
    {
      "cell_type": "code",
      "source": [
        "# Verificando os tipos dos dados\n",
        "\n",
        "df.info()"
      ],
      "metadata": {
        "id": "rhp744evWvXu"
      },
      "id": "rhp744evWvXu",
      "execution_count": null,
      "outputs": []
    },
    {
      "cell_type": "code",
      "source": [
        "from pandas._libs.hashtable import PyObjectHashTable\n",
        "# Filtrando dados\n",
        "\n",
        "# Suponha que quiséssemos encontrar os vinhos mais encorpados, com acidez entre 3.8 e 4\n",
        "\n",
        "pH = df['pH']\n",
        "df_Encorpados = df[(pH > 3.8) & (pH < 4)]\n",
        "df_Encorpados"
      ],
      "metadata": {
        "id": "4fE0kF1GXiMB"
      },
      "id": "4fE0kF1GXiMB",
      "execution_count": null,
      "outputs": []
    },
    {
      "cell_type": "code",
      "source": [
        "qual= df['qualidade']\n",
        "df_qualidade_superior = df[(qual > qual.mean())]\n",
        "df_qualidade_superior.sort_values(by='pH').head()"
      ],
      "metadata": {
        "id": "p7D4Mkitb_ed"
      },
      "id": "p7D4Mkitb_ed",
      "execution_count": null,
      "outputs": []
    },
    {
      "cell_type": "markdown",
      "source": [
        "## 6. Análise Estatística Básica\n",
        "\n",
        "Uma vez que os dados estão limpos, podemos prosseguir com algumas análises estatísticas básicas.\n",
        "\n",
        "### Funções úteis do Pandas para análise estatística:\n",
        "\n",
        "- `df.describe()`: Resumo estatístico\n",
        "- `df.corr()`: Matriz de correlação\n",
        "- `df['coluna'].value_counts()`: Contagem de valores únicos em uma coluna"
      ],
      "metadata": {
        "noteable": {
          "cell_type": "markdown"
        },
        "id": "fbec4d62-1af3-4c9b-8a74-1432a725501b"
      },
      "id": "fbec4d62-1af3-4c9b-8a74-1432a725501b"
    },
    {
      "cell_type": "code",
      "source": [
        "# Resumo estatístico do DataFrame\n",
        "df.describe()"
      ],
      "outputs": [],
      "execution_count": null,
      "metadata": {
        "noteable": {
          "cell_type": "code"
        },
        "id": "92a2661d-8078-4f13-a9ff-1298e6852dc8"
      },
      "id": "92a2661d-8078-4f13-a9ff-1298e6852dc8"
    },
    {
      "cell_type": "code",
      "source": [
        "# Matriz de Correlação\n",
        "df.corr()"
      ],
      "metadata": {
        "id": "k-0y0OS9yd7k"
      },
      "id": "k-0y0OS9yd7k",
      "execution_count": null,
      "outputs": []
    },
    {
      "cell_type": "code",
      "source": [
        "mask = df['qualidade'] > df['qualidade'].mean()"
      ],
      "metadata": {
        "id": "3TaIPFwDzTKb"
      },
      "id": "3TaIPFwDzTKb",
      "execution_count": null,
      "outputs": []
    },
    {
      "cell_type": "code",
      "source": [
        "df[mask]"
      ],
      "metadata": {
        "id": "ARhd69CLzbMd"
      },
      "id": "ARhd69CLzbMd",
      "execution_count": null,
      "outputs": []
    },
    {
      "cell_type": "code",
      "source": [
        "df['qualidade'].mean()"
      ],
      "metadata": {
        "id": "Fv_BE16NzDGW"
      },
      "id": "Fv_BE16NzDGW",
      "execution_count": null,
      "outputs": []
    },
    {
      "cell_type": "markdown",
      "source": [
        "## 7. Visualização de Dados\n",
        "\n",
        "A visualização é uma parte crucial da análise de dados. Gráficos e outras formas de visualização podem fornecer insights que não são óbvios apenas olhando para os dados brutos.\n",
        "\n",
        "### Tipos de gráficos comuns:\n",
        "\n",
        "- Histograma\n",
        "- Gráfico de barras\n",
        "- Gráfico de dispersão\n",
        "- Gráfico de caixa (boxplot)"
      ],
      "metadata": {
        "noteable": {
          "cell_type": "markdown"
        },
        "id": "b67314a2-9835-401a-83c5-d39d3015aff1"
      },
      "id": "b67314a2-9835-401a-83c5-d39d3015aff1"
    },
    {
      "cell_type": "code",
      "source": [
        "# Histograma da qualidade dos vinhos\n",
        "plt.hist(df['qualidade'], bins=10, alpha=0.7, color='blue', edgecolor='black')\n",
        "plt.title('Histograma da Qualidade dos Vinhos')\n",
        "plt.xlabel('Qualidade')\n",
        "plt.ylabel('Frequência')\n",
        "plt.show()"
      ],
      "outputs": [],
      "execution_count": null,
      "metadata": {
        "noteable": {
          "cell_type": "code"
        },
        "id": "9732821e-e60f-43c9-9c0b-5a32c009988d"
      },
      "id": "9732821e-e60f-43c9-9c0b-5a32c009988d"
    },
    {
      "cell_type": "markdown",
      "source": [
        "## 8. Conclusão\n",
        "\n",
        "Nesta aula, abordamos os conceitos básicos da Análise Exploratória de Dados usando Pandas. Aprendemos como carregar, limpar e transformar dados para análise. Também realizamos algumas análises estatísticas básicas e visualizações.\n",
        "\n",
        "### Próximos passos:\n",
        "\n",
        "- Aprofundar em técnicas de visualização de dados\n",
        "- Aprender sobre outras bibliotecas para análise de dados, como Seaborn e Plotly\n",
        "- Realizar análises mais complexas, incluindo aprendizado de máquina"
      ],
      "metadata": {
        "noteable": {
          "cell_type": "markdown"
        },
        "id": "c650e932-5450-47ba-883e-5ba3848eccef"
      },
      "id": "c650e932-5450-47ba-883e-5ba3848eccef"
    },
    {
      "cell_type": "markdown",
      "source": [
        "## 9. Análises Avançadas com Pandas\n",
        "\n",
        "Nesta seção, vamos explorar algumas funcionalidades mais avançadas do Pandas para análise de dados.\n",
        "\n",
        "### Tópicos abordados:\n",
        "\n",
        "- Uso de funções em DataFrames\n",
        "- Aplicação de `apply`\n",
        "- Agrupamento com `groupby`\n",
        "- Outras funcionalidades úteis"
      ],
      "metadata": {
        "noteable": {
          "cell_type": "markdown"
        },
        "id": "4e0c0ecf-fdcc-44d3-8b6b-b67e9d77057b"
      },
      "id": "4e0c0ecf-fdcc-44d3-8b6b-b67e9d77057b"
    },
    {
      "cell_type": "code",
      "source": [
        "# 9.1 Uso de funções em DataFrames\n",
        "\n",
        "# Definindo uma função para categorizar a qualidade do vinho\n",
        "def categorize_quality(qualidade):\n",
        "    if qualidade >= 7:\n",
        "        return 'Alta'\n",
        "    elif qualidade >= 5:\n",
        "        return 'Média'\n",
        "    else:\n",
        "        return 'Baixa'\n",
        "\n",
        "# Aplicando a função à coluna 'quality' e criando uma nova coluna 'quality_category'\n",
        "df['categoria_qualidade'] = df['qualidade'].apply(categorize_quality)\n",
        "\n",
        "# Exibindo as primeiras 5 linhas do DataFrame atualizado\n",
        "df.head()"
      ],
      "outputs": [],
      "execution_count": null,
      "metadata": {
        "noteable": {
          "cell_type": "code"
        },
        "id": "7e7c8d47-28f9-4a04-8399-4e0a022c2dee"
      },
      "id": "7e7c8d47-28f9-4a04-8399-4e0a022c2dee"
    },
    {
      "cell_type": "code",
      "source": [
        "# 9.2 Aplicação de `apply` para operações mais complexas\n",
        "\n",
        "# Calculando a média de álcool por categoria de qualidade\n",
        "average_alcohol_by_quality = df.groupby('categoria_qualidade')['álcool'].apply(lambda x: x.mean())\n",
        "\n",
        "# Exibindo o resultado\n",
        "average_alcohol_by_quality"
      ],
      "outputs": [],
      "execution_count": null,
      "metadata": {
        "noteable": {
          "cell_type": "code"
        },
        "id": "d5ce81fc-f958-4fec-9f4d-f292c453cde3"
      },
      "id": "d5ce81fc-f958-4fec-9f4d-f292c453cde3"
    },
    {
      "cell_type": "code",
      "source": [
        "# 9.3 Agrupamento com `groupby`\n",
        "\n",
        "# Agrupando os dados por 'quality_category' e calculando a média das características\n",
        "grouped_by_quality = df.groupby('categoria_qualidade').mean()\n",
        "\n",
        "# Exibindo o resultado\n",
        "grouped_by_quality"
      ],
      "outputs": [],
      "execution_count": null,
      "metadata": {
        "noteable": {
          "cell_type": "code"
        },
        "id": "1306479d-c614-4fbf-8798-2707164a976d"
      },
      "id": "1306479d-c614-4fbf-8798-2707164a976d"
    },
    {
      "cell_type": "code",
      "source": [
        "# 9.4 Outras funcionalidades úteis\n",
        "\n",
        "# Filtrando vinhos com qualidade alta e baixo teor de álcool\n",
        "high_quality_low_alcohol = df[(df['categoria_qualidade'] == 'Alta') & (df['álcool'] < 10)]\n",
        "\n",
        "# Exibindo o resultado\n",
        "high_quality_low_alcohol.head()"
      ],
      "outputs": [],
      "execution_count": null,
      "metadata": {
        "noteable": {
          "cell_type": "code"
        },
        "id": "94194191-ae8e-4a9f-b4dd-0423398e0fea"
      },
      "id": "94194191-ae8e-4a9f-b4dd-0423398e0fea"
    },
    {
      "cell_type": "markdown",
      "source": [
        "Seleção de Dados com loc e iloc\n",
        "Nesta seção, vamos explorar como usar loc e iloc para selecionar dados em um DataFrame do Pandas.\n",
        "\n",
        "Tópicos abordados:\n",
        "Seleção de dados com loc\n",
        "Seleção de dados com iloc\n"
      ],
      "metadata": {
        "id": "6HbQqTU26LJl"
      },
      "id": "6HbQqTU26LJl"
    },
    {
      "cell_type": "code",
      "source": [
        "# 10.1 Seleção de dados com `loc`\n",
        "# Selecionando vinhos de qualidade 'Alta' e apenas as colunas 'pH' e 'alcohol'\n",
        "\n",
        "high_quality_pH_alcohol = df.loc[df['categoria_qualidade'] == 'Alta', ['pH', 'álcool']]\n",
        "\n",
        "# Exibindo as primeiras 5 linhas do resultado\n",
        "high_quality_pH_alcohol.head()"
      ],
      "metadata": {
        "id": "Gvbv2ynL6JsX"
      },
      "id": "Gvbv2ynL6JsX",
      "execution_count": null,
      "outputs": []
    },
    {
      "cell_type": "code",
      "source": [
        "# 10.2 Seleção de dados com `iloc`\n",
        "# Selecionando as 5 primeiras linhas e as 3 primeiras colunas\n",
        "first_rows_columns = df.iloc[:5, :3]\n",
        "# Exibindo o resultado\n",
        "first_rows_columns"
      ],
      "metadata": {
        "id": "VtZqAQEe6pGi"
      },
      "id": "VtZqAQEe6pGi",
      "execution_count": null,
      "outputs": []
    }
  ],
  "metadata": {
    "noteable-chatgpt": {
      "create_notebook": {
        "openai_conversation_id": "d8a491f5-abe0-5325-9ce4-2816538ec834",
        "openai_ephemeral_user_id": "eafd682b-ca50-59e3-9d2e-f8df728bd7de",
        "openai_subdivision1_iso_code": "BR-RJ"
      }
    },
    "kernel_info": {
      "name": "python3"
    },
    "noteable": {
      "last_transaction_id": "e959b40f-b60d-45b2-abe1-f4b3a2a83f25",
      "last_delta_id": "bafbe0f1-f52c-4583-8b24-0eab7a42d431"
    },
    "kernelspec": {
      "display_name": "Python 3.9",
      "language": "python",
      "name": "python3"
    },
    "selected_hardware_size": "small",
    "nteract": {
      "version": "noteable@2.9.0"
    },
    "colab": {
      "provenance": []
    }
  },
  "nbformat": 4,
  "nbformat_minor": 5
}