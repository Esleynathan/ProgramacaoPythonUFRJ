{
  "cells": [
    {
      "cell_type": "markdown",
      "id": "216c9f6f-83f4-49bd-8b95-13c1c85c8bbe",
      "metadata": {
        "id": "216c9f6f-83f4-49bd-8b95-13c1c85c8bbe",
        "noteable": {
          "cell_type": "markdown"
        }
      },
      "source": [
        "# Introdução ao Numpy\n",
        "Numpy é uma biblioteca poderosa para computação numérica em Python. É amplamente utilizada em Ciência de Dados, Engenharia e outras áreas que requerem cálculos matemáticos rápidos e eficientes. Nesta seção, vamos explorar o que é Numpy, por que é tão importante e como começar a usá-lo."
      ]
    },
    {
      "cell_type": "markdown",
      "id": "64a9cea8-9ce6-42ba-b524-fe4cc08e3568",
      "metadata": {
        "id": "64a9cea8-9ce6-42ba-b524-fe4cc08e3568",
        "noteable": {
          "cell_type": "markdown"
        }
      },
      "source": [
        "## O que é Numpy?\n",
        "Numpy (Numerical Python) é uma biblioteca para a linguagem de programação Python para processamento numérico. A maior parte das bibliotecas de processamento com funcionalidades científicas utiliza objetos array do NumPy para a troca de dados.\n",
        "\n",
        "## Por que usar Numpy em Ciência de Dados?\n",
        "Numpy é fundamental para a Ciência de Dados por várias razões:\n",
        "- **Desempenho**: É escrito em C e fornece operações eficientes em arrays.\n",
        "- **Flexibilidade**: Pode lidar com uma ampla variedade de tipos de dados.\n",
        "- **Integração**: Funciona bem com outras bibliotecas de Ciência de Dados como Pandas, Matplotlib, Scikit-learn, etc.\n",
        "\n",
        "## Instalação e Importação\n",
        "Numpy pode ser instalado usando pip ou conda, e é geralmente importado com o alias `np`.\n",
        "\n",
        "Para instalar usando pip:\n",
        "```bash\n",
        "pip install numpy\n",
        "```\n",
        "\n",
        "Para instalar usando conda:\n",
        "```bash\n",
        "conda install numpy\n",
        "```\n",
        "\n",
        "Para importar Numpy em seu código Python:\n",
        "```python\n",
        "import numpy as np\n",
        "```"
      ]
    },
    {
      "cell_type": "code",
      "execution_count": 2,
      "id": "E5utoqSletz_",
      "metadata": {
        "id": "E5utoqSletz_"
      },
      "outputs": [],
      "source": [
        "import numpy as np"
      ]
    },
    {
      "cell_type": "markdown",
      "id": "fXH-BtwNPrr_",
      "metadata": {
        "id": "fXH-BtwNPrr_"
      },
      "source": [
        "### Principais recursos encontrados no NumPy:\n",
        "\n",
        "* ndarray: estrutura multidimensional de dados numéricos\n",
        "* Funções matemáticas\n",
        "* Recursos de álgebra linear e geração de números aleatórios\n",
        "\n"
      ]
    },
    {
      "cell_type": "markdown",
      "id": "6DyyHPU0Qh5e",
      "metadata": {
        "id": "6DyyHPU0Qh5e"
      },
      "source": [
        "### A compreensão dos arrays NumPy ajudará você a utilizar ferramentas com semântica orientada a arrays, como o Pandas.\n",
        "\n",
        "NumPy foi projetado para ser eficaz em arrays de grandes dados, daí vem a sua importância para processamentos numéricos em Python."
      ]
    },
    {
      "cell_type": "code",
      "execution_count": 3,
      "id": "On1Ifm6qRkrV",
      "metadata": {
        "id": "On1Ifm6qRkrV"
      },
      "outputs": [
        {
          "name": "stdout",
          "output_type": "stream",
          "text": [
            "CPU times: total: 46.9 ms\n",
            "Wall time: 30.9 ms\n",
            "CPU times: total: 891 ms\n",
            "Wall time: 886 ms\n"
          ]
        }
      ],
      "source": [
        "# Um exemplo da velocidade do NumPy\n",
        "\n",
        "my_array = np.arange(1000000)\n",
        "my_list = list(range(1000000))\n",
        "\n",
        "# Vamos multiplicar cada sequência por 2\n",
        "\n",
        "%time for _ in range(10): my_array2 = my_array * 2\n",
        "\n",
        "%time for _ in range(10): my_list2 = [x * 2 for x in my_list]\n",
        "\n"
      ]
    },
    {
      "cell_type": "markdown",
      "id": "t4TS3KsXfWU-",
      "metadata": {
        "id": "t4TS3KsXfWU-"
      },
      "source": [
        "o `%time` é um comando mágico utilizado em ambientes como o Jupyter Notebook para medir o tempo de execução de uma única instrução ou de um bloco de código.\n",
        "\n",
        "No código `%time for _ in range(10):`, o `_` é usado como uma convenção para representar uma variável temporária que não será usada no corpo do `loop`. Normalmente, quando você itera sobre algo usando um loop for, precisa atribuir um nome a cada item que está sendo iterado, como por exemplo for item in lista:. No entanto, em algumas situações, você pode não se importar com o valor individual de cada item na iteração, mas apenas com a execução do loop um certo número de vezes.\n",
        "\n",
        "Nesse contexto, a convenção de usar _ como nome da variável é uma maneira de indicar que o valor da variável não é relevante para a lógica do loop. Isso é especialmente útil quando você está interessado apenas em executar uma operação repetidas vezes, sem se preocupar com os valores dos itens individuais na iteração. Portanto, o _ é uma maneira de informar aos leitores do código que você está ignorando a variável de iteração.\n",
        "\n",
        "No código em questão, a multiplicação `my_arr * 2` é executada 10 vezes consecutivas, mas o resultado de cada iteração não é utilizado. O _ é utilizado para \"receber\" os valores da iteração, mas como esses valores não são usados, o _ indica que esses valores não são relevantes nesse contexto."
      ]
    },
    {
      "cell_type": "markdown",
      "id": "0ytLJ3btTAim",
      "metadata": {
        "id": "0ytLJ3btTAim"
      },
      "source": [
        "### Os algoritmos utilizando NumPy são de 10 a 100 vezes mais rápidos do que aqueles em Python puro. Também utilizam menos memória."
      ]
    },
    {
      "cell_type": "markdown",
      "id": "45e35af9-3225-4174-ba66-d6a608ca6550",
      "metadata": {
        "id": "45e35af9-3225-4174-ba66-d6a608ca6550",
        "noteable": {
          "cell_type": "markdown"
        }
      },
      "source": [
        "# Arrays Numpy\n",
        "Arrays são a estrutura de dados central em Numpy. Eles são eficientes, flexíveis e formam a base para muitas operações matemáticas. Nesta seção, vamos explorar como criar arrays, entender seus atributos e aprender a indexar e fatiar arrays.\n",
        "\n",
        "## Criação de Arrays\n",
        "Arrays podem ser criados de várias maneiras, incluindo a partir de listas, usando funções específicas como `np.zeros`, `np.ones`, `np.arange`, etc. Vamos começar com alguns exemplos básicos de criação de arrays."
      ]
    },
    {
      "cell_type": "code",
      "execution_count": 5,
      "id": "6f02c6a3-e16d-4714-a0f3-a11689a1e8fa",
      "metadata": {
        "ExecuteTime": {
          "end_time": "2023-08-20T17:17:31.499270+00:00",
          "start_time": "2023-08-20T17:17:31.338058+00:00"
        },
        "id": "6f02c6a3-e16d-4714-a0f3-a11689a1e8fa",
        "noteable": {
          "cell_type": "code"
        }
      },
      "outputs": [
        {
          "data": {
            "text/plain": [
              "array([1, 2, 3, 4, 5])"
            ]
          },
          "execution_count": 5,
          "metadata": {},
          "output_type": "execute_result"
        }
      ],
      "source": [
        "import numpy as np\n",
        "\n",
        "# Criando um array a partir de uma lista\n",
        "array_from_list = np.array([1, 2, 3, 4, 5])\n",
        "array_from_list"
      ]
    },
    {
      "cell_type": "code",
      "execution_count": 6,
      "id": "5BymnBqRV-uy",
      "metadata": {
        "id": "5BymnBqRV-uy"
      },
      "outputs": [],
      "source": [
        "# Criando um array de zeros\n",
        "zeros_array = np.zeros(5)"
      ]
    },
    {
      "cell_type": "code",
      "execution_count": 7,
      "id": "5HQbu2v-WAVi",
      "metadata": {
        "id": "5HQbu2v-WAVi"
      },
      "outputs": [],
      "source": [
        "# Criando um array de uns\n",
        "ones_array = np.ones(3)"
      ]
    },
    {
      "cell_type": "code",
      "execution_count": null,
      "id": "GRaIym0NWByE",
      "metadata": {
        "id": "GRaIym0NWByE"
      },
      "outputs": [],
      "source": [
        "# Criando um array com um intervalo de valores\n",
        "range_array = np.arange(0.5, 10.7, 1)\n",
        "range_array"
      ]
    },
    {
      "cell_type": "code",
      "execution_count": null,
      "id": "BbTyLCmKWDGJ",
      "metadata": {
        "id": "BbTyLCmKWDGJ"
      },
      "outputs": [],
      "source": [
        "# Criando um array com valores espaçados uniformemente\n",
        "linspace_array = np.linspace(0, 10, 5)\n",
        "linspace_array"
      ]
    },
    {
      "cell_type": "markdown",
      "id": "LX2wiq9_XTUr",
      "metadata": {
        "id": "LX2wiq9_XTUr"
      },
      "source": [
        "* Um ndarray é uma estrutura de que armazena dados homogêneos - todos os elementos devem ser do mesmo tipo.\n",
        "* Todo array possui\n",
        "  * um `shape` - uma tupla que dá o tamanho de cada dimensão do array\n",
        "  * um `dtype`- um objeto que descreve o tipo de dados armazenado no array"
      ]
    },
    {
      "cell_type": "code",
      "execution_count": 14,
      "id": "Tp2h-zsVWFW5",
      "metadata": {
        "id": "Tp2h-zsVWFW5"
      },
      "outputs": [
        {
          "data": {
            "text/plain": [
              "array([2, 3, 4, 5])"
            ]
          },
          "execution_count": 14,
          "metadata": {},
          "output_type": "execute_result"
        }
      ],
      "source": [
        "mix = np.array([2,3,4,5])\n",
        "mix"
      ]
    },
    {
      "cell_type": "code",
      "execution_count": 15,
      "id": "eKg-AJ5PYJ3Q",
      "metadata": {
        "id": "eKg-AJ5PYJ3Q"
      },
      "outputs": [
        {
          "data": {
            "text/plain": [
              "(4,)"
            ]
          },
          "execution_count": 15,
          "metadata": {},
          "output_type": "execute_result"
        }
      ],
      "source": [
        "mix.shape"
      ]
    },
    {
      "cell_type": "code",
      "execution_count": 16,
      "id": "PnqN2XMHWfQB",
      "metadata": {
        "id": "PnqN2XMHWfQB"
      },
      "outputs": [
        {
          "data": {
            "text/plain": [
              "dtype('int32')"
            ]
          },
          "execution_count": 16,
          "metadata": {},
          "output_type": "execute_result"
        }
      ],
      "source": [
        "mix.dtype"
      ]
    },
    {
      "cell_type": "markdown",
      "id": "mzKLU6XIiSul",
      "metadata": {
        "id": "mzKLU6XIiSul"
      },
      "source": [
        "## Funções NumPy para números aleatórios"
      ]
    },
    {
      "cell_type": "markdown",
      "id": "ozcPwArAX_nK",
      "metadata": {
        "id": "ozcPwArAX_nK"
      },
      "source": [
        "**numpy.random.randn( )**\n",
        "\n",
        "Gera uma amostra (ou amostras) a partir de uma distribuição normal padrão, também conhecida como distribuição Gaussiana."
      ]
    },
    {
      "cell_type": "code",
      "execution_count": 17,
      "id": "7YorGUZSvz2G",
      "metadata": {
        "id": "7YorGUZSvz2G"
      },
      "outputs": [
        {
          "data": {
            "text/plain": [
              "array([[ 0.16167498, -0.52680227, -0.2987344 ,  0.23977147],\n",
              "       [ 0.70043671,  1.44371219,  1.47595213,  0.22985256],\n",
              "       [ 0.62547012, -0.08140257,  0.52766136, -2.67139329]])"
            ]
          },
          "execution_count": 17,
          "metadata": {},
          "output_type": "execute_result"
        }
      ],
      "source": [
        "# Retorna um array nas dimensões indicadas com distribuição normal (média=0, variância =1)\n",
        "\n",
        "np.random.randn(3, 4)"
      ]
    },
    {
      "cell_type": "code",
      "execution_count": 33,
      "id": "zwcXg3pjcUxU",
      "metadata": {
        "id": "zwcXg3pjcUxU"
      },
      "outputs": [
        {
          "data": {
            "image/png": "[encoded data removed]",
            "text/plain": [
              "<Figure size 640x480 with 1 Axes>"
            ]
          },
          "metadata": {},
          "output_type": "display_data"
        }
      ],
      "source": [
        "import numpy as np\n",
        "import matplotlib.pyplot as plt\n",
        "\n",
        "# Gerar 1000 amostras de uma distribuição normal padrão\n",
        "data = np.random.randn(100000)\n",
        "\n",
        "# Criar um histograma dos dados\n",
        "plt.hist(data, bins=100, edgecolor='black', alpha=0.7)\n",
        "\n",
        "# Adicionar títulos e rótulos aos eixos\n",
        "plt.title('Histograma de uma Distribuição Normal Padrão')\n",
        "plt.xlabel('Valor')\n",
        "plt.ylabel('Densidade')\n",
        "\n",
        "# Mostrar o gráfico\n",
        "plt.show()\n"
      ]
    },
    {
      "cell_type": "markdown",
      "id": "5p0V8G_JYPyE",
      "metadata": {
        "id": "5p0V8G_JYPyE"
      },
      "source": [
        "\n",
        "**numpy.random.rand( )**\n",
        "\n",
        "Gera valores aleatórios de ponto flutuante uniformemente distribuídos no intervalo [0, 1). Esses valores são distribuídos de maneira uniforme, o que significa que qualquer valor dentro desse intervalo tem a mesma probabilidade de ser escolhido."
      ]
    },
    {
      "cell_type": "code",
      "execution_count": 34,
      "id": "ykFGFLHjC2aQ",
      "metadata": {
        "id": "ykFGFLHjC2aQ"
      },
      "outputs": [
        {
          "data": {
            "text/plain": [
              "array([[0.04612934, 0.75058487, 0.30245341, 0.2120075 ],\n",
              "       [0.13550581, 0.04049102, 0.58815042, 0.81841095],\n",
              "       [0.73103787, 0.33589217, 0.73467062, 0.03191663]])"
            ]
          },
          "execution_count": 34,
          "metadata": {},
          "output_type": "execute_result"
        }
      ],
      "source": [
        "# Cria um array nas dimensões indicadas com uma distribuição uniforme no intervalo [0, 1).\n",
        "\n",
        "np.random.rand(3, 4)"
      ]
    },
    {
      "cell_type": "code",
      "execution_count": 35,
      "id": "iQDGyLcah2Ow",
      "metadata": {
        "id": "iQDGyLcah2Ow"
      },
      "outputs": [
        {
          "data": {
            "image/png": "[encoded data removed]",
            "text/plain": [
              "<Figure size 640x480 with 1 Axes>"
            ]
          },
          "metadata": {},
          "output_type": "display_data"
        }
      ],
      "source": [
        "import numpy as np\n",
        "import matplotlib.pyplot as plt\n",
        "\n",
        "# Gerar 1000 amostras de uma distribuição uniforme no intervalo [0, 1)\n",
        "data = np.random.rand(10000)\n",
        "\n",
        "# Criar um histograma dos dados\n",
        "plt.hist(data, bins=100, density=True, edgecolor='black', alpha=0.7)\n",
        "\n",
        "# Adicionar títulos e rótulos aos eixos\n",
        "plt.title('Histograma de uma Distribuição Uniforme')\n",
        "plt.xlabel('Valor')\n",
        "plt.ylabel('Densidade')\n",
        "\n",
        "# Mostrar o gráfico\n",
        "plt.show()\n"
      ]
    },
    {
      "cell_type": "markdown",
      "id": "wL5E30RBjR6f",
      "metadata": {
        "id": "wL5E30RBjR6f"
      },
      "source": []
    },
    {
      "cell_type": "markdown",
      "id": "w-t9a6wAYH-O",
      "metadata": {
        "id": "w-t9a6wAYH-O"
      },
      "source": [
        "**numpy.random.randint( )**\n",
        "\n",
        "Gera inteiros aleatórios de uma distribuição uniforme discreta dentro de um intervalo especificado."
      ]
    },
    {
      "cell_type": "markdown",
      "id": "rGtQoG95jBcY",
      "metadata": {
        "id": "rGtQoG95jBcY"
      },
      "source": [
        "`numpy.random.randint(low, high=None, size=None)`\n",
        "\n",
        "* low: O valor mais baixo (inclusivo) na distribuição.\n",
        "* high: O valor mais alto (exclusivo) na distribuição. Se high for None, os valores serão gerados no intervalo [0, low).\n",
        "* size: O tamanho da saída. Pode ser um inteiro ou uma tupla para gerar uma matriz multidimensional."
      ]
    },
    {
      "cell_type": "code",
      "execution_count": 37,
      "id": "7g6h2xasC795",
      "metadata": {
        "id": "7g6h2xasC795"
      },
      "outputs": [
        {
          "data": {
            "text/plain": [
              "10"
            ]
          },
          "execution_count": 37,
          "metadata": {},
          "output_type": "execute_result"
        }
      ],
      "source": [
        "# Retorna um inteiro aletório no intervalo indicado: inferior(inclusivo) até superior (exclusivo)\n",
        "\n",
        "np.random.randint(1, 100)"
      ]
    },
    {
      "cell_type": "code",
      "execution_count": 38,
      "id": "htxOxJUtXyLc",
      "metadata": {
        "id": "htxOxJUtXyLc"
      },
      "outputs": [
        {
          "data": {
            "text/plain": [
              "array([3, 0, 3, 0, 2])"
            ]
          },
          "execution_count": 38,
          "metadata": {},
          "output_type": "execute_result"
        }
      ],
      "source": [
        "# O primeiro argumento define o valor máximo (exclusivo) de cada elemento para a criação do array\n",
        "\n",
        "np.random.randint(5, size=5)"
      ]
    },
    {
      "cell_type": "code",
      "execution_count": 40,
      "id": "frSBlkRuXsPO",
      "metadata": {
        "id": "frSBlkRuXsPO"
      },
      "outputs": [
        {
          "data": {
            "text/plain": [
              "array([[ 7, 12,  8,  6],\n",
              "       [ 8,  6,  7, 11]])"
            ]
          },
          "execution_count": 40,
          "metadata": {},
          "output_type": "execute_result"
        }
      ],
      "source": [
        "# Aqui, definimos o tamanho do array que queremos retornar com números aleatórios. Os dois primeiros parâmetros\n",
        "#indicam o intervalo desejado\n",
        "\n",
        "np.random.randint(5, 15, size=(2, 4))"
      ]
    },
    {
      "cell_type": "code",
      "execution_count": 41,
      "id": "VNocST70kNAt",
      "metadata": {
        "id": "VNocST70kNAt"
      },
      "outputs": [
        {
          "data": {
            "image/png": "[encoded data removed]",
            "text/plain": [
              "<Figure size 640x480 with 1 Axes>"
            ]
          },
          "metadata": {},
          "output_type": "display_data"
        }
      ],
      "source": [
        "import numpy as np\n",
        "import matplotlib.pyplot as plt\n",
        "\n",
        "# Gerar 1000 inteiros aleatórios no intervalo [0, 10)\n",
        "data = np.random.randint(0, 10, 1000)\n",
        "\n",
        "# Criar um histograma dos dados\n",
        "plt.hist(data, bins=10, range=(0,10), edgecolor='black', alpha=0.7)\n",
        "\n",
        "# Adicionar títulos e rótulos aos eixos\n",
        "plt.title('Histograma de uma Distribuição Uniforme Discreta')\n",
        "plt.xlabel('Valor')\n",
        "plt.ylabel('Densidade')\n",
        "\n",
        "# Mostrar o gráfico\n",
        "plt.show()"
      ]
    },
    {
      "cell_type": "markdown",
      "id": "99ed11ce-71d4-407a-8050-3e1e9312be76",
      "metadata": {
        "id": "99ed11ce-71d4-407a-8050-3e1e9312be76",
        "noteable": {
          "cell_type": "markdown"
        }
      },
      "source": [
        "## Atributos de Arrays\n",
        "Cada array Numpy possui vários atributos que fornecem informações sobre sua forma, tamanho, tipo de dados, etc. Vamos explorar alguns dos atributos mais comuns:\n",
        "- **shape**: Retorna a forma do array (número de linhas, colunas, etc.).\n",
        "- **size**: Retorna o número total de elementos no array.\n",
        "- **dtype**: Retorna o tipo de dados dos elementos no array.\n",
        "- **ndim**: Retorna o número de dimensões do array.\n",
        "\n",
        "Vamos examinar esses atributos em um exemplo."
      ]
    },
    {
      "cell_type": "code",
      "execution_count": 43,
      "id": "MW_DOlIsYg-Q",
      "metadata": {
        "id": "MW_DOlIsYg-Q"
      },
      "outputs": [],
      "source": [
        "# Criando um array bidimensional\n",
        "two_dimensional_array = np.array([[1, 2, 3], [4, 5, 6], [7, 8, 9]])"
      ]
    },
    {
      "cell_type": "code",
      "execution_count": 47,
      "id": "b38ebd43",
      "metadata": {},
      "outputs": [
        {
          "data": {
            "text/plain": [
              "array([[1, 2, 3],\n",
              "       [4, 5, 6],\n",
              "       [7, 8, 9]])"
            ]
          },
          "execution_count": 47,
          "metadata": {},
          "output_type": "execute_result"
        }
      ],
      "source": [
        "two_dimensional_array"
      ]
    },
    {
      "cell_type": "code",
      "execution_count": 46,
      "id": "d7061379-1bfb-4f3c-8876-00966237577f",
      "metadata": {
        "ExecuteTime": {
          "end_time": "2023-08-20T17:19:06.829435+00:00",
          "start_time": "2023-08-20T17:19:06.668378+00:00"
        },
        "id": "d7061379-1bfb-4f3c-8876-00966237577f",
        "noteable": {
          "cell_type": "code"
        }
      },
      "outputs": [
        {
          "data": {
            "text/plain": [
              "(3, 3)"
            ]
          },
          "execution_count": 46,
          "metadata": {},
          "output_type": "execute_result"
        }
      ],
      "source": [
        "# Examinando os atributos\n",
        "shape = two_dimensional_array.shape\n",
        "shape"
      ]
    },
    {
      "cell_type": "code",
      "execution_count": 49,
      "id": "G_S48SbyZ_Ae",
      "metadata": {
        "id": "G_S48SbyZ_Ae"
      },
      "outputs": [
        {
          "data": {
            "text/plain": [
              "9"
            ]
          },
          "execution_count": 49,
          "metadata": {},
          "output_type": "execute_result"
        }
      ],
      "source": [
        "size = two_dimensional_array.size\n",
        "size"
      ]
    },
    {
      "cell_type": "code",
      "execution_count": 50,
      "id": "m_g8VgZ2aA3v",
      "metadata": {
        "id": "m_g8VgZ2aA3v"
      },
      "outputs": [
        {
          "data": {
            "text/plain": [
              "dtype('int32')"
            ]
          },
          "execution_count": 50,
          "metadata": {},
          "output_type": "execute_result"
        }
      ],
      "source": [
        "dtype = two_dimensional_array.dtype\n",
        "dtype"
      ]
    },
    {
      "cell_type": "code",
      "execution_count": 51,
      "id": "yom-o-09aDUu",
      "metadata": {
        "id": "yom-o-09aDUu"
      },
      "outputs": [
        {
          "data": {
            "text/plain": [
              "2"
            ]
          },
          "execution_count": 51,
          "metadata": {},
          "output_type": "execute_result"
        }
      ],
      "source": [
        "ndim = two_dimensional_array.ndim\n",
        "ndim"
      ]
    },
    {
      "cell_type": "markdown",
      "id": "f781e7fb-fa1b-45ea-a53c-2fd94a9d5e7d",
      "metadata": {
        "id": "f781e7fb-fa1b-45ea-a53c-2fd94a9d5e7d",
        "noteable": {
          "cell_type": "markdown"
        }
      },
      "source": [
        "## Indexação e Fatiamento\n",
        "A indexação e o fatiamento permitem acessar e modificar elementos específicos ou subconjuntos de um array. Isso é semelhante à indexação de listas em Python, mas com a capacidade de acessar múltiplas dimensões.\n",
        "\n",
        "### Indexação\n",
        "Podemos acessar um elemento específico em um array fornecendo o índice de sua posição. Em um array bidimensional, fornecemos dois índices: um para a linha e outro para a coluna.\n",
        "\n",
        "### Fatiamento\n",
        "O fatiamento permite acessar uma subseção do array usando a notação `start:stop:step`. Podemos fatiar ao longo de qualquer dimensão de um array.\n",
        "\n",
        "Vamos ver alguns exemplos de indexação e fatiamento."
      ]
    },
    {
      "cell_type": "code",
      "execution_count": 52,
      "id": "dOQLVC8raaJ9",
      "metadata": {
        "id": "dOQLVC8raaJ9"
      },
      "outputs": [],
      "source": [
        "# Exemplo de array bidimensional\n",
        "example_array = np.array([[10, 20, 30], [40, 50, 60], [70, 80, 90]])"
      ]
    },
    {
      "cell_type": "code",
      "execution_count": null,
      "id": "YbEhLkvXnNRf",
      "metadata": {
        "id": "YbEhLkvXnNRf"
      },
      "outputs": [],
      "source": [
        "example_array"
      ]
    },
    {
      "cell_type": "code",
      "execution_count": null,
      "id": "2b3eab47-c6c1-401c-abf1-57af197f0c91",
      "metadata": {
        "ExecuteTime": {
          "end_time": "2023-08-20T17:21:19.999244+00:00",
          "start_time": "2023-08-20T17:21:19.837622+00:00"
        },
        "id": "2b3eab47-c6c1-401c-abf1-57af197f0c91",
        "noteable": {
          "cell_type": "code"
        }
      },
      "outputs": [],
      "source": [
        "# Indexação: Acessando o elemento na segunda linha e terceira coluna (índices 1 e 2)\n",
        "indexed_element = example_array[1, 2]\n",
        "indexed_element"
      ]
    },
    {
      "cell_type": "code",
      "execution_count": null,
      "id": "83bkBaJ3adgF",
      "metadata": {
        "id": "83bkBaJ3adgF"
      },
      "outputs": [],
      "source": [
        "# Fatiamento: Acessando a primeira coluna (todas as linhas, coluna de índice 0)\n",
        "sliced_column = example_array[:, 0]\n",
        "sliced_column"
      ]
    },
    {
      "cell_type": "code",
      "execution_count": null,
      "id": "l3F1TH5wafs_",
      "metadata": {
        "id": "l3F1TH5wafs_"
      },
      "outputs": [],
      "source": [
        "# Fatiamento: Acessando as duas primeiras linhas e duas primeiras colunas\n",
        "sliced_subarray = example_array[:2, :2]"
      ]
    },
    {
      "cell_type": "code",
      "execution_count": null,
      "id": "B5IzNL-JObzA",
      "metadata": {
        "id": "B5IzNL-JObzA"
      },
      "outputs": [],
      "source": [
        "# criamos o array\n",
        "b = np.arange(10)\n",
        "print(b)"
      ]
    },
    {
      "cell_type": "code",
      "execution_count": null,
      "id": "hJWwEEaKUdOP",
      "metadata": {
        "id": "hJWwEEaKUdOP"
      },
      "outputs": [],
      "source": [
        "# Extraindo elementos pelo índice (index)\n",
        "\n",
        "print(b[0])\n",
        "print(b[1])\n",
        "print(b[2])\n",
        "print(b[8])\n",
        "print(b[-10])"
      ]
    },
    {
      "cell_type": "code",
      "execution_count": null,
      "id": "_toA8d6DTyAP",
      "metadata": {
        "id": "_toA8d6DTyAP"
      },
      "outputs": [],
      "source": [
        "# Slicing\n",
        "\n",
        "b[0:10]"
      ]
    },
    {
      "cell_type": "code",
      "execution_count": null,
      "id": "LPNuWC1uO3mY",
      "metadata": {
        "id": "LPNuWC1uO3mY"
      },
      "outputs": [],
      "source": [
        "b[:4] # do início (:) até o elemento anterior ao index 4"
      ]
    },
    {
      "cell_type": "code",
      "execution_count": null,
      "id": "L_rvnVEZUGqn",
      "metadata": {
        "id": "L_rvnVEZUGqn"
      },
      "outputs": [],
      "source": [
        "b[2:]"
      ]
    },
    {
      "cell_type": "code",
      "execution_count": null,
      "id": "pI2REWa-Tb4m",
      "metadata": {
        "id": "pI2REWa-Tb4m"
      },
      "outputs": [],
      "source": [
        "b[2:9:2]    # [início:fim:incremento]"
      ]
    },
    {
      "cell_type": "code",
      "execution_count": null,
      "id": "8dInU38sPGKg",
      "metadata": {
        "id": "8dInU38sPGKg"
      },
      "outputs": [],
      "source": [
        "b[:] # do início ao fim do array"
      ]
    },
    {
      "cell_type": "code",
      "execution_count": null,
      "id": "sjuN42V0RvmR",
      "metadata": {
        "id": "sjuN42V0RvmR"
      },
      "outputs": [],
      "source": [
        "b[::-1] # do início ao fim do array com passo de 2"
      ]
    },
    {
      "cell_type": "code",
      "execution_count": null,
      "id": "ycc5krAgPGB2",
      "metadata": {
        "id": "ycc5krAgPGB2"
      },
      "outputs": [],
      "source": [
        "novo_arr = b[3:]"
      ]
    },
    {
      "cell_type": "code",
      "execution_count": null,
      "id": "gHXHD7xZ7nMq",
      "metadata": {
        "id": "gHXHD7xZ7nMq"
      },
      "outputs": [],
      "source": [
        "novo_arr\n"
      ]
    },
    {
      "cell_type": "markdown",
      "id": "DdJhrsbaQL7d",
      "metadata": {
        "id": "DdJhrsbaQL7d"
      },
      "source": [
        "Atenção!!! Uma operação de corte cria uma visualização do array original, a qual é apenas uma forma de se acessar dos dados da array. Assim, a matriz original não é copiada na memória."
      ]
    },
    {
      "cell_type": "markdown",
      "id": "0cR4lnd4rUJp",
      "metadata": {
        "id": "0cR4lnd4rUJp"
      },
      "source": [
        "### Mais um pouquinho de Slicing: 2-D Arrays"
      ]
    },
    {
      "cell_type": "code",
      "execution_count": null,
      "id": "Y8FmN5eCPa_B",
      "metadata": {
        "id": "Y8FmN5eCPa_B"
      },
      "outputs": [],
      "source": [
        "matriz = np.array([[1,2,3],[6,5,4],[8,7,9]])\n",
        "matriz"
      ]
    },
    {
      "cell_type": "code",
      "execution_count": null,
      "id": "HjZsNaqeQy3S",
      "metadata": {
        "id": "HjZsNaqeQy3S"
      },
      "outputs": [],
      "source": [
        "matriz[0, 1]  # da linha de índice 0, pegue o elemento de índice 1, ou seja, da coluna 1"
      ]
    },
    {
      "cell_type": "code",
      "execution_count": null,
      "id": "kJTCrCeFiqRM",
      "metadata": {
        "id": "kJTCrCeFiqRM"
      },
      "outputs": [],
      "source": [
        "matriz[0:2, 1] # das linhas 0 e 2, pegue os elementos da coluna 1"
      ]
    },
    {
      "cell_type": "code",
      "execution_count": null,
      "id": "dNrWVhS3-BwE",
      "metadata": {
        "id": "dNrWVhS3-BwE"
      },
      "outputs": [],
      "source": [
        "matriz[0:3, 1]  # da linha de indice 0 até a linha de indice 2, pegue os elementos da coluna 1"
      ]
    },
    {
      "cell_type": "code",
      "execution_count": null,
      "id": "rPCVG3lmlWKH",
      "metadata": {
        "id": "rPCVG3lmlWKH"
      },
      "outputs": [],
      "source": [
        "matriz[0:2, 0:2] # da linha de indice 0 até a linha de indice 2, pegue os elementos da coluna de indice 0 até a coluna de indice 2"
      ]
    },
    {
      "cell_type": "code",
      "execution_count": null,
      "id": "iIIh4jgy-hSk",
      "metadata": {
        "id": "iIIh4jgy-hSk"
      },
      "outputs": [],
      "source": [
        "matriz[:, 2:]"
      ]
    },
    {
      "cell_type": "markdown",
      "id": "8d0a8dd1-2733-4f75-8c43-5333faf17792",
      "metadata": {
        "id": "8d0a8dd1-2733-4f75-8c43-5333faf17792",
        "noteable": {
          "cell_type": "markdown"
        }
      },
      "source": [
        "# Operações com Arrays\n",
        "Arrays Numpy suportam uma ampla variedade de operações matemáticas e estatísticas. Essas operações são otimizadas para desempenho e são fundamentais para a análise e manipulação de dados numéricos.\n",
        "\n",
        "## Operações Aritméticas\n",
        "Podemos realizar operações aritméticas básicas, como adição, subtração, multiplicação e divisão, diretamente em arrays. Essas operações são aplicadas elemento a elemento e seguem as regras de transmissão (broadcasting) quando os arrays têm formas diferentes.\n",
        "\n",
        "Vamos ver alguns exemplos de operações aritméticas em arrays."
      ]
    },
    {
      "cell_type": "code",
      "execution_count": null,
      "id": "a59fdcc0-0617-4c8b-b783-e2039e4a7261",
      "metadata": {
        "ExecuteTime": {
          "end_time": "2023-08-20T17:23:49.737089+00:00",
          "start_time": "2023-08-20T17:23:49.575727+00:00"
        },
        "id": "a59fdcc0-0617-4c8b-b783-e2039e4a7261",
        "noteable": {
          "cell_type": "code"
        }
      },
      "outputs": [],
      "source": [
        "# Definindo dois arrays para operações\n",
        "a = np.array([1, 2, 3])\n",
        "b = np.array([4, 5, 6])"
      ]
    },
    {
      "cell_type": "code",
      "execution_count": null,
      "id": "V6fWua6EKA8n",
      "metadata": {
        "id": "V6fWua6EKA8n"
      },
      "outputs": [],
      "source": [
        "# Adição\n",
        "addition = a + b\n",
        "addition"
      ]
    },
    {
      "cell_type": "code",
      "execution_count": null,
      "id": "SUti8HS7KCwP",
      "metadata": {
        "id": "SUti8HS7KCwP"
      },
      "outputs": [],
      "source": [
        "# Subtração\n",
        "subtraction = a - b"
      ]
    },
    {
      "cell_type": "code",
      "execution_count": null,
      "id": "NQIslbEGKFQK",
      "metadata": {
        "id": "NQIslbEGKFQK"
      },
      "outputs": [],
      "source": [
        "# Multiplicação\n",
        "multiplication = a * b"
      ]
    },
    {
      "cell_type": "code",
      "execution_count": null,
      "id": "lnwsrNwRKD8i",
      "metadata": {
        "id": "lnwsrNwRKD8i"
      },
      "outputs": [],
      "source": [
        "# Divisão\n",
        "division = a / b"
      ]
    },
    {
      "cell_type": "markdown",
      "id": "18f67735-006a-499b-851b-ee7d165eccc4",
      "metadata": {
        "id": "18f67735-006a-499b-851b-ee7d165eccc4",
        "noteable": {
          "cell_type": "markdown"
        }
      },
      "source": [
        "## Funções Universais (Ufuncs)\n",
        "Funções Universais (Ufuncs) são funções que operam em arrays Numpy de forma eficiente. Elas fornecem uma interface simples para operações complexas e são otimizadas para desempenho. Algumas ufuncs comuns incluem funções trigonométricas, logarítmicas, exponenciais e muito mais.\n",
        "\n",
        "Vamos explorar alguns exemplos de ufuncs aplicadas a um array."
      ]
    },
    {
      "cell_type": "code",
      "execution_count": 55,
      "id": "13eac790-81bd-4983-875e-13e9fe08de2e",
      "metadata": {
        "ExecuteTime": {
          "end_time": "2023-08-20T17:25:02.822460+00:00",
          "start_time": "2023-08-20T17:25:02.657923+00:00"
        },
        "id": "13eac790-81bd-4983-875e-13e9fe08de2e",
        "noteable": {
          "cell_type": "code"
        }
      },
      "outputs": [
        {
          "data": {
            "text/plain": [
              "array([0.        , 1.57079633, 3.14159265])"
            ]
          },
          "execution_count": 55,
          "metadata": {},
          "output_type": "execute_result"
        }
      ],
      "source": [
        "# Definindo um array para aplicar ufuncs\n",
        "x = np.array([0, np.pi / 2, np.pi])  #ângulos em radianos\n",
        "x"
      ]
    },
    {
      "cell_type": "code",
      "execution_count": 54,
      "id": "A6Nrz9viOUrs",
      "metadata": {
        "id": "A6Nrz9viOUrs"
      },
      "outputs": [
        {
          "name": "stdout",
          "output_type": "stream",
          "text": [
            "[  0.  90. 180.]\n"
          ]
        }
      ],
      "source": [
        "#Transformando os ângulos de radianos para graus (apenas para ilustrar)\n",
        "# radianos = np.pi / 2\n",
        "graus = np.degrees(x) # x em radianos\n",
        "[graus for grau in x]\n",
        "\n",
        "print(graus)"
      ]
    },
    {
      "cell_type": "code",
      "execution_count": null,
      "id": "qgdmf6w1KPbT",
      "metadata": {
        "id": "qgdmf6w1KPbT"
      },
      "outputs": [],
      "source": [
        "# Aplicando funções trigonométricas - argumento em radianos\n",
        "sin_values = np.sin(x)\n",
        "cos_values = np.cos(x)"
      ]
    },
    {
      "cell_type": "code",
      "execution_count": null,
      "id": "-q-XYuQmLs5K",
      "metadata": {
        "id": "-q-XYuQmLs5K"
      },
      "outputs": [],
      "source": [
        "sin_values"
      ]
    },
    {
      "cell_type": "code",
      "execution_count": null,
      "id": "LGfdz-XMKR0K",
      "metadata": {
        "id": "LGfdz-XMKR0K"
      },
      "outputs": [],
      "source": [
        "# Aplicando função logarítmica (log natural)\n",
        "log_values = np.log(np.array([1, np.e, np.e**2]))"
      ]
    },
    {
      "cell_type": "code",
      "execution_count": null,
      "id": "KAQsoxb2NRAw",
      "metadata": {
        "id": "KAQsoxb2NRAw"
      },
      "outputs": [],
      "source": [
        "log_values"
      ]
    },
    {
      "cell_type": "code",
      "execution_count": null,
      "id": "JYy037QpMa4x",
      "metadata": {
        "id": "JYy037QpMa4x"
      },
      "outputs": [],
      "source": [
        "np.e # constante de Euler"
      ]
    },
    {
      "cell_type": "markdown",
      "id": "eN4LI-PWMv15",
      "metadata": {
        "id": "eN4LI-PWMv15"
      },
      "source": [
        "O valor de `e` é é aproximadamente 2.718281828459045, e é a base do logaritmo natural."
      ]
    },
    {
      "cell_type": "code",
      "execution_count": null,
      "id": "ZDZFhjGXKT6U",
      "metadata": {
        "id": "ZDZFhjGXKT6U"
      },
      "outputs": [],
      "source": [
        "# Aplicando função exponencial\n",
        "exp_values = np.exp(np.array([0, 1, 2]))"
      ]
    },
    {
      "cell_type": "code",
      "execution_count": null,
      "id": "vi7syIuCMXHU",
      "metadata": {
        "id": "vi7syIuCMXHU"
      },
      "outputs": [],
      "source": [
        "exp_values"
      ]
    },
    {
      "cell_type": "markdown",
      "id": "28c91325-ef05-4072-80ff-e29e3be32e85",
      "metadata": {
        "id": "28c91325-ef05-4072-80ff-e29e3be32e85",
        "noteable": {
          "cell_type": "markdown"
        }
      },
      "source": [
        "## Agregações\n",
        "Agregações são operações que resumem um conjunto de valores em um único valor. Elas são fundamentais para a análise estatística e permitem entender e resumir grandes conjuntos de dados. Numpy fornece várias funções de agregação, como soma, média, mínimo, máximo, desvio padrão, etc.\n",
        "\n",
        "Vamos explorar alguns exemplos dessas agregações aplicadas a um array."
      ]
    },
    {
      "cell_type": "code",
      "execution_count": null,
      "id": "c4onZu5rluK9",
      "metadata": {
        "id": "c4onZu5rluK9"
      },
      "outputs": [],
      "source": [
        "# Definindo um array para aplicar agregações\n",
        "data = np.array([10, 20, 30, 40, 50])"
      ]
    },
    {
      "cell_type": "code",
      "execution_count": null,
      "id": "v4tu5_ZFlvdV",
      "metadata": {
        "id": "v4tu5_ZFlvdV"
      },
      "outputs": [],
      "source": [
        "# Calculando a soma\n",
        "total_sum = np.sum(data)"
      ]
    },
    {
      "cell_type": "code",
      "execution_count": null,
      "id": "Sg4phdmYlwn0",
      "metadata": {
        "id": "Sg4phdmYlwn0"
      },
      "outputs": [],
      "source": [
        "# Calculando a média\n",
        "mean_value = np.mean(data)"
      ]
    },
    {
      "cell_type": "code",
      "execution_count": null,
      "id": "hF1T0d0clyeV",
      "metadata": {
        "id": "hF1T0d0clyeV"
      },
      "outputs": [],
      "source": [
        "# Encontrando o valor mínimo\n",
        "min_value = np.min(data)"
      ]
    },
    {
      "cell_type": "code",
      "execution_count": null,
      "id": "saTcUJSvl0WG",
      "metadata": {
        "id": "saTcUJSvl0WG"
      },
      "outputs": [],
      "source": [
        "# Encontrando o valor máximo\n",
        "max_value = np.max(data)"
      ]
    },
    {
      "cell_type": "code",
      "execution_count": null,
      "id": "myh3lQZzl3pk",
      "metadata": {
        "id": "myh3lQZzl3pk"
      },
      "outputs": [],
      "source": [
        "# Calculando o desvio padrão\n",
        "std_dev = np.std(data)"
      ]
    },
    {
      "cell_type": "markdown",
      "id": "27e8adba-2996-48b9-9a6a-93109b6ac5d4",
      "metadata": {
        "id": "27e8adba-2996-48b9-9a6a-93109b6ac5d4",
        "noteable": {
          "cell_type": "markdown"
        }
      },
      "source": [
        "# Manipulação de Forma\n",
        "A manipulação de forma em arrays Numpy permite organizar e transformar dados em uma estrutura desejada. Isso é útil para preparar dados para análise, visualização ou entrada em modelos de aprendizado de máquina. Algumas operações comuns de manipulação de forma incluem:\n",
        "\n",
        "- **Remodelar (reshape)**: Alterar a forma de um array sem alterar seus dados.\n",
        "- **Transpor (T)**: Inverter as dimensões de um array (por exemplo, trocar linhas por colunas).\n",
        "- **Achatar (flatten)**: Converter um array multidimensional em um array unidimensional.\n",
        "\n",
        "Vamos explorar alguns exemplos dessas operações para entender como elas funcionam."
      ]
    },
    {
      "cell_type": "code",
      "execution_count": null,
      "id": "dAK9tJ1GrLy8",
      "metadata": {
        "id": "dAK9tJ1GrLy8"
      },
      "outputs": [],
      "source": [
        "array_1d = np.array([1, 2, 3, 4, 5, 6])"
      ]
    },
    {
      "cell_type": "code",
      "execution_count": null,
      "id": "OSqg1btxl9at",
      "metadata": {
        "id": "OSqg1btxl9at"
      },
      "outputs": [],
      "source": [
        "# Exemplo 1: Remodelar um array\n",
        "reshaped_matrix = array_1d.reshape(2, 3)"
      ]
    },
    {
      "cell_type": "code",
      "execution_count": null,
      "id": "gJlSL4_vrRFq",
      "metadata": {
        "id": "gJlSL4_vrRFq"
      },
      "outputs": [],
      "source": [
        "reshaped_matrix"
      ]
    },
    {
      "cell_type": "code",
      "execution_count": null,
      "id": "1FbRsRywl-0u",
      "metadata": {
        "id": "1FbRsRywl-0u"
      },
      "outputs": [],
      "source": [
        "# Exemplo 2: Transpor uma matriz\n",
        "transposed_matrix = reshaped_matrix.T"
      ]
    },
    {
      "cell_type": "code",
      "execution_count": null,
      "id": "QoItbauQrUGZ",
      "metadata": {
        "id": "QoItbauQrUGZ"
      },
      "outputs": [],
      "source": [
        "transposed_matrix"
      ]
    },
    {
      "cell_type": "code",
      "execution_count": null,
      "id": "hd_zFvGJmALc",
      "metadata": {
        "id": "hd_zFvGJmALc"
      },
      "outputs": [],
      "source": [
        "# Exemplo 3: Achatar uma matriz\n",
        "flattened_array = reshaped_matrix.flatten()"
      ]
    },
    {
      "cell_type": "code",
      "execution_count": null,
      "id": "8tmvDz81rbEk",
      "metadata": {
        "id": "8tmvDz81rbEk"
      },
      "outputs": [],
      "source": [
        "flattened_array"
      ]
    },
    {
      "cell_type": "markdown",
      "id": "4d9fe099-a85e-4d55-8575-982f8f8558a2",
      "metadata": {
        "id": "4d9fe099-a85e-4d55-8575-982f8f8558a2",
        "noteable": {
          "cell_type": "markdown"
        }
      },
      "source": [
        "# Combinação e Divisão de Arrays\n",
        "Combinar e dividir arrays são operações fundamentais para manipular conjuntos de dados em Numpy. Elas permitem concatenar diferentes conjuntos de dados ou dividir um conjunto de dados em partes menores. Algumas operações comuns incluem:\n",
        "\n",
        "- **Concatenação**: Combinar vários arrays em um único array.\n",
        "- **Empilhamento**: Empilhar arrays ao longo de um novo eixo, como empilhar matrizes verticalmente ou horizontalmente.\n",
        "- **Divisão**: Dividir um array em várias partes menores, seja em partes iguais ou com base em índices específicos.\n",
        "\n",
        "Vamos explorar alguns exemplos dessas operações para entender como elas funcionam."
      ]
    },
    {
      "cell_type": "code",
      "execution_count": null,
      "id": "IE5o0umSQtdM",
      "metadata": {
        "id": "IE5o0umSQtdM"
      },
      "outputs": [],
      "source": [
        "array1 = np.array([1, 2, 3])\n",
        "array2 = np.array([4, 5, 6])"
      ]
    },
    {
      "cell_type": "code",
      "execution_count": null,
      "id": "jzTMrhC-mDgs",
      "metadata": {
        "id": "jzTMrhC-mDgs"
      },
      "outputs": [],
      "source": [
        "# Exemplo 1: Concatenação de arrays\n",
        "concatenated_array = np.concatenate([array1, array2])"
      ]
    },
    {
      "cell_type": "markdown",
      "id": "lO2Ljws7QGvN",
      "metadata": {
        "id": "lO2Ljws7QGvN"
      },
      "source": [
        "### Empilhamento Vertical (vstack)\n",
        "A função `np.vstack` empilha matrizes verticalmente. Isso significa que as matrizes são unidas em uma nova matriz ao longo das linhas (eixo 0)."
      ]
    },
    {
      "cell_type": "code",
      "execution_count": null,
      "id": "Q7b-w-RAQzmq",
      "metadata": {
        "id": "Q7b-w-RAQzmq"
      },
      "outputs": [],
      "source": [
        "A = np.array([[1, 2], [3, 4]])\n",
        "B = np.array([[5, 6]])\n",
        "\n",
        "C = np.vstack((A, B))\n",
        "C"
      ]
    },
    {
      "cell_type": "code",
      "execution_count": null,
      "id": "YvP7A3zCQ8GV",
      "metadata": {
        "id": "YvP7A3zCQ8GV"
      },
      "outputs": [],
      "source": [
        "# Exemplo 2: Empilhamento de matrizes\n",
        "matrix1 = np.array([[1, 2], [3, 4]])\n",
        "matrix2 = np.array([[5, 6], [7, 8]])"
      ]
    },
    {
      "cell_type": "code",
      "execution_count": null,
      "id": "Ydp9vMh_QLHU",
      "metadata": {
        "id": "Ydp9vMh_QLHU"
      },
      "outputs": [],
      "source": [
        "stacked_vertically = np.vstack([matrix1, matrix2])"
      ]
    },
    {
      "cell_type": "code",
      "execution_count": null,
      "id": "FX8jJ2-9u5xe",
      "metadata": {
        "id": "FX8jJ2-9u5xe"
      },
      "outputs": [],
      "source": [
        "stacked_vertically"
      ]
    },
    {
      "cell_type": "markdown",
      "id": "JDt2kRSUQR4c",
      "metadata": {
        "id": "JDt2kRSUQR4c"
      },
      "source": [
        "### Empilhamento Horizontal (hstack)\n",
        "A função `np.hstack` empilha matrizes horizontalmente. Isso significa que as matrizes são unidas em uma nova matriz ao longo das colunas (eixo 1)."
      ]
    },
    {
      "cell_type": "code",
      "execution_count": null,
      "id": "Fq-sOgJlRA_j",
      "metadata": {
        "id": "Fq-sOgJlRA_j"
      },
      "outputs": [],
      "source": [
        "A = np.array([[1, 2], [3, 4]])\n",
        "B = np.array([[5], [6]])\n",
        "\n",
        "C = np.hstack((A, B))\n",
        "C"
      ]
    },
    {
      "cell_type": "code",
      "execution_count": null,
      "id": "-VuAgWrDQ-Wb",
      "metadata": {
        "id": "-VuAgWrDQ-Wb"
      },
      "outputs": [],
      "source": [
        "# Exemplo 2: Empilhamento de matrizes\n",
        "matrix1 = np.array([[1, 2], [3, 4]])\n",
        "matrix2 = np.array([[5, 6], [7, 8]])"
      ]
    },
    {
      "cell_type": "code",
      "execution_count": null,
      "id": "8G9mzu6JQN3K",
      "metadata": {
        "id": "8G9mzu6JQN3K"
      },
      "outputs": [],
      "source": [
        "stacked_horizontally = np.hstack([matrix1, matrix2])"
      ]
    },
    {
      "cell_type": "code",
      "execution_count": null,
      "id": "xoLNrHwQu9p0",
      "metadata": {
        "id": "xoLNrHwQu9p0"
      },
      "outputs": [],
      "source": [
        "stacked_horizontally"
      ]
    },
    {
      "cell_type": "markdown",
      "id": "wkZEJ3UPQkN2",
      "metadata": {
        "id": "wkZEJ3UPQkN2"
      },
      "source": [
        "### Split"
      ]
    },
    {
      "cell_type": "code",
      "execution_count": null,
      "id": "DkSjI-ktmGZV",
      "metadata": {
        "id": "DkSjI-ktmGZV"
      },
      "outputs": [],
      "source": [
        "# Exemplo 3: Divisão de um array\n",
        "array_to_split = np.array([1, 2, 3, 4, 5, 6])\n",
        "split_arrays = np.split(array_to_split, 3)"
      ]
    },
    {
      "cell_type": "code",
      "execution_count": null,
      "id": "u9GgMtTfvHlr",
      "metadata": {
        "id": "u9GgMtTfvHlr"
      },
      "outputs": [],
      "source": [
        "type(split_arrays)"
      ]
    },
    {
      "cell_type": "markdown",
      "id": "60231a60-fa3b-4a24-a82d-af008db31160",
      "metadata": {
        "id": "60231a60-fa3b-4a24-a82d-af008db31160",
        "noteable": {
          "cell_type": "markdown"
        }
      },
      "source": [
        "# Indexação Avançada\n",
        "A indexação avançada em Numpy permite acessar partes específicas de um array de maneira flexível e eficiente. Isso é útil para filtrar, selecionar e manipular dados de maneira complexa. Algumas técnicas comuns de indexação avançada incluem:\n",
        "\n",
        "- **Indexação Sofisticada (Fancy Indexing)**: Usar arrays de índices para acessar elementos específicos em um array.\n",
        "\n",
        "- **Indexação Booleana**: Usar uma matriz booleana para filtrar elementos com base em uma condição.\n",
        "\n",
        "\n",
        "Vamos explorar alguns exemplos dessas técnicas para entender como elas funcionam."
      ]
    },
    {
      "cell_type": "code",
      "execution_count": null,
      "id": "3qvLvvI9mPsV",
      "metadata": {
        "id": "3qvLvvI9mPsV"
      },
      "outputs": [],
      "source": [
        "matrix = np.array([[1, 2, 3], [4, 5, 6], [7, 8, 9]])\n",
        "matrix"
      ]
    },
    {
      "cell_type": "code",
      "execution_count": null,
      "id": "9nG8USU5mKkf",
      "metadata": {
        "id": "9nG8USU5mKkf"
      },
      "outputs": [],
      "source": [
        "# Indexação Avançada (Fancy Indexing)\n",
        "rows = np.array([0, 1, 1])\n",
        "cols = np.array([1, 2, 1])\n",
        "selected_elements = matrix[rows, cols]\n",
        "selected_elements"
      ]
    },
    {
      "cell_type": "code",
      "execution_count": null,
      "id": "00L6TQ2VmRQs",
      "metadata": {
        "id": "00L6TQ2VmRQs"
      },
      "outputs": [],
      "source": [
        "matrix"
      ]
    },
    {
      "cell_type": "code",
      "execution_count": null,
      "id": "RxPN-E9_mJE0",
      "metadata": {
        "id": "RxPN-E9_mJE0"
      },
      "outputs": [],
      "source": [
        "# Indexação Booleana\n",
        "filtered_elements = matrix[matrix > 4]"
      ]
    },
    {
      "cell_type": "code",
      "execution_count": null,
      "id": "QN3yDWl8mUOE",
      "metadata": {
        "id": "QN3yDWl8mUOE"
      },
      "outputs": [],
      "source": [
        "filtered_elements"
      ]
    },
    {
      "cell_type": "code",
      "execution_count": null,
      "id": "of4hb_MGpcuu",
      "metadata": {
        "id": "of4hb_MGpcuu"
      },
      "outputs": [],
      "source": [
        "mask = matrix % 2 == 0\n",
        "even_numbers = matrix[mask]"
      ]
    },
    {
      "cell_type": "code",
      "execution_count": null,
      "id": "Skt7OmHbpuRn",
      "metadata": {
        "id": "Skt7OmHbpuRn"
      },
      "outputs": [],
      "source": [
        "print(even_numbers)"
      ]
    },
    {
      "cell_type": "code",
      "execution_count": null,
      "id": "HKb0XMeGpoBe",
      "metadata": {
        "id": "HKb0XMeGpoBe"
      },
      "outputs": [],
      "source": [
        "mask = matrix > 3\n",
        "filtered_values = matrix[mask]"
      ]
    },
    {
      "cell_type": "code",
      "execution_count": null,
      "id": "QUBTiLzvpwaN",
      "metadata": {
        "id": "QUBTiLzvpwaN"
      },
      "outputs": [],
      "source": [
        "print(filtered_values)"
      ]
    },
    {
      "cell_type": "code",
      "execution_count": null,
      "id": "LN3Q9pZMp14M",
      "metadata": {
        "id": "LN3Q9pZMp14M"
      },
      "outputs": [],
      "source": [
        "mask = (matrix > 3) & (matrix < 8)\n",
        "filtered_values = matrix[mask]"
      ]
    },
    {
      "cell_type": "code",
      "execution_count": null,
      "id": "vD0BYPa_p4Pu",
      "metadata": {
        "id": "vD0BYPa_p4Pu"
      },
      "outputs": [],
      "source": [
        "print(filtered_values)"
      ]
    },
    {
      "cell_type": "markdown",
      "id": "398972d6-5152-49ca-82b3-e093f57eb5b8",
      "metadata": {
        "id": "398972d6-5152-49ca-82b3-e093f57eb5b8",
        "noteable": {
          "cell_type": "markdown"
        }
      },
      "source": [
        "## 5. Álgebra Linear Básica\n",
        "A álgebra linear é um campo fundamental em matemática e ciência da computação. NumPy fornece ferramentas para realizar operações básicas de álgebra linear, como soma e produto escalar.\n",
        "\n",
        "### 5.1 Soma de Matrizes\n",
        "A soma de matrizes é realizada adicionando os elementos correspondentes das matrizes.\n",
        "\n",
        "### 5.2 Produto Escalar\n",
        "O produto escalar, ou produto ponto, é uma operação que pega duas matrizes do mesmo tamanho e retorna uma matriz do mesmo tamanho, onde cada elemento é o produto dos elementos correspondentes das matrizes de entrada.\n",
        "\n",
        "Vamos explorar esses conceitos com exemplos de código."
      ]
    },
    {
      "cell_type": "code",
      "execution_count": null,
      "id": "d17006b8-ba89-4e00-b298-1ba0a5255aaf",
      "metadata": {
        "id": "d17006b8-ba89-4e00-b298-1ba0a5255aaf",
        "noteable": {
          "cell_type": "code"
        }
      },
      "outputs": [],
      "source": [
        "# Soma de Matrizes\n",
        "matriz_A = np.array([[1, 2], [3, 4]])\n",
        "matriz_B = np.array([[5, 6], [7, 8]])"
      ]
    },
    {
      "cell_type": "code",
      "execution_count": null,
      "id": "xsliRAbBRXMF",
      "metadata": {
        "id": "xsliRAbBRXMF"
      },
      "outputs": [],
      "source": [
        "matriz_A"
      ]
    },
    {
      "cell_type": "code",
      "execution_count": null,
      "id": "BaINwxUhRc6F",
      "metadata": {
        "id": "BaINwxUhRc6F"
      },
      "outputs": [],
      "source": [
        "matriz_B"
      ]
    },
    {
      "cell_type": "code",
      "execution_count": null,
      "id": "VqjrO6Psq2gd",
      "metadata": {
        "id": "VqjrO6Psq2gd"
      },
      "outputs": [],
      "source": [
        "soma_matrizes = matriz_A + matriz_B"
      ]
    },
    {
      "cell_type": "code",
      "execution_count": null,
      "id": "VIp5j9k_qz41",
      "metadata": {
        "id": "VIp5j9k_qz41"
      },
      "outputs": [],
      "source": [
        "# Produto Escalar\n",
        "produto_escalar = np.dot(matriz_A, matriz_B)\n",
        "produto_escalar"
      ]
    },
    {
      "cell_type": "markdown",
      "id": "d02b219a-726f-4601-ae62-971046be8086",
      "metadata": {
        "id": "d02b219a-726f-4601-ae62-971046be8086",
        "noteable": {
          "cell_type": "markdown"
        }
      },
      "source": [
        "## Exercícios\n",
        "Aqui estão as soluções para os exercícios propostos na seção anterior. É altamente recomendável tentar resolver os exercícios por conta própria antes de verificar as respostas aqui.\n",
        "\n",
        "### Exercício 1: Crie um Array 1D\n",
        "\n",
        "Crie um array 1D com os números de 1 a 10 usando o NumPy."
      ]
    },
    {
      "cell_type": "code",
      "execution_count": null,
      "id": "5DF4DknkSctz",
      "metadata": {
        "id": "5DF4DknkSctz"
      },
      "outputs": [],
      "source": []
    },
    {
      "cell_type": "code",
      "execution_count": null,
      "id": "d530a282-30e2-41a9-8417-6a7d799bdc72",
      "metadata": {
        "id": "d530a282-30e2-41a9-8417-6a7d799bdc72",
        "noteable": {
          "cell_type": "code"
        }
      },
      "outputs": [],
      "source": [
        "# @title Resolução do Exercício 1\n",
        "array_1d = np.arange(1, 11)\n",
        "array_1d"
      ]
    },
    {
      "cell_type": "markdown",
      "id": "b78d6d04-1497-4b49-b935-5ced6538c9f7",
      "metadata": {
        "id": "b78d6d04-1497-4b49-b935-5ced6538c9f7",
        "noteable": {
          "cell_type": "markdown"
        }
      },
      "source": [
        "### Exercício 2: Reshape e Transposição\n",
        "\n",
        "Pegue o array 1D criado no exercício anterior e transforme-o em uma matriz 2x5. Em seguida, transponha a matriz."
      ]
    },
    {
      "cell_type": "code",
      "execution_count": null,
      "id": "eb7bb294-7752-450c-88ff-171190427b81",
      "metadata": {
        "id": "eb7bb294-7752-450c-88ff-171190427b81",
        "noteable": {
          "cell_type": "code"
        }
      },
      "outputs": [],
      "source": [
        "# @title Resolução do Exercício 2\n",
        "matriz_2x5 = array_1d.reshape(2, 5)\n",
        "matriz_transposta = matriz_2x5.T\n",
        "matriz_2x5, matriz_transposta"
      ]
    },
    {
      "cell_type": "markdown",
      "id": "58b1dc16-0219-4d2e-b146-2025040ffb62",
      "metadata": {
        "id": "58b1dc16-0219-4d2e-b146-2025040ffb62",
        "noteable": {
          "cell_type": "markdown"
        }
      },
      "source": [
        "### Exercício 3: Operações Aritméticas\n",
        "\n",
        "Crie dois arrays 2D e realize operações de adição, subtração, multiplicação e divisão entre eles."
      ]
    },
    {
      "cell_type": "code",
      "execution_count": null,
      "id": "3b07f1d5-9fe1-4747-922e-ecf531cf2e81",
      "metadata": {
        "id": "3b07f1d5-9fe1-4747-922e-ecf531cf2e81",
        "noteable": {
          "cell_type": "code"
        }
      },
      "outputs": [],
      "source": [
        "# @title Resolução do Exercício 3\n",
        "array_A = np.array([[1, 2], [3, 4]])\n",
        "array_B = np.array([[5, 6], [7, 8]])\n",
        "soma_arrays = array_A + array_B\n",
        "subtracao_arrays = array_A - array_B\n",
        "multiplicacao_arrays = array_A * array_B\n",
        "divisao_arrays = array_A / array_B\n",
        "soma_arrays, subtracao_arrays, multiplicacao_arrays, divisao_arrays"
      ]
    },
    {
      "cell_type": "markdown",
      "id": "d4234e15-0e36-44a0-bbd3-e43281fad7a8",
      "metadata": {
        "id": "d4234e15-0e36-44a0-bbd3-e43281fad7a8",
        "noteable": {
          "cell_type": "markdown"
        }
      },
      "source": [
        "### Exercício 4: Estatísticas de um Array\n",
        "\n",
        "Calcule a média, mediana e desvio padrão de um array."
      ]
    },
    {
      "cell_type": "code",
      "execution_count": null,
      "id": "03a61381-6eb2-4e27-8f6c-88c7d4104179",
      "metadata": {
        "id": "03a61381-6eb2-4e27-8f6c-88c7d4104179",
        "noteable": {
          "cell_type": "code"
        }
      },
      "outputs": [],
      "source": [
        "# @title Resolução do Exercício 4\n",
        "array_estatisticas = np.array([10, 20, 30, 40, 50])\n",
        "media = np.mean(array_estatisticas)\n",
        "mediana = np.median(array_estatisticas)\n",
        "desvio_padrao = np.std(array_estatisticas)\n",
        "media, mediana, desvio_padrao"
      ]
    }
  ],
  "metadata": {
    "colab": {
      "provenance": []
    },
    "kernel_info": {
      "name": "python3"
    },
    "kernelspec": {
      "display_name": "Python 3.9",
      "language": "python",
      "name": "python3"
    },
    "language_info": {
      "codemirror_mode": {
        "name": "ipython",
        "version": 3
      },
      "file_extension": ".py",
      "mimetype": "text/x-python",
      "name": "python",
      "nbconvert_exporter": "python",
      "pygments_lexer": "ipython3",
      "version": "3.11.4"
    },
    "noteable": {
      "last_delta_id": "a3034b9c-6109-4f98-b457-365b4a792a64",
      "last_transaction_id": "a3034b9c-6109-4f98-b457-365b4a792a64"
    },
    "noteable-chatgpt": {
      "create_notebook": {
        "openai_conversation_id": "ba48da57-f3c8-5dff-892d-29a551cd3e56",
        "openai_ephemeral_user_id": "47885448-1d39-5d90-b387-47752f4cb756",
        "openai_subdivision1_iso_code": "BR-RJ"
      }
    },
    "nteract": {
      "version": "noteable@2.9.0"
    },
    "selected_hardware_size": "small"
  },
  "nbformat": 4,
  "nbformat_minor": 5
}
