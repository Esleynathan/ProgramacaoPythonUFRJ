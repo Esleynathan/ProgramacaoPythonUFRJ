{
  "cells": [
    {
      "cell_type": "markdown",
      "source": [
        "# Introdução ao Numpy\n",
        "Numpy é uma biblioteca poderosa para computação numérica em Python. É amplamente utilizada em Ciência de Dados, Engenharia e outras áreas que requerem cálculos matemáticos rápidos e eficientes. Nesta seção, vamos explorar o que é Numpy, por que é tão importante e como começar a usá-lo."
      ],
      "metadata": {
        "noteable": {
          "cell_type": "markdown"
        },
        "id": "216c9f6f-83f4-49bd-8b95-13c1c85c8bbe"
      },
      "id": "216c9f6f-83f4-49bd-8b95-13c1c85c8bbe"
    },
    {
      "cell_type": "markdown",
      "source": [
        "## O que é Numpy?\n",
        "Numpy (Numerical Python) é uma biblioteca para a linguagem de programação Python para processamento numérico. A maior parte das bibliotecas de processamento com funcionalidades científicas utiliza objetos array do NumPy para a troca de dados.\n",
        "\n",
        "## Por que usar Numpy em Ciência de Dados?\n",
        "Numpy é fundamental para a Ciência de Dados por várias razões:\n",
        "- **Desempenho**: É escrito em C e fornece operações eficientes em arrays.\n",
        "- **Flexibilidade**: Pode lidar com uma ampla variedade de tipos de dados.\n",
        "- **Integração**: Funciona bem com outras bibliotecas de Ciência de Dados como Pandas, Matplotlib, Scikit-learn, etc.\n",
        "\n",
        "## Instalação e Importação\n",
        "Numpy pode ser instalado usando pip ou conda, e é geralmente importado com o alias `np`.\n",
        "\n",
        "Para instalar usando pip:\n",
        "```bash\n",
        "pip install numpy\n",
        "```\n",
        "\n",
        "Para instalar usando conda:\n",
        "```bash\n",
        "conda install numpy\n",
        "```\n",
        "\n",
        "Para importar Numpy em seu código Python:\n",
        "```python\n",
        "import numpy as np\n",
        "```"
      ],
      "metadata": {
        "noteable": {
          "cell_type": "markdown"
        },
        "id": "64a9cea8-9ce6-42ba-b524-fe4cc08e3568"
      },
      "id": "64a9cea8-9ce6-42ba-b524-fe4cc08e3568"
    },
    {
      "cell_type": "code",
      "source": [
        "import numpy as np"
      ],
      "metadata": {
        "id": "E5utoqSletz_"
      },
      "id": "E5utoqSletz_",
      "execution_count": null,
      "outputs": []
    },
    {
      "cell_type": "markdown",
      "source": [
        "### Principais recursos encontrados no NumPy:\n",
        "\n",
        "* ndarray: estrutura multidimensional de dados numéricos\n",
        "* Funções matemáticas\n",
        "* Recursos de álgebra linear e geração de números aleatórios\n",
        "\n"
      ],
      "metadata": {
        "id": "fXH-BtwNPrr_"
      },
      "id": "fXH-BtwNPrr_"
    },
    {
      "cell_type": "markdown",
      "source": [
        "### A compreensão dos arrays NumPy ajudará você a utilizar ferramentas com semântica orientada a arrays, como o Pandas.\n",
        "\n",
        "NumPy foi projetado para ser eficaz em arrays de grandes dados, daí vem a sua importância para processamentos numéricos em Python."
      ],
      "metadata": {
        "id": "6DyyHPU0Qh5e"
      },
      "id": "6DyyHPU0Qh5e"
    },
    {
      "cell_type": "code",
      "source": [
        "# Um exemplo da velocidade do NumPy\n",
        "\n",
        "my_array = np.arange(1000000)\n",
        "my_list = list(range(1000000))\n",
        "\n",
        "# Vamos multiplicar cada sequência por 2\n",
        "\n",
        "%time for _ in range(10): my_array2 = my_array * 2\n",
        "\n",
        "%time for _ in range(10): my_list2 = [x * 2 for x in my_list]\n",
        "\n"
      ],
      "metadata": {
        "id": "On1Ifm6qRkrV"
      },
      "id": "On1Ifm6qRkrV",
      "execution_count": null,
      "outputs": []
    },
    {
      "cell_type": "markdown",
      "source": [
        "o `%time` é um comando mágico utilizado em ambientes como o Jupyter Notebook para medir o tempo de execução de uma única instrução ou de um bloco de código.\n",
        "\n",
        "No código `%time for _ in range(10):`, o `_` é usado como uma convenção para representar uma variável temporária que não será usada no corpo do `loop`. Normalmente, quando você itera sobre algo usando um loop for, precisa atribuir um nome a cada item que está sendo iterado, como por exemplo for item in lista:. No entanto, em algumas situações, você pode não se importar com o valor individual de cada item na iteração, mas apenas com a execução do loop um certo número de vezes.\n",
        "\n",
        "Nesse contexto, a convenção de usar _ como nome da variável é uma maneira de indicar que o valor da variável não é relevante para a lógica do loop. Isso é especialmente útil quando você está interessado apenas em executar uma operação repetidas vezes, sem se preocupar com os valores dos itens individuais na iteração. Portanto, o _ é uma maneira de informar aos leitores do código que você está ignorando a variável de iteração.\n",
        "\n",
        "No código em questão, a multiplicação `my_arr * 2` é executada 10 vezes consecutivas, mas o resultado de cada iteração não é utilizado. O _ é utilizado para \"receber\" os valores da iteração, mas como esses valores não são usados, o _ indica que esses valores não são relevantes nesse contexto."
      ],
      "metadata": {
        "id": "t4TS3KsXfWU-"
      },
      "id": "t4TS3KsXfWU-"
    },
    {
      "cell_type": "markdown",
      "source": [
        "### Os algoritmos utilizando NumPy são de 10 a 100 vezes mais rápidos do que aqueles em Python puro. Também utilizam menos memória."
      ],
      "metadata": {
        "id": "0ytLJ3btTAim"
      },
      "id": "0ytLJ3btTAim"
    },
    {
      "cell_type": "markdown",
      "source": [
        "# Arrays Numpy\n",
        "Arrays são a estrutura de dados central em Numpy. Eles são eficientes, flexíveis e formam a base para muitas operações matemáticas. Nesta seção, vamos explorar como criar arrays, entender seus atributos e aprender a indexar e fatiar arrays.\n",
        "\n",
        "## Criação de Arrays\n",
        "Arrays podem ser criados de várias maneiras, incluindo a partir de listas, usando funções específicas como `np.zeros`, `np.ones`, `np.arange`, etc. Vamos começar com alguns exemplos básicos de criação de arrays."
      ],
      "metadata": {
        "noteable": {
          "cell_type": "markdown"
        },
        "id": "45e35af9-3225-4174-ba66-d6a608ca6550"
      },
      "id": "45e35af9-3225-4174-ba66-d6a608ca6550"
    },
    {
      "cell_type": "code",
      "source": [
        "import numpy as np\n",
        "\n",
        "# Criando um array a partir de uma lista\n",
        "array_from_list = np.array([1, 2, 3, 4, 5])\n",
        "array_from_list"
      ],
      "outputs": [],
      "execution_count": null,
      "metadata": {
        "noteable": {
          "cell_type": "code"
        },
        "ExecuteTime": {
          "end_time": "2023-08-20T17:17:31.499270+00:00",
          "start_time": "2023-08-20T17:17:31.338058+00:00"
        },
        "id": "6f02c6a3-e16d-4714-a0f3-a11689a1e8fa"
      },
      "id": "6f02c6a3-e16d-4714-a0f3-a11689a1e8fa"
    },
    {
      "cell_type": "code",
      "source": [
        "# Criando um array de zeros\n",
        "zeros_array = np.zeros(5)"
      ],
      "metadata": {
        "id": "5BymnBqRV-uy"
      },
      "id": "5BymnBqRV-uy",
      "execution_count": null,
      "outputs": []
    },
    {
      "cell_type": "code",
      "source": [
        "# Criando um array de uns\n",
        "ones_array = np.ones(3)"
      ],
      "metadata": {
        "id": "5HQbu2v-WAVi"
      },
      "id": "5HQbu2v-WAVi",
      "execution_count": null,
      "outputs": []
    },
    {
      "cell_type": "code",
      "source": [
        "# Criando um array com um intervalo de valores\n",
        "range_array = np.arange(0.5, 10.7, 1)\n",
        "range_array"
      ],
      "metadata": {
        "id": "GRaIym0NWByE"
      },
      "id": "GRaIym0NWByE",
      "execution_count": null,
      "outputs": []
    },
    {
      "cell_type": "code",
      "source": [
        "# Criando um array com valores espaçados uniformemente\n",
        "linspace_array = np.linspace(0, 10, 5)\n",
        "linspace_array"
      ],
      "metadata": {
        "id": "BbTyLCmKWDGJ"
      },
      "id": "BbTyLCmKWDGJ",
      "execution_count": null,
      "outputs": []
    },
    {
      "cell_type": "markdown",
      "source": [
        "* Um ndarray é uma estrutura de que armazena dados homogêneos - todos os elementos devem ser do mesmo tipo.\n",
        "* Todo array possui\n",
        "  * um `shape` - uma tupla que dá o tamanho de cada dimensão do array\n",
        "  * um `dtype`- um objeto que descreve o tipo de dados armazenado no array"
      ],
      "metadata": {
        "id": "LX2wiq9_XTUr"
      },
      "id": "LX2wiq9_XTUr"
    },
    {
      "cell_type": "code",
      "source": [
        "mix = np.array([2,3,4])\n",
        "mix"
      ],
      "metadata": {
        "id": "Tp2h-zsVWFW5"
      },
      "id": "Tp2h-zsVWFW5",
      "execution_count": null,
      "outputs": []
    },
    {
      "cell_type": "code",
      "source": [
        "mix.shape"
      ],
      "metadata": {
        "id": "eKg-AJ5PYJ3Q"
      },
      "id": "eKg-AJ5PYJ3Q",
      "execution_count": null,
      "outputs": []
    },
    {
      "cell_type": "code",
      "source": [
        "mix.dtype"
      ],
      "metadata": {
        "id": "PnqN2XMHWfQB"
      },
      "id": "PnqN2XMHWfQB",
      "execution_count": null,
      "outputs": []
    },
    {
      "cell_type": "markdown",
      "metadata": {
        "id": "mzKLU6XIiSul"
      },
      "source": [
        "## Funções NumPy para números aleatórios"
      ],
      "id": "mzKLU6XIiSul"
    },
    {
      "cell_type": "markdown",
      "source": [
        "**numpy.random.randn( )**\n",
        "\n",
        "Gera uma amostra (ou amostras) a partir de uma distribuição normal padrão, também conhecida como distribuição Gaussiana."
      ],
      "metadata": {
        "id": "ozcPwArAX_nK"
      },
      "id": "ozcPwArAX_nK"
    },
    {
      "cell_type": "code",
      "metadata": {
        "id": "7YorGUZSvz2G"
      },
      "source": [
        "# Retorna um array nas dimensões indicadas com distribuição normal (média=0, variância =1)\n",
        "\n",
        "np.random.randn(3, 4)"
      ],
      "execution_count": null,
      "outputs": [],
      "id": "7YorGUZSvz2G"
    },
    {
      "cell_type": "code",
      "source": [
        "import numpy as np\n",
        "import matplotlib.pyplot as plt\n",
        "\n",
        "# Gerar 1000 amostras de uma distribuição normal padrão\n",
        "data = np.random.randn(100000)\n",
        "\n",
        "# Criar um histograma dos dados\n",
        "plt.hist(data, bins=100, edgecolor='black', alpha=0.7)\n",
        "\n",
        "# Adicionar títulos e rótulos aos eixos\n",
        "plt.title('Histograma de uma Distribuição Normal Padrão')\n",
        "plt.xlabel('Valor')\n",
        "plt.ylabel('Densidade')\n",
        "\n",
        "# Mostrar o gráfico\n",
        "plt.show()\n"
      ],
      "metadata": {
        "id": "zwcXg3pjcUxU"
      },
      "id": "zwcXg3pjcUxU",
      "execution_count": null,
      "outputs": []
    },
    {
      "cell_type": "markdown",
      "source": [
        "\n",
        "**numpy.random.rand( )**\n",
        "\n",
        "Gera valores aleatórios de ponto flutuante uniformemente distribuídos no intervalo [0, 1). Esses valores são distribuídos de maneira uniforme, o que significa que qualquer valor dentro desse intervalo tem a mesma probabilidade de ser escolhido."
      ],
      "metadata": {
        "id": "5p0V8G_JYPyE"
      },
      "id": "5p0V8G_JYPyE"
    },
    {
      "cell_type": "code",
      "metadata": {
        "id": "ykFGFLHjC2aQ"
      },
      "source": [
        "# Cria um array nas dimensões indicadas com uma distribuição uniforme no intervalo [0, 1).\n",
        "\n",
        "np.random.rand(3, 4)"
      ],
      "execution_count": null,
      "outputs": [],
      "id": "ykFGFLHjC2aQ"
    },
    {
      "cell_type": "code",
      "source": [
        "import numpy as np\n",
        "import matplotlib.pyplot as plt\n",
        "\n",
        "# Gerar 1000 amostras de uma distribuição uniforme no intervalo [0, 1)\n",
        "data = np.random.rand(10000)\n",
        "\n",
        "# Criar um histograma dos dados\n",
        "plt.hist(data, bins=100, density=True, edgecolor='black', alpha=0.7)\n",
        "\n",
        "# Adicionar títulos e rótulos aos eixos\n",
        "plt.title('Histograma de uma Distribuição Uniforme')\n",
        "plt.xlabel('Valor')\n",
        "plt.ylabel('Densidade')\n",
        "\n",
        "# Mostrar o gráfico\n",
        "plt.show()\n"
      ],
      "metadata": {
        "id": "iQDGyLcah2Ow"
      },
      "id": "iQDGyLcah2Ow",
      "execution_count": null,
      "outputs": []
    },
    {
      "cell_type": "markdown",
      "source": [],
      "metadata": {
        "id": "wL5E30RBjR6f"
      },
      "id": "wL5E30RBjR6f"
    },
    {
      "cell_type": "markdown",
      "source": [
        "**numpy.random.randint( )**\n",
        "\n",
        "Gera inteiros aleatórios de uma distribuição uniforme discreta dentro de um intervalo especificado."
      ],
      "metadata": {
        "id": "w-t9a6wAYH-O"
      },
      "id": "w-t9a6wAYH-O"
    },
    {
      "cell_type": "markdown",
      "source": [
        "`numpy.random.randint(low, high=None, size=None)`\n",
        "\n",
        "* low: O valor mais baixo (inclusivo) na distribuição.\n",
        "* high: O valor mais alto (exclusivo) na distribuição. Se high for None, os valores serão gerados no intervalo [0, low).\n",
        "* size: O tamanho da saída. Pode ser um inteiro ou uma tupla para gerar uma matriz multidimensional."
      ],
      "metadata": {
        "id": "rGtQoG95jBcY"
      },
      "id": "rGtQoG95jBcY"
    },
    {
      "cell_type": "code",
      "metadata": {
        "id": "7g6h2xasC795"
      },
      "source": [
        "# Retorna um inteiro aletório no intervalo indicado: inferior(inclusivo) até superior (exclusivo)\n",
        "\n",
        "np.random.randint(1, 100)"
      ],
      "execution_count": null,
      "outputs": [],
      "id": "7g6h2xasC795"
    },
    {
      "cell_type": "code",
      "source": [
        "# O primeiro argumento define o valor máximo (exclusivo) de cada elemento para a criação do array\n",
        "\n",
        "np.random.randint(5, size=5)"
      ],
      "metadata": {
        "id": "htxOxJUtXyLc"
      },
      "execution_count": null,
      "outputs": [],
      "id": "htxOxJUtXyLc"
    },
    {
      "cell_type": "code",
      "source": [
        "# Aqui, definimos o tamanho do array que queremos retornar com números aleatórios. Os dois primeiros parâmetros\n",
        "#indicam o intervalo desejado\n",
        "\n",
        "np.random.randint(5, 15, size=(2, 4))"
      ],
      "metadata": {
        "id": "frSBlkRuXsPO"
      },
      "execution_count": null,
      "outputs": [],
      "id": "frSBlkRuXsPO"
    },
    {
      "cell_type": "code",
      "source": [
        "import numpy as np\n",
        "import matplotlib.pyplot as plt\n",
        "\n",
        "# Gerar 1000 inteiros aleatórios no intervalo [0, 10)\n",
        "data = np.random.randint(0, 10, 1000)\n",
        "\n",
        "# Criar um histograma dos dados\n",
        "plt.hist(data, bins=10, range=(0,10), edgecolor='black', alpha=0.7)\n",
        "\n",
        "# Adicionar títulos e rótulos aos eixos\n",
        "plt.title('Histograma de uma Distribuição Uniforme Discreta')\n",
        "plt.xlabel('Valor')\n",
        "plt.ylabel('Densidade')\n",
        "\n",
        "# Mostrar o gráfico\n",
        "plt.show()"
      ],
      "metadata": {
        "id": "VNocST70kNAt"
      },
      "id": "VNocST70kNAt",
      "execution_count": null,
      "outputs": []
    },
    {
      "cell_type": "markdown",
      "source": [
        "## Atributos de Arrays\n",
        "Cada array Numpy possui vários atributos que fornecem informações sobre sua forma, tamanho, tipo de dados, etc. Vamos explorar alguns dos atributos mais comuns:\n",
        "- **shape**: Retorna a forma do array (número de linhas, colunas, etc.).\n",
        "- **size**: Retorna o número total de elementos no array.\n",
        "- **dtype**: Retorna o tipo de dados dos elementos no array.\n",
        "- **ndim**: Retorna o número de dimensões do array.\n",
        "\n",
        "Vamos examinar esses atributos em um exemplo."
      ],
      "metadata": {
        "noteable": {
          "cell_type": "markdown"
        },
        "id": "99ed11ce-71d4-407a-8050-3e1e9312be76"
      },
      "id": "99ed11ce-71d4-407a-8050-3e1e9312be76"
    },
    {
      "cell_type": "code",
      "source": [
        "# Criando um array bidimensional\n",
        "two_dimensional_array = np.array([[1, 2, 3], [4, 5, 6], [7, 8, 9]])"
      ],
      "metadata": {
        "id": "MW_DOlIsYg-Q"
      },
      "id": "MW_DOlIsYg-Q",
      "execution_count": null,
      "outputs": []
    },
    {
      "cell_type": "code",
      "source": [
        "# Examinando os atributos\n",
        "shape = two_dimensional_array.shape\n",
        "shape"
      ],
      "outputs": [],
      "execution_count": null,
      "metadata": {
        "noteable": {
          "cell_type": "code"
        },
        "ExecuteTime": {
          "end_time": "2023-08-20T17:19:06.829435+00:00",
          "start_time": "2023-08-20T17:19:06.668378+00:00"
        },
        "id": "d7061379-1bfb-4f3c-8876-00966237577f"
      },
      "id": "d7061379-1bfb-4f3c-8876-00966237577f"
    },
    {
      "cell_type": "code",
      "source": [
        "size = two_dimensional_array.size"
      ],
      "metadata": {
        "id": "G_S48SbyZ_Ae"
      },
      "id": "G_S48SbyZ_Ae",
      "execution_count": null,
      "outputs": []
    },
    {
      "cell_type": "code",
      "source": [
        "dtype = two_dimensional_array.dtype"
      ],
      "metadata": {
        "id": "m_g8VgZ2aA3v"
      },
      "id": "m_g8VgZ2aA3v",
      "execution_count": null,
      "outputs": []
    },
    {
      "cell_type": "code",
      "source": [
        "ndim = two_dimensional_array.ndim"
      ],
      "metadata": {
        "id": "yom-o-09aDUu"
      },
      "id": "yom-o-09aDUu",
      "execution_count": null,
      "outputs": []
    },
    {
      "cell_type": "markdown",
      "source": [
        "## Indexação e Fatiamento\n",
        "A indexação e o fatiamento permitem acessar e modificar elementos específicos ou subconjuntos de um array. Isso é semelhante à indexação de listas em Python, mas com a capacidade de acessar múltiplas dimensões.\n",
        "\n",
        "### Indexação\n",
        "Podemos acessar um elemento específico em um array fornecendo o índice de sua posição. Em um array bidimensional, fornecemos dois índices: um para a linha e outro para a coluna.\n",
        "\n",
        "### Fatiamento\n",
        "O fatiamento permite acessar uma subseção do array usando a notação `start:stop:step`. Podemos fatiar ao longo de qualquer dimensão de um array.\n",
        "\n",
        "Vamos ver alguns exemplos de indexação e fatiamento."
      ],
      "metadata": {
        "noteable": {
          "cell_type": "markdown"
        },
        "id": "f781e7fb-fa1b-45ea-a53c-2fd94a9d5e7d"
      },
      "id": "f781e7fb-fa1b-45ea-a53c-2fd94a9d5e7d"
    },
    {
      "cell_type": "code",
      "source": [
        "# Exemplo de array bidimensional\n",
        "example_array = np.array([[10, 20, 30], [40, 50, 60], [70, 80, 90]])"
      ],
      "metadata": {
        "id": "dOQLVC8raaJ9"
      },
      "id": "dOQLVC8raaJ9",
      "execution_count": null,
      "outputs": []
    },
    {
      "cell_type": "code",
      "source": [
        "example_array"
      ],
      "metadata": {
        "id": "YbEhLkvXnNRf"
      },
      "id": "YbEhLkvXnNRf",
      "execution_count": null,
      "outputs": []
    },
    {
      "cell_type": "code",
      "source": [
        "# Indexação: Acessando o elemento na segunda linha e terceira coluna (índices 1 e 2)\n",
        "indexed_element = example_array[1, 2]\n",
        "indexed_element"
      ],
      "outputs": [],
      "execution_count": null,
      "metadata": {
        "noteable": {
          "cell_type": "code"
        },
        "ExecuteTime": {
          "end_time": "2023-08-20T17:21:19.999244+00:00",
          "start_time": "2023-08-20T17:21:19.837622+00:00"
        },
        "id": "2b3eab47-c6c1-401c-abf1-57af197f0c91"
      },
      "id": "2b3eab47-c6c1-401c-abf1-57af197f0c91"
    },
    {
      "cell_type": "code",
      "source": [
        "# Fatiamento: Acessando a primeira coluna (todas as linhas, coluna de índice 0)\n",
        "sliced_column = example_array[:, 0]\n",
        "sliced_column"
      ],
      "metadata": {
        "id": "83bkBaJ3adgF"
      },
      "id": "83bkBaJ3adgF",
      "execution_count": null,
      "outputs": []
    },
    {
      "cell_type": "code",
      "source": [
        "# Fatiamento: Acessando as duas primeiras linhas e duas primeiras colunas\n",
        "sliced_subarray = example_array[:2, :2]"
      ],
      "metadata": {
        "id": "l3F1TH5wafs_"
      },
      "id": "l3F1TH5wafs_",
      "execution_count": null,
      "outputs": []
    },
    {
      "cell_type": "code",
      "source": [
        "# criamos o array\n",
        "b = np.arange(10)\n",
        "print(b)"
      ],
      "metadata": {
        "id": "B5IzNL-JObzA"
      },
      "execution_count": null,
      "outputs": [],
      "id": "B5IzNL-JObzA"
    },
    {
      "cell_type": "code",
      "source": [
        "# Extraindo elementos pelo índice (index)\n",
        "\n",
        "print(b[0])\n",
        "print(b[1])\n",
        "print(b[2])\n",
        "print(b[8])\n",
        "print(b[-10])"
      ],
      "metadata": {
        "id": "hJWwEEaKUdOP"
      },
      "execution_count": null,
      "outputs": [],
      "id": "hJWwEEaKUdOP"
    },
    {
      "cell_type": "code",
      "source": [
        "# Slicing\n",
        "\n",
        "b[0:10]"
      ],
      "metadata": {
        "id": "_toA8d6DTyAP"
      },
      "execution_count": null,
      "outputs": [],
      "id": "_toA8d6DTyAP"
    },
    {
      "cell_type": "code",
      "source": [
        "b[:4] # do início (:) até o elemento anterior ao index 4"
      ],
      "metadata": {
        "id": "LPNuWC1uO3mY"
      },
      "execution_count": null,
      "outputs": [],
      "id": "LPNuWC1uO3mY"
    },
    {
      "cell_type": "code",
      "source": [
        "b[2:]"
      ],
      "metadata": {
        "id": "L_rvnVEZUGqn"
      },
      "execution_count": null,
      "outputs": [],
      "id": "L_rvnVEZUGqn"
    },
    {
      "cell_type": "code",
      "source": [
        "b[2:9:2]    # [início:fim:incremento]"
      ],
      "metadata": {
        "id": "pI2REWa-Tb4m"
      },
      "execution_count": null,
      "outputs": [],
      "id": "pI2REWa-Tb4m"
    },
    {
      "cell_type": "code",
      "source": [
        "b[:] # do início ao fim do array"
      ],
      "metadata": {
        "id": "8dInU38sPGKg"
      },
      "execution_count": null,
      "outputs": [],
      "id": "8dInU38sPGKg"
    },
    {
      "cell_type": "code",
      "source": [
        "b[::-1] # do início ao fim do array com passo de 2"
      ],
      "metadata": {
        "id": "sjuN42V0RvmR"
      },
      "execution_count": null,
      "outputs": [],
      "id": "sjuN42V0RvmR"
    },
    {
      "cell_type": "code",
      "source": [
        "novo_arr = b[3:]"
      ],
      "metadata": {
        "id": "ycc5krAgPGB2"
      },
      "execution_count": null,
      "outputs": [],
      "id": "ycc5krAgPGB2"
    },
    {
      "cell_type": "code",
      "source": [
        "novo_arr\n"
      ],
      "metadata": {
        "id": "gHXHD7xZ7nMq"
      },
      "execution_count": null,
      "outputs": [],
      "id": "gHXHD7xZ7nMq"
    },
    {
      "cell_type": "markdown",
      "source": [
        "Atenção!!! Uma operação de corte cria uma visualização do array original, a qual é apenas uma forma de se acessar dos dados da array. Assim, a matriz original não é copiada na memória."
      ],
      "metadata": {
        "id": "DdJhrsbaQL7d"
      },
      "id": "DdJhrsbaQL7d"
    },
    {
      "cell_type": "markdown",
      "metadata": {
        "id": "0cR4lnd4rUJp"
      },
      "source": [
        "### Mais um pouquinho de Slicing: 2-D Arrays"
      ],
      "id": "0cR4lnd4rUJp"
    },
    {
      "cell_type": "code",
      "source": [
        "matriz = np.array([[1,2,3],[6,5,4],[8,7,9]])\n",
        "matriz"
      ],
      "metadata": {
        "id": "Y8FmN5eCPa_B"
      },
      "execution_count": null,
      "outputs": [],
      "id": "Y8FmN5eCPa_B"
    },
    {
      "cell_type": "code",
      "source": [
        "matriz[0, 1]  # da linha de índice 0, pegue o elemento de índice 1, ou seja, da coluna 1"
      ],
      "metadata": {
        "id": "HjZsNaqeQy3S"
      },
      "execution_count": null,
      "outputs": [],
      "id": "HjZsNaqeQy3S"
    },
    {
      "cell_type": "code",
      "metadata": {
        "id": "kJTCrCeFiqRM"
      },
      "source": [
        "matriz[0:2, 1] # das linhas 0 e 2, pegue os elementos da coluna 1"
      ],
      "execution_count": null,
      "outputs": [],
      "id": "kJTCrCeFiqRM"
    },
    {
      "cell_type": "code",
      "metadata": {
        "id": "dNrWVhS3-BwE"
      },
      "source": [
        "matriz[0:3, 1]  # da linha de indice 0 até a linha de indice 2, pegue os elementos da coluna 1"
      ],
      "execution_count": null,
      "outputs": [],
      "id": "dNrWVhS3-BwE"
    },
    {
      "cell_type": "code",
      "source": [
        "matriz[0:2, 0:2] # da linha de indice 0 até a linha de indice 2, pegue os elementos da coluna de indice 0 até a coluna de indice 2"
      ],
      "metadata": {
        "id": "rPCVG3lmlWKH"
      },
      "execution_count": null,
      "outputs": [],
      "id": "rPCVG3lmlWKH"
    },
    {
      "cell_type": "code",
      "metadata": {
        "id": "iIIh4jgy-hSk"
      },
      "source": [
        "matriz[:, 2:]"
      ],
      "execution_count": null,
      "outputs": [],
      "id": "iIIh4jgy-hSk"
    },
    {
      "cell_type": "markdown",
      "source": [
        "# Operações com Arrays\n",
        "Arrays Numpy suportam uma ampla variedade de operações matemáticas e estatísticas. Essas operações são otimizadas para desempenho e são fundamentais para a análise e manipulação de dados numéricos.\n",
        "\n",
        "## Operações Aritméticas\n",
        "Podemos realizar operações aritméticas básicas, como adição, subtração, multiplicação e divisão, diretamente em arrays. Essas operações são aplicadas elemento a elemento e seguem as regras de transmissão (broadcasting) quando os arrays têm formas diferentes.\n",
        "\n",
        "Vamos ver alguns exemplos de operações aritméticas em arrays."
      ],
      "metadata": {
        "noteable": {
          "cell_type": "markdown"
        },
        "id": "8d0a8dd1-2733-4f75-8c43-5333faf17792"
      },
      "id": "8d0a8dd1-2733-4f75-8c43-5333faf17792"
    },
    {
      "cell_type": "code",
      "source": [
        "# Definindo dois arrays para operações\n",
        "a = np.array([1, 2, 3])\n",
        "b = np.array([4, 5, 6])"
      ],
      "outputs": [],
      "execution_count": null,
      "metadata": {
        "noteable": {
          "cell_type": "code"
        },
        "ExecuteTime": {
          "end_time": "2023-08-20T17:23:49.737089+00:00",
          "start_time": "2023-08-20T17:23:49.575727+00:00"
        },
        "id": "a59fdcc0-0617-4c8b-b783-e2039e4a7261"
      },
      "id": "a59fdcc0-0617-4c8b-b783-e2039e4a7261"
    },
    {
      "cell_type": "code",
      "source": [
        "# Adição\n",
        "addition = a + b\n",
        "addition"
      ],
      "metadata": {
        "id": "V6fWua6EKA8n"
      },
      "id": "V6fWua6EKA8n",
      "execution_count": null,
      "outputs": []
    },
    {
      "cell_type": "code",
      "source": [
        "# Subtração\n",
        "subtraction = a - b"
      ],
      "metadata": {
        "id": "SUti8HS7KCwP"
      },
      "id": "SUti8HS7KCwP",
      "execution_count": null,
      "outputs": []
    },
    {
      "cell_type": "code",
      "source": [
        "# Multiplicação\n",
        "multiplication = a * b"
      ],
      "metadata": {
        "id": "NQIslbEGKFQK"
      },
      "id": "NQIslbEGKFQK",
      "execution_count": null,
      "outputs": []
    },
    {
      "cell_type": "code",
      "source": [
        "# Divisão\n",
        "division = a / b"
      ],
      "metadata": {
        "id": "lnwsrNwRKD8i"
      },
      "id": "lnwsrNwRKD8i",
      "execution_count": null,
      "outputs": []
    },
    {
      "cell_type": "markdown",
      "source": [
        "## Funções Universais (Ufuncs)\n",
        "Funções Universais (Ufuncs) são funções que operam em arrays Numpy de forma eficiente. Elas fornecem uma interface simples para operações complexas e são otimizadas para desempenho. Algumas ufuncs comuns incluem funções trigonométricas, logarítmicas, exponenciais e muito mais.\n",
        "\n",
        "Vamos explorar alguns exemplos de ufuncs aplicadas a um array."
      ],
      "metadata": {
        "noteable": {
          "cell_type": "markdown"
        },
        "id": "18f67735-006a-499b-851b-ee7d165eccc4"
      },
      "id": "18f67735-006a-499b-851b-ee7d165eccc4"
    },
    {
      "cell_type": "code",
      "source": [
        "# Definindo um array para aplicar ufuncs\n",
        "x = np.array([0, np.pi / 2, np.pi])  #ângulos em radianos\n",
        "x"
      ],
      "outputs": [],
      "execution_count": null,
      "metadata": {
        "noteable": {
          "cell_type": "code"
        },
        "ExecuteTime": {
          "end_time": "2023-08-20T17:25:02.822460+00:00",
          "start_time": "2023-08-20T17:25:02.657923+00:00"
        },
        "id": "13eac790-81bd-4983-875e-13e9fe08de2e"
      },
      "id": "13eac790-81bd-4983-875e-13e9fe08de2e"
    },
    {
      "cell_type": "code",
      "source": [
        "#Transformando os ângulos de radianos para graus (apenas para ilustrar)\n",
        "# radianos = np.pi / 2\n",
        "graus = np.degrees(x) # x em radianos\n",
        "[graus for grau in x]\n",
        "\n",
        "print(graus)"
      ],
      "metadata": {
        "id": "A6Nrz9viOUrs"
      },
      "id": "A6Nrz9viOUrs",
      "execution_count": null,
      "outputs": []
    },
    {
      "cell_type": "code",
      "source": [
        "# Aplicando funções trigonométricas - argumento em radianos\n",
        "sin_values = np.sin(x)\n",
        "cos_values = np.cos(x)"
      ],
      "metadata": {
        "id": "qgdmf6w1KPbT"
      },
      "id": "qgdmf6w1KPbT",
      "execution_count": null,
      "outputs": []
    },
    {
      "cell_type": "code",
      "source": [
        "sin_values"
      ],
      "metadata": {
        "id": "-q-XYuQmLs5K"
      },
      "id": "-q-XYuQmLs5K",
      "execution_count": null,
      "outputs": []
    },
    {
      "cell_type": "code",
      "source": [
        "# Aplicando função logarítmica (log natural)\n",
        "log_values = np.log(np.array([1, np.e, np.e**2]))"
      ],
      "metadata": {
        "id": "LGfdz-XMKR0K"
      },
      "id": "LGfdz-XMKR0K",
      "execution_count": null,
      "outputs": []
    },
    {
      "cell_type": "code",
      "source": [
        "log_values"
      ],
      "metadata": {
        "id": "KAQsoxb2NRAw"
      },
      "id": "KAQsoxb2NRAw",
      "execution_count": null,
      "outputs": []
    },
    {
      "cell_type": "code",
      "source": [
        "np.e # constante de Euler"
      ],
      "metadata": {
        "id": "JYy037QpMa4x"
      },
      "id": "JYy037QpMa4x",
      "execution_count": null,
      "outputs": []
    },
    {
      "cell_type": "markdown",
      "source": [
        "O valor de `e` é é aproximadamente 2.718281828459045, e é a base do logaritmo natural."
      ],
      "metadata": {
        "id": "eN4LI-PWMv15"
      },
      "id": "eN4LI-PWMv15"
    },
    {
      "cell_type": "code",
      "source": [
        "# Aplicando função exponencial\n",
        "exp_values = np.exp(np.array([0, 1, 2]))"
      ],
      "metadata": {
        "id": "ZDZFhjGXKT6U"
      },
      "id": "ZDZFhjGXKT6U",
      "execution_count": null,
      "outputs": []
    },
    {
      "cell_type": "code",
      "source": [
        "exp_values"
      ],
      "metadata": {
        "id": "vi7syIuCMXHU"
      },
      "id": "vi7syIuCMXHU",
      "execution_count": null,
      "outputs": []
    },
    {
      "cell_type": "markdown",
      "source": [
        "## Agregações\n",
        "Agregações são operações que resumem um conjunto de valores em um único valor. Elas são fundamentais para a análise estatística e permitem entender e resumir grandes conjuntos de dados. Numpy fornece várias funções de agregação, como soma, média, mínimo, máximo, desvio padrão, etc.\n",
        "\n",
        "Vamos explorar alguns exemplos dessas agregações aplicadas a um array."
      ],
      "metadata": {
        "noteable": {
          "cell_type": "markdown"
        },
        "id": "28c91325-ef05-4072-80ff-e29e3be32e85"
      },
      "id": "28c91325-ef05-4072-80ff-e29e3be32e85"
    },
    {
      "cell_type": "code",
      "source": [
        "# Definindo um array para aplicar agregações\n",
        "data = np.array([10, 20, 30, 40, 50])"
      ],
      "metadata": {
        "id": "c4onZu5rluK9"
      },
      "id": "c4onZu5rluK9",
      "execution_count": null,
      "outputs": []
    },
    {
      "cell_type": "code",
      "source": [
        "# Calculando a soma\n",
        "total_sum = np.sum(data)"
      ],
      "metadata": {
        "id": "v4tu5_ZFlvdV"
      },
      "id": "v4tu5_ZFlvdV",
      "execution_count": null,
      "outputs": []
    },
    {
      "cell_type": "code",
      "source": [
        "# Calculando a média\n",
        "mean_value = np.mean(data)"
      ],
      "metadata": {
        "id": "Sg4phdmYlwn0"
      },
      "id": "Sg4phdmYlwn0",
      "execution_count": null,
      "outputs": []
    },
    {
      "cell_type": "code",
      "source": [
        "# Encontrando o valor mínimo\n",
        "min_value = np.min(data)"
      ],
      "metadata": {
        "id": "hF1T0d0clyeV"
      },
      "id": "hF1T0d0clyeV",
      "execution_count": null,
      "outputs": []
    },
    {
      "cell_type": "code",
      "source": [
        "# Encontrando o valor máximo\n",
        "max_value = np.max(data)"
      ],
      "metadata": {
        "id": "saTcUJSvl0WG"
      },
      "id": "saTcUJSvl0WG",
      "execution_count": null,
      "outputs": []
    },
    {
      "cell_type": "code",
      "source": [
        "# Calculando o desvio padrão\n",
        "std_dev = np.std(data)"
      ],
      "metadata": {
        "id": "myh3lQZzl3pk"
      },
      "id": "myh3lQZzl3pk",
      "execution_count": null,
      "outputs": []
    },
    {
      "cell_type": "markdown",
      "source": [
        "# Manipulação de Forma\n",
        "A manipulação de forma em arrays Numpy permite organizar e transformar dados em uma estrutura desejada. Isso é útil para preparar dados para análise, visualização ou entrada em modelos de aprendizado de máquina. Algumas operações comuns de manipulação de forma incluem:\n",
        "\n",
        "- **Remodelar (reshape)**: Alterar a forma de um array sem alterar seus dados.\n",
        "- **Transpor (T)**: Inverter as dimensões de um array (por exemplo, trocar linhas por colunas).\n",
        "- **Achatar (flatten)**: Converter um array multidimensional em um array unidimensional.\n",
        "\n",
        "Vamos explorar alguns exemplos dessas operações para entender como elas funcionam."
      ],
      "metadata": {
        "noteable": {
          "cell_type": "markdown"
        },
        "id": "27e8adba-2996-48b9-9a6a-93109b6ac5d4"
      },
      "id": "27e8adba-2996-48b9-9a6a-93109b6ac5d4"
    },
    {
      "cell_type": "code",
      "source": [
        "array_1d = np.array([1, 2, 3, 4, 5, 6])"
      ],
      "metadata": {
        "id": "dAK9tJ1GrLy8"
      },
      "id": "dAK9tJ1GrLy8",
      "execution_count": null,
      "outputs": []
    },
    {
      "cell_type": "code",
      "source": [
        "# Exemplo 1: Remodelar um array\n",
        "reshaped_matrix = array_1d.reshape(2, 3)"
      ],
      "metadata": {
        "id": "OSqg1btxl9at"
      },
      "id": "OSqg1btxl9at",
      "execution_count": null,
      "outputs": []
    },
    {
      "cell_type": "code",
      "source": [
        "reshaped_matrix"
      ],
      "metadata": {
        "id": "gJlSL4_vrRFq"
      },
      "id": "gJlSL4_vrRFq",
      "execution_count": null,
      "outputs": []
    },
    {
      "cell_type": "code",
      "source": [
        "# Exemplo 2: Transpor uma matriz\n",
        "transposed_matrix = reshaped_matrix.T"
      ],
      "metadata": {
        "id": "1FbRsRywl-0u"
      },
      "id": "1FbRsRywl-0u",
      "execution_count": null,
      "outputs": []
    },
    {
      "cell_type": "code",
      "source": [
        "transposed_matrix"
      ],
      "metadata": {
        "id": "QoItbauQrUGZ"
      },
      "id": "QoItbauQrUGZ",
      "execution_count": null,
      "outputs": []
    },
    {
      "cell_type": "code",
      "source": [
        "# Exemplo 3: Achatar uma matriz\n",
        "flattened_array = reshaped_matrix.flatten()"
      ],
      "metadata": {
        "id": "hd_zFvGJmALc"
      },
      "id": "hd_zFvGJmALc",
      "execution_count": null,
      "outputs": []
    },
    {
      "cell_type": "code",
      "source": [
        "flattened_array"
      ],
      "metadata": {
        "id": "8tmvDz81rbEk"
      },
      "id": "8tmvDz81rbEk",
      "execution_count": null,
      "outputs": []
    },
    {
      "cell_type": "markdown",
      "source": [
        "# Combinação e Divisão de Arrays\n",
        "Combinar e dividir arrays são operações fundamentais para manipular conjuntos de dados em Numpy. Elas permitem concatenar diferentes conjuntos de dados ou dividir um conjunto de dados em partes menores. Algumas operações comuns incluem:\n",
        "\n",
        "- **Concatenação**: Combinar vários arrays em um único array.\n",
        "- **Empilhamento**: Empilhar arrays ao longo de um novo eixo, como empilhar matrizes verticalmente ou horizontalmente.\n",
        "- **Divisão**: Dividir um array em várias partes menores, seja em partes iguais ou com base em índices específicos.\n",
        "\n",
        "Vamos explorar alguns exemplos dessas operações para entender como elas funcionam."
      ],
      "metadata": {
        "noteable": {
          "cell_type": "markdown"
        },
        "id": "4d9fe099-a85e-4d55-8575-982f8f8558a2"
      },
      "id": "4d9fe099-a85e-4d55-8575-982f8f8558a2"
    },
    {
      "cell_type": "code",
      "source": [
        "array1 = np.array([1, 2, 3])\n",
        "array2 = np.array([4, 5, 6])"
      ],
      "metadata": {
        "id": "IE5o0umSQtdM"
      },
      "id": "IE5o0umSQtdM",
      "execution_count": null,
      "outputs": []
    },
    {
      "cell_type": "code",
      "source": [
        "# Exemplo 1: Concatenação de arrays\n",
        "concatenated_array = np.concatenate([array1, array2])"
      ],
      "metadata": {
        "id": "jzTMrhC-mDgs"
      },
      "id": "jzTMrhC-mDgs",
      "execution_count": null,
      "outputs": []
    },
    {
      "cell_type": "markdown",
      "source": [
        "### Empilhamento Vertical (vstack)\n",
        "A função `np.vstack` empilha matrizes verticalmente. Isso significa que as matrizes são unidas em uma nova matriz ao longo das linhas (eixo 0)."
      ],
      "metadata": {
        "id": "lO2Ljws7QGvN"
      },
      "id": "lO2Ljws7QGvN"
    },
    {
      "cell_type": "code",
      "source": [
        "A = np.array([[1, 2], [3, 4]])\n",
        "B = np.array([[5, 6]])\n",
        "\n",
        "C = np.vstack((A, B))\n",
        "C"
      ],
      "metadata": {
        "id": "Q7b-w-RAQzmq"
      },
      "id": "Q7b-w-RAQzmq",
      "execution_count": null,
      "outputs": []
    },
    {
      "cell_type": "code",
      "source": [
        "# Exemplo 2: Empilhamento de matrizes\n",
        "matrix1 = np.array([[1, 2], [3, 4]])\n",
        "matrix2 = np.array([[5, 6], [7, 8]])"
      ],
      "metadata": {
        "id": "YvP7A3zCQ8GV"
      },
      "id": "YvP7A3zCQ8GV",
      "execution_count": null,
      "outputs": []
    },
    {
      "cell_type": "code",
      "source": [
        "stacked_vertically = np.vstack([matrix1, matrix2])"
      ],
      "metadata": {
        "id": "Ydp9vMh_QLHU"
      },
      "id": "Ydp9vMh_QLHU",
      "execution_count": null,
      "outputs": []
    },
    {
      "cell_type": "code",
      "source": [
        "stacked_vertically"
      ],
      "metadata": {
        "id": "FX8jJ2-9u5xe"
      },
      "id": "FX8jJ2-9u5xe",
      "execution_count": null,
      "outputs": []
    },
    {
      "cell_type": "markdown",
      "source": [
        "### Empilhamento Horizontal (hstack)\n",
        "A função `np.hstack` empilha matrizes horizontalmente. Isso significa que as matrizes são unidas em uma nova matriz ao longo das colunas (eixo 1)."
      ],
      "metadata": {
        "id": "JDt2kRSUQR4c"
      },
      "id": "JDt2kRSUQR4c"
    },
    {
      "cell_type": "code",
      "source": [
        "A = np.array([[1, 2], [3, 4]])\n",
        "B = np.array([[5], [6]])\n",
        "\n",
        "C = np.hstack((A, B))\n",
        "C"
      ],
      "metadata": {
        "id": "Fq-sOgJlRA_j"
      },
      "id": "Fq-sOgJlRA_j",
      "execution_count": null,
      "outputs": []
    },
    {
      "cell_type": "code",
      "source": [
        "# Exemplo 2: Empilhamento de matrizes\n",
        "matrix1 = np.array([[1, 2], [3, 4]])\n",
        "matrix2 = np.array([[5, 6], [7, 8]])"
      ],
      "metadata": {
        "id": "-VuAgWrDQ-Wb"
      },
      "id": "-VuAgWrDQ-Wb",
      "execution_count": null,
      "outputs": []
    },
    {
      "cell_type": "code",
      "source": [
        "stacked_horizontally = np.hstack([matrix1, matrix2])"
      ],
      "metadata": {
        "id": "8G9mzu6JQN3K"
      },
      "id": "8G9mzu6JQN3K",
      "execution_count": null,
      "outputs": []
    },
    {
      "cell_type": "code",
      "source": [
        "stacked_horizontally"
      ],
      "metadata": {
        "id": "xoLNrHwQu9p0"
      },
      "id": "xoLNrHwQu9p0",
      "execution_count": null,
      "outputs": []
    },
    {
      "cell_type": "markdown",
      "source": [
        "### Split"
      ],
      "metadata": {
        "id": "wkZEJ3UPQkN2"
      },
      "id": "wkZEJ3UPQkN2"
    },
    {
      "cell_type": "code",
      "source": [
        "# Exemplo 3: Divisão de um array\n",
        "array_to_split = np.array([1, 2, 3, 4, 5, 6])\n",
        "split_arrays = np.split(array_to_split, 3)"
      ],
      "metadata": {
        "id": "DkSjI-ktmGZV"
      },
      "id": "DkSjI-ktmGZV",
      "execution_count": null,
      "outputs": []
    },
    {
      "cell_type": "code",
      "source": [
        "type(split_arrays)"
      ],
      "metadata": {
        "id": "u9GgMtTfvHlr"
      },
      "id": "u9GgMtTfvHlr",
      "execution_count": null,
      "outputs": []
    },
    {
      "cell_type": "markdown",
      "source": [
        "# Indexação Avançada\n",
        "A indexação avançada em Numpy permite acessar partes específicas de um array de maneira flexível e eficiente. Isso é útil para filtrar, selecionar e manipular dados de maneira complexa. Algumas técnicas comuns de indexação avançada incluem:\n",
        "\n",
        "- **Indexação Sofisticada (Fancy Indexing)**: Usar arrays de índices para acessar elementos específicos em um array.\n",
        "\n",
        "- **Indexação Booleana**: Usar uma matriz booleana para filtrar elementos com base em uma condição.\n",
        "\n",
        "\n",
        "Vamos explorar alguns exemplos dessas técnicas para entender como elas funcionam."
      ],
      "metadata": {
        "noteable": {
          "cell_type": "markdown"
        },
        "id": "60231a60-fa3b-4a24-a82d-af008db31160"
      },
      "id": "60231a60-fa3b-4a24-a82d-af008db31160"
    },
    {
      "cell_type": "code",
      "source": [
        "matrix = np.array([[1, 2, 3], [4, 5, 6], [7, 8, 9]])\n",
        "matrix"
      ],
      "metadata": {
        "id": "3qvLvvI9mPsV"
      },
      "id": "3qvLvvI9mPsV",
      "execution_count": null,
      "outputs": []
    },
    {
      "cell_type": "code",
      "source": [
        "# Indexação Avançada (Fancy Indexing)\n",
        "rows = np.array([0, 1, 1])\n",
        "cols = np.array([1, 2, 1])\n",
        "selected_elements = matrix[rows, cols]\n",
        "selected_elements"
      ],
      "metadata": {
        "id": "9nG8USU5mKkf"
      },
      "execution_count": null,
      "outputs": [],
      "id": "9nG8USU5mKkf"
    },
    {
      "cell_type": "code",
      "source": [
        "matrix"
      ],
      "metadata": {
        "id": "00L6TQ2VmRQs"
      },
      "id": "00L6TQ2VmRQs",
      "execution_count": null,
      "outputs": []
    },
    {
      "cell_type": "code",
      "source": [
        "# Indexação Booleana\n",
        "filtered_elements = matrix[matrix > 4]"
      ],
      "metadata": {
        "id": "RxPN-E9_mJE0"
      },
      "id": "RxPN-E9_mJE0",
      "execution_count": null,
      "outputs": []
    },
    {
      "cell_type": "code",
      "source": [
        "filtered_elements"
      ],
      "metadata": {
        "id": "QN3yDWl8mUOE"
      },
      "id": "QN3yDWl8mUOE",
      "execution_count": null,
      "outputs": []
    },
    {
      "cell_type": "code",
      "source": [
        "mask = matrix % 2 == 0\n",
        "even_numbers = matrix[mask]"
      ],
      "metadata": {
        "id": "of4hb_MGpcuu"
      },
      "id": "of4hb_MGpcuu",
      "execution_count": null,
      "outputs": []
    },
    {
      "cell_type": "code",
      "source": [
        "print(even_numbers)"
      ],
      "metadata": {
        "id": "Skt7OmHbpuRn"
      },
      "id": "Skt7OmHbpuRn",
      "execution_count": null,
      "outputs": []
    },
    {
      "cell_type": "code",
      "source": [
        "mask = matrix > 3\n",
        "filtered_values = matrix[mask]"
      ],
      "metadata": {
        "id": "HKb0XMeGpoBe"
      },
      "id": "HKb0XMeGpoBe",
      "execution_count": null,
      "outputs": []
    },
    {
      "cell_type": "code",
      "source": [
        "print(filtered_values)"
      ],
      "metadata": {
        "id": "QUBTiLzvpwaN"
      },
      "id": "QUBTiLzvpwaN",
      "execution_count": null,
      "outputs": []
    },
    {
      "cell_type": "code",
      "source": [
        "mask = (matrix > 3) & (matrix < 8)\n",
        "filtered_values = matrix[mask]"
      ],
      "metadata": {
        "id": "LN3Q9pZMp14M"
      },
      "id": "LN3Q9pZMp14M",
      "execution_count": null,
      "outputs": []
    },
    {
      "cell_type": "code",
      "source": [
        "print(filtered_values)"
      ],
      "metadata": {
        "id": "vD0BYPa_p4Pu"
      },
      "id": "vD0BYPa_p4Pu",
      "execution_count": null,
      "outputs": []
    },
    {
      "cell_type": "markdown",
      "source": [
        "## 5. Álgebra Linear Básica\n",
        "A álgebra linear é um campo fundamental em matemática e ciência da computação. NumPy fornece ferramentas para realizar operações básicas de álgebra linear, como soma e produto escalar.\n",
        "\n",
        "### 5.1 Soma de Matrizes\n",
        "A soma de matrizes é realizada adicionando os elementos correspondentes das matrizes.\n",
        "\n",
        "### 5.2 Produto Escalar\n",
        "O produto escalar, ou produto ponto, é uma operação que pega duas matrizes do mesmo tamanho e retorna uma matriz do mesmo tamanho, onde cada elemento é o produto dos elementos correspondentes das matrizes de entrada.\n",
        "\n",
        "Vamos explorar esses conceitos com exemplos de código."
      ],
      "metadata": {
        "noteable": {
          "cell_type": "markdown"
        },
        "id": "398972d6-5152-49ca-82b3-e093f57eb5b8"
      },
      "id": "398972d6-5152-49ca-82b3-e093f57eb5b8"
    },
    {
      "cell_type": "code",
      "source": [
        "# Soma de Matrizes\n",
        "matriz_A = np.array([[1, 2], [3, 4]])\n",
        "matriz_B = np.array([[5, 6], [7, 8]])"
      ],
      "outputs": [],
      "execution_count": null,
      "metadata": {
        "noteable": {
          "cell_type": "code"
        },
        "id": "d17006b8-ba89-4e00-b298-1ba0a5255aaf"
      },
      "id": "d17006b8-ba89-4e00-b298-1ba0a5255aaf"
    },
    {
      "cell_type": "code",
      "source": [
        "matriz_A"
      ],
      "metadata": {
        "id": "xsliRAbBRXMF"
      },
      "id": "xsliRAbBRXMF",
      "execution_count": null,
      "outputs": []
    },
    {
      "cell_type": "code",
      "source": [
        "matriz_B"
      ],
      "metadata": {
        "id": "BaINwxUhRc6F"
      },
      "id": "BaINwxUhRc6F",
      "execution_count": null,
      "outputs": []
    },
    {
      "cell_type": "code",
      "source": [
        "soma_matrizes = matriz_A + matriz_B"
      ],
      "metadata": {
        "id": "VqjrO6Psq2gd"
      },
      "id": "VqjrO6Psq2gd",
      "execution_count": null,
      "outputs": []
    },
    {
      "cell_type": "code",
      "source": [
        "# Produto Escalar\n",
        "produto_escalar = np.dot(matriz_A, matriz_B)\n",
        "produto_escalar"
      ],
      "metadata": {
        "id": "VIp5j9k_qz41"
      },
      "id": "VIp5j9k_qz41",
      "execution_count": null,
      "outputs": []
    },
    {
      "cell_type": "markdown",
      "source": [
        "## Exercícios\n",
        "Aqui estão as soluções para os exercícios propostos na seção anterior. É altamente recomendável tentar resolver os exercícios por conta própria antes de verificar as respostas aqui.\n",
        "\n",
        "### Exercício 1: Crie um Array 1D\n",
        "\n",
        "Crie um array 1D com os números de 1 a 10 usando o NumPy."
      ],
      "metadata": {
        "noteable": {
          "cell_type": "markdown"
        },
        "id": "d02b219a-726f-4601-ae62-971046be8086"
      },
      "id": "d02b219a-726f-4601-ae62-971046be8086"
    },
    {
      "cell_type": "code",
      "source": [],
      "metadata": {
        "id": "5DF4DknkSctz"
      },
      "id": "5DF4DknkSctz",
      "execution_count": null,
      "outputs": []
    },
    {
      "cell_type": "code",
      "source": [
        "# @title Resolução do Exercício 1\n",
        "array_1d = np.arange(1, 11)\n",
        "array_1d"
      ],
      "outputs": [],
      "execution_count": null,
      "metadata": {
        "noteable": {
          "cell_type": "code"
        },
        "id": "d530a282-30e2-41a9-8417-6a7d799bdc72"
      },
      "id": "d530a282-30e2-41a9-8417-6a7d799bdc72"
    },
    {
      "cell_type": "markdown",
      "source": [
        "### Exercício 2: Reshape e Transposição\n",
        "\n",
        "Pegue o array 1D criado no exercício anterior e transforme-o em uma matriz 2x5. Em seguida, transponha a matriz."
      ],
      "metadata": {
        "noteable": {
          "cell_type": "markdown"
        },
        "id": "b78d6d04-1497-4b49-b935-5ced6538c9f7"
      },
      "id": "b78d6d04-1497-4b49-b935-5ced6538c9f7"
    },
    {
      "cell_type": "code",
      "source": [
        "# @title Resolução do Exercício 2\n",
        "matriz_2x5 = array_1d.reshape(2, 5)\n",
        "matriz_transposta = matriz_2x5.T\n",
        "matriz_2x5, matriz_transposta"
      ],
      "outputs": [],
      "execution_count": null,
      "metadata": {
        "noteable": {
          "cell_type": "code"
        },
        "id": "eb7bb294-7752-450c-88ff-171190427b81"
      },
      "id": "eb7bb294-7752-450c-88ff-171190427b81"
    },
    {
      "cell_type": "markdown",
      "source": [
        "### Exercício 3: Operações Aritméticas\n",
        "\n",
        "Crie dois arrays 2D e realize operações de adição, subtração, multiplicação e divisão entre eles."
      ],
      "metadata": {
        "noteable": {
          "cell_type": "markdown"
        },
        "id": "58b1dc16-0219-4d2e-b146-2025040ffb62"
      },
      "id": "58b1dc16-0219-4d2e-b146-2025040ffb62"
    },
    {
      "cell_type": "code",
      "source": [
        "# @title Resolução do Exercício 3\n",
        "array_A = np.array([[1, 2], [3, 4]])\n",
        "array_B = np.array([[5, 6], [7, 8]])\n",
        "soma_arrays = array_A + array_B\n",
        "subtracao_arrays = array_A - array_B\n",
        "multiplicacao_arrays = array_A * array_B\n",
        "divisao_arrays = array_A / array_B\n",
        "soma_arrays, subtracao_arrays, multiplicacao_arrays, divisao_arrays"
      ],
      "outputs": [],
      "execution_count": null,
      "metadata": {
        "noteable": {
          "cell_type": "code"
        },
        "id": "3b07f1d5-9fe1-4747-922e-ecf531cf2e81"
      },
      "id": "3b07f1d5-9fe1-4747-922e-ecf531cf2e81"
    },
    {
      "cell_type": "markdown",
      "source": [
        "### Exercício 4: Estatísticas de um Array\n",
        "\n",
        "Calcule a média, mediana e desvio padrão de um array."
      ],
      "metadata": {
        "noteable": {
          "cell_type": "markdown"
        },
        "id": "d4234e15-0e36-44a0-bbd3-e43281fad7a8"
      },
      "id": "d4234e15-0e36-44a0-bbd3-e43281fad7a8"
    },
    {
      "cell_type": "code",
      "source": [
        "# @title Resolução do Exercício 4\n",
        "array_estatisticas = np.array([10, 20, 30, 40, 50])\n",
        "media = np.mean(array_estatisticas)\n",
        "mediana = np.median(array_estatisticas)\n",
        "desvio_padrao = np.std(array_estatisticas)\n",
        "media, mediana, desvio_padrao"
      ],
      "outputs": [],
      "execution_count": null,
      "metadata": {
        "noteable": {
          "cell_type": "code"
        },
        "id": "03a61381-6eb2-4e27-8f6c-88c7d4104179"
      },
      "id": "03a61381-6eb2-4e27-8f6c-88c7d4104179"
    }
  ],
  "metadata": {
    "noteable-chatgpt": {
      "create_notebook": {
        "openai_conversation_id": "ba48da57-f3c8-5dff-892d-29a551cd3e56",
        "openai_ephemeral_user_id": "47885448-1d39-5d90-b387-47752f4cb756",
        "openai_subdivision1_iso_code": "BR-RJ"
      }
    },
    "kernel_info": {
      "name": "python3"
    },
    "noteable": {
      "last_transaction_id": "a3034b9c-6109-4f98-b457-365b4a792a64",
      "last_delta_id": "a3034b9c-6109-4f98-b457-365b4a792a64"
    },
    "kernelspec": {
      "display_name": "Python 3.9",
      "language": "python",
      "name": "python3"
    },
    "selected_hardware_size": "small",
    "nteract": {
      "version": "noteable@2.9.0"
    },
    "colab": {
      "provenance": []
    }
  },
  "nbformat": 4,
  "nbformat_minor": 5
}