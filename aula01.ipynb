{
  "cells": [
    {
      "cell_type": "markdown",
      "metadata": {
        "id": "ARYfXTwB1c-y"
      },
      "source": [
        "**Python**\n",
        "\n",
        "Gabriella Amorim\n",
        "\n",
        "*prof.amorim.gabriella@gmail.com*"
      ]
    },
    {
      "cell_type": "markdown",
      "metadata": {
        "id": "JdswrB95Qvr1"
      },
      "source": [
        "# NOTEBOOK 1"
      ]
    },
    {
      "cell_type": "markdown",
      "metadata": {
        "id": "mfDkQslcMD9I"
      },
      "source": [
        "1. Introdução ao Google Colab\n",
        "2. Breve introdução ao Python\n",
        "3. Criando seu primeiro Notebook no Google Colab\n",
        "4. Primeiro programa: \"Olá, Mundo!\"\n",
        "5. Variáveis e Tipos de Dados Básicos: int, float, string, bool, complex\n",
        "6. A função ```type()```\n",
        "7. A função ```input()```\n",
        "8. A função ```print()```\n",
        "9. Operadores Aritméticos\n",
        "10. Operadores de Atribuição\n",
        "11. A Função ```print()``` com ```f``` e ```str.format()```\n",
        "12. Exercícios práticos no Colab\n"
      ]
    },
    {
      "cell_type": "markdown",
      "metadata": {
        "id": "MzFztfvAheV1"
      },
      "source": [
        "### 1. Google Colab"
      ]
    },
    {
      "cell_type": "markdown",
      "metadata": {
        "id": "tcOPySBoa7_S"
      },
      "source": [
        "* O Colab é uma plataforma de notebook Jupyter que não requer configuração e é executada completamente na nuvem.\n",
        "* Permite escrever e executar código, salvar e compartilhar análises, e acessar diversos recursos de computação, tudo de graça no navegador.\n",
        "* O Colab suporta as linguagens Python 3 e R"
      ]
    },
    {
      "cell_type": "markdown",
      "metadata": {
        "id": "8hn1YFD_fQjN"
      },
      "source": [
        "Como acessar o Colab:\n",
        "\n",
        "1. Criar uma conta Google\n",
        "2. No navegador, digitar: colab.research.google.com\n",
        "3. No Google Drive, selecionar, no botão superior à esquerda: +New (+Novo) -> More (Mais) -> Google Colaboratory"
      ]
    },
    {
      "cell_type": "markdown",
      "metadata": {
        "id": "lHNd0exmTlSR"
      },
      "source": [
        "https://www.python.org\n",
        "\n",
        "Este é o portal da linguagem Python, onde encontramos as versões em uso, documentações, apoio da comunidade desenvolvedora, histórias de sucesso, eventos e oportunidades de trabalho.\n",
        "\n",
        "\n",
        "https://www.python.org/downloads/release/python-3114/\n",
        "\n",
        "Esta é a última versão do Python (acesso em 06/07/2023)"
      ]
    },
    {
      "cell_type": "markdown",
      "metadata": {
        "id": "6ssWMB5eiAm6"
      },
      "source": [
        "### 2. A Linguagem Python\n",
        "\n",
        "Python foi criado por Guido van Rossum e a primeira versão foi lançada em 1991. A ideia de desenvolver Python surgiu no final de 1989. Van Rossum trabalhava naquela época no CWI (Centrum Wiskunde & Informatica) na Holanda."
      ]
    },
    {
      "cell_type": "markdown",
      "metadata": {
        "id": "ViHa3SDGiqew"
      },
      "source": [
        "Python é uma linguagem de programação de alto nível, interpretada, de tipagem dinâmica e orientada a objetos.\n",
        "\n",
        "Python é uma linguagem de propósito geral, o que significa que ela pode ser usada para uma variedade de tarefas, incluindo:\n",
        "\n",
        "* Desenvolvimento web\n",
        "* Data science\n",
        "* Machine learning\n",
        "* Engenharia\n",
        "* Matemática\n",
        "* Estatística\n",
        "* Administração de sistemas\n",
        "* Automatização de tarefas\n",
        "\n",
        "Também é uma linguagem relativamente fácil de aprender, mesmo para pessoas que não têm experiência em programação. Isso se deve à sua sintaxe simples e intuitiva, que é muito semelhante à linguagem natural.\n",
        "\n",
        "Além disso, Python possui uma enorme comunidade de usuários e desenvolvedores, que estão sempre dispostos a ajudar os menos experientes"
      ]
    },
    {
      "cell_type": "markdown",
      "metadata": {
        "id": "Ccj_iy8gjYI_"
      },
      "source": [
        "Principais características:\n",
        "\n",
        "1. **Legibilidade e Sintaxe Clara**: Python foi projetado com a legibilidade do código em mente. A sintaxe é limpa e usa indentação para delimitar blocos de código em vez de chaves ou palavras-chave específicas. Isso torna o código Python muito mais fácil de ler e entender do que muitas outras linguagens de programação.\n",
        "\n",
        "2. **Linguagem de Alto Nível**: Uma linguagem de programação de alto nível é projetada para ser mais fácil de ler e escrever para os humanos. Ela abstrai muitos dos detalhes de baixo nível do computador, como gerenciamento de memória e operações específicas do processador. Em vez disso, ela permite que os programadores escrevam programas de uma maneira que esteja mais próxima de como os humanos pensam sobre os problemas.\n",
        "\n",
        "3. **Tipagem Dinâmica**: Python é uma linguagem de tipagem dinâmica. Isso significa que o tipo de uma variável é inferido em tempo de execução, e não precisa ser explicitamente declarado no código.\n",
        "\n",
        "4. **Interpretada**: Python é uma linguagem interpretada, o que significa que o código Python é executado linha por linha, em vez de ser compilado e depois executado. Isso pode tornar o processo de desenvolvimento e depuração mais fácil, pois você pode testar partes do seu código sem precisar compilar o programa inteiro.\n",
        "\n",
        "5. **Suporte a Múltiplos Paradigmas de Programação**: Python suporta várias formas de programação, incluindo programação procedural, orientada a objetos e funcional.\n",
        "\n",
        "6. **Bibliotecas Padrão Ricas e Robustas**: Python vem com uma biblioteca padrão grande e abrangente que inclui módulos para uma variedade de tarefas, desde expressões regulares até geração de documentos XML. Além disso, há um ecossistema vasto de bibliotecas e frameworks de terceiros disponíveis para Python, facilitando a realização de tarefas complexas sem precisar reinventar a roda. (Pandas, Numpy, Scikit Learn, TensorFlow, Seaborn, SciPy)\n",
        "\n",
        "7. **Portabilidade**: Python é uma linguagem de programação portátil. Isso significa que você pode escrever seu código Python em um sistema operacional (como o Windows) e ele funcionará em outros sistemas operacionais (como MacOS ou Linux), desde que o Python esteja instalado nesses sistemas."
      ]
    },
    {
      "cell_type": "markdown",
      "metadata": {
        "id": "Or_tCPy-jIeJ"
      },
      "source": [
        "#### Comunidades Python na internet\n",
        "\n",
        "https://www.python.org/\n",
        "\n",
        "https://pydata.org/\n",
        "\n",
        "https://us.pycon.org/2023/  (Conferências)\n",
        "\n",
        "https://stackoverflow.com/\n",
        "\n",
        "As comunidades abaixo são voltadas para as áreas da Inteligência Artificial:\n",
        "\n",
        "https://www.kdnuggets.com/\n",
        "\n",
        "https://www.kaggle.com/\n",
        "\n",
        "https://huggingface.co/\n",
        "\n",
        "\n",
        "Comunidades em Português:\n",
        "\n",
        "https://python.org.br/\n",
        "\n",
        "https://groups.google.com/g/python-brasil?pli=1"
      ]
    },
    {
      "cell_type": "markdown",
      "metadata": {
        "id": "0qHx4IKSQvr9"
      },
      "source": [
        "### 3. Criando meu primeiro programa \"Olá Mundo!\" no Python"
      ]
    },
    {
      "cell_type": "markdown",
      "metadata": {
        "id": "ujJlS_0GgnHE"
      },
      "source": [
        "A tradição de usar ```\"Hello, World!\"``` como um teste inicial para novas linguagens de programação começou com a linguagem de programação B e foi popularizada pelo livro \"The C Programming Language\" de Brian Kernighan e Dennis Ritchie, publicado pela primeira vez em 1978. No livro, o \"Hello, World!\" é o primeiro programa apresentado ao leitor.\n",
        "\n",
        "Desde então, \"Hello, World!\" se tornou um rito de passagem para os novos programadores, muitas vezes sendo o primeiro programa que eles escrevem ao aprender uma nova linguagem de programação."
      ]
    },
    {
      "cell_type": "markdown",
      "metadata": {
        "id": "XZgb_YZ1hNFC"
      },
      "source": [
        "A linguagem de programação B foi criada por Ken Thompson e Dennis Ritchie no **Bell Labs** no final da década de **1960** como uma versão simplificada da linguagem BCPL (Basic Combined Programming Language).\n",
        "\n",
        "A linguagem B foi desenvolvida para o sistema operacional experimental Multics. Quando o Bell Labs deixou o projeto Multics, Thompson e Ritchie precisavam de uma linguagem de programação para o novo sistema operacional **Unix** que estavam criando, e **foi aí que B foi usada como base para o desenvolvimento da linguagem C**.\n",
        "\n",
        "Então, **a linguagem B é historicamente significativa como a precursora direta da linguagem C**, que é uma das linguagens de programação mais influentes e amplamente usadas até hoje."
      ]
    },
    {
      "cell_type": "code",
      "execution_count": 1,
      "metadata": {
        "id": "Dd2CKC6AQvr9",
        "scrolled": true
      },
      "outputs": [
        {
          "name": "stdout",
          "output_type": "stream",
          "text": [
            "Olá mundo\n"
          ]
        }
      ],
      "source": [
        "print('Olá mundo')"
      ]
    },
    {
      "cell_type": "markdown",
      "metadata": {
        "id": "vA4YR8QJW7o0"
      },
      "source": [
        "### 4. Tipos de Dados em Python"
      ]
    },
    {
      "cell_type": "markdown",
      "metadata": {
        "id": "Y-ZkVrejj8cy"
      },
      "source": [
        "O que são Tipos de Dados em Python?\n",
        "\n",
        "Os tipos de dados em Python definem o tipo de valores que as variáveis podem conter e determinam as operações realizadas nesses valores.\n",
        "\n",
        "O Python tem vários tipos de dados incorporados, incluindo:\n",
        "\n",
        "* tipos numéricos (int, float, complex),\n",
        "* string (str), booleano (bool) e\n",
        "* tipos coletivos (list, tuple, dict, set).\n",
        "\n",
        "Cada tipo de dado tem seu próprio conjunto de propriedades, métodos e comportamentos que permitem aos programadores manipular e processar dados efetivamente em seus programas."
      ]
    },
    {
      "cell_type": "markdown",
      "metadata": {
        "id": "6A99Mj6Qkhfc"
      },
      "source": [
        "| Tipo Primitivo | Exemplo de Código | Explicação |\n",
        "| --- | --- | --- |\n",
        "| `int` | `x = 10` | Um número inteiro, sem uma parte fracionária. |\n",
        "| `float` | `y = 10.5` | Um número real, que contém uma parte fracionária. |\n",
        "| `str` | `s = \"Olá, mundo!\"` | Uma sequência de caracteres, usada para representar texto. |\n",
        "| `bool` | `verdadeiro = True` | Um valor booleano, que pode ser `True` (verdadeiro) ou `False` (falso). |\n",
        "| `list` | `lista = [1, 2, 3]` | Uma coleção ordenada de itens, que podem ser de qualquer tipo. |\n",
        "| `tuple` | `tupla = (1, 2, 3)` | Uma coleção ordenada e imutável de itens, que podem ser de qualquer tipo. |\n",
        "| `dict` | `dicionario = {\"chave\": \"valor\"}` | Uma coleção de pares chave-valor. As chaves devem ser únicas na coleção. |\n",
        "| `set` | `conjunto = {1, 2, 3}` | Uma coleção não ordenada de itens únicos. |\n",
        "\n",
        "Por favor, note que `list`, `tuple`, `dict` e `set` não são tecnicamente tipos primitivos, mas são tipos básicos muito usados em Python."
      ]
    },
    {
      "cell_type": "markdown",
      "metadata": {
        "id": "iqRee4tGMbAs"
      },
      "source": [
        "### 5. Definindo e atribuindo valores às variáveis"
      ]
    },
    {
      "cell_type": "markdown",
      "metadata": {
        "id": "yZJHPoOAs02X"
      },
      "source": [
        "**Nomeação de variáveis**\n",
        "\n",
        "Há uma convenção em Python de não nomear uma variável que inicie com letra maiúscula.\n",
        "\n",
        "Python não permite que variáveis iniciem com números.\n",
        "\n",
        "Também não é possível utilizar caracteres especiais para nomear variáveis (@, #, $, %, &, *)\n",
        "\n",
        "Há uma lista de palavras reservadas que não podem ser utilizadas para nomear variáveis:\n",
        "\n",
        "\n",
        "|          |         |       |       |        |\n",
        "|----------|---------|-------|-------|--------|\n",
        "| False    | None    | True  | and   | as     |\n",
        "| assert   | async   | await | break | class  |\n",
        "| continue | def     | del   | elif  | else   |\n",
        "| except   | finally | for   | from  | global |\n",
        "| if       | import  | in    | is    | lambda |\n",
        "| nonlocal | not     | or    | pass  | raise  |\n",
        "| return   | try     | while | with  | yield  |\n",
        "\n",
        "\n"
      ]
    },
    {
      "cell_type": "code",
      "execution_count": 2,
      "metadata": {
        "id": "FTsmXPfCtEiq"
      },
      "outputs": [],
      "source": [
        "nota = 8\n",
        "temperatura = -3.5\n",
        "primeiro_nome = \"Mariana\"\n",
        "bool1 = True\n",
        "bool2 = False\n"
      ]
    },
    {
      "cell_type": "markdown",
      "metadata": {
        "id": "6-n2XUEMLtPT"
      },
      "source": [
        "### 6. A função ``` type() ```\n",
        "\n",
        "Usamos a função ```type()``` para verificar os tipos de dados"
      ]
    },
    {
      "cell_type": "code",
      "execution_count": 3,
      "metadata": {
        "id": "vb78RRK30BWL"
      },
      "outputs": [
        {
          "data": {
            "text/plain": [
              "str"
            ]
          },
          "execution_count": 3,
          "metadata": {},
          "output_type": "execute_result"
        }
      ],
      "source": [
        "type(primeiro_nome)"
      ]
    },
    {
      "cell_type": "code",
      "execution_count": 7,
      "metadata": {
        "id": "9S9juv6h5ynk"
      },
      "outputs": [
        {
          "data": {
            "text/plain": [
              "int"
            ]
          },
          "execution_count": 7,
          "metadata": {},
          "output_type": "execute_result"
        }
      ],
      "source": [
        "type(nota)"
      ]
    },
    {
      "cell_type": "markdown",
      "metadata": {
        "id": "voSosVEfQvr-"
      },
      "source": [
        "### 7. A Função ```Input()```\n",
        "\n",
        "A função ```input()``` permite que o usuário forneça um valor de entrada utilizando o teclado. Vamos testar!\n",
        "\n"
      ]
    },
    {
      "cell_type": "code",
      "execution_count": 12,
      "metadata": {
        "id": "OzWo8dv2Qvr-"
      },
      "outputs": [
        {
          "name": "stdout",
          "output_type": "stream",
          "text": [
            "Ésley\n"
          ]
        }
      ],
      "source": [
        "# input() - após rodar o comando, aperte o Enter para que a variável receba o valor digitado\n",
        "\n",
        "nome = input(\"Digite seu nome:\")\n",
        "\n",
        "print(nome)"
      ]
    },
    {
      "cell_type": "code",
      "execution_count": null,
      "metadata": {
        "id": "Av-VmOneDU3Q"
      },
      "outputs": [],
      "source": [
        "idade = input(\"Digite a sua idade: \")"
      ]
    },
    {
      "cell_type": "code",
      "execution_count": null,
      "metadata": {
        "id": "wzZUjdThDZVI"
      },
      "outputs": [],
      "source": [
        "type(idade)"
      ]
    },
    {
      "cell_type": "markdown",
      "metadata": {
        "id": "-lWc6yTtfGpG"
      },
      "source": [
        "O tipo primitivo da variável atribuída com o input() é STRING (str)"
      ]
    },
    {
      "cell_type": "markdown",
      "metadata": {
        "id": "KUwm_U0tNbbH"
      },
      "source": [
        "Se quisermos que a variável receba outro tipo como valor, precisamos indicar o novo tipo:"
      ]
    },
    {
      "cell_type": "code",
      "execution_count": 13,
      "metadata": {
        "id": "f2_US3Tq0jRG"
      },
      "outputs": [],
      "source": [
        "idade_float = int(input(\"Digite a sua idade: \"))"
      ]
    },
    {
      "cell_type": "code",
      "execution_count": 14,
      "metadata": {
        "id": "nyRJwqlyaoVg"
      },
      "outputs": [
        {
          "data": {
            "text/plain": [
              "int"
            ]
          },
          "execution_count": 14,
          "metadata": {},
          "output_type": "execute_result"
        }
      ],
      "source": [
        "type(idade_float)"
      ]
    },
    {
      "cell_type": "markdown",
      "metadata": {
        "id": "rPhiYN4ziWV4"
      },
      "source": [
        "Podemos realizar alguns testes de string para saber os tipos de caracteres que a compõe"
      ]
    },
    {
      "cell_type": "code",
      "execution_count": 15,
      "metadata": {
        "id": "0xpeEnA8irhb"
      },
      "outputs": [],
      "source": [
        "caracteres = 'XVI'"
      ]
    },
    {
      "cell_type": "code",
      "execution_count": 16,
      "metadata": {
        "id": "E2cgTF_sjGXH"
      },
      "outputs": [
        {
          "data": {
            "text/plain": [
              "True"
            ]
          },
          "execution_count": 16,
          "metadata": {},
          "output_type": "execute_result"
        }
      ],
      "source": [
        "caracteres.isalpha()"
      ]
    },
    {
      "cell_type": "code",
      "execution_count": 17,
      "metadata": {
        "id": "AzjPlsI7jKqX"
      },
      "outputs": [
        {
          "data": {
            "text/plain": [
              "False"
            ]
          },
          "execution_count": 17,
          "metadata": {},
          "output_type": "execute_result"
        }
      ],
      "source": [
        "caracteres.isnumeric()"
      ]
    },
    {
      "cell_type": "markdown",
      "metadata": {
        "id": "hElSf_hfW4AO"
      },
      "source": [
        "### 8. Função print() com f e str.format()"
      ]
    },
    {
      "cell_type": "code",
      "execution_count": 18,
      "metadata": {
        "id": "BnV1c3WiZq5g"
      },
      "outputs": [],
      "source": [
        "nome = input(\"Digite seu nome: \")"
      ]
    },
    {
      "cell_type": "code",
      "execution_count": null,
      "metadata": {
        "id": "BMNpJeThZ5S6"
      },
      "outputs": [],
      "source": [
        "idade = int(input(\"Digite a sua idade: \"))"
      ]
    },
    {
      "cell_type": "code",
      "execution_count": null,
      "metadata": {
        "id": "etiHK1fDW4AP"
      },
      "outputs": [],
      "source": [
        "print(\"Meu nome é\", nome, \"e a minha idade é: \", idade)"
      ]
    },
    {
      "cell_type": "code",
      "execution_count": null,
      "metadata": {
        "id": "JUMygJa-W4AP"
      },
      "outputs": [],
      "source": [
        "print(f\"Meu nome é {nome} e a minha idade é: {idade}\")"
      ]
    },
    {
      "cell_type": "code",
      "execution_count": null,
      "metadata": {
        "id": "ipqNkBMGW4AP"
      },
      "outputs": [],
      "source": [
        "print(\"Meu nome é {} e a minha idade é: {}\".format(nome, idade))"
      ]
    },
    {
      "cell_type": "markdown",
      "metadata": {
        "id": "SACZXw0dQvr_"
      },
      "source": [
        "### 9. Operadores aritméticos"
      ]
    },
    {
      "cell_type": "markdown",
      "metadata": {
        "id": "siW4orGYTd2E"
      },
      "source": [
        "| Operador | Nome do Operador | Exemplo de Código | Explicação |\n",
        "| --- | --- | --- | --- |\n",
        "| `+` | Adição | `3 + 2  # Resultado: 5` | Soma dois valores. |\n",
        "| `-` | Subtração | `3 - 2  # Resultado: 1` | Subtrai o segundo valor do primeiro. |\n",
        "| `*` | Multiplicação | `3 * 2  # Resultado: 6` | Multiplica dois valores. |\n",
        "| `/` | Divisão | `3 / 2  # Resultado: 1.5` | Divide o primeiro valor pelo segundo. Retorna um número de ponto flutuante. |\n",
        "| `//` | Divisão inteira | `3 // 2  # Resultado: 1` | Divide o primeiro valor pelo segundo e arredonda para o número inteiro mais próximo. |\n",
        "| `%` | Módulo | `3 % 2  # Resultado: 1` | Retorna o resto da divisão do primeiro valor pelo segundo. |\n",
        "| `**` | Exponenciação | `3 ** 2  # Resultado: 9` | Eleva o primeiro valor à potência do segundo. |"
      ]
    },
    {
      "cell_type": "code",
      "execution_count": null,
      "metadata": {
        "id": "cYN2tw6_u759"
      },
      "outputs": [],
      "source": [
        "resultado = 11 % 3  # resto da divisão de 11 por 3\n",
        "print(resultado)"
      ]
    },
    {
      "cell_type": "code",
      "execution_count": null,
      "metadata": {
        "id": "d1daMK3HS6sJ"
      },
      "outputs": [],
      "source": [
        "resultado"
      ]
    },
    {
      "cell_type": "code",
      "execution_count": null,
      "metadata": {
        "id": "V0b1NsBq5KuR"
      },
      "outputs": [],
      "source": [
        "2+35"
      ]
    },
    {
      "cell_type": "code",
      "execution_count": null,
      "metadata": {
        "id": "v9A8nfaiyNb0"
      },
      "outputs": [],
      "source": [
        "(20+80)/5*2**2"
      ]
    },
    {
      "cell_type": "code",
      "execution_count": null,
      "metadata": {
        "id": "Tf5He72s5RUt"
      },
      "outputs": [],
      "source": [
        "2**3 # potenciação ou exponenciação: base ** expoente"
      ]
    },
    {
      "cell_type": "markdown",
      "metadata": {
        "id": "MrS8TyDffWCk"
      },
      "source": [
        "### 10. Operadores de Atribuição"
      ]
    },
    {
      "cell_type": "markdown",
      "metadata": {
        "id": "tMbe79asf3BN"
      },
      "source": [
        "Operadores de atribuição em Python são usados para atribuir valores a variáveis. **O operador de atribuição mais básico é =**, que simplesmente atribui o valor do lado direito da expressão à variável do lado esquerdo.\n",
        "\n",
        "No entanto, Python oferece uma série de operadores de atribuição compostos que realizam uma **operação e uma atribuição** em uma **única etapa**. Abaixo, segue a relação dos operadores de atribuição em Python:"
      ]
    },
    {
      "cell_type": "markdown",
      "metadata": {
        "id": "g1-77S-MfaW9"
      },
      "source": [
        "\n",
        "\n",
        "| Operador | Descrição                                                      | Exemplo                | Equivalente    |\n",
        "|----------|----------------------------------------------------------------|------------------------|----------------|\n",
        "| =        | Atribui o valor do lado direito à variável do lado esquerdo.   | x = 5                  |                |\n",
        "| +=       | Adiciona o valor do lado direito ao valor atual da variável.   | x += 3                 | x = x + 3      |\n",
        "| -=       | Subtrai o valor do lado direito do valor atual da variável.    | x -= 2                 | x = x - 2      |\n",
        "| *=       | Multiplica o valor atual da variável pelo valor do lado direito.| x *= 4                 | x = x * 4      |\n",
        "| /=       | Divide o valor atual da variável pelo valor do lado direito.   | x /= 3                 | x = x / 3      |\n",
        "| %=       | Calcula o módulo do valor atual da variável pelo valor do lado direito. | x %= 2            | x = x % 2      |\n",
        "| //=      | Realiza a divisão inteira do valor atual da variável pelo valor do lado direito. | x //= 3        | x = x // 3     |\n",
        "| **=      | Eleva o valor atual da variável ao valor do lado direito.      | x **= 3                | x = x ** 3     |\n",
        "\n"
      ]
    },
    {
      "cell_type": "code",
      "execution_count": null,
      "metadata": {
        "id": "Ac9LOhL03tKK"
      },
      "outputs": [],
      "source": [
        "x =\n",
        "y = x\n",
        "print(y) # Deve imprimir 10"
      ]
    },
    {
      "cell_type": "code",
      "execution_count": null,
      "metadata": {
        "id": "WOfTQiqf31U6"
      },
      "outputs": [],
      "source": [
        "# Soma\n",
        "\n",
        "x =\n",
        "x += 5\n",
        "print(x)  # Deve imprimir 17\n"
      ]
    },
    {
      "cell_type": "code",
      "execution_count": null,
      "metadata": {
        "id": "Jm8vDiLF383A"
      },
      "outputs": [],
      "source": [
        "# Subtração\n",
        "\n",
        "x = 20\n",
        "x -= 5\n",
        "print(x)  # Deve imprimir 15\n"
      ]
    },
    {
      "cell_type": "code",
      "execution_count": null,
      "metadata": {
        "id": "ricCEDuy4AIo"
      },
      "outputs": [],
      "source": [
        "# Multiplicação\n",
        "\n",
        "x =\n",
        "x *= 16\n",
        "print(x)  # Deve imprimir 32\n"
      ]
    },
    {
      "cell_type": "code",
      "execution_count": null,
      "metadata": {
        "id": "qC-SbBee4G6B"
      },
      "outputs": [],
      "source": [
        "# Divisão\n",
        "\n",
        "x =\n",
        "x /= 2\n",
        "print(x)  # Deve imprimir 5.0\n"
      ]
    },
    {
      "cell_type": "code",
      "execution_count": null,
      "metadata": {
        "id": "Sdp1onZc4K7z"
      },
      "outputs": [],
      "source": [
        "# Divisão inteira\n",
        "\n",
        "x = 15\n",
        "x //= 2\n",
        "print(x)  # Deve imprimir 7"
      ]
    },
    {
      "cell_type": "code",
      "execution_count": null,
      "metadata": {
        "id": "KwW5XHRr4hrZ"
      },
      "outputs": [],
      "source": [
        "# Exponenciação ou potenciação\n",
        "\n",
        "x =\n",
        "x **= 2\n",
        "print(x)  # Deve imprimir 100"
      ]
    },
    {
      "cell_type": "code",
      "execution_count": null,
      "metadata": {
        "id": "iuP0UrU54rD-"
      },
      "outputs": [],
      "source": [
        "# A operação de módulo retorna o resto de uma divisão\n",
        "\n",
        "x =\n",
        "x %= 3\n",
        "print(x)  # Deve imprimir 1"
      ]
    },
    {
      "cell_type": "markdown",
      "metadata": {
        "id": "2_NbG5l-Qvr_"
      },
      "source": [
        "### 10. Função print() com f e str.format()"
      ]
    },
    {
      "cell_type": "code",
      "execution_count": null,
      "metadata": {
        "id": "nO8iwcXtQvsA"
      },
      "outputs": [],
      "source": [
        "print(\"Meu nome é\", nome, \"e a variável resultado vale:\", resultado)"
      ]
    },
    {
      "cell_type": "code",
      "execution_count": null,
      "metadata": {
        "id": "M-09B3_cy3EZ"
      },
      "outputs": [],
      "source": [
        "print(f\"Meu nome é {nome} e a variável resultado vale: {resultado}\")"
      ]
    },
    {
      "cell_type": "code",
      "execution_count": null,
      "metadata": {
        "id": "GpdhQR-_xd9J"
      },
      "outputs": [],
      "source": [
        "print(\"Meu nome é {} e a variável resultado vale: {}\".format(nome, resultado))"
      ]
    },
    {
      "cell_type": "markdown",
      "metadata": {
        "id": "lXi2j8vLRZRJ"
      },
      "source": [
        "### Exercícios"
      ]
    },
    {
      "cell_type": "markdown",
      "metadata": {
        "id": "cTKXkFyzRvc8"
      },
      "source": [
        "1. Você terá que ler dois números (n1 e n2) digitados pelo usuário, calcular a soma entre eles e imprimir a seguinte mensagem em tela: \"A soma de n1 e n2 é:\", com o resultado encontrado em seguida."
      ]
    },
    {
      "cell_type": "code",
      "execution_count": 21,
      "metadata": {
        "id": "o-_78vegS_L8"
      },
      "outputs": [
        {
          "name": "stdout",
          "output_type": "stream",
          "text": [
            "A soma de n1 e n2 é: 10\n"
          ]
        }
      ],
      "source": [
        "\n",
        "n1 = int(input('Digite um numero')) \n",
        "n2 = int(input('Digite outro numero'))\n",
        "soma = n1 + n2\n",
        "print('A soma de n1 e n2 é:', soma)"
      ]
    },
    {
      "cell_type": "markdown",
      "metadata": {
        "id": "lNWKGe4TRj8h"
      },
      "source": [
        "2. Declare quatro variáveis, uma de cada tipo (int, float, string, bool), e em seguida, use a função type() para confirmar o tipo de dados de cada variável.\n",
        "\n",
        "Os nomes das variáveis deveme ser:\n",
        "\n",
        "* int_var\n",
        "* float_var\n",
        "* string_var\n",
        "* bool_var"
      ]
    },
    {
      "cell_type": "code",
      "execution_count": 23,
      "metadata": {
        "id": "zT-Gt5MaR1Nl"
      },
      "outputs": [
        {
          "name": "stdout",
          "output_type": "stream",
          "text": [
            "<class 'int'>\n",
            "<class 'float'>\n",
            "<class 'str'>\n",
            "<class 'bool'>\n"
          ]
        }
      ],
      "source": [
        "int_var = 1\n",
        "float_var = 1.5\n",
        "string_var = 'aula'\n",
        "bool_var = True\n",
        "\n",
        "print(type(int_var))\n",
        "print(type(float_var))\n",
        "print(type(string_var))\n",
        "print(type(bool_var))\n"
      ]
    },
    {
      "cell_type": "markdown",
      "metadata": {
        "id": "nE6S9etoR-lC"
      },
      "source": [
        "3. Crie um script que peça ao usuário para inserir seu nome e sua idade (utilizando a função input()), e em seguida, imprima uma mensagem de boas-vindas personalizada."
      ]
    },
    {
      "cell_type": "code",
      "execution_count": 24,
      "metadata": {
        "id": "Lwwnr4FKSEyZ"
      },
      "outputs": [
        {
          "name": "stdout",
          "output_type": "stream",
          "text": [
            "Bem vindo, Ésley. Sua idade é 25 anos.\n"
          ]
        }
      ],
      "source": [
        "name = input(\"Digite o seu nome: \")\n",
        "age = int(input('Digite sua idade:'))\n",
        "\n",
        "print(f\"Bem vindo, {name}. Sua idade é {age} anos.\")\n"
      ]
    },
    {
      "cell_type": "markdown",
      "metadata": {
        "id": "lb6NCuWvU7_o"
      },
      "source": [
        "4. Crie um programa que declare três variáveis: firstName, lastName e age, e então, use a função print() para imprimir uma frase completa que use essas variáveis. A frase deve ser \"Meu nome é {nome} {sobrenome} e tenho {idade} anos\".\n"
      ]
    },
    {
      "cell_type": "code",
      "execution_count": 27,
      "metadata": {
        "id": "6Z5_KEQsVqZ4"
      },
      "outputs": [
        {
          "name": "stdout",
          "output_type": "stream",
          "text": [
            "Me chamo Ésley Barbosa. Sua idade é 25 anos.\n",
            "Também posso usar este modo para dizer que meu nome é Ésley Barbosa, e tenho 25 anos\n"
          ]
        }
      ],
      "source": [
        "firstName = input(\"Digite seu primeiro nome:\")\n",
        "lastName = input(\"Digite seu sobrenome nome:\")\n",
        "age = int(input('Digite sua idade:'))\n",
        "\n",
        "print(f\"Me chamo {firstName} {lastName}. Minha idade é {age} anos.\")\n",
        "\n",
        "print(\"Também posso usar este modo para dizer que meu nome é {} {}, e tenho {} anos\".format(firstName, lastName, age))\n"
      ]
    },
    {
      "cell_type": "markdown",
      "metadata": {
        "id": "iKi7vQrtVrjm"
      },
      "source": [
        "5.  Utilize operadores aritméticos para calcular a área de um círculo, onde o raio = 5.\n",
        "\n",
        "A equação para o cáculo da área (A) é\n",
        "$$\n",
        "A = \\pi r^2\n",
        "$$\n",
        "\n"
      ]
    },
    {
      "cell_type": "code",
      "execution_count": 37,
      "metadata": {
        "id": "ukObYhP4VwJl"
      },
      "outputs": [
        {
          "name": "stdout",
          "output_type": "stream",
          "text": [
            "A área do círculo é 3.14159\n"
          ]
        }
      ],
      "source": [
        "raio = 1\n",
        "pi = 3.14159\n",
        "\n",
        "area = pi * raio ** 2\n",
        "\n",
        "print(f\"A área do círculo é {area}\")"
      ]
    },
    {
      "cell_type": "markdown",
      "metadata": {
        "id": "fFKblBjqV2bd"
      },
      "source": [
        "6.Crie um programa que declare uma variável com um valor inicial de 10, e em seguida, use operadores de atribuição para aumentar, diminuir, multiplicar e dividir o valor dessa variável por 2, imprimindo o resultado a cada passo."
      ]
    },
    {
      "cell_type": "code",
      "execution_count": 45,
      "metadata": {
        "id": "9WbTmUcXzPpz"
      },
      "outputs": [
        {
          "name": "stdout",
          "output_type": "stream",
          "text": [
            "12\n"
          ]
        }
      ],
      "source": [
        "value = 10\n",
        "value += 2\n",
        "print(value)"
      ]
    },
    {
      "cell_type": "code",
      "execution_count": 43,
      "metadata": {
        "id": "SDm0bqAMzRIR"
      },
      "outputs": [
        {
          "name": "stdout",
          "output_type": "stream",
          "text": [
            "-8\n"
          ]
        }
      ],
      "source": [
        "value -= 2\n",
        "print(value)"
      ]
    },
    {
      "cell_type": "code",
      "execution_count": 52,
      "metadata": {
        "id": "uAYuxgAqzSbC"
      },
      "outputs": [
        {
          "name": "stdout",
          "output_type": "stream",
          "text": [
            "12.0\n"
          ]
        }
      ],
      "source": [
        "value *= 2\n",
        "print(value)"
      ]
    },
    {
      "cell_type": "code",
      "execution_count": 50,
      "metadata": {
        "id": "sM9LnB4RWBdW"
      },
      "outputs": [
        {
          "name": "stdout",
          "output_type": "stream",
          "text": [
            "3.0\n"
          ]
        }
      ],
      "source": [
        "value /= 2\n",
        "print(value)"
      ]
    },
    {
      "cell_type": "markdown",
      "metadata": {
        "id": "mqC-5mdJWVvd"
      },
      "source": [
        "7. Crie um programa que solicite dois números do usuário (usando a função ```input()```), converta-os para ```float``` (caso eles entrem com um número decimal) ou ```int``` (se eles entrem com um número inteiro), e então imprima a soma, a subtração, a multiplicação e a divisão desses dois números."
      ]
    },
    {
      "cell_type": "code",
      "execution_count": 57,
      "metadata": {
        "id": "YshLN9tFW3RE"
      },
      "outputs": [
        {
          "name": "stdout",
          "output_type": "stream",
          "text": [
            "A soma é  10.0\n",
            "A diferença  0.0\n",
            "O produto é  25.0\n",
            "A divisão é  1.0\n"
          ]
        }
      ],
      "source": [
        "num1 = float(input(\"Digite o primeiro número: \"))\n",
        "num2 = float(input(\"Digite o segundo número: \"))\n",
        "\n",
        "print(\"A soma é \", num1 + num2)\n",
        "print(\"A diferença \", num1 - num2 )\n",
        "print(\"O produto é \", num1 * num2 )\n",
        "print(\"A divisão é \", num1 / num2 )\n"
      ]
    },
    {
      "cell_type": "markdown",
      "metadata": {
        "id": "q2OJRfGEZGkp"
      },
      "source": [
        "8. Função ```input()``` e Tipos de Dados: Crie um script que pergunte ao usuário sua altura (em metros) e seu peso (em quilos), e calcule o índice de massa corporal (IMC) do usuário."
      ]
    },
    {
      "cell_type": "code",
      "execution_count": 58,
      "metadata": {
        "id": "zzjkXTSzZNVT"
      },
      "outputs": [
        {
          "name": "stdout",
          "output_type": "stream",
          "text": [
            "Seu índice de massa corporal (IMC) is 24.22145328719723\n"
          ]
        }
      ],
      "source": [
        "altura = float(input(\"Digite sua altura (em centímetros): \"))\n",
        "peso = float(input(\"Digite seu peso (em quilogramas): \"))\n",
        "\n",
        "IMC = (peso) * 10000 / ((altura) ** 2)\n",
        "\n",
        "print(f\"Seu índice de massa corporal (IMC) is {IMC}\")\n"
      ]
    },
    {
      "cell_type": "markdown",
      "metadata": {
        "id": "0_X0YHPIaAEj"
      },
      "source": [
        "9. Operadores de Atribuição com Strings: Crie um programa que declare uma variável string com um texto de sua escolha, e use um operador de atribuição para adicionar outra string a ela."
      ]
    },
    {
      "cell_type": "code",
      "execution_count": 60,
      "metadata": {
        "id": "VDRJcjABaET1"
      },
      "outputs": [
        {
          "name": "stdout",
          "output_type": "stream",
          "text": [
            "Hoje, o dia está excelente para correr! \n"
          ]
        }
      ],
      "source": [
        "text = \"Hoje, o dia está excelente para \"\n",
        "text += \"correr! \"\n",
        "\n",
        "print(text)\n"
      ]
    },
    {
      "cell_type": "markdown",
      "metadata": {
        "id": "3Y2-HdQHbltx"
      },
      "source": [
        "10. Função ```print()``` com Separação de Strings: Crie um programa que imprima três strings separadas pelo caracter  \"-\" com a função ```print()```, utilizando o parâmetro ```sep``` para separar as strings com um caractere ou sequência de caracteres de sua escolha."
      ]
    },
    {
      "cell_type": "code",
      "execution_count": 61,
      "metadata": {
        "id": "SilUtAw_cBPx"
      },
      "outputs": [
        {
          "name": "stdout",
          "output_type": "stream",
          "text": [
            "Hello-world-Python\n"
          ]
        }
      ],
      "source": [
        "print(\"Hello\", \"world\", \"Python\", sep=\"-\")\n"
      ]
    },
    {
      "cell_type": "markdown",
      "metadata": {
        "id": "z_j6vuPi0OxI"
      },
      "source": [
        "Vamos testar outros tipos de separadores, tais como\n",
        "* \"\\n\"\n",
        "* \" \\t \"\n",
        "* \"  \"\n",
        "* \" , \"\n",
        "* \" | \""
      ]
    },
    {
      "cell_type": "markdown",
      "metadata": {
        "id": "Pk8SUgEZcT8v"
      },
      "source": [
        "11. Trabalhando com bool: Crie um programa que peça ao usuário para inserir dois números e, em seguida, verifique se o primeiro número é maior que o segundo, imprimindo o resultado como um valor booleano."
      ]
    },
    {
      "cell_type": "code",
      "execution_count": 66,
      "metadata": {
        "id": "ikaMHHXhc09H"
      },
      "outputs": [
        {
          "name": "stdout",
          "output_type": "stream",
          "text": [
            "O primeiro número é maior do que o segundo? True\n"
          ]
        }
      ],
      "source": [
        "num1 = float(input(\"Digite o primeiro número: \"))\n",
        "num2 = float(input(\"Digite o segundo número: \"))\n",
        "\n",
        "\n",
        "print(\"O primeiro número é maior do que o segundo?\", num1 > num2)\n"
      ]
    },
    {
      "cell_type": "markdown",
      "metadata": {
        "id": "pJJfboKddNpN"
      },
      "source": [
        "12. Operações com bool: Crie um programa que declare duas variáveis booleanas (bool1 e bool2), uma com o valor True e outra com False, e em seguida, imprima o resultado das operações AND, OR e NOT entre elas.\n",
        "\n"
      ]
    },
    {
      "cell_type": "code",
      "execution_count": 69,
      "metadata": {
        "id": "eWsPDADidbjG"
      },
      "outputs": [
        {
          "name": "stdout",
          "output_type": "stream",
          "text": [
            "operador AND: False\n",
            "operador OR: True\n",
            "operador NOT: False\n",
            "operador NOT: True\n"
          ]
        }
      ],
      "source": [
        "bool1 = True\n",
        "bool2 = False\n",
        "\n",
        "print(\"operador AND:\", bool1  and   bool2)\n",
        "print(\"operador OR:\", bool1 or bool2)\n",
        "print(\"operador NOT:\", not bool1)\n",
        "print(\"operador NOT:\", not bool2)\n"
      ]
    }
  ],
  "metadata": {
    "accelerator": "GPU",
    "colab": {
      "collapsed_sections": [
        "MzFztfvAheV1",
        "6ssWMB5eiAm6",
        "0qHx4IKSQvr9",
        "vA4YR8QJW7o0",
        "iqRee4tGMbAs",
        "6-n2XUEMLtPT",
        "voSosVEfQvr-",
        "hElSf_hfW4AO",
        "SACZXw0dQvr_",
        "MrS8TyDffWCk",
        "2_NbG5l-Qvr_"
      ],
      "provenance": []
    },
    "gpuClass": "standard",
    "kernelspec": {
      "display_name": "Python 3",
      "language": "python",
      "name": "python3"
    },
    "language_info": {
      "codemirror_mode": {
        "name": "ipython",
        "version": 3
      },
      "file_extension": ".py",
      "mimetype": "text/x-python",
      "name": "python",
      "nbconvert_exporter": "python",
      "pygments_lexer": "ipython3",
      "version": "3.10.11"
    }
  },
  "nbformat": 4,
  "nbformat_minor": 0
}
