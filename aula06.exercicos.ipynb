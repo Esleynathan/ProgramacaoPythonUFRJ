{
  "cells": [
    {
      "cell_type": "markdown",
      "id": "f3135387",
      "metadata": {
        "id": "f3135387"
      },
      "source": [
        "### Exercício 1\n",
        "Dada a string `s = 'A vida é bela!'`, imprima o comprimento da string."
      ]
    },
    {
      "cell_type": "code",
      "execution_count": null,
      "id": "695ac223",
      "metadata": {
        "cellView": "form",
        "id": "695ac223"
      },
      "outputs": [],
      "source": [
        "# @title Resolução 1\n",
        "\n",
        "s = 'A vida é bela!'\n",
        "length = len(s)\n",
        "length"
      ]
    },
    {
      "cell_type": "markdown",
      "id": "2efb7277",
      "metadata": {
        "id": "2efb7277"
      },
      "source": [
        "### Exercício 2\n",
        "Dada a string `s `, inverta a string."
      ]
    },
    {
      "cell_type": "code",
      "execution_count": null,
      "id": "00feb33d",
      "metadata": {
        "cellView": "form",
        "id": "00feb33d"
      },
      "outputs": [],
      "source": [
        "# @title Resolução 2\n",
        "s = 'Socorram-me subi no ônibus em Marrocos'\n",
        "reversed_s = s[::-1]\n",
        "reversed_s"
      ]
    },
    {
      "cell_type": "markdown",
      "id": "0be70332",
      "metadata": {
        "id": "0be70332"
      },
      "source": [
        "### Exercício 3\n",
        "Dada a string `s`, capitalize a string."
      ]
    },
    {
      "cell_type": "code",
      "execution_count": null,
      "id": "fb3b6a01",
      "metadata": {
        "cellView": "form",
        "id": "fb3b6a01"
      },
      "outputs": [],
      "source": [
        "# @title Resolução 3\n",
        "s = 'nietzsche'\n",
        "capitalized_s = s.capitalize()\n",
        "capitalized_s"
      ]
    },
    {
      "cell_type": "markdown",
      "id": "9092b9e6",
      "metadata": {
        "id": "9092b9e6"
      },
      "source": [
        "### Exercício 4\n",
        "Dada a string `s = 'IA`, repita a string 5 vezes."
      ]
    },
    {
      "cell_type": "code",
      "execution_count": null,
      "id": "e1822486",
      "metadata": {
        "cellView": "form",
        "id": "e1822486"
      },
      "outputs": [],
      "source": [
        "# @title Resolução 4\n",
        "s = 'IA'\n",
        "repeated_s = s * 5\n",
        "repeated_s"
      ]
    },
    {
      "cell_type": "markdown",
      "id": "03afc395",
      "metadata": {
        "id": "03afc395"
      },
      "source": [
        "### Exercício 5\n",
        "Dada a string `s = 'I love AI'`, substitua 'AI' por 'Python'."
      ]
    },
    {
      "cell_type": "code",
      "execution_count": null,
      "id": "93a8091c",
      "metadata": {
        "cellView": "form",
        "id": "93a8091c"
      },
      "outputs": [],
      "source": [
        "# @title Resolução 5\n",
        "s = 'I love AI'\n",
        "replaced_s = s.replace('AI', 'Python')\n",
        "replaced_s"
      ]
    },
    {
      "cell_type": "markdown",
      "id": "e821dc86",
      "metadata": {
        "id": "e821dc86"
      },
      "source": [
        "### Exercício 6\n",
        "Dada a string `s = 'Python, R, Scala'`, divida a string por vírgulas."
      ]
    },
    {
      "cell_type": "code",
      "execution_count": null,
      "id": "736669b0",
      "metadata": {
        "cellView": "form",
        "id": "736669b0"
      },
      "outputs": [],
      "source": [
        "# @title Resolução 6\n",
        "s = 'Python, R, Scala'\n",
        "split_s = s.split(', ')\n",
        "split_s"
      ]
    },
    {
      "cell_type": "markdown",
      "id": "d5ef4164",
      "metadata": {
        "id": "d5ef4164"
      },
      "source": [
        "### Exercício 7\n",
        "Dada a string `s = '   espaços extras   '`, remova os espaços extras no início e no final."
      ]
    },
    {
      "cell_type": "code",
      "execution_count": null,
      "id": "19502126",
      "metadata": {
        "cellView": "form",
        "id": "19502126"
      },
      "outputs": [],
      "source": [
        "# @title Resolução 7\n",
        "s = '   espaços extras   '\n",
        "trimmed_s = s.strip()\n",
        "trimmed_s"
      ]
    },
    {
      "cell_type": "markdown",
      "id": "ca0c53e7",
      "metadata": {
        "id": "ca0c53e7"
      },
      "source": [
        "### Exercício 8\n",
        "Dada a string `s = 'Python'`, converta a string para maiúsculas."
      ]
    },
    {
      "cell_type": "code",
      "execution_count": null,
      "id": "8b399ea1",
      "metadata": {
        "cellView": "form",
        "id": "8b399ea1"
      },
      "outputs": [],
      "source": [
        "# @title Resolução 8\n",
        "s = 'Python'\n",
        "upper_s = s.upper()\n",
        "upper_s"
      ]
    },
    {
      "cell_type": "markdown",
      "id": "9d2f6b1e",
      "metadata": {
        "id": "9d2f6b1e"
      },
      "source": [
        "### Exercício 9\n",
        "Dada a string `s = 'PYTHON'`, converta a string para minúsculas."
      ]
    },
    {
      "cell_type": "code",
      "execution_count": null,
      "id": "4b835227",
      "metadata": {
        "cellView": "form",
        "id": "4b835227"
      },
      "outputs": [],
      "source": [
        "# @title Resolução 9\n",
        "s = 'PYTHON'\n",
        "lower_s = s.lower()\n",
        "lower_s"
      ]
    },
    {
      "cell_type": "markdown",
      "id": "a663146d",
      "metadata": {
        "id": "a663146d"
      },
      "source": [
        "### Exercício 10\n",
        "Dada a string `s `, encontre o índice da palavra 'sensacional'."
      ]
    },
    {
      "cell_type": "code",
      "execution_count": null,
      "id": "c03e01a1",
      "metadata": {
        "cellView": "form",
        "id": "c03e01a1"
      },
      "outputs": [],
      "source": [
        "# @title Resolução 10\n",
        "s = 'Python é sensacional!'\n",
        "index = s.find('sensacional')\n",
        "index"
      ]
    },
    {
      "cell_type": "markdown",
      "id": "78125895",
      "metadata": {
        "id": "78125895"
      },
      "source": [
        "### Exercício 11\n",
        "Dada a string `s = 'Python'`, verifique se ela começa com 'Py'."
      ]
    },
    {
      "cell_type": "code",
      "execution_count": null,
      "id": "1c91edc8",
      "metadata": {
        "cellView": "form",
        "id": "1c91edc8"
      },
      "outputs": [],
      "source": [
        "# @title Resolução 11\n",
        "s = 'Python'\n",
        "starts_with_py = s.startswith('Py')\n",
        "starts_with_py"
      ]
    },
    {
      "cell_type": "markdown",
      "id": "e9baa018",
      "metadata": {
        "id": "e9baa018"
      },
      "source": [
        "### Exercício 12\n",
        "Dada a string `s = 'Python'`, verifique se ela termina com 'on'."
      ]
    },
    {
      "cell_type": "code",
      "execution_count": null,
      "id": "93dd8088",
      "metadata": {
        "cellView": "form",
        "id": "93dd8088"
      },
      "outputs": [],
      "source": [
        "# @title Resolução 12\n",
        "s = 'Python'\n",
        "ends_with_on = s.endswith('on')\n",
        "ends_with_on"
      ]
    },
    {
      "cell_type": "markdown",
      "id": "0fbc3f20",
      "metadata": {
        "id": "0fbc3f20"
      },
      "source": [
        "### Exercício 13\n",
        "Dada a string `s = 'Python'`, conte quantas vezes a letra 'o' aparece."
      ]
    },
    {
      "cell_type": "code",
      "execution_count": null,
      "id": "0e40f863",
      "metadata": {
        "cellView": "form",
        "id": "0e40f863"
      },
      "outputs": [],
      "source": [
        "# @title Resolução 13\n",
        "s = 'Python'\n",
        "occurrences = s.count('o')\n",
        "occurrences"
      ]
    },
    {
      "cell_type": "markdown",
      "id": "cf3e6183",
      "metadata": {
        "id": "cf3e6183"
      },
      "source": [
        "### Exercício 14\n",
        "Dada a string `s = '12345'`, verifique se ela consiste apenas em dígitos."
      ]
    },
    {
      "cell_type": "code",
      "execution_count": null,
      "id": "ab98b092",
      "metadata": {
        "cellView": "form",
        "id": "ab98b092"
      },
      "outputs": [],
      "source": [
        "# @title Resolução 14\n",
        "s = '12345'\n",
        "is_digits = s.isdigit()\n",
        "is_digits"
      ]
    },
    {
      "cell_type": "markdown",
      "id": "88b3ef46",
      "metadata": {
        "id": "88b3ef46"
      },
      "source": [
        "### Exercício 15\n",
        "Dada a string `s = 'Python'`, substitua a letra 'o' por '0' e a letra 'y' por 'Y'."
      ]
    },
    {
      "cell_type": "code",
      "execution_count": null,
      "id": "4f3729ad",
      "metadata": {
        "cellView": "form",
        "id": "4f3729ad"
      },
      "outputs": [],
      "source": [
        "# @title Resolução 15\n",
        "s = 'Python'\n",
        "modified_s = s.replace('o', '0').replace('y', 'Y')\n",
        "modified_s"
      ]
    },
    {
      "cell_type": "markdown",
      "id": "fa94ad1c",
      "metadata": {
        "id": "fa94ad1c"
      },
      "source": [
        "### Exercício 16\n",
        "Dada a lista `words = ['maçã', 'banana', 'cereja']`, junte as palavras usando um hífen '-'."
      ]
    },
    {
      "cell_type": "code",
      "execution_count": null,
      "id": "69b27e85",
      "metadata": {
        "cellView": "form",
        "id": "69b27e85"
      },
      "outputs": [],
      "source": [
        "# @title Resolução 16\n",
        "words = ['maçã', 'banana', 'cereja']\n",
        "joined_words = '-'.join(words)\n",
        "joined_words"
      ]
    },
    {
      "cell_type": "markdown",
      "id": "62b2afa4",
      "metadata": {
        "id": "62b2afa4"
      },
      "source": [
        "### Exercício 17\n",
        "Dada a string `s = 'Python'`, use o método `center` para centralizar a string dentro de um campo de 20 caracteres, preenchido com '*'."
      ]
    },
    {
      "cell_type": "code",
      "execution_count": null,
      "id": "a2f2eeaa",
      "metadata": {
        "cellView": "form",
        "id": "a2f2eeaa"
      },
      "outputs": [],
      "source": [
        "# @title Resolução 17\n",
        "s = 'Python'\n",
        "centered_s = s.center(20, '*')\n",
        "centered_s"
      ]
    },
    {
      "cell_type": "markdown",
      "id": "972db17e",
      "metadata": {
        "id": "972db17e"
      },
      "source": [
        "### Exercício 18\n",
        "Dada a string `s `, converta a primeira letra de cada palavra para maiúscula usando o método `title()`."
      ]
    },
    {
      "cell_type": "code",
      "execution_count": null,
      "id": "e4f7e5c6",
      "metadata": {
        "cellView": "form",
        "id": "e4f7e5c6"
      },
      "outputs": [],
      "source": [
        "# @title Resolução 18\n",
        "s = 'linguagem de programação python'\n",
        "titled_s = s.title()\n",
        "titled_s"
      ]
    },
    {
      "cell_type": "markdown",
      "id": "ab78c02f",
      "metadata": {
        "id": "ab78c02f"
      },
      "source": [
        "### Exercício 19\n",
        "Dada a string `s`, reverta a ordem das palavras na string."
      ]
    },
    {
      "cell_type": "code",
      "execution_count": null,
      "id": "b535dd0b",
      "metadata": {
        "cellView": "form",
        "id": "b535dd0b"
      },
      "outputs": [],
      "source": [
        "# @title Resolução 19\n",
        "s = 'Você é minha vida'\n",
        "reversed_words = ' '.join(s.split()[::-1])\n",
        "reversed_words"
      ]
    },
    {
      "cell_type": "markdown",
      "id": "e164cafd",
      "metadata": {
        "id": "e164cafd"
      },
      "source": [
        "### Exercício 20\n",
        "Dada a string `s = 'Python'`, verifique se todos os caracteres são alfabéticos."
      ]
    },
    {
      "cell_type": "code",
      "execution_count": null,
      "id": "4fd21acc",
      "metadata": {
        "cellView": "form",
        "id": "4fd21acc"
      },
      "outputs": [],
      "source": [
        "# @title Resolução 20\n",
        "s = 'Python'\n",
        "is_alpha = s.isalpha()\n",
        "is_alpha"
      ]
    },
    {
      "cell_type": "markdown",
      "metadata": {
        "id": "7614456e"
      },
      "source": [
        "### Exercício 21\n",
        "\n",
        "Dados a = 5 e b = 10, retorne o seguinte texto: \"Resultado esperado: 5 + 10 = 15\""
      ],
      "id": "7614456e"
    },
    {
      "cell_type": "code",
      "execution_count": null,
      "metadata": {
        "id": "b984e019",
        "cellView": "form"
      },
      "outputs": [],
      "source": [
        "# @title Resolução 21\n",
        "a=5\n",
        "b=10\n",
        "c= a + b\n",
        "\"Resultado esperado: {} + {} = {}\".format(a,b,c)"
      ],
      "id": "b984e019"
    },
    {
      "cell_type": "markdown",
      "metadata": {
        "id": "a4ad8ea6"
      },
      "source": [
        "### Exercício 22\n",
        "\n",
        "Utilize a formatação com f-strings para inserir uma variável float com duas casas decimais. Exemplo: `pi = 3.14159`, Resultado esperado: 'O valor de pi é 3.14'"
      ],
      "id": "a4ad8ea6"
    },
    {
      "cell_type": "code",
      "execution_count": null,
      "metadata": {
        "id": "ca188981",
        "cellView": "form"
      },
      "outputs": [],
      "source": [
        "# @title Resolução 22\n",
        "pi = 3.141559\n",
        "\"O valor de pi é {:.2f}\".format(pi)"
      ],
      "id": "ca188981"
    },
    {
      "cell_type": "markdown",
      "metadata": {
        "id": "41d9f41c"
      },
      "source": [
        "### Exercício 23\n",
        "\n",
        "Alinhe uma string à esquerda, à direita e ao centro usando os seguintes caracteres de preenchiment: 'l', 'r' e 'c', respectivamente, e um tamanho de 20 caracteres no total"
      ],
      "id": "41d9f41c"
    },
    {
      "cell_type": "markdown",
      "source": [
        "Você pode alinhar uma string à esquerda, à direita e ao centro usando o método `ljust`, `rjust`, e `center`, respectivamente, em Python. Esses métodos permitem que você especifique tanto o comprimento total da string resultante quanto o caractere de preenchimento.\n",
        "\n",
        "\n",
        "- `ljust`: Alinha a string à esquerda e preenche o lado direito com espaços (ou outro caractere de preenchimento).\n",
        "- `rjust`: Alinha a string à direita e preenche o lado esquerdo com espaços (ou outro caractere de preenchimento).\n",
        "- `center`: Centraliza a string e preenche ambos os lados com espaços (ou outro caractere de preenchimento)."
      ],
      "metadata": {
        "id": "LpQbyGT0iwPq"
      },
      "id": "LpQbyGT0iwPq"
    },
    {
      "cell_type": "code",
      "execution_count": null,
      "metadata": {
        "id": "b814ba87",
        "cellView": "form"
      },
      "outputs": [],
      "source": [
        "# @title Resolução 23\n",
        "\n",
        "# Definindo a string\n",
        "text = 'Python'\n",
        "\n",
        "# Alinhando à esquerda, à direita e ao centro com os caraceteres 'l','r'. e 'c'\n",
        "left_aligned = text.ljust(20, 'l')\n",
        "right_aligned = text.rjust(20, 'r')\n",
        "center_aligned = text.center(20, 'c')\n",
        "\n",
        "print(left_aligned)\n",
        "print(right_aligned)\n",
        "print(center_aligned)\n",
        "\n"
      ],
      "id": "b814ba87"
    },
    {
      "cell_type": "markdown",
      "metadata": {
        "id": "9b6de214"
      },
      "source": [
        "### Exercício 24\n",
        "\n",
        "Formate uma data usando a formatação de string. Exemplo: `dia = 15`, `mes = 8`, `ano = 2023`, Resultado esperado: '15/08/2023'"
      ],
      "id": "9b6de214"
    },
    {
      "cell_type": "markdown",
      "source": [
        "Você pode formatar uma data usando a formatação de string em Python de várias maneiras. Uma das abordagens mais comuns é utilizando o método `format`. Vamos considerar a data com o dia = 15, mês = 8 e ano = 2023.\n",
        "\n",
        "1. Você pode definir a string de formatação, que inclui marcadores de posição para o dia, mês e ano, usando `{}`.\n",
        "2. Use o método `format` para preencher os marcadores de posição com os valores do dia, mês e ano.\n"
      ],
      "metadata": {
        "id": "fhabARnJjAZI"
      },
      "id": "fhabARnJjAZI"
    },
    {
      "cell_type": "code",
      "source": [
        "# @title Resolução 24\n",
        "dia = 15\n",
        "mes = 8\n",
        "ano = 2023\n",
        "\n",
        "data_formatada = \"{:02d}/{:02d}/{}\".format(dia, mes, ano)\n",
        "data_formatada"
      ],
      "metadata": {
        "cellView": "form",
        "id": "jqaOQfLXjOLa"
      },
      "id": "jqaOQfLXjOLa",
      "execution_count": null,
      "outputs": []
    },
    {
      "cell_type": "markdown",
      "metadata": {
        "id": "dabceba3"
      },
      "source": [
        "### Exercício 5\n",
        "\n",
        "Utilize a formatação de string para representar um número em formato de moeda. Exemplo: `preco = 1500.5`, Resultado esperado: 'R$ 1,500.50'"
      ],
      "id": "dabceba3"
    },
    {
      "cell_type": "code",
      "execution_count": null,
      "metadata": {
        "id": "529b7723",
        "cellView": "form"
      },
      "outputs": [],
      "source": [
        "# @title Resolução 25\n",
        "\n",
        "preco = 1500.5\n",
        "\n",
        "# Formatando o preço no formato de moeda\n",
        "preco_formatado = 'RS$ {:,.2f}'.format(preco)\n",
        "preco_formatado\n",
        "\n",
        "preco_formatado.replace(' ', '').replace(',',' ').replace('.',',').replace(' ','.')"
      ],
      "id": "529b7723"
    },
    {
      "cell_type": "code",
      "source": [],
      "metadata": {
        "id": "f3deV3CCwoAV"
      },
      "id": "f3deV3CCwoAV",
      "execution_count": null,
      "outputs": []
    }
  ],
  "metadata": {
    "colab": {
      "provenance": []
    },
    "language_info": {
      "name": "python"
    },
    "kernelspec": {
      "name": "python3",
      "display_name": "Python 3"
    }
  },
  "nbformat": 4,
  "nbformat_minor": 5
}