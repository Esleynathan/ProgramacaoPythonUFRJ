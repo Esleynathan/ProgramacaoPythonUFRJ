{
  "cells": [
    {
      "cell_type": "markdown",
      "source": [
        "# Exploração de Dados do Titanic com Pandas\n",
        "\n",
        "Neste notebook, vamos explorar o conjunto de dados do Titanic usando a biblioteca Pandas. Este é um conjunto de dados clássico frequentemente usado em ciência de dados e aprendizado de máquina para tarefas de classificação."
      ],
      "metadata": {
        "noteable": {
          "cell_type": "markdown"
        },
        "id": "59fc1fdd-2159-474e-84eb-9189c66d3729"
      },
      "id": "59fc1fdd-2159-474e-84eb-9189c66d3729"
    },
    {
      "cell_type": "code",
      "source": [
        "!pip install -q pandas"
      ],
      "outputs": [],
      "execution_count": null,
      "metadata": {
        "noteable": {
          "cell_type": "code"
        },
        "ExecuteTime": {
          "end_time": "2023-08-28T13:16:44.196664+00:00",
          "start_time": "2023-08-28T13:16:38.333581+00:00"
        },
        "id": "ddbaebad-cb40-4e5c-a367-675c0ba3db8b"
      },
      "id": "ddbaebad-cb40-4e5c-a367-675c0ba3db8b"
    },
    {
      "cell_type": "code",
      "source": [
        "import pandas as pd\n",
        "\n",
        "# Carregar o conjunto de dados do Titanic\n",
        "url = 'https://web.stanford.edu/class/archive/cs/cs109/cs109.1166/stuff/titanic.csv'\n",
        "titanic_data = pd.read_csv(url)"
      ],
      "outputs": [],
      "execution_count": null,
      "metadata": {
        "noteable": {
          "cell_type": "code"
        },
        "ExecuteTime": {
          "end_time": "2023-08-28T13:17:03.940071+00:00",
          "start_time": "2023-08-28T13:17:03.231981+00:00"
        },
        "datalink": {
          "fa1b7920-445f-4c3e-8c29-9ed15f2fcd91": {
            "applied_filters": [],
            "dataframe_info": {
              "default_index_used": true,
              "orig_num_cols": 8,
              "orig_num_rows": 5,
              "orig_size_bytes": 360,
              "truncated_num_cols": 8,
              "truncated_num_rows": 5,
              "truncated_size_bytes": 360,
              "truncated_string_columns": []
            },
            "display_id": "fa1b7920-445f-4c3e-8c29-9ed15f2fcd91",
            "dx_settings": {
              "ALLOW_NOTEABLE_ATTRS": true,
              "COLUMN_SAMPLING_METHOD": "outer",
              "DB_LOCATION": ":memory:",
              "DEV_MODE": false,
              "DISPLAY_MAX_COLUMNS": 100,
              "DISPLAY_MAX_ROWS": 50000,
              "DISPLAY_MODE": "simple",
              "ENABLE_ASSIGNMENT": true,
              "ENABLE_DATALINK": true,
              "FLATTEN_COLUMN_VALUES": true,
              "FLATTEN_INDEX_VALUES": false,
              "GENERATE_DEX_METADATA": false,
              "HTML_TABLE_SCHEMA": false,
              "LOG_LEVEL": 30,
              "MAX_RENDER_SIZE_BYTES": 104857600,
              "MAX_STRING_LENGTH": 250,
              "NUM_PAST_SAMPLES_TRACKED": 3,
              "RANDOM_STATE": 12648430,
              "RESET_INDEX_VALUES": false,
              "ROW_SAMPLING_METHOD": "random",
              "SAMPLING_FACTOR": 0.1,
              "SAMPLING_METHOD": "random",
              "STRINGIFY_COLUMN_VALUES": true,
              "STRINGIFY_INDEX_VALUES": false
            },
            "sample_history": [],
            "sampling_time": "2023-08-28T13:17:03.760619",
            "user_variable_name": null,
            "variable_name": "unk_dataframe_95a9abdb36274ae49f126767f851e863"
          }
        },
        "id": "43306609-1666-4773-a0c4-ba1d3d019261"
      },
      "id": "43306609-1666-4773-a0c4-ba1d3d019261"
    },
    {
      "cell_type": "markdown",
      "source": [
        "## Análise Descritiva em Pandas\n",
        "\n",
        "Nesta seção, vamos realizar uma análise descritiva básica do conjunto de dados do Titanic. Vamos usar métodos como `.head()`, `.info()`, e `.describe()` para obter uma visão geral dos dados. Também utilizaremos `apply` e `groupby` para análises mais específicas."
      ],
      "metadata": {
        "noteable": {
          "cell_type": "markdown"
        },
        "id": "5285d65f-908e-4e98-951d-64c7fc300f0d"
      },
      "id": "5285d65f-908e-4e98-951d-64c7fc300f0d"
    },
    {
      "cell_type": "code",
      "source": [
        "# Exibir as primeiras 5 linhas do DataFrame para revisão\n",
        "titanic_data.head()"
      ],
      "outputs": [],
      "execution_count": null,
      "metadata": {
        "noteable": {
          "cell_type": "code"
        },
        "ExecuteTime": {
          "end_time": "2023-08-28T13:21:15.827724+00:00",
          "start_time": "2023-08-28T13:21:15.602181+00:00"
        },
        "datalink": {
          "0635020a-1a5e-495f-8934-552ae442a488": {
            "applied_filters": [],
            "dataframe_info": {
              "default_index_used": true,
              "orig_num_cols": 8,
              "orig_num_rows": 5,
              "orig_size_bytes": 360,
              "truncated_num_cols": 8,
              "truncated_num_rows": 5,
              "truncated_size_bytes": 360,
              "truncated_string_columns": []
            },
            "display_id": "0635020a-1a5e-495f-8934-552ae442a488",
            "dx_settings": {
              "ALLOW_NOTEABLE_ATTRS": true,
              "COLUMN_SAMPLING_METHOD": "outer",
              "DB_LOCATION": ":memory:",
              "DEV_MODE": false,
              "DISPLAY_MAX_COLUMNS": 100,
              "DISPLAY_MAX_ROWS": 50000,
              "DISPLAY_MODE": "simple",
              "ENABLE_ASSIGNMENT": true,
              "ENABLE_DATALINK": true,
              "FLATTEN_COLUMN_VALUES": true,
              "FLATTEN_INDEX_VALUES": false,
              "GENERATE_DEX_METADATA": false,
              "HTML_TABLE_SCHEMA": false,
              "LOG_LEVEL": 30,
              "MAX_RENDER_SIZE_BYTES": 104857600,
              "MAX_STRING_LENGTH": 250,
              "NUM_PAST_SAMPLES_TRACKED": 3,
              "RANDOM_STATE": 12648430,
              "RESET_INDEX_VALUES": false,
              "ROW_SAMPLING_METHOD": "random",
              "SAMPLING_FACTOR": 0.1,
              "SAMPLING_METHOD": "random",
              "STRINGIFY_COLUMN_VALUES": true,
              "STRINGIFY_INDEX_VALUES": false
            },
            "sample_history": [],
            "sampling_time": "2023-08-28T13:21:15.659476",
            "user_variable_name": null,
            "variable_name": "unk_dataframe_3aac88d0cacb4216ab9ff32cd611fce6"
          }
        },
        "id": "5bba8924-60fb-4921-a993-c918609df600"
      },
      "id": "5bba8924-60fb-4921-a993-c918609df600"
    },
    {
      "cell_type": "code",
      "source": [
        "# Informações gerais sobre o DataFrame, incluindo o tipo de dados e valores nulos\n",
        "titanic_data.info()"
      ],
      "outputs": [],
      "execution_count": null,
      "metadata": {
        "noteable": {
          "cell_type": "code"
        },
        "ExecuteTime": {
          "end_time": "2023-08-28T13:21:39.036784+00:00",
          "start_time": "2023-08-28T13:21:38.871685+00:00"
        },
        "id": "f5b00176-56cb-4320-ae5e-494cf95af5aa"
      },
      "id": "f5b00176-56cb-4320-ae5e-494cf95af5aa"
    },
    {
      "cell_type": "code",
      "source": [
        "# Estatísticas descritivas básicas para cada coluna\n",
        "titanic_data.describe()"
      ],
      "outputs": [],
      "execution_count": null,
      "metadata": {
        "noteable": {
          "cell_type": "code"
        },
        "ExecuteTime": {
          "end_time": "2023-08-28T13:21:58.282537+00:00",
          "start_time": "2023-08-28T13:21:58.049792+00:00"
        },
        "datalink": {
          "bdb68899-ef29-4d37-a974-6485018eed20": {
            "applied_filters": [],
            "dataframe_info": {
              "default_index_used": false,
              "orig_num_cols": 6,
              "orig_num_rows": 8,
              "orig_size_bytes": 448,
              "truncated_num_cols": 6,
              "truncated_num_rows": 8,
              "truncated_size_bytes": 448,
              "truncated_string_columns": []
            },
            "display_id": "bdb68899-ef29-4d37-a974-6485018eed20",
            "dx_settings": {
              "ALLOW_NOTEABLE_ATTRS": true,
              "COLUMN_SAMPLING_METHOD": "outer",
              "DB_LOCATION": ":memory:",
              "DEV_MODE": false,
              "DISPLAY_MAX_COLUMNS": 100,
              "DISPLAY_MAX_ROWS": 50000,
              "DISPLAY_MODE": "simple",
              "ENABLE_ASSIGNMENT": true,
              "ENABLE_DATALINK": true,
              "FLATTEN_COLUMN_VALUES": true,
              "FLATTEN_INDEX_VALUES": false,
              "GENERATE_DEX_METADATA": false,
              "HTML_TABLE_SCHEMA": false,
              "LOG_LEVEL": 30,
              "MAX_RENDER_SIZE_BYTES": 104857600,
              "MAX_STRING_LENGTH": 250,
              "NUM_PAST_SAMPLES_TRACKED": 3,
              "RANDOM_STATE": 12648430,
              "RESET_INDEX_VALUES": false,
              "ROW_SAMPLING_METHOD": "random",
              "SAMPLING_FACTOR": 0.1,
              "SAMPLING_METHOD": "random",
              "STRINGIFY_COLUMN_VALUES": true,
              "STRINGIFY_INDEX_VALUES": false
            },
            "sample_history": [],
            "sampling_time": "2023-08-28T13:21:58.115965",
            "user_variable_name": null,
            "variable_name": "unk_dataframe_09fc59d733614ecfb01e033c1d5a5f50"
          }
        },
        "id": "1345a593-b8b6-4e49-a7ea-6f8bbf5d3c5b"
      },
      "id": "1345a593-b8b6-4e49-a7ea-6f8bbf5d3c5b"
    },
    {
      "cell_type": "code",
      "source": [
        "titanic_data.shape[0]  # retorna a quantidade de linhas do df\n",
        "titanic_data.shape[1]  # retorna a quantidade de colunas do df\n",
        "titanic_data.shape\n",
        "\n",
        "print(titanic_data.shape[0],'-',\n",
        "      titanic_data.shape[1],'-',\n",
        "      titanic_data.shape)"
      ],
      "metadata": {
        "id": "F2LrTQdrj6Yt"
      },
      "id": "F2LrTQdrj6Yt",
      "execution_count": null,
      "outputs": []
    },
    {
      "cell_type": "code",
      "source": [
        "# Função para categorizar a idade\n",
        "\n",
        "def categorize_age(age):\n",
        "    if age < 18:\n",
        "        return 'Child'\n",
        "    elif age >= 18 and age < 60:\n",
        "        return 'Adult'\n",
        "    else:\n",
        "        return 'Senior'"
      ],
      "outputs": [],
      "execution_count": null,
      "metadata": {
        "noteable": {
          "cell_type": "code"
        },
        "ExecuteTime": {
          "end_time": "2023-08-28T13:22:22.675398+00:00",
          "start_time": "2023-08-28T13:22:22.437098+00:00"
        },
        "datalink": {
          "8d47598a-d5b3-4d65-beb2-f3dee62d6f2e": {
            "applied_filters": [],
            "dataframe_info": {
              "default_index_used": true,
              "orig_num_cols": 9,
              "orig_num_rows": 5,
              "orig_size_bytes": 400,
              "truncated_num_cols": 9,
              "truncated_num_rows": 5,
              "truncated_size_bytes": 400,
              "truncated_string_columns": []
            },
            "display_id": "8d47598a-d5b3-4d65-beb2-f3dee62d6f2e",
            "dx_settings": {
              "ALLOW_NOTEABLE_ATTRS": true,
              "COLUMN_SAMPLING_METHOD": "outer",
              "DB_LOCATION": ":memory:",
              "DEV_MODE": false,
              "DISPLAY_MAX_COLUMNS": 100,
              "DISPLAY_MAX_ROWS": 50000,
              "DISPLAY_MODE": "simple",
              "ENABLE_ASSIGNMENT": true,
              "ENABLE_DATALINK": true,
              "FLATTEN_COLUMN_VALUES": true,
              "FLATTEN_INDEX_VALUES": false,
              "GENERATE_DEX_METADATA": false,
              "HTML_TABLE_SCHEMA": false,
              "LOG_LEVEL": 30,
              "MAX_RENDER_SIZE_BYTES": 104857600,
              "MAX_STRING_LENGTH": 250,
              "NUM_PAST_SAMPLES_TRACKED": 3,
              "RANDOM_STATE": 12648430,
              "RESET_INDEX_VALUES": false,
              "ROW_SAMPLING_METHOD": "random",
              "SAMPLING_FACTOR": 0.1,
              "SAMPLING_METHOD": "random",
              "STRINGIFY_COLUMN_VALUES": true,
              "STRINGIFY_INDEX_VALUES": false
            },
            "sample_history": [],
            "sampling_time": "2023-08-28T13:22:22.507648",
            "user_variable_name": null,
            "variable_name": "unk_dataframe_eb4c9672f70c4105ab691884b633ebff"
          }
        },
        "id": "2adb1199-869d-4808-a7e7-1e54dbd3606b"
      },
      "id": "2adb1199-869d-4808-a7e7-1e54dbd3606b"
    },
    {
      "cell_type": "code",
      "source": [
        "# Aplicar a função para criar uma nova coluna 'Age_Category'\n",
        "titanic_data['Age_Category'] = titanic_data['Age'].apply(categorize_age)\n",
        "titanic_data.head()"
      ],
      "metadata": {
        "id": "VXxA5K3Al4sm"
      },
      "id": "VXxA5K3Al4sm",
      "execution_count": null,
      "outputs": []
    },
    {
      "cell_type": "code",
      "source": [
        "# Utilizando sum() para descobrir quantas pessoas sobreviveram\n",
        "\n",
        "titanic_data['Survived'].sum()"
      ],
      "metadata": {
        "id": "mk5aJXkqmcqn"
      },
      "id": "mk5aJXkqmcqn",
      "execution_count": null,
      "outputs": []
    },
    {
      "cell_type": "markdown",
      "source": [
        "## Filtros"
      ],
      "metadata": {
        "id": "yW74dapOqIq9"
      },
      "id": "yW74dapOqIq9"
    },
    {
      "cell_type": "code",
      "source": [
        "print(titanic_data['Fare'].mean())\n",
        "print(titanic_data['Fare'].max())\n",
        "print(titanic_data['Fare'].min())"
      ],
      "metadata": {
        "id": "RGJcDZP_qc0d"
      },
      "id": "RGJcDZP_qc0d",
      "execution_count": null,
      "outputs": []
    },
    {
      "cell_type": "code",
      "source": [
        "# Homens que pagaram o valor do bilhete acima da média\n",
        "\n",
        "filtro = (titanic_data.Sex == \"male\") & (titanic_data.Fare > titanic_data[\"Fare\"].mean())\n",
        "df_fare_homens_acima_media = titanic_data[filtro]\n",
        "df_fare_homens_acima_media"
      ],
      "metadata": {
        "id": "F4PhZPN7qKXa"
      },
      "id": "F4PhZPN7qKXa",
      "execution_count": null,
      "outputs": []
    },
    {
      "cell_type": "code",
      "source": [
        "# Analisando quantos os passageiros que viajaram de graça em relação a sua sobrevivência\n",
        "\n",
        "titanic_data[titanic_data.Fare == 0].Survived.value_counts(normalize=False)"
      ],
      "metadata": {
        "id": "gIWrlbM9rHXj"
      },
      "id": "gIWrlbM9rHXj",
      "execution_count": null,
      "outputs": []
    },
    {
      "cell_type": "code",
      "source": [
        "# Quem foi este único sobreviivente?\n",
        "\n",
        "titanic_data[(titanic_data.Fare == 0) & (titanic_data.Survived == 1)]['Name']"
      ],
      "metadata": {
        "id": "NkAMgXIqtNkw"
      },
      "id": "NkAMgXIqtNkw",
      "execution_count": null,
      "outputs": []
    },
    {
      "cell_type": "code",
      "source": [
        "# Valor Médio pago por quem sobreviveu\n",
        "\n",
        "titanic_data[titanic_data.Survived == 1].Fare.mean()"
      ],
      "metadata": {
        "id": "1mYg_b7htjsB"
      },
      "id": "1mYg_b7htjsB",
      "execution_count": null,
      "outputs": []
    },
    {
      "cell_type": "markdown",
      "source": [
        "## groupby()\n",
        "\n",
        "\n",
        "O `groupby()` da biblioteca Pandas é uma função que permite agrupar dados em um DataFrame com base em um ou mais valores de colunas. Isso pode ser útil para realizar operações estatísticas ou de agregação em grupos de dados.\n",
        "\n",
        "A sintaxe básica para o `groupby()` é:\n",
        "\n",
        "```\n",
        "df.groupby(by=[col1, col2])\n",
        "```\n",
        "\n",
        "onde `df` é o DataFrame e `by` é uma lista de colunas ou um único nome de coluna que você deseja agrupar.\n",
        "\n",
        "Por exemplo, o seguinte código agrupa um DataFrame de vendas por produto e calcula o total de vendas para cada produto:\n",
        "\n",
        "```\n",
        "df.groupby('product')['total_sales'].sum()\n",
        "```\n",
        "\n",
        "O resultado deste código é um DataFrame com uma única coluna, `total_sales`, que contém o total de vendas para cada produto.\n",
        "\n",
        "O `groupby()` pode ser usado com uma variedade de funções para realizar operações estatísticas ou de agregação em grupos de dados. Algumas das funções mais comuns incluem:\n",
        "\n",
        "* `mean()`: Calcula a média dos valores em um grupo.\n",
        "* `sum()`: Calcula a soma dos valores em um grupo.\n",
        "* `count()`: Conta o número de valores em um grupo.\n",
        "* `std()`: Calcula o desvio padrão dos valores em um grupo.\n",
        "* `var()`: Calcula a variância dos valores em um grupo.\n",
        "* `size()`: calcula o tamanho do grupo\n",
        "\n"
      ],
      "metadata": {
        "id": "CsmPwJsQmrEb"
      },
      "id": "CsmPwJsQmrEb"
    },
    {
      "cell_type": "code",
      "source": [
        "# 5 usos diferentes de groupby\n",
        "\n",
        "# 1. Média de sobrevivência por sexo\n",
        "survival_by_sex = titanic_data.groupby('Sex')['Age'].mean()\n",
        "survival_by_sex"
      ],
      "outputs": [],
      "execution_count": null,
      "metadata": {
        "noteable": {
          "cell_type": "code"
        },
        "ExecuteTime": {
          "end_time": "2023-08-28T13:23:02.206684+00:00",
          "start_time": "2023-08-28T13:23:02.033331+00:00"
        },
        "id": "599d21be-7346-46ce-8a64-3129ecf2e126"
      },
      "id": "599d21be-7346-46ce-8a64-3129ecf2e126"
    },
    {
      "cell_type": "code",
      "source": [
        "# 2. Média de idade por categoria de idade\n",
        "avg_age_by_category = titanic_data.groupby('Age_Category')['Age'].mean()\n",
        "avg_age_by_category"
      ],
      "metadata": {
        "id": "3GFRJnbGW2se"
      },
      "id": "3GFRJnbGW2se",
      "execution_count": null,
      "outputs": []
    },
    {
      "cell_type": "code",
      "source": [
        "# 3. Tarifa média por classe\n",
        "avg_fare_by_class = titanic_data.groupby('Pclass')['Fare'].mean()\n",
        "avg_fare_by_class"
      ],
      "metadata": {
        "id": "KTzyH7hakM1h"
      },
      "id": "KTzyH7hakM1h",
      "execution_count": null,
      "outputs": []
    },
    {
      "cell_type": "code",
      "source": [
        "# 4. Sobreviventes por Classe\n",
        "\n",
        "survived_by_class = titanic_data.groupby('Pclass')['Survived'].sum()\n",
        "survived_by_class"
      ],
      "metadata": {
        "id": "PEoSs8e8o338"
      },
      "id": "PEoSs8e8o338",
      "execution_count": null,
      "outputs": []
    },
    {
      "cell_type": "code",
      "source": [
        "# 5. Número de passageiros em cada categoria de idade\n",
        "passengers_in_each_category = titanic_data.groupby('Age_Category').size()\n",
        "passengers_in_each_category"
      ],
      "metadata": {
        "id": "X_OWplacW7Xa"
      },
      "id": "X_OWplacW7Xa",
      "execution_count": null,
      "outputs": []
    },
    {
      "cell_type": "code",
      "source": [
        "# 6. Total de passageiros por Classe e sexo\n",
        "\n",
        "Total_Passangers_Class_Sex = titanic_data.groupby(['Pclass','Sex']).size().reset_index(name='Total_Passengers_per_Class_Sex')\n",
        "Total_Passangers_Class_Sex"
      ],
      "metadata": {
        "id": "SlDA66egkZnc"
      },
      "id": "SlDA66egkZnc",
      "execution_count": null,
      "outputs": []
    },
    {
      "cell_type": "code",
      "source": [
        "# 7. Total de passageiros por Classe e sexo que sobreviveram\n",
        "\n",
        "# Filtrar o DataFrame para incluir apenas os registros onde 'Survived' é igual a 1\n",
        "survived_data = titanic_data[titanic_data['Survived'] == 1]\n",
        "\n",
        "# Contar o número de passageiros que sobreviveram por classe e sexo\n",
        "survived_by_class_sex = survived_data.groupby(['Pclass', 'Sex']).size().reset_index(name='Survived_Passengers')\n",
        "survived_by_class_sex"
      ],
      "metadata": {
        "id": "vGblm1cfW9rj"
      },
      "id": "vGblm1cfW9rj",
      "execution_count": null,
      "outputs": []
    },
    {
      "cell_type": "code",
      "source": [
        "survived_by_class_sex['Percentual_Survived'] = 100*survived_by_class_sex['Survived_Passengers']/Total_Passangers_Class_Sex['Total_Passengers_per_Class_Sex']\n",
        "survived_by_class_sex"
      ],
      "metadata": {
        "id": "Aj1k4G2Wn-4H"
      },
      "id": "Aj1k4G2Wn-4H",
      "execution_count": null,
      "outputs": []
    },
    {
      "cell_type": "markdown",
      "source": [
        "## Visualizações Básicas\n",
        "\n",
        "Agora, vamos criar alguns gráficos básicos para explorar ainda mais o conjunto de dados do Titanic."
      ],
      "metadata": {
        "noteable": {
          "cell_type": "markdown"
        },
        "id": "292a7d28-7071-4ce7-9b1c-359501445edd"
      },
      "id": "292a7d28-7071-4ce7-9b1c-359501445edd"
    },
    {
      "cell_type": "code",
      "source": [
        "!pip install -q matplotlib seaborn"
      ],
      "outputs": [],
      "execution_count": null,
      "metadata": {
        "noteable": {
          "cell_type": "code"
        },
        "ExecuteTime": {
          "end_time": "2023-08-28T13:27:02.077571+00:00",
          "start_time": "2023-08-28T13:26:57.199985+00:00"
        },
        "id": "7ba3c826-95d7-4d87-92ce-ce3d6e6fa062"
      },
      "id": "7ba3c826-95d7-4d87-92ce-ce3d6e6fa062"
    },
    {
      "cell_type": "code",
      "source": [
        "import matplotlib.pyplot as plt\n",
        "import seaborn as sns\n",
        "\n",
        "# Configurações de estilo\n",
        "sns.set(style='whitegrid')\n",
        "\n",
        "# Gráfico de barras para mostrar a média de sobrevivência por sexo\n",
        "plt.figure(figsize=(4,5))\n",
        "sns.barplot(x='Sex', y='Survived', data=titanic_data)\n",
        "plt.title('Média de Sobrevivência por Sexo')\n",
        "plt.show()"
      ],
      "outputs": [],
      "execution_count": null,
      "metadata": {
        "noteable": {
          "cell_type": "code"
        },
        "ExecuteTime": {
          "end_time": "2023-08-28T13:27:27.859745+00:00",
          "start_time": "2023-08-28T13:27:26.461715+00:00"
        },
        "id": "049215e2-9bd6-4abe-819a-f026588ab792"
      },
      "id": "049215e2-9bd6-4abe-819a-f026588ab792"
    },
    {
      "cell_type": "code",
      "source": [
        "# Gráfico de barras para mostrar a média de sobrevivência por classe\n",
        "plt.figure(figsize=(6, 5))\n",
        "sns.barplot(x='Pclass', y='Survived', data=titanic_data)\n",
        "plt.title('Média de Sobrevivência por Classe')\n",
        "plt.show()"
      ],
      "outputs": [],
      "execution_count": null,
      "metadata": {
        "noteable": {
          "cell_type": "code"
        },
        "ExecuteTime": {
          "end_time": "2023-08-28T13:27:55.670095+00:00",
          "start_time": "2023-08-28T13:27:55.054631+00:00"
        },
        "id": "fd692c2f-0dc6-4930-882e-26d57fced67f"
      },
      "id": "fd692c2f-0dc6-4930-882e-26d57fced67f"
    },
    {
      "cell_type": "code",
      "source": [
        "# Gráfico de dispersão para mostrar a relação entre idade e tarifa\n",
        "plt.figure(figsize=(8, 6))\n",
        "sns.scatterplot(x='Fare', y='Age', hue='Survived', data=titanic_data)\n",
        "plt.title('Relação entre Idade e Tarifa')\n",
        "plt.show()"
      ],
      "outputs": [],
      "execution_count": null,
      "metadata": {
        "noteable": {
          "cell_type": "code"
        },
        "ExecuteTime": {
          "end_time": "2023-08-28T13:28:21.130323+00:00",
          "start_time": "2023-08-28T13:28:20.468487+00:00"
        },
        "id": "e1a861c6-4374-46bc-875c-30b137635eb5"
      },
      "id": "e1a861c6-4374-46bc-875c-30b137635eb5"
    }
  ],
  "metadata": {
    "noteable-chatgpt": {
      "create_notebook": {
        "openai_conversation_id": "500ecc3b-da6a-5e8a-899b-47a25215b54d",
        "openai_ephemeral_user_id": "eafd682b-ca50-59e3-9d2e-f8df728bd7de",
        "openai_subdivision1_iso_code": "BR-RJ"
      }
    },
    "kernel_info": {
      "name": "python3"
    },
    "noteable": {
      "last_transaction_id": "ef1384eb-563f-44ef-9a62-590af95affd9",
      "last_delta_id": "a0713c04-7ed5-4903-9366-5ca6c96392cd"
    },
    "kernelspec": {
      "display_name": "Python 3.9",
      "language": "python",
      "name": "python3"
    },
    "selected_hardware_size": "small",
    "nteract": {
      "version": "noteable@2.9.0"
    },
    "colab": {
      "provenance": []
    }
  },
  "nbformat": 4,
  "nbformat_minor": 5
}