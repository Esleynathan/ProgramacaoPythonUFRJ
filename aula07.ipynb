{
  "cells": [
    {
      "cell_type": "markdown",
      "source": [
        "# Introdução às Funções em Python\n"
      ],
      "metadata": {
        "noteable": {
          "cell_type": "markdown"
        },
        "id": "d8d27759-652e-40be-8c16-c977609111e9"
      },
      "id": "d8d27759-652e-40be-8c16-c977609111e9"
    },
    {
      "cell_type": "markdown",
      "source": [
        "As funções são blocos de código reutilizáveis que realizam uma tarefa específica. Elas são fundamentais na programação, permitindo que o código seja mais modular e fácil de manter.\n",
        "\n",
        "**Definindo uma Função**\n",
        "Em Python, uma função é definida usando a palavra-chave def, seguida pelo nome da função, parênteses () e dois pontos :. O código dentro da função é indentado.\n",
        "\n",
        "**Chamando uma Função**\n",
        "Uma função é chamada pelo seu nome seguido de parênteses (). Se a função aceitar parâmetros, os valores são colocados dentro dos parênteses."
      ],
      "metadata": {
        "id": "zpGf7RnJJD82"
      },
      "id": "zpGf7RnJJD82"
    },
    {
      "cell_type": "code",
      "source": [
        "# Definindo uma função simples que saúda o usuário\n",
        "def saudacao():\n",
        "    print('Olá! Bem-vindo à aula de funções.')\n",
        "\n",
        "# Chamando a função\n",
        "saudacao()"
      ],
      "outputs": [],
      "execution_count": null,
      "metadata": {
        "noteable": {
          "cell_type": "code"
        },
        "id": "a9ca44a5-b209-4e29-840c-15fe1cf8987a"
      },
      "id": "a9ca44a5-b209-4e29-840c-15fe1cf8987a"
    },
    {
      "cell_type": "markdown",
      "source": [
        "Por que definir funções?\n",
        "\n",
        "* Abstração e reutilização\n",
        "\n",
        "* Abstração --> a abstração da funcionalidade é um exemplo do princípio de desenvolvimento de software DON'T REPEAT YOURSELF PRINCIPLE (DRY Principle), estabelecido para reduzir a repetição de padrões em softwares, através da sua substituíção por abstrações, tais como as funções, para evitar as redundâncias.\n",
        "\n",
        "* Modularidade - Em vez de todo o código ser escrito um um único bloco, ele é dividido em funções separadas, cada uma das quais focada em uma tarefa específica. Essas tarefas pode ser, por exemplo: ler diversos arquivos, processá-los e escrevê-los em novo arquivos. se definirmos uma função para cada tardefa: ler, processar e escrever, o código principal ficará limpo  intelegível e o programa principal precisará simplesmente chamar cada uma das funções por sua vez."
      ],
      "metadata": {
        "id": "_wtK9gcEPd07"
      },
      "id": "_wtK9gcEPd07"
    },
    {
      "cell_type": "markdown",
      "source": [
        "## 2. Parâmetros e Argumentos\n",
        "As funções podem aceitar valores de entrada, conhecidos como **parâmetros**, que permitem que a função opere com diferentes dados. Os valores reais fornecidos a esses parâmetros quando a função é chamada são conhecidos como **argumentos**.\n",
        "### Parâmetros\n",
        "Parâmetros são variáveis listadas entre parênteses na definição da função. Eles agem como placeholders para os valores que serão passados quando a função for chamada.\n",
        "### Argumentos\n",
        "Argumentos são os valores reais passados para os parâmetros quando a função é chamada. Eles podem ser valores literais, variáveis ou expressões."
      ],
      "metadata": {
        "noteable": {
          "cell_type": "markdown"
        },
        "id": "1aabeeed-a720-41f2-9442-5d213306fb3a"
      },
      "id": "1aabeeed-a720-41f2-9442-5d213306fb3a"
    },
    {
      "cell_type": "code",
      "source": [
        "# Definindo uma função com parâmetros\n",
        "def somar_numeros(numero1, numero2):\n",
        "    soma = numero1 + numero2\n",
        "    print(f'A soma de {numero1} e {numero2} é {soma}.')\n",
        "\n",
        "# Chamando a função com argumentos literais\n",
        "somar_numeros(5, 3)\n",
        "\n",
        "# Chamando a função com variáveis como argumentos\n",
        "a = 10\n",
        "b = 20\n",
        "somar_numeros(a, b)"
      ],
      "outputs": [],
      "execution_count": null,
      "metadata": {
        "noteable": {
          "cell_type": "code"
        },
        "id": "56efab11-41a3-48c5-88af-eb8a23d1988d"
      },
      "id": "56efab11-41a3-48c5-88af-eb8a23d1988d"
    },
    {
      "cell_type": "markdown",
      "source": [
        "## 3. Valores de Retorno\n",
        "As funções podem retornar um valor ou resultado para o código que a chamou. Isso é feito usando a palavra-chave `return` em Python. O valor retornado pode ser qualquer objeto, como um número, string, lista ou até mesmo outra função. O uso de valores de retorno permite que as funções sejam ainda mais flexíveis e úteis, pois o resultado pode ser armazenado em uma variável ou usado em outras partes do código."
      ],
      "metadata": {
        "noteable": {
          "cell_type": "markdown"
        },
        "id": "3b4d6194-44b6-460a-ad69-a5480e757615"
      },
      "id": "3b4d6194-44b6-460a-ad69-a5480e757615"
    },
    {
      "cell_type": "code",
      "source": [
        "# Definindo uma função que multiplica dois números e retorna o resultado\n",
        "def multiplicar_numeros(numero1, numero2):\n",
        "    return numero1 * numero2"
      ],
      "outputs": [],
      "execution_count": null,
      "metadata": {
        "noteable": {
          "cell_type": "code"
        },
        "id": "124a4efc-9963-423c-b9b3-bd5148eb085b"
      },
      "id": "124a4efc-9963-423c-b9b3-bd5148eb085b"
    },
    {
      "cell_type": "code",
      "source": [
        "# Chamando a função e armazenando o resultado em uma variável\n",
        "resultado = multiplicar_numeros(5, 4)"
      ],
      "metadata": {
        "id": "koSvvAy6-fMr"
      },
      "id": "koSvvAy6-fMr",
      "execution_count": null,
      "outputs": []
    },
    {
      "cell_type": "code",
      "source": [
        "# Usando o resultado em outra expressão\n",
        "print(f'O dobro do resultado da multiplicação é {resultado * 2}.')"
      ],
      "metadata": {
        "id": "Ap1_QdLl-gwS"
      },
      "id": "Ap1_QdLl-gwS",
      "execution_count": null,
      "outputs": []
    },
    {
      "cell_type": "markdown",
      "source": [
        "## 4. Escopo de Variáveis\n",
        "O escopo de uma variável refere-se à parte do código onde a variável pode ser acessada ou modificada. Em Python, as variáveis podem ter escopo local ou global.\n",
        "- **Variáveis Locais**: São definidas dentro de uma função e só podem ser acessadas dentro dessa função.\n",
        "- **Variáveis Globais**: São definidas fora de qualquer função e podem ser acessadas em qualquer lugar do código.\n",
        "É importante entender o escopo das variáveis para evitar erros e garantir que o código funcione como esperado."
      ],
      "metadata": {
        "noteable": {
          "cell_type": "markdown"
        },
        "id": "aef94fef-9de1-47a4-a801-fd45eeee917c"
      },
      "id": "aef94fef-9de1-47a4-a801-fd45eeee917c"
    },
    {
      "cell_type": "code",
      "source": [
        "# Variável global\n",
        "variavel_global = 'Eu sou global'\n",
        "\n",
        "# Função que acessa a variável global e define uma variável local\n",
        "def minha_funcao():\n",
        "    variavel_local = 'Eu sou local'\n",
        "    print(variavel_global) # Acessando a variável global dentro da função\n",
        "    print(variavel_local)  # Acessando a variável local dentro da função\n",
        "\n",
        "# Chamando a função\n",
        "minha_funcao()"
      ],
      "outputs": [],
      "execution_count": null,
      "metadata": {
        "noteable": {
          "cell_type": "code"
        },
        "id": "65d84920-42cd-434e-9172-74c3a9c405b1"
      },
      "id": "65d84920-42cd-434e-9172-74c3a9c405b1"
    },
    {
      "cell_type": "code",
      "source": [
        "# Tentando acessar a variável local fora da função (isso causará um erro)\n",
        "try:\n",
        "    print(variavel_local)   # Este bloco é executado primeiro, se nenhuma exceção ocorrer,\n",
        "                             # o bloco except é ignorado\n",
        "                             # e a execução continua após o except\n",
        "except NameError:            # Se ocorrer um exceção este bloco é executado, mas o código não é interrompido\n",
        "    print('A variável local não pode ser acessada fora da função.')\n",
        "\n",
        "print(\"A execução continua aqui\")"
      ],
      "metadata": {
        "id": "Rk1eQrMfvr-x"
      },
      "id": "Rk1eQrMfvr-x",
      "execution_count": null,
      "outputs": []
    },
    {
      "cell_type": "markdown",
      "source": [
        "### Bloco `try-except`"
      ],
      "metadata": {
        "id": "nGWtwqD8zHQ7"
      },
      "id": "nGWtwqD8zHQ7"
    },
    {
      "cell_type": "markdown",
      "source": [
        "O bloco `try`-`except` é uma construção em Python usada para tratar exceções. Ele permite que você execute um código que pode levantar uma exceção e, em seguida, capture essa exceção, permitindo que o programa continue a executar em vez de ser interrompido.\n",
        "\n",
        "Como o bloco funciona:\n",
        "\n",
        "- O código dentro do bloco `try` é executado primeiro.\n",
        "- Se nenhuma exceção ocorrer, o bloco `except` é ignorado, e a execução continua após o bloco `try`-`except`.\n",
        "- Se ocorrer uma exceção dentro do bloco `try`, a execução imediatamente pula para o bloco `except` correspondente, e o código dentro desse bloco é executado. O código continua a ser executado."
      ],
      "metadata": {
        "id": "X0_07bf7TMJ2"
      },
      "id": "X0_07bf7TMJ2"
    },
    {
      "cell_type": "markdown",
      "source": [
        "Também podemos usar `try-except` sem especificar o erro:"
      ],
      "metadata": {
        "id": "B3H3QDV6xaeh"
      },
      "id": "B3H3QDV6xaeh"
    },
    {
      "cell_type": "code",
      "source": [
        "try:\n",
        "    result = 10 / 0\n",
        "except:\n",
        "    print(\"Ocorreu um erro!\")"
      ],
      "metadata": {
        "id": "gVNSLZq4TjkL"
      },
      "id": "gVNSLZq4TjkL",
      "execution_count": null,
      "outputs": []
    },
    {
      "cell_type": "markdown",
      "source": [
        "No exemplo abaixo, iremos especificar o tipo de erro a ser tratado no bloco. A tentativa de dividir por zero levantará uma exceção `ZeroDivisionError`, e o código dentro do bloco `except` será executado, imprimindo a mensagem de erro.\n",
        "\n",
        "O uso de `try`-`except` é uma boa prática quando você está lidando com operações que podem falhar sob certas condições e você quer que seu programa lide com essas falhas, em vez de ser interrompido por uma exceção não tratada."
      ],
      "metadata": {
        "id": "xd4MIlQSTTgY"
      },
      "id": "xd4MIlQSTTgY"
    },
    {
      "cell_type": "code",
      "source": [
        "try:\n",
        "    result = 10 / 0\n",
        "except ZeroDivisionError:\n",
        "    print(\"Você tentou dividir por zero!\")"
      ],
      "metadata": {
        "id": "zzkkprs9TXKY"
      },
      "id": "zzkkprs9TXKY",
      "execution_count": null,
      "outputs": []
    },
    {
      "cell_type": "markdown",
      "source": [
        "O uso de except `Exception as e:` é útil quando você quer capturar e registrar informações detalhadas sobre uma exceção sem saber exatamente qual tipo de exceção pode ser levantado. É particularmente útil em cenários de depuração ou para fornecer feedback detalhado ao usuário ou logs de sistema"
      ],
      "metadata": {
        "id": "HcCIHbV8DXPU"
      },
      "id": "HcCIHbV8DXPU"
    },
    {
      "cell_type": "code",
      "source": [
        "try:\n",
        "    result = 10 / 0\n",
        "except Exception as e:\n",
        "    print(f\"Ocorreu um erro: {e}\")\n"
      ],
      "metadata": {
        "id": "UP7U60AzUmEK"
      },
      "id": "UP7U60AzUmEK",
      "execution_count": null,
      "outputs": []
    },
    {
      "cell_type": "markdown",
      "source": [
        "Já o exemplo abaixo mostra como você pode tratar diferentes tipos de erros de maneira específica e ainda ter um bloco `except` genérico no final para capturar qualquer outra exceção inesperada."
      ],
      "metadata": {
        "id": "GhUltGYNCEBF"
      },
      "id": "GhUltGYNCEBF"
    },
    {
      "cell_type": "code",
      "source": [
        "try:\n",
        "    result = funcao(12)\n",
        "except FileNotFoundError:\n",
        "    print(\"O arquivo não foi encontrado!\")\n",
        "except ZeroDivisionError:\n",
        "    print(\"Você tentou dividir por zero!\")\n",
        "except Exception as e:\n",
        "    print(f\"Ocorreu um erro inesperado: {e}\")"
      ],
      "metadata": {
        "id": "LUwxucn_B7et"
      },
      "id": "LUwxucn_B7et",
      "execution_count": null,
      "outputs": []
    },
    {
      "cell_type": "markdown",
      "source": [
        "Na verdade, o código completo para tratar exceções é `try-except-else-finally`. Abaixo, está a sintaxe:"
      ],
      "metadata": {
        "id": "V3dSHoSZz_8Q"
      },
      "id": "V3dSHoSZz_8Q"
    },
    {
      "cell_type": "markdown",
      "source": [
        "```\n",
        "try:\n",
        "    # Bloco de código a ser executado\n",
        "\n",
        "except {exceção}:\n",
        "    # Código que será executado caso a {exceção} seja capturada\n",
        "\n",
        "else: (OPCIONAL)\n",
        "    # Código que será executado caso nenhuma exceção tenha sido lançada ou capturada\n",
        "\n",
        "finally: (OPCIONAL)\n",
        "    # Código que será executado independente se alguma exceção for capturada ou não\n",
        "```"
      ],
      "metadata": {
        "id": "z35_4GDQ1PSG"
      },
      "id": "z35_4GDQ1PSG"
    },
    {
      "cell_type": "markdown",
      "source": [
        "* **try**: O código dentro deste bloco é aquele que você quer executar.\n",
        "* **except**: Este bloco será executado se uma exceção for lançada no bloco try.\n",
        "* **else**: Este bloco será executado se nenhuma exceção for lançada no bloco try.\n",
        "* **finally**: Este bloco será executado independentemente de uma exceção ter sido lançada ou não."
      ],
      "metadata": {
        "id": "oixh8sVY1c04"
      },
      "id": "oixh8sVY1c04"
    },
    {
      "cell_type": "code",
      "source": [
        "def divide(a, b):\n",
        "    try:\n",
        "        result = a / b\n",
        "    except ZeroDivisionError:\n",
        "        print(\"Não é possível dividir por zero!\")\n",
        "    else:\n",
        "        print(\"A divisão foi bem-sucedida!\")\n",
        "        return result\n",
        "    finally:\n",
        "        print(\"Executando a sequência do código...\")\n",
        "\n",
        "# Exemplo de uso\n",
        "result = divide(10, 0)\n",
        "print(\"Resultado:\", result, \"\\n\")\n",
        "\n",
        "result = divide(10, 2)\n",
        "print(\"Resultado:\", result)"
      ],
      "metadata": {
        "id": "EWWShOLf1sFt"
      },
      "id": "EWWShOLf1sFt",
      "execution_count": null,
      "outputs": []
    },
    {
      "cell_type": "markdown",
      "source": [
        "## 5. Funções Lambda (Anônimas)\n",
        "As funções lambda são uma forma concisa de criar funções pequenas e anônimas (sem nome) em Python. Elas são úteis quando você precisa de uma função simples e descartável sem ter que nomeá-la. As funções lambda são definidas com a palavra-chave `lambda`, seguida pelos parâmetros, dois pontos e a expressão que a função retorna.\n",
        "As funções lambda são frequentemente usadas com funções como `map`, `filter` e `reduce`, que aceitam uma função como um de seus argumentos."
      ],
      "metadata": {
        "noteable": {
          "cell_type": "markdown"
        },
        "id": "d44aaa6c-937e-4602-bfe6-99b87d631163"
      },
      "id": "d44aaa6c-937e-4602-bfe6-99b87d631163"
    },
    {
      "cell_type": "code",
      "source": [
        "# Função sem o uso de lambda - Podemos escrever uma função que eleva um número ao quadrado da seguinte forma:\n",
        "\n",
        "def quadrado(n):\n",
        "  return n**2"
      ],
      "metadata": {
        "id": "tG2CnfZkMHEW"
      },
      "execution_count": null,
      "outputs": [],
      "id": "tG2CnfZkMHEW"
    },
    {
      "cell_type": "code",
      "execution_count": null,
      "metadata": {
        "id": "wFgDIjqdLtoT"
      },
      "outputs": [],
      "source": [
        "# Aqui, chamamos a função:\n",
        "quadrado(5)"
      ],
      "id": "wFgDIjqdLtoT"
    },
    {
      "cell_type": "markdown",
      "source": [
        "Usando LAMBDA, podemos ser mais \"pythonicos\" escrevendo assim:"
      ],
      "metadata": {
        "id": "YVcCF_zfLxQG"
      },
      "id": "YVcCF_zfLxQG"
    },
    {
      "cell_type": "code",
      "source": [
        "squared = lambda n: n**2"
      ],
      "metadata": {
        "id": "aw7D1lGhNJwm"
      },
      "execution_count": null,
      "outputs": [],
      "id": "aw7D1lGhNJwm"
    },
    {
      "cell_type": "code",
      "source": [
        "# Chamando a função squared:\n",
        "\n",
        "squared(5)"
      ],
      "metadata": {
        "id": "foqjkLIsNWyk"
      },
      "execution_count": null,
      "outputs": [],
      "id": "foqjkLIsNWyk"
    },
    {
      "cell_type": "code",
      "source": [
        "type(squared)"
      ],
      "metadata": {
        "id": "2ZlQLBn35fyp"
      },
      "id": "2ZlQLBn35fyp",
      "execution_count": null,
      "outputs": []
    },
    {
      "cell_type": "markdown",
      "source": [
        "Podemos também ampliar o uso das funções lambda, acrescentando condicionais"
      ],
      "metadata": {
        "id": "0RUnG0IRPZjn"
      },
      "id": "0RUnG0IRPZjn"
    },
    {
      "cell_type": "code",
      "source": [
        "maximo = lambda x, y: x if x > y else y"
      ],
      "metadata": {
        "id": "vnHqAxA6PeZm"
      },
      "execution_count": null,
      "outputs": [],
      "id": "vnHqAxA6PeZm"
    },
    {
      "cell_type": "code",
      "source": [
        "maximo(10, 10.1)"
      ],
      "metadata": {
        "id": "4M6E_TUTPsAe"
      },
      "execution_count": null,
      "outputs": [],
      "id": "4M6E_TUTPsAe"
    },
    {
      "cell_type": "code",
      "source": [
        "# média de 3 números\n",
        "\n",
        "average = lambda x, y, z: (x + y + z) / 3\n",
        "result = average(10, 20, 30)\n",
        "print(result)"
      ],
      "metadata": {
        "id": "u53rSQ8IJuPs"
      },
      "id": "u53rSQ8IJuPs",
      "execution_count": null,
      "outputs": []
    },
    {
      "cell_type": "code",
      "source": [
        "# Verificar se é Palíndromo\n",
        "\n",
        "is_palindrome = lambda s: s == s[::-1]\n",
        "result = is_palindrome(\"ana\")\n",
        "print(result)"
      ],
      "metadata": {
        "id": "N1RqTlO-J1jZ"
      },
      "id": "N1RqTlO-J1jZ",
      "execution_count": null,
      "outputs": []
    },
    {
      "cell_type": "markdown",
      "source": [
        "A limitação das funções Lambda é que elas podem ter qualquer número de argumentos, mas apenas uma expressão.\n",
        "\n",
        "As funções Lambda são utilizadas principalmente com as funções MAP"
      ],
      "metadata": {
        "id": "_SwCJPdaQZ-2"
      },
      "id": "_SwCJPdaQZ-2"
    },
    {
      "cell_type": "markdown",
      "source": [
        "## 6. Uso de `map` e `filter`"
      ],
      "metadata": {
        "noteable": {
          "cell_type": "markdown"
        },
        "id": "e6c84136-82fa-4ad1-98cf-93145483aca5"
      },
      "id": "e6c84136-82fa-4ad1-98cf-93145483aca5"
    },
    {
      "cell_type": "markdown",
      "source": [
        "### `map`\n",
        "\n",
        "- **map**: A função `map` aplica uma função a todos os itens em uma lista ou outro iterável. É frequentemente usada com funções lambda para aplicar uma operação simples a cada elemento de uma lista."
      ],
      "metadata": {
        "id": "DPhYSfi51hNi"
      },
      "id": "DPhYSfi51hNi"
    },
    {
      "cell_type": "markdown",
      "source": [
        "Sintaxe:\n",
        "\n",
        "```\n",
        "map(função, iterável, iterável, ...)\n",
        "```"
      ],
      "metadata": {
        "id": "NbQbuDTc9O6k"
      },
      "id": "NbQbuDTc9O6k"
    },
    {
      "cell_type": "markdown",
      "source": [
        "* **function**: É a função que será aplicada a cada item do iterável. Essa função deve aceitar tantos argumentos quanto o número de iteráveis fornecidos.\n",
        "* **iterable**: É o iterável cujos elementos serão transformados. Pode ser uma lista, tupla, conjunto ou qualquer objeto iterável.\n",
        "* **...:** Você pode fornecer mais de um iterável, e a função fornecida deve aceitar o mesmo número de argumentos. Nesse caso, a função é aplicada aos itens correspondentes de cada iterável."
      ],
      "metadata": {
        "id": "PU_ktPe14Cb_"
      },
      "id": "PU_ktPe14Cb_"
    },
    {
      "cell_type": "code",
      "source": [
        "# Lista de números\n",
        "numeros = [1, 2, 3, 4, 5]\n",
        "\n",
        "# Usando map com uma função lambda para calcular o quadrado de cada número\n",
        "quadrados = map(lambda x: x**2, numeros)\n",
        "\n",
        "# Convertendo o resultado em uma lista e imprimindo\n",
        "print(list(quadrados))"
      ],
      "outputs": [],
      "execution_count": null,
      "metadata": {
        "noteable": {
          "cell_type": "code"
        },
        "id": "955f61ad-840f-4356-94ba-a2d405cfa817"
      },
      "id": "955f61ad-840f-4356-94ba-a2d405cfa817"
    },
    {
      "cell_type": "code",
      "source": [
        "numbers1 = [1, 2, 3]\n",
        "numbers2 = [10, 20, 30]\n",
        "\n",
        "sums = map(lambda x, y: x + y, numbers1, numbers2)\n",
        "\n",
        "print(list(sums))"
      ],
      "metadata": {
        "id": "ORxGiLtV4Sg-"
      },
      "id": "ORxGiLtV4Sg-",
      "execution_count": null,
      "outputs": []
    },
    {
      "cell_type": "code",
      "source": [
        "numbers1 = [1, 2, 3, 4]\n",
        "numbers2 = [10, 20, 30, 40]\n",
        "numbers3 = [0.1, 0.2, 0.3, 0.4]\n",
        "\n",
        "sums = map(lambda x, y, z: x + y + z, numbers1, numbers2, numbers3)\n",
        "\n",
        "print(list(sums))"
      ],
      "metadata": {
        "id": "_Tl1pEbMKQpI"
      },
      "id": "_Tl1pEbMKQpI",
      "execution_count": null,
      "outputs": []
    },
    {
      "cell_type": "code",
      "source": [
        "names = ['maria', 'eduardo', 'mariana']\n",
        "\n",
        "uppercase_names = map(lambda x: x.upper(), names)\n",
        "\n",
        "print(list(uppercase_names))"
      ],
      "metadata": {
        "id": "B3h7cB3v_NWB"
      },
      "id": "B3h7cB3v_NWB",
      "execution_count": null,
      "outputs": []
    },
    {
      "cell_type": "markdown",
      "source": [
        "### `filter`"
      ],
      "metadata": {
        "id": "0OkjIEa31wIR"
      },
      "id": "0OkjIEa31wIR"
    },
    {
      "cell_type": "markdown",
      "source": [
        "- **filter**: A função `filter` em Python é usada para filtrar elementos de um iterável com base em uma função de teste. Ela retorna um iterador que produz os itens do iterável original para os quais a função de teste retorna True."
      ],
      "metadata": {
        "id": "GjWb46Ka132Z"
      },
      "id": "GjWb46Ka132Z"
    },
    {
      "cell_type": "markdown",
      "source": [
        "\n",
        "Sintaxe\n",
        "\n",
        "A sintaxe da função `filter` é:\n",
        "\n",
        "```python\n",
        "filter(function, iterable)\n",
        "```\n",
        "\n",
        "- **function**: É a função que define o critério de filtragem. Esta função deve receber um único argumento e retornar um valor booleano (`True` ou `False`). Se a função retornar `True`, o elemento será incluído no resultado; se retornar `False`, será excluído.\n",
        "- **iterable**: É o iterável cujos elementos serão filtrados. Pode ser uma lista, tupla, conjunto ou qualquer objeto iterável.\n",
        "\n"
      ],
      "metadata": {
        "id": "FKk89Y8RCo9W"
      },
      "id": "FKk89Y8RCo9W"
    },
    {
      "cell_type": "code",
      "source": [
        "### Exemplo\n",
        "\n",
        "# Vamos considerar um exemplo em que queremos filtrar apenas os números pares de uma lista:\n",
        "\n",
        "\n",
        "numbers = [1, 2, 3, 4, 5, 6]\n",
        "\n",
        "even_numbers = filter(lambda x: x % 2 == 0, numbers)\n",
        "\n",
        "print(list(even_numbers))  # [2, 4, 6]"
      ],
      "metadata": {
        "id": "GwytALCyC2Xz"
      },
      "id": "GwytALCyC2Xz",
      "execution_count": null,
      "outputs": []
    },
    {
      "cell_type": "markdown",
      "source": [
        "\n",
        "Neste exemplo, usamos uma função lambda que retorna `True` se o número for par e `False` se for ímpar. A função `filter` aplica essa função a cada elemento da lista `numbers`, retornando um iterador com os elementos para os quais a função retorna `True`.\n",
        "\n",
        "Note que o resultado de `filter` é um iterador, então geralmente você vai querer convertê-lo em uma lista ou outro tipo de coleção se desejar trabalhar com os valores filtrados em outras partes do seu código.\n",
        "\n",
        "A função `filter` é uma ferramenta útil para escrever código conciso e legível quando você precisa selecionar elementos de um iterável com base em algum critério. É especialmente eficaz quando usado em combinação com funções lambda para expressar o critério de filtragem diretamente no local onde a filtragem está ocorrendo."
      ],
      "metadata": {
        "id": "yM4VWzYKCxdo"
      },
      "id": "yM4VWzYKCxdo"
    },
    {
      "cell_type": "code",
      "source": [
        "# Aqui, temos uma lista de dicionários:\n",
        "\n",
        "people = [\n",
        "    {'name': 'Giovanna', 'age': 25, 'score': 85},\n",
        "    {'name': 'Fernando', 'age': 18, 'score': 75},\n",
        "    {'name': 'Filipe', 'age': 22, 'score': 90},\n",
        "    {'name': 'Victor', 'age': 27, 'score': 80}\n",
        "]"
      ],
      "metadata": {
        "id": "a6aR5fJ49bBo"
      },
      "id": "a6aR5fJ49bBo",
      "execution_count": null,
      "outputs": []
    },
    {
      "cell_type": "markdown",
      "source": [
        "Filtrar pessoas com mais de 25 anos"
      ],
      "metadata": {
        "id": "nB8RkB729-jz"
      },
      "id": "nB8RkB729-jz"
    },
    {
      "cell_type": "code",
      "source": [
        "adults = filter(lambda person: person['age'] > 25, people)"
      ],
      "metadata": {
        "id": "FwISNWRy-FE6"
      },
      "id": "FwISNWRy-FE6",
      "execution_count": null,
      "outputs": []
    },
    {
      "cell_type": "markdown",
      "source": [
        "Agora, vamos aumentar o score de cada pessoa em 10%:"
      ],
      "metadata": {
        "id": "OAINm6Eh-P40"
      },
      "id": "OAINm6Eh-P40"
    },
    {
      "cell_type": "code",
      "source": [
        "increase_score = lambda person: {**person, 'score': person['score'] * 1.10}"
      ],
      "metadata": {
        "id": "iKGvnVi7-VCD"
      },
      "id": "iKGvnVi7-VCD",
      "execution_count": null,
      "outputs": []
    },
    {
      "cell_type": "markdown",
      "source": [
        "`**person, 'score' `\n",
        "\n",
        "O uso de ** aqui é para desempacotar o dicionário original, permitindo que você crie um novo dicionário que contém todas as chaves e valores originais, mas com a chave 'score' atualizada."
      ],
      "metadata": {
        "id": "zARMPKy8LGgS"
      },
      "id": "zARMPKy8LGgS"
    },
    {
      "cell_type": "code",
      "source": [
        "updated_scores = map(increase_score, people)"
      ],
      "metadata": {
        "id": "q2xFECTWLev3"
      },
      "id": "q2xFECTWLev3",
      "execution_count": null,
      "outputs": []
    },
    {
      "cell_type": "code",
      "source": [
        "people = [\n",
        "    {'name': 'Giovanna', 'age': 25, 'score': 85},\n",
        "    {'name': 'Fernando', 'age': 18, 'score': 75},\n",
        "    {'name': 'Filipe', 'age': 22, 'score': 90},\n",
        "    {'name': 'Victor', 'age': 27, 'score': 80}\n",
        "]\n",
        "adults = filter(lambda person: person['age'] > 25, people)\n",
        "increase_score = lambda person: {**person, 'score': person['score'] * 1.10}\n",
        "updated_scores = map(increase_score, people)"
      ],
      "metadata": {
        "id": "IrZs7KSaMJzm"
      },
      "id": "IrZs7KSaMJzm",
      "execution_count": null,
      "outputs": []
    },
    {
      "cell_type": "code",
      "source": [
        "# Converte o iterador map em uma lista\n",
        "updated_scores_list = list(updated_scores)"
      ],
      "metadata": {
        "id": "yoXkuBf5AL54"
      },
      "id": "yoXkuBf5AL54",
      "execution_count": null,
      "outputs": []
    },
    {
      "cell_type": "code",
      "source": [
        "# Imprime os valores\n",
        "for person in updated_scores_list:\n",
        "    print(person)"
      ],
      "metadata": {
        "id": "9nII9b6bAJDh"
      },
      "id": "9nII9b6bAJDh",
      "execution_count": null,
      "outputs": []
    },
    {
      "cell_type": "code",
      "source": [
        "# Imprime os valores com formatação\n",
        "for person in updated_scores_list:\n",
        "    name = person['name']\n",
        "    age = person['age']\n",
        "    score = person['score']\n",
        "    print(\"Nome: {}, Idade: {}, Score: {:.2f}\".format(name, age, score))"
      ],
      "metadata": {
        "id": "p2LOm_8e_-_o"
      },
      "id": "p2LOm_8e_-_o",
      "execution_count": null,
      "outputs": []
    },
    {
      "cell_type": "markdown",
      "source": [
        "##7. **args e **kwargs"
      ],
      "metadata": {
        "id": "v8R5krmN71uF"
      },
      "id": "v8R5krmN71uF"
    },
    {
      "cell_type": "markdown",
      "source": [
        "`args` e `kwargs` são convenções usadas em Python para lidar com um número arbitrário de argumentos em uma função. Eles são úteis quando você não sabe quantos argumentos podem ser passados para sua função, permitindo que a função aceite mais argumentos do que o número de parâmetros formais definidos.\n",
        "\n",
        "**`*args` ---> argumentos não nomeados**\n",
        "\n",
        "`*args` permite que você passe um número variável de argumentos não nomeados para uma função. Ele permite que você passe qualquer número de argumentos posicionais para a função, que são então empacotados em uma tupla.\n",
        "\n",
        "\n",
        "\n"
      ],
      "metadata": {
        "id": "HNbGtrir77Td"
      },
      "id": "HNbGtrir77Td"
    },
    {
      "cell_type": "code",
      "source": [
        "def quadrado(n):\n",
        "  return n**2\n",
        "\n",
        "quadrado(4)"
      ],
      "metadata": {
        "id": "EFViug8INq8N"
      },
      "id": "EFViug8INq8N",
      "execution_count": null,
      "outputs": []
    },
    {
      "cell_type": "code",
      "source": [
        "# @title quadrado de uma lista\n",
        "def quadrado(*args):\n",
        "  return [n**2 for n in args]\n",
        "\n",
        "quadrado(4, 16, 42)"
      ],
      "metadata": {
        "cellView": "form",
        "id": "rAPlQ5u1MkNv"
      },
      "id": "rAPlQ5u1MkNv",
      "execution_count": null,
      "outputs": []
    },
    {
      "cell_type": "code",
      "source": [
        "# Aqui está um exemplo com *args:\n",
        "def somar(*args):\n",
        "    return sum(args)\n",
        "\n",
        "resultado = somar(1, 2, 3, 4, 5)  # Saída: 15\n",
        "print(resultado)\n",
        "\n",
        "# Neste exemplo, `args` é uma tupla contendo todos os argumentos posicionais passados."
      ],
      "metadata": {
        "id": "cg1zUEP66b4V"
      },
      "id": "cg1zUEP66b4V",
      "execution_count": null,
      "outputs": []
    },
    {
      "cell_type": "code",
      "source": [
        "def adicao(*args):\n",
        "    resultado = 0\n",
        "    for argumento in args:\n",
        "        resultado += argumento\n",
        "    return resultado\n",
        "\n",
        "print(adicao(1, 2))\n",
        "print(adicao(1, 2, 3, 4, 5))\n",
        "print(adicao(1, 2, 4, 6, 8, 10))\n"
      ],
      "metadata": {
        "id": "1hhfx_Ko93HN"
      },
      "id": "1hhfx_Ko93HN",
      "execution_count": null,
      "outputs": []
    },
    {
      "cell_type": "markdown",
      "source": [
        "**` **kwargs` ---> argumentos nomeados**\n",
        "\n",
        "`kwargs` permite que você passe um número variável de argumentos nomeados (ou palavras-chave) para uma função. Ele permite que você passe qualquer número de argumentos de palavra-chave para a função, que são então empacotados em um dicionário.O nome \"kwargs\" é abreviação de \"keyword arguments\", mas você pode realmente usar qualquer nome que desejar; o importante é o prefixo **.\n"
      ],
      "metadata": {
        "id": "mCQFWOTW6SyF"
      },
      "id": "mCQFWOTW6SyF"
    },
    {
      "cell_type": "code",
      "source": [
        "# Aqui está um exemplo:\n",
        "\n",
        "def apresentar(**kwargs):\n",
        "    for chave, valor in kwargs.items():\n",
        "        print(f\"{chave}: {valor}\")\n",
        "\n",
        "apresentar(nome=\"Fernando\", idade=18, profissão=\"músico\", time=\"Fluminense\")"
      ],
      "metadata": {
        "id": "lx-9fOG069uF"
      },
      "id": "lx-9fOG069uF",
      "execution_count": null,
      "outputs": []
    },
    {
      "cell_type": "markdown",
      "source": [
        "Neste exemplo, `kwargs` é um dicionário contendo todos os argumentos de palavra-chave passados.\n",
        "\n",
        "**Combinando** `*args` e `**kwargs`\n",
        "\n",
        "Você pode combinar `*args` e `**kwargs` na mesma função para aceitar qualquer combinação de argumentos posicionais e nomeados:"
      ],
      "metadata": {
        "id": "YzS7r0lb7Crc"
      },
      "id": "YzS7r0lb7Crc"
    },
    {
      "cell_type": "code",
      "source": [
        "def exemplo(*args, **kwargs):\n",
        "    print(\"Argumentos posicionais:\", args)\n",
        "    print(\"Argumentos nomeados:\", kwargs)"
      ],
      "metadata": {
        "id": "curU3vWS6qSl"
      },
      "id": "curU3vWS6qSl",
      "execution_count": null,
      "outputs": []
    },
    {
      "cell_type": "code",
      "source": [
        "exemplo(1, 2, 3, a=4, b=5, c=6)"
      ],
      "metadata": {
        "id": "mOKe1e9-8f3M"
      },
      "id": "mOKe1e9-8f3M",
      "execution_count": null,
      "outputs": []
    },
    {
      "cell_type": "code",
      "source": [
        "def describe_person(name, age, *hobbies, **attributes):\n",
        "    print(f\"Nome: {name}\")\n",
        "    print(f\"Idade: {age}\")\n",
        "\n",
        "    if hobbies:\n",
        "        print(\"Hobbies:\")\n",
        "        for hobby in hobbies:\n",
        "            print(f\"  - {hobby}\")\n",
        "\n",
        "    if attributes:\n",
        "        print(\"Outros atributos:\")\n",
        "        for key, value in attributes.items():\n",
        "            print(f\"  - {key}: {value}\")"
      ],
      "metadata": {
        "id": "UBgVMSIw7xJG"
      },
      "id": "UBgVMSIw7xJG",
      "execution_count": null,
      "outputs": []
    },
    {
      "cell_type": "code",
      "source": [
        "# Chamando a função\n",
        "describe_person(\"Aurora\", 30, \"Leitura\", \"Natação\", profissão=\"Engenheira\", cidade=\"Belo Horizonte\")"
      ],
      "metadata": {
        "id": "SHt2pOQp7-4U"
      },
      "id": "SHt2pOQp7-4U",
      "execution_count": null,
      "outputs": []
    },
    {
      "cell_type": "markdown",
      "source": [
        "Note que os nomes `args` e `kwargs` não são obrigatórios, mas é uma convenção amplamente aceita. O que importa são os operadores `*` e `**`, que desempacotam os argumentos."
      ],
      "metadata": {
        "id": "uymq47_T6vjI"
      },
      "id": "uymq47_T6vjI"
    },
    {
      "cell_type": "markdown",
      "source": [
        "## 8. Funções Integradas\n",
        "Python vem com uma variedade de funções integradas que fornecem funcionalidades comuns sem a necessidade de escrever o código do zero. Algumas dessas funções são:\n",
        "- `len()`: Retorna o comprimento de um objeto (como uma lista ou string).\n",
        "- `sum()`: Soma todos os elementos de um iterável (como uma lista de números).\n",
        "- `max()`: Retorna o maior elemento de um iterável.\n",
        "- `min()`: Retorna o menor elemento de um iterável.\n",
        "- `sorted()`: Retorna uma lista ordenada dos elementos de um iterável.\n",
        "Essas funções são extremamente úteis e são frequentemente usadas em programação Python."
      ],
      "metadata": {
        "noteable": {
          "cell_type": "markdown"
        },
        "id": "67862114-ddaf-4f54-9407-6ee85b5820fb"
      },
      "id": "67862114-ddaf-4f54-9407-6ee85b5820fb"
    },
    {
      "cell_type": "code",
      "source": [
        "# Lista de números\n",
        "numeros = [10, 20, 30, 40, 50]\n",
        "\n",
        "# Usando funções integradas\n",
        "comprimento = len(numeros) # Comprimento da lista\n",
        "soma_total = sum(numeros)  # Soma dos elementos\n",
        "maior_numero = max(numeros) # Maior número\n",
        "menor_numero = min(numeros) # Menor número\n",
        "ordenado = sorted(numeros, reverse=True) # Lista ordenada em ordem decrescente\n",
        "\n",
        "# Imprimindo os resultados\n",
        "print(f'Comprimento: {comprimento}')\n",
        "print(f'Soma total: {soma_total}')\n",
        "print(f'Maior número: {maior_numero}')\n",
        "print(f'Menor número: {menor_numero}')\n",
        "print(f'Ordenado (decrescente): {ordenado}')"
      ],
      "outputs": [],
      "execution_count": null,
      "metadata": {
        "noteable": {
          "cell_type": "code"
        },
        "id": "5b94f903-6bb3-46ee-870e-ba08cd283cea"
      },
      "id": "5b94f903-6bb3-46ee-870e-ba08cd283cea"
    },
    {
      "cell_type": "markdown",
      "source": [
        "##9. **Exemplos da flexibilidade na programação**"
      ],
      "metadata": {
        "id": "fo96xDGsP5TL"
      },
      "id": "fo96xDGsP5TL"
    },
    {
      "cell_type": "code",
      "metadata": {
        "id": "D1apNAhThofX"
      },
      "source": [
        "# função que define a média dos valores\n",
        "\n",
        "def media(valores):\n",
        "  return sum(valores)/len(valores)\n"
      ],
      "execution_count": null,
      "outputs": [],
      "id": "D1apNAhThofX"
    },
    {
      "cell_type": "code",
      "source": [
        "# Aqui, chamamos a função media(valores) tendo uma lista como entrada\n",
        "\n",
        "media([4,5,6,7,9])"
      ],
      "metadata": {
        "id": "4B1UGL_pml-A"
      },
      "execution_count": null,
      "outputs": [],
      "id": "4B1UGL_pml-A"
    },
    {
      "cell_type": "code",
      "source": [
        "def quadrado(n):\n",
        "    return n**2\n",
        "\n",
        "numeros = [1, 2, 3, 4, 5]\n",
        "\n",
        "resultados = [quadrado(n) for n in numeros]\n",
        "\n",
        "print(resultados)  # Saída: [1, 4, 9, 16, 25]"
      ],
      "metadata": {
        "id": "Q1xah3RX7QcC"
      },
      "id": "Q1xah3RX7QcC",
      "execution_count": null,
      "outputs": []
    },
    {
      "cell_type": "code",
      "source": [
        "def quadrado(n):\n",
        "    return n**2\n",
        "\n",
        "numeros = [1, 2, 3, 4, 5]\n",
        "\n",
        "resultados = map(quadrado, numeros)\n",
        "\n",
        "print(list(resultados))  # Saída: [1, 4, 9, 16, 25]"
      ],
      "metadata": {
        "id": "YKVTN0p07LZL"
      },
      "id": "YKVTN0p07LZL",
      "execution_count": null,
      "outputs": []
    },
    {
      "cell_type": "code",
      "source": [
        "def quadrados_lista(lista):\n",
        "\n",
        "    return [n**2 for n in lista]\n",
        "\n",
        "numeros = [1, 2, 3, 4, 5, 6]\n",
        "\n",
        "resultados = quadrados_lista(numeros)\n",
        "\n",
        "print(resultados)  # Saída: [1, 4, 9, 16, 25]\n"
      ],
      "metadata": {
        "id": "lxyQhaqL6arz"
      },
      "id": "lxyQhaqL6arz",
      "execution_count": null,
      "outputs": []
    }
  ],
  "metadata": {
    "noteable-chatgpt": {
      "create_notebook": {
        "openai_conversation_id": "4a8d7b62-0d55-554c-8f47-fe0e4fa5a3e0",
        "openai_ephemeral_user_id": "bd625c73-fa6a-5f90-a474-2df2a9a41aef",
        "openai_subdivision1_iso_code": "BR-RJ"
      }
    },
    "kernel_info": {
      "name": "python3"
    },
    "noteable": {
      "last_transaction_id": "dd9a4303-ed7e-40a5-ab7a-8d0c813264c5",
      "last_delta_id": "44147cbf-6a55-4655-b988-957a0b602e3e"
    },
    "kernelspec": {
      "display_name": "Python 3.9",
      "language": "python",
      "name": "python3"
    },
    "selected_hardware_size": "small",
    "nteract": {
      "version": "noteable@2.9.0"
    },
    "colab": {
      "provenance": []
    }
  },
  "nbformat": 4,
  "nbformat_minor": 5
}