{
  "nbformat": 4,
  "nbformat_minor": 0,
  "metadata": {
    "colab": {
      "provenance": []
    },
    "kernelspec": {
      "name": "python3",
      "display_name": "Python 3"
    },
    "language_info": {
      "name": "python"
    }
  },
  "cells": [
    {
      "cell_type": "markdown",
      "metadata": {
        "id": "5om_O3Xl9BtM"
      },
      "source": [
        "# Data Indexing and Selection"
      ]
    },
    {
      "cell_type": "markdown",
      "metadata": {
        "id": "Zl7Uw4529BtM"
      },
      "source": [
        "## Seleção de Dados em Series\n",
        "\n",
        "Como vimos na seção anterior, um objeto ``Series`` age de muitas maneiras como um array NumPy unidimensional e, em muitos aspectos, como um dicionário Python padrão.\n",
        "Se mantivermos essas duas analogias sobrepostas em mente, isso nos ajudará a entender os padrões de indexação e seleção de dados nesses arrays."
      ]
    },
    {
      "cell_type": "markdown",
      "metadata": {
        "id": "IAlYOxq_9BtM"
      },
      "source": [
        "### Series como dicionário\n",
        "\n",
        "Como um dicionário, o objeto ``Series`` fornece um mapeamento de uma coleção de chaves para uma coleção de valores:"
      ]
    },
    {
      "cell_type": "code",
      "execution_count": null,
      "metadata": {
        "id": "PvMjErao9BtM",
        "outputId": "93d9f73c-764f-4654-d361-43091880cf33",
        "colab": {
          "base_uri": "https://localhost:8080/"
        }
      },
      "outputs": [
        {
          "output_type": "execute_result",
          "data": {
            "text/plain": [
              "a    0.25\n",
              "b    0.50\n",
              "c    0.75\n",
              "d    1.00\n",
              "dtype: float64"
            ]
          },
          "metadata": {},
          "execution_count": 1
        }
      ],
      "source": [
        "import pandas as pd\n",
        "data = pd.Series([0.25, 0.5, 0.75, 1.0],\n",
        "                 index=['a', 'b', 'c', 'd'])\n",
        "data"
      ]
    },
    {
      "cell_type": "code",
      "execution_count": null,
      "metadata": {
        "id": "FHzBvNop9BtN",
        "outputId": "1bb30ceb-c790-4e30-c05f-1de15a4c53e2",
        "colab": {
          "base_uri": "https://localhost:8080/"
        }
      },
      "outputs": [
        {
          "output_type": "execute_result",
          "data": {
            "text/plain": [
              "0.5"
            ]
          },
          "metadata": {},
          "execution_count": 2
        }
      ],
      "source": [
        "data['b']"
      ]
    },
    {
      "cell_type": "markdown",
      "metadata": {
        "id": "VP04X_vl9BtO"
      },
      "source": [
        "Também podemos usar expressões e métodos semelhantes a dicionários em Python para examinar as chaves/índices e valores:"
      ]
    },
    {
      "cell_type": "code",
      "execution_count": null,
      "metadata": {
        "id": "IX9S_mUg9BtO",
        "outputId": "8e41b2e6-cafe-4ec7-9d17-e7b7e81734c7",
        "colab": {
          "base_uri": "https://localhost:8080/"
        }
      },
      "outputs": [
        {
          "output_type": "execute_result",
          "data": {
            "text/plain": [
              "True"
            ]
          },
          "metadata": {},
          "execution_count": 3
        }
      ],
      "source": [
        "'a' in data"
      ]
    },
    {
      "cell_type": "code",
      "execution_count": null,
      "metadata": {
        "id": "hTO322am9BtO",
        "outputId": "963ca975-c51a-4902-b6f4-92343d11a334",
        "colab": {
          "base_uri": "https://localhost:8080/"
        }
      },
      "outputs": [
        {
          "output_type": "execute_result",
          "data": {
            "text/plain": [
              "Index(['a', 'b', 'c', 'd'], dtype='object')"
            ]
          },
          "metadata": {},
          "execution_count": 4
        }
      ],
      "source": [
        "data.keys()"
      ]
    },
    {
      "cell_type": "code",
      "execution_count": null,
      "metadata": {
        "id": "j44s9Oov9BtO",
        "outputId": "2a3bf177-38d0-4bcb-ab33-54faaa389b5a",
        "colab": {
          "base_uri": "https://localhost:8080/"
        }
      },
      "outputs": [
        {
          "output_type": "execute_result",
          "data": {
            "text/plain": [
              "[('a', 0.25), ('b', 0.5), ('c', 0.75), ('d', 1.0)]"
            ]
          },
          "metadata": {},
          "execution_count": 5
        }
      ],
      "source": [
        "list(data.items())"
      ]
    },
    {
      "cell_type": "markdown",
      "metadata": {
        "id": "Y61NbGEm9BtP"
      },
      "source": [
        "Os objetos ``Series`` podem até ser modificados com uma sintaxe semelhante a um dicionário.\n",
        "\n",
        "Da mesma forma que você pode aumentar um dicionário fazendo uma atribuição a uma nova chave, você pode aumentar uma ``Series`` fazendo uma nova atribuição a um índice:"
      ]
    },
    {
      "cell_type": "code",
      "execution_count": null,
      "metadata": {
        "id": "3SfLijma9BtP",
        "outputId": "f2583702-64fe-4263-c5da-fad50987ef81",
        "colab": {
          "base_uri": "https://localhost:8080/"
        }
      },
      "outputs": [
        {
          "output_type": "execute_result",
          "data": {
            "text/plain": [
              "a    0.25\n",
              "b    0.50\n",
              "c    0.75\n",
              "d    1.00\n",
              "e    1.25\n",
              "dtype: float64"
            ]
          },
          "metadata": {},
          "execution_count": 6
        }
      ],
      "source": [
        "data['e'] = 1.25\n",
        "data"
      ]
    },
    {
      "cell_type": "markdown",
      "metadata": {
        "id": "disjOkOr9BtP"
      },
      "source": [
        "Essa mutabilidade fácil dos objetos é um recurso conveniente: nos bastidores, o Pandas está tomando decisões sobre o layout da memória e a cópia de dados que podem ser necessárias; o usuário geralmente não precisa se preocupar com essas questões."
      ]
    },
    {
      "cell_type": "markdown",
      "metadata": {
        "id": "X9b2-1nb9BtP"
      },
      "source": [
        "### Series como um array unidimensional\n",
        "\n"
      ]
    },
    {
      "cell_type": "markdown",
      "metadata": {
        "id": "smWelksN9BtP"
      },
      "source": [
        "Uma ``Series`` se baseia nessa interface semelhante a um dicionário e fornece seleção de itens no estilo de array pelos mesmos mecanismos básicos dos arrays NumPy - ou seja, *fatias*, *máscaras* e *indexação avançada*.\n",
        "Exemplos desses são os seguintes:"
      ]
    },
    {
      "cell_type": "code",
      "execution_count": null,
      "metadata": {
        "id": "8xa5P-KN9BtQ",
        "outputId": "36a177f3-f5a3-416b-8167-893598f2ca59",
        "colab": {
          "base_uri": "https://localhost:8080/"
        }
      },
      "outputs": [
        {
          "output_type": "execute_result",
          "data": {
            "text/plain": [
              "a    0.25\n",
              "b    0.50\n",
              "c    0.75\n",
              "d    1.00\n",
              "dtype: float64"
            ]
          },
          "metadata": {},
          "execution_count": 14
        }
      ],
      "source": [
        "# slicing pelo índice explícito\n",
        "data['a':'d']"
      ]
    },
    {
      "cell_type": "code",
      "source": [
        "data"
      ],
      "metadata": {
        "colab": {
          "base_uri": "https://localhost:8080/"
        },
        "id": "_fVgUvwu_B-n",
        "outputId": "624d1c6c-42a1-428a-816d-b632f4da34e2"
      },
      "execution_count": null,
      "outputs": [
        {
          "output_type": "execute_result",
          "data": {
            "text/plain": [
              "a    0.25\n",
              "b    0.50\n",
              "c    0.75\n",
              "d    1.00\n",
              "e    1.25\n",
              "dtype: float64"
            ]
          },
          "metadata": {},
          "execution_count": 10
        }
      ]
    },
    {
      "cell_type": "code",
      "execution_count": null,
      "metadata": {
        "id": "-wnmJ90-9BtQ",
        "outputId": "74bc1894-b856-4081-bd32-f4716832fb08",
        "colab": {
          "base_uri": "https://localhost:8080/"
        }
      },
      "outputs": [
        {
          "output_type": "execute_result",
          "data": {
            "text/plain": [
              "c    0.75\n",
              "d    1.00\n",
              "dtype: float64"
            ]
          },
          "metadata": {},
          "execution_count": 12
        }
      ],
      "source": [
        "# slicing pelo índice inteiro implícito\n",
        "data[2:4]"
      ]
    },
    {
      "cell_type": "code",
      "execution_count": null,
      "metadata": {
        "id": "gPU6lfIo9BtQ",
        "outputId": "ad3279f0-236e-470f-fbff-1c952ca1a3a0",
        "colab": {
          "base_uri": "https://localhost:8080/"
        }
      },
      "outputs": [
        {
          "output_type": "execute_result",
          "data": {
            "text/plain": [
              "b    0.50\n",
              "c    0.75\n",
              "dtype: float64"
            ]
          },
          "metadata": {},
          "execution_count": 15
        }
      ],
      "source": [
        "# masking\n",
        "data[(data > 0.3) & (data < 0.8)]"
      ]
    },
    {
      "cell_type": "code",
      "execution_count": null,
      "metadata": {
        "id": "hDieiWZp9BtQ",
        "outputId": "560b18a6-966e-4cd1-fd11-a1f7cb4d884e",
        "colab": {
          "base_uri": "https://localhost:8080/"
        }
      },
      "outputs": [
        {
          "output_type": "execute_result",
          "data": {
            "text/plain": [
              "a    0.25\n",
              "e    1.25\n",
              "dtype: float64"
            ]
          },
          "metadata": {},
          "execution_count": 16
        }
      ],
      "source": [
        "# fancy indexing\n",
        "data[['a', 'e']]"
      ]
    },
    {
      "cell_type": "markdown",
      "metadata": {
        "id": "zb-ejJN09BtR"
      },
      "source": [
        "Entre esses, o fatiamento pode ser a fonte da maior confusão.\n",
        "\n",
        "Observe que ao fatiar com um índice explícito (ou seja, ``data['a':'c']``), o índice final é *incluído* na fatia, enquanto ao fatiar com um índice implícito (ou seja, ``data[0:2]``), o índice final é *excluído* da fatia."
      ]
    },
    {
      "cell_type": "markdown",
      "metadata": {
        "id": "wudg6VOy9BtR"
      },
      "source": [
        "### Indexadores: loc, iloc\n",
        "\n",
        "Essas convenções de fatiamento e indexação podem ser uma fonte de confusão.\n",
        "\n",
        "Por exemplo, se sua ``Series`` tiver um índice inteiro explícito, uma operação de indexação como ``data[1]`` usará os índices explícitos, enquanto uma operação de fatiamento como ``data[1:3]`` usará o índice no estilo Python implícito."
      ]
    },
    {
      "cell_type": "code",
      "execution_count": null,
      "metadata": {
        "id": "Rd1wFxCu9BtR"
      },
      "outputs": [],
      "source": [
        "data = pd.Series(['a', 'b', 'c'], index=[1, 3, 5])\n",
        "data"
      ]
    },
    {
      "cell_type": "code",
      "execution_count": null,
      "metadata": {
        "id": "iRk2Qgv89BtR"
      },
      "outputs": [],
      "source": [
        "# indice explícito quando faz indexação\n",
        "data[3]"
      ]
    },
    {
      "cell_type": "code",
      "execution_count": null,
      "metadata": {
        "id": "-H_lbMWt9BtR"
      },
      "outputs": [],
      "source": [
        "# índice implícito quando faz slicing\n",
        "data[1:3]"
      ]
    },
    {
      "cell_type": "markdown",
      "metadata": {
        "id": "X8I-3X_G9BtR"
      },
      "source": [
        "Por causa dessa potencial confusão no caso de índices inteiros, o Pandas fornece alguns atributos de indexação especiais que expõem explicitamente certos esquemas de indexação.\n",
        "Esses não são métodos funcionais, mas atributos que expõem uma interface de fatiamento particular para os dados na Series.\n",
        "\n",
        "Primeiro, o atributo loc permite a indexação e o fatiamento que sempre fazem referência ao índice explícito:"
      ]
    },
    {
      "cell_type": "code",
      "execution_count": null,
      "metadata": {
        "id": "Ra5JJ74Q9BtR"
      },
      "outputs": [],
      "source": [
        "data.loc[1]"
      ]
    },
    {
      "cell_type": "code",
      "execution_count": null,
      "metadata": {
        "id": "fRTh1-2u9BtS"
      },
      "outputs": [],
      "source": [
        "data.loc[1:3]"
      ]
    },
    {
      "cell_type": "markdown",
      "metadata": {
        "id": "I0oWaUu_9BtS"
      },
      "source": [
        "O atributo ``iloc`` permite a indexação e o fatiamento que sempre fazem referência ao índice no estilo Python implícito:"
      ]
    },
    {
      "cell_type": "code",
      "execution_count": null,
      "metadata": {
        "id": "jjcjDcM09BtS"
      },
      "outputs": [],
      "source": [
        "data.iloc[1]"
      ]
    },
    {
      "cell_type": "code",
      "execution_count": null,
      "metadata": {
        "id": "pjSa8IxV9BtS"
      },
      "outputs": [],
      "source": [
        "data.iloc[1:3]"
      ]
    },
    {
      "cell_type": "markdown",
      "metadata": {
        "id": "fRRPUBfw9BtS"
      },
      "source": [
        "Um princípio orientador do código Python é que \"o explícito é melhor que o implícito.\"\n",
        "A natureza explícita de ``loc`` e ``iloc`` os torna muito úteis na manutenção de um código limpo e legível; especialmente no caso de índices inteiros, recomendo usar ambos para tornar o código mais fácil de ler e entender, e para evitar bugs sutis devido à convenção mista de indexação/fatiamento."
      ]
    },
    {
      "cell_type": "markdown",
      "metadata": {
        "id": "XFTNuyec9BtS"
      },
      "source": [
        "## Seleção de Dados em DataFrame\n",
        "\n",
        "Lembre-se de que um ``DataFrame`` age de muitas maneiras como um array bidimensional ou estruturado, e de outras maneiras como um dicionário de estruturas ``Series`` que compartilham o mesmo índice.\n",
        "Essas analogias podem ser úteis para ter em mente enquanto exploramos a seleção de dados dentro dessa estrutura."
      ]
    },
    {
      "cell_type": "markdown",
      "metadata": {
        "id": "71Gjf5BQ9BtS"
      },
      "source": [
        "### DataFrame como um dicionário\n",
        "\n",
        "A primeira analogia que consideraremos é o ``DataFrame`` como um dicionário de objetos ``Series`` relacionados.\n",
        "Vamos retornar ao nosso exemplo de áreas e populações dos estados:"
      ]
    },
    {
      "cell_type": "code",
      "execution_count": null,
      "metadata": {
        "id": "08hcli_B9BtS"
      },
      "outputs": [],
      "source": [
        "area = pd.Series({'California': 423967, 'Texas': 695662,\n",
        "                  'New York': 141297, 'Florida': 170312,\n",
        "                  'Illinois': 149995})\n",
        "pop = pd.Series({'California': 38332521, 'Texas': 26448193,\n",
        "                 'New York': 19651127, 'Florida': 19552860,\n",
        "                 'Illinois': 12882135})\n",
        "data = pd.DataFrame({'area':area, 'pop':pop})\n",
        "data"
      ]
    },
    {
      "cell_type": "markdown",
      "metadata": {
        "id": "yUKpYOXJ9BtT"
      },
      "source": [
        "As ``Series`` individuais que compõem as colunas do ``DataFrame`` podem ser acessadas através da indexação no estilo de dicionário do nome da coluna:"
      ]
    },
    {
      "cell_type": "code",
      "execution_count": null,
      "metadata": {
        "id": "ZiRfBC8S9BtT"
      },
      "outputs": [],
      "source": [
        "data['area']"
      ]
    },
    {
      "cell_type": "markdown",
      "metadata": {
        "id": "gR4ONbM59BtT"
      },
      "source": [
        "Equivalentemente, podemos usar o acesso no estilo de atributo com nomes de colunas que são strings:"
      ]
    },
    {
      "cell_type": "code",
      "execution_count": null,
      "metadata": {
        "id": "29tRIpwu9BtU"
      },
      "outputs": [],
      "source": [
        "data.area"
      ]
    },
    {
      "cell_type": "markdown",
      "metadata": {
        "id": "1kiFXxEm9BtU"
      },
      "source": [
        "Podemos confirar que as duas formas acessam o mesmo objeto:"
      ]
    },
    {
      "cell_type": "code",
      "execution_count": null,
      "metadata": {
        "id": "UK40Zmsn9BtU"
      },
      "outputs": [],
      "source": [
        "data.area is data['area']"
      ]
    },
    {
      "cell_type": "markdown",
      "metadata": {
        "id": "CPqXSIiM9BtU"
      },
      "source": [
        "Embora isso seja uma abreviação útil, lembre-se de que não funciona em todos os casos!\n",
        "\n",
        "Por exemplo, se os nomes das colunas não forem strings, ou se os nomes das colunas entrarem em conflito com os métodos do ``DataFrame``, esse acesso no estilo de atributo não será possível.\n",
        "\n",
        "Por exemplo, o ``DataFrame`` tem um método ``pop()``, então ``data.pop`` apontará para isso em vez da coluna ``\"pop\"``:"
      ]
    },
    {
      "cell_type": "code",
      "execution_count": null,
      "metadata": {
        "id": "bcz7Ep6f9BtV"
      },
      "outputs": [],
      "source": [
        "data.pop is data['pop']"
      ]
    },
    {
      "cell_type": "markdown",
      "metadata": {
        "id": "wY6lqu9v9BtV"
      },
      "source": [
        "Em particular, você deve evitar a tentação de tentar atribuir colunas via atributo (ou seja, use ``data['pop'] = z`` em vez de ``data.pop = z``).\n",
        "\n",
        "Assim como com os objetos ``Series`` discutidos anteriormente, essa sintaxe no estilo de dicionário também pode ser usada para modificar o objeto, neste caso, adicionando uma nova coluna:"
      ]
    },
    {
      "cell_type": "code",
      "execution_count": null,
      "metadata": {
        "id": "-f0j5-Bb9BtV"
      },
      "outputs": [],
      "source": [
        "data['density'] = data['pop'] / data['area']\n",
        "data"
      ]
    },
    {
      "cell_type": "markdown",
      "metadata": {
        "id": "iSeCWZEO9BtV"
      },
      "source": [
        "### DataFrame como array bidimensional\n",
        "\n",
        "Como mencionado anteriormente, também podemos ver o ``DataFrame`` como um array bidimensional aprimorado.\n",
        "Podemos examinar o array de dados subjacente bruto usando o atributo ``values``:"
      ]
    },
    {
      "cell_type": "code",
      "source": [
        "data"
      ],
      "metadata": {
        "id": "wjBxvU2Bx_e8"
      },
      "execution_count": null,
      "outputs": []
    },
    {
      "cell_type": "code",
      "execution_count": null,
      "metadata": {
        "id": "jipXKiIv9BtV"
      },
      "outputs": [],
      "source": [
        "data.values"
      ]
    },
    {
      "cell_type": "markdown",
      "metadata": {
        "id": "5QZuGZfP9BtW"
      },
      "source": [
        "Com isso em mente, muitas observações familiares semelhantes a arrays podem ser feitas no próprio ``DataFrame``.\n",
        "\n",
        "Por exemplo, podemos transpor o ``DataFrame`` completo para trocar linhas e colunas:"
      ]
    },
    {
      "cell_type": "code",
      "execution_count": null,
      "metadata": {
        "id": "dW6VDtgE9BtW"
      },
      "outputs": [],
      "source": [
        "data.T"
      ]
    },
    {
      "cell_type": "markdown",
      "metadata": {
        "id": "8Zod7hed9BtW"
      },
      "source": [
        "Quando se trata de indexação de objetos ``DataFrame``, no entanto, é claro que a indexação no estilo de dicionário das colunas impede nossa capacidade de simplesmente tratá-lo como um array NumPy.\n",
        "Em particular, ao passar um único índice para um array vamos acessar uma linha:"
      ]
    },
    {
      "cell_type": "code",
      "execution_count": null,
      "metadata": {
        "id": "nX---5NJ9BtW"
      },
      "outputs": [],
      "source": [
        "data.values[0]"
      ]
    },
    {
      "cell_type": "markdown",
      "metadata": {
        "id": "34qUmKPu9BtW"
      },
      "source": [
        "e passar um único \"índice\" para um ``DataFrame`` acessa uma coluna:"
      ]
    },
    {
      "cell_type": "code",
      "execution_count": null,
      "metadata": {
        "id": "5_Rg1d3H9BtX"
      },
      "outputs": [],
      "source": [
        "data['area']"
      ]
    },
    {
      "cell_type": "markdown",
      "metadata": {
        "collapsed": true,
        "id": "TgoJsbHb9BtX"
      },
      "source": [
        "Portanto, para indexação no estilo de array, precisamos de outra convenção.\n",
        "Aqui, o Pandas novamente usa os indexadores ``loc``, ``iloc`` e ``ix`` mencionados anteriormente.\n",
        "\n",
        "Usando o indexador ``iloc``, podemos indexar o array subjacente como se fosse um simples array NumPy (usando o índice no estilo Python implícito), mas os rótulos de índice e coluna do ``DataFrame`` são mantidos no resultado:"
      ]
    },
    {
      "cell_type": "code",
      "execution_count": null,
      "metadata": {
        "id": "AbsBv7iq9BtX"
      },
      "outputs": [],
      "source": [
        "data.iloc[:3, :2]"
      ]
    },
    {
      "cell_type": "markdown",
      "metadata": {
        "id": "-zY3gZr-9BtX"
      },
      "source": [
        "Da mesma forma, usando o indexador ``loc``, podemos indexar os dados subjacentes em um estilo semelhante a um array, mas usando os nomes explícitos de índice e coluna:"
      ]
    },
    {
      "cell_type": "code",
      "execution_count": null,
      "metadata": {
        "id": "SHtJN7vC9BtX"
      },
      "outputs": [],
      "source": [
        "data.loc[:'Illinois', :'pop']"
      ]
    },
    {
      "cell_type": "markdown",
      "metadata": {
        "id": "238DXvTP9BtY"
      },
      "source": [
        "Qualquer um dos padrões familiares de acesso a dados no estilo NumPy pode ser usado dentro desses indexadores. Por exemplo, no indexador loc, podemos combinar máscaras e indexação sofisticada como no seguinte:"
      ]
    },
    {
      "cell_type": "code",
      "execution_count": null,
      "metadata": {
        "id": "X_B9_iQA9BtY"
      },
      "outputs": [],
      "source": [
        "data.loc[data.density > 100, ['pop', 'density']]"
      ]
    },
    {
      "cell_type": "markdown",
      "metadata": {
        "id": "59uxzSzp9BtY"
      },
      "source": [
        "Qualquer uma dessas convenções de indexação também pode ser usada para definir ou modificar valores; isso é feito da maneira padrão como com o NumPy:"
      ]
    },
    {
      "cell_type": "code",
      "execution_count": null,
      "metadata": {
        "id": "v5xjoTtJ9BtY"
      },
      "outputs": [],
      "source": [
        "data.iloc[0, 2] = 90\n",
        "data"
      ]
    },
    {
      "cell_type": "markdown",
      "metadata": {
        "id": "I_zYMQV99BtY"
      },
      "source": [
        "### Convenções de indexação adicionais\n",
        "\n",
        "Existem algumas convenções de indexação extras que podem parecer em desacordo com a discussão anterior, mas, mesmo assim, podem ser muito úteis na prática.\n",
        "Primeiro, enquanto a *indexação* se refere a colunas, o *fatiamento* se refere a linhas:"
      ]
    },
    {
      "cell_type": "code",
      "execution_count": null,
      "metadata": {
        "id": "TI8Veh4p9BtZ"
      },
      "outputs": [],
      "source": [
        "data['Florida':'Illinois']"
      ]
    },
    {
      "cell_type": "markdown",
      "metadata": {
        "id": "gy50siKh9BtZ"
      },
      "source": [
        "Essas fatias também podem se referir a linhas por número, em vez de por índice:"
      ]
    },
    {
      "cell_type": "code",
      "execution_count": null,
      "metadata": {
        "id": "xUlYKWC_9BtZ"
      },
      "outputs": [],
      "source": [
        "data[1:3]"
      ]
    },
    {
      "cell_type": "markdown",
      "metadata": {
        "id": "Ge5kZ9rT9BtZ"
      },
      "source": [
        "Da mesma forma, as operações de mascaramento direto também são interpretadas linha a linha, em vez de coluna a coluna:"
      ]
    },
    {
      "cell_type": "code",
      "execution_count": null,
      "metadata": {
        "id": "kV9UBlTm9BtZ"
      },
      "outputs": [],
      "source": [
        "data[data.density > 100]"
      ]
    }
  ]
}