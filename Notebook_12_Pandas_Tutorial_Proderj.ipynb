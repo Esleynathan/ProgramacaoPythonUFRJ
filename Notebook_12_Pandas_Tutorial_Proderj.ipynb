{
  "nbformat": 4,
  "nbformat_minor": 5,
  "metadata": {
    "noteable-chatgpt": {
      "create_notebook": {
        "openai_conversation_id": "a0953866-e93a-5741-b334-077d8869913d",
        "openai_ephemeral_user_id": "eafd682b-ca50-59e3-9d2e-f8df728bd7de",
        "openai_subdivision1_iso_code": "BR-RJ"
      }
    },
    "kernel_info": {
      "name": "python3"
    },
    "noteable": {
      "last_transaction_id": "a7ab85bd-1c57-40bc-8e84-09b74b93d2fa"
    },
    "kernelspec": {
      "display_name": "Python 3.9",
      "language": "python",
      "name": "python3"
    },
    "selected_hardware_size": "small",
    "colab": {
      "provenance": []
    }
  },
  "cells": [
    {
      "id": "a21206ad-a58d-48b9-beed-60b7230b377a",
      "cell_type": "markdown",
      "source": [
        "# Tutorial de Pandas\n",
        "Este notebook foi criado para fornecer um tutorial abrangente sobre como usar a biblioteca Pandas em Python para manipulação de dados. Os tópicos abordados são:\n",
        "1. Carregamento de arquivos CSV e Excel\n",
        "2. Aplicação de funções e mapeamento\n",
        "3. Ordenação e classificação\n",
        "4. Valores Únicos, contadores de valores e pertinência\n",
        "5. Interagindo com banco de dados\n",
        "6. Tratando dados ausentes\n",
        "7. Filtrando dados ausentes\n",
        "8. Preenchendo dados ausentes\n",
        "9. Removendo duplicatas\n",
        "10. Transformando dados usando uma função ou um mapeamento\n",
        "11. Substituindo Valores\n",
        "12. Renomeando os eixos dos Índices\n",
        "13. Detectando e filtrando valores discrepantes\n",
        "\n",
        "Vamos começar!"
      ],
      "metadata": {
        "noteable": {
          "cell_type": "markdown"
        },
        "id": "a21206ad-a58d-48b9-beed-60b7230b377a"
      }
    },
    {
      "id": "bfc6df04-c9ae-4c60-8863-f1ca48f1bf65",
      "cell_type": "code",
      "metadata": {
        "noteable": {
          "cell_type": "code",
          "output_collection_id": "40d69383-7289-4eea-9f43-b6878f008376"
        },
        "ExecuteTime": {
          "end_time": "2023-08-28T21:14:50.823529+00:00",
          "start_time": "2023-08-28T21:14:50.665698+00:00"
        },
        "id": "bfc6df04-c9ae-4c60-8863-f1ca48f1bf65"
      },
      "execution_count": null,
      "source": [
        "# Importando a biblioteca Pandas\n",
        "import pandas as pd"
      ],
      "outputs": []
    },
    {
      "id": "37cd6ae0-bc8b-47aa-b6d8-ad02b0b01877",
      "cell_type": "markdown",
      "source": [
        "## 1. Carregamento de Arquivos CSV e Excel\n",
        "\n",
        "Pandas fornece várias funções para ler dados tabulares como um DataFrame. As funções mais comumente usadas são `read_csv` para ler arquivos CSV e `read_excel` para ler arquivos Excel.\n",
        "\n",
        "### Exemplo:\n",
        "Vamos criar alguns arquivos de exemplo para demonstrar como carregar dados."
      ],
      "metadata": {
        "noteable": {
          "cell_type": "markdown"
        },
        "id": "37cd6ae0-bc8b-47aa-b6d8-ad02b0b01877"
      }
    },
    {
      "id": "3f2a1f1e-ea2f-4c01-a389-917c0ba9cdc3",
      "cell_type": "code",
      "metadata": {
        "noteable": {
          "cell_type": "code",
          "output_collection_id": "630d10b9-f035-4f1f-a8ba-254967ab471f"
        },
        "ExecuteTime": {
          "end_time": "2023-08-28T21:15:27.934844+00:00",
          "start_time": "2023-08-28T21:15:27.556852+00:00"
        },
        "id": "3f2a1f1e-ea2f-4c01-a389-917c0ba9cdc3"
      },
      "execution_count": null,
      "source": [
        "# Criando um DataFrame de exemplo e salvando como CSV e Excel\n",
        "df_example = pd.DataFrame({'Nome': ['Mariana', 'Luis', 'Carlos','Luara', 'André', 'Filipe','Giovanna', 'Zara', 'Antonella'],\n",
        "                           'Idade': [25, 30, 35, 18, 45, 70, 6, 160, 35],\n",
        "                           'Profissão': ['Engenheiro', 'Médico', 'Professor','Cientista de Dados', 'Motorista', 'Técnico em Edificações','Cineasta', 'Bancário', 'Professor']})\n",
        "\n",
        "# Salvando como CSV\n",
        "df_example.to_csv('example.csv', index=False)\n",
        "\n",
        "# Salvando como Excel\n",
        "df_example.to_excel('example.xlsx', index=False)"
      ],
      "outputs": []
    },
    {
      "id": "2ad564b6-8405-4279-ae6c-777de8dd99ce",
      "cell_type": "code",
      "metadata": {
        "noteable": {
          "cell_type": "code",
          "output_collection_id": "2cbc3a86-bd2a-4469-b5fc-f960311a31b6"
        },
        "ExecuteTime": {
          "end_time": "2023-08-28T21:15:47.394352+00:00",
          "start_time": "2023-08-28T21:15:47.204220+00:00"
        },
        "id": "2ad564b6-8405-4279-ae6c-777de8dd99ce"
      },
      "execution_count": null,
      "source": [
        "# Carregando o arquivo CSV em um DataFrame\n",
        "df_from_csv = pd.read_csv('example.csv')\n",
        "\n",
        "# Carregando o arquivo Excel em um DataFrame\n",
        "df_from_excel = pd.read_excel('example.xlsx')\n",
        "\n",
        "# Exibindo os DataFrames\n",
        "df_from_csv, df_from_excel"
      ],
      "outputs": []
    },
    {
      "id": "7bb7ba60-738a-493e-818d-8e8f9bc7b50e",
      "cell_type": "markdown",
      "source": [
        "## 2. Aplicação de Funções e Mapeamento\n",
        "\n",
        "Pandas oferece várias formas de aplicar funções e mapeamentos em um DataFrame. As funções `apply` e `applymap` são comumente usadas para este propósito.\n",
        "\n",
        "### Exemplo:\n",
        "Vamos aplicar algumas funções para manipular os dados."
      ],
      "metadata": {
        "noteable": {
          "cell_type": "markdown"
        },
        "id": "7bb7ba60-738a-493e-818d-8e8f9bc7b50e"
      }
    },
    {
      "id": "2189a9cc-f3a1-4476-98e8-bcca87b1458f",
      "cell_type": "code",
      "metadata": {
        "noteable": {
          "cell_type": "code",
          "output_collection_id": "96d853f9-4341-4837-b498-3a0050c4aa4a"
        },
        "ExecuteTime": {
          "end_time": "2023-08-28T21:16:24.201663+00:00",
          "start_time": "2023-08-28T21:16:23.966127+00:00"
        },
        "datalink": {
          "b607eea0-6b77-4954-9c0a-1977402e1c36": {
            "applied_filters": [],
            "dataframe_info": {
              "default_index_used": true,
              "orig_num_cols": 4,
              "orig_num_rows": 3,
              "orig_size_bytes": 120,
              "truncated_num_cols": 4,
              "truncated_num_rows": 3,
              "truncated_size_bytes": 120,
              "truncated_string_columns": []
            },
            "display_id": "b607eea0-6b77-4954-9c0a-1977402e1c36",
            "dx_settings": {
              "ALLOW_NOTEABLE_ATTRS": true,
              "COLUMN_SAMPLING_METHOD": "outer",
              "DB_LOCATION": ":memory:",
              "DEV_MODE": false,
              "DISPLAY_MAX_COLUMNS": 100,
              "DISPLAY_MAX_ROWS": 50000,
              "DISPLAY_MODE": "simple",
              "ENABLE_ASSIGNMENT": true,
              "ENABLE_DATALINK": true,
              "FLATTEN_COLUMN_VALUES": true,
              "FLATTEN_INDEX_VALUES": false,
              "GENERATE_DEX_METADATA": false,
              "HTML_TABLE_SCHEMA": false,
              "LOG_LEVEL": 30,
              "MAX_RENDER_SIZE_BYTES": 104857600,
              "MAX_STRING_LENGTH": 250,
              "NUM_PAST_SAMPLES_TRACKED": 3,
              "RANDOM_STATE": 12648430,
              "RESET_INDEX_VALUES": false,
              "ROW_SAMPLING_METHOD": "random",
              "SAMPLING_FACTOR": 0.1,
              "SAMPLING_METHOD": "random",
              "STRINGIFY_COLUMN_VALUES": true,
              "STRINGIFY_INDEX_VALUES": false
            },
            "sample_history": [],
            "sampling_time": "2023-08-28T21:16:24.027847",
            "user_variable_name": "df_example",
            "variable_name": "df_example"
          }
        },
        "id": "2189a9cc-f3a1-4476-98e8-bcca87b1458f"
      },
      "execution_count": null,
      "source": [
        "# Função para dobrar a idade\n",
        "def double_age(age):\n",
        "    return age * 2\n",
        "\n",
        "# Usando apply para aplicar a função a uma coluna\n",
        "df_example['Idade Dobrada'] = df_example['Idade'].apply(double_age)\n",
        "\n",
        "# Exibindo o DataFrame modificado\n",
        "df_example"
      ],
      "outputs": []
    },
    {
      "id": "b3bfeddb-2816-478d-abf0-9aefa57a3e7e",
      "cell_type": "markdown",
      "source": [
        "## 3. Ordenação e Classificação\n",
        "\n",
        "Pandas fornece métodos como `sort_values` e `sort_index` para ordenar DataFrames. Você também pode usar `rank` para classificar os dados.\n",
        "\n",
        "### Exemplo:\n",
        "Vamos ordenar e classificar o DataFrame."
      ],
      "metadata": {
        "noteable": {
          "cell_type": "markdown"
        },
        "id": "b3bfeddb-2816-478d-abf0-9aefa57a3e7e"
      }
    },
    {
      "cell_type": "code",
      "source": [
        "# Ordenando o DataFrame pela coluna 'Idade'\n",
        "df_sorted_by_age = df_example.sort_values(by='Idade')\n",
        "df_sorted_by_age"
      ],
      "metadata": {
        "id": "0ZIcd-RUJsPQ"
      },
      "id": "0ZIcd-RUJsPQ",
      "execution_count": null,
      "outputs": []
    },
    {
      "cell_type": "code",
      "source": [
        "# Ordenando o DataFrame pelo índice\n",
        "df_sorted_by_index = df_example.sort_index(ascending=False)\n",
        "df_sorted_by_index"
      ],
      "metadata": {
        "id": "z_IOpxQjJ2Bf"
      },
      "id": "z_IOpxQjJ2Bf",
      "execution_count": null,
      "outputs": []
    },
    {
      "cell_type": "code",
      "source": [
        "# Classificando a coluna 'Idade' e adicionando uma nova coluna 'Rank'\n",
        "df_example['Rank'] = df_example['Idade'].rank()\n",
        "df_example"
      ],
      "metadata": {
        "id": "DTRcMU0_J-5_"
      },
      "id": "DTRcMU0_J-5_",
      "execution_count": null,
      "outputs": []
    },
    {
      "id": "3d48906d-077f-4064-98b4-4490a0987148",
      "cell_type": "markdown",
      "source": [
        "## 4. Valores Únicos, Contadores de Valores e Pertinência\n",
        "\n",
        "Pandas fornece métodos como `unique`, `value_counts` e `isin` para trabalhar com valores únicos, contadores de valores e pertinência, respectivamente.\n",
        "\n",
        "### Exemplo:\n",
        "Vamos explorar esses métodos."
      ],
      "metadata": {
        "noteable": {
          "cell_type": "markdown"
        },
        "id": "3d48906d-077f-4064-98b4-4490a0987148"
      }
    },
    {
      "cell_type": "code",
      "source": [
        "# Obtendo valores únicos da coluna 'Profissão'\n",
        "unique_professions = df_example['Profissão'].unique()\n",
        "unique_professions"
      ],
      "metadata": {
        "id": "aIfXfjSWKXvR"
      },
      "id": "aIfXfjSWKXvR",
      "execution_count": null,
      "outputs": []
    },
    {
      "cell_type": "code",
      "source": [
        "# Obtendo contadores de valores da coluna 'Profissão'\n",
        "value_counts_professions = df_example['Profissão'].value_counts()\n",
        "value_counts_professions"
      ],
      "metadata": {
        "id": "JZhRGq5kKeWZ"
      },
      "id": "JZhRGq5kKeWZ",
      "execution_count": null,
      "outputs": []
    },
    {
      "id": "7fee12ad-2565-43e4-b3b7-e20ea768321c",
      "cell_type": "code",
      "metadata": {
        "noteable": {
          "cell_type": "code",
          "output_collection_id": "ce002281-85f9-4c25-bb5d-daea3365b470"
        },
        "ExecuteTime": {
          "end_time": "2023-08-28T21:17:37.692902+00:00",
          "start_time": "2023-08-28T21:17:37.528141+00:00"
        },
        "id": "7fee12ad-2565-43e4-b3b7-e20ea768321c"
      },
      "execution_count": null,
      "source": [
        "# Verificando a pertinência de certos valores na coluna 'Profissão'\n",
        "is_profession_in_df = df_example['Profissão'].isin(['Engenheiro', 'Advogado', 'Professor'])\n",
        "is_profession_in_df"
      ],
      "outputs": []
    },
    {
      "id": "3a5fba0d-6afb-41fe-a625-028aae499991",
      "cell_type": "markdown",
      "source": [
        "## 5. Interagindo com Banco de Dados\n",
        "\n",
        "Pandas pode interagir com diferentes tipos de bancos de dados. Você pode usar o método `read_sql` para ler dados diretamente de um banco de dados SQL para um DataFrame.\n",
        "\n",
        "### Exemplo:\n",
        "Vamos simular uma interação com um banco de dados SQLite."
      ],
      "metadata": {
        "noteable": {
          "cell_type": "markdown"
        },
        "id": "3a5fba0d-6afb-41fe-a625-028aae499991"
      }
    },
    {
      "cell_type": "code",
      "source": [
        "# Importando a biblioteca SQLite\n",
        "import sqlite3"
      ],
      "metadata": {
        "id": "JSfCP7nNLE_P"
      },
      "id": "JSfCP7nNLE_P",
      "execution_count": null,
      "outputs": []
    },
    {
      "cell_type": "code",
      "source": [
        "# Criando uma conexão SQLite e um DataFrame de exemplo\n",
        "conn = sqlite3.connect('example.db')\n",
        "df_example.to_sql('people', conn, if_exists='replace', index=False)"
      ],
      "metadata": {
        "id": "lSvrvBUjLGi3"
      },
      "id": "lSvrvBUjLGi3",
      "execution_count": null,
      "outputs": []
    },
    {
      "cell_type": "code",
      "source": [
        "# Lendo dados do banco de dados SQLite para um DataFrame\n",
        "df_from_sql = pd.read_sql('SELECT * FROM people', conn)"
      ],
      "metadata": {
        "id": "hTss2_53LJTX"
      },
      "id": "hTss2_53LJTX",
      "execution_count": null,
      "outputs": []
    },
    {
      "cell_type": "code",
      "source": [
        "# Fechando a conexão\n",
        "conn.close()"
      ],
      "metadata": {
        "id": "l4QOa0xyLMC4"
      },
      "id": "l4QOa0xyLMC4",
      "execution_count": null,
      "outputs": []
    },
    {
      "id": "d4b66e82-5b60-4fae-a3e5-7be5c27ede83",
      "cell_type": "code",
      "metadata": {
        "noteable": {
          "cell_type": "code",
          "output_collection_id": "818882ce-8155-4330-bb93-578907a0c42c"
        },
        "ExecuteTime": {
          "end_time": "2023-08-28T21:18:14.763320+00:00",
          "start_time": "2023-08-28T21:18:14.523783+00:00"
        },
        "datalink": {
          "afb3393b-0a7d-42a0-b0d7-08ba3d407466": {
            "applied_filters": [],
            "dataframe_info": {
              "default_index_used": true,
              "orig_num_cols": 5,
              "orig_num_rows": 3,
              "orig_size_bytes": 144,
              "truncated_num_cols": 5,
              "truncated_num_rows": 3,
              "truncated_size_bytes": 144,
              "truncated_string_columns": []
            },
            "display_id": "afb3393b-0a7d-42a0-b0d7-08ba3d407466",
            "dx_settings": {
              "ALLOW_NOTEABLE_ATTRS": true,
              "COLUMN_SAMPLING_METHOD": "outer",
              "DB_LOCATION": ":memory:",
              "DEV_MODE": false,
              "DISPLAY_MAX_COLUMNS": 100,
              "DISPLAY_MAX_ROWS": 50000,
              "DISPLAY_MODE": "simple",
              "ENABLE_ASSIGNMENT": true,
              "ENABLE_DATALINK": true,
              "FLATTEN_COLUMN_VALUES": true,
              "FLATTEN_INDEX_VALUES": false,
              "GENERATE_DEX_METADATA": false,
              "HTML_TABLE_SCHEMA": false,
              "LOG_LEVEL": 30,
              "MAX_RENDER_SIZE_BYTES": 104857600,
              "MAX_STRING_LENGTH": 250,
              "NUM_PAST_SAMPLES_TRACKED": 3,
              "RANDOM_STATE": 12648430,
              "RESET_INDEX_VALUES": false,
              "ROW_SAMPLING_METHOD": "random",
              "SAMPLING_FACTOR": 0.1,
              "SAMPLING_METHOD": "random",
              "STRINGIFY_COLUMN_VALUES": true,
              "STRINGIFY_INDEX_VALUES": false
            },
            "sample_history": [],
            "sampling_time": "2023-08-28T21:18:14.598003",
            "user_variable_name": "df_example",
            "variable_name": "df_example"
          }
        },
        "id": "d4b66e82-5b60-4fae-a3e5-7be5c27ede83"
      },
      "execution_count": null,
      "source": [
        "# Exibindo o DataFrame\n",
        "df_from_sql"
      ],
      "outputs": []
    },
    {
      "id": "c837d290-623d-4715-be8f-4f7f3d8617ae",
      "cell_type": "markdown",
      "source": [
        "## 6. Tratando Dados Ausentes\n",
        "\n",
        "Dados ausentes são comuns em muitos conjuntos de dados. Pandas fornece métodos como `isna`, `notna` para detectar dados ausentes.\n",
        "\n",
        "### Exemplo:\n",
        "Vamos criar um DataFrame com alguns dados ausentes e usar esses métodos."
      ],
      "metadata": {
        "noteable": {
          "cell_type": "markdown"
        },
        "id": "c837d290-623d-4715-be8f-4f7f3d8617ae"
      }
    },
    {
      "cell_type": "code",
      "source": [
        "import numpy as np"
      ],
      "metadata": {
        "id": "Vt34O9opLh83"
      },
      "id": "Vt34O9opLh83",
      "execution_count": null,
      "outputs": []
    },
    {
      "cell_type": "code",
      "source": [
        "# Criando um DataFrame com dados ausentes\n",
        "df_with_na = pd.DataFrame({'A': [1, 2, np.nan, 4],\n",
        "                           'B': [5, np.nan, np.nan, 8],\n",
        "                           'C': [9, 10, 11, 12]})"
      ],
      "metadata": {
        "id": "R9Ew40a7LbAY"
      },
      "id": "R9Ew40a7LbAY",
      "execution_count": null,
      "outputs": []
    },
    {
      "cell_type": "code",
      "source": [
        "# Detectando dados ausentes\n",
        "is_na = df_with_na.isna()\n",
        "is_na"
      ],
      "metadata": {
        "id": "uuyPEICvLcmf"
      },
      "id": "uuyPEICvLcmf",
      "execution_count": null,
      "outputs": []
    },
    {
      "cell_type": "code",
      "source": [
        "# Detectando dados não ausentes\n",
        "not_na = df_with_na.notna()\n",
        "not_na"
      ],
      "metadata": {
        "id": "ZrG7bo7xLeNo"
      },
      "id": "ZrG7bo7xLeNo",
      "execution_count": null,
      "outputs": []
    },
    {
      "id": "2facf777-f276-412e-822a-a226481a0ea3",
      "cell_type": "code",
      "metadata": {
        "noteable": {
          "cell_type": "code",
          "output_collection_id": "0e855182-0d09-4190-b2d4-c9f9fa0963d6"
        },
        "ExecuteTime": {
          "end_time": "2023-08-28T21:18:56.508487+00:00",
          "start_time": "2023-08-28T21:18:56.339200+00:00"
        },
        "id": "2facf777-f276-412e-822a-a226481a0ea3"
      },
      "execution_count": null,
      "source": [
        "# Exibindo os DataFrames\n",
        "df_with_na, is_na, not_na"
      ],
      "outputs": []
    },
    {
      "id": "f1db8e27-6a1b-4e7a-b6df-ba9bae82ef5f",
      "cell_type": "markdown",
      "source": [
        "## 7. Filtrando Dados Ausentes\n",
        "\n",
        "Depois de identificar dados ausentes, você pode querer filtrá-los. Pandas oferece métodos como `dropna` para remover linhas ou colunas com dados ausentes.\n",
        "\n",
        "### Exemplo:\n",
        "Vamos filtrar os dados ausentes do DataFrame."
      ],
      "metadata": {
        "noteable": {
          "cell_type": "markdown"
        },
        "id": "f1db8e27-6a1b-4e7a-b6df-ba9bae82ef5f"
      }
    },
    {
      "cell_type": "code",
      "source": [
        "# Removendo todas as linhas onde pelo menos um elemento está ausente\n",
        "df_dropped_na_rows = df_with_na.dropna()"
      ],
      "metadata": {
        "id": "Gy6QS7rsNrx2"
      },
      "id": "Gy6QS7rsNrx2",
      "execution_count": null,
      "outputs": []
    },
    {
      "cell_type": "code",
      "source": [
        "# Removendo todas as colunas onde pelo menos um elemento está ausente\n",
        "df_dropped_na_cols = df_with_na.dropna(axis=1)"
      ],
      "metadata": {
        "id": "L-oc5uSUNtiN"
      },
      "id": "L-oc5uSUNtiN",
      "execution_count": null,
      "outputs": []
    },
    {
      "id": "8b0bb59c-4d8f-4d01-acec-9009df2c0bea",
      "cell_type": "code",
      "metadata": {
        "noteable": {
          "cell_type": "code",
          "output_collection_id": "3be4718b-6f63-4669-a55b-f8538a5a16e3"
        },
        "ExecuteTime": {
          "end_time": "2023-08-28T21:19:32.888268+00:00",
          "start_time": "2023-08-28T21:19:32.721767+00:00"
        },
        "id": "8b0bb59c-4d8f-4d01-acec-9009df2c0bea"
      },
      "execution_count": null,
      "source": [
        "# Exibindo os DataFrames\n",
        "df_dropped_na_rows, df_dropped_na_cols"
      ],
      "outputs": []
    },
    {
      "id": "c6121996-ba2e-4a82-9437-088d5243706b",
      "cell_type": "markdown",
      "source": [
        "## 8. Preenchendo Dados Ausentes\n",
        "\n",
        "Em vez de remover dados ausentes, você pode optar por preenchê-los com algum valor. Pandas oferece o método `fillna` para este propósito.\n",
        "\n",
        "### Exemplo:\n",
        "Vamos preencher os dados ausentes com zeros."
      ],
      "metadata": {
        "noteable": {
          "cell_type": "markdown"
        },
        "id": "c6121996-ba2e-4a82-9437-088d5243706b"
      }
    },
    {
      "id": "94114098-0c71-45ad-a89d-bd5bcf6dbcad",
      "cell_type": "code",
      "metadata": {
        "noteable": {
          "cell_type": "code",
          "output_collection_id": "b773f2b7-a13b-4d99-a33f-f1b7f823bd1f"
        },
        "ExecuteTime": {
          "end_time": "2023-08-28T21:20:06.976827+00:00",
          "start_time": "2023-08-28T21:20:06.750434+00:00"
        },
        "datalink": {
          "acece680-62d8-4378-92b7-4fdd46fa72c5": {
            "applied_filters": [],
            "dataframe_info": {
              "default_index_used": true,
              "orig_num_cols": 3,
              "orig_num_rows": 4,
              "orig_size_bytes": 128,
              "truncated_num_cols": 3,
              "truncated_num_rows": 4,
              "truncated_size_bytes": 128,
              "truncated_string_columns": []
            },
            "display_id": "acece680-62d8-4378-92b7-4fdd46fa72c5",
            "dx_settings": {
              "ALLOW_NOTEABLE_ATTRS": true,
              "COLUMN_SAMPLING_METHOD": "outer",
              "DB_LOCATION": ":memory:",
              "DEV_MODE": false,
              "DISPLAY_MAX_COLUMNS": 100,
              "DISPLAY_MAX_ROWS": 50000,
              "DISPLAY_MODE": "simple",
              "ENABLE_ASSIGNMENT": true,
              "ENABLE_DATALINK": true,
              "FLATTEN_COLUMN_VALUES": true,
              "FLATTEN_INDEX_VALUES": false,
              "GENERATE_DEX_METADATA": false,
              "HTML_TABLE_SCHEMA": false,
              "LOG_LEVEL": 30,
              "MAX_RENDER_SIZE_BYTES": 104857600,
              "MAX_STRING_LENGTH": 250,
              "NUM_PAST_SAMPLES_TRACKED": 3,
              "RANDOM_STATE": 12648430,
              "RESET_INDEX_VALUES": false,
              "ROW_SAMPLING_METHOD": "random",
              "SAMPLING_FACTOR": 0.1,
              "SAMPLING_METHOD": "random",
              "STRINGIFY_COLUMN_VALUES": true,
              "STRINGIFY_INDEX_VALUES": false
            },
            "sample_history": [],
            "sampling_time": "2023-08-28T21:20:06.812140",
            "user_variable_name": "df_filled_na",
            "variable_name": "df_filled_na"
          }
        },
        "id": "94114098-0c71-45ad-a89d-bd5bcf6dbcad"
      },
      "execution_count": null,
      "source": [
        "# Preenchendo todos os valores ausentes com zero\n",
        "df_filled_na = df_with_na.fillna(0)\n",
        "\n",
        "# Exibindo o DataFrame\n",
        "df_filled_na"
      ],
      "outputs": []
    },
    {
      "id": "bbcd9a9c-bfe2-4c51-b18e-f50c9942109e",
      "cell_type": "markdown",
      "source": [
        "## 9. Removendo Duplicatas\n",
        "\n",
        "DataFrames podem conter linhas duplicadas. Pandas oferece métodos como `duplicated` e `drop_duplicates` para identificar e remover duplicatas.\n",
        "\n",
        "### Exemplo:\n",
        "Vamos criar um DataFrame com algumas linhas duplicadas e usar esses métodos."
      ],
      "metadata": {
        "noteable": {
          "cell_type": "markdown"
        },
        "id": "bbcd9a9c-bfe2-4c51-b18e-f50c9942109e"
      }
    },
    {
      "cell_type": "code",
      "source": [
        "# Criando um DataFrame com linhas duplicadas\n",
        "df_with_duplicates = pd.DataFrame({'A': [1, 2, 2, 3, 3, 3],\n",
        "                                   'B': [4, 5, 5, 6, 6, 6]})\n",
        "df_with_duplicates"
      ],
      "metadata": {
        "id": "AxPfLMdZN1cV"
      },
      "id": "AxPfLMdZN1cV",
      "execution_count": null,
      "outputs": []
    },
    {
      "cell_type": "code",
      "source": [
        "# Identificando linhas duplicadas\n",
        "is_duplicated = df_with_duplicates.duplicated()\n",
        "is_duplicated"
      ],
      "metadata": {
        "id": "X098FV1zN3wo"
      },
      "id": "X098FV1zN3wo",
      "execution_count": null,
      "outputs": []
    },
    {
      "cell_type": "code",
      "source": [
        "# Removendo linhas duplicadas\n",
        "df_no_duplicates = df_with_duplicates.drop_duplicates()\n",
        "df_no_duplicates"
      ],
      "metadata": {
        "id": "ySn_rU-4N7OG"
      },
      "id": "ySn_rU-4N7OG",
      "execution_count": null,
      "outputs": []
    },
    {
      "id": "1c586d08-60a9-41b0-870a-f2df7ec4c491",
      "cell_type": "markdown",
      "source": [
        "## 10. Transformando Dados Usando uma Função ou um Mapeamento\n",
        "\n",
        "Você pode querer transformar dados com base em algum mapeamento ou função. Pandas oferece métodos como `map` e `replace` para este propósito.\n",
        "\n",
        "### Exemplo:\n",
        "Vamos transformar os dados de uma coluna usando um mapeamento."
      ],
      "metadata": {
        "noteable": {
          "cell_type": "markdown"
        },
        "id": "1c586d08-60a9-41b0-870a-f2df7ec4c491"
      }
    },
    {
      "id": "2e2e6459-d949-4cad-a007-090552fc95e2",
      "cell_type": "code",
      "metadata": {
        "noteable": {
          "cell_type": "code",
          "output_collection_id": "dac88588-b709-4934-9507-5af6967e2eed"
        },
        "ExecuteTime": {
          "end_time": "2023-08-28T21:21:28.537837+00:00",
          "start_time": "2023-08-28T21:21:28.373877+00:00"
        },
        "id": "2e2e6459-d949-4cad-a007-090552fc95e2"
      },
      "execution_count": null,
      "source": [
        "# Criando um mapeamento para a coluna 'A'\n",
        "mapping = {1: 'um', 2: 'dois', 3: 'três'}\n",
        "\n",
        "# Usando map para transformar a coluna 'A'\n",
        "df_with_mapping = df_with_duplicates['A'].map(mapping)\n",
        "\n",
        "# Usando replace para transformar a coluna 'A'\n",
        "df_with_replace = df_with_duplicates['A'].replace(mapping)\n",
        "\n",
        "# Exibindo os DataFrames\n",
        "df_with_mapping, df_with_replace"
      ],
      "outputs": []
    },
    {
      "id": "4a136488-1d9d-4668-bcfc-953db2bf603f",
      "cell_type": "markdown",
      "source": [
        "## 11. Substituindo Valores\n",
        "\n",
        "Às vezes, você pode querer substituir valores específicos em um DataFrame. O método `replace` é útil para isso.\n",
        "\n",
        "### Exemplo:\n",
        "Vamos substituir alguns valores em um DataFrame."
      ],
      "metadata": {
        "noteable": {
          "cell_type": "markdown"
        },
        "id": "4a136488-1d9d-4668-bcfc-953db2bf603f"
      }
    },
    {
      "cell_type": "code",
      "source": [
        "# Criando um DataFrame de exemplo\n",
        "df_replace_example = pd.DataFrame({'A': [1, 2, 3], 'B': [4, 5, 6]})"
      ],
      "metadata": {
        "id": "sQV1rLfReDlQ"
      },
      "id": "sQV1rLfReDlQ",
      "execution_count": null,
      "outputs": []
    },
    {
      "cell_type": "code",
      "source": [
        "# Substituindo o valor 1 por 100 e o valor 6 por 600\n",
        "df_replaced_values = df_replace_example.replace({1: 100, 6: 600})"
      ],
      "metadata": {
        "id": "hHe_MHPLeFAY"
      },
      "id": "hHe_MHPLeFAY",
      "execution_count": null,
      "outputs": []
    },
    {
      "id": "0db82d36-d7b9-46d8-ba43-78e354e89a11",
      "cell_type": "code",
      "metadata": {
        "noteable": {
          "cell_type": "code",
          "output_collection_id": "ef6a5d60-7a65-4cff-973b-974e983e992c"
        },
        "ExecuteTime": {
          "end_time": "2023-08-28T21:22:02.688008+00:00",
          "start_time": "2023-08-28T21:22:02.460736+00:00"
        },
        "datalink": {
          "94e97e88-a209-4aa1-a498-37a048bb7d1b": {
            "applied_filters": [],
            "dataframe_info": {
              "default_index_used": true,
              "orig_num_cols": 2,
              "orig_num_rows": 3,
              "orig_size_bytes": 72,
              "truncated_num_cols": 2,
              "truncated_num_rows": 3,
              "truncated_size_bytes": 72,
              "truncated_string_columns": []
            },
            "display_id": "94e97e88-a209-4aa1-a498-37a048bb7d1b",
            "dx_settings": {
              "ALLOW_NOTEABLE_ATTRS": true,
              "COLUMN_SAMPLING_METHOD": "outer",
              "DB_LOCATION": ":memory:",
              "DEV_MODE": false,
              "DISPLAY_MAX_COLUMNS": 100,
              "DISPLAY_MAX_ROWS": 50000,
              "DISPLAY_MODE": "simple",
              "ENABLE_ASSIGNMENT": true,
              "ENABLE_DATALINK": true,
              "FLATTEN_COLUMN_VALUES": true,
              "FLATTEN_INDEX_VALUES": false,
              "GENERATE_DEX_METADATA": false,
              "HTML_TABLE_SCHEMA": false,
              "LOG_LEVEL": 30,
              "MAX_RENDER_SIZE_BYTES": 104857600,
              "MAX_STRING_LENGTH": 250,
              "NUM_PAST_SAMPLES_TRACKED": 3,
              "RANDOM_STATE": 12648430,
              "RESET_INDEX_VALUES": false,
              "ROW_SAMPLING_METHOD": "random",
              "SAMPLING_FACTOR": 0.1,
              "SAMPLING_METHOD": "random",
              "STRINGIFY_COLUMN_VALUES": true,
              "STRINGIFY_INDEX_VALUES": false
            },
            "sample_history": [],
            "sampling_time": "2023-08-28T21:22:02.523853",
            "user_variable_name": "df_replaced_values",
            "variable_name": "df_replaced_values"
          }
        },
        "id": "0db82d36-d7b9-46d8-ba43-78e354e89a11"
      },
      "execution_count": null,
      "source": [
        "# Exibindo o DataFrame\n",
        "df_replaced_values"
      ],
      "outputs": []
    },
    {
      "id": "8e4e5ade-d43f-4914-aa4a-b7a070d6ec41",
      "cell_type": "markdown",
      "source": [
        "## 12. Renomeando os Eixos dos Índices\n",
        "\n",
        "Você pode querer renomear os rótulos dos índices ou das colunas de um DataFrame. O método `rename` é útil para isso.\n",
        "\n",
        "### Exemplo:\n",
        "Vamos renomear algumas colunas e índices em um DataFrame."
      ],
      "metadata": {
        "noteable": {
          "cell_type": "markdown"
        },
        "id": "8e4e5ade-d43f-4914-aa4a-b7a070d6ec41"
      }
    },
    {
      "cell_type": "code",
      "source": [
        "# Renomeando colunas\n",
        "df_renamed_columns = df_replace_example.rename(columns={'A': 'Coluna A', 'B': 'Coluna B'})\n",
        "df_renamed_columns"
      ],
      "metadata": {
        "id": "uAHxhDJBeJZX"
      },
      "id": "uAHxhDJBeJZX",
      "execution_count": null,
      "outputs": []
    },
    {
      "cell_type": "code",
      "source": [
        "# Renomeando índices\n",
        "df_renamed_index = df_replace_example.rename(index={0: 'Linha 1', 1: 'Linha 2', 2: 'Linha 3'})\n",
        "df_renamed_index"
      ],
      "metadata": {
        "id": "GZ319Ji7eK-2"
      },
      "id": "GZ319Ji7eK-2",
      "execution_count": null,
      "outputs": []
    },
    {
      "id": "bd37093a-36f1-4e15-af2f-8482fc4f5633",
      "cell_type": "markdown",
      "source": [
        "## 13. Detectando e Filtrando Valores Discrepantes\n",
        "\n",
        "Valores discrepantes podem afetar a análise dos dados. Pandas oferece várias formas de identificar e filtrar esses valores.\n",
        "\n",
        "### Exemplo:\n",
        "Vamos criar um DataFrame com alguns valores discrepantes e filtrá-los."
      ],
      "metadata": {
        "noteable": {
          "cell_type": "markdown"
        },
        "id": "bd37093a-36f1-4e15-af2f-8482fc4f5633"
      }
    },
    {
      "cell_type": "code",
      "source": [
        "# Criando um DataFrame com valores discrepantes\n",
        "df_with_outliers = pd.DataFrame({'A': [1, 2, 3, 1000], 'B': [4, 5, 6, 2000]})\n",
        "df_with_outliers"
      ],
      "metadata": {
        "id": "Vk1Sug1wecsm"
      },
      "id": "Vk1Sug1wecsm",
      "execution_count": null,
      "outputs": []
    },
    {
      "cell_type": "code",
      "source": [
        "# Calculando o IQR para cada coluna\n",
        "Q1 = df_with_outliers.quantile(0.25)\n",
        "Q3 = df_with_outliers.quantile(0.75)\n",
        "IQR = Q3 - Q1\n",
        "\n",
        "# Definindo limites para filtrar outliers\n",
        "lower_bound = Q1 - 1.5 * IQR\n",
        "upper_bound = Q3 + 1.5 * IQR\n",
        "\n",
        "# Filtrando os outliers\n",
        "df_filtered = df_with_outliers[~((df_with_outliers < lower_bound) | (df_with_outliers > upper_bound)).any(axis=1)]\n",
        "\n",
        "# Exibindo o DataFrame filtrado\n",
        "print(df_filtered)\n",
        "\n"
      ],
      "metadata": {
        "id": "IZ4YikiqfdwK"
      },
      "id": "IZ4YikiqfdwK",
      "execution_count": null,
      "outputs": []
    },
    {
      "id": "77e93564-2247-4b72-9444-4eee70a3aa5e",
      "cell_type": "markdown",
      "source": [
        "## 7. Filtrando Dados Ausentes\n",
        "\n",
        "Você pode usar métodos como `dropna` para remover linhas ou colunas contendo dados ausentes.\n",
        "\n",
        "### Exemplo:\n",
        "Vamos filtrar os dados ausentes do DataFrame."
      ],
      "metadata": {
        "noteable": {
          "cell_type": "markdown"
        },
        "id": "77e93564-2247-4b72-9444-4eee70a3aa5e"
      }
    },
    {
      "id": "431275e8-aeba-4852-81ee-48685e22f68c",
      "cell_type": "code",
      "metadata": {
        "noteable": {
          "cell_type": "code",
          "output_collection_id": "1ff02855-13b5-4f7a-a22a-eab8e1abcea6"
        },
        "ExecuteTime": {
          "end_time": "2023-08-28T21:34:24.715087+00:00",
          "start_time": "2023-08-28T21:34:24.548966+00:00"
        },
        "id": "431275e8-aeba-4852-81ee-48685e22f68c"
      },
      "execution_count": null,
      "source": [
        "# Removendo todas as linhas onde há pelo menos um valor ausente\n",
        "df_dropped_na_rows = df_with_na.dropna()\n",
        "\n",
        "# Removendo todas as colunas onde há pelo menos um valor ausente\n",
        "df_dropped_na_cols = df_with_na.dropna(axis=1)\n",
        "\n",
        "# Exibindo os DataFrames\n",
        "df_dropped_na_rows, df_dropped_na_cols"
      ],
      "outputs": []
    },
    {
      "id": "d6c3915d-78ab-4dca-8bd6-11faa35182cf",
      "cell_type": "markdown",
      "source": [
        "## 8. Preenchendo Dados Ausentes\n",
        "\n",
        "Pandas oferece o método `fillna` para preencher dados ausentes com um valor específico ou usando um método de preenchimento, como preenchimento para a frente (`ffill`) ou para trás (`bfill`).\n",
        "\n",
        "### Exemplo:\n",
        "Vamos preencher os dados ausentes do DataFrame."
      ],
      "metadata": {
        "noteable": {
          "cell_type": "markdown"
        },
        "id": "d6c3915d-78ab-4dca-8bd6-11faa35182cf"
      }
    },
    {
      "id": "726193ee-1e6a-46e0-a795-bbe4188b23cb",
      "cell_type": "code",
      "metadata": {
        "noteable": {
          "cell_type": "code",
          "output_collection_id": "9fde2a11-3005-4ed2-8231-86c706e03021"
        },
        "ExecuteTime": {
          "end_time": "2023-08-28T21:35:06.022397+00:00",
          "start_time": "2023-08-28T21:35:05.852034+00:00"
        },
        "id": "726193ee-1e6a-46e0-a795-bbe4188b23cb"
      },
      "execution_count": null,
      "source": [
        "# Preenchendo todos os valores ausentes com 0\n",
        "df_filled_with_zero = df_with_na.fillna(0)\n",
        "\n",
        "# Preenchendo valores ausentes para a frente\n",
        "df_filled_forward = df_with_na.fillna(method='ffill')\n",
        "\n",
        "# Preenchendo valores ausentes para trás\n",
        "df_filled_backward = df_with_na.fillna(method='bfill')\n",
        "\n",
        "# Exibindo os DataFrames\n",
        "df_filled_with_zero, df_filled_forward, df_filled_backward"
      ],
      "outputs": []
    },
    {
      "id": "c709465a-2a43-4090-b478-e73eb764f652",
      "cell_type": "markdown",
      "source": [
        "## 9. Removendo Duplicatas\n",
        "\n",
        "Dados duplicados podem ser problemáticos na análise de dados. Pandas fornece métodos como `duplicated` e `drop_duplicates` para identificar e remover duplicatas.\n",
        "\n",
        "### Exemplo:\n",
        "Vamos criar um DataFrame com algumas linhas duplicadas e usar esses métodos."
      ],
      "metadata": {
        "noteable": {
          "cell_type": "markdown"
        },
        "id": "c709465a-2a43-4090-b478-e73eb764f652"
      }
    },
    {
      "id": "670f5379-94d4-43b6-8e04-aad5adf65b81",
      "cell_type": "code",
      "metadata": {
        "noteable": {
          "cell_type": "code",
          "output_collection_id": "3eae034c-33f3-4506-bb50-1550489e2b70"
        },
        "ExecuteTime": {
          "end_time": "2023-08-28T21:35:50.179025+00:00",
          "start_time": "2023-08-28T21:35:50.007960+00:00"
        },
        "id": "670f5379-94d4-43b6-8e04-aad5adf65b81"
      },
      "execution_count": null,
      "source": [
        "# Criando um DataFrame com linhas duplicadas\n",
        "df_with_duplicates = pd.DataFrame({'A': [1, 2, 2, 3, 4, 4],\n",
        "                                   'B': [5, 6, 6, 7, 8, 8],\n",
        "                                   'C': [9, 10, 10, 11, 12, 12]})\n",
        "\n",
        "# Identificando linhas duplicadas\n",
        "is_duplicated = df_with_duplicates.duplicated()\n",
        "\n",
        "# Removendo linhas duplicadas\n",
        "df_no_duplicates = df_with_duplicates.drop_duplicates()\n",
        "\n",
        "# Exibindo os DataFrames\n",
        "df_with_duplicates, is_duplicated, df_no_duplicates"
      ],
      "outputs": []
    },
    {
      "id": "f5562719-4839-49b7-9b6b-05668a5a0cb0",
      "cell_type": "markdown",
      "source": [
        "## 10. Transformando Dados Usando uma Função ou um Mapeamento\n",
        "\n",
        "Você pode transformar dados em um DataFrame usando funções personalizadas ou mapeamentos. Isso é útil para realizar transformações complexas em seus dados.\n",
        "\n",
        "### Exemplo:\n",
        "Vamos usar um mapeamento para transformar a coluna 'Profissão' do DataFrame."
      ],
      "metadata": {
        "noteable": {
          "cell_type": "markdown"
        },
        "id": "f5562719-4839-49b7-9b6b-05668a5a0cb0"
      }
    },
    {
      "id": "b6a95d77-4dbc-4cc3-bce1-0adf202097d4",
      "cell_type": "code",
      "metadata": {
        "noteable": {
          "cell_type": "code",
          "output_collection_id": "ec10b7ac-1b33-4b29-bfb1-cd7edfdbf4e2"
        },
        "ExecuteTime": {
          "end_time": "2023-08-28T21:36:36.075243+00:00",
          "start_time": "2023-08-28T21:36:35.684975+00:00"
        },
        "datalink": {
          "bb78a6ff-6652-4972-9df0-426f95cdbb7e": {
            "applied_filters": [],
            "dataframe_info": {
              "default_index_used": true,
              "orig_num_cols": 6,
              "orig_num_rows": 3,
              "orig_size_bytes": 168,
              "truncated_num_cols": 6,
              "truncated_num_rows": 3,
              "truncated_size_bytes": 168,
              "truncated_string_columns": []
            },
            "display_id": "bb78a6ff-6652-4972-9df0-426f95cdbb7e",
            "dx_settings": {
              "ALLOW_NOTEABLE_ATTRS": true,
              "COLUMN_SAMPLING_METHOD": "outer",
              "DB_LOCATION": ":memory:",
              "DEV_MODE": false,
              "DISPLAY_MAX_COLUMNS": 100,
              "DISPLAY_MAX_ROWS": 50000,
              "DISPLAY_MODE": "simple",
              "ENABLE_ASSIGNMENT": true,
              "ENABLE_DATALINK": true,
              "FLATTEN_COLUMN_VALUES": true,
              "FLATTEN_INDEX_VALUES": false,
              "GENERATE_DEX_METADATA": false,
              "HTML_TABLE_SCHEMA": false,
              "LOG_LEVEL": 30,
              "MAX_RENDER_SIZE_BYTES": 104857600,
              "MAX_STRING_LENGTH": 250,
              "NUM_PAST_SAMPLES_TRACKED": 3,
              "RANDOM_STATE": 12648430,
              "RESET_INDEX_VALUES": false,
              "ROW_SAMPLING_METHOD": "random",
              "SAMPLING_FACTOR": 0.1,
              "SAMPLING_METHOD": "random",
              "STRINGIFY_COLUMN_VALUES": true,
              "STRINGIFY_INDEX_VALUES": false
            },
            "sample_history": [],
            "sampling_time": "2023-08-28T21:36:35.909130",
            "user_variable_name": "df_example",
            "variable_name": "df_example"
          }
        },
        "id": "b6a95d77-4dbc-4cc3-bce1-0adf202097d4"
      },
      "execution_count": null,
      "source": [
        "# Mapeamento para transformar a coluna 'Profissão'\n",
        "profession_mapping = {'Engenheira': 'Engenharia',\n",
        "                      'Médico': 'Medicina',\n",
        "                      'Professor': 'Educação'}\n",
        "\n",
        "# Usando o método 'map' para aplicar o mapeamento\n",
        "df_example['Área de Atuação'] = df_example['Profissão'].map(profession_mapping)\n",
        "\n",
        "# Exibindo o DataFrame modificado\n",
        "df_example"
      ],
      "outputs": []
    },
    {
      "id": "751ae7e4-0285-4c73-9122-c63a38451744",
      "cell_type": "markdown",
      "source": [
        "## 11. Substituindo Valores\n",
        "\n",
        "O método `replace` é útil para substituir valores em um DataFrame. Você pode substituir um valor específico ou uma lista de valores.\n",
        "\n",
        "### Exemplo:\n",
        "Vamos substituir alguns valores no DataFrame."
      ],
      "metadata": {
        "noteable": {
          "cell_type": "markdown"
        },
        "id": "751ae7e4-0285-4c73-9122-c63a38451744"
      }
    },
    {
      "id": "0eba0a75-bb20-4282-94fd-462f5fb05b77",
      "cell_type": "code",
      "metadata": {
        "noteable": {
          "cell_type": "code",
          "output_collection_id": "acd24ff6-f81d-44bf-8048-58a3dfcc4949"
        },
        "ExecuteTime": {
          "end_time": "2023-08-28T21:37:16.838369+00:00",
          "start_time": "2023-08-28T21:37:16.577484+00:00"
        },
        "datalink": {
          "83860237-925c-4638-b8fa-24467b6f2a9e": {
            "applied_filters": [],
            "dataframe_info": {
              "default_index_used": true,
              "orig_num_cols": 6,
              "orig_num_rows": 3,
              "orig_size_bytes": 168,
              "truncated_num_cols": 6,
              "truncated_num_rows": 3,
              "truncated_size_bytes": 168,
              "truncated_string_columns": []
            },
            "display_id": "83860237-925c-4638-b8fa-24467b6f2a9e",
            "dx_settings": {
              "ALLOW_NOTEABLE_ATTRS": true,
              "COLUMN_SAMPLING_METHOD": "outer",
              "DB_LOCATION": ":memory:",
              "DEV_MODE": false,
              "DISPLAY_MAX_COLUMNS": 100,
              "DISPLAY_MAX_ROWS": 50000,
              "DISPLAY_MODE": "simple",
              "ENABLE_ASSIGNMENT": true,
              "ENABLE_DATALINK": true,
              "FLATTEN_COLUMN_VALUES": true,
              "FLATTEN_INDEX_VALUES": false,
              "GENERATE_DEX_METADATA": false,
              "HTML_TABLE_SCHEMA": false,
              "LOG_LEVEL": 30,
              "MAX_RENDER_SIZE_BYTES": 104857600,
              "MAX_STRING_LENGTH": 250,
              "NUM_PAST_SAMPLES_TRACKED": 3,
              "RANDOM_STATE": 12648430,
              "RESET_INDEX_VALUES": false,
              "ROW_SAMPLING_METHOD": "random",
              "SAMPLING_FACTOR": 0.1,
              "SAMPLING_METHOD": "random",
              "STRINGIFY_COLUMN_VALUES": true,
              "STRINGIFY_INDEX_VALUES": false
            },
            "sample_history": [],
            "sampling_time": "2023-08-28T21:37:16.671588",
            "user_variable_name": "df_example_replaced",
            "variable_name": "df_example_replaced"
          }
        },
        "id": "0eba0a75-bb20-4282-94fd-462f5fb05b77"
      },
      "execution_count": null,
      "source": [
        "# Substituindo a idade 25 por 26\n",
        "df_example_replaced = df_example.replace({'Idade': 25}, 26)\n",
        "\n",
        "# Substituindo múltiplos valores na coluna 'Profissão'\n",
        "df_example_replaced = df_example_replaced.replace({'Profissão': {'Engenheira': 'Engenheiro', 'Médico': 'Doutor'}})\n",
        "\n",
        "# Exibindo o DataFrame modificado\n",
        "df_example_replaced"
      ],
      "outputs": []
    },
    {
      "id": "ce389671-56df-4778-9a8e-8757258c0766",
      "cell_type": "markdown",
      "source": [
        "## 12. Renomeando os Eixos dos Índices\n",
        "\n",
        "O método `rename` permite que você renomeie os rótulos dos índices ou das colunas de um DataFrame.\n",
        "\n",
        "### Exemplo:\n",
        "Vamos renomear algumas colunas e índices do DataFrame."
      ],
      "metadata": {
        "noteable": {
          "cell_type": "markdown"
        },
        "id": "ce389671-56df-4778-9a8e-8757258c0766"
      }
    },
    {
      "id": "3fe452c5-451a-48dd-9d9f-a658f70a809e",
      "cell_type": "code",
      "metadata": {
        "noteable": {
          "cell_type": "code",
          "output_collection_id": "8ffa0045-f04e-4e13-9a94-6e055bf5da0e"
        },
        "ExecuteTime": {
          "end_time": "2023-08-28T21:37:59.574329+00:00",
          "start_time": "2023-08-28T21:37:59.404304+00:00"
        },
        "id": "3fe452c5-451a-48dd-9d9f-a658f70a809e"
      },
      "execution_count": null,
      "source": [
        "# Renomeando colunas\n",
        "df_renamed_cols = df_example.rename(columns={'Nome': 'Nome Completo', 'Idade': 'Idade em Anos'})\n",
        "\n",
        "# Renomeando índices\n",
        "df_renamed_index = df_example.rename(index={0: 'Primeiro', 1: 'Segundo', 2: 'Terceiro'})\n",
        "\n",
        "# Exibindo os DataFrames\n",
        "df_renamed_cols, df_renamed_index"
      ],
      "outputs": []
    },
    {
      "id": "d747540a-1799-498d-b193-0c4c05cd7766",
      "cell_type": "markdown",
      "source": [
        "## 13. Detectando e Filtrando Valores Discrepantes\n",
        "\n",
        "Valores discrepantes podem afetar significativamente a análise de dados. Você pode usar métodos como `describe` para obter estatísticas descritivas e identificar possíveis valores discrepantes.\n",
        "\n",
        "### Exemplo:\n",
        "Vamos criar um DataFrame com alguns valores discrepantes e identificá-los."
      ],
      "metadata": {
        "noteable": {
          "cell_type": "markdown"
        },
        "id": "d747540a-1799-498d-b193-0c4c05cd7766"
      }
    },
    {
      "id": "0431a7ea-e1c3-4a22-b0d4-ff7029322d1f",
      "cell_type": "code",
      "metadata": {
        "noteable": {
          "cell_type": "code",
          "output_collection_id": "069c0f98-dc10-447c-bf4e-ac0db0a72dd1"
        },
        "ExecuteTime": {
          "end_time": "2023-08-28T21:39:27.854472+00:00",
          "start_time": "2023-08-28T21:39:27.670855+00:00"
        },
        "id": "0431a7ea-e1c3-4a22-b0d4-ff7029322d1f"
      },
      "execution_count": null,
      "source": [
        "# Criando um DataFrame com valores discrepantes\n",
        "df_with_outliers = pd.DataFrame({'A': [1, 2, 3, 4, 100],\n",
        "                                 'B': [5, 6, 7, 8, 200],\n",
        "                                 'C': [9, 10, 11, 12, 300]})\n",
        "\n",
        "# Obtendo estatísticas descritivas\n",
        "df_stats = df_with_outliers.describe()\n",
        "\n",
        "# Filtrando valores que são maiores que a média + 2 * desvio padrão\n",
        "outliers_filtered = df_with_outliers[(np.abs(df_with_outliers - df_with_outliers.mean()) <= 2 * df_with_outliers.std()).all(axis=1)]\n",
        "\n",
        "# Exibindo os DataFrames\n",
        "df_with_outliers, df_stats, outliers_filtered"
      ],
      "outputs": []
    }
  ]
}