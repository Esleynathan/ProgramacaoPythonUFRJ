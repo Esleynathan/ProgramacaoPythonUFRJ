{
  "cells": [
    {
      "cell_type": "markdown",
      "id": "8kcWTpvKv_Nh",
      "metadata": {
        "id": "8kcWTpvKv_Nh"
      },
      "source": [
        "## Exercícios com `while`"
      ]
    },
    {
      "cell_type": "markdown",
      "id": "1f479a3f-db67-48eb-9369-b16ba113ad4a",
      "metadata": {
        "id": "1f479a3f-db67-48eb-9369-b16ba113ad4a",
        "noteable": {
          "cell_type": "markdown"
        }
      },
      "source": [
        "1) Escreva um programa que utilize um loop `while` para imprimir os primeiros 10 números naturais.\n"
      ]
    },
    {
      "cell_type": "code",
      "execution_count": null,
      "id": "c479769f-8b17-4f11-854b-652cce7a12ab",
      "metadata": {
        "cellView": "form",
        "id": "c479769f-8b17-4f11-854b-652cce7a12ab",
        "noteable": {
          "cell_type": "code"
        }
      },
      "outputs": [],
      "source": [
        "# @title Resolução 1\n",
        "i = 1\n",
        "while i <= 10:\n",
        "    print(i)\n",
        "    i += 1"
      ]
    },
    {
      "cell_type": "markdown",
      "id": "84dec812-0279-4bb5-9d46-04f0c3458d61",
      "metadata": {
        "id": "84dec812-0279-4bb5-9d46-04f0c3458d61",
        "noteable": {
          "cell_type": "markdown"
        }
      },
      "source": [
        "2) Escreva um programa que utilize um loop `while` para calcular a soma dos primeiros N números naturais, onde N é fornecido pelo usuário.\n"
      ]
    },
    {
      "cell_type": "code",
      "execution_count": null,
      "id": "5662ccad-5b0e-4d2b-9ba0-f23c1ef27e83",
      "metadata": {
        "cellView": "form",
        "id": "5662ccad-5b0e-4d2b-9ba0-f23c1ef27e83",
        "noteable": {
          "cell_type": "code"
        }
      },
      "outputs": [],
      "source": [
        "# @title Resolução 2\n",
        "\n",
        "N = int(input('Digite o valor de N: '))\n",
        "soma = 0\n",
        "i = 1\n",
        "while i <= N:\n",
        "    soma += i\n",
        "    i += 1\n",
        "print(f'A soma dos primeiros {N} números naturais é {soma}')"
      ]
    },
    {
      "cell_type": "markdown",
      "id": "29b64bd2-770e-45a6-b953-a11e9283dae1",
      "metadata": {
        "id": "29b64bd2-770e-45a6-b953-a11e9283dae1",
        "noteable": {
          "cell_type": "markdown"
        }
      },
      "source": [
        "3) Escreva um programa que utilize um loop `while` para encontrar o fatorial de um número fornecido pelo usuário.\n"
      ]
    },
    {
      "cell_type": "code",
      "execution_count": null,
      "id": "f3a1f098-35e9-4a3a-8da9-64588054676b",
      "metadata": {
        "cellView": "form",
        "id": "f3a1f098-35e9-4a3a-8da9-64588054676b",
        "noteable": {
          "cell_type": "code"
        }
      },
      "outputs": [],
      "source": [
        "# @title Resolução 3\n",
        "\n",
        "numero = int(input('Digite um número para calcular o fatorial: '))\n",
        "fatorial = 1\n",
        "i = 1\n",
        "while i <= numero:\n",
        "    fatorial *= i\n",
        "    i += 1\n",
        "print(f'O fatorial de {numero} é {fatorial}')"
      ]
    },
    {
      "cell_type": "markdown",
      "id": "99c2a74d-ec90-4449-82da-2618961be4c5",
      "metadata": {
        "id": "99c2a74d-ec90-4449-82da-2618961be4c5",
        "noteable": {
          "cell_type": "markdown"
        }
      },
      "source": [
        "4) Escreva um programa que utilize um loop `while` para gerar a sequência de Fibonacci até N termos, onde N é fornecido pelo usuário.\n"
      ]
    },
    {
      "cell_type": "markdown",
      "id": "33mGBUZHwwlp",
      "metadata": {
        "id": "33mGBUZHwwlp"
      },
      "source": [
        "OBS. A sequência de Fibonacci é uma série de números na qual cada número (Fibonacci) é a soma dos dois números precedentes. A sequência geralmente começa com os números 0 e 1, e cada número subsequente é a soma dos dois anteriores."
      ]
    },
    {
      "cell_type": "markdown",
      "id": "CVXCMgvzw2vX",
      "metadata": {
        "id": "CVXCMgvzw2vX"
      },
      "source": [
        "0, 1, 1, 2, 3, 5, 8, 13, 21, 34, ...\n"
      ]
    },
    {
      "cell_type": "code",
      "execution_count": 10,
      "id": "b3c5556a-3a31-4ad4-813a-a4d7933fb5e9",
      "metadata": {
        "colab": {
          "base_uri": "https://localhost:8080/"
        },
        "id": "b3c5556a-3a31-4ad4-813a-a4d7933fb5e9",
        "noteable": {
          "cell_type": "code"
        },
        "outputId": "5ee89f92-4bb6-443f-a998-2a8ede682d6d"
      },
      "outputs": [
        {
          "name": "stdout",
          "output_type": "stream",
          "text": [
            "Digite o número de termos da sequência de Fibonacci: 5\n",
            "0 1 1 2 3 "
          ]
        }
      ],
      "source": [
        "# @title Resolução 4\n",
        "\n",
        "(input('Digite o número de termos da sequência de Fibonacci: '))\n",
        "a, b = 0, 1\n",
        "i = 0\n",
        "while i < N:\n",
        "    print(a, end=' ')\n",
        "    a, b = b, a + b\n",
        "    i += 1"
      ]
    },
    {
      "cell_type": "markdown",
      "id": "R2UoGnx3x63k",
      "metadata": {
        "id": "R2UoGnx3x63k"
      },
      "source": [
        " há uma diferença fundamental na lógica do próximo código que faz com que não funcione corretamente. O que é?"
      ]
    },
    {
      "cell_type": "code",
      "execution_count": 16,
      "id": "yD5ZxOv9xAiN",
      "metadata": {
        "cellView": "form",
        "colab": {
          "base_uri": "https://localhost:8080/"
        },
        "id": "yD5ZxOv9xAiN",
        "noteable": {
          "cell_type": "code"
        },
        "outputId": "e914fa3c-fca5-4213-cb3d-b4386fa4be6a"
      },
      "outputs": [
        {
          "name": "stdout",
          "output_type": "stream",
          "text": [
            "Digite o número de termos da sequência de Fibonacci: 2\n",
            "0 1 "
          ]
        }
      ],
      "source": [
        "# @title Resolução 4\n",
        "\n",
        "N = int(input('Digite o número de termos da sequência de Fibonacci: '))\n",
        "a, b = 0, 1\n",
        "i = 0\n",
        "while i < N:\n",
        "    print(a, end=' ')\n",
        "    a = b\n",
        "    b = a + b\n",
        "    i += 1"
      ]
    },
    {
      "cell_type": "markdown",
      "id": "L2JmYGokyG41",
      "metadata": {
        "id": "L2JmYGokyG41"
      },
      "source": [
        "**Diferença**:\n",
        "\n",
        "No primeiro código, a linha a, b = b, a + b atualiza os valores de a e b simultaneamente. a recebe o valor de b, e b recebe o valor de a + b. Isso permite que os valores sejam atualizados corretamente para gerar a sequência de Fibonacci.\n",
        "\n",
        "No segundo código, a linha a = b atualiza o valor de a com o valor de b, e então a linha b = a + b tenta atualizar o valor de b. No entanto, como a já foi atualizado para o valor de b, a expressão a + b acaba sendo b + b, e a sequência não é gerada corretamente.\n",
        "\n",
        "O primeiro código imprimirá a sequência de Fibonacci corretamente, enquanto o segundo código imprimirá uma sequência incorreta devido à atualização inadequada dos valores de a e b.\n",
        "\n",
        "\n",
        "\n",
        "\n",
        "\n"
      ]
    },
    {
      "cell_type": "markdown",
      "id": "1e1dc3ac-d601-48bd-ab28-2306b33e9747",
      "metadata": {
        "id": "1e1dc3ac-d601-48bd-ab28-2306b33e9747",
        "noteable": {
          "cell_type": "markdown"
        }
      },
      "source": [
        "## Exercícios com `for`\n"
      ]
    },
    {
      "cell_type": "markdown",
      "id": "4uVHENUJtW3i",
      "metadata": {
        "id": "4uVHENUJtW3i"
      },
      "source": [
        "1) Escreva um programa que utilize um loop `for` para imprimir os primeiros 10 números pares."
      ]
    },
    {
      "cell_type": "code",
      "execution_count": null,
      "id": "8b7b92d6-2160-451a-bd17-b87cb4b8f187",
      "metadata": {
        "cellView": "form",
        "id": "8b7b92d6-2160-451a-bd17-b87cb4b8f187",
        "noteable": {
          "cell_type": "code"
        }
      },
      "outputs": [],
      "source": [
        "# @title Resolução 1\n",
        "\n",
        "for i in range(2, 21, 2):\n",
        "    print(i)"
      ]
    },
    {
      "cell_type": "markdown",
      "id": "a83a88db-533e-4f61-94df-7303afac5789",
      "metadata": {
        "id": "a83a88db-533e-4f61-94df-7303afac5789",
        "noteable": {
          "cell_type": "markdown"
        }
      },
      "source": [
        "2) Escreva um programa que utilize um loop `for` para calcular a média de N números fornecidos pelo usuário."
      ]
    },
    {
      "cell_type": "code",
      "execution_count": null,
      "id": "6eb484e6-029b-4c90-9d15-bb84ce2fe2c1",
      "metadata": {
        "cellView": "form",
        "id": "6eb484e6-029b-4c90-9d15-bb84ce2fe2c1",
        "noteable": {
          "cell_type": "code"
        }
      },
      "outputs": [],
      "source": [
        "# @title Resolução 2\n",
        "\n",
        "N = int(input('Digite o número de valores: '))\n",
        "soma = 0\n",
        "for i in range(N):\n",
        "    valor = float(input(f'Digite o valor {i+1}: '))\n",
        "    soma += valor\n",
        "media = soma / N\n",
        "print(f'A média dos {N} números fornecidos é {media}')"
      ]
    },
    {
      "cell_type": "markdown",
      "id": "038f8b2c-9cdd-477e-8df5-20e0fa1fb881",
      "metadata": {
        "id": "038f8b2c-9cdd-477e-8df5-20e0fa1fb881",
        "noteable": {
          "cell_type": "markdown"
        }
      },
      "source": [
        "3) Escreva um programa que utilize um loop `for` para encontrar todos os divisores de um número fornecido pelo usuário."
      ]
    },
    {
      "cell_type": "code",
      "execution_count": 1,
      "id": "ba1b9c2b-254b-4a85-bed8-462ae789d612",
      "metadata": {
        "cellView": "form",
        "colab": {
          "base_uri": "https://localhost:8080/"
        },
        "id": "ba1b9c2b-254b-4a85-bed8-462ae789d612",
        "noteable": {
          "cell_type": "code"
        },
        "outputId": "a9279a13-1da1-4c5b-94e3-dd054305cbce"
      },
      "outputs": [
        {
          "name": "stdout",
          "output_type": "stream",
          "text": [
            "Digite um número para encontrar seus divisores: 10\n",
            "Os divisores de 10 são:\n",
            "1 2 5 10 "
          ]
        }
      ],
      "source": [
        "# @title Resolução 3\n",
        "\n",
        "numero = int(input('Digite um número para encontrar seus divisores: '))\n",
        "print(f'Os divisores de {numero} são:')\n",
        "for i in range(1, numero + 1):\n",
        "    if numero % i == 0:\n",
        "        print(i, end=' ')"
      ]
    },
    {
      "cell_type": "markdown",
      "id": "be38d1e3-5eab-47a7-80dc-9dc053505a89",
      "metadata": {
        "id": "be38d1e3-5eab-47a7-80dc-9dc053505a89",
        "noteable": {
          "cell_type": "markdown"
        }
      },
      "source": [
        "4) O que os seguintes códigos retornam?"
      ]
    },
    {
      "cell_type": "code",
      "execution_count": 5,
      "id": "dce10141-326f-41f7-9246-03f8064ca5a5",
      "metadata": {
        "colab": {
          "base_uri": "https://localhost:8080/"
        },
        "id": "dce10141-326f-41f7-9246-03f8064ca5a5",
        "noteable": {
          "cell_type": "code"
        },
        "outputId": "1e56b485-6eb7-4c65-828c-7e84b11bcbd8"
      },
      "outputs": [
        {
          "name": "stdout",
          "output_type": "stream",
          "text": [
            "16\n"
          ]
        }
      ],
      "source": [
        "s = 1\n",
        "for n in range(1, 6) :\n",
        "  s = s + n\n",
        "print(s)"
      ]
    },
    {
      "cell_type": "code",
      "execution_count": null,
      "id": "0Bj0qFWOvel-",
      "metadata": {
        "id": "0Bj0qFWOvel-"
      },
      "outputs": [],
      "source": [
        "s = 1\n",
        "for n in range(1, 11) :\n",
        "  n = n + 2\n",
        "  s = s + n\n",
        "print(s)"
      ]
    },
    {
      "cell_type": "code",
      "execution_count": null,
      "id": "CO7tqGL9vjb-",
      "metadata": {
        "id": "CO7tqGL9vjb-"
      },
      "outputs": [],
      "source": [
        "s = 1\n",
        "for n in range(1, 6) :\n",
        "  s = s + n\n",
        "  n = n + 1\n",
        "print(s, n)"
      ]
    },
    {
      "cell_type": "markdown",
      "id": "0aff340a-2640-420a-a4db-0382224c6e65",
      "metadata": {
        "id": "0aff340a-2640-420a-a4db-0382224c6e65",
        "noteable": {
          "cell_type": "markdown"
        }
      },
      "source": [
        "5) Escreva um programa que utilize um loop `for` para calcular a soma dos dígitos de um número fornecido pelo usuário."
      ]
    },
    {
      "cell_type": "code",
      "execution_count": 7,
      "id": "518db882-d570-4bbc-b727-c94fb7e4f9d4",
      "metadata": {
        "cellView": "form",
        "colab": {
          "base_uri": "https://localhost:8080/"
        },
        "id": "518db882-d570-4bbc-b727-c94fb7e4f9d4",
        "noteable": {
          "cell_type": "code"
        },
        "outputId": "cd1aca21-1892-418a-9e1e-5a87b4364cf9"
      },
      "outputs": [
        {
          "name": "stdout",
          "output_type": "stream",
          "text": [
            "Digite um número: 14\n",
            "A soma dos dígitos do número 14 é 5\n"
          ]
        }
      ],
      "source": [
        "# @title Resolução 5\n",
        "\n",
        "numero = input('Digite um número: ')\n",
        "soma = 0\n",
        "for digito in numero:\n",
        "    soma += int(digito)\n",
        "print(f'A soma dos dígitos do número {numero} é {soma}')"
      ]
    },
    {
      "cell_type": "markdown",
      "id": "6cOV1UeVs1G7",
      "metadata": {
        "id": "6cOV1UeVs1G7"
      },
      "source": [
        "## Exercícios de List Comprehension"
      ]
    },
    {
      "cell_type": "markdown",
      "id": "88Dh8qEpqgS7",
      "metadata": {
        "id": "88Dh8qEpqgS7"
      },
      "source": [
        "1) Crie uma lista que contenha o quadrado de cada número ímpar em um intervalo de 1 a 10. Resolução:"
      ]
    },
    {
      "cell_type": "code",
      "execution_count": 14,
      "id": "ttWVDu_eqYBS",
      "metadata": {
        "cellView": "form",
        "colab": {
          "base_uri": "https://localhost:8080/"
        },
        "id": "ttWVDu_eqYBS",
        "outputId": "054061e5-414f-4b43-f696-df59bc0dbf6d"
      },
      "outputs": [
        {
          "data": {
            "text/plain": [
              "[1, 9, 25, 49, 81]"
            ]
          },
          "execution_count": 14,
          "metadata": {},
          "output_type": "execute_result"
        }
      ],
      "source": [
        "# @title Resolução 1\n",
        "\n",
        "squares = [x**2 for x in range(1, 11) if x % 2 != 0]\n",
        "squares\n"
      ]
    },
    {
      "cell_type": "markdown",
      "id": "HN-FJ9uRqp0R",
      "metadata": {
        "id": "HN-FJ9uRqp0R"
      },
      "source": [
        "2) Converta uma lista de temperaturas em Celsius para Fahrenheit. Resolução:"
      ]
    },
    {
      "cell_type": "code",
      "execution_count": null,
      "id": "wGRSSZPwq0lB",
      "metadata": {
        "cellView": "form",
        "id": "wGRSSZPwq0lB"
      },
      "outputs": [],
      "source": [
        "# @title Resolução 2\n",
        "\n",
        "celsius = [0, 10, 20, 30, 40]\n",
        "fahrenheit = [(temp * 9/5) + 32 for temp in celsius]\n",
        "fahrenheit"
      ]
    },
    {
      "cell_type": "markdown",
      "id": "EAl3QpSQq66M",
      "metadata": {
        "id": "EAl3QpSQq66M"
      },
      "source": [
        "3) Enunciado: Crie uma lista que contenha todas as palavras em uma frase que tenham mais de 4 letras. Resolução:"
      ]
    },
    {
      "cell_type": "code",
      "execution_count": 11,
      "id": "OWQ6pw-ArAyr",
      "metadata": {
        "cellView": "form",
        "colab": {
          "base_uri": "https://localhost:8080/"
        },
        "id": "OWQ6pw-ArAyr",
        "outputId": "b622c127-16f9-416a-a0f4-0e6e5610cfd0"
      },
      "outputs": [
        {
          "data": {
            "text/plain": [
              "['determina', 'realidade']"
            ]
          },
          "execution_count": 11,
          "metadata": {},
          "output_type": "execute_result"
        }
      ],
      "source": [
        "# @title Resolução 3\n",
        "\n",
        "sentenca = \"Seu foco determina a sua realidade\"\n",
        "palavras = [word for word in sentenca.split() if len(word) > 4]\n",
        "palavras"
      ]
    },
    {
      "cell_type": "markdown",
      "id": "B-k7J9Tkrdpy",
      "metadata": {
        "id": "B-k7J9Tkrdpy"
      },
      "source": [
        "4) Crie uma lista com os primeiros 10 números da sequência de Fibonacci"
      ]
    },
    {
      "cell_type": "code",
      "execution_count": null,
      "id": "mFd3EQP4rbhB",
      "metadata": {
        "cellView": "form",
        "id": "mFd3EQP4rbhB"
      },
      "outputs": [],
      "source": [
        "# @title Resolução 4\n",
        "\n",
        "fibonacci = [x if x < 2 else fibonacci[x-1] + fibonacci[x-2] for x in range(10)]\n",
        "fibonacci"
      ]
    },
    {
      "cell_type": "markdown",
      "id": "1cYgLdPSr9sh",
      "metadata": {
        "id": "1cYgLdPSr9sh"
      },
      "source": [
        "## Exercícios de Enumerate"
      ]
    },
    {
      "cell_type": "markdown",
      "id": "04oo6WfusElb",
      "metadata": {
        "id": "04oo6WfusElb"
      },
      "source": [
        "1) Enumere os elementos de uma lista e imprima cada índice e valor correspondente."
      ]
    },
    {
      "cell_type": "code",
      "execution_count": null,
      "id": "MqEoI0eCr8Qi",
      "metadata": {
        "id": "MqEoI0eCr8Qi"
      },
      "outputs": [],
      "source": [
        "# @title Resolução 1\n",
        "\n",
        "minha_lista = ['a', 'b', 'c', 'd']\n",
        "for index, value in enumerate(minha_lista):\n",
        "    print(index, value)"
      ]
    },
    {
      "cell_type": "markdown",
      "id": "3MKa1zaKsJxR",
      "metadata": {
        "id": "3MKa1zaKsJxR"
      },
      "source": [
        "2) Utilize o enumerate para criar um dicionário que mapeie os índices de uma lista de caracteres. Resolução:\n"
      ]
    },
    {
      "cell_type": "code",
      "execution_count": null,
      "id": "xwBwQ76KsM0r",
      "metadata": {
        "id": "xwBwQ76KsM0r"
      },
      "outputs": [],
      "source": [
        "# @title Resolução 2\n",
        "\n",
        "caracteres = ['a', 'b', 'c', 'd']\n",
        "dicio_char = {index: char for index, char in enumerate(caracteres)}\n",
        "dicio_char"
      ]
    },
    {
      "cell_type": "markdown",
      "id": "TYoprXzlsRgC",
      "metadata": {
        "id": "TYoprXzlsRgC"
      },
      "source": [
        "3) Utilize o enumerate para alterar os elementos de uma lista, multiplicando cada elemento por seu índice."
      ]
    },
    {
      "cell_type": "code",
      "execution_count": null,
      "id": "jtWCo7iJsVdI",
      "metadata": {
        "id": "jtWCo7iJsVdI"
      },
      "outputs": [],
      "source": [
        "# @title Resolução 3\n",
        "\n",
        "nums = [10, 20, 30, 40]\n",
        "nums = [value * index for index, value in enumerate(nums)]\n",
        "nums"
      ]
    },
    {
      "cell_type": "markdown",
      "id": "tSnGzzpYscWI",
      "metadata": {
        "id": "tSnGzzpYscWI"
      },
      "source": [
        "4) Utilize o enumerate para extrair os elementos em índices ímpares de uma lista."
      ]
    },
    {
      "cell_type": "code",
      "execution_count": null,
      "id": "Yc5I2DZYsZyA",
      "metadata": {
        "id": "Yc5I2DZYsZyA"
      },
      "outputs": [],
      "source": [
        "# @title Resolução 4\n",
        "\n",
        "minha_lista = [1, 2, 3, 4, 5, 6]\n",
        "elementos_com_indice_impar = [value for index, value in enumerate(minha_lista) if index % 2 != 0]\n",
        "elementos_com_indice_impar"
      ]
    },
    {
      "cell_type": "markdown",
      "id": "fjAZOiuystcw",
      "metadata": {
        "id": "fjAZOiuystcw"
      },
      "source": [
        "5) Utilize o enumerate para criar uma lista de tuplas, onde o primeiro elemento da tupla é o índice e o segundo é o valor ao quadrado"
      ]
    },
    {
      "cell_type": "code",
      "execution_count": null,
      "id": "xN83X2vsspqA",
      "metadata": {
        "id": "xN83X2vsspqA"
      },
      "outputs": [],
      "source": [
        "# @title Resolução 5\n",
        "\n",
        "nums = [1, 2, 3, 4, 5]\n",
        "tuplas_ao_quadrado = [(index, value**2) for index, value in enumerate(nums)]\n",
        "tuplas_ao_quadrado"
      ]
    }
  ],
  "metadata": {
    "colab": {
      "collapsed_sections": [
        "1f479a3f-db67-48eb-9369-b16ba113ad4a",
        "1cYgLdPSr9sh"
      ],
      "provenance": []
    },
    "kernel_info": {
      "name": "python3"
    },
    "kernelspec": {
      "display_name": "Python 3.9",
      "language": "python",
      "name": "python3"
    },
    "language_info": {
      "name": "python",
      "version": "3.11.4"
    },
    "noteable": {
      "last_delta_id": "03168d11-02ef-4552-8dce-f326ec13b612",
      "last_transaction_id": "03168d11-02ef-4552-8dce-f326ec13b612"
    },
    "noteable-chatgpt": {
      "create_notebook": {
        "openai_conversation_id": "6ae5ac8c-c8f8-5527-b5a6-d5a0193da457",
        "openai_ephemeral_user_id": "badd8dd6-dfc6-5c5e-9c68-ac786b132aa7",
        "openai_subdivision1_iso_code": "BR-RJ"
      }
    },
    "nteract": {
      "version": "noteable@2.9.0"
    },
    "selected_hardware_size": "small"
  },
  "nbformat": 4,
  "nbformat_minor": 5
}
