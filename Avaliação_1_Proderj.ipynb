{
  "cells": [
    {
      "cell_type": "markdown",
      "metadata": {
        "id": "l5Qm-dQ9TLas"
      },
      "source": [
        "#NOMES:"
      ]
    },
    {
      "cell_type": "markdown",
      "metadata": {
        "id": "8kih40y9pksj"
      },
      "source": [
        "# Avaliação\n"
      ]
    },
    {
      "cell_type": "code",
      "execution_count": null,
      "metadata": {
        "id": "fz7PSJXCUErt"
      },
      "outputs": [
        {
          "name": "stderr",
          "output_type": "stream",
          "text": [
            "ERROR: Invalid requirement: '#instala'\n",
            "\n",
            "[notice] A new release of pip is available: 23.1.2 -> 23.2.1\n",
            "[notice] To update, run: C:\\Users\\Esley\\AppData\\Local\\Microsoft\\WindowsApps\\PythonSoftwareFoundation.Python.3.11_qbz5n2kfra8p0\\python.exe -m pip install --upgrade pip\n"
          ]
        },
        {
          "ename": "",
          "evalue": "",
          "output_type": "error",
          "traceback": [
            "\u001b[1;31mCanceled future for execute_request message before replies were done"
          ]
        }
      ],
      "source": [
        "!pip install numpy  #instala a biblioteca Numpy"
      ]
    },
    {
      "cell_type": "markdown",
      "metadata": {
        "id": "nSqOopEApksl"
      },
      "source": [
        "#### Considere a seguinte lista:"
      ]
    },
    {
      "cell_type": "code",
      "execution_count": null,
      "metadata": {
        "id": "8ZA2_XTzpksm"
      },
      "outputs": [],
      "source": [
        "lista_A = [2, 29, 8, 98, 10, 3, -4, 9, 10, 98]"
      ]
    },
    {
      "cell_type": "markdown",
      "metadata": {
        "id": "bGv0VS7tpksr"
      },
      "source": [
        "#### Usando as funções apresentadas, faça os exercícios de 1 à 4:\n",
        "\n",
        "1) Imprima a soma do maior e o menor elemento da lista:\n"
      ]
    },
    {
      "cell_type": "code",
      "execution_count": null,
      "metadata": {},
      "outputs": [
        {
          "name": "stdout",
          "output_type": "stream",
          "text": [
            "94\n"
          ]
        }
      ],
      "source": [
        "soma = max(lista_A) + min(lista_A)\n",
        "print(soma)"
      ]
    },
    {
      "cell_type": "code",
      "execution_count": null,
      "metadata": {},
      "outputs": [
        {
          "name": "stdout",
          "output_type": "stream",
          "text": [
            "A soma do menor numero '-4' com o maior numero '98' é de '94'\n"
          ]
        }
      ],
      "source": [
        "maior = max(lista_A)\n",
        "menor = min(lista_A)\n",
        "soma = maior + menor\n",
        "\n",
        "print(f\"A soma do menor numero '{menor}' com o maior numero '{maior}' é de '{soma}'\")"
      ]
    },
    {
      "cell_type": "markdown",
      "metadata": {
        "id": "PuArl5-0pksw"
      },
      "source": [
        "2) Imprima o número de ocorrências do maior elemento da lista:"
      ]
    },
    {
      "cell_type": "code",
      "execution_count": null,
      "metadata": {},
      "outputs": [
        {
          "name": "stdout",
          "output_type": "stream",
          "text": [
            "2\n"
          ]
        }
      ],
      "source": [
        "print(lista_A.count(maior))"
      ]
    },
    {
      "cell_type": "code",
      "execution_count": null,
      "metadata": {},
      "outputs": [
        {
          "name": "stdout",
          "output_type": "stream",
          "text": [
            "O numero de ocorrências do maior elemento da lista é 2.\n"
          ]
        }
      ],
      "source": [
        "qnt_maior = lista_A.count(maior)\n",
        "print(f\"O numero de ocorrências do maior elemento da lista é {qnt_maior}.\")"
      ]
    },
    {
      "cell_type": "markdown",
      "metadata": {
        "id": "tv1uvGmmpks1"
      },
      "source": [
        "3) Imprima o maior número ímpar da lista utilizando um código para calculá-lo:"
      ]
    },
    {
      "cell_type": "code",
      "execution_count": null,
      "metadata": {},
      "outputs": [
        {
          "name": "stdout",
          "output_type": "stream",
          "text": [
            "29\n"
          ]
        }
      ],
      "source": [
        "lista_impar = []\n",
        "\n",
        "for i in lista_A:\n",
        "    if i % 2 == 1:\n",
        "        lista_impar.append(i)\n",
        "\n",
        "print(max(lista_impar))\n",
        "    "
      ]
    },
    {
      "cell_type": "markdown",
      "metadata": {
        "id": "8PBchreRpks6"
      },
      "source": [
        "4) Imprima o maior elemento da lista elevado ao quadrado:"
      ]
    },
    {
      "cell_type": "code",
      "execution_count": null,
      "metadata": {},
      "outputs": [
        {
          "name": "stdout",
          "output_type": "stream",
          "text": [
            "9604\n"
          ]
        }
      ],
      "source": [
        "print(max(lista_A)*max(lista_A))"
      ]
    },
    {
      "cell_type": "code",
      "execution_count": null,
      "metadata": {},
      "outputs": [
        {
          "name": "stdout",
          "output_type": "stream",
          "text": [
            "9604\n"
          ]
        }
      ],
      "source": [
        "maioraoquadrado = maior*maior\n",
        "print(maioraoquadrado)\n"
      ]
    },
    {
      "cell_type": "markdown",
      "metadata": {
        "id": "P8viaLzmpks-"
      },
      "source": [
        "5) Crie uma lista com todos os números pares de 0 até 1000 (incluído)."
      ]
    },
    {
      "cell_type": "code",
      "execution_count": null,
      "metadata": {},
      "outputs": [
        {
          "name": "stdout",
          "output_type": "stream",
          "text": [
            "[0, 2, 4, 6, 8, 10, 12, 14, 16, 18, 20, 22, 24, 26, 28, 30, 32, 34, 36, 38, 40, 42, 44, 46, 48, 50, 52, 54, 56, 58, 60, 62, 64, 66, 68, 70, 72, 74, 76, 78, 80, 82, 84, 86, 88, 90, 92, 94, 96, 98, 100, 102, 104, 106, 108, 110, 112, 114, 116, 118, 120, 122, 124, 126, 128, 130, 132, 134, 136, 138, 140, 142, 144, 146, 148, 150, 152, 154, 156, 158, 160, 162, 164, 166, 168, 170, 172, 174, 176, 178, 180, 182, 184, 186, 188, 190, 192, 194, 196, 198, 200, 202, 204, 206, 208, 210, 212, 214, 216, 218, 220, 222, 224, 226, 228, 230, 232, 234, 236, 238, 240, 242, 244, 246, 248, 250, 252, 254, 256, 258, 260, 262, 264, 266, 268, 270, 272, 274, 276, 278, 280, 282, 284, 286, 288, 290, 292, 294, 296, 298, 300, 302, 304, 306, 308, 310, 312, 314, 316, 318, 320, 322, 324, 326, 328, 330, 332, 334, 336, 338, 340, 342, 344, 346, 348, 350, 352, 354, 356, 358, 360, 362, 364, 366, 368, 370, 372, 374, 376, 378, 380, 382, 384, 386, 388, 390, 392, 394, 396, 398, 400, 402, 404, 406, 408, 410, 412, 414, 416, 418, 420, 422, 424, 426, 428, 430, 432, 434, 436, 438, 440, 442, 444, 446, 448, 450, 452, 454, 456, 458, 460, 462, 464, 466, 468, 470, 472, 474, 476, 478, 480, 482, 484, 486, 488, 490, 492, 494, 496, 498, 500, 502, 504, 506, 508, 510, 512, 514, 516, 518, 520, 522, 524, 526, 528, 530, 532, 534, 536, 538, 540, 542, 544, 546, 548, 550, 552, 554, 556, 558, 560, 562, 564, 566, 568, 570, 572, 574, 576, 578, 580, 582, 584, 586, 588, 590, 592, 594, 596, 598, 600, 602, 604, 606, 608, 610, 612, 614, 616, 618, 620, 622, 624, 626, 628, 630, 632, 634, 636, 638, 640, 642, 644, 646, 648, 650, 652, 654, 656, 658, 660, 662, 664, 666, 668, 670, 672, 674, 676, 678, 680, 682, 684, 686, 688, 690, 692, 694, 696, 698, 700, 702, 704, 706, 708, 710, 712, 714, 716, 718, 720, 722, 724, 726, 728, 730, 732, 734, 736, 738, 740, 742, 744, 746, 748, 750, 752, 754, 756, 758, 760, 762, 764, 766, 768, 770, 772, 774, 776, 778, 780, 782, 784, 786, 788, 790, 792, 794, 796, 798, 800, 802, 804, 806, 808, 810, 812, 814, 816, 818, 820, 822, 824, 826, 828, 830, 832, 834, 836, 838, 840, 842, 844, 846, 848, 850, 852, 854, 856, 858, 860, 862, 864, 866, 868, 870, 872, 874, 876, 878, 880, 882, 884, 886, 888, 890, 892, 894, 896, 898, 900, 902, 904, 906, 908, 910, 912, 914, 916, 918, 920, 922, 924, 926, 928, 930, 932, 934, 936, 938, 940, 942, 944, 946, 948, 950, 952, 954, 956, 958, 960, 962, 964, 966, 968, 970, 972, 974, 976, 978, 980, 982, 984, 986, 988, 990, 992, 994, 996, 998, 1000]\n"
          ]
        }
      ],
      "source": [
        "lista_0a1000 = []\n",
        "\n",
        "for i in range(0, 1001):\n",
        "    if i % 2 == 0:\n",
        "        lista_0a1000.append(i)\n",
        "\n",
        "print(lista_0a1000)"
      ]
    },
    {
      "cell_type": "markdown",
      "metadata": {
        "id": "i4B06benpktC"
      },
      "source": [
        "6) Crie uma lista com todos os números ímpares de 0 até 199 (incluído)"
      ]
    },
    {
      "cell_type": "code",
      "execution_count": null,
      "metadata": {},
      "outputs": [
        {
          "name": "stdout",
          "output_type": "stream",
          "text": [
            "[1, 3, 5, 7, 9, 11, 13, 15, 17, 19, 21, 23, 25, 27, 29, 31, 33, 35, 37, 39, 41, 43, 45, 47, 49, 51, 53, 55, 57, 59, 61, 63, 65, 67, 69, 71, 73, 75, 77, 79, 81, 83, 85, 87, 89, 91, 93, 95, 97, 99, 101, 103, 105, 107, 109, 111, 113, 115, 117, 119, 121, 123, 125, 127, 129, 131, 133, 135, 137, 139, 141, 143, 145, 147, 149, 151, 153, 155, 157, 159, 161, 163, 165, 167, 169, 171, 173, 175, 177, 179, 181, 183, 185, 187, 189, 191, 193, 195, 197, 199]\n"
          ]
        }
      ],
      "source": [
        "lista_0a199 = []\n",
        "\n",
        "for i in range(0, 200):\n",
        "    if i % 2 == 1:\n",
        "        lista_0a199.append(i)\n",
        "\n",
        "print(lista_0a199)"
      ]
    },
    {
      "cell_type": "markdown",
      "metadata": {
        "id": "XFAJxyGopktG"
      },
      "source": [
        "7) Imprima o valor da média de todos os elementos da lista_A:"
      ]
    },
    {
      "cell_type": "code",
      "execution_count": null,
      "metadata": {},
      "outputs": [
        {
          "name": "stdout",
          "output_type": "stream",
          "text": [
            "26.3\n"
          ]
        }
      ],
      "source": [
        "print(sum(lista_A) / len(lista_A))"
      ]
    },
    {
      "cell_type": "code",
      "execution_count": null,
      "metadata": {},
      "outputs": [
        {
          "name": "stdout",
          "output_type": "stream",
          "text": [
            "26.3\n"
          ]
        }
      ],
      "source": [
        "valor_medio = soma_lista = sum(lista_A) / len(lista_A)\n",
        "\n",
        "print(valor_medio)\n"
      ]
    },
    {
      "cell_type": "markdown",
      "metadata": {
        "id": "VpLxhb4JpktK"
      },
      "source": [
        "8) Crie 3 tuplas para armazenar as notas dos alunos em uma disciplina. Cada tupla deverá conter o nome do aluno (escolhido por você) seguido de suas duas notas."
      ]
    },
    {
      "cell_type": "code",
      "execution_count": null,
      "metadata": {
        "id": "b_B7sJ3Enxjt"
      },
      "outputs": [],
      "source": [
        "Aluno1 = (\"Ésley\", 9.5, 3.0)\n",
        "Aluno2 = (\"Nathan\", 5.3, 7.0)\n",
        "Aluno3= (\"Gomes\", 10.0, 9.0)"
      ]
    },
    {
      "cell_type": "markdown",
      "metadata": {
        "id": "OkuOWXPGpktP"
      },
      "source": [
        "9) Imprima a soma das notas de cada aluno do exercício 8, use as variáveis criadas por você.\n",
        "A resposta deve ter o seguinte formato:\n",
        "\n",
        "O somatório das notas do {Aluno_1} é {nota do Aluno_1}\n",
        "\n",
        "O somatório das notas do {Aluno_2} é {nota do Aluno_2}\n",
        "\n",
        "O somatório das notas do {Aluno_3} é {nota do Aluno_3}"
      ]
    },
    {
      "cell_type": "code",
      "execution_count": null,
      "metadata": {},
      "outputs": [
        {
          "name": "stdout",
          "output_type": "stream",
          "text": [
            "O somatório das notas do Ésley é 12.5\n",
            "O somatório das notas do Nathan é 12.3\n",
            "O somatório das notas do Gomes é 19.0\n"
          ]
        }
      ],
      "source": [
        "print(f\"O somatório das notas do {Aluno1[0]} é {Aluno1[1] + Aluno1[2]}\")\n",
        "print(f\"O somatório das notas do {Aluno2[0]} é {Aluno2[1] + Aluno2[2]}\")\n",
        "print(f\"O somatório das notas do {Aluno3[0]} é {Aluno3[1] + Aluno3[2]}\")"
      ]
    },
    {
      "cell_type": "code",
      "execution_count": null,
      "metadata": {},
      "outputs": [
        {
          "name": "stdout",
          "output_type": "stream",
          "text": [
            "O somatório das notas do Ésley é 12.5\n",
            "O somatório das notas do Nathan é 12.3\n",
            "O somatório das notas do Gomes é 19.0\n"
          ]
        }
      ],
      "source": [
        "notas1 = Aluno1[1] + Aluno1[2]\n",
        "notas2 = Aluno2[1] + Aluno2[2]\n",
        "notas3 = Aluno3[1] + Aluno3[2]\n",
        "\n",
        "nome1 = Aluno1[0]\n",
        "nome2 = Aluno2[0]\n",
        "nome3 = Aluno3[0]    \n",
        "\n",
        "print(f\"O somatório das notas do {nome1} é {notas1}\")\n",
        "print(f\"O somatório das notas do {nome2} é {notas2}\")\n",
        "print(f\"O somatório das notas do {nome3} é {notas3}\")"
      ]
    },
    {
      "cell_type": "markdown",
      "metadata": {
        "id": "dL5CJjvZpktT"
      },
      "source": [
        "10) Imprima o nome e a maior nota de cada aluno do exercício 8, use as variáveis criadas por você.\n",
        "\n",
        "A maior nota do {Aluno_1} é {maior_nota_do_Aluno_1} e a sua menor nota é {menor_nota_do_Aluno_1}\n",
        "\n",
        "A maior nota do {Aluno_2} é {maior_nota_do_Aluno_2} e a sua menor nota é {menor_nota_do_Aluno_2}\n",
        "\n",
        "A maior nota do {Aluno_3} é {maior_nota_do_Aluno_3} e a sua menor nota é {menor_nota_do_Aluno_3}"
      ]
    },
    {
      "cell_type": "code",
      "execution_count": null,
      "metadata": {},
      "outputs": [
        {
          "name": "stdout",
          "output_type": "stream",
          "text": [
            "A maior nota do Ésley é 9.5 e a sua menor nota é 3.0\n",
            "A maior nota do Nathan é 7.0 e a sua menor nota é 5.3\n",
            "A maior nota do Gomes é 10.0 e a sua menor nota é 9.0\n"
          ]
        }
      ],
      "source": [
        "notas_aluno1 = [Aluno1[1], Aluno1[2]]\n",
        "notas_aluno2 = [Aluno2[1], Aluno2[2]]\n",
        "notas_aluno3 = [Aluno3[1], Aluno3[2]]\n",
        "\n",
        "print(f\"A maior nota do {Aluno1[0]} é {max(notas_aluno1)} e a sua menor nota é {min(notas_aluno1)}\")\n",
        "print(f\"A maior nota do {Aluno2[0]} é {max(notas_aluno2)} e a sua menor nota é {min(notas_aluno2)}\")\n",
        "print(f\"A maior nota do {Aluno3[0]} é {max(notas_aluno3)} e a sua menor nota é {min(notas_aluno3)}\")"
      ]
    },
    {
      "cell_type": "code",
      "execution_count": null,
      "metadata": {},
      "outputs": [
        {
          "name": "stdout",
          "output_type": "stream",
          "text": [
            "A maior nota do Ésley é 9.5 e a sua menor nota é 3.0\n"
          ]
        }
      ],
      "source": [
        "nota_aluno1_1b = Aluno1[1]\n",
        "nota_aluno1_2b = Aluno1[2]\n",
        "notas1 = Aluno1[1] + Aluno1[2]\n",
        "if nota_aluno1_1b > nota_aluno1_2b:\n",
        "    maior_aluno1 = nota_aluno1_1b\n",
        "    menor_aluno1 = nota_aluno1_2b\n",
        "else:\n",
        "    maior_aluno1 = nota_aluno1_2b    \n",
        "    menor_aluno1 = nota_aluno1_1b\n",
        "\n",
        "print(f\"A maior nota do {nome1} é {maior_aluno1} e a sua menor nota é {menor_aluno1}\")"
      ]
    },
    {
      "cell_type": "markdown",
      "metadata": {
        "id": "hX2F78TbFd_T"
      },
      "source": [
        "11) Construa um dicionário para armazenar os CNPJs de 5 empresas e o lucro ou prejuízo acumulado no ano de 2022. A chave deve ser o nome da empresa e o valor deve ser o cnpj.\n",
        "\n",
        "\n",
        "\n",
        "\n",
        "\n",
        "\n"
      ]
    },
    {
      "cell_type": "markdown",
      "metadata": {
        "id": "q-0Ik7lTVaPV"
      },
      "source": [
        "* Petrobras\n",
        "CNPJ 33.000.167/0661-29\n",
        "faturamento 2021: R$ 452,7bilhões\n",
        "\n",
        "* JBS\n",
        "CNPJ 02.916.265/0001-60\n",
        "faturamento 2021: R$ 350,7bilhões\n",
        "\n",
        "* Vale\n",
        "CNPJ 33.592.510/0001-54\n",
        "faturamento 2021: R$ 293,5bilhões\n",
        "\n",
        "* Raízen\n",
        "CNPJ 08.070.508/0001-78\n",
        "faturamento 2021: R$ 137,8bilhões\n",
        "\n",
        "* Vibra\n",
        "CNPJ 34.274.233/0001-02\n",
        "faturamento 2021: R$ 130,1bilhões"
      ]
    },
    {
      "cell_type": "code",
      "execution_count": null,
      "metadata": {},
      "outputs": [
        {
          "name": "stdout",
          "output_type": "stream",
          "text": [
            "<class 'dict'>\n",
            "['33.000.167/0661-29', '152,70']\n"
          ]
        }
      ],
      "source": [
        "cnpj = {\n",
        "    \"Petrobras\": [\"33.000.167/0661-29\", \"152,70\"],\n",
        "    \"JBS\": [\"02.916.265/0001-60\", \"350,70\"],\n",
        "    \"Vale\": [\"33.592.510/0001-54\", \"293,50\"],\n",
        "    \"Raízen\": [\"08.070.508/0001-78\", \"137,80\"],\n",
        "    \"Vibra\": [\"34.274.233/0001-02\", \"130,10\"],\n",
        "}\n",
        "\n",
        "print(type(cnpj))\n",
        "print(cnpj[\"Petrobras\"])"
      ]
    },
    {
      "cell_type": "markdown",
      "metadata": {
        "id": "8PRj7bRfcaXu"
      },
      "source": [
        "12) Usando o dicionário criado no exercício 11, imprima o valor do menor e do maior faturamento e a média do faturamento das 5 empresas. A reposta deve ter o seguinte formato:\n",
        "\n",
        "* A empresa com o maior faturamento {valor do faturamento} é {nome da empresa}.\n",
        "* A empresa com o menor faturamento {valor do faturamento} é {nome da empresa}.\n",
        "* A média do faturamento das cinco empresas em 2021 foi de {média do faturamento}."
      ]
    },
    {
      "cell_type": "code",
      "execution_count": null,
      "metadata": {},
      "outputs": [
        {
          "name": "stdout",
          "output_type": "stream",
          "text": [
            "<class 'str'>\n"
          ]
        },
        {
          "ename": "NameError",
          "evalue": "name 'aux' is not defined",
          "output_type": "error",
          "traceback": [
            "\u001b[1;31m---------------------------------------------------------------------------\u001b[0m",
            "\u001b[1;31mNameError\u001b[0m                                 Traceback (most recent call last)",
            "Cell \u001b[1;32mIn[23], line 5\u001b[0m\n\u001b[0;32m      2\u001b[0m valor \u001b[39m=\u001b[39m i[\u001b[39m1\u001b[39m]\n\u001b[0;32m      3\u001b[0m \u001b[39mprint\u001b[39m(\u001b[39mtype\u001b[39m(valor))\n\u001b[1;32m----> 5\u001b[0m \u001b[39mif\u001b[39;00m valor \u001b[39m>\u001b[39m aux:\n\u001b[0;32m      6\u001b[0m   aux \u001b[39m=\u001b[39m valor\n\u001b[0;32m      7\u001b[0m   \u001b[39mprint\u001b[39m(aux)\n",
            "\u001b[1;31mNameError\u001b[0m: name 'aux' is not defined"
          ]
        }
      ],
      "source": [
        "for i in cnpj.values(): \n",
        "  valor = i[1]\n",
        "  print(type(valor))\n",
        "\n",
        "  if valor > aux:\n",
        "    aux = valor\n",
        "    print(aux)"
      ]
    },
    {
      "cell_type": "code",
      "execution_count": null,
      "metadata": {},
      "outputs": [],
      "source": [
        "lista_cnpj = list(cnpj.items())\n",
        "\n",
        "print(lista_cnpj)\n",
        "\n",
        "lista_valores = []\n",
        "\n",
        "for i in lista_cnpj:    \n",
        "    lista_valores.append(i[1][1])\n",
        "\n",
        "\n",
        "print (lista_valores)\n",
        "# valor_medio = str(sum(lista_valores)) / str(len(lista_valores))\n",
        "\n",
        "print(f\"A empresa com o maior faturamento {max(lista_valores)} é \"),\n",
        "print(f\"A empresa com o menor faturamento {min(lista_valores)} é \")\n",
        "# print(F\"A média do faturamento das cinco empresas em 2021 foi de {valor_medio}.\")"
      ]
    },
    {
      "cell_type": "markdown",
      "metadata": {
        "id": "VEqNDxEIca9N"
      },
      "source": [
        "13) Sabendo que A = {0, 1, 2, 3, 4, 5, 6}, B = {6, 7, 8, 9} e C = {2, 4, 6, 8, 10}, quais são os elementos do conjunto (A∩B)UC?"
      ]
    },
    {
      "cell_type": "code",
      "execution_count": null,
      "metadata": {
        "id": "KMR0qW0UZa3p"
      },
      "outputs": [
        {
          "name": "stdout",
          "output_type": "stream",
          "text": [
            "{2, 4, 6, 8, 10}\n"
          ]
        }
      ],
      "source": [
        "A = {0, 1, 2, 3, 4, 5, 6}\n",
        "B = {6, 7, 8, 9}\n",
        "C = {2, 4, 6, 8, 10}\n",
        "\n",
        "intersessao = A.intersection(B)\n",
        "resposta =  intersessao.union(C)\n",
        "\n",
        "print(resposta)"
      ]
    },
    {
      "cell_type": "markdown",
      "metadata": {
        "id": "Ahvv3HIOgaSS"
      },
      "source": [
        "14) Os alunos de uma escola devem se inscrever em DUAS MODALIDADES esportivas no início do ano, porém, as inscrições são abertas e alguns alunos podem ter se inscrito em apenas uma modalidade ou em três. As modalidades esportivas são: NATAÇÃO, CICLISMO E CORRIDA. Você é o responsável pelas inscrições e deverá analisar as listagens com as inscrições e realizar as seguintes ações corretivas:\n",
        "\n",
        "14.1. Para cada uma das três modalidades, verifique se o mesmo aluno se inscreveu mais de uma vez e exclua exclua os nomes duplicados.\n",
        "\n",
        "14.2. Em seguida, contabilize a quantidade de alunos inscritos em\n",
        "cada modalidade e imprima os três valores\n",
        "\n",
        "14.3 Imprima uma listagem com o nome de todos os alunos nas 3 modalidades e a quantidade total de alunos, somadas as 3 modalidades.\n",
        "\n",
        "14.4 Imprima uma listagem com o nome de cada aluno e as modalidades em que está inscrito\n",
        "\n",
        "14.5 Imprima uma listagem com os alunos que se inscreveram em apenas 1 ou em 3 modalidades"
      ]
    },
    {
      "cell_type": "code",
      "execution_count": null,
      "metadata": {
        "id": "6bkyhKMoOUL6"
      },
      "outputs": [
        {
          "name": "stdout",
          "output_type": "stream",
          "text": [
            "Foram inscritos 10 na modalidade natação\n",
            "Foram inscritos 9 na modalidade ciclismo\n",
            "Foram inscritos 10 na modalidade corrida\n"
          ]
        }
      ],
      "source": [
        "natacao = [\"Nicolas da Silva\", \"Marcos Santos\", \"Luciana Barbosa\", \"Ana Schimidt\", \"Marcos Santos\", \"Joana Ramos\", \"André Consentino\", \"Marcela Rangel\", \"Luciana Barbosa\", \"Carlos Antunes\"]\n",
        "ciclismo = [\"Nicolas da Silva\", \"Marcos Santos\", \"Luciana Barbosa\", \"Ana Schimidt\", \"Marcos Santos\",\"Marcela Rangel\", \"Michele Souza\", \"Marcelo Bach\", \"Luis Pereira\"]\n",
        "corrida = [\"Marcos Santos\", \"Luciana Barbosa\", \"Ana Schimidt\", \"Marcos Santos\", \"Luis Pereira\", \"Joana Ramos\", \"André Consentino\",\"Marcela Rangel\", \"Luis Gomes\", \"Luciana Barbosa\"]"
      ]
    },
    {
      "cell_type": "code",
      "execution_count": null,
      "metadata": {},
      "outputs": [
        {
          "name": "stdout",
          "output_type": "stream",
          "text": [
            "Foram inscritos 8 na modalidade natação\n",
            "Foram inscritos 8 na modalidade ciclismo\n",
            "Foram inscritos 8 na modalidade corrida\n"
          ]
        }
      ],
      "source": [
        "natacao = set(natacao)\n",
        "ciclismo = set(ciclismo)\n",
        "corrida = set(corrida)\n",
        "\n",
        "print(f'Foram inscritos {len(natacao)} na modalidade natação')\n",
        "print(f'Foram inscritos {len(ciclismo)} na modalidade ciclismo')\n",
        "print(f'Foram inscritos {len(corrida)} na modalidade corrida')"
      ]
    },
    {
      "cell_type": "code",
      "execution_count": null,
      "metadata": {},
      "outputs": [
        {
          "name": "stdout",
          "output_type": "stream",
          "text": [
            "Os seguintes alunos estão matriculados nas três modalidades {'Ana Schimidt', 'Marcos Santos', 'Marcela Rangel', 'Luciana Barbosa'}, total: 4\n"
          ]
        }
      ],
      "source": [
        "aluno = natacao.intersection(ciclismo)\n",
        "aluno = aluno.intersection(corrida)\n",
        "\n",
        "print(f\"Os seguintes alunos estão matriculados nas três modalidades {aluno}, total: {len(aluno)}\")"
      ]
    },
    {
      "cell_type": "code",
      "execution_count": null,
      "metadata": {},
      "outputs": [
        {
          "name": "stdout",
          "output_type": "stream",
          "text": [
            "André Consentino\n",
            "Marcos Santos\n",
            "Joana Ramos\n",
            "Luciana Barbosa\n",
            "Nicolas da Silva\n",
            "Ana Schimidt\n",
            "Carlos Antunes\n",
            "Marcela Rangel\n"
          ]
        }
      ],
      "source": [
        "for i in natacao:\n",
        "    print(i)"
      ]
    },
    {
      "cell_type": "markdown",
      "metadata": {
        "id": "bSb8PexdoaCv"
      },
      "source": [
        "15) Abaixo é apresentado um dicionário contendo os seguintes dados de alguns vencedores do Prêmio Nobel da Paz:\n",
        "{Ano da premiação: (Nome, País de Origem, Ano de Nascimento, Motivação do prêmio, gênero (Feminino, Masculino ou Organização))}\n",
        "\n",
        "Faça o que se pede nos subtitens 15.1 e 15.2"
      ]
    },
    {
      "cell_type": "code",
      "execution_count": null,
      "metadata": {
        "id": "Lq5POuTjuV93"
      },
      "outputs": [],
      "source": [
        "nobel = {2011: [['Ellen Jonhson Sirleaf', 'Liberia', 1938, 'woman rights', \"F\"],['Leymah Gbowee', 'Liberia', 1972, 'woman rights', 'F'], ['Tawakkol', 'Liberia', 1979, 'woman rights', 'F' ]],\n",
        "         2012: ['Eurpean Union', 'Europe', 1952, 'human rights','O'],\n",
        "         2013: ['Organization for the Prohibition of Chemical Weapons', 'The Netherlands', 1997, 'eliminate chemical weapons', 'O'],\n",
        "         2014: [['Kailash Satyarthi', 'India', 1954, 'children education', 'M'], ['Malala Yousafzai', 'Pakistan', 1997, 'children education', 'O']],\n",
        "         2015: ['National Dialogue Quartet', 'Tunisia', 2011, 'democracy', 'O'],\n",
        "         2016: ['Juan Manuel Santos', 'Colombia', 1951, 'end of civil war', 'O'],\n",
        "         2017: ['International Campaign to Abolish Nuclear Weapons', 'Australia', 2007, 'nuclear weapons prohibition', 'O'],\n",
        "         2018: ['Denis Mukwege', 'Congo', 1955, 'end sexual violation at war', 'M'],\n",
        "         2019: ['Abiy Ahmed Ali', 'Ethiopia', 1976, 'international conflicts', 'M'],\n",
        "         2020: ['World Food Programme', 'Italy', 1961, 'combat hunger', 'O']}"
      ]
    },
    {
      "cell_type": "markdown",
      "metadata": {
        "id": "7DrKKEiSkIDE"
      },
      "source": [
        "15.1) Quais foram os vencedores do Prêmio Nobel da Paz em 2011?"
      ]
    },
    {
      "cell_type": "code",
      "execution_count": null,
      "metadata": {},
      "outputs": [
        {
          "name": "stdout",
          "output_type": "stream",
          "text": [
            "Ellen Jonhson Sirleaf\n",
            "Leymah Gbowee\n",
            "Tawakkol\n"
          ]
        }
      ],
      "source": [
        "for chave, valor in nobel.items():\n",
        "    if chave == 2011:\n",
        "        for i in valor:\n",
        "            print(i[0])"
      ]
    },
    {
      "cell_type": "markdown",
      "metadata": {
        "id": "n9q1gMCblCD7"
      },
      "source": [
        "15.2) Imprima a relação dos países de origem dos laureados com o Prêmio Nobel da Paz na última década."
      ]
    },
    {
      "cell_type": "code",
      "execution_count": null,
      "metadata": {},
      "outputs": [
        {
          "name": "stdout",
          "output_type": "stream",
          "text": [
            "<class 'list'>\n",
            "<class 'str'>\n",
            "<class 'str'>\n",
            "<class 'list'>\n",
            "<class 'str'>\n",
            "<class 'str'>\n",
            "<class 'str'>\n",
            "<class 'str'>\n",
            "<class 'str'>\n",
            "<class 'str'>\n"
          ]
        }
      ],
      "source": [
        "for i in nobel.values():\n",
        "    print(type(i[1]))\n",
        "    \n",
        "    # if len(i) == <class 'list'>:        \n",
        "    #     for i2 in i:\n",
        "    #         print(i)\n",
        "    #         # print(i2[1])"
      ]
    },
    {
      "cell_type": "markdown",
      "metadata": {
        "id": "FTUwk3-Uzikv"
      },
      "source": [
        "16) Em uma competição de salto em distância cada atleta tem direito a três saltos. O resultado do atleta será determinado pela média dos três valores saltos.\n",
        "\n",
        "Você deve fazer um programa que receba:\n",
        "\n",
        "* o nome e as três distâncias alcançadas pelo atleta em seus saltos (via input())\n",
        "* informe o nome, os saltos e a média dos saltos.\n",
        "* O programa deve ser encerrado quando não for informado o nome do atleta.\n",
        "* A saída do programa deve ser conforme o exemplo abaixo:\n",
        "\n",
        "Atleta: Rodrigo\n",
        "\n",
        "Primeiro Salto: 3 m\n",
        "\n",
        "Segundo Salto: 2 m\n",
        "\n",
        "Terceiro Salto: 4 m\n",
        "\n",
        "Resultado final:\n",
        "\n",
        "Atleta: Rodrigo\n",
        "\n",
        "Saltos: 3 - 2 - 4\n",
        "\n",
        "Média dos saltos: 3 m\n"
      ]
    },
    {
      "cell_type": "code",
      "execution_count": null,
      "metadata": {},
      "outputs": [],
      "source": []
    },
    {
      "cell_type": "markdown",
      "metadata": {
        "id": "QGkAi0Sszikw"
      },
      "source": [
        "17) Qual é a diferença entre o **while** e **for**?"
      ]
    },
    {
      "cell_type": "markdown",
      "metadata": {
        "id": "hJr6RsJ0ItTj"
      },
      "source": [
        "RESPOSTA: While é usado para quando você quer fazer uma repetição que não tenha um limite estabelecido. Por exemplo, quando você quer ficar gerando numeros aleatorios e apenas quando o numero for 948 o while vai ser interrompido. Já a função for serve para quando você quer fazer uma repetição que você já sabe o limite dela."
      ]
    },
    {
      "cell_type": "markdown",
      "metadata": {
        "id": "Si6cIK4_zikw"
      },
      "source": [
        "18) Faça um Programa que peça a idade e a altura de 3 pessoas, armazene cada informação na sua respectiva lista e imprima a idade e a altura de cada pessoa."
      ]
    },
    {
      "cell_type": "code",
      "execution_count": 29,
      "metadata": {},
      "outputs": [
        {
          "name": "stdout",
          "output_type": "stream",
          "text": [
            "<class 'dict'>\n",
            "0\n",
            "1\n",
            "2\n"
          ]
        }
      ],
      "source": [
        "i = 0\n",
        "pessoa = {}\n",
        "\n",
        "while i < 3:    \n",
        "    print(i)\n",
        "    nome = input('Digite o nome:')\n",
        "    altura = input('Digite a altura:')\n",
        "\n",
        "    pessoa[i] = {\"nome\": nome, \"altura\": altura}\n",
        "\n",
        "    i = i + 1"
      ]
    },
    {
      "cell_type": "code",
      "execution_count": 30,
      "metadata": {},
      "outputs": [
        {
          "name": "stdout",
          "output_type": "stream",
          "text": [
            "A 0º pessoa cadadastra chama-se Ésley, e mede 190 de altura.\n",
            "A 1º pessoa cadadastra chama-se Nathan, e mede 180 de altura.\n",
            "A 2º pessoa cadadastra chama-se Gomes, e mede 170 de altura.\n"
          ]
        }
      ],
      "source": [
        "for i in pessoa:\n",
        "    print(f'A {i}º pessoa cadadastra chama-se {pessoa[i][\"nome\"]}, e mede {pessoa[i][\"altura\"]} de altura.')"
      ]
    },
    {
      "cell_type": "markdown",
      "metadata": {
        "id": "z-lRJpFtzikx"
      },
      "source": [
        "19) Dados os dois vetores abaixo (listas), faça um programa que leia os dois vetores e gere um terceiro vetor de 20 elementos, cujos valores deverão ser compostos pelos elementos intercalados dos dois outros vetores."
      ]
    },
    {
      "cell_type": "code",
      "execution_count": 34,
      "metadata": {
        "id": "l9SYH_TCRDXH"
      },
      "outputs": [
        {
          "name": "stdout",
          "output_type": "stream",
          "text": [
            "[0, 1, 2, 3, 4, 5, 6, 7, 8, 9, 10, 11, 12, 13, 14, 15, 16, 17, 18, 19]\n"
          ]
        }
      ],
      "source": [
        "a = [0,2,4,6,8,10,12,14,16,18]\n",
        "b = [1,3,5,7,9,11,13,15,17,19]\n",
        "\n",
        "intercalada = []\n",
        "\n",
        "for a,b in zip(a, b):\n",
        "        intercalada.append(a)\n",
        "        intercalada.append(b)\n",
        "print(intercalada)"
      ]
    },
    {
      "cell_type": "markdown",
      "metadata": {
        "id": "4hxJCn2npn_9"
      },
      "source": [
        "20) Faça UMA FUNÇÃO que recebe um valor n e que imprima:\n",
        "  \n",
        "    1\n",
        "  \n",
        "    2   2\n",
        "  \n",
        "    3   3   3\n",
        "  \n",
        "    .....\n",
        "  \n",
        "    n   n   n   n   n   n  ... n"
      ]
    },
    {
      "cell_type": "markdown",
      "metadata": {
        "id": "DO9yCJVWp5g8"
      },
      "source": [
        "21) Faça uma FUNÇÃO que recebe um valor n e que imprima:\n",
        "  \n",
        "  1\n",
        "  \n",
        "  1   2\n",
        "  \n",
        "  1   2   3\n",
        "  \n",
        "  .....\n",
        "  \n",
        "  1   2   3   ...  n"
      ]
    },
    {
      "cell_type": "markdown",
      "metadata": {
        "id": "hmc5JPO1qYUx"
      },
      "source": [
        "22) Faça uma FUNÇÃO que retorne o reverso de um número inteiro passado por parâmetro. Por exemplo: 127 -> 721."
      ]
    },
    {
      "cell_type": "code",
      "execution_count": 39,
      "metadata": {},
      "outputs": [
        {
          "name": "stdout",
          "output_type": "stream",
          "text": [
            "001\n"
          ]
        }
      ],
      "source": [
        "inteiro = input(\"Digite um numero inteiro\")\n",
        "\n",
        "print(inteiro[::-1])\n"
      ]
    },
    {
      "cell_type": "markdown",
      "metadata": {
        "id": "TOxj_Jft9qzu"
      },
      "source": [
        "23) Faça uma função que receba dois vetores com 5 elementos aleatórios e inteiros cada. Sua função deverá retornar um terceiro vetor de 20 elementos, cujos valores deverão ser compostos pelos elementos concatenados dos dois outros vetores."
      ]
    },
    {
      "cell_type": "markdown",
      "metadata": {
        "id": "P3rFzfva9qzz"
      },
      "source": [
        "24) Faça uma função que receba uma string e retorne a quantidade de consoantes que existem nela."
      ]
    },
    {
      "cell_type": "code",
      "execution_count": 68,
      "metadata": {},
      "outputs": [
        {
          "name": "stdout",
          "output_type": "stream",
          "text": [
            "A quantidade de consoantes da palavra 'desenho' tem 3\n"
          ]
        }
      ],
      "source": [
        "palavra = input(\"Digite uma palavra\")\n",
        "\n",
        "lista_consoantes = []\n",
        "\n",
        "for i in palavra:    \n",
        "    if i == 'a':\n",
        "        lista_consoantes.append(i)\n",
        "    if i == 'e':\n",
        "        lista_consoantes.append(i)\n",
        "    if i == 'i':\n",
        "        lista_consoantes.append(i)\n",
        "    if i == 'o':\n",
        "        lista_consoantes.append(i)\n",
        "    if i == 'u':\n",
        "        lista_consoantes.append(i)\n",
        "\n",
        "print(f\"A quantidade de consoantes da palavra '{palavra}' é de {len(lista_consoantes)}.\")\n",
        "      "
      ]
    },
    {
      "cell_type": "markdown",
      "metadata": {
        "id": "PyO_WDzx9qz3"
      },
      "source": [
        "25) Altere o exercício 24 para que o retorno seja um dicionário, onde a chaves (keys) são as consoantes e os valores (values) são a quantidade de vezes em que a consoante aparece na string"
      ]
    }
  ],
  "metadata": {
    "colab": {
      "provenance": []
    },
    "kernelspec": {
      "display_name": "Python 3 (ipykernel)",
      "language": "python",
      "name": "python3"
    },
    "language_info": {
      "codemirror_mode": {
        "name": "ipython",
        "version": 3
      },
      "file_extension": ".py",
      "mimetype": "text/x-python",
      "name": "python",
      "nbconvert_exporter": "python",
      "pygments_lexer": "ipython3",
      "version": "3.11.4"
    }
  },
  "nbformat": 4,
  "nbformat_minor": 0
}
